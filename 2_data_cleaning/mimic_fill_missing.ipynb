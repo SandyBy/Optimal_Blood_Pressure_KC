{
 "cells": [
  {
   "cell_type": "code",
   "execution_count": 2,
   "metadata": {},
   "outputs": [],
   "source": [
    "import pandas as pd\n",
    "import numpy as np\n",
    "from fancyimpute import IterativeImputer"
   ]
  },
  {
   "cell_type": "code",
   "execution_count": 8,
   "metadata": {},
   "outputs": [],
   "source": [
    "df = pd.read_csv(\"./csv_folder/mimic_table1_wth_range_hosp_AKI.csv\", index_col=0)"
   ]
  },
  {
   "cell_type": "code",
   "execution_count": 11,
   "metadata": {},
   "outputs": [
    {
     "data": {
      "text/html": [
       "<div>\n",
       "<style scoped>\n",
       "    .dataframe tbody tr th:only-of-type {\n",
       "        vertical-align: middle;\n",
       "    }\n",
       "\n",
       "    .dataframe tbody tr th {\n",
       "        vertical-align: top;\n",
       "    }\n",
       "\n",
       "    .dataframe thead th {\n",
       "        text-align: right;\n",
       "    }\n",
       "</style>\n",
       "<table border=\"1\" class=\"dataframe\">\n",
       "  <thead>\n",
       "    <tr style=\"text-align: right;\">\n",
       "      <th></th>\n",
       "      <th>subject_id</th>\n",
       "      <th>hadm_id</th>\n",
       "      <th>icustay_id</th>\n",
       "      <th>gender</th>\n",
       "      <th>admittime</th>\n",
       "      <th>dischtime</th>\n",
       "      <th>los_hospital</th>\n",
       "      <th>age</th>\n",
       "      <th>ethnicity</th>\n",
       "      <th>admission_type</th>\n",
       "      <th>...</th>\n",
       "      <th>ibp_diastolic_72h</th>\n",
       "      <th>ibp_mean_24h</th>\n",
       "      <th>ibp_mean_48h</th>\n",
       "      <th>ibp_mean_72h</th>\n",
       "      <th>mbp_24_inrange</th>\n",
       "      <th>sbp_24_inrange</th>\n",
       "      <th>dbp_24_inrange</th>\n",
       "      <th>mbp_24_inrange_AKI</th>\n",
       "      <th>sbp_24_inrange_AKI</th>\n",
       "      <th>dbp_24_inrange_AKI</th>\n",
       "    </tr>\n",
       "  </thead>\n",
       "  <tbody>\n",
       "    <tr>\n",
       "      <th>0</th>\n",
       "      <td>55853</td>\n",
       "      <td>100010</td>\n",
       "      <td>271147</td>\n",
       "      <td>F</td>\n",
       "      <td>2109-12-10 07:15:00</td>\n",
       "      <td>2109-12-14 16:45:00</td>\n",
       "      <td>4.3958</td>\n",
       "      <td>54.5208</td>\n",
       "      <td>WHITE</td>\n",
       "      <td>ELECTIVE</td>\n",
       "      <td>...</td>\n",
       "      <td>50.0</td>\n",
       "      <td>66.5</td>\n",
       "      <td>68.0</td>\n",
       "      <td>68.0</td>\n",
       "      <td>0.166667</td>\n",
       "      <td>0.208333</td>\n",
       "      <td>0.041667</td>\n",
       "      <td>0.083333</td>\n",
       "      <td>0.041667</td>\n",
       "      <td>0.208333</td>\n",
       "    </tr>\n",
       "    <tr>\n",
       "      <th>1</th>\n",
       "      <td>87977</td>\n",
       "      <td>100011</td>\n",
       "      <td>214619</td>\n",
       "      <td>M</td>\n",
       "      <td>2177-08-29 04:51:00</td>\n",
       "      <td>2177-09-12 14:24:00</td>\n",
       "      <td>14.3979</td>\n",
       "      <td>21.5041</td>\n",
       "      <td>HISPANIC OR LATINO</td>\n",
       "      <td>EMERGENCY</td>\n",
       "      <td>...</td>\n",
       "      <td>72.0</td>\n",
       "      <td>84.0</td>\n",
       "      <td>91.0</td>\n",
       "      <td>92.0</td>\n",
       "      <td>0.413793</td>\n",
       "      <td>0.379310</td>\n",
       "      <td>0.068966</td>\n",
       "      <td>0.000000</td>\n",
       "      <td>0.275862</td>\n",
       "      <td>0.241379</td>\n",
       "    </tr>\n",
       "    <tr>\n",
       "      <th>2</th>\n",
       "      <td>14121</td>\n",
       "      <td>100058</td>\n",
       "      <td>297937</td>\n",
       "      <td>F</td>\n",
       "      <td>2139-09-08 21:38:00</td>\n",
       "      <td>2139-09-26 13:55:00</td>\n",
       "      <td>17.6785</td>\n",
       "      <td>56.8114</td>\n",
       "      <td>WHITE</td>\n",
       "      <td>EMERGENCY</td>\n",
       "      <td>...</td>\n",
       "      <td>57.0</td>\n",
       "      <td>79.0</td>\n",
       "      <td>78.0</td>\n",
       "      <td>77.0</td>\n",
       "      <td>0.636364</td>\n",
       "      <td>0.212121</td>\n",
       "      <td>0.000000</td>\n",
       "      <td>0.000000</td>\n",
       "      <td>0.000000</td>\n",
       "      <td>0.060606</td>\n",
       "    </tr>\n",
       "    <tr>\n",
       "      <th>3</th>\n",
       "      <td>20683</td>\n",
       "      <td>100186</td>\n",
       "      <td>203786</td>\n",
       "      <td>M</td>\n",
       "      <td>2168-01-07 19:33:00</td>\n",
       "      <td>2168-01-12 14:00:00</td>\n",
       "      <td>4.7688</td>\n",
       "      <td>19.8138</td>\n",
       "      <td>WHITE</td>\n",
       "      <td>EMERGENCY</td>\n",
       "      <td>...</td>\n",
       "      <td>59.0</td>\n",
       "      <td>77.0</td>\n",
       "      <td>77.0</td>\n",
       "      <td>77.0</td>\n",
       "      <td>0.750000</td>\n",
       "      <td>0.583333</td>\n",
       "      <td>0.000000</td>\n",
       "      <td>0.000000</td>\n",
       "      <td>0.000000</td>\n",
       "      <td>0.000000</td>\n",
       "    </tr>\n",
       "    <tr>\n",
       "      <th>4</th>\n",
       "      <td>81865</td>\n",
       "      <td>100215</td>\n",
       "      <td>248622</td>\n",
       "      <td>M</td>\n",
       "      <td>2193-05-03 20:47:00</td>\n",
       "      <td>2193-05-15 18:31:00</td>\n",
       "      <td>11.9056</td>\n",
       "      <td>48.0116</td>\n",
       "      <td>WHITE</td>\n",
       "      <td>EMERGENCY</td>\n",
       "      <td>...</td>\n",
       "      <td>66.0</td>\n",
       "      <td>82.0</td>\n",
       "      <td>80.0</td>\n",
       "      <td>81.0</td>\n",
       "      <td>0.818182</td>\n",
       "      <td>0.363636</td>\n",
       "      <td>0.090909</td>\n",
       "      <td>0.000000</td>\n",
       "      <td>0.000000</td>\n",
       "      <td>0.181818</td>\n",
       "    </tr>\n",
       "  </tbody>\n",
       "</table>\n",
       "<p>5 rows × 76 columns</p>\n",
       "</div>"
      ],
      "text/plain": [
       "   subject_id  hadm_id  icustay_id gender            admittime  \\\n",
       "0       55853   100010      271147      F  2109-12-10 07:15:00   \n",
       "1       87977   100011      214619      M  2177-08-29 04:51:00   \n",
       "2       14121   100058      297937      F  2139-09-08 21:38:00   \n",
       "3       20683   100186      203786      M  2168-01-07 19:33:00   \n",
       "4       81865   100215      248622      M  2193-05-03 20:47:00   \n",
       "\n",
       "             dischtime  los_hospital      age           ethnicity  \\\n",
       "0  2109-12-14 16:45:00        4.3958  54.5208               WHITE   \n",
       "1  2177-09-12 14:24:00       14.3979  21.5041  HISPANIC OR LATINO   \n",
       "2  2139-09-26 13:55:00       17.6785  56.8114               WHITE   \n",
       "3  2168-01-12 14:00:00        4.7688  19.8138               WHITE   \n",
       "4  2193-05-15 18:31:00       11.9056  48.0116               WHITE   \n",
       "\n",
       "  admission_type         ...          ibp_diastolic_72h  ibp_mean_24h  \\\n",
       "0       ELECTIVE         ...                       50.0          66.5   \n",
       "1      EMERGENCY         ...                       72.0          84.0   \n",
       "2      EMERGENCY         ...                       57.0          79.0   \n",
       "3      EMERGENCY         ...                       59.0          77.0   \n",
       "4      EMERGENCY         ...                       66.0          82.0   \n",
       "\n",
       "  ibp_mean_48h ibp_mean_72h mbp_24_inrange  sbp_24_inrange  dbp_24_inrange  \\\n",
       "0         68.0         68.0       0.166667        0.208333        0.041667   \n",
       "1         91.0         92.0       0.413793        0.379310        0.068966   \n",
       "2         78.0         77.0       0.636364        0.212121        0.000000   \n",
       "3         77.0         77.0       0.750000        0.583333        0.000000   \n",
       "4         80.0         81.0       0.818182        0.363636        0.090909   \n",
       "\n",
       "  mbp_24_inrange_AKI sbp_24_inrange_AKI  dbp_24_inrange_AKI  \n",
       "0           0.083333           0.041667            0.208333  \n",
       "1           0.000000           0.275862            0.241379  \n",
       "2           0.000000           0.000000            0.060606  \n",
       "3           0.000000           0.000000            0.000000  \n",
       "4           0.000000           0.000000            0.181818  \n",
       "\n",
       "[5 rows x 76 columns]"
      ]
     },
     "execution_count": 11,
     "metadata": {},
     "output_type": "execute_result"
    }
   ],
   "source": [
    "df.head()"
   ]
  },
  {
   "cell_type": "code",
   "execution_count": 102,
   "metadata": {},
   "outputs": [],
   "source": [
    "df1 = df[['icustay_id','gender','age','ethnicity','ibp_mean_24h','ibp_systolic_24h','height_first','weight_first']]\n",
    "#df_height = df1[['icustay_id','gender','age','ethnicity','ibp_mean_24h','ibp_systolic_24h','height_first','weight_first']][(df1['height_first'].isnull()) | (df1['weight_first'].isnull())]\n",
    "# df_height = df1[['icustay_id','age','ibp_mean_24h','ibp_systolic_24h','height_first','weight_first']][(df1['height_first'].isnull()) | (df1['weight_first'].isnull())]"
   ]
  },
  {
   "cell_type": "code",
   "execution_count": 103,
   "metadata": {},
   "outputs": [
    {
     "data": {
      "text/plain": [
       "(13346, 8)"
      ]
     },
     "execution_count": 103,
     "metadata": {},
     "output_type": "execute_result"
    }
   ],
   "source": [
    "df1.shape"
   ]
  },
  {
   "cell_type": "code",
   "execution_count": 104,
   "metadata": {},
   "outputs": [],
   "source": [
    "df1 = pd.get_dummies(df1, columns=['gender'])"
   ]
  },
  {
   "cell_type": "code",
   "execution_count": 105,
   "metadata": {},
   "outputs": [],
   "source": [
    "df1 = pd.get_dummies(df1, columns=['ethnicity'])"
   ]
  },
  {
   "cell_type": "code",
   "execution_count": 106,
   "metadata": {},
   "outputs": [
    {
     "data": {
      "text/html": [
       "<div>\n",
       "<style scoped>\n",
       "    .dataframe tbody tr th:only-of-type {\n",
       "        vertical-align: middle;\n",
       "    }\n",
       "\n",
       "    .dataframe tbody tr th {\n",
       "        vertical-align: top;\n",
       "    }\n",
       "\n",
       "    .dataframe thead th {\n",
       "        text-align: right;\n",
       "    }\n",
       "</style>\n",
       "<table border=\"1\" class=\"dataframe\">\n",
       "  <thead>\n",
       "    <tr style=\"text-align: right;\">\n",
       "      <th></th>\n",
       "      <th>icustay_id</th>\n",
       "      <th>age</th>\n",
       "      <th>ibp_mean_24h</th>\n",
       "      <th>ibp_systolic_24h</th>\n",
       "      <th>height_first</th>\n",
       "      <th>weight_first</th>\n",
       "      <th>gender_F</th>\n",
       "      <th>gender_M</th>\n",
       "      <th>ethnicity_AMERICAN INDIAN/ALASKA NATIVE</th>\n",
       "      <th>ethnicity_ASIAN</th>\n",
       "      <th>...</th>\n",
       "      <th>ethnicity_MIDDLE EASTERN</th>\n",
       "      <th>ethnicity_MULTI RACE ETHNICITY</th>\n",
       "      <th>ethnicity_NATIVE HAWAIIAN OR OTHER PACIFIC ISLANDER</th>\n",
       "      <th>ethnicity_PORTUGUESE</th>\n",
       "      <th>ethnicity_SOUTH AMERICAN</th>\n",
       "      <th>ethnicity_WHITE</th>\n",
       "      <th>ethnicity_WHITE - BRAZILIAN</th>\n",
       "      <th>ethnicity_WHITE - EASTERN EUROPEAN</th>\n",
       "      <th>ethnicity_WHITE - OTHER EUROPEAN</th>\n",
       "      <th>ethnicity_WHITE - RUSSIAN</th>\n",
       "    </tr>\n",
       "  </thead>\n",
       "  <tbody>\n",
       "    <tr>\n",
       "      <th>0</th>\n",
       "      <td>271147</td>\n",
       "      <td>54.5208</td>\n",
       "      <td>66.5</td>\n",
       "      <td>100.5</td>\n",
       "      <td>NaN</td>\n",
       "      <td>83.5</td>\n",
       "      <td>1</td>\n",
       "      <td>0</td>\n",
       "      <td>0</td>\n",
       "      <td>0</td>\n",
       "      <td>...</td>\n",
       "      <td>0</td>\n",
       "      <td>0</td>\n",
       "      <td>0</td>\n",
       "      <td>0</td>\n",
       "      <td>0</td>\n",
       "      <td>1</td>\n",
       "      <td>0</td>\n",
       "      <td>0</td>\n",
       "      <td>0</td>\n",
       "      <td>0</td>\n",
       "    </tr>\n",
       "    <tr>\n",
       "      <th>1</th>\n",
       "      <td>214619</td>\n",
       "      <td>21.5041</td>\n",
       "      <td>84.0</td>\n",
       "      <td>127.0</td>\n",
       "      <td>NaN</td>\n",
       "      <td>76.8</td>\n",
       "      <td>0</td>\n",
       "      <td>1</td>\n",
       "      <td>0</td>\n",
       "      <td>0</td>\n",
       "      <td>...</td>\n",
       "      <td>0</td>\n",
       "      <td>0</td>\n",
       "      <td>0</td>\n",
       "      <td>0</td>\n",
       "      <td>0</td>\n",
       "      <td>0</td>\n",
       "      <td>0</td>\n",
       "      <td>0</td>\n",
       "      <td>0</td>\n",
       "      <td>0</td>\n",
       "    </tr>\n",
       "  </tbody>\n",
       "</table>\n",
       "<p>2 rows × 41 columns</p>\n",
       "</div>"
      ],
      "text/plain": [
       "   icustay_id      age  ibp_mean_24h  ibp_systolic_24h  height_first  \\\n",
       "0      271147  54.5208          66.5             100.5           NaN   \n",
       "1      214619  21.5041          84.0             127.0           NaN   \n",
       "\n",
       "   weight_first  gender_F  gender_M  ethnicity_AMERICAN INDIAN/ALASKA NATIVE  \\\n",
       "0          83.5         1         0                                        0   \n",
       "1          76.8         0         1                                        0   \n",
       "\n",
       "   ethnicity_ASIAN            ...              ethnicity_MIDDLE EASTERN  \\\n",
       "0                0            ...                                     0   \n",
       "1                0            ...                                     0   \n",
       "\n",
       "   ethnicity_MULTI RACE ETHNICITY  \\\n",
       "0                               0   \n",
       "1                               0   \n",
       "\n",
       "   ethnicity_NATIVE HAWAIIAN OR OTHER PACIFIC ISLANDER  ethnicity_PORTUGUESE  \\\n",
       "0                                                  0                       0   \n",
       "1                                                  0                       0   \n",
       "\n",
       "   ethnicity_SOUTH AMERICAN  ethnicity_WHITE  ethnicity_WHITE - BRAZILIAN  \\\n",
       "0                         0                1                            0   \n",
       "1                         0                0                            0   \n",
       "\n",
       "   ethnicity_WHITE - EASTERN EUROPEAN  ethnicity_WHITE - OTHER EUROPEAN  \\\n",
       "0                                   0                                 0   \n",
       "1                                   0                                 0   \n",
       "\n",
       "   ethnicity_WHITE - RUSSIAN  \n",
       "0                          0  \n",
       "1                          0  \n",
       "\n",
       "[2 rows x 41 columns]"
      ]
     },
     "execution_count": 106,
     "metadata": {},
     "output_type": "execute_result"
    }
   ],
   "source": [
    "df1.head(2)"
   ]
  },
  {
   "cell_type": "code",
   "execution_count": 107,
   "metadata": {},
   "outputs": [],
   "source": [
    "MICE_imputer = IterativeImputer()\n",
    "height_MICE = df1.copy(deep=True)\n",
    "height_MICE.iloc[:, :] = MICE_imputer.fit_transform(height_MICE)"
   ]
  },
  {
   "cell_type": "code",
   "execution_count": 108,
   "metadata": {},
   "outputs": [
    {
     "data": {
      "text/html": [
       "<div>\n",
       "<style scoped>\n",
       "    .dataframe tbody tr th:only-of-type {\n",
       "        vertical-align: middle;\n",
       "    }\n",
       "\n",
       "    .dataframe tbody tr th {\n",
       "        vertical-align: top;\n",
       "    }\n",
       "\n",
       "    .dataframe thead th {\n",
       "        text-align: right;\n",
       "    }\n",
       "</style>\n",
       "<table border=\"1\" class=\"dataframe\">\n",
       "  <thead>\n",
       "    <tr style=\"text-align: right;\">\n",
       "      <th></th>\n",
       "      <th>icustay_id</th>\n",
       "      <th>age</th>\n",
       "      <th>ibp_mean_24h</th>\n",
       "      <th>ibp_systolic_24h</th>\n",
       "      <th>height_first</th>\n",
       "      <th>weight_first</th>\n",
       "      <th>gender_F</th>\n",
       "      <th>gender_M</th>\n",
       "      <th>ethnicity_AMERICAN INDIAN/ALASKA NATIVE</th>\n",
       "      <th>ethnicity_ASIAN</th>\n",
       "      <th>...</th>\n",
       "      <th>ethnicity_MIDDLE EASTERN</th>\n",
       "      <th>ethnicity_MULTI RACE ETHNICITY</th>\n",
       "      <th>ethnicity_NATIVE HAWAIIAN OR OTHER PACIFIC ISLANDER</th>\n",
       "      <th>ethnicity_PORTUGUESE</th>\n",
       "      <th>ethnicity_SOUTH AMERICAN</th>\n",
       "      <th>ethnicity_WHITE</th>\n",
       "      <th>ethnicity_WHITE - BRAZILIAN</th>\n",
       "      <th>ethnicity_WHITE - EASTERN EUROPEAN</th>\n",
       "      <th>ethnicity_WHITE - OTHER EUROPEAN</th>\n",
       "      <th>ethnicity_WHITE - RUSSIAN</th>\n",
       "    </tr>\n",
       "  </thead>\n",
       "  <tbody>\n",
       "    <tr>\n",
       "      <th>0</th>\n",
       "      <td>271147.0</td>\n",
       "      <td>54.5208</td>\n",
       "      <td>66.5</td>\n",
       "      <td>100.5</td>\n",
       "      <td>161.680716</td>\n",
       "      <td>83.5</td>\n",
       "      <td>1.0</td>\n",
       "      <td>0.0</td>\n",
       "      <td>0.0</td>\n",
       "      <td>0.0</td>\n",
       "      <td>...</td>\n",
       "      <td>0.0</td>\n",
       "      <td>0.0</td>\n",
       "      <td>0.0</td>\n",
       "      <td>0.0</td>\n",
       "      <td>0.0</td>\n",
       "      <td>1.0</td>\n",
       "      <td>0.0</td>\n",
       "      <td>0.0</td>\n",
       "      <td>0.0</td>\n",
       "      <td>0.0</td>\n",
       "    </tr>\n",
       "    <tr>\n",
       "      <th>1</th>\n",
       "      <td>214619.0</td>\n",
       "      <td>21.5041</td>\n",
       "      <td>84.0</td>\n",
       "      <td>127.0</td>\n",
       "      <td>171.773141</td>\n",
       "      <td>76.8</td>\n",
       "      <td>0.0</td>\n",
       "      <td>1.0</td>\n",
       "      <td>0.0</td>\n",
       "      <td>0.0</td>\n",
       "      <td>...</td>\n",
       "      <td>0.0</td>\n",
       "      <td>0.0</td>\n",
       "      <td>0.0</td>\n",
       "      <td>0.0</td>\n",
       "      <td>0.0</td>\n",
       "      <td>0.0</td>\n",
       "      <td>0.0</td>\n",
       "      <td>0.0</td>\n",
       "      <td>0.0</td>\n",
       "      <td>0.0</td>\n",
       "    </tr>\n",
       "  </tbody>\n",
       "</table>\n",
       "<p>2 rows × 41 columns</p>\n",
       "</div>"
      ],
      "text/plain": [
       "   icustay_id      age  ibp_mean_24h  ibp_systolic_24h  height_first  \\\n",
       "0    271147.0  54.5208          66.5             100.5    161.680716   \n",
       "1    214619.0  21.5041          84.0             127.0    171.773141   \n",
       "\n",
       "   weight_first  gender_F  gender_M  ethnicity_AMERICAN INDIAN/ALASKA NATIVE  \\\n",
       "0          83.5       1.0       0.0                                      0.0   \n",
       "1          76.8       0.0       1.0                                      0.0   \n",
       "\n",
       "   ethnicity_ASIAN            ...              ethnicity_MIDDLE EASTERN  \\\n",
       "0              0.0            ...                                   0.0   \n",
       "1              0.0            ...                                   0.0   \n",
       "\n",
       "   ethnicity_MULTI RACE ETHNICITY  \\\n",
       "0                             0.0   \n",
       "1                             0.0   \n",
       "\n",
       "   ethnicity_NATIVE HAWAIIAN OR OTHER PACIFIC ISLANDER  ethnicity_PORTUGUESE  \\\n",
       "0                                                0.0                     0.0   \n",
       "1                                                0.0                     0.0   \n",
       "\n",
       "   ethnicity_SOUTH AMERICAN  ethnicity_WHITE  ethnicity_WHITE - BRAZILIAN  \\\n",
       "0                       0.0              1.0                          0.0   \n",
       "1                       0.0              0.0                          0.0   \n",
       "\n",
       "   ethnicity_WHITE - EASTERN EUROPEAN  ethnicity_WHITE - OTHER EUROPEAN  \\\n",
       "0                                 0.0                               0.0   \n",
       "1                                 0.0                               0.0   \n",
       "\n",
       "   ethnicity_WHITE - RUSSIAN  \n",
       "0                        0.0  \n",
       "1                        0.0  \n",
       "\n",
       "[2 rows x 41 columns]"
      ]
     },
     "execution_count": 108,
     "metadata": {},
     "output_type": "execute_result"
    }
   ],
   "source": [
    "height_MICE.head(2)"
   ]
  },
  {
   "cell_type": "code",
   "execution_count": 109,
   "metadata": {},
   "outputs": [
    {
     "data": {
      "text/plain": [
       "False"
      ]
     },
     "execution_count": 109,
     "metadata": {},
     "output_type": "execute_result"
    }
   ],
   "source": [
    "height_MICE['height_first'].isnull().values.any()"
   ]
  },
  {
   "cell_type": "code",
   "execution_count": 110,
   "metadata": {},
   "outputs": [
    {
     "data": {
      "text/plain": [
       "False"
      ]
     },
     "execution_count": 110,
     "metadata": {},
     "output_type": "execute_result"
    }
   ],
   "source": [
    "height_MICE['weight_first'].isnull().values.any()"
   ]
  },
  {
   "cell_type": "code",
   "execution_count": 111,
   "metadata": {},
   "outputs": [
    {
     "data": {
      "text/plain": [
       "(13346, 41)"
      ]
     },
     "execution_count": 111,
     "metadata": {},
     "output_type": "execute_result"
    }
   ],
   "source": [
    "height_MICE.shape"
   ]
  },
  {
   "cell_type": "code",
   "execution_count": 112,
   "metadata": {},
   "outputs": [],
   "source": [
    "df_impute = height_MICE.filter(['icustay_id','height_first','weight_first'],axis=1)"
   ]
  },
  {
   "cell_type": "code",
   "execution_count": 113,
   "metadata": {},
   "outputs": [],
   "source": [
    "df_impute.columns = ['icustay_id','height_impute','weight_impute']"
   ]
  },
  {
   "cell_type": "code",
   "execution_count": 114,
   "metadata": {},
   "outputs": [],
   "source": [
    "df3 = pd.merge(df, df_impute, how='left', on=['icustay_id'])"
   ]
  },
  {
   "cell_type": "code",
   "execution_count": 115,
   "metadata": {},
   "outputs": [
    {
     "name": "stdout",
     "output_type": "stream",
     "text": [
      "subject_id\n",
      "hadm_id\n",
      "icustay_id\n",
      "gender\n",
      "admittime\n",
      "dischtime\n",
      "los_hospital\n",
      "age\n",
      "ethnicity\n",
      "admission_type\n",
      "hospital_expire_flag\n",
      "hospstay_seq\n",
      "first_hosp_stay\n",
      "intime\n",
      "outtime\n",
      "los_icu\n",
      "icustay_seq\n",
      "first_icu_stay\n",
      "first_careunit\n",
      "weight_first\n",
      "height_first\n",
      "icu_mortality\n",
      "vent_duration_days\n",
      "nettotal\n",
      "hypertension\n",
      "congestive_heart_failure\n",
      "diabetes\n",
      "hadm_id.1\n",
      "afib\n",
      "ckd\n",
      "cld\n",
      "copd\n",
      "cereb\n",
      "ihd\n",
      "cancer\n",
      "aki_48hr\n",
      "sepsis\n",
      "vaspor\n",
      "vaspin\n",
      "apsiii\n",
      "apsiii_prob\n",
      "sofa\n",
      "first_24_vasso_hours\n",
      "first_24_vasso_counts\n",
      "first_48_vasso_hours\n",
      "first_48_vasso_counts\n",
      "first_72_vasso_hours\n",
      "first_72_vasso_counts\n",
      "exclude_vaso\n",
      "exclude_age\n",
      "exclude_ethnicity\n",
      "exclude_height_first\n",
      "exclude_weight_first\n",
      "bmi\n",
      "exclude_los_mortality\n",
      "heartrate\n",
      "resprate\n",
      "exclude_heartrate\n",
      "exclude_resprate\n",
      "tempc\n",
      "exclude_tempc\n",
      "ibp_systolic_24h\n",
      "ibp_systolic_48h\n",
      "ibp_systolic_72h\n",
      "ibp_diastolic_24h\n",
      "ibp_diastolic_48h\n",
      "ibp_diastolic_72h\n",
      "ibp_mean_24h\n",
      "ibp_mean_48h\n",
      "ibp_mean_72h\n",
      "mbp_24_inrange\n",
      "sbp_24_inrange\n",
      "dbp_24_inrange\n",
      "mbp_24_inrange_AKI\n",
      "sbp_24_inrange_AKI\n",
      "dbp_24_inrange_AKI\n",
      "height_impute\n",
      "weight_impute\n"
     ]
    }
   ],
   "source": [
    "df3.columns"
   ]
  },
  {
   "cell_type": "code",
   "execution_count": 116,
   "metadata": {},
   "outputs": [
    {
     "data": {
      "text/plain": [
       "False"
      ]
     },
     "execution_count": 116,
     "metadata": {},
     "output_type": "execute_result"
    }
   ],
   "source": [
    "df3['weight_impute'].isnull().values.any()"
   ]
  },
  {
   "cell_type": "code",
   "execution_count": 120,
   "metadata": {},
   "outputs": [
    {
     "data": {
      "text/plain": [
       "False"
      ]
     },
     "execution_count": 120,
     "metadata": {},
     "output_type": "execute_result"
    }
   ],
   "source": [
    "df3['height_impute'].isnull().values.any()"
   ]
  },
  {
   "cell_type": "code",
   "execution_count": 119,
   "metadata": {},
   "outputs": [
    {
     "data": {
      "text/plain": [
       "True"
      ]
     },
     "execution_count": 119,
     "metadata": {},
     "output_type": "execute_result"
    }
   ],
   "source": [
    "df3['height_first'].isnull().values.any()"
   ]
  },
  {
   "cell_type": "code",
   "execution_count": 117,
   "metadata": {},
   "outputs": [
    {
     "data": {
      "text/plain": [
       "True"
      ]
     },
     "execution_count": 117,
     "metadata": {},
     "output_type": "execute_result"
    }
   ],
   "source": [
    "df3['weight_first'].isnull().values.any()"
   ]
  },
  {
   "cell_type": "code",
   "execution_count": 123,
   "metadata": {},
   "outputs": [],
   "source": [
    "fig = df3['height_impute'].plot"
   ]
  },
  {
   "cell_type": "code",
   "execution_count": 133,
   "metadata": {},
   "outputs": [
    {
     "data": {
      "text/plain": [
       "170.18"
      ]
     },
     "execution_count": 133,
     "metadata": {},
     "output_type": "execute_result"
    }
   ],
   "source": [
    "df3['height_impute'].median()"
   ]
  },
  {
   "cell_type": "code",
   "execution_count": 134,
   "metadata": {},
   "outputs": [
    {
     "data": {
      "text/plain": [
       "170.18"
      ]
     },
     "execution_count": 134,
     "metadata": {},
     "output_type": "execute_result"
    }
   ],
   "source": [
    "df3['height_first'].median()"
   ]
  },
  {
   "cell_type": "code",
   "execution_count": 135,
   "metadata": {},
   "outputs": [],
   "source": [
    "df3.to_csv(\"./csv_folder/mimic_with_imputation.csv\")"
   ]
  },
  {
   "cell_type": "code",
   "execution_count": null,
   "metadata": {},
   "outputs": [],
   "source": []
  }
 ],
 "metadata": {
  "kernelspec": {
   "display_name": "Python 3",
   "language": "python",
   "name": "py3"
  },
  "language_info": {
   "codemirror_mode": {
    "name": "ipython",
    "version": 3
   },
   "file_extension": ".py",
   "mimetype": "text/x-python",
   "name": "python",
   "nbconvert_exporter": "python",
   "pygments_lexer": "ipython3",
   "version": "3.6.5"
  }
 },
 "nbformat": 4,
 "nbformat_minor": 2
}
