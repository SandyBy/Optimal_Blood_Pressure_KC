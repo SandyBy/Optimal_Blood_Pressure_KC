{
 "cells": [
  {
   "cell_type": "code",
   "execution_count": 2,
   "metadata": {},
   "outputs": [],
   "source": [
    "import pandas as pd\n",
    "import numpy as np\n",
    "from fancyimpute import IterativeImputer"
   ]
  },
  {
   "cell_type": "code",
   "execution_count": 68,
   "metadata": {},
   "outputs": [
    {
     "data": {
      "text/plain": [
       "(21338, 57)"
      ]
     },
     "execution_count": 68,
     "metadata": {},
     "output_type": "execute_result"
    }
   ],
   "source": [
    "df0 = pd.read_csv(\"./csv_folder/eicu_processed.csv\", index_col = 0,engine = 'python')\n",
    "df0.shape"
   ]
  },
  {
   "cell_type": "code",
   "execution_count": 72,
   "metadata": {},
   "outputs": [
    {
     "data": {
      "text/plain": [
       "array(['> 89'], dtype=object)"
      ]
     },
     "execution_count": 72,
     "metadata": {},
     "output_type": "execute_result"
    }
   ],
   "source": [
    "df0[(df0['exclude_age']==True)]['age'].unique()"
   ]
  },
  {
   "cell_type": "code",
   "execution_count": 92,
   "metadata": {},
   "outputs": [],
   "source": [
    "df0.loc[(df0['exclude_age']==True),'age'] = 1000\n",
    "df0['age'] = df0['age'].astype(int)\n",
    "df0.loc[(df0['age']<16) |(df0['age']>89) ,'exclude_age']=True"
   ]
  },
  {
   "cell_type": "code",
   "execution_count": 93,
   "metadata": {},
   "outputs": [
    {
     "data": {
      "text/plain": [
       "array([1000,   15,   14])"
      ]
     },
     "execution_count": 93,
     "metadata": {},
     "output_type": "execute_result"
    }
   ],
   "source": [
    "df0[(df0['exclude_age']==True)]['age'].unique()"
   ]
  },
  {
   "cell_type": "code",
   "execution_count": 94,
   "metadata": {},
   "outputs": [
    {
     "data": {
      "text/plain": [
       "(526,)"
      ]
     },
     "execution_count": 94,
     "metadata": {},
     "output_type": "execute_result"
    }
   ],
   "source": [
    "df0[(df0['exclude_age']==True)]['age'].shape"
   ]
  },
  {
   "cell_type": "code",
   "execution_count": 97,
   "metadata": {},
   "outputs": [
    {
     "data": {
      "text/plain": [
       "array(['Unknown'], dtype=object)"
      ]
     },
     "execution_count": 97,
     "metadata": {},
     "output_type": "execute_result"
    }
   ],
   "source": [
    "df0[(df0['exclude_gender']==True)]['gender'].unique()\n"
   ]
  },
  {
   "cell_type": "code",
   "execution_count": 98,
   "metadata": {},
   "outputs": [
    {
     "data": {
      "text/plain": [
       "(2,)"
      ]
     },
     "execution_count": 98,
     "metadata": {},
     "output_type": "execute_result"
    }
   ],
   "source": [
    "df0[(df0['exclude_gender']==True)]['gender'].shape\n"
   ]
  },
  {
   "cell_type": "code",
   "execution_count": 100,
   "metadata": {},
   "outputs": [
    {
     "data": {
      "text/plain": [
       "3     NaN\n",
       "18    NaN\n",
       "32    NaN\n",
       "58    NaN\n",
       "67    NaN\n",
       "Name: hosp_mort, dtype: object"
      ]
     },
     "execution_count": 100,
     "metadata": {},
     "output_type": "execute_result"
    }
   ],
   "source": [
    "df0[(df0['exclude_mort_los']==True)]['hosp_mort'].head()\n"
   ]
  },
  {
   "cell_type": "code",
   "execution_count": 103,
   "metadata": {},
   "outputs": [
    {
     "data": {
      "text/plain": [
       "(1696,)"
      ]
     },
     "execution_count": 103,
     "metadata": {},
     "output_type": "execute_result"
    }
   ],
   "source": [
    "\n",
    "df0.loc[df0['apache_iv']== -1,'exclude_apache']=True\n",
    "df0[df0['exclude_apache']==True]['apache_iv'].shape"
   ]
  },
  {
   "cell_type": "code",
   "execution_count": 105,
   "metadata": {},
   "outputs": [
    {
     "data": {
      "text/plain": [
       "array([nan, -1.])"
      ]
     },
     "execution_count": 105,
     "metadata": {},
     "output_type": "execute_result"
    }
   ],
   "source": [
    "df0[df0['exclude_apache']== True]['apache_iv'].unique()"
   ]
  },
  {
   "cell_type": "code",
   "execution_count": 108,
   "metadata": {},
   "outputs": [
    {
     "data": {
      "text/plain": [
       "(2177, 57)"
      ]
     },
     "execution_count": 108,
     "metadata": {},
     "output_type": "execute_result"
    }
   ],
   "source": [
    "\n",
    "df_exclude = df0[(df0['exclude_age']==True) | (df0['exclude_gender']==True )|(df0['exclude_mort_los']==True) |(df0['exclude_apache']==True) ]\n",
    "df_exclude.shape"
   ]
  },
  {
   "cell_type": "code",
   "execution_count": 106,
   "metadata": {},
   "outputs": [
    {
     "data": {
      "text/plain": [
       "(19161, 57)"
      ]
     },
     "execution_count": 106,
     "metadata": {},
     "output_type": "execute_result"
    }
   ],
   "source": [
    "\n",
    "df1 = df0[(df0['exclude_age']==False) & (df0['exclude_gender']==False )&(df0['exclude_mort_los']==False) &(df0['exclude_apache']==False) ]\n",
    "df1.shape"
   ]
  },
  {
   "cell_type": "code",
   "execution_count": 118,
   "metadata": {},
   "outputs": [
    {
     "data": {
      "text/plain": [
       "(4257, 57)"
      ]
     },
     "execution_count": 118,
     "metadata": {},
     "output_type": "execute_result"
    }
   ],
   "source": [
    "df_exclude= df1[(df1['ibp_mean_24h'].isnull()) | (df1['ibp_systolic_24h'].isnull()) | (df1['ibp_diastolic_24h'].isnull())]\n",
    "df_exclude.shape"
   ]
  },
  {
   "cell_type": "code",
   "execution_count": 116,
   "metadata": {},
   "outputs": [
    {
     "data": {
      "text/plain": [
       "(3885, 57)"
      ]
     },
     "execution_count": 116,
     "metadata": {},
     "output_type": "execute_result"
    }
   ],
   "source": [
    "df_exclude= df1[(df1['ibp_systolic_24h'].isnull())]\n",
    "df_exclude.shape"
   ]
  },
  {
   "cell_type": "code",
   "execution_count": 112,
   "metadata": {},
   "outputs": [
    {
     "data": {
      "text/html": [
       "<div>\n",
       "<style scoped>\n",
       "    .dataframe tbody tr th:only-of-type {\n",
       "        vertical-align: middle;\n",
       "    }\n",
       "\n",
       "    .dataframe tbody tr th {\n",
       "        vertical-align: top;\n",
       "    }\n",
       "\n",
       "    .dataframe thead th {\n",
       "        text-align: right;\n",
       "    }\n",
       "</style>\n",
       "<table border=\"1\" class=\"dataframe\">\n",
       "  <thead>\n",
       "    <tr style=\"text-align: right;\">\n",
       "      <th></th>\n",
       "      <th>patientunitstayid</th>\n",
       "      <th>age</th>\n",
       "      <th>gender</th>\n",
       "      <th>ethnicity</th>\n",
       "      <th>unittype</th>\n",
       "      <th>admissionheight</th>\n",
       "      <th>admissionweight</th>\n",
       "      <th>icu_mort</th>\n",
       "      <th>icu_los</th>\n",
       "      <th>hosp_mort</th>\n",
       "      <th>...</th>\n",
       "      <th>exclude_temperature</th>\n",
       "      <th>ibp_systolic_24h</th>\n",
       "      <th>ibp_systolic_48h</th>\n",
       "      <th>ibp_systolic_72h</th>\n",
       "      <th>ibp_diastolic_24h</th>\n",
       "      <th>ibp_diastolic_48h</th>\n",
       "      <th>ibp_diastolic_72h</th>\n",
       "      <th>ibp_mean_24h</th>\n",
       "      <th>ibp_mean_48h</th>\n",
       "      <th>ibp_mean_72h</th>\n",
       "    </tr>\n",
       "  </thead>\n",
       "  <tbody>\n",
       "    <tr>\n",
       "      <th>0</th>\n",
       "      <td>141168</td>\n",
       "      <td>70</td>\n",
       "      <td>Female</td>\n",
       "      <td>Caucasian</td>\n",
       "      <td>Med-Surg ICU</td>\n",
       "      <td>152.4</td>\n",
       "      <td>84.3</td>\n",
       "      <td>EXPIRED</td>\n",
       "      <td>2.4972</td>\n",
       "      <td>EXPIRED</td>\n",
       "      <td>...</td>\n",
       "      <td>False</td>\n",
       "      <td>NaN</td>\n",
       "      <td>98.0</td>\n",
       "      <td>98.0</td>\n",
       "      <td>NaN</td>\n",
       "      <td>56.0</td>\n",
       "      <td>56.0</td>\n",
       "      <td>79.5</td>\n",
       "      <td>79.0</td>\n",
       "      <td>79.0</td>\n",
       "    </tr>\n",
       "    <tr>\n",
       "      <th>2</th>\n",
       "      <td>141203</td>\n",
       "      <td>77</td>\n",
       "      <td>Female</td>\n",
       "      <td>Caucasian</td>\n",
       "      <td>Med-Surg ICU</td>\n",
       "      <td>160.0</td>\n",
       "      <td>70.2</td>\n",
       "      <td>ALIVE</td>\n",
       "      <td>1.2979</td>\n",
       "      <td>ALIVE</td>\n",
       "      <td>...</td>\n",
       "      <td>False</td>\n",
       "      <td>NaN</td>\n",
       "      <td>NaN</td>\n",
       "      <td>NaN</td>\n",
       "      <td>NaN</td>\n",
       "      <td>NaN</td>\n",
       "      <td>NaN</td>\n",
       "      <td>73.0</td>\n",
       "      <td>73.0</td>\n",
       "      <td>73.0</td>\n",
       "    </tr>\n",
       "  </tbody>\n",
       "</table>\n",
       "<p>2 rows × 57 columns</p>\n",
       "</div>"
      ],
      "text/plain": [
       "   patientunitstayid  age  gender  ethnicity      unittype  admissionheight  \\\n",
       "0             141168   70  Female  Caucasian  Med-Surg ICU            152.4   \n",
       "2             141203   77  Female  Caucasian  Med-Surg ICU            160.0   \n",
       "\n",
       "   admissionweight icu_mort  icu_los hosp_mort      ...       \\\n",
       "0             84.3  EXPIRED   2.4972   EXPIRED      ...        \n",
       "2             70.2    ALIVE   1.2979     ALIVE      ...        \n",
       "\n",
       "   exclude_temperature  ibp_systolic_24h  ibp_systolic_48h  ibp_systolic_72h  \\\n",
       "0                False               NaN              98.0              98.0   \n",
       "2                False               NaN               NaN               NaN   \n",
       "\n",
       "   ibp_diastolic_24h  ibp_diastolic_48h  ibp_diastolic_72h  ibp_mean_24h  \\\n",
       "0                NaN               56.0               56.0          79.5   \n",
       "2                NaN                NaN                NaN          73.0   \n",
       "\n",
       "   ibp_mean_48h  ibp_mean_72h  \n",
       "0          79.0          79.0  \n",
       "2          73.0          73.0  \n",
       "\n",
       "[2 rows x 57 columns]"
      ]
     },
     "execution_count": 112,
     "metadata": {},
     "output_type": "execute_result"
    }
   ],
   "source": [
    "df_exclude.head(2)"
   ]
  },
  {
   "cell_type": "code",
   "execution_count": 157,
   "metadata": {},
   "outputs": [
    {
     "data": {
      "text/plain": [
       "(14904, 57)"
      ]
     },
     "execution_count": 157,
     "metadata": {},
     "output_type": "execute_result"
    }
   ],
   "source": [
    "df2= df1[(df1['ibp_mean_24h'].notnull()) & (df1['ibp_systolic_24h'].notnull()) & (df1['ibp_diastolic_24h'].notnull())]\n",
    "df2.shape"
   ]
  },
  {
   "cell_type": "code",
   "execution_count": 120,
   "metadata": {},
   "outputs": [
    {
     "name": "stderr",
     "output_type": "stream",
     "text": [
      "/home/ephlius/.virtualenvs/3/lib/python3.6/site-packages/pandas/core/indexing.py:543: SettingWithCopyWarning: \n",
      "A value is trying to be set on a copy of a slice from a DataFrame.\n",
      "Try using .loc[row_indexer,col_indexer] = value instead\n",
      "\n",
      "See the caveats in the documentation: http://pandas.pydata.org/pandas-docs/stable/indexing.html#indexing-view-versus-copy\n",
      "  self.obj[item] = s\n"
     ]
    }
   ],
   "source": [
    "df2.loc[df2['ethnicity'].isna(), 'ethnicity'] = \"Others\""
   ]
  },
  {
   "cell_type": "code",
   "execution_count": 121,
   "metadata": {},
   "outputs": [
    {
     "data": {
      "text/plain": [
       "array(['Caucasian', 'Hispanic', 'Others', 'African American',\n",
       "       'Native American', 'Asian'], dtype=object)"
      ]
     },
     "execution_count": 121,
     "metadata": {},
     "output_type": "execute_result"
    }
   ],
   "source": [
    "df2.ethnicity.unique()"
   ]
  },
  {
   "cell_type": "code",
   "execution_count": 122,
   "metadata": {},
   "outputs": [
    {
     "data": {
      "text/plain": [
       "Index(['patientunitstayid', 'age', 'gender', 'ethnicity', 'unittype',\n",
       "       'admissionheight', 'admissionweight', 'icu_mort', 'icu_los',\n",
       "       'hosp_mort', 'hosp_los', 'ventilation_duration_days', 'nettotal',\n",
       "       'hypertension', 'atrial_fibrillation', 'cancer', 'chf', 'ckd', 'cld',\n",
       "       'copd', 'diabetes', 'ihd', 'cebrovascular_accident', 'sepsis_binary',\n",
       "       'vasopressin', 'aki_creat', 'apache_iv', 'aki_uo', 'AKI', '24hrs_hr',\n",
       "       '48hrs_hr', '72hrs_hr', 'exclude_vaso', 'sofatotal', 'exclude_age',\n",
       "       'exclude_gender', 'exclude_ethnicity', 'exclude_admissionheight',\n",
       "       'exclude_admissionweight', 'bmi', 'exclude_mort_los', 'exclude_apache',\n",
       "       'heartrate', 'respiratoryrate', 'exclude_heartrate',\n",
       "       'exclude_respiratoryrate', 'temperature', 'exclude_temperature',\n",
       "       'ibp_systolic_24h', 'ibp_systolic_48h', 'ibp_systolic_72h',\n",
       "       'ibp_diastolic_24h', 'ibp_diastolic_48h', 'ibp_diastolic_72h',\n",
       "       'ibp_mean_24h', 'ibp_mean_48h', 'ibp_mean_72h'],\n",
       "      dtype='object')"
      ]
     },
     "execution_count": 122,
     "metadata": {},
     "output_type": "execute_result"
    }
   ],
   "source": [
    "df2.columns"
   ]
  },
  {
   "cell_type": "code",
   "execution_count": 142,
   "metadata": {},
   "outputs": [
    {
     "data": {
      "text/plain": [
       "(14904, 57)"
      ]
     },
     "execution_count": 142,
     "metadata": {},
     "output_type": "execute_result"
    }
   ],
   "source": [
    "df2.shape"
   ]
  },
  {
   "cell_type": "code",
   "execution_count": 123,
   "metadata": {},
   "outputs": [
    {
     "name": "stderr",
     "output_type": "stream",
     "text": [
      "/home/ephlius/.virtualenvs/3/lib/python3.6/site-packages/pandas/core/indexing.py:543: SettingWithCopyWarning: \n",
      "A value is trying to be set on a copy of a slice from a DataFrame.\n",
      "Try using .loc[row_indexer,col_indexer] = value instead\n",
      "\n",
      "See the caveats in the documentation: http://pandas.pydata.org/pandas-docs/stable/indexing.html#indexing-view-versus-copy\n",
      "  self.obj[item] = s\n"
     ]
    }
   ],
   "source": [
    "df2.loc[df2['24hrs_hr'].isna(),'24hrs_hr']=0\n",
    "df2.loc[df2['48hrs_hr'].isna(),'48hrs_hr']=0\n",
    "df2.loc[df2['72hrs_hr'].isna(),'72hrs_hr']=0"
   ]
  },
  {
   "cell_type": "code",
   "execution_count": 124,
   "metadata": {},
   "outputs": [
    {
     "name": "stderr",
     "output_type": "stream",
     "text": [
      "/home/ephlius/.virtualenvs/3/lib/python3.6/site-packages/ipykernel_launcher.py:1: SettingWithCopyWarning: \n",
      "A value is trying to be set on a copy of a slice from a DataFrame.\n",
      "Try using .loc[row_indexer,col_indexer] = value instead\n",
      "\n",
      "See the caveats in the documentation: http://pandas.pydata.org/pandas-docs/stable/indexing.html#indexing-view-versus-copy\n",
      "  \"\"\"Entry point for launching an IPython kernel.\n"
     ]
    }
   ],
   "source": [
    "df2['age']=df2['age'].astype(int)"
   ]
  },
  {
   "cell_type": "code",
   "execution_count": 143,
   "metadata": {},
   "outputs": [],
   "source": [
    "df3 = df2[['patientunitstayid','gender','age','ethnicity','ibp_mean_24h','ibp_systolic_24h','admissionheight','admissionweight']]\n",
    "df3 = pd.get_dummies(df3, columns=['gender'])\n",
    "df3 = pd.get_dummies(df3, columns=['ethnicity'])"
   ]
  },
  {
   "cell_type": "code",
   "execution_count": 144,
   "metadata": {},
   "outputs": [],
   "source": [
    "MICE_imputer = IterativeImputer()\n",
    "height_MICE = df3.copy(deep=True)\n",
    "height_MICE.iloc[:, :] = MICE_imputer.fit_transform(height_MICE)"
   ]
  },
  {
   "cell_type": "code",
   "execution_count": 145,
   "metadata": {},
   "outputs": [],
   "source": [
    "df_impute = height_MICE.filter(['patientunitstayid','admissionheight','admissionweight'],axis=1)\n",
    "df_impute.columns = ['patientunitstayid','height_impute','weight_impute']"
   ]
  },
  {
   "cell_type": "code",
   "execution_count": 146,
   "metadata": {},
   "outputs": [],
   "source": [
    "df4 = pd.merge(df2, df_impute, how='left', on=['patientunitstayid'])"
   ]
  },
  {
   "cell_type": "code",
   "execution_count": 147,
   "metadata": {},
   "outputs": [
    {
     "data": {
      "text/plain": [
       "Index(['patientunitstayid', 'age', 'gender', 'ethnicity', 'unittype',\n",
       "       'admissionheight', 'admissionweight', 'icu_mort', 'icu_los',\n",
       "       'hosp_mort', 'hosp_los', 'ventilation_duration_days', 'nettotal',\n",
       "       'hypertension', 'atrial_fibrillation', 'cancer', 'chf', 'ckd', 'cld',\n",
       "       'copd', 'diabetes', 'ihd', 'cebrovascular_accident', 'sepsis_binary',\n",
       "       'vasopressin', 'aki_creat', 'apache_iv', 'aki_uo', 'AKI', '24hrs_hr',\n",
       "       '48hrs_hr', '72hrs_hr', 'exclude_vaso', 'sofatotal', 'exclude_age',\n",
       "       'exclude_gender', 'exclude_ethnicity', 'exclude_admissionheight',\n",
       "       'exclude_admissionweight', 'bmi', 'exclude_mort_los', 'exclude_apache',\n",
       "       'heartrate', 'respiratoryrate', 'exclude_heartrate',\n",
       "       'exclude_respiratoryrate', 'temperature', 'exclude_temperature',\n",
       "       'ibp_systolic_24h', 'ibp_systolic_48h', 'ibp_systolic_72h',\n",
       "       'ibp_diastolic_24h', 'ibp_diastolic_48h', 'ibp_diastolic_72h',\n",
       "       'ibp_mean_24h', 'ibp_mean_48h', 'ibp_mean_72h', 'height_impute',\n",
       "       'weight_impute'],\n",
       "      dtype='object')"
      ]
     },
     "execution_count": 147,
     "metadata": {},
     "output_type": "execute_result"
    }
   ],
   "source": [
    "df4.columns"
   ]
  },
  {
   "cell_type": "code",
   "execution_count": 148,
   "metadata": {},
   "outputs": [
    {
     "data": {
      "text/plain": [
       "(14904, 59)"
      ]
     },
     "execution_count": 148,
     "metadata": {},
     "output_type": "execute_result"
    }
   ],
   "source": [
    "df4.shape"
   ]
  },
  {
   "cell_type": "code",
   "execution_count": 130,
   "metadata": {},
   "outputs": [
    {
     "data": {
      "text/plain": [
       "count    14904.000000\n",
       "mean       170.303890\n",
       "std         12.360241\n",
       "min          0.000000\n",
       "25%        162.600000\n",
       "50%        170.200000\n",
       "75%        177.800000\n",
       "max        227.300000\n",
       "Name: height_impute, dtype: float64"
      ]
     },
     "execution_count": 130,
     "metadata": {},
     "output_type": "execute_result"
    }
   ],
   "source": [
    "df4.height_impute.describe()"
   ]
  },
  {
   "cell_type": "code",
   "execution_count": 149,
   "metadata": {},
   "outputs": [],
   "source": [
    "height_min = df4['height_impute'].quantile(.25) - 1.5 * (df4['height_impute'].quantile(.75) - df4['height_impute'].quantile(.25)) # 139.8\n",
    "height_max = df4['height_impute'].quantile(.75) + 1.5 * (df4['height_impute'].quantile(.75) - df4['height_impute'].quantile(.25)) # 200.6"
   ]
  },
  {
   "cell_type": "code",
   "execution_count": 150,
   "metadata": {},
   "outputs": [],
   "source": [
    "df4['exclude_height'] = False\n",
    "df4.loc[(df4['height_impute']>height_max )|(df4['height_impute']<height_min ),'exclude_height'] = True"
   ]
  },
  {
   "cell_type": "code",
   "execution_count": 134,
   "metadata": {},
   "outputs": [
    {
     "data": {
      "text/plain": [
       "count    14811.000000\n",
       "mean       170.664666\n",
       "std         10.305824\n",
       "min        140.000000\n",
       "25%        162.600000\n",
       "50%        170.200000\n",
       "75%        177.800000\n",
       "max        200.000000\n",
       "Name: height_impute, dtype: float64"
      ]
     },
     "execution_count": 134,
     "metadata": {},
     "output_type": "execute_result"
    }
   ],
   "source": [
    "df4[df4['exclude_height']==False].height_impute.describe()"
   ]
  },
  {
   "cell_type": "code",
   "execution_count": 135,
   "metadata": {},
   "outputs": [
    {
     "data": {
      "text/plain": [
       "(93, 60)"
      ]
     },
     "execution_count": 135,
     "metadata": {},
     "output_type": "execute_result"
    }
   ],
   "source": [
    "df4[df4['exclude_height']==True].shape"
   ]
  },
  {
   "cell_type": "code",
   "execution_count": 151,
   "metadata": {},
   "outputs": [],
   "source": [
    "weight_min = df4['weight_impute'].quantile(.25) - 1.5 * (df4['weight_impute'].quantile(.75) - df4['weight_impute'].quantile(.25)) # 139.8\n",
    "weight_max = df4['weight_impute'].quantile(.75) + 1.5 * (df4['weight_impute'].quantile(.75) - df4['weight_impute'].quantile(.25)) # 200.6"
   ]
  },
  {
   "cell_type": "code",
   "execution_count": 152,
   "metadata": {},
   "outputs": [],
   "source": [
    "df4['exclude_weight'] = False\n",
    "df4.loc[(df4['weight_impute']>weight_max )|(df4['weight_impute']<weight_min ),'exclude_weight'] = True"
   ]
  },
  {
   "cell_type": "code",
   "execution_count": 22,
   "metadata": {},
   "outputs": [
    {
     "data": {
      "text/plain": [
       "count    14459.000000\n",
       "mean        84.617840\n",
       "std         21.053959\n",
       "min         25.600000\n",
       "25%         69.445000\n",
       "50%         83.000000\n",
       "75%         98.200000\n",
       "max        144.700000\n",
       "Name: weight_impute, dtype: float64"
      ]
     },
     "execution_count": 22,
     "metadata": {},
     "output_type": "execute_result"
    }
   ],
   "source": [
    "df4[df4['exclude_weight']==False].weight_impute.describe()"
   ]
  },
  {
   "cell_type": "code",
   "execution_count": 138,
   "metadata": {},
   "outputs": [
    {
     "data": {
      "text/plain": [
       "(449, 61)"
      ]
     },
     "execution_count": 138,
     "metadata": {},
     "output_type": "execute_result"
    }
   ],
   "source": [
    "df4[df4['exclude_weight']==True].shape"
   ]
  },
  {
   "cell_type": "code",
   "execution_count": 153,
   "metadata": {},
   "outputs": [
    {
     "data": {
      "text/plain": [
       "(14374, 61)"
      ]
     },
     "execution_count": 153,
     "metadata": {},
     "output_type": "execute_result"
    }
   ],
   "source": [
    "df5 = df4[(df4['exclude_height']==False) & (df4['exclude_weight']==False ) ]\n",
    "df5.shape"
   ]
  },
  {
   "cell_type": "code",
   "execution_count": 155,
   "metadata": {},
   "outputs": [
    {
     "data": {
      "text/plain": [
       "(14904, 61)"
      ]
     },
     "execution_count": 155,
     "metadata": {},
     "output_type": "execute_result"
    }
   ],
   "source": [
    "df4.shape"
   ]
  },
  {
   "cell_type": "code",
   "execution_count": 156,
   "metadata": {},
   "outputs": [
    {
     "data": {
      "text/plain": [
       "(530, 61)"
      ]
     },
     "execution_count": 156,
     "metadata": {},
     "output_type": "execute_result"
    }
   ],
   "source": [
    "df5_exclude = df4[(df4['exclude_height']==True) | (df4['exclude_weight']==True ) ]\n",
    "df5_exclude.shape"
   ]
  },
  {
   "cell_type": "code",
   "execution_count": 158,
   "metadata": {},
   "outputs": [
    {
     "data": {
      "text/plain": [
       "Index(['patientunitstayid', 'age', 'gender', 'ethnicity', 'unittype',\n",
       "       'admissionheight', 'admissionweight', 'icu_mort', 'icu_los',\n",
       "       'hosp_mort', 'hosp_los', 'ventilation_duration_days', 'nettotal',\n",
       "       'hypertension', 'atrial_fibrillation', 'cancer', 'chf', 'ckd', 'cld',\n",
       "       'copd', 'diabetes', 'ihd', 'cebrovascular_accident', 'sepsis_binary',\n",
       "       'vasopressin', 'aki_creat', 'apache_iv', 'aki_uo', 'AKI', '24hrs_hr',\n",
       "       '48hrs_hr', '72hrs_hr', 'exclude_vaso', 'sofatotal', 'exclude_age',\n",
       "       'exclude_gender', 'exclude_ethnicity', 'exclude_admissionheight',\n",
       "       'exclude_admissionweight', 'bmi', 'exclude_mort_los', 'exclude_apache',\n",
       "       'heartrate', 'respiratoryrate', 'exclude_heartrate',\n",
       "       'exclude_respiratoryrate', 'temperature', 'exclude_temperature',\n",
       "       'ibp_systolic_24h', 'ibp_systolic_48h', 'ibp_systolic_72h',\n",
       "       'ibp_diastolic_24h', 'ibp_diastolic_48h', 'ibp_diastolic_72h',\n",
       "       'ibp_mean_24h', 'ibp_mean_48h', 'ibp_mean_72h', 'height_impute',\n",
       "       'weight_impute', 'exclude_height', 'exclude_weight'],\n",
       "      dtype='object')"
      ]
     },
     "execution_count": 158,
     "metadata": {},
     "output_type": "execute_result"
    }
   ],
   "source": [
    "df5.columns"
   ]
  },
  {
   "cell_type": "code",
   "execution_count": 159,
   "metadata": {},
   "outputs": [],
   "source": [
    "df6 = df5.filter(['patientunitstayid','age', 'gender', 'ethnicity', 'unittype',\n",
    "                       'height_impute','weight_impute',\n",
    "                       'icu_mort', 'icu_los','hosp_mort', 'hosp_los', \n",
    "                       'apache_iv','sofatotal',\n",
    "                       \n",
    "                       '24hrs_hr','48hrs_hr', '72hrs_hr',\n",
    "                       'hypertension', 'atrial_fibrillation', 'cancer', 'chf', 'ckd', 'cld','copd',\n",
    "                       'diabetes', 'ihd', 'cebrovascular_accident', 'sepsis_binary','ventilation_duration_days',\n",
    "                       \n",
    "                       'ibp_systolic_24h', 'ibp_systolic_48h', 'ibp_systolic_72h',\n",
    "                       'ibp_diastolic_24h', 'ibp_diastolic_48h', 'ibp_diastolic_72h',\n",
    "                       'ibp_mean_24h', 'ibp_mean_48h', 'ibp_mean_72h',\n",
    "                       'aki_creat',\n",
    "                       \n",
    "                      ],axis=1)"
   ]
  },
  {
   "cell_type": "code",
   "execution_count": 160,
   "metadata": {},
   "outputs": [],
   "source": [
    "df6['bmi'] = df6['weight_impute'] / (df6['height_impute']/100 * df6['height_impute']/100)"
   ]
  },
  {
   "cell_type": "code",
   "execution_count": 161,
   "metadata": {},
   "outputs": [
    {
     "data": {
      "text/plain": [
       "count    14374.000000\n",
       "mean        29.100283\n",
       "std          6.869555\n",
       "min          9.280497\n",
       "25%         24.229225\n",
       "50%         28.341855\n",
       "75%         32.993630\n",
       "max         66.437609\n",
       "Name: bmi, dtype: float64"
      ]
     },
     "execution_count": 161,
     "metadata": {},
     "output_type": "execute_result"
    }
   ],
   "source": [
    "df6.bmi.describe()"
   ]
  },
  {
   "cell_type": "code",
   "execution_count": 162,
   "metadata": {},
   "outputs": [
    {
     "data": {
      "text/plain": [
       "(14374, 39)"
      ]
     },
     "execution_count": 162,
     "metadata": {},
     "output_type": "execute_result"
    }
   ],
   "source": [
    "df6.shape"
   ]
  },
  {
   "cell_type": "code",
   "execution_count": 163,
   "metadata": {},
   "outputs": [
    {
     "data": {
      "text/html": [
       "<div>\n",
       "<style scoped>\n",
       "    .dataframe tbody tr th:only-of-type {\n",
       "        vertical-align: middle;\n",
       "    }\n",
       "\n",
       "    .dataframe tbody tr th {\n",
       "        vertical-align: top;\n",
       "    }\n",
       "\n",
       "    .dataframe thead th {\n",
       "        text-align: right;\n",
       "    }\n",
       "</style>\n",
       "<table border=\"1\" class=\"dataframe\">\n",
       "  <thead>\n",
       "    <tr style=\"text-align: right;\">\n",
       "      <th></th>\n",
       "      <th>patientunitstayid</th>\n",
       "      <th>AKI_uo7day</th>\n",
       "    </tr>\n",
       "  </thead>\n",
       "  <tbody>\n",
       "    <tr>\n",
       "      <th>0</th>\n",
       "      <td>141179</td>\n",
       "      <td>0</td>\n",
       "    </tr>\n",
       "    <tr>\n",
       "      <th>1</th>\n",
       "      <td>141194</td>\n",
       "      <td>1</td>\n",
       "    </tr>\n",
       "  </tbody>\n",
       "</table>\n",
       "</div>"
      ],
      "text/plain": [
       "   patientunitstayid  AKI_uo7day\n",
       "0             141179           0\n",
       "1             141194           1"
      ]
     },
     "execution_count": 163,
     "metadata": {},
     "output_type": "execute_result"
    }
   ],
   "source": [
    "df_7day =pd.read_csv(\"./csv_folder/eicu_AKI_uo7day.csv\", index_col = 0,engine = 'python')\n",
    "df_7day.head(2)"
   ]
  },
  {
   "cell_type": "code",
   "execution_count": 164,
   "metadata": {},
   "outputs": [
    {
     "data": {
      "text/html": [
       "<div>\n",
       "<style scoped>\n",
       "    .dataframe tbody tr th:only-of-type {\n",
       "        vertical-align: middle;\n",
       "    }\n",
       "\n",
       "    .dataframe tbody tr th {\n",
       "        vertical-align: top;\n",
       "    }\n",
       "\n",
       "    .dataframe thead th {\n",
       "        text-align: right;\n",
       "    }\n",
       "</style>\n",
       "<table border=\"1\" class=\"dataframe\">\n",
       "  <thead>\n",
       "    <tr style=\"text-align: right;\">\n",
       "      <th></th>\n",
       "      <th>patientunitstayid</th>\n",
       "      <th>age</th>\n",
       "      <th>gender</th>\n",
       "      <th>ethnicity</th>\n",
       "      <th>unittype</th>\n",
       "      <th>height_impute</th>\n",
       "      <th>weight_impute</th>\n",
       "      <th>icu_mort</th>\n",
       "      <th>icu_los</th>\n",
       "      <th>hosp_mort</th>\n",
       "      <th>...</th>\n",
       "      <th>ibp_diastolic_24h</th>\n",
       "      <th>ibp_diastolic_48h</th>\n",
       "      <th>ibp_diastolic_72h</th>\n",
       "      <th>ibp_mean_24h</th>\n",
       "      <th>ibp_mean_48h</th>\n",
       "      <th>ibp_mean_72h</th>\n",
       "      <th>aki_creat</th>\n",
       "      <th>bmi</th>\n",
       "      <th>AKI_uo7day</th>\n",
       "      <th>AKI_7d</th>\n",
       "    </tr>\n",
       "  </thead>\n",
       "  <tbody>\n",
       "    <tr>\n",
       "      <th>0</th>\n",
       "      <td>141194</td>\n",
       "      <td>68</td>\n",
       "      <td>Male</td>\n",
       "      <td>Caucasian</td>\n",
       "      <td>CTICU</td>\n",
       "      <td>180.3</td>\n",
       "      <td>73.9</td>\n",
       "      <td>ALIVE</td>\n",
       "      <td>3.3423</td>\n",
       "      <td>ALIVE</td>\n",
       "      <td>...</td>\n",
       "      <td>40.0</td>\n",
       "      <td>42.0</td>\n",
       "      <td>42.0</td>\n",
       "      <td>56.0</td>\n",
       "      <td>59.0</td>\n",
       "      <td>59.0</td>\n",
       "      <td>0.0</td>\n",
       "      <td>22.732803</td>\n",
       "      <td>1.0</td>\n",
       "      <td>1.0</td>\n",
       "    </tr>\n",
       "    <tr>\n",
       "      <th>1</th>\n",
       "      <td>141233</td>\n",
       "      <td>81</td>\n",
       "      <td>Female</td>\n",
       "      <td>Caucasian</td>\n",
       "      <td>CTICU</td>\n",
       "      <td>165.1</td>\n",
       "      <td>61.7</td>\n",
       "      <td>ALIVE</td>\n",
       "      <td>10.8923</td>\n",
       "      <td>ALIVE</td>\n",
       "      <td>...</td>\n",
       "      <td>42.0</td>\n",
       "      <td>44.0</td>\n",
       "      <td>46.0</td>\n",
       "      <td>74.0</td>\n",
       "      <td>64.0</td>\n",
       "      <td>66.0</td>\n",
       "      <td>0.0</td>\n",
       "      <td>22.635548</td>\n",
       "      <td>1.0</td>\n",
       "      <td>1.0</td>\n",
       "    </tr>\n",
       "  </tbody>\n",
       "</table>\n",
       "<p>2 rows × 41 columns</p>\n",
       "</div>"
      ],
      "text/plain": [
       "   patientunitstayid  age  gender  ethnicity unittype  height_impute  \\\n",
       "0             141194   68    Male  Caucasian    CTICU          180.3   \n",
       "1             141233   81  Female  Caucasian    CTICU          165.1   \n",
       "\n",
       "   weight_impute icu_mort  icu_los hosp_mort   ...    ibp_diastolic_24h  \\\n",
       "0           73.9    ALIVE   3.3423     ALIVE   ...                 40.0   \n",
       "1           61.7    ALIVE  10.8923     ALIVE   ...                 42.0   \n",
       "\n",
       "   ibp_diastolic_48h  ibp_diastolic_72h  ibp_mean_24h  ibp_mean_48h  \\\n",
       "0               42.0               42.0          56.0          59.0   \n",
       "1               44.0               46.0          74.0          64.0   \n",
       "\n",
       "   ibp_mean_72h  aki_creat        bmi  AKI_uo7day  AKI_7d  \n",
       "0          59.0        0.0  22.732803         1.0     1.0  \n",
       "1          66.0        0.0  22.635548         1.0     1.0  \n",
       "\n",
       "[2 rows x 41 columns]"
      ]
     },
     "execution_count": 164,
     "metadata": {},
     "output_type": "execute_result"
    }
   ],
   "source": [
    "df_final = pd.merge(df6, df_7day.rename(columns={'patientunitstayid':'patientunitstayid'}), on='patientunitstayid',  how='left')\n",
    "df_final.loc[df_final['AKI_uo7day'].isna(),'AKI_uo7day']=0\n",
    "df_final.loc[df_final['aki_creat'].isna(),'aki_creat']=0\n",
    "\n",
    "df_final[\"AKI_7d\"] = df_final[[\"aki_creat\", \"AKI_uo7day\"]].max(axis=1)\n",
    "df_final.head(2)"
   ]
  },
  {
   "cell_type": "code",
   "execution_count": 165,
   "metadata": {},
   "outputs": [
    {
     "data": {
      "text/plain": [
       "0.8799220815361068"
      ]
     },
     "execution_count": 165,
     "metadata": {},
     "output_type": "execute_result"
    }
   ],
   "source": [
    "sum(df_final['AKI_7d']==1)/(df_final.shape[0])"
   ]
  },
  {
   "cell_type": "code",
   "execution_count": 166,
   "metadata": {},
   "outputs": [
    {
     "data": {
      "text/plain": [
       "Index(['patientunitstayid', 'age', 'gender', 'ethnicity', 'unittype',\n",
       "       'height_impute', 'weight_impute', 'icu_mort', 'icu_los', 'hosp_mort',\n",
       "       'hosp_los', 'apache_iv', 'sofatotal', '24hrs_hr', '48hrs_hr',\n",
       "       '72hrs_hr', 'hypertension', 'atrial_fibrillation', 'cancer', 'chf',\n",
       "       'ckd', 'cld', 'copd', 'diabetes', 'ihd', 'cebrovascular_accident',\n",
       "       'sepsis_binary', 'ventilation_duration_days', 'ibp_systolic_24h',\n",
       "       'ibp_systolic_48h', 'ibp_systolic_72h', 'ibp_diastolic_24h',\n",
       "       'ibp_diastolic_48h', 'ibp_diastolic_72h', 'ibp_mean_24h',\n",
       "       'ibp_mean_48h', 'ibp_mean_72h', 'aki_creat', 'bmi', 'AKI_uo7day',\n",
       "       'AKI_7d'],\n",
       "      dtype='object')"
      ]
     },
     "execution_count": 166,
     "metadata": {},
     "output_type": "execute_result"
    }
   ],
   "source": [
    "df_final.columns"
   ]
  },
  {
   "cell_type": "code",
   "execution_count": 167,
   "metadata": {},
   "outputs": [
    {
     "data": {
      "text/plain": [
       "(14374, 41)"
      ]
     },
     "execution_count": 167,
     "metadata": {},
     "output_type": "execute_result"
    }
   ],
   "source": [
    "df_final.shape"
   ]
  },
  {
   "cell_type": "markdown",
   "metadata": {},
   "source": [
    "# survivor 7 day"
   ]
  },
  {
   "cell_type": "code",
   "execution_count": 168,
   "metadata": {},
   "outputs": [],
   "source": [
    "df_final['mortality_7d'] = 2\n",
    "df_final.loc[df_final['icu_los']>7,'mortality_7d'] = 'ALIVE'\n",
    "df_final.loc[df_final['icu_los']<=7,'mortality_7d'] = df_final['icu_mort']\n"
   ]
  },
  {
   "cell_type": "code",
   "execution_count": 169,
   "metadata": {},
   "outputs": [
    {
     "data": {
      "text/plain": [
       "count     14374\n",
       "unique        2\n",
       "top       ALIVE\n",
       "freq      13105\n",
       "Name: mortality_7d, dtype: object"
      ]
     },
     "execution_count": 169,
     "metadata": {},
     "output_type": "execute_result"
    }
   ],
   "source": [
    "df_final.mortality_7d.describe()"
   ]
  },
  {
   "cell_type": "code",
   "execution_count": 170,
   "metadata": {},
   "outputs": [
    {
     "data": {
      "text/plain": [
       "array(['ALIVE', 'EXPIRED'], dtype=object)"
      ]
     },
     "execution_count": 170,
     "metadata": {},
     "output_type": "execute_result"
    }
   ],
   "source": [
    "df_final.mortality_7d.unique()"
   ]
  },
  {
   "cell_type": "code",
   "execution_count": 171,
   "metadata": {},
   "outputs": [
    {
     "data": {
      "text/plain": [
       "patientunitstayid            False\n",
       "age                          False\n",
       "gender                       False\n",
       "ethnicity                    False\n",
       "unittype                     False\n",
       "height_impute                False\n",
       "weight_impute                False\n",
       "icu_mort                     False\n",
       "icu_los                      False\n",
       "hosp_mort                    False\n",
       "hosp_los                     False\n",
       "apache_iv                    False\n",
       "sofatotal                    False\n",
       "24hrs_hr                     False\n",
       "48hrs_hr                     False\n",
       "72hrs_hr                     False\n",
       "hypertension                 False\n",
       "atrial_fibrillation          False\n",
       "cancer                       False\n",
       "chf                          False\n",
       "ckd                          False\n",
       "cld                          False\n",
       "copd                         False\n",
       "diabetes                     False\n",
       "ihd                          False\n",
       "cebrovascular_accident       False\n",
       "sepsis_binary                False\n",
       "ventilation_duration_days    False\n",
       "ibp_systolic_24h             False\n",
       "ibp_systolic_48h             False\n",
       "ibp_systolic_72h             False\n",
       "ibp_diastolic_24h            False\n",
       "ibp_diastolic_48h            False\n",
       "ibp_diastolic_72h            False\n",
       "ibp_mean_24h                 False\n",
       "ibp_mean_48h                 False\n",
       "ibp_mean_72h                 False\n",
       "aki_creat                    False\n",
       "bmi                          False\n",
       "AKI_uo7day                   False\n",
       "AKI_7d                       False\n",
       "mortality_7d                 False\n",
       "dtype: bool"
      ]
     },
     "execution_count": 171,
     "metadata": {},
     "output_type": "execute_result"
    }
   ],
   "source": [
    "df_final.isna().any()"
   ]
  },
  {
   "cell_type": "code",
   "execution_count": 172,
   "metadata": {},
   "outputs": [],
   "source": [
    "df_final.to_csv(\"./csv_folder/eicu_clean_19Aug.csv\")"
   ]
  },
  {
   "cell_type": "code",
   "execution_count": 173,
   "metadata": {},
   "outputs": [
    {
     "data": {
      "text/plain": [
       "Index(['patientunitstayid', 'age', 'gender', 'ethnicity', 'unittype',\n",
       "       'height_impute', 'weight_impute', 'icu_mort', 'icu_los', 'hosp_mort',\n",
       "       'hosp_los', 'apache_iv', 'sofatotal', '24hrs_hr', '48hrs_hr',\n",
       "       '72hrs_hr', 'hypertension', 'atrial_fibrillation', 'cancer', 'chf',\n",
       "       'ckd', 'cld', 'copd', 'diabetes', 'ihd', 'cebrovascular_accident',\n",
       "       'sepsis_binary', 'ventilation_duration_days', 'ibp_systolic_24h',\n",
       "       'ibp_systolic_48h', 'ibp_systolic_72h', 'ibp_diastolic_24h',\n",
       "       'ibp_diastolic_48h', 'ibp_diastolic_72h', 'ibp_mean_24h',\n",
       "       'ibp_mean_48h', 'ibp_mean_72h', 'aki_creat', 'bmi', 'AKI_uo7day',\n",
       "       'AKI_7d', 'mortality_7d'],\n",
       "      dtype='object')"
      ]
     },
     "execution_count": 173,
     "metadata": {},
     "output_type": "execute_result"
    }
   ],
   "source": [
    "df_final.columns"
   ]
  },
  {
   "cell_type": "code",
   "execution_count": null,
   "metadata": {},
   "outputs": [],
   "source": []
  }
 ],
 "metadata": {
  "kernelspec": {
   "display_name": "Python 3",
   "language": "python",
   "name": "py3"
  },
  "language_info": {
   "codemirror_mode": {
    "name": "ipython",
    "version": 3
   },
   "file_extension": ".py",
   "mimetype": "text/x-python",
   "name": "python",
   "nbconvert_exporter": "python",
   "pygments_lexer": "ipython3",
   "version": "3.6.5"
  }
 },
 "nbformat": 4,
 "nbformat_minor": 2
}
