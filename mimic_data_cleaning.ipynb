{
 "cells": [
  {
   "cell_type": "code",
   "execution_count": 2,
   "metadata": {},
   "outputs": [],
   "source": [
    "import pandas as pd\n",
    "import numpy as np\n",
    "from fancyimpute import IterativeImputer"
   ]
  },
  {
   "cell_type": "code",
   "execution_count": 146,
   "metadata": {},
   "outputs": [
    {
     "data": {
      "text/plain": [
       "(13346, 70)"
      ]
     },
     "execution_count": 146,
     "metadata": {},
     "output_type": "execute_result"
    }
   ],
   "source": [
    "df0 = pd.read_csv(\"./csv_folder/mimic_processed.csv\", index_col = 0,engine = 'python')\n",
    "df0.shape"
   ]
  },
  {
   "cell_type": "code",
   "execution_count": 88,
   "metadata": {},
   "outputs": [
    {
     "data": {
      "text/plain": [
       "Index(['subject_id', 'hadm_id', 'icustay_id', 'gender', 'admittime',\n",
       "       'dischtime', 'los_hospital', 'age', 'ethnicity', 'admission_type',\n",
       "       'hospital_expire_flag', 'hospstay_seq', 'first_hosp_stay', 'intime',\n",
       "       'outtime', 'los_icu', 'icustay_seq', 'first_icu_stay', 'first_careunit',\n",
       "       'weight_first', 'height_first', 'icu_mortality', 'vent_duration_days',\n",
       "       'nettotal', 'hypertension', 'congestive_heart_failure', 'diabetes',\n",
       "       'hadm_id.1', 'afib', 'ckd', 'cld', 'copd', 'cereb', 'ihd', 'cancer',\n",
       "       'aki_48hr', 'sepsis', 'vaspor', 'vaspin', 'apsiii', 'apsiii_prob',\n",
       "       'sofa', 'first_24_vasso_hours', 'first_24_vasso_counts',\n",
       "       'first_48_vasso_hours', 'first_48_vasso_counts', 'first_72_vasso_hours',\n",
       "       'first_72_vasso_counts', 'exclude_vaso', 'exclude_age',\n",
       "       'ethnicity_classification', 'exclude_height_first',\n",
       "       'exclude_weight_first', 'bmi', 'exclude_los_mortality', 'heartrate',\n",
       "       'resprate', 'exclude_heartrate', 'exclude_resprate', 'tempc',\n",
       "       'exclude_tempc', 'ibp_systolic_24h', 'ibp_systolic_48h',\n",
       "       'ibp_systolic_72h', 'ibp_diastolic_24h', 'ibp_diastolic_48h',\n",
       "       'ibp_diastolic_72h', 'ibp_mean_24h', 'ibp_mean_48h', 'ibp_mean_72h'],\n",
       "      dtype='object')"
      ]
     },
     "execution_count": 88,
     "metadata": {},
     "output_type": "execute_result"
    }
   ],
   "source": [
    "df0.columns"
   ]
  },
  {
   "cell_type": "code",
   "execution_count": 97,
   "metadata": {},
   "outputs": [
    {
     "data": {
      "text/plain": [
       "(12917, 70)"
      ]
     },
     "execution_count": 97,
     "metadata": {},
     "output_type": "execute_result"
    }
   ],
   "source": [
    "df1 = df0[(df0['exclude_age']==False) ]\n",
    "df1.shape"
   ]
  },
  {
   "cell_type": "code",
   "execution_count": 93,
   "metadata": {},
   "outputs": [
    {
     "data": {
      "text/plain": [
       "(429, 70)"
      ]
     },
     "execution_count": 93,
     "metadata": {},
     "output_type": "execute_result"
    }
   ],
   "source": [
    "df0[(df0['exclude_age']==True)].shape"
   ]
  },
  {
   "cell_type": "code",
   "execution_count": 95,
   "metadata": {},
   "outputs": [
    {
     "data": {
      "text/plain": [
       "array([0, 1])"
      ]
     },
     "execution_count": 95,
     "metadata": {},
     "output_type": "execute_result"
    }
   ],
   "source": [
    "df0['hospital_expire_flag'].unique()"
   ]
  },
  {
   "cell_type": "code",
   "execution_count": 105,
   "metadata": {},
   "outputs": [
    {
     "data": {
      "text/plain": [
       "(12726, 70)"
      ]
     },
     "execution_count": 105,
     "metadata": {},
     "output_type": "execute_result"
    }
   ],
   "source": [
    "df2= df1[(df1['ibp_mean_24h'].notnull()) & (df1['ibp_systolic_24h'].notnull()) & (df1['ibp_diastolic_24h'].notnull())]\n",
    "df2.shape"
   ]
  },
  {
   "cell_type": "code",
   "execution_count": 103,
   "metadata": {},
   "outputs": [
    {
     "data": {
      "text/plain": [
       "(191, 70)"
      ]
     },
     "execution_count": 103,
     "metadata": {},
     "output_type": "execute_result"
    }
   ],
   "source": [
    "df1[(df1['ibp_mean_24h'].isnull()) | (df1['ibp_systolic_24h'].isnull()) | (df1['ibp_diastolic_24h'].isnull())].shape\n"
   ]
  },
  {
   "cell_type": "code",
   "execution_count": 106,
   "metadata": {},
   "outputs": [
    {
     "data": {
      "text/plain": [
       "array(['WHITE', 'HISPANIC OR LATINO', 'UNKNOWN/NOT SPECIFIED',\n",
       "       'UNABLE TO OBTAIN', 'BLACK/AFRICAN AMERICAN', 'ASIAN', 'OTHER',\n",
       "       'MULTI RACE ETHNICITY', 'BLACK/HAITIAN',\n",
       "       'HISPANIC/LATINO - GUATEMALAN', 'ASIAN - CHINESE',\n",
       "       'PATIENT DECLINED TO ANSWER', 'MIDDLE EASTERN',\n",
       "       'ASIAN - CAMBODIAN', 'NATIVE HAWAIIAN OR OTHER PACIFIC ISLANDER',\n",
       "       'HISPANIC/LATINO - PUERTO RICAN', 'HISPANIC/LATINO - DOMINICAN',\n",
       "       'ASIAN - ASIAN INDIAN', 'BLACK/CAPE VERDEAN', 'BLACK/AFRICAN',\n",
       "       'WHITE - BRAZILIAN', 'WHITE - RUSSIAN', 'ASIAN - VIETNAMESE',\n",
       "       'HISPANIC/LATINO - CUBAN', 'ASIAN - OTHER', 'ASIAN - FILIPINO',\n",
       "       'HISPANIC/LATINO - COLOMBIAN', 'PORTUGUESE',\n",
       "       'HISPANIC/LATINO - MEXICAN', 'ASIAN - KOREAN',\n",
       "       'AMERICAN INDIAN/ALASKA NATIVE', 'WHITE - OTHER EUROPEAN',\n",
       "       'WHITE - EASTERN EUROPEAN', 'SOUTH AMERICAN', 'ASIAN - JAPANESE',\n",
       "       'HISPANIC/LATINO - SALVADORAN', 'ASIAN - THAI'], dtype=object)"
      ]
     },
     "execution_count": 106,
     "metadata": {},
     "output_type": "execute_result"
    }
   ],
   "source": [
    "df2.ethnicity.unique()"
   ]
  },
  {
   "cell_type": "code",
   "execution_count": 107,
   "metadata": {},
   "outputs": [],
   "source": [
    "def ethnicity_clustering(ethnicity_original):\n",
    "    if ethnicity_original.startswith('ASIAN'):\n",
    "        return 'ASIAN'\n",
    "    elif ethnicity_original.startswith('WHITE'):\n",
    "        return 'WHITE'\n",
    "    elif ethnicity_original.startswith('HISPANIC'):\n",
    "        return 'HISPANIC'\n",
    "    elif ethnicity_original.startswith('BLACK'):\n",
    "        return 'BLACK'\n",
    "    else:\n",
    "        return 'OTHERS'"
   ]
  },
  {
   "cell_type": "code",
   "execution_count": 108,
   "metadata": {},
   "outputs": [
    {
     "name": "stderr",
     "output_type": "stream",
     "text": [
      "/home/ephlius/.virtualenvs/3/lib/python3.6/site-packages/ipykernel_launcher.py:1: SettingWithCopyWarning: \n",
      "A value is trying to be set on a copy of a slice from a DataFrame.\n",
      "Try using .loc[row_indexer,col_indexer] = value instead\n",
      "\n",
      "See the caveats in the documentation: http://pandas.pydata.org/pandas-docs/stable/indexing.html#indexing-view-versus-copy\n",
      "  \"\"\"Entry point for launching an IPython kernel.\n"
     ]
    }
   ],
   "source": [
    "df2['ethnicity_new'] = df2['ethnicity'].apply(ethnicity_clustering)"
   ]
  },
  {
   "cell_type": "code",
   "execution_count": 109,
   "metadata": {},
   "outputs": [
    {
     "data": {
      "text/plain": [
       "WHITE       8858\n",
       "OTHERS      2431\n",
       "BLACK        768\n",
       "HISPANIC     376\n",
       "ASIAN        293\n",
       "Name: ethnicity_new, dtype: int64"
      ]
     },
     "execution_count": 109,
     "metadata": {},
     "output_type": "execute_result"
    }
   ],
   "source": [
    "df2.ethnicity_new.value_counts()"
   ]
  },
  {
   "cell_type": "code",
   "execution_count": 110,
   "metadata": {},
   "outputs": [
    {
     "data": {
      "text/plain": [
       "Index(['subject_id', 'hadm_id', 'icustay_id', 'gender', 'admittime',\n",
       "       'dischtime', 'los_hospital', 'age', 'ethnicity', 'admission_type',\n",
       "       'hospital_expire_flag', 'hospstay_seq', 'first_hosp_stay', 'intime',\n",
       "       'outtime', 'los_icu', 'icustay_seq', 'first_icu_stay', 'first_careunit',\n",
       "       'weight_first', 'height_first', 'icu_mortality', 'vent_duration_days',\n",
       "       'nettotal', 'hypertension', 'congestive_heart_failure', 'diabetes',\n",
       "       'hadm_id.1', 'afib', 'ckd', 'cld', 'copd', 'cereb', 'ihd', 'cancer',\n",
       "       'aki_48hr', 'sepsis', 'vaspor', 'vaspin', 'apsiii', 'apsiii_prob',\n",
       "       'sofa', 'first_24_vasso_hours', 'first_24_vasso_counts',\n",
       "       'first_48_vasso_hours', 'first_48_vasso_counts', 'first_72_vasso_hours',\n",
       "       'first_72_vasso_counts', 'exclude_vaso', 'exclude_age',\n",
       "       'ethnicity_classification', 'exclude_height_first',\n",
       "       'exclude_weight_first', 'bmi', 'exclude_los_mortality', 'heartrate',\n",
       "       'resprate', 'exclude_heartrate', 'exclude_resprate', 'tempc',\n",
       "       'exclude_tempc', 'ibp_systolic_24h', 'ibp_systolic_48h',\n",
       "       'ibp_systolic_72h', 'ibp_diastolic_24h', 'ibp_diastolic_48h',\n",
       "       'ibp_diastolic_72h', 'ibp_mean_24h', 'ibp_mean_48h', 'ibp_mean_72h',\n",
       "       'ethnicity_new'],\n",
       "      dtype='object')"
      ]
     },
     "execution_count": 110,
     "metadata": {},
     "output_type": "execute_result"
    }
   ],
   "source": [
    "df2.columns"
   ]
  },
  {
   "cell_type": "code",
   "execution_count": 111,
   "metadata": {},
   "outputs": [
    {
     "name": "stderr",
     "output_type": "stream",
     "text": [
      "/home/ephlius/.virtualenvs/3/lib/python3.6/site-packages/pandas/core/indexing.py:543: SettingWithCopyWarning: \n",
      "A value is trying to be set on a copy of a slice from a DataFrame.\n",
      "Try using .loc[row_indexer,col_indexer] = value instead\n",
      "\n",
      "See the caveats in the documentation: http://pandas.pydata.org/pandas-docs/stable/indexing.html#indexing-view-versus-copy\n",
      "  self.obj[item] = s\n"
     ]
    }
   ],
   "source": [
    "df2.loc[df2['first_24_vasso_hours'].isna(),'first_24_vasso_hours']=0\n",
    "df2.loc[df2['first_48_vasso_hours'].isna(),'first_48_vasso_hours']=0\n",
    "df2.loc[df2['first_72_vasso_hours'].isna(),'first_72_vasso_hours']=0"
   ]
  },
  {
   "cell_type": "code",
   "execution_count": 112,
   "metadata": {},
   "outputs": [],
   "source": [
    "df3 = df2[['icustay_id','gender','age','ethnicity_new','ibp_mean_24h','ibp_systolic_24h','height_first','weight_first']]\n",
    "df3 = pd.get_dummies(df3, columns=['gender'])\n",
    "df3 = pd.get_dummies(df3, columns=['ethnicity_new'])"
   ]
  },
  {
   "cell_type": "code",
   "execution_count": 113,
   "metadata": {},
   "outputs": [],
   "source": [
    "MICE_imputer = IterativeImputer()\n",
    "height_MICE = df3.copy(deep=True)\n",
    "height_MICE.iloc[:, :] = MICE_imputer.fit_transform(height_MICE)"
   ]
  },
  {
   "cell_type": "code",
   "execution_count": 114,
   "metadata": {},
   "outputs": [],
   "source": [
    "df_impute = height_MICE.filter(['icustay_id','height_first','weight_first'],axis=1)\n",
    "df_impute.columns = ['icustay_id','height_impute','weight_impute']"
   ]
  },
  {
   "cell_type": "code",
   "execution_count": 115,
   "metadata": {},
   "outputs": [],
   "source": [
    "df4 = pd.merge(df2, df_impute, how='left', on=['icustay_id'])"
   ]
  },
  {
   "cell_type": "code",
   "execution_count": 116,
   "metadata": {},
   "outputs": [
    {
     "data": {
      "text/plain": [
       "Index(['subject_id', 'hadm_id', 'icustay_id', 'gender', 'admittime',\n",
       "       'dischtime', 'los_hospital', 'age', 'ethnicity', 'admission_type',\n",
       "       'hospital_expire_flag', 'hospstay_seq', 'first_hosp_stay', 'intime',\n",
       "       'outtime', 'los_icu', 'icustay_seq', 'first_icu_stay', 'first_careunit',\n",
       "       'weight_first', 'height_first', 'icu_mortality', 'vent_duration_days',\n",
       "       'nettotal', 'hypertension', 'congestive_heart_failure', 'diabetes',\n",
       "       'hadm_id.1', 'afib', 'ckd', 'cld', 'copd', 'cereb', 'ihd', 'cancer',\n",
       "       'aki_48hr', 'sepsis', 'vaspor', 'vaspin', 'apsiii', 'apsiii_prob',\n",
       "       'sofa', 'first_24_vasso_hours', 'first_24_vasso_counts',\n",
       "       'first_48_vasso_hours', 'first_48_vasso_counts', 'first_72_vasso_hours',\n",
       "       'first_72_vasso_counts', 'exclude_vaso', 'exclude_age',\n",
       "       'ethnicity_classification', 'exclude_height_first',\n",
       "       'exclude_weight_first', 'bmi', 'exclude_los_mortality', 'heartrate',\n",
       "       'resprate', 'exclude_heartrate', 'exclude_resprate', 'tempc',\n",
       "       'exclude_tempc', 'ibp_systolic_24h', 'ibp_systolic_48h',\n",
       "       'ibp_systolic_72h', 'ibp_diastolic_24h', 'ibp_diastolic_48h',\n",
       "       'ibp_diastolic_72h', 'ibp_mean_24h', 'ibp_mean_48h', 'ibp_mean_72h',\n",
       "       'ethnicity_new', 'height_impute', 'weight_impute'],\n",
       "      dtype='object')"
      ]
     },
     "execution_count": 116,
     "metadata": {},
     "output_type": "execute_result"
    }
   ],
   "source": [
    "df4.columns"
   ]
  },
  {
   "cell_type": "code",
   "execution_count": 117,
   "metadata": {},
   "outputs": [
    {
     "data": {
      "text/plain": [
       "(12726, 73)"
      ]
     },
     "execution_count": 117,
     "metadata": {},
     "output_type": "execute_result"
    }
   ],
   "source": [
    "df4.shape"
   ]
  },
  {
   "cell_type": "code",
   "execution_count": 118,
   "metadata": {},
   "outputs": [
    {
     "data": {
      "text/plain": [
       "count    12726.000000\n",
       "mean       169.612821\n",
       "std          9.671956\n",
       "min        121.920000\n",
       "25%        162.246187\n",
       "50%        170.180000\n",
       "75%        177.023220\n",
       "max        210.820000\n",
       "Name: height_impute, dtype: float64"
      ]
     },
     "execution_count": 118,
     "metadata": {},
     "output_type": "execute_result"
    }
   ],
   "source": [
    "df4.height_impute.describe()"
   ]
  },
  {
   "cell_type": "code",
   "execution_count": 119,
   "metadata": {},
   "outputs": [],
   "source": [
    "height_min = df4['height_impute'].quantile(.25) - 1.5 * (df4['height_impute'].quantile(.75) - df4['height_impute'].quantile(.25)) # 139.8\n",
    "height_max = df4['height_impute'].quantile(.75) + 1.5 * (df4['height_impute'].quantile(.75) - df4['height_impute'].quantile(.25)) # 200.6"
   ]
  },
  {
   "cell_type": "code",
   "execution_count": 120,
   "metadata": {},
   "outputs": [],
   "source": [
    "df4['exclude_height'] = False\n",
    "df4.loc[(df4['height_impute']>height_max )|(df4['height_impute']<height_min ),'exclude_height'] = True"
   ]
  },
  {
   "cell_type": "code",
   "execution_count": 29,
   "metadata": {},
   "outputs": [
    {
     "data": {
      "text/plain": [
       "count    12680.000000\n",
       "mean       169.682517\n",
       "std          9.441590\n",
       "min        141.990000\n",
       "25%        162.344726\n",
       "50%        170.180000\n",
       "75%        177.025705\n",
       "max        198.120000\n",
       "Name: height_impute, dtype: float64"
      ]
     },
     "execution_count": 29,
     "metadata": {},
     "output_type": "execute_result"
    }
   ],
   "source": [
    "df4[df4['exclude_height']==False].height_impute.describe()"
   ]
  },
  {
   "cell_type": "code",
   "execution_count": 122,
   "metadata": {},
   "outputs": [
    {
     "data": {
      "text/plain": [
       "(46, 74)"
      ]
     },
     "execution_count": 122,
     "metadata": {},
     "output_type": "execute_result"
    }
   ],
   "source": [
    "df4[df4['exclude_height']==True].shape"
   ]
  },
  {
   "cell_type": "code",
   "execution_count": 123,
   "metadata": {},
   "outputs": [],
   "source": [
    "weight_min = df4['weight_impute'].quantile(.25) - 1.5 * (df4['weight_impute'].quantile(.75) - df4['weight_impute'].quantile(.25)) # 139.8\n",
    "weight_max = df4['weight_impute'].quantile(.75) + 1.5 * (df4['weight_impute'].quantile(.75) - df4['weight_impute'].quantile(.25)) # 200.6"
   ]
  },
  {
   "cell_type": "code",
   "execution_count": 124,
   "metadata": {},
   "outputs": [],
   "source": [
    "df4['exclude_weight'] = False\n",
    "df4.loc[(df4['weight_impute']>weight_max )|(df4['weight_impute']<weight_min ),'exclude_weight'] = True"
   ]
  },
  {
   "cell_type": "code",
   "execution_count": 125,
   "metadata": {},
   "outputs": [
    {
     "data": {
      "text/plain": [
       "count    12335.000000\n",
       "mean        84.684154\n",
       "std         18.059303\n",
       "min         36.100000\n",
       "25%         72.300000\n",
       "50%         84.000000\n",
       "75%         95.800000\n",
       "max        133.900000\n",
       "Name: weight_impute, dtype: float64"
      ]
     },
     "execution_count": 125,
     "metadata": {},
     "output_type": "execute_result"
    }
   ],
   "source": [
    "df4[df4['exclude_weight']==False].weight_impute.describe()"
   ]
  },
  {
   "cell_type": "code",
   "execution_count": 126,
   "metadata": {},
   "outputs": [
    {
     "data": {
      "text/plain": [
       "(391, 75)"
      ]
     },
     "execution_count": 126,
     "metadata": {},
     "output_type": "execute_result"
    }
   ],
   "source": [
    "df4[df4['exclude_weight']==True].shape"
   ]
  },
  {
   "cell_type": "code",
   "execution_count": 127,
   "metadata": {},
   "outputs": [
    {
     "data": {
      "text/plain": [
       "(12291, 75)"
      ]
     },
     "execution_count": 127,
     "metadata": {},
     "output_type": "execute_result"
    }
   ],
   "source": [
    "df5 = df4[(df4['exclude_height']==False) & (df4['exclude_weight']==False ) ]\n",
    "df5.shape"
   ]
  },
  {
   "cell_type": "code",
   "execution_count": 128,
   "metadata": {},
   "outputs": [
    {
     "data": {
      "text/plain": [
       "(435, 75)"
      ]
     },
     "execution_count": 128,
     "metadata": {},
     "output_type": "execute_result"
    }
   ],
   "source": [
    "df4[(df4['exclude_height']==True) | (df4['exclude_weight']==True ) ].shape\n"
   ]
  },
  {
   "cell_type": "code",
   "execution_count": 129,
   "metadata": {},
   "outputs": [
    {
     "data": {
      "text/plain": [
       "Index(['subject_id', 'hadm_id', 'icustay_id', 'gender', 'admittime',\n",
       "       'dischtime', 'los_hospital', 'age', 'ethnicity', 'admission_type',\n",
       "       'hospital_expire_flag', 'hospstay_seq', 'first_hosp_stay', 'intime',\n",
       "       'outtime', 'los_icu', 'icustay_seq', 'first_icu_stay', 'first_careunit',\n",
       "       'weight_first', 'height_first', 'icu_mortality', 'vent_duration_days',\n",
       "       'nettotal', 'hypertension', 'congestive_heart_failure', 'diabetes',\n",
       "       'hadm_id.1', 'afib', 'ckd', 'cld', 'copd', 'cereb', 'ihd', 'cancer',\n",
       "       'aki_48hr', 'sepsis', 'vaspor', 'vaspin', 'apsiii', 'apsiii_prob',\n",
       "       'sofa', 'first_24_vasso_hours', 'first_24_vasso_counts',\n",
       "       'first_48_vasso_hours', 'first_48_vasso_counts', 'first_72_vasso_hours',\n",
       "       'first_72_vasso_counts', 'exclude_vaso', 'exclude_age',\n",
       "       'ethnicity_classification', 'exclude_height_first',\n",
       "       'exclude_weight_first', 'bmi', 'exclude_los_mortality', 'heartrate',\n",
       "       'resprate', 'exclude_heartrate', 'exclude_resprate', 'tempc',\n",
       "       'exclude_tempc', 'ibp_systolic_24h', 'ibp_systolic_48h',\n",
       "       'ibp_systolic_72h', 'ibp_diastolic_24h', 'ibp_diastolic_48h',\n",
       "       'ibp_diastolic_72h', 'ibp_mean_24h', 'ibp_mean_48h', 'ibp_mean_72h',\n",
       "       'ethnicity_new', 'height_impute', 'weight_impute', 'exclude_height',\n",
       "       'exclude_weight'],\n",
       "      dtype='object')"
      ]
     },
     "execution_count": 129,
     "metadata": {},
     "output_type": "execute_result"
    }
   ],
   "source": [
    "df5.columns"
   ]
  },
  {
   "cell_type": "code",
   "execution_count": 130,
   "metadata": {},
   "outputs": [],
   "source": [
    "df6 = df5.filter(['icustay_id','age', 'gender', 'ethnicity_new', 'first_careunit',\n",
    "                       'height_impute','weight_impute',\n",
    "                       'icu_mortality', 'los_icu','hospital_expire_flag', 'los_hospital', \n",
    "                       'sofa',\n",
    "                       \n",
    "                       'first_24_vasso_hours','first_48_vasso_hours', 'first_72_vasso_hours',\n",
    "                       'hypertension', 'congestive_heart_failure', 'diabetes','afib', 'ckd', \n",
    "                       'cld', 'copd', 'cereb', 'ihd', 'cancer','sepsis','vent_duration_days',\n",
    "                       \n",
    "                       'ibp_systolic_24h', 'ibp_systolic_48h', 'ibp_systolic_72h',\n",
    "                       'ibp_diastolic_24h', 'ibp_diastolic_48h', 'ibp_diastolic_72h',\n",
    "                       'ibp_mean_24h', 'ibp_mean_48h', 'ibp_mean_72h'\n",
    "                       \n",
    "                       \n",
    "                      ],axis=1)"
   ]
  },
  {
   "cell_type": "code",
   "execution_count": 131,
   "metadata": {},
   "outputs": [],
   "source": [
    "df6['bmi'] = df6['weight_impute'] / (df6['height_impute']/100 * df6['height_impute']/100)"
   ]
  },
  {
   "cell_type": "code",
   "execution_count": 132,
   "metadata": {},
   "outputs": [
    {
     "data": {
      "text/plain": [
       "count    12291.000000\n",
       "mean        29.423715\n",
       "std          5.631681\n",
       "min         12.620470\n",
       "25%         25.686882\n",
       "50%         29.516950\n",
       "75%         31.930576\n",
       "max         56.673716\n",
       "Name: bmi, dtype: float64"
      ]
     },
     "execution_count": 132,
     "metadata": {},
     "output_type": "execute_result"
    }
   ],
   "source": [
    "df6.bmi.describe()"
   ]
  },
  {
   "cell_type": "code",
   "execution_count": 133,
   "metadata": {},
   "outputs": [
    {
     "data": {
      "text/html": [
       "<div>\n",
       "<style scoped>\n",
       "    .dataframe tbody tr th:only-of-type {\n",
       "        vertical-align: middle;\n",
       "    }\n",
       "\n",
       "    .dataframe tbody tr th {\n",
       "        vertical-align: top;\n",
       "    }\n",
       "\n",
       "    .dataframe thead th {\n",
       "        text-align: right;\n",
       "    }\n",
       "</style>\n",
       "<table border=\"1\" class=\"dataframe\">\n",
       "  <thead>\n",
       "    <tr style=\"text-align: right;\">\n",
       "      <th></th>\n",
       "      <th>icustay_id</th>\n",
       "      <th>charttime_creat</th>\n",
       "      <th>creat</th>\n",
       "      <th>aki_stage_creat</th>\n",
       "      <th>charttime_uo</th>\n",
       "      <th>uo_rt_6hr</th>\n",
       "      <th>uo_rt_12hr</th>\n",
       "      <th>uo_rt_24hr</th>\n",
       "      <th>aki_stage_uo</th>\n",
       "      <th>aki_stage_7day</th>\n",
       "      <th>aki_7day</th>\n",
       "    </tr>\n",
       "  </thead>\n",
       "  <tbody>\n",
       "    <tr>\n",
       "      <th>0</th>\n",
       "      <td>200018</td>\n",
       "      <td>NaN</td>\n",
       "      <td>NaN</td>\n",
       "      <td>NaN</td>\n",
       "      <td>NaN</td>\n",
       "      <td>NaN</td>\n",
       "      <td>NaN</td>\n",
       "      <td>NaN</td>\n",
       "      <td>NaN</td>\n",
       "      <td>0</td>\n",
       "      <td>0</td>\n",
       "    </tr>\n",
       "    <tr>\n",
       "      <th>1</th>\n",
       "      <td>200020</td>\n",
       "      <td>NaN</td>\n",
       "      <td>NaN</td>\n",
       "      <td>NaN</td>\n",
       "      <td>NaN</td>\n",
       "      <td>NaN</td>\n",
       "      <td>NaN</td>\n",
       "      <td>NaN</td>\n",
       "      <td>NaN</td>\n",
       "      <td>0</td>\n",
       "      <td>0</td>\n",
       "    </tr>\n",
       "  </tbody>\n",
       "</table>\n",
       "</div>"
      ],
      "text/plain": [
       "   icustay_id charttime_creat  creat  aki_stage_creat charttime_uo  uo_rt_6hr  \\\n",
       "0      200018             NaN    NaN              NaN          NaN        NaN   \n",
       "1      200020             NaN    NaN              NaN          NaN        NaN   \n",
       "\n",
       "   uo_rt_12hr  uo_rt_24hr  aki_stage_uo  aki_stage_7day  aki_7day  \n",
       "0         NaN         NaN           NaN               0         0  \n",
       "1         NaN         NaN           NaN               0         0  "
      ]
     },
     "execution_count": 133,
     "metadata": {},
     "output_type": "execute_result"
    }
   ],
   "source": [
    "df_7day =pd.read_csv(\"./csv_folder/mimic_new_aki_7day.csv\",engine = 'python')\n",
    "df_7day.head(2)"
   ]
  },
  {
   "cell_type": "code",
   "execution_count": 134,
   "metadata": {},
   "outputs": [
    {
     "data": {
      "text/html": [
       "<div>\n",
       "<style scoped>\n",
       "    .dataframe tbody tr th:only-of-type {\n",
       "        vertical-align: middle;\n",
       "    }\n",
       "\n",
       "    .dataframe tbody tr th {\n",
       "        vertical-align: top;\n",
       "    }\n",
       "\n",
       "    .dataframe thead th {\n",
       "        text-align: right;\n",
       "    }\n",
       "</style>\n",
       "<table border=\"1\" class=\"dataframe\">\n",
       "  <thead>\n",
       "    <tr style=\"text-align: right;\">\n",
       "      <th></th>\n",
       "      <th>icustay_id</th>\n",
       "      <th>age</th>\n",
       "      <th>gender</th>\n",
       "      <th>ethnicity_new</th>\n",
       "      <th>first_careunit</th>\n",
       "      <th>height_impute</th>\n",
       "      <th>weight_impute</th>\n",
       "      <th>icu_mortality</th>\n",
       "      <th>los_icu</th>\n",
       "      <th>hospital_expire_flag</th>\n",
       "      <th>...</th>\n",
       "      <th>ibp_systolic_48h</th>\n",
       "      <th>ibp_systolic_72h</th>\n",
       "      <th>ibp_diastolic_24h</th>\n",
       "      <th>ibp_diastolic_48h</th>\n",
       "      <th>ibp_diastolic_72h</th>\n",
       "      <th>ibp_mean_24h</th>\n",
       "      <th>ibp_mean_48h</th>\n",
       "      <th>ibp_mean_72h</th>\n",
       "      <th>bmi</th>\n",
       "      <th>aki_7day</th>\n",
       "    </tr>\n",
       "  </thead>\n",
       "  <tbody>\n",
       "    <tr>\n",
       "      <th>0</th>\n",
       "      <td>271147</td>\n",
       "      <td>54.5208</td>\n",
       "      <td>F</td>\n",
       "      <td>WHITE</td>\n",
       "      <td>SICU</td>\n",
       "      <td>162.408138</td>\n",
       "      <td>83.5</td>\n",
       "      <td>0</td>\n",
       "      <td>1.5940</td>\n",
       "      <td>0</td>\n",
       "      <td>...</td>\n",
       "      <td>99.0</td>\n",
       "      <td>99.0</td>\n",
       "      <td>47.0</td>\n",
       "      <td>50.0</td>\n",
       "      <td>50.0</td>\n",
       "      <td>66.5</td>\n",
       "      <td>68.0</td>\n",
       "      <td>68.0</td>\n",
       "      <td>31.657084</td>\n",
       "      <td>1</td>\n",
       "    </tr>\n",
       "    <tr>\n",
       "      <th>1</th>\n",
       "      <td>214619</td>\n",
       "      <td>21.5041</td>\n",
       "      <td>M</td>\n",
       "      <td>HISPANIC</td>\n",
       "      <td>TSICU</td>\n",
       "      <td>173.783414</td>\n",
       "      <td>76.8</td>\n",
       "      <td>0</td>\n",
       "      <td>11.5029</td>\n",
       "      <td>0</td>\n",
       "      <td>...</td>\n",
       "      <td>147.0</td>\n",
       "      <td>148.0</td>\n",
       "      <td>67.0</td>\n",
       "      <td>72.0</td>\n",
       "      <td>72.0</td>\n",
       "      <td>84.0</td>\n",
       "      <td>91.0</td>\n",
       "      <td>92.0</td>\n",
       "      <td>25.429895</td>\n",
       "      <td>0</td>\n",
       "    </tr>\n",
       "  </tbody>\n",
       "</table>\n",
       "<p>2 rows × 38 columns</p>\n",
       "</div>"
      ],
      "text/plain": [
       "   icustay_id      age gender ethnicity_new first_careunit  height_impute  \\\n",
       "0      271147  54.5208      F         WHITE           SICU     162.408138   \n",
       "1      214619  21.5041      M      HISPANIC          TSICU     173.783414   \n",
       "\n",
       "   weight_impute  icu_mortality  los_icu  hospital_expire_flag    ...     \\\n",
       "0           83.5              0   1.5940                     0    ...      \n",
       "1           76.8              0  11.5029                     0    ...      \n",
       "\n",
       "   ibp_systolic_48h  ibp_systolic_72h  ibp_diastolic_24h  ibp_diastolic_48h  \\\n",
       "0              99.0              99.0               47.0               50.0   \n",
       "1             147.0             148.0               67.0               72.0   \n",
       "\n",
       "   ibp_diastolic_72h  ibp_mean_24h  ibp_mean_48h  ibp_mean_72h        bmi  \\\n",
       "0               50.0          66.5          68.0          68.0  31.657084   \n",
       "1               72.0          84.0          91.0          92.0  25.429895   \n",
       "\n",
       "   aki_7day  \n",
       "0         1  \n",
       "1         0  \n",
       "\n",
       "[2 rows x 38 columns]"
      ]
     },
     "execution_count": 134,
     "metadata": {},
     "output_type": "execute_result"
    }
   ],
   "source": [
    "df_final = pd.merge(df6, df_7day[['icustay_id','aki_7day']], on='icustay_id',  how='left')\n",
    "df_final.loc[df_final['aki_7day'].isna(),'aki_7day']=0\n",
    "df_final.head(2)"
   ]
  },
  {
   "cell_type": "code",
   "execution_count": 135,
   "metadata": {},
   "outputs": [
    {
     "data": {
      "text/plain": [
       "0.7992840289642829"
      ]
     },
     "execution_count": 135,
     "metadata": {},
     "output_type": "execute_result"
    }
   ],
   "source": [
    "sum(df_final['aki_7day']==1)/(df_final.shape[0])"
   ]
  },
  {
   "cell_type": "code",
   "execution_count": 136,
   "metadata": {},
   "outputs": [
    {
     "data": {
      "text/plain": [
       "Index(['icustay_id', 'age', 'gender', 'ethnicity_new', 'first_careunit',\n",
       "       'height_impute', 'weight_impute', 'icu_mortality', 'los_icu',\n",
       "       'hospital_expire_flag', 'los_hospital', 'sofa', 'first_24_vasso_hours',\n",
       "       'first_48_vasso_hours', 'first_72_vasso_hours', 'hypertension',\n",
       "       'congestive_heart_failure', 'diabetes', 'afib', 'ckd', 'cld', 'copd',\n",
       "       'cereb', 'ihd', 'cancer', 'sepsis', 'vent_duration_days',\n",
       "       'ibp_systolic_24h', 'ibp_systolic_48h', 'ibp_systolic_72h',\n",
       "       'ibp_diastolic_24h', 'ibp_diastolic_48h', 'ibp_diastolic_72h',\n",
       "       'ibp_mean_24h', 'ibp_mean_48h', 'ibp_mean_72h', 'bmi', 'aki_7day'],\n",
       "      dtype='object')"
      ]
     },
     "execution_count": 136,
     "metadata": {},
     "output_type": "execute_result"
    }
   ],
   "source": [
    "df_final.columns"
   ]
  },
  {
   "cell_type": "code",
   "execution_count": 137,
   "metadata": {},
   "outputs": [
    {
     "data": {
      "text/plain": [
       "(12291, 38)"
      ]
     },
     "execution_count": 137,
     "metadata": {},
     "output_type": "execute_result"
    }
   ],
   "source": [
    "df_final.shape"
   ]
  },
  {
   "cell_type": "code",
   "execution_count": 138,
   "metadata": {},
   "outputs": [
    {
     "data": {
      "text/plain": [
       "array([0, 1])"
      ]
     },
     "execution_count": 138,
     "metadata": {},
     "output_type": "execute_result"
    }
   ],
   "source": [
    "df_final.icu_mortality.unique()"
   ]
  },
  {
   "cell_type": "markdown",
   "metadata": {},
   "source": [
    "# survivor 7 day"
   ]
  },
  {
   "cell_type": "code",
   "execution_count": 139,
   "metadata": {},
   "outputs": [],
   "source": [
    "df_final['mortality_7d'] = 2\n",
    "df_final.loc[df_final['los_icu']>7,'mortality_7d'] = 0\n",
    "df_final.loc[df_final['los_icu']<=7,'mortality_7d'] = df_final['icu_mortality']\n"
   ]
  },
  {
   "cell_type": "code",
   "execution_count": 140,
   "metadata": {},
   "outputs": [
    {
     "data": {
      "text/plain": [
       "0    11445\n",
       "1      846\n",
       "Name: mortality_7d, dtype: int64"
      ]
     },
     "execution_count": 140,
     "metadata": {},
     "output_type": "execute_result"
    }
   ],
   "source": [
    "df_final['mortality_7d'].value_counts()"
   ]
  },
  {
   "cell_type": "code",
   "execution_count": 141,
   "metadata": {},
   "outputs": [
    {
     "data": {
      "text/plain": [
       "array([0, 1])"
      ]
     },
     "execution_count": 141,
     "metadata": {},
     "output_type": "execute_result"
    }
   ],
   "source": [
    "df_final.mortality_7d.unique()"
   ]
  },
  {
   "cell_type": "code",
   "execution_count": 142,
   "metadata": {},
   "outputs": [
    {
     "data": {
      "text/plain": [
       "icustay_id                  False\n",
       "age                         False\n",
       "gender                      False\n",
       "ethnicity_new               False\n",
       "first_careunit              False\n",
       "height_impute               False\n",
       "weight_impute               False\n",
       "icu_mortality               False\n",
       "los_icu                     False\n",
       "hospital_expire_flag        False\n",
       "los_hospital                False\n",
       "sofa                        False\n",
       "first_24_vasso_hours        False\n",
       "first_48_vasso_hours        False\n",
       "first_72_vasso_hours        False\n",
       "hypertension                False\n",
       "congestive_heart_failure    False\n",
       "diabetes                    False\n",
       "afib                        False\n",
       "ckd                         False\n",
       "cld                         False\n",
       "copd                        False\n",
       "cereb                       False\n",
       "ihd                         False\n",
       "cancer                      False\n",
       "sepsis                      False\n",
       "vent_duration_days          False\n",
       "ibp_systolic_24h            False\n",
       "ibp_systolic_48h            False\n",
       "ibp_systolic_72h            False\n",
       "ibp_diastolic_24h           False\n",
       "ibp_diastolic_48h           False\n",
       "ibp_diastolic_72h           False\n",
       "ibp_mean_24h                False\n",
       "ibp_mean_48h                False\n",
       "ibp_mean_72h                False\n",
       "bmi                         False\n",
       "aki_7day                    False\n",
       "mortality_7d                False\n",
       "dtype: bool"
      ]
     },
     "execution_count": 142,
     "metadata": {},
     "output_type": "execute_result"
    }
   ],
   "source": [
    "df_final.isna().any()"
   ]
  },
  {
   "cell_type": "code",
   "execution_count": 143,
   "metadata": {},
   "outputs": [
    {
     "data": {
      "text/plain": [
       "(12291, 39)"
      ]
     },
     "execution_count": 143,
     "metadata": {},
     "output_type": "execute_result"
    }
   ],
   "source": [
    "df_final.shape"
   ]
  },
  {
   "cell_type": "code",
   "execution_count": 144,
   "metadata": {},
   "outputs": [],
   "source": [
    "df_final.to_csv(\"./csv_folder/mimic_clean_19Aug.csv\")"
   ]
  },
  {
   "cell_type": "code",
   "execution_count": 145,
   "metadata": {},
   "outputs": [
    {
     "data": {
      "text/plain": [
       "Index(['icustay_id', 'age', 'gender', 'ethnicity_new', 'first_careunit',\n",
       "       'height_impute', 'weight_impute', 'icu_mortality', 'los_icu',\n",
       "       'hospital_expire_flag', 'los_hospital', 'sofa', 'first_24_vasso_hours',\n",
       "       'first_48_vasso_hours', 'first_72_vasso_hours', 'hypertension',\n",
       "       'congestive_heart_failure', 'diabetes', 'afib', 'ckd', 'cld', 'copd',\n",
       "       'cereb', 'ihd', 'cancer', 'sepsis', 'vent_duration_days',\n",
       "       'ibp_systolic_24h', 'ibp_systolic_48h', 'ibp_systolic_72h',\n",
       "       'ibp_diastolic_24h', 'ibp_diastolic_48h', 'ibp_diastolic_72h',\n",
       "       'ibp_mean_24h', 'ibp_mean_48h', 'ibp_mean_72h', 'bmi', 'aki_7day',\n",
       "       'mortality_7d'],\n",
       "      dtype='object')"
      ]
     },
     "execution_count": 145,
     "metadata": {},
     "output_type": "execute_result"
    }
   ],
   "source": [
    "df_final.columns"
   ]
  },
  {
   "cell_type": "code",
   "execution_count": null,
   "metadata": {},
   "outputs": [],
   "source": []
  }
 ],
 "metadata": {
  "kernelspec": {
   "display_name": "Python 3",
   "language": "python",
   "name": "py3"
  },
  "language_info": {
   "codemirror_mode": {
    "name": "ipython",
    "version": 3
   },
   "file_extension": ".py",
   "mimetype": "text/x-python",
   "name": "python",
   "nbconvert_exporter": "python",
   "pygments_lexer": "ipython3",
   "version": "3.6.5"
  }
 },
 "nbformat": 4,
 "nbformat_minor": 2
}
