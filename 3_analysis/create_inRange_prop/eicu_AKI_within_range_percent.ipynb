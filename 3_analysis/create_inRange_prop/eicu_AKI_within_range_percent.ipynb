{
 "cells": [
  {
   "cell_type": "code",
   "execution_count": 166,
   "metadata": {},
   "outputs": [],
   "source": [
    "import pandas as pd\n",
    "import numpy as np\n",
    "from fancyimpute import IterativeImputer"
   ]
  },
  {
   "cell_type": "code",
   "execution_count": 3,
   "metadata": {},
   "outputs": [
    {
     "name": "stderr",
     "output_type": "stream",
     "text": [
      "/home/ephlius/.virtualenvs/3/lib/python3.6/site-packages/IPython/core/interactiveshell.py:2785: DtypeWarning: Columns (11) have mixed types. Specify dtype option on import or set low_memory=False.\n",
      "  interactivity=interactivity, compiler=compiler, result=result)\n",
      "/home/ephlius/.virtualenvs/3/lib/python3.6/site-packages/numpy/lib/arraysetops.py:472: FutureWarning: elementwise comparison failed; returning scalar instead, but in the future will perform elementwise comparison\n",
      "  mask |= (ar1 == a)\n"
     ]
    }
   ],
   "source": [
    "df = pd.read_csv(\"../BP_data_table2_new.csv\", index_col=0)"
   ]
  },
  {
   "cell_type": "code",
   "execution_count": 4,
   "metadata": {},
   "outputs": [
    {
     "data": {
      "text/html": [
       "<div>\n",
       "<style scoped>\n",
       "    .dataframe tbody tr th:only-of-type {\n",
       "        vertical-align: middle;\n",
       "    }\n",
       "\n",
       "    .dataframe tbody tr th {\n",
       "        vertical-align: top;\n",
       "    }\n",
       "\n",
       "    .dataframe thead th {\n",
       "        text-align: right;\n",
       "    }\n",
       "</style>\n",
       "<table border=\"1\" class=\"dataframe\">\n",
       "  <thead>\n",
       "    <tr style=\"text-align: right;\">\n",
       "      <th></th>\n",
       "      <th>patientunitstayid</th>\n",
       "      <th>chartoffset</th>\n",
       "      <th>entryoffset</th>\n",
       "      <th>heartrate</th>\n",
       "      <th>respiratoryrate</th>\n",
       "      <th>spo2</th>\n",
       "      <th>nibp_systolic</th>\n",
       "      <th>nibp_diastolic</th>\n",
       "      <th>nibp_mean</th>\n",
       "      <th>temperature</th>\n",
       "      <th>temperaturelocation</th>\n",
       "      <th>ibp_systolic</th>\n",
       "      <th>ibp_diastolic</th>\n",
       "      <th>ibp_mean</th>\n",
       "    </tr>\n",
       "  </thead>\n",
       "  <tbody>\n",
       "    <tr>\n",
       "      <th>0</th>\n",
       "      <td>141168</td>\n",
       "      <td>6</td>\n",
       "      <td>6</td>\n",
       "      <td>140.0</td>\n",
       "      <td>NaN</td>\n",
       "      <td>NaN</td>\n",
       "      <td>82.0</td>\n",
       "      <td>59.0</td>\n",
       "      <td>NaN</td>\n",
       "      <td>NaN</td>\n",
       "      <td>NaN</td>\n",
       "      <td>NaN</td>\n",
       "      <td>NaN</td>\n",
       "      <td>67.0</td>\n",
       "    </tr>\n",
       "    <tr>\n",
       "      <th>1</th>\n",
       "      <td>141168</td>\n",
       "      <td>21</td>\n",
       "      <td>21</td>\n",
       "      <td>70.0</td>\n",
       "      <td>NaN</td>\n",
       "      <td>94.0</td>\n",
       "      <td>NaN</td>\n",
       "      <td>NaN</td>\n",
       "      <td>NaN</td>\n",
       "      <td>NaN</td>\n",
       "      <td>NaN</td>\n",
       "      <td>NaN</td>\n",
       "      <td>NaN</td>\n",
       "      <td>75.0</td>\n",
       "    </tr>\n",
       "    <tr>\n",
       "      <th>2</th>\n",
       "      <td>141168</td>\n",
       "      <td>36</td>\n",
       "      <td>36</td>\n",
       "      <td>70.0</td>\n",
       "      <td>NaN</td>\n",
       "      <td>94.0</td>\n",
       "      <td>105.0</td>\n",
       "      <td>59.0</td>\n",
       "      <td>NaN</td>\n",
       "      <td>NaN</td>\n",
       "      <td>NaN</td>\n",
       "      <td>NaN</td>\n",
       "      <td>NaN</td>\n",
       "      <td>75.0</td>\n",
       "    </tr>\n",
       "    <tr>\n",
       "      <th>3</th>\n",
       "      <td>141168</td>\n",
       "      <td>51</td>\n",
       "      <td>51</td>\n",
       "      <td>140.0</td>\n",
       "      <td>NaN</td>\n",
       "      <td>94.0</td>\n",
       "      <td>103.0</td>\n",
       "      <td>65.0</td>\n",
       "      <td>NaN</td>\n",
       "      <td>NaN</td>\n",
       "      <td>NaN</td>\n",
       "      <td>NaN</td>\n",
       "      <td>NaN</td>\n",
       "      <td>80.0</td>\n",
       "    </tr>\n",
       "    <tr>\n",
       "      <th>4</th>\n",
       "      <td>141168</td>\n",
       "      <td>66</td>\n",
       "      <td>66</td>\n",
       "      <td>140.0</td>\n",
       "      <td>NaN</td>\n",
       "      <td>92.0</td>\n",
       "      <td>99.0</td>\n",
       "      <td>68.0</td>\n",
       "      <td>NaN</td>\n",
       "      <td>NaN</td>\n",
       "      <td>NaN</td>\n",
       "      <td>NaN</td>\n",
       "      <td>NaN</td>\n",
       "      <td>80.0</td>\n",
       "    </tr>\n",
       "  </tbody>\n",
       "</table>\n",
       "</div>"
      ],
      "text/plain": [
       "   patientunitstayid  chartoffset  entryoffset  heartrate  respiratoryrate  \\\n",
       "0             141168            6            6      140.0              NaN   \n",
       "1             141168           21           21       70.0              NaN   \n",
       "2             141168           36           36       70.0              NaN   \n",
       "3             141168           51           51      140.0              NaN   \n",
       "4             141168           66           66      140.0              NaN   \n",
       "\n",
       "   spo2  nibp_systolic  nibp_diastolic  nibp_mean  temperature  \\\n",
       "0   NaN           82.0            59.0        NaN          NaN   \n",
       "1  94.0            NaN             NaN        NaN          NaN   \n",
       "2  94.0          105.0            59.0        NaN          NaN   \n",
       "3  94.0          103.0            65.0        NaN          NaN   \n",
       "4  92.0           99.0            68.0        NaN          NaN   \n",
       "\n",
       "  temperaturelocation  ibp_systolic  ibp_diastolic  ibp_mean  \n",
       "0                 NaN           NaN            NaN      67.0  \n",
       "1                 NaN           NaN            NaN      75.0  \n",
       "2                 NaN           NaN            NaN      75.0  \n",
       "3                 NaN           NaN            NaN      80.0  \n",
       "4                 NaN           NaN            NaN      80.0  "
      ]
     },
     "execution_count": 4,
     "metadata": {},
     "output_type": "execute_result"
    }
   ],
   "source": [
    "df.head()"
   ]
  },
  {
   "cell_type": "code",
   "execution_count": 6,
   "metadata": {},
   "outputs": [
    {
     "data": {
      "text/plain": [
       "300.0"
      ]
     },
     "execution_count": 6,
     "metadata": {},
     "output_type": "execute_result"
    }
   ],
   "source": [
    "df['ibp_systolic'].max()"
   ]
  },
  {
   "cell_type": "markdown",
   "metadata": {},
   "source": [
    "### df[(df[\"patientunitstayid\"]==141194)&(df['chartoffset']>=0)&(df['chartoffset']<=1440)]"
   ]
  },
  {
   "cell_type": "code",
   "execution_count": 5,
   "metadata": {},
   "outputs": [],
   "source": [
    "df_group = df.groupby(\"patientunitstayid\")"
   ]
  },
  {
   "cell_type": "code",
   "execution_count": 6,
   "metadata": {},
   "outputs": [],
   "source": [
    "def calc_percent(df, timerange=[0, 1440], col='ibp_systolic', valuerange=[115, 125]):\n",
    "    start = timerange[0]\n",
    "    end = timerange[1]\n",
    "    temp = df[(df['chartoffset']>=start) & (df['chartoffset']<=end)]\n",
    "    non_na = temp[temp[col].notnull()]\n",
    "    num_nonna = non_na.shape[0]\n",
    "    if num_nonna==0:\n",
    "        return np.nan\n",
    "    value_min, value_max = valuerange[0], valuerange[1]\n",
    "    range_num = non_na[(non_na[col]>=value_min) & (non_na[col]<=value_max)].shape[0]\n",
    "    return range_num / num_nonna"
   ]
  },
  {
   "cell_type": "code",
   "execution_count": 7,
   "metadata": {},
   "outputs": [],
   "source": [
    "result = df_group.apply(lambda x: calc_percent(x, timerange=[0, 1440], col='ibp_mean', valuerange=[94.56784, 300]))\n"
   ]
  },
  {
   "cell_type": "code",
   "execution_count": 8,
   "metadata": {},
   "outputs": [],
   "source": [
    "result_df = pd.DataFrame(result).reset_index()\n",
    "result_df.columns = [\"patientunitstayid\", \"mbp_24_inrange_AKI\"]"
   ]
  },
  {
   "cell_type": "code",
   "execution_count": 9,
   "metadata": {},
   "outputs": [],
   "source": [
    "sbp_24_inrange = df_group.apply(lambda x: calc_percent(x, timerange=[0, 1440], col='ibp_systolic', valuerange=[146.6935, 300]))\n",
    "sbp_24_inrange = pd.DataFrame(sbp_24_inrange).reset_index()\n",
    "sbp_24_inrange.columns = [\"patientunitstayid\", \"sbp_24_inrange_AKI\"]\n",
    "result_df['sbp_24_inrange_AKI'] = sbp_24_inrange['sbp_24_inrange_AKI']\n"
   ]
  },
  {
   "cell_type": "code",
   "execution_count": 10,
   "metadata": {},
   "outputs": [],
   "source": [
    "dbp_24_inrange =df_group.apply(lambda x: calc_percent(x, timerange=[0, 1440], col='ibp_diastolic', valuerange=[78.93467, 300]))\n",
    "dbp_24_inrange = pd.DataFrame(dbp_24_inrange).reset_index()\n",
    "dbp_24_inrange.columns = [\"patientunitstayid\", \"dbp_24_inrange_AKI\"]\n",
    "result_df['dbp_24_inrange_AKI'] = dbp_24_inrange['dbp_24_inrange_AKI']"
   ]
  },
  {
   "cell_type": "markdown",
   "metadata": {},
   "source": [
    "# not run yet"
   ]
  },
  {
   "cell_type": "code",
   "execution_count": 68,
   "metadata": {},
   "outputs": [],
   "source": [
    "mbp_48_inrange = df_group.apply(lambda x: calc_percent(x, timerange=[0, 2880], col='ibp_mean', valuerange=[78.27889, 300]))\n",
    "mbp_48_inrange = pd.DataFrame(mbp_48_inrange).reset_index()\n",
    "mbp_48_inrange.columns = [\"patientunitstayid\", \"mbp_48_inrange\"]\n",
    "result_df['mbp_48_inrange'] = mbp_48_inrange['mbp_48_inrange']\n",
    "\n",
    "sbp_48_inrange = df_group.apply(lambda x: calc_percent(x, timerange=[0, 2880], col='ibp_systolic', valuerange=[122.4724, 300]))\n",
    "sbp_48_inrange = pd.DataFrame(sbp_48_inrange).reset_index()\n",
    "sbp_48_inrange.columns = [\"patientunitstayid\", \"sbp_48_inrange\"]\n",
    "result_df['sbp_48_inrange'] = sbp_48_inrange['sbp_48_inrange']\n",
    "\n",
    "dbp_48_inrange = df_group.apply(lambda x: calc_percent(x, timerange=[0, 2880], col='ibp_diastolic', valuerange=[60.39196, 300]))\n",
    "dbp_48_inrange = pd.DataFrame(dbp_48_inrange).reset_index()\n",
    "dbp_48_inrange.columns = [\"patientunitstayid\", \"dbp_48_inrange\"]\n",
    "result_df['dbp_48_inrange'] = dbp_48_inrange['dbp_48_inrange']\n",
    "\n",
    "mbp_72_inrange = df_group.apply(lambda x: calc_percent(x, timerange=[0, 4320], col='ibp_mean', valuerange=[79.39698, 93.25628]))\n",
    "mbp_72_inrange = pd.DataFrame(mbp_72_inrange).reset_index()\n",
    "mbp_72_inrange.columns = [\"patientunitstayid\", \"mbp_72_inrange\"]\n",
    "result_df['mbp_72_inrange'] = mbp_72_inrange['mbp_72_inrange']\n",
    "\n",
    "sbp_72_inrange = df_group.apply(lambda x: calc_percent(x, timerange=[0, 4320], col='ibp_systolic', valuerange=[123.4673, 153.3166]))\n",
    "sbp_72_inrange = pd.DataFrame(sbp_72_inrange).reset_index()\n",
    "sbp_72_inrange.columns = [\"patientunitstayid\", \"sbp_72_inrange\"]\n",
    "result_df['sbp_72_inrange'] = sbp_72_inrange['sbp_72_inrange']\n",
    "\n",
    "dbp_72_inrange = df_group.apply(lambda x: calc_percent(x, timerange=[0, 4320], col='ibp_diastolic', valuerange=[61.01005, 82.64322]))\n",
    "dbp_72_inrange = pd.DataFrame(dbp_72_inrange).reset_index()\n",
    "dbp_72_inrange.columns = [\"patientunitstayid\", \"dbp_72_inrange\"]\n",
    "result_df['dbp_72_inrange'] = dbp_72_inrange['dbp_72_inrange']"
   ]
  },
  {
   "cell_type": "code",
   "execution_count": 69,
   "metadata": {},
   "outputs": [
    {
     "data": {
      "text/html": [
       "<div>\n",
       "<style scoped>\n",
       "    .dataframe tbody tr th:only-of-type {\n",
       "        vertical-align: middle;\n",
       "    }\n",
       "\n",
       "    .dataframe tbody tr th {\n",
       "        vertical-align: top;\n",
       "    }\n",
       "\n",
       "    .dataframe thead th {\n",
       "        text-align: right;\n",
       "    }\n",
       "</style>\n",
       "<table border=\"1\" class=\"dataframe\">\n",
       "  <thead>\n",
       "    <tr style=\"text-align: right;\">\n",
       "      <th></th>\n",
       "      <th>patientunitstayid</th>\n",
       "      <th>mbp_24_inrange</th>\n",
       "      <th>sbp_24_inrange</th>\n",
       "      <th>dbp_24_inrange</th>\n",
       "      <th>mbp_48_inrange</th>\n",
       "      <th>sbp_48_inrange</th>\n",
       "      <th>dbp_48_inrange</th>\n",
       "      <th>mbp_72_inrange</th>\n",
       "      <th>sbp_72_inrange</th>\n",
       "      <th>dbp_72_inrange</th>\n",
       "    </tr>\n",
       "  </thead>\n",
       "  <tbody>\n",
       "    <tr>\n",
       "      <th>0</th>\n",
       "      <td>141168</td>\n",
       "      <td>0.700000</td>\n",
       "      <td>NaN</td>\n",
       "      <td>NaN</td>\n",
       "      <td>0.533333</td>\n",
       "      <td>0.200000</td>\n",
       "      <td>0.200000</td>\n",
       "      <td>0.466667</td>\n",
       "      <td>0.200000</td>\n",
       "      <td>0.200000</td>\n",
       "    </tr>\n",
       "    <tr>\n",
       "      <th>1</th>\n",
       "      <td>141194</td>\n",
       "      <td>0.000000</td>\n",
       "      <td>0.041667</td>\n",
       "      <td>0.000000</td>\n",
       "      <td>0.153846</td>\n",
       "      <td>0.098039</td>\n",
       "      <td>0.078431</td>\n",
       "      <td>0.153846</td>\n",
       "      <td>0.098039</td>\n",
       "      <td>0.078431</td>\n",
       "    </tr>\n",
       "    <tr>\n",
       "      <th>2</th>\n",
       "      <td>141203</td>\n",
       "      <td>0.417582</td>\n",
       "      <td>NaN</td>\n",
       "      <td>NaN</td>\n",
       "      <td>0.316832</td>\n",
       "      <td>NaN</td>\n",
       "      <td>NaN</td>\n",
       "      <td>0.247525</td>\n",
       "      <td>NaN</td>\n",
       "      <td>NaN</td>\n",
       "    </tr>\n",
       "    <tr>\n",
       "      <th>3</th>\n",
       "      <td>141229</td>\n",
       "      <td>1.000000</td>\n",
       "      <td>NaN</td>\n",
       "      <td>NaN</td>\n",
       "      <td>0.500000</td>\n",
       "      <td>NaN</td>\n",
       "      <td>NaN</td>\n",
       "      <td>0.500000</td>\n",
       "      <td>NaN</td>\n",
       "      <td>NaN</td>\n",
       "    </tr>\n",
       "    <tr>\n",
       "      <th>4</th>\n",
       "      <td>141233</td>\n",
       "      <td>0.364486</td>\n",
       "      <td>0.457944</td>\n",
       "      <td>0.037383</td>\n",
       "      <td>0.131068</td>\n",
       "      <td>0.150485</td>\n",
       "      <td>0.009709</td>\n",
       "      <td>0.122881</td>\n",
       "      <td>0.114407</td>\n",
       "      <td>0.084746</td>\n",
       "    </tr>\n",
       "  </tbody>\n",
       "</table>\n",
       "</div>"
      ],
      "text/plain": [
       "   patientunitstayid  mbp_24_inrange  sbp_24_inrange  dbp_24_inrange  \\\n",
       "0             141168        0.700000             NaN             NaN   \n",
       "1             141194        0.000000        0.041667        0.000000   \n",
       "2             141203        0.417582             NaN             NaN   \n",
       "3             141229        1.000000             NaN             NaN   \n",
       "4             141233        0.364486        0.457944        0.037383   \n",
       "\n",
       "   mbp_48_inrange  sbp_48_inrange  dbp_48_inrange  mbp_72_inrange  \\\n",
       "0        0.533333        0.200000        0.200000        0.466667   \n",
       "1        0.153846        0.098039        0.078431        0.153846   \n",
       "2        0.316832             NaN             NaN        0.247525   \n",
       "3        0.500000             NaN             NaN        0.500000   \n",
       "4        0.131068        0.150485        0.009709        0.122881   \n",
       "\n",
       "   sbp_72_inrange  dbp_72_inrange  \n",
       "0        0.200000        0.200000  \n",
       "1        0.098039        0.078431  \n",
       "2             NaN             NaN  \n",
       "3             NaN             NaN  \n",
       "4        0.114407        0.084746  "
      ]
     },
     "execution_count": 69,
     "metadata": {},
     "output_type": "execute_result"
    }
   ],
   "source": [
    "result_df.head()"
   ]
  },
  {
   "cell_type": "code",
   "execution_count": 11,
   "metadata": {},
   "outputs": [
    {
     "data": {
      "text/plain": [
       "(20884, 4)"
      ]
     },
     "execution_count": 11,
     "metadata": {},
     "output_type": "execute_result"
    }
   ],
   "source": [
    "result_df[result_df['mbp_24_inrange_AKI'].notnull()].shape"
   ]
  },
  {
   "cell_type": "code",
   "execution_count": 13,
   "metadata": {},
   "outputs": [],
   "source": [
    "df1 = pd.read_csv(\"./csv_folder/eicu_table1_wth_range.csv\", index_col=0)"
   ]
  },
  {
   "cell_type": "code",
   "execution_count": 14,
   "metadata": {},
   "outputs": [
    {
     "data": {
      "text/html": [
       "<div>\n",
       "<style scoped>\n",
       "    .dataframe tbody tr th:only-of-type {\n",
       "        vertical-align: middle;\n",
       "    }\n",
       "\n",
       "    .dataframe tbody tr th {\n",
       "        vertical-align: top;\n",
       "    }\n",
       "\n",
       "    .dataframe thead th {\n",
       "        text-align: right;\n",
       "    }\n",
       "</style>\n",
       "<table border=\"1\" class=\"dataframe\">\n",
       "  <thead>\n",
       "    <tr style=\"text-align: right;\">\n",
       "      <th></th>\n",
       "      <th>X</th>\n",
       "      <th>patientunitstayid</th>\n",
       "      <th>age</th>\n",
       "      <th>gender</th>\n",
       "      <th>ethnicity</th>\n",
       "      <th>unittype</th>\n",
       "      <th>admissionheight</th>\n",
       "      <th>admissionweight</th>\n",
       "      <th>icu_mort</th>\n",
       "      <th>icu_los</th>\n",
       "      <th>...</th>\n",
       "      <th>mbp_24_inrange</th>\n",
       "      <th>sbp_24_inrange</th>\n",
       "      <th>dbp_24_inrange</th>\n",
       "      <th>mbp_48_inrange</th>\n",
       "      <th>sbp_48_inrange</th>\n",
       "      <th>dbp_48_inrange</th>\n",
       "      <th>mbp_72_inrange</th>\n",
       "      <th>sbp_72_inrange</th>\n",
       "      <th>dbp_72_inrange</th>\n",
       "      <th>hospital_mortality</th>\n",
       "    </tr>\n",
       "  </thead>\n",
       "  <tbody>\n",
       "    <tr>\n",
       "      <th>0</th>\n",
       "      <td>0</td>\n",
       "      <td>141168</td>\n",
       "      <td>58</td>\n",
       "      <td>Female</td>\n",
       "      <td>Caucasian</td>\n",
       "      <td>Med-Surg ICU</td>\n",
       "      <td>152.4</td>\n",
       "      <td>84.3</td>\n",
       "      <td>EXPIRED</td>\n",
       "      <td>2.4972</td>\n",
       "      <td>...</td>\n",
       "      <td>0.700000</td>\n",
       "      <td>NaN</td>\n",
       "      <td>NaN</td>\n",
       "      <td>0.533333</td>\n",
       "      <td>0.200000</td>\n",
       "      <td>0.200000</td>\n",
       "      <td>0.466667</td>\n",
       "      <td>0.200000</td>\n",
       "      <td>0.200000</td>\n",
       "      <td>1</td>\n",
       "    </tr>\n",
       "    <tr>\n",
       "      <th>1</th>\n",
       "      <td>1</td>\n",
       "      <td>141194</td>\n",
       "      <td>56</td>\n",
       "      <td>Male</td>\n",
       "      <td>Caucasian</td>\n",
       "      <td>CTICU</td>\n",
       "      <td>180.3</td>\n",
       "      <td>73.9</td>\n",
       "      <td>ALIVE</td>\n",
       "      <td>3.3423</td>\n",
       "      <td>...</td>\n",
       "      <td>0.000000</td>\n",
       "      <td>0.041667</td>\n",
       "      <td>0.000000</td>\n",
       "      <td>0.153846</td>\n",
       "      <td>0.098039</td>\n",
       "      <td>0.078431</td>\n",
       "      <td>0.153846</td>\n",
       "      <td>0.098039</td>\n",
       "      <td>0.078431</td>\n",
       "      <td>0</td>\n",
       "    </tr>\n",
       "    <tr>\n",
       "      <th>2</th>\n",
       "      <td>2</td>\n",
       "      <td>141203</td>\n",
       "      <td>65</td>\n",
       "      <td>Female</td>\n",
       "      <td>Caucasian</td>\n",
       "      <td>Med-Surg ICU</td>\n",
       "      <td>160.0</td>\n",
       "      <td>70.2</td>\n",
       "      <td>ALIVE</td>\n",
       "      <td>1.2979</td>\n",
       "      <td>...</td>\n",
       "      <td>0.417582</td>\n",
       "      <td>NaN</td>\n",
       "      <td>NaN</td>\n",
       "      <td>0.316832</td>\n",
       "      <td>NaN</td>\n",
       "      <td>NaN</td>\n",
       "      <td>0.247525</td>\n",
       "      <td>NaN</td>\n",
       "      <td>NaN</td>\n",
       "      <td>0</td>\n",
       "    </tr>\n",
       "    <tr>\n",
       "      <th>3</th>\n",
       "      <td>4</td>\n",
       "      <td>141233</td>\n",
       "      <td>69</td>\n",
       "      <td>Female</td>\n",
       "      <td>Caucasian</td>\n",
       "      <td>CTICU</td>\n",
       "      <td>165.1</td>\n",
       "      <td>61.7</td>\n",
       "      <td>ALIVE</td>\n",
       "      <td>10.8923</td>\n",
       "      <td>...</td>\n",
       "      <td>0.364486</td>\n",
       "      <td>0.457944</td>\n",
       "      <td>0.037383</td>\n",
       "      <td>0.131068</td>\n",
       "      <td>0.150485</td>\n",
       "      <td>0.009709</td>\n",
       "      <td>0.122881</td>\n",
       "      <td>0.114407</td>\n",
       "      <td>0.084746</td>\n",
       "      <td>0</td>\n",
       "    </tr>\n",
       "    <tr>\n",
       "      <th>4</th>\n",
       "      <td>5</td>\n",
       "      <td>141244</td>\n",
       "      <td>47</td>\n",
       "      <td>Male</td>\n",
       "      <td>Caucasian</td>\n",
       "      <td>CTICU</td>\n",
       "      <td>180.3</td>\n",
       "      <td>92.3</td>\n",
       "      <td>ALIVE</td>\n",
       "      <td>2.6631</td>\n",
       "      <td>...</td>\n",
       "      <td>0.684211</td>\n",
       "      <td>0.684211</td>\n",
       "      <td>0.789474</td>\n",
       "      <td>0.631579</td>\n",
       "      <td>0.631579</td>\n",
       "      <td>0.421053</td>\n",
       "      <td>0.578947</td>\n",
       "      <td>0.631579</td>\n",
       "      <td>0.421053</td>\n",
       "      <td>0</td>\n",
       "    </tr>\n",
       "  </tbody>\n",
       "</table>\n",
       "<p>5 rows × 68 columns</p>\n",
       "</div>"
      ],
      "text/plain": [
       "   X  patientunitstayid  age  gender  ethnicity      unittype  \\\n",
       "0  0             141168   58  Female  Caucasian  Med-Surg ICU   \n",
       "1  1             141194   56    Male  Caucasian         CTICU   \n",
       "2  2             141203   65  Female  Caucasian  Med-Surg ICU   \n",
       "3  4             141233   69  Female  Caucasian         CTICU   \n",
       "4  5             141244   47    Male  Caucasian         CTICU   \n",
       "\n",
       "   admissionheight  admissionweight icu_mort  icu_los         ...          \\\n",
       "0            152.4             84.3  EXPIRED   2.4972         ...           \n",
       "1            180.3             73.9    ALIVE   3.3423         ...           \n",
       "2            160.0             70.2    ALIVE   1.2979         ...           \n",
       "3            165.1             61.7    ALIVE  10.8923         ...           \n",
       "4            180.3             92.3    ALIVE   2.6631         ...           \n",
       "\n",
       "  mbp_24_inrange  sbp_24_inrange  dbp_24_inrange  mbp_48_inrange  \\\n",
       "0       0.700000             NaN             NaN        0.533333   \n",
       "1       0.000000        0.041667        0.000000        0.153846   \n",
       "2       0.417582             NaN             NaN        0.316832   \n",
       "3       0.364486        0.457944        0.037383        0.131068   \n",
       "4       0.684211        0.684211        0.789474        0.631579   \n",
       "\n",
       "   sbp_48_inrange  dbp_48_inrange  mbp_72_inrange  sbp_72_inrange  \\\n",
       "0        0.200000        0.200000        0.466667        0.200000   \n",
       "1        0.098039        0.078431        0.153846        0.098039   \n",
       "2             NaN             NaN        0.247525             NaN   \n",
       "3        0.150485        0.009709        0.122881        0.114407   \n",
       "4        0.631579        0.421053        0.578947        0.631579   \n",
       "\n",
       "   dbp_72_inrange  hospital_mortality  \n",
       "0        0.200000                   1  \n",
       "1        0.078431                   0  \n",
       "2             NaN                   0  \n",
       "3        0.084746                   0  \n",
       "4        0.421053                   0  \n",
       "\n",
       "[5 rows x 68 columns]"
      ]
     },
     "execution_count": 14,
     "metadata": {},
     "output_type": "execute_result"
    }
   ],
   "source": [
    "df1.head()"
   ]
  },
  {
   "cell_type": "code",
   "execution_count": 15,
   "metadata": {},
   "outputs": [],
   "source": [
    "df3 = pd.merge(df1, result_df, how='left', on=['patientunitstayid'])"
   ]
  },
  {
   "cell_type": "code",
   "execution_count": 16,
   "metadata": {},
   "outputs": [
    {
     "data": {
      "text/html": [
       "<div>\n",
       "<style scoped>\n",
       "    .dataframe tbody tr th:only-of-type {\n",
       "        vertical-align: middle;\n",
       "    }\n",
       "\n",
       "    .dataframe tbody tr th {\n",
       "        vertical-align: top;\n",
       "    }\n",
       "\n",
       "    .dataframe thead th {\n",
       "        text-align: right;\n",
       "    }\n",
       "</style>\n",
       "<table border=\"1\" class=\"dataframe\">\n",
       "  <thead>\n",
       "    <tr style=\"text-align: right;\">\n",
       "      <th></th>\n",
       "      <th>X</th>\n",
       "      <th>patientunitstayid</th>\n",
       "      <th>age</th>\n",
       "      <th>gender</th>\n",
       "      <th>ethnicity</th>\n",
       "      <th>unittype</th>\n",
       "      <th>admissionheight</th>\n",
       "      <th>admissionweight</th>\n",
       "      <th>icu_mort</th>\n",
       "      <th>icu_los</th>\n",
       "      <th>...</th>\n",
       "      <th>mbp_48_inrange</th>\n",
       "      <th>sbp_48_inrange</th>\n",
       "      <th>dbp_48_inrange</th>\n",
       "      <th>mbp_72_inrange</th>\n",
       "      <th>sbp_72_inrange</th>\n",
       "      <th>dbp_72_inrange</th>\n",
       "      <th>hospital_mortality</th>\n",
       "      <th>mbp_24_inrange_AKI</th>\n",
       "      <th>sbp_24_inrange_AKI</th>\n",
       "      <th>dbp_24_inrange_AKI</th>\n",
       "    </tr>\n",
       "  </thead>\n",
       "  <tbody>\n",
       "    <tr>\n",
       "      <th>0</th>\n",
       "      <td>0</td>\n",
       "      <td>141168</td>\n",
       "      <td>58</td>\n",
       "      <td>Female</td>\n",
       "      <td>Caucasian</td>\n",
       "      <td>Med-Surg ICU</td>\n",
       "      <td>152.4</td>\n",
       "      <td>84.3</td>\n",
       "      <td>EXPIRED</td>\n",
       "      <td>2.4972</td>\n",
       "      <td>...</td>\n",
       "      <td>0.533333</td>\n",
       "      <td>0.200000</td>\n",
       "      <td>0.200000</td>\n",
       "      <td>0.466667</td>\n",
       "      <td>0.200000</td>\n",
       "      <td>0.200000</td>\n",
       "      <td>1</td>\n",
       "      <td>0.000000</td>\n",
       "      <td>NaN</td>\n",
       "      <td>NaN</td>\n",
       "    </tr>\n",
       "    <tr>\n",
       "      <th>1</th>\n",
       "      <td>1</td>\n",
       "      <td>141194</td>\n",
       "      <td>56</td>\n",
       "      <td>Male</td>\n",
       "      <td>Caucasian</td>\n",
       "      <td>CTICU</td>\n",
       "      <td>180.3</td>\n",
       "      <td>73.9</td>\n",
       "      <td>ALIVE</td>\n",
       "      <td>3.3423</td>\n",
       "      <td>...</td>\n",
       "      <td>0.153846</td>\n",
       "      <td>0.098039</td>\n",
       "      <td>0.078431</td>\n",
       "      <td>0.153846</td>\n",
       "      <td>0.098039</td>\n",
       "      <td>0.078431</td>\n",
       "      <td>0</td>\n",
       "      <td>0.000000</td>\n",
       "      <td>0.000000</td>\n",
       "      <td>0.0</td>\n",
       "    </tr>\n",
       "    <tr>\n",
       "      <th>2</th>\n",
       "      <td>2</td>\n",
       "      <td>141203</td>\n",
       "      <td>65</td>\n",
       "      <td>Female</td>\n",
       "      <td>Caucasian</td>\n",
       "      <td>Med-Surg ICU</td>\n",
       "      <td>160.0</td>\n",
       "      <td>70.2</td>\n",
       "      <td>ALIVE</td>\n",
       "      <td>1.2979</td>\n",
       "      <td>...</td>\n",
       "      <td>0.316832</td>\n",
       "      <td>NaN</td>\n",
       "      <td>NaN</td>\n",
       "      <td>0.247525</td>\n",
       "      <td>NaN</td>\n",
       "      <td>NaN</td>\n",
       "      <td>0</td>\n",
       "      <td>0.087912</td>\n",
       "      <td>NaN</td>\n",
       "      <td>NaN</td>\n",
       "    </tr>\n",
       "    <tr>\n",
       "      <th>3</th>\n",
       "      <td>4</td>\n",
       "      <td>141233</td>\n",
       "      <td>69</td>\n",
       "      <td>Female</td>\n",
       "      <td>Caucasian</td>\n",
       "      <td>CTICU</td>\n",
       "      <td>165.1</td>\n",
       "      <td>61.7</td>\n",
       "      <td>ALIVE</td>\n",
       "      <td>10.8923</td>\n",
       "      <td>...</td>\n",
       "      <td>0.131068</td>\n",
       "      <td>0.150485</td>\n",
       "      <td>0.009709</td>\n",
       "      <td>0.122881</td>\n",
       "      <td>0.114407</td>\n",
       "      <td>0.084746</td>\n",
       "      <td>0</td>\n",
       "      <td>0.000000</td>\n",
       "      <td>0.186916</td>\n",
       "      <td>0.0</td>\n",
       "    </tr>\n",
       "    <tr>\n",
       "      <th>4</th>\n",
       "      <td>5</td>\n",
       "      <td>141244</td>\n",
       "      <td>47</td>\n",
       "      <td>Male</td>\n",
       "      <td>Caucasian</td>\n",
       "      <td>CTICU</td>\n",
       "      <td>180.3</td>\n",
       "      <td>92.3</td>\n",
       "      <td>ALIVE</td>\n",
       "      <td>2.6631</td>\n",
       "      <td>...</td>\n",
       "      <td>0.631579</td>\n",
       "      <td>0.631579</td>\n",
       "      <td>0.421053</td>\n",
       "      <td>0.578947</td>\n",
       "      <td>0.631579</td>\n",
       "      <td>0.421053</td>\n",
       "      <td>0</td>\n",
       "      <td>0.210526</td>\n",
       "      <td>0.263158</td>\n",
       "      <td>0.0</td>\n",
       "    </tr>\n",
       "  </tbody>\n",
       "</table>\n",
       "<p>5 rows × 71 columns</p>\n",
       "</div>"
      ],
      "text/plain": [
       "   X  patientunitstayid  age  gender  ethnicity      unittype  \\\n",
       "0  0             141168   58  Female  Caucasian  Med-Surg ICU   \n",
       "1  1             141194   56    Male  Caucasian         CTICU   \n",
       "2  2             141203   65  Female  Caucasian  Med-Surg ICU   \n",
       "3  4             141233   69  Female  Caucasian         CTICU   \n",
       "4  5             141244   47    Male  Caucasian         CTICU   \n",
       "\n",
       "   admissionheight  admissionweight icu_mort  icu_los         ...          \\\n",
       "0            152.4             84.3  EXPIRED   2.4972         ...           \n",
       "1            180.3             73.9    ALIVE   3.3423         ...           \n",
       "2            160.0             70.2    ALIVE   1.2979         ...           \n",
       "3            165.1             61.7    ALIVE  10.8923         ...           \n",
       "4            180.3             92.3    ALIVE   2.6631         ...           \n",
       "\n",
       "  mbp_48_inrange  sbp_48_inrange  dbp_48_inrange  mbp_72_inrange  \\\n",
       "0       0.533333        0.200000        0.200000        0.466667   \n",
       "1       0.153846        0.098039        0.078431        0.153846   \n",
       "2       0.316832             NaN             NaN        0.247525   \n",
       "3       0.131068        0.150485        0.009709        0.122881   \n",
       "4       0.631579        0.631579        0.421053        0.578947   \n",
       "\n",
       "   sbp_72_inrange  dbp_72_inrange  hospital_mortality  mbp_24_inrange_AKI  \\\n",
       "0        0.200000        0.200000                   1            0.000000   \n",
       "1        0.098039        0.078431                   0            0.000000   \n",
       "2             NaN             NaN                   0            0.087912   \n",
       "3        0.114407        0.084746                   0            0.000000   \n",
       "4        0.631579        0.421053                   0            0.210526   \n",
       "\n",
       "   sbp_24_inrange_AKI  dbp_24_inrange_AKI  \n",
       "0                 NaN                 NaN  \n",
       "1            0.000000                 0.0  \n",
       "2                 NaN                 NaN  \n",
       "3            0.186916                 0.0  \n",
       "4            0.263158                 0.0  \n",
       "\n",
       "[5 rows x 71 columns]"
      ]
     },
     "execution_count": 16,
     "metadata": {},
     "output_type": "execute_result"
    }
   ],
   "source": [
    "df3.head()"
   ]
  },
  {
   "cell_type": "code",
   "execution_count": 90,
   "metadata": {},
   "outputs": [],
   "source": [
    "# df3.plot(x='mbp_24_inrange', y='hosp_mort')\n",
    "df3['hospital_mortality']= 1\n",
    "df3.loc[df3['hosp_mort']=='ALIVE', 'hospital_mortality']=0"
   ]
  },
  {
   "cell_type": "code",
   "execution_count": 91,
   "metadata": {},
   "outputs": [
    {
     "data": {
      "text/html": [
       "<div>\n",
       "<style scoped>\n",
       "    .dataframe tbody tr th:only-of-type {\n",
       "        vertical-align: middle;\n",
       "    }\n",
       "\n",
       "    .dataframe tbody tr th {\n",
       "        vertical-align: top;\n",
       "    }\n",
       "\n",
       "    .dataframe thead th {\n",
       "        text-align: right;\n",
       "    }\n",
       "</style>\n",
       "<table border=\"1\" class=\"dataframe\">\n",
       "  <thead>\n",
       "    <tr style=\"text-align: right;\">\n",
       "      <th></th>\n",
       "      <th>hosp_mort</th>\n",
       "      <th>hospital_mortality</th>\n",
       "    </tr>\n",
       "  </thead>\n",
       "  <tbody>\n",
       "    <tr>\n",
       "      <th>0</th>\n",
       "      <td>EXPIRED</td>\n",
       "      <td>1</td>\n",
       "    </tr>\n",
       "    <tr>\n",
       "      <th>1</th>\n",
       "      <td>ALIVE</td>\n",
       "      <td>0</td>\n",
       "    </tr>\n",
       "  </tbody>\n",
       "</table>\n",
       "</div>"
      ],
      "text/plain": [
       "  hosp_mort  hospital_mortality\n",
       "0   EXPIRED                   1\n",
       "1     ALIVE                   0"
      ]
     },
     "execution_count": 91,
     "metadata": {},
     "output_type": "execute_result"
    }
   ],
   "source": [
    "df3[['hosp_mort','hospital_mortality']].head(2)"
   ]
  },
  {
   "cell_type": "code",
   "execution_count": 17,
   "metadata": {},
   "outputs": [],
   "source": [
    "df3.to_csv(\"./csv_folder/eicu_table1_wth_range_hosp_AKI.csv\")"
   ]
  },
  {
   "cell_type": "code",
   "execution_count": 192,
   "metadata": {},
   "outputs": [
    {
     "data": {
      "text/html": [
       "<div>\n",
       "<style scoped>\n",
       "    .dataframe tbody tr th:only-of-type {\n",
       "        vertical-align: middle;\n",
       "    }\n",
       "\n",
       "    .dataframe tbody tr th {\n",
       "        vertical-align: top;\n",
       "    }\n",
       "\n",
       "    .dataframe thead th {\n",
       "        text-align: right;\n",
       "    }\n",
       "</style>\n",
       "<table border=\"1\" class=\"dataframe\">\n",
       "  <thead>\n",
       "    <tr style=\"text-align: right;\">\n",
       "      <th></th>\n",
       "      <th>patientunitstayid</th>\n",
       "      <th>AKI_uo7day</th>\n",
       "    </tr>\n",
       "  </thead>\n",
       "  <tbody>\n",
       "    <tr>\n",
       "      <th>0</th>\n",
       "      <td>141179</td>\n",
       "      <td>0</td>\n",
       "    </tr>\n",
       "    <tr>\n",
       "      <th>1</th>\n",
       "      <td>141194</td>\n",
       "      <td>1</td>\n",
       "    </tr>\n",
       "  </tbody>\n",
       "</table>\n",
       "</div>"
      ],
      "text/plain": [
       "   patientunitstayid  AKI_uo7day\n",
       "0             141179           0\n",
       "1             141194           1"
      ]
     },
     "execution_count": 192,
     "metadata": {},
     "output_type": "execute_result"
    }
   ],
   "source": [
    "df_7day =pd.read_csv(\"./csv_folder/eicu_AKI_uo7day.csv\", index_col = 0,engine = 'python')\n",
    "df_7day.head(2)"
   ]
  },
  {
   "cell_type": "code",
   "execution_count": 194,
   "metadata": {},
   "outputs": [
    {
     "data": {
      "text/html": [
       "<div>\n",
       "<style scoped>\n",
       "    .dataframe tbody tr th:only-of-type {\n",
       "        vertical-align: middle;\n",
       "    }\n",
       "\n",
       "    .dataframe tbody tr th {\n",
       "        vertical-align: top;\n",
       "    }\n",
       "\n",
       "    .dataframe thead th {\n",
       "        text-align: right;\n",
       "    }\n",
       "</style>\n",
       "<table border=\"1\" class=\"dataframe\">\n",
       "  <thead>\n",
       "    <tr style=\"text-align: right;\">\n",
       "      <th></th>\n",
       "      <th>X</th>\n",
       "      <th>patientunitstayid</th>\n",
       "      <th>age</th>\n",
       "      <th>gender</th>\n",
       "      <th>ethnicity</th>\n",
       "      <th>unittype</th>\n",
       "      <th>admissionheight</th>\n",
       "      <th>admissionweight</th>\n",
       "      <th>icu_mort</th>\n",
       "      <th>icu_los</th>\n",
       "      <th>...</th>\n",
       "      <th>mbp_48_inrange</th>\n",
       "      <th>sbp_48_inrange</th>\n",
       "      <th>dbp_48_inrange</th>\n",
       "      <th>mbp_72_inrange</th>\n",
       "      <th>sbp_72_inrange</th>\n",
       "      <th>dbp_72_inrange</th>\n",
       "      <th>hospital_mortality</th>\n",
       "      <th>mbp_24_inrange_AKI</th>\n",
       "      <th>sbp_24_inrange_AKI</th>\n",
       "      <th>dbp_24_inrange_AKI</th>\n",
       "    </tr>\n",
       "  </thead>\n",
       "  <tbody>\n",
       "    <tr>\n",
       "      <th>0</th>\n",
       "      <td>0</td>\n",
       "      <td>141168</td>\n",
       "      <td>58</td>\n",
       "      <td>Female</td>\n",
       "      <td>Caucasian</td>\n",
       "      <td>Med-Surg ICU</td>\n",
       "      <td>152.4</td>\n",
       "      <td>84.3</td>\n",
       "      <td>EXPIRED</td>\n",
       "      <td>2.4972</td>\n",
       "      <td>...</td>\n",
       "      <td>0.533333</td>\n",
       "      <td>0.200000</td>\n",
       "      <td>0.200000</td>\n",
       "      <td>0.466667</td>\n",
       "      <td>0.200000</td>\n",
       "      <td>0.200000</td>\n",
       "      <td>1</td>\n",
       "      <td>0.0</td>\n",
       "      <td>NaN</td>\n",
       "      <td>NaN</td>\n",
       "    </tr>\n",
       "    <tr>\n",
       "      <th>1</th>\n",
       "      <td>1</td>\n",
       "      <td>141194</td>\n",
       "      <td>56</td>\n",
       "      <td>Male</td>\n",
       "      <td>Caucasian</td>\n",
       "      <td>CTICU</td>\n",
       "      <td>180.3</td>\n",
       "      <td>73.9</td>\n",
       "      <td>ALIVE</td>\n",
       "      <td>3.3423</td>\n",
       "      <td>...</td>\n",
       "      <td>0.153846</td>\n",
       "      <td>0.098039</td>\n",
       "      <td>0.078431</td>\n",
       "      <td>0.153846</td>\n",
       "      <td>0.098039</td>\n",
       "      <td>0.078431</td>\n",
       "      <td>0</td>\n",
       "      <td>0.0</td>\n",
       "      <td>0.0</td>\n",
       "      <td>0.0</td>\n",
       "    </tr>\n",
       "  </tbody>\n",
       "</table>\n",
       "<p>2 rows × 71 columns</p>\n",
       "</div>"
      ],
      "text/plain": [
       "   X  patientunitstayid  age  gender  ethnicity      unittype  \\\n",
       "0  0             141168   58  Female  Caucasian  Med-Surg ICU   \n",
       "1  1             141194   56    Male  Caucasian         CTICU   \n",
       "\n",
       "   admissionheight  admissionweight icu_mort  icu_los         ...          \\\n",
       "0            152.4             84.3  EXPIRED   2.4972         ...           \n",
       "1            180.3             73.9    ALIVE   3.3423         ...           \n",
       "\n",
       "  mbp_48_inrange  sbp_48_inrange  dbp_48_inrange  mbp_72_inrange  \\\n",
       "0       0.533333        0.200000        0.200000        0.466667   \n",
       "1       0.153846        0.098039        0.078431        0.153846   \n",
       "\n",
       "   sbp_72_inrange  dbp_72_inrange  hospital_mortality  mbp_24_inrange_AKI  \\\n",
       "0        0.200000        0.200000                   1                 0.0   \n",
       "1        0.098039        0.078431                   0                 0.0   \n",
       "\n",
       "   sbp_24_inrange_AKI  dbp_24_inrange_AKI  \n",
       "0                 NaN                 NaN  \n",
       "1                 0.0                 0.0  \n",
       "\n",
       "[2 rows x 71 columns]"
      ]
     },
     "execution_count": 194,
     "metadata": {},
     "output_type": "execute_result"
    }
   ],
   "source": [
    "df3 = pd.read_csv(\"./csv_folder/eicu_table1_wth_range_hosp_AKI.csv\", index_col = 0,engine = 'python')\n",
    "df3.head(2)"
   ]
  },
  {
   "cell_type": "code",
   "execution_count": 195,
   "metadata": {},
   "outputs": [
    {
     "data": {
      "text/html": [
       "<div>\n",
       "<style scoped>\n",
       "    .dataframe tbody tr th:only-of-type {\n",
       "        vertical-align: middle;\n",
       "    }\n",
       "\n",
       "    .dataframe tbody tr th {\n",
       "        vertical-align: top;\n",
       "    }\n",
       "\n",
       "    .dataframe thead th {\n",
       "        text-align: right;\n",
       "    }\n",
       "</style>\n",
       "<table border=\"1\" class=\"dataframe\">\n",
       "  <thead>\n",
       "    <tr style=\"text-align: right;\">\n",
       "      <th></th>\n",
       "      <th>X</th>\n",
       "      <th>patientunitstayid</th>\n",
       "      <th>age</th>\n",
       "      <th>gender</th>\n",
       "      <th>ethnicity</th>\n",
       "      <th>unittype</th>\n",
       "      <th>admissionheight</th>\n",
       "      <th>admissionweight</th>\n",
       "      <th>icu_mort</th>\n",
       "      <th>icu_los</th>\n",
       "      <th>...</th>\n",
       "      <th>dbp_48_inrange</th>\n",
       "      <th>mbp_72_inrange</th>\n",
       "      <th>sbp_72_inrange</th>\n",
       "      <th>dbp_72_inrange</th>\n",
       "      <th>hospital_mortality</th>\n",
       "      <th>mbp_24_inrange_AKI</th>\n",
       "      <th>sbp_24_inrange_AKI</th>\n",
       "      <th>dbp_24_inrange_AKI</th>\n",
       "      <th>AKI_uo7day</th>\n",
       "      <th>AKI_7day</th>\n",
       "    </tr>\n",
       "  </thead>\n",
       "  <tbody>\n",
       "    <tr>\n",
       "      <th>0</th>\n",
       "      <td>0</td>\n",
       "      <td>141168</td>\n",
       "      <td>58</td>\n",
       "      <td>Female</td>\n",
       "      <td>Caucasian</td>\n",
       "      <td>Med-Surg ICU</td>\n",
       "      <td>152.4</td>\n",
       "      <td>84.3</td>\n",
       "      <td>EXPIRED</td>\n",
       "      <td>2.4972</td>\n",
       "      <td>...</td>\n",
       "      <td>0.200000</td>\n",
       "      <td>0.466667</td>\n",
       "      <td>0.200000</td>\n",
       "      <td>0.200000</td>\n",
       "      <td>1</td>\n",
       "      <td>0.0</td>\n",
       "      <td>NaN</td>\n",
       "      <td>NaN</td>\n",
       "      <td>NaN</td>\n",
       "      <td>1.0</td>\n",
       "    </tr>\n",
       "    <tr>\n",
       "      <th>1</th>\n",
       "      <td>1</td>\n",
       "      <td>141194</td>\n",
       "      <td>56</td>\n",
       "      <td>Male</td>\n",
       "      <td>Caucasian</td>\n",
       "      <td>CTICU</td>\n",
       "      <td>180.3</td>\n",
       "      <td>73.9</td>\n",
       "      <td>ALIVE</td>\n",
       "      <td>3.3423</td>\n",
       "      <td>...</td>\n",
       "      <td>0.078431</td>\n",
       "      <td>0.153846</td>\n",
       "      <td>0.098039</td>\n",
       "      <td>0.078431</td>\n",
       "      <td>0</td>\n",
       "      <td>0.0</td>\n",
       "      <td>0.0</td>\n",
       "      <td>0.0</td>\n",
       "      <td>1.0</td>\n",
       "      <td>1.0</td>\n",
       "    </tr>\n",
       "  </tbody>\n",
       "</table>\n",
       "<p>2 rows × 73 columns</p>\n",
       "</div>"
      ],
      "text/plain": [
       "   X  patientunitstayid  age  gender  ethnicity      unittype  \\\n",
       "0  0             141168   58  Female  Caucasian  Med-Surg ICU   \n",
       "1  1             141194   56    Male  Caucasian         CTICU   \n",
       "\n",
       "   admissionheight  admissionweight icu_mort  icu_los    ...     \\\n",
       "0            152.4             84.3  EXPIRED   2.4972    ...      \n",
       "1            180.3             73.9    ALIVE   3.3423    ...      \n",
       "\n",
       "  dbp_48_inrange  mbp_72_inrange  sbp_72_inrange  dbp_72_inrange  \\\n",
       "0       0.200000        0.466667        0.200000        0.200000   \n",
       "1       0.078431        0.153846        0.098039        0.078431   \n",
       "\n",
       "   hospital_mortality  mbp_24_inrange_AKI  sbp_24_inrange_AKI  \\\n",
       "0                   1                 0.0                 NaN   \n",
       "1                   0                 0.0                 0.0   \n",
       "\n",
       "   dbp_24_inrange_AKI  AKI_uo7day  AKI_7day  \n",
       "0                 NaN         NaN       1.0  \n",
       "1                 0.0         1.0       1.0  \n",
       "\n",
       "[2 rows x 73 columns]"
      ]
     },
     "execution_count": 195,
     "metadata": {},
     "output_type": "execute_result"
    }
   ],
   "source": [
    "df_all = pd.merge(df3, df_7day.rename(columns={'patientunitstayid':'patientunitstayid'}), on='patientunitstayid',  how='left')\n",
    "df_all[\"AKI_7day\"] = df_all[[\"aki_creat\", \"AKI_uo7day\"]].max(axis=1)\n",
    "df_all.head(2)"
   ]
  },
  {
   "cell_type": "code",
   "execution_count": 196,
   "metadata": {},
   "outputs": [
    {
     "data": {
      "text/html": [
       "<div>\n",
       "<style scoped>\n",
       "    .dataframe tbody tr th:only-of-type {\n",
       "        vertical-align: middle;\n",
       "    }\n",
       "\n",
       "    .dataframe tbody tr th {\n",
       "        vertical-align: top;\n",
       "    }\n",
       "\n",
       "    .dataframe thead th {\n",
       "        text-align: right;\n",
       "    }\n",
       "</style>\n",
       "<table border=\"1\" class=\"dataframe\">\n",
       "  <thead>\n",
       "    <tr style=\"text-align: right;\">\n",
       "      <th></th>\n",
       "      <th>X</th>\n",
       "      <th>patientunitstayid</th>\n",
       "      <th>age</th>\n",
       "      <th>gender</th>\n",
       "      <th>ethnicity</th>\n",
       "      <th>unittype</th>\n",
       "      <th>admissionheight</th>\n",
       "      <th>admissionweight</th>\n",
       "      <th>icu_mort</th>\n",
       "      <th>icu_los</th>\n",
       "      <th>...</th>\n",
       "      <th>dbp_48_inrange</th>\n",
       "      <th>mbp_72_inrange</th>\n",
       "      <th>sbp_72_inrange</th>\n",
       "      <th>dbp_72_inrange</th>\n",
       "      <th>hospital_mortality</th>\n",
       "      <th>mbp_24_inrange_AKI</th>\n",
       "      <th>sbp_24_inrange_AKI</th>\n",
       "      <th>dbp_24_inrange_AKI</th>\n",
       "      <th>AKI_uo7day</th>\n",
       "      <th>AKI_7day</th>\n",
       "    </tr>\n",
       "  </thead>\n",
       "  <tbody>\n",
       "    <tr>\n",
       "      <th>0</th>\n",
       "      <td>0</td>\n",
       "      <td>141168</td>\n",
       "      <td>58</td>\n",
       "      <td>Female</td>\n",
       "      <td>Caucasian</td>\n",
       "      <td>Med-Surg ICU</td>\n",
       "      <td>152.4</td>\n",
       "      <td>84.3</td>\n",
       "      <td>EXPIRED</td>\n",
       "      <td>2.4972</td>\n",
       "      <td>...</td>\n",
       "      <td>0.200000</td>\n",
       "      <td>0.466667</td>\n",
       "      <td>0.200000</td>\n",
       "      <td>0.200000</td>\n",
       "      <td>1</td>\n",
       "      <td>0.0</td>\n",
       "      <td>NaN</td>\n",
       "      <td>NaN</td>\n",
       "      <td>NaN</td>\n",
       "      <td>1.0</td>\n",
       "    </tr>\n",
       "    <tr>\n",
       "      <th>1</th>\n",
       "      <td>1</td>\n",
       "      <td>141194</td>\n",
       "      <td>56</td>\n",
       "      <td>Male</td>\n",
       "      <td>Caucasian</td>\n",
       "      <td>CTICU</td>\n",
       "      <td>180.3</td>\n",
       "      <td>73.9</td>\n",
       "      <td>ALIVE</td>\n",
       "      <td>3.3423</td>\n",
       "      <td>...</td>\n",
       "      <td>0.078431</td>\n",
       "      <td>0.153846</td>\n",
       "      <td>0.098039</td>\n",
       "      <td>0.078431</td>\n",
       "      <td>0</td>\n",
       "      <td>0.0</td>\n",
       "      <td>0.0</td>\n",
       "      <td>0.0</td>\n",
       "      <td>1.0</td>\n",
       "      <td>1.0</td>\n",
       "    </tr>\n",
       "  </tbody>\n",
       "</table>\n",
       "<p>2 rows × 73 columns</p>\n",
       "</div>"
      ],
      "text/plain": [
       "   X  patientunitstayid  age  gender  ethnicity      unittype  \\\n",
       "0  0             141168   58  Female  Caucasian  Med-Surg ICU   \n",
       "1  1             141194   56    Male  Caucasian         CTICU   \n",
       "\n",
       "   admissionheight  admissionweight icu_mort  icu_los    ...     \\\n",
       "0            152.4             84.3  EXPIRED   2.4972    ...      \n",
       "1            180.3             73.9    ALIVE   3.3423    ...      \n",
       "\n",
       "  dbp_48_inrange  mbp_72_inrange  sbp_72_inrange  dbp_72_inrange  \\\n",
       "0       0.200000        0.466667        0.200000        0.200000   \n",
       "1       0.078431        0.153846        0.098039        0.078431   \n",
       "\n",
       "   hospital_mortality  mbp_24_inrange_AKI  sbp_24_inrange_AKI  \\\n",
       "0                   1                 0.0                 NaN   \n",
       "1                   0                 0.0                 0.0   \n",
       "\n",
       "   dbp_24_inrange_AKI  AKI_uo7day  AKI_7day  \n",
       "0                 NaN         NaN       1.0  \n",
       "1                 0.0         1.0       1.0  \n",
       "\n",
       "[2 rows x 73 columns]"
      ]
     },
     "execution_count": 196,
     "metadata": {},
     "output_type": "execute_result"
    }
   ],
   "source": [
    "df_include =df_all[(df_all['exclude_age']==False) &(df_all['exclude_gender']==False) & (df_all['exclude_mort_los'])==False]\n",
    "df_include.head(2)"
   ]
  },
  {
   "cell_type": "code",
   "execution_count": 197,
   "metadata": {},
   "outputs": [
    {
     "data": {
      "text/plain": [
       "(18572, 73)"
      ]
     },
     "execution_count": 197,
     "metadata": {},
     "output_type": "execute_result"
    }
   ],
   "source": [
    "df_include.shape"
   ]
  },
  {
   "cell_type": "code",
   "execution_count": 198,
   "metadata": {},
   "outputs": [
    {
     "data": {
      "text/plain": [
       "15641"
      ]
     },
     "execution_count": 198,
     "metadata": {},
     "output_type": "execute_result"
    }
   ],
   "source": [
    "sum(df_include['AKI_7day']==1)"
   ]
  },
  {
   "cell_type": "code",
   "execution_count": 199,
   "metadata": {},
   "outputs": [
    {
     "data": {
      "text/plain": [
       "0.8132134395864743"
      ]
     },
     "execution_count": 199,
     "metadata": {},
     "output_type": "execute_result"
    }
   ],
   "source": [
    "sum(df_include['AKI_uo7day']==1)/(df_include.shape[0])"
   ]
  },
  {
   "cell_type": "code",
   "execution_count": 200,
   "metadata": {},
   "outputs": [
    {
     "data": {
      "text/plain": [
       "0.8324926334715078"
      ]
     },
     "execution_count": 200,
     "metadata": {},
     "output_type": "execute_result"
    }
   ],
   "source": [
    "sum(df_all['AKI_7day']==1)/(df_all.shape[0])"
   ]
  },
  {
   "cell_type": "code",
   "execution_count": 201,
   "metadata": {},
   "outputs": [
    {
     "data": {
      "text/plain": [
       "(20023, 73)"
      ]
     },
     "execution_count": 201,
     "metadata": {},
     "output_type": "execute_result"
    }
   ],
   "source": [
    "df_all.shape"
   ]
  },
  {
   "cell_type": "code",
   "execution_count": 73,
   "metadata": {},
   "outputs": [
    {
     "data": {
      "text/html": [
       "<div>\n",
       "<style scoped>\n",
       "    .dataframe tbody tr th:only-of-type {\n",
       "        vertical-align: middle;\n",
       "    }\n",
       "\n",
       "    .dataframe tbody tr th {\n",
       "        vertical-align: top;\n",
       "    }\n",
       "\n",
       "    .dataframe thead th {\n",
       "        text-align: right;\n",
       "    }\n",
       "</style>\n",
       "<table border=\"1\" class=\"dataframe\">\n",
       "  <thead>\n",
       "    <tr style=\"text-align: right;\">\n",
       "      <th></th>\n",
       "      <th>Unnamed: 0.1</th>\n",
       "      <th>patientunitstayid</th>\n",
       "      <th>age</th>\n",
       "      <th>gender</th>\n",
       "      <th>ethnicity</th>\n",
       "      <th>unittype</th>\n",
       "      <th>admissionheight</th>\n",
       "      <th>admissionweight</th>\n",
       "      <th>dischargeweight</th>\n",
       "      <th>icu_mort</th>\n",
       "      <th>...</th>\n",
       "      <th>ihd</th>\n",
       "      <th>cebrovascular_accident</th>\n",
       "      <th>sepsis_binary</th>\n",
       "      <th>vasopressor</th>\n",
       "      <th>vasopressin</th>\n",
       "      <th>heparin</th>\n",
       "      <th>aki_creat</th>\n",
       "      <th>apache_iv</th>\n",
       "      <th>aki_uo</th>\n",
       "      <th>AKI</th>\n",
       "    </tr>\n",
       "  </thead>\n",
       "  <tbody>\n",
       "    <tr>\n",
       "      <th>0</th>\n",
       "      <td>0</td>\n",
       "      <td>141168</td>\n",
       "      <td>70</td>\n",
       "      <td>Female</td>\n",
       "      <td>Caucasian</td>\n",
       "      <td>Med-Surg ICU</td>\n",
       "      <td>152.4</td>\n",
       "      <td>84.3</td>\n",
       "      <td>85.8</td>\n",
       "      <td>EXPIRED</td>\n",
       "      <td>...</td>\n",
       "      <td>1.0</td>\n",
       "      <td>0.0</td>\n",
       "      <td>0</td>\n",
       "      <td>NaN</td>\n",
       "      <td>NaN</td>\n",
       "      <td>NaN</td>\n",
       "      <td>1.0</td>\n",
       "      <td>65.0</td>\n",
       "      <td>1</td>\n",
       "      <td>1.0</td>\n",
       "    </tr>\n",
       "    <tr>\n",
       "      <th>1</th>\n",
       "      <td>1</td>\n",
       "      <td>141194</td>\n",
       "      <td>68</td>\n",
       "      <td>Male</td>\n",
       "      <td>Caucasian</td>\n",
       "      <td>CTICU</td>\n",
       "      <td>180.3</td>\n",
       "      <td>73.9</td>\n",
       "      <td>76.7</td>\n",
       "      <td>ALIVE</td>\n",
       "      <td>...</td>\n",
       "      <td>NaN</td>\n",
       "      <td>NaN</td>\n",
       "      <td>1</td>\n",
       "      <td>NaN</td>\n",
       "      <td>NaN</td>\n",
       "      <td>NaN</td>\n",
       "      <td>0.0</td>\n",
       "      <td>70.0</td>\n",
       "      <td>1</td>\n",
       "      <td>1.0</td>\n",
       "    </tr>\n",
       "  </tbody>\n",
       "</table>\n",
       "<p>2 rows × 34 columns</p>\n",
       "</div>"
      ],
      "text/plain": [
       "   Unnamed: 0.1  patientunitstayid age  gender  ethnicity      unittype  \\\n",
       "0             0             141168  70  Female  Caucasian  Med-Surg ICU   \n",
       "1             1             141194  68    Male  Caucasian         CTICU   \n",
       "\n",
       "   admissionheight  admissionweight  dischargeweight icu_mort ...   ihd  \\\n",
       "0            152.4             84.3             85.8  EXPIRED ...   1.0   \n",
       "1            180.3             73.9             76.7    ALIVE ...   NaN   \n",
       "\n",
       "  cebrovascular_accident  sepsis_binary  vasopressor  vasopressin  heparin  \\\n",
       "0                    0.0              0          NaN          NaN      NaN   \n",
       "1                    NaN              1          NaN          NaN      NaN   \n",
       "\n",
       "   aki_creat  apache_iv  aki_uo  AKI  \n",
       "0        1.0       65.0       1  1.0  \n",
       "1        0.0       70.0       1  1.0  \n",
       "\n",
       "[2 rows x 34 columns]"
      ]
     },
     "execution_count": 73,
     "metadata": {},
     "output_type": "execute_result"
    }
   ],
   "source": [
    "table1 = pd.read_csv(\"./csv_folder/BP_data_table1_Jul13.csv\", index_col = 0,engine = 'python')\n",
    "table1.head(2)"
   ]
  },
  {
   "cell_type": "code",
   "execution_count": 74,
   "metadata": {},
   "outputs": [
    {
     "data": {
      "text/plain": [
       "array(['Caucasian', 'Hispanic', nan, 'African American', 'Asian',\n",
       "       'Native American', 'Other/Unknown'], dtype=object)"
      ]
     },
     "execution_count": 74,
     "metadata": {},
     "output_type": "execute_result"
    }
   ],
   "source": [
    "table1.ethnicity.unique()"
   ]
  },
  {
   "cell_type": "code",
   "execution_count": 75,
   "metadata": {},
   "outputs": [
    {
     "data": {
      "text/plain": [
       "(21338, 34)"
      ]
     },
     "execution_count": 75,
     "metadata": {},
     "output_type": "execute_result"
    }
   ],
   "source": [
    "table1.shape"
   ]
  },
  {
   "cell_type": "code",
   "execution_count": 147,
   "metadata": {},
   "outputs": [
    {
     "data": {
      "text/plain": [
       "(21338, 57)"
      ]
     },
     "execution_count": 147,
     "metadata": {},
     "output_type": "execute_result"
    }
   ],
   "source": [
    "df0 = pd.read_csv(\"./csv_folder/eicu_processed.csv\", index_col = 0,engine = 'python')\n",
    "df0.shape"
   ]
  },
  {
   "cell_type": "code",
   "execution_count": 148,
   "metadata": {},
   "outputs": [
    {
     "data": {
      "text/plain": [
       "(19165, 57)"
      ]
     },
     "execution_count": 148,
     "metadata": {},
     "output_type": "execute_result"
    }
   ],
   "source": [
    "df0['exclude_apache']=False\n",
    "df0.loc[df0['apache_iv']== -1,'exclude_apache']=True\n",
    "\n",
    "df1 = df0[(df0['exclude_age']==False) & (df0['exclude_gender']==False )&(df0['exclude_mort_los']==False) &(df0['exclude_apache']==False) ]\n",
    "df1.shape"
   ]
  },
  {
   "cell_type": "code",
   "execution_count": 149,
   "metadata": {},
   "outputs": [
    {
     "data": {
      "text/plain": [
       "(14908, 57)"
      ]
     },
     "execution_count": 149,
     "metadata": {},
     "output_type": "execute_result"
    }
   ],
   "source": [
    "df2= df1[(df1['ibp_mean_24h'].notnull()) & (df1['ibp_systolic_24h'].notnull()) & (df1['ibp_diastolic_24h'].notnull())]\n",
    "df2.shape"
   ]
  },
  {
   "cell_type": "code",
   "execution_count": 150,
   "metadata": {},
   "outputs": [
    {
     "name": "stderr",
     "output_type": "stream",
     "text": [
      "/home/ephlius/.virtualenvs/3/lib/python3.6/site-packages/pandas/core/indexing.py:543: SettingWithCopyWarning:\n",
      "\n",
      "\n",
      "A value is trying to be set on a copy of a slice from a DataFrame.\n",
      "Try using .loc[row_indexer,col_indexer] = value instead\n",
      "\n",
      "See the caveats in the documentation: http://pandas.pydata.org/pandas-docs/stable/indexing.html#indexing-view-versus-copy\n",
      "\n"
     ]
    }
   ],
   "source": [
    "df2.loc[df2['ethnicity'].isna(), 'ethnicity'] = \"Others\""
   ]
  },
  {
   "cell_type": "code",
   "execution_count": 123,
   "metadata": {},
   "outputs": [
    {
     "data": {
      "text/plain": [
       "array(['Caucasian', 'Hispanic', 'Others', 'African American',\n",
       "       'Native American', 'Asian'], dtype=object)"
      ]
     },
     "execution_count": 123,
     "metadata": {},
     "output_type": "execute_result"
    }
   ],
   "source": [
    "df2.ethnicity.unique()"
   ]
  },
  {
   "cell_type": "code",
   "execution_count": 124,
   "metadata": {},
   "outputs": [
    {
     "data": {
      "text/plain": [
       "62"
      ]
     },
     "execution_count": 124,
     "metadata": {},
     "output_type": "execute_result"
    }
   ],
   "source": [
    "df2.admissionheight.isna().sum()"
   ]
  },
  {
   "cell_type": "code",
   "execution_count": 125,
   "metadata": {},
   "outputs": [
    {
     "data": {
      "text/plain": [
       "467"
      ]
     },
     "execution_count": 125,
     "metadata": {},
     "output_type": "execute_result"
    }
   ],
   "source": [
    "df2.admissionweight.isna().sum()"
   ]
  },
  {
   "cell_type": "code",
   "execution_count": 157,
   "metadata": {},
   "outputs": [
    {
     "data": {
      "text/plain": [
       "Index(['patientunitstayid', 'age', 'gender', 'ethnicity', 'unittype',\n",
       "       'admissionheight', 'admissionweight', 'icu_mort', 'icu_los',\n",
       "       'hosp_mort', 'hosp_los', 'ventilation_duration_days', 'nettotal',\n",
       "       'hypertension', 'atrial_fibrillation', 'cancer', 'chf', 'ckd', 'cld',\n",
       "       'copd', 'diabetes', 'ihd', 'cebrovascular_accident', 'sepsis_binary',\n",
       "       'vasopressin', 'aki_creat', 'apache_iv', 'aki_uo', 'AKI', '24hrs_hr',\n",
       "       '48hrs_hr', '72hrs_hr', 'exclude_vaso', 'sofatotal', 'exclude_age',\n",
       "       'exclude_gender', 'exclude_ethnicity', 'exclude_admissionheight',\n",
       "       'exclude_admissionweight', 'bmi', 'exclude_mort_los', 'exclude_apache',\n",
       "       'heartrate', 'respiratoryrate', 'exclude_heartrate',\n",
       "       'exclude_respiratoryrate', 'temperature', 'exclude_temperature',\n",
       "       'ibp_systolic_24h', 'ibp_systolic_48h', 'ibp_systolic_72h',\n",
       "       'ibp_diastolic_24h', 'ibp_diastolic_48h', 'ibp_diastolic_72h',\n",
       "       'ibp_mean_24h', 'ibp_mean_48h', 'ibp_mean_72h'],\n",
       "      dtype='object')"
      ]
     },
     "execution_count": 157,
     "metadata": {},
     "output_type": "execute_result"
    }
   ],
   "source": [
    "df2.columns"
   ]
  },
  {
   "cell_type": "code",
   "execution_count": 152,
   "metadata": {},
   "outputs": [
    {
     "name": "stderr",
     "output_type": "stream",
     "text": [
      "/home/ephlius/.virtualenvs/3/lib/python3.6/site-packages/pandas/core/indexing.py:543: SettingWithCopyWarning:\n",
      "\n",
      "\n",
      "A value is trying to be set on a copy of a slice from a DataFrame.\n",
      "Try using .loc[row_indexer,col_indexer] = value instead\n",
      "\n",
      "See the caveats in the documentation: http://pandas.pydata.org/pandas-docs/stable/indexing.html#indexing-view-versus-copy\n",
      "\n"
     ]
    }
   ],
   "source": [
    "df2.loc[df2['24hrs_hr'].isna(),'24hrs_hr']=0\n",
    "df2.loc[df2['48hrs_hr'].isna(),'48hrs_hr']=0\n",
    "df2.loc[df2['72hrs_hr'].isna(),'72hrs_hr']=0"
   ]
  },
  {
   "cell_type": "code",
   "execution_count": 158,
   "metadata": {},
   "outputs": [
    {
     "data": {
      "text/html": [
       "<div>\n",
       "<style scoped>\n",
       "    .dataframe tbody tr th:only-of-type {\n",
       "        vertical-align: middle;\n",
       "    }\n",
       "\n",
       "    .dataframe tbody tr th {\n",
       "        vertical-align: top;\n",
       "    }\n",
       "\n",
       "    .dataframe thead th {\n",
       "        text-align: right;\n",
       "    }\n",
       "</style>\n",
       "<table border=\"1\" class=\"dataframe\">\n",
       "  <thead>\n",
       "    <tr style=\"text-align: right;\">\n",
       "      <th></th>\n",
       "      <th>age</th>\n",
       "    </tr>\n",
       "  </thead>\n",
       "  <tbody>\n",
       "    <tr>\n",
       "      <th>count</th>\n",
       "      <td>14908</td>\n",
       "    </tr>\n",
       "    <tr>\n",
       "      <th>unique</th>\n",
       "      <td>76</td>\n",
       "    </tr>\n",
       "    <tr>\n",
       "      <th>top</th>\n",
       "      <td>67</td>\n",
       "    </tr>\n",
       "    <tr>\n",
       "      <th>freq</th>\n",
       "      <td>476</td>\n",
       "    </tr>\n",
       "  </tbody>\n",
       "</table>\n",
       "</div>"
      ],
      "text/plain": [
       "          age\n",
       "count   14908\n",
       "unique     76\n",
       "top        67\n",
       "freq      476"
      ]
     },
     "execution_count": 158,
     "metadata": {},
     "output_type": "execute_result"
    }
   ],
   "source": [
    "df2['age']=df2['age'].astype(int)"
   ]
  },
  {
   "cell_type": "code",
   "execution_count": 167,
   "metadata": {},
   "outputs": [
    {
     "data": {
      "text/plain": [
       "Index(['patientunitstayid', 'age', 'gender', 'ethnicity', 'unittype',\n",
       "       'admissionheight', 'admissionweight', 'icu_mort', 'icu_los',\n",
       "       'hosp_mort', 'hosp_los', 'ventilation_duration_days', 'nettotal',\n",
       "       'hypertension', 'atrial_fibrillation', 'cancer', 'chf', 'ckd', 'cld',\n",
       "       'copd', 'diabetes', 'ihd', 'cebrovascular_accident', 'sepsis_binary',\n",
       "       'vasopressin', 'aki_creat', 'apache_iv', 'aki_uo', 'AKI', '24hrs_hr',\n",
       "       '48hrs_hr', '72hrs_hr', 'exclude_vaso', 'sofatotal', 'exclude_age',\n",
       "       'exclude_gender', 'exclude_ethnicity', 'exclude_admissionheight',\n",
       "       'exclude_admissionweight', 'bmi', 'exclude_mort_los', 'exclude_apache',\n",
       "       'heartrate', 'respiratoryrate', 'exclude_heartrate',\n",
       "       'exclude_respiratoryrate', 'temperature', 'exclude_temperature',\n",
       "       'ibp_systolic_24h', 'ibp_systolic_48h', 'ibp_systolic_72h',\n",
       "       'ibp_diastolic_24h', 'ibp_diastolic_48h', 'ibp_diastolic_72h',\n",
       "       'ibp_mean_24h', 'ibp_mean_48h', 'ibp_mean_72h'],\n",
       "      dtype='object')"
      ]
     },
     "execution_count": 167,
     "metadata": {},
     "output_type": "execute_result"
    }
   ],
   "source": [
    "df2.columns"
   ]
  },
  {
   "cell_type": "code",
   "execution_count": 168,
   "metadata": {},
   "outputs": [],
   "source": [
    "df3 = df2[['patientunitstayid','gender','age','ethnicity','ibp_mean_24h','ibp_systolic_24h','admissionheight','admissionweight']]\n",
    "df3 = pd.get_dummies(df3, columns=['gender'])\n",
    "df3 = pd.get_dummies(df3, columns=['ethnicity'])"
   ]
  },
  {
   "cell_type": "code",
   "execution_count": 169,
   "metadata": {},
   "outputs": [],
   "source": [
    "MICE_imputer = IterativeImputer()\n",
    "height_MICE = df3.copy(deep=True)\n",
    "height_MICE.iloc[:, :] = MICE_imputer.fit_transform(height_MICE)"
   ]
  },
  {
   "cell_type": "code",
   "execution_count": 173,
   "metadata": {},
   "outputs": [],
   "source": [
    "df_impute = height_MICE.filter(['patientunitstayid','admissionheight','admissionweight'],axis=1)\n",
    "df_impute.columns = ['patientunitstayid','height_impute','weight_impute']"
   ]
  },
  {
   "cell_type": "code",
   "execution_count": 175,
   "metadata": {},
   "outputs": [],
   "source": [
    "df4 = pd.merge(df2, df_impute, how='left', on=['patientunitstayid'])"
   ]
  },
  {
   "cell_type": "code",
   "execution_count": 176,
   "metadata": {},
   "outputs": [
    {
     "data": {
      "text/plain": [
       "Index(['patientunitstayid', 'age', 'gender', 'ethnicity', 'unittype',\n",
       "       'admissionheight', 'admissionweight', 'icu_mort', 'icu_los',\n",
       "       'hosp_mort', 'hosp_los', 'ventilation_duration_days', 'nettotal',\n",
       "       'hypertension', 'atrial_fibrillation', 'cancer', 'chf', 'ckd', 'cld',\n",
       "       'copd', 'diabetes', 'ihd', 'cebrovascular_accident', 'sepsis_binary',\n",
       "       'vasopressin', 'aki_creat', 'apache_iv', 'aki_uo', 'AKI', '24hrs_hr',\n",
       "       '48hrs_hr', '72hrs_hr', 'exclude_vaso', 'sofatotal', 'exclude_age',\n",
       "       'exclude_gender', 'exclude_ethnicity', 'exclude_admissionheight',\n",
       "       'exclude_admissionweight', 'bmi', 'exclude_mort_los', 'exclude_apache',\n",
       "       'heartrate', 'respiratoryrate', 'exclude_heartrate',\n",
       "       'exclude_respiratoryrate', 'temperature', 'exclude_temperature',\n",
       "       'ibp_systolic_24h', 'ibp_systolic_48h', 'ibp_systolic_72h',\n",
       "       'ibp_diastolic_24h', 'ibp_diastolic_48h', 'ibp_diastolic_72h',\n",
       "       'ibp_mean_24h', 'ibp_mean_48h', 'ibp_mean_72h', 'height_impute',\n",
       "       'weight_impute'],\n",
       "      dtype='object')"
      ]
     },
     "execution_count": 176,
     "metadata": {},
     "output_type": "execute_result"
    }
   ],
   "source": [
    "df4.columns"
   ]
  },
  {
   "cell_type": "code",
   "execution_count": 180,
   "metadata": {},
   "outputs": [
    {
     "data": {
      "text/plain": [
       "count    14908.000000\n",
       "mean       170.303490\n",
       "std         12.359168\n",
       "min          0.000000\n",
       "25%        162.600000\n",
       "50%        170.200000\n",
       "75%        177.800000\n",
       "max        227.300000\n",
       "Name: height_impute, dtype: float64"
      ]
     },
     "execution_count": 180,
     "metadata": {},
     "output_type": "execute_result"
    }
   ],
   "source": [
    "df4.height_impute.describe()"
   ]
  },
  {
   "cell_type": "code",
   "execution_count": 182,
   "metadata": {},
   "outputs": [],
   "source": [
    "height_min = df4['height_impute'].quantile(.25) - 1.5 * (df4['height_impute'].quantile(.75) - df4['height_impute'].quantile(.25)) # 139.8\n",
    "height_max = df4['height_impute'].quantile(.75) + 1.5 * (df4['height_impute'].quantile(.75) - df4['height_impute'].quantile(.25)) # 200.6"
   ]
  },
  {
   "cell_type": "code",
   "execution_count": 184,
   "metadata": {},
   "outputs": [],
   "source": [
    "df4['exclude_height'] = False\n",
    "df4.loc[(df4['height_impute']>height_max )|(df4['height_impute']<height_min ),'exclude_height'] = True"
   ]
  },
  {
   "cell_type": "code",
   "execution_count": 185,
   "metadata": {},
   "outputs": [
    {
     "data": {
      "text/plain": [
       "count    14815.000000\n",
       "mean       170.664165\n",
       "std         10.305155\n",
       "min        140.000000\n",
       "25%        162.600000\n",
       "50%        170.200000\n",
       "75%        177.800000\n",
       "max        200.000000\n",
       "Name: height_impute, dtype: float64"
      ]
     },
     "execution_count": 185,
     "metadata": {},
     "output_type": "execute_result"
    }
   ],
   "source": [
    "df4[df4['exclude_height']==False].height_impute.describe()"
   ]
  },
  {
   "cell_type": "code",
   "execution_count": 186,
   "metadata": {},
   "outputs": [],
   "source": [
    "weight_min = df4['weight_impute'].quantile(.25) - 1.5 * (df4['weight_impute'].quantile(.75) - df4['weight_impute'].quantile(.25)) # 139.8\n",
    "weight_max = df4['weight_impute'].quantile(.75) + 1.5 * (df4['weight_impute'].quantile(.75) - df4['weight_impute'].quantile(.25)) # 200.6"
   ]
  },
  {
   "cell_type": "code",
   "execution_count": 188,
   "metadata": {},
   "outputs": [],
   "source": [
    "df4['exclude_weight'] = False\n",
    "df4.loc[(df4['weight_impute']>weight_max )|(df4['weight_impute']<weight_min ),'exclude_weight'] = True"
   ]
  },
  {
   "cell_type": "code",
   "execution_count": 191,
   "metadata": {},
   "outputs": [
    {
     "data": {
      "text/plain": [
       "count    14459.000000\n",
       "mean        84.617840\n",
       "std         21.053959\n",
       "min         25.600000\n",
       "25%         69.445000\n",
       "50%         83.000000\n",
       "75%         98.200000\n",
       "max        144.700000\n",
       "Name: weight_impute, dtype: float64"
      ]
     },
     "execution_count": 191,
     "metadata": {},
     "output_type": "execute_result"
    }
   ],
   "source": [
    "df4[df4['exclude_weight']==False].weight_impute.describe()"
   ]
  },
  {
   "cell_type": "code",
   "execution_count": null,
   "metadata": {},
   "outputs": [],
   "source": []
  }
 ],
 "metadata": {
  "kernelspec": {
   "display_name": "Python 3",
   "language": "python",
   "name": "py3"
  },
  "language_info": {
   "codemirror_mode": {
    "name": "ipython",
    "version": 3
   },
   "file_extension": ".py",
   "mimetype": "text/x-python",
   "name": "python",
   "nbconvert_exporter": "python",
   "pygments_lexer": "ipython3",
   "version": "3.6.5"
  }
 },
 "nbformat": 4,
 "nbformat_minor": 2
}
