{
 "cells": [
  {
   "cell_type": "code",
   "execution_count": 576,
   "metadata": {},
   "outputs": [],
   "source": [
    "library(mgcv)\n",
    "library(dplyr)\n",
    "library(gdata)\n",
    "library(epitools)\n",
    "library(tableone)"
   ]
  },
  {
   "cell_type": "code",
   "execution_count": 595,
   "metadata": {},
   "outputs": [
    {
     "data": {
      "text/html": [
       "<table>\n",
       "<thead><tr><th scope=col>patientunitstayid</th><th scope=col>age</th><th scope=col>gender</th><th scope=col>ethnicity</th><th scope=col>unittype</th><th scope=col>icu_mortality</th><th scope=col>hospital_expire_flag</th><th scope=col>apache_iv</th><th scope=col>sofatotal</th><th scope=col>vasso_duration_24h</th><th scope=col>⋯</th><th scope=col>use_vasopressor</th><th scope=col>propBelow_map_24</th><th scope=col>propAbove_map_24</th><th scope=col>prop_map_24</th><th scope=col>propBelow_asp_24</th><th scope=col>propAbove_asp_24</th><th scope=col>prop_asp_24</th><th scope=col>propBelow_adp_24</th><th scope=col>propAbove_adp_24</th><th scope=col>prop_adp_24</th></tr></thead>\n",
       "<tbody>\n",
       "\t<tr><td>141194     </td><td>68         </td><td>M          </td><td>Caucasian  </td><td>CTICU      </td><td>0          </td><td>0          </td><td>70         </td><td> 3         </td><td> 0.00      </td><td>⋯          </td><td>0          </td><td>1.0000000  </td><td>0.0000000  </td><td>0.0000000  </td><td>0.8750000  </td><td>0.000000   </td><td>0.1250000  </td><td>1.0000000  </td><td>0.000000000</td><td>0.00000000 </td></tr>\n",
       "\t<tr><td>141233     </td><td>81         </td><td>F          </td><td>Caucasian  </td><td>CTICU      </td><td>0          </td><td>0          </td><td>66         </td><td>12         </td><td>23.97      </td><td>⋯          </td><td>1          </td><td>0.4579439  </td><td>0.2523364  </td><td>0.2897196  </td><td>0.3457944  </td><td>0.364486   </td><td>0.2897196  </td><td>0.9065421  </td><td>0.009345794</td><td>0.08411215 </td></tr>\n",
       "</tbody>\n",
       "</table>\n"
      ],
      "text/latex": [
       "\\begin{tabular}{r|llllllllllllllllllllllllllllllllllllllllllllll}\n",
       " patientunitstayid & age & gender & ethnicity & unittype & icu\\_mortality & hospital\\_expire\\_flag & apache\\_iv & sofatotal & vasso\\_duration\\_24h & ⋯ & use\\_vasopressor & propBelow\\_map\\_24 & propAbove\\_map\\_24 & prop\\_map\\_24 & propBelow\\_asp\\_24 & propAbove\\_asp\\_24 & prop\\_asp\\_24 & propBelow\\_adp\\_24 & propAbove\\_adp\\_24 & prop\\_adp\\_24\\\\\n",
       "\\hline\n",
       "\t 141194      & 68          & M           & Caucasian   & CTICU       & 0           & 0           & 70          &  3          &  0.00       & ⋯           & 0           & 1.0000000   & 0.0000000   & 0.0000000   & 0.8750000   & 0.000000    & 0.1250000   & 1.0000000   & 0.000000000 & 0.00000000 \\\\\n",
       "\t 141233      & 81          & F           & Caucasian   & CTICU       & 0           & 0           & 66          & 12          & 23.97       & ⋯           & 1           & 0.4579439   & 0.2523364   & 0.2897196   & 0.3457944   & 0.364486    & 0.2897196   & 0.9065421   & 0.009345794 & 0.08411215 \\\\\n",
       "\\end{tabular}\n"
      ],
      "text/markdown": [
       "\n",
       "patientunitstayid | age | gender | ethnicity | unittype | icu_mortality | hospital_expire_flag | apache_iv | sofatotal | vasso_duration_24h | ⋯ | use_vasopressor | propBelow_map_24 | propAbove_map_24 | prop_map_24 | propBelow_asp_24 | propAbove_asp_24 | prop_asp_24 | propBelow_adp_24 | propAbove_adp_24 | prop_adp_24 | \n",
       "|---|---|\n",
       "| 141194      | 68          | M           | Caucasian   | CTICU       | 0           | 0           | 70          |  3          |  0.00       | ⋯           | 0           | 1.0000000   | 0.0000000   | 0.0000000   | 0.8750000   | 0.000000    | 0.1250000   | 1.0000000   | 0.000000000 | 0.00000000  | \n",
       "| 141233      | 81          | F           | Caucasian   | CTICU       | 0           | 0           | 66          | 12          | 23.97       | ⋯           | 1           | 0.4579439   | 0.2523364   | 0.2897196   | 0.3457944   | 0.364486    | 0.2897196   | 0.9065421   | 0.009345794 | 0.08411215  | \n",
       "\n",
       "\n"
      ],
      "text/plain": [
       "  patientunitstayid age gender ethnicity unittype icu_mortality\n",
       "1 141194            68  M      Caucasian CTICU    0            \n",
       "2 141233            81  F      Caucasian CTICU    0            \n",
       "  hospital_expire_flag apache_iv sofatotal vasso_duration_24h ⋯ use_vasopressor\n",
       "1 0                    70         3         0.00              ⋯ 0              \n",
       "2 0                    66        12        23.97              ⋯ 1              \n",
       "  propBelow_map_24 propAbove_map_24 prop_map_24 propBelow_asp_24\n",
       "1 1.0000000        0.0000000        0.0000000   0.8750000       \n",
       "2 0.4579439        0.2523364        0.2897196   0.3457944       \n",
       "  propAbove_asp_24 prop_asp_24 propBelow_adp_24 propAbove_adp_24 prop_adp_24\n",
       "1 0.000000         0.1250000   1.0000000        0.000000000      0.00000000 \n",
       "2 0.364486         0.2897196   0.9065421        0.009345794      0.08411215 "
      ]
     },
     "metadata": {},
     "output_type": "display_data"
    }
   ],
   "source": [
    "df<- read.csv(\"csv_folder/eicu_clean_19Aug.csv\", stringsAsFactors = TRUE)\n",
    "df$age<- as.integer(df$age)\n",
    "df$gender<- factor(df$gender)\n",
    "df$ethnicity<- factor(df$ethnicity)\n",
    "cols <- c(18:29)\n",
    "df[cols] <- lapply(df[cols], factor)  \n",
    "df_eicu<- df[,-c(1,7,8,10,12,39,41)]\n",
    "df_eicu$hosp_mort <-ifelse(df_eicu$hosp_mort=='ALIVE',0,1)\n",
    "df_eicu$icu_mort<-ifelse(df_eicu$icu_mort=='ALIVE',0,1)\n",
    "df_eicu$gender <-ifelse(df_eicu$gender=='Female','F','M')\n",
    "#df_eicu$gender<-df_eicu$Gender\n",
    "df_eicu <- df_eicu %>% rename(vasso_duration_24h = X24hrs_hr, \n",
    "                              vasso_duration_48h = X48hrs_hr,\n",
    "                              vasso_duration_72h = X72hrs_hr,\n",
    "                              mechanical_ventilation = ventilation_duration_days,\n",
    "                              sepsis = sepsis_binary,\n",
    "                              hospital_expire_flag = hosp_mort,\n",
    "                              icu_mortality = icu_mort,\n",
    "                              stroke = cebrovascular_accident,\n",
    "                              afib = atrial_fibrillation\n",
    "                                )\n",
    "df_eicu$use_vasopressor<- ifelse(df_eicu$vasso_duration_24h>0,1,0)\n",
    "\n",
    "\n",
    "df_eicu_aki <-df_eicu[df_eicu$mortality_7d == 'ALIVE',]\n",
    "eicu_prop <- read.csv(\"csv_folder/eicu_prop_24h_test.csv\",stringsAsFactors = TRUE)\n",
    "df_eicu_prop <- merge(x = df_eicu, y = eicu_prop[ ,  -1], by = \"patientunitstayid\", all.x=TRUE)\n",
    "\n",
    "head(df_eicu_prop, n = 2)"
   ]
  },
  {
   "cell_type": "code",
   "execution_count": 608,
   "metadata": {},
   "outputs": [
    {
     "data": {
      "text/html": [
       "<table>\n",
       "<thead><tr><th scope=col>icustay_id</th><th scope=col>age</th><th scope=col>gender</th><th scope=col>ethnicity</th><th scope=col>unittype</th><th scope=col>icu_mortality</th><th scope=col>hospital_expire_flag</th><th scope=col>sofatotal</th><th scope=col>vasso_duration_24h</th><th scope=col>vasso_duration_48h</th><th scope=col>⋯</th><th scope=col>use_vasopressor</th><th scope=col>propBelow_map_24</th><th scope=col>propAbove_map_24</th><th scope=col>prop_map_24</th><th scope=col>propBelow_asp_24</th><th scope=col>propAbove_asp_24</th><th scope=col>prop_asp_24</th><th scope=col>propBelow_adp_24</th><th scope=col>propAbove_adp_24</th><th scope=col>prop_adp_24</th></tr></thead>\n",
       "<tbody>\n",
       "\t<tr><td>200003    </td><td>48        </td><td>M         </td><td>WHITE     </td><td>SICU      </td><td>0         </td><td>0         </td><td>6         </td><td>1.084444  </td><td>17.33444  </td><td>⋯         </td><td>1         </td><td>0.05882353</td><td>0.5882353 </td><td>0.35294118</td><td>0.6875000 </td><td>0.12500000</td><td>0.1875000 </td><td>0.06250000</td><td>0.6250000 </td><td>0.3125000 </td></tr>\n",
       "\t<tr><td>200009    </td><td>47        </td><td>F         </td><td>WHITE     </td><td>CSRU      </td><td>0         </td><td>0         </td><td>3         </td><td>0.000000  </td><td> 0.00000  </td><td>⋯         </td><td>0         </td><td>0.64516129</td><td>0.2903226 </td><td>0.06451613</td><td>0.7741935 </td><td>0.06451613</td><td>0.1612903 </td><td>0.03225806</td><td>0.3548387 </td><td>0.6129032 </td></tr>\n",
       "</tbody>\n",
       "</table>\n"
      ],
      "text/latex": [
       "\\begin{tabular}{r|lllllllllllllllllllllllllllllllllllllllllllll}\n",
       " icustay\\_id & age & gender & ethnicity & unittype & icu\\_mortality & hospital\\_expire\\_flag & sofatotal & vasso\\_duration\\_24h & vasso\\_duration\\_48h & ⋯ & use\\_vasopressor & propBelow\\_map\\_24 & propAbove\\_map\\_24 & prop\\_map\\_24 & propBelow\\_asp\\_24 & propAbove\\_asp\\_24 & prop\\_asp\\_24 & propBelow\\_adp\\_24 & propAbove\\_adp\\_24 & prop\\_adp\\_24\\\\\n",
       "\\hline\n",
       "\t 200003     & 48         & M          & WHITE      & SICU       & 0          & 0          & 6          & 1.084444   & 17.33444   & ⋯          & 1          & 0.05882353 & 0.5882353  & 0.35294118 & 0.6875000  & 0.12500000 & 0.1875000  & 0.06250000 & 0.6250000  & 0.3125000 \\\\\n",
       "\t 200009     & 47         & F          & WHITE      & CSRU       & 0          & 0          & 3          & 0.000000   &  0.00000   & ⋯          & 0          & 0.64516129 & 0.2903226  & 0.06451613 & 0.7741935  & 0.06451613 & 0.1612903  & 0.03225806 & 0.3548387  & 0.6129032 \\\\\n",
       "\\end{tabular}\n"
      ],
      "text/markdown": [
       "\n",
       "icustay_id | age | gender | ethnicity | unittype | icu_mortality | hospital_expire_flag | sofatotal | vasso_duration_24h | vasso_duration_48h | ⋯ | use_vasopressor | propBelow_map_24 | propAbove_map_24 | prop_map_24 | propBelow_asp_24 | propAbove_asp_24 | prop_asp_24 | propBelow_adp_24 | propAbove_adp_24 | prop_adp_24 | \n",
       "|---|---|\n",
       "| 200003     | 48         | M          | WHITE      | SICU       | 0          | 0          | 6          | 1.084444   | 17.33444   | ⋯          | 1          | 0.05882353 | 0.5882353  | 0.35294118 | 0.6875000  | 0.12500000 | 0.1875000  | 0.06250000 | 0.6250000  | 0.3125000  | \n",
       "| 200009     | 47         | F          | WHITE      | CSRU       | 0          | 0          | 3          | 0.000000   |  0.00000   | ⋯          | 0          | 0.64516129 | 0.2903226  | 0.06451613 | 0.7741935  | 0.06451613 | 0.1612903  | 0.03225806 | 0.3548387  | 0.6129032  | \n",
       "\n",
       "\n"
      ],
      "text/plain": [
       "  icustay_id age gender ethnicity unittype icu_mortality hospital_expire_flag\n",
       "1 200003     48  M      WHITE     SICU     0             0                   \n",
       "2 200009     47  F      WHITE     CSRU     0             0                   \n",
       "  sofatotal vasso_duration_24h vasso_duration_48h ⋯ use_vasopressor\n",
       "1 6         1.084444           17.33444           ⋯ 1              \n",
       "2 3         0.000000            0.00000           ⋯ 0              \n",
       "  propBelow_map_24 propAbove_map_24 prop_map_24 propBelow_asp_24\n",
       "1 0.05882353       0.5882353        0.35294118  0.6875000       \n",
       "2 0.64516129       0.2903226        0.06451613  0.7741935       \n",
       "  propAbove_asp_24 prop_asp_24 propBelow_adp_24 propAbove_adp_24 prop_adp_24\n",
       "1 0.12500000       0.1875000   0.06250000       0.6250000        0.3125000  \n",
       "2 0.06451613       0.1612903   0.03225806       0.3548387        0.6129032  "
      ]
     },
     "metadata": {},
     "output_type": "display_data"
    }
   ],
   "source": [
    "df1 <- read.csv(\"csv_folder/mimic_clean_19Aug.csv\", \n",
    "               stringsAsFactors = TRUE)\n",
    "df1$age<- as.integer(df1$age)\n",
    "df1$icu_mortality<- factor(df1$icu_mortality)\n",
    "\n",
    "cols <- c(17:28,39,40 )\n",
    "df1[cols] <- lapply(df1[cols], factor)  \n",
    "df_mimic<- df1[,-c(1,7,8,10,12)]\n",
    "df_mimic <- df_mimic %>% rename(vasso_duration_24h = first_24_vasso_hours, \n",
    "                                vasso_duration_48h = first_48_vasso_hours,\n",
    "                                vasso_duration_72h = first_72_vasso_hours,\n",
    "                                unittype = first_careunit,\n",
    "                                ethnicity = ethnicity_new, \n",
    "                                AKI_7d =aki_7day,\n",
    "                                sofatotal = sofa,\n",
    "                                mechanical_ventilation = vent_duration_days,\n",
    "                                chf = congestive_heart_failure,\n",
    "                                stroke = cereb)\n",
    "df_mimic$use_vasopressor <- ifelse(df_mimic$vasso_duration_24h>0,1,0)\n",
    "# df_mimic$ethnicity <-df_mimic$ethnicity_new\n",
    "# df_mimic$sofatotal <-df_mimic$sofa\n",
    "# df_mimic$AKI_7d <-df_mimic$aki_7day\n",
    "df_mimic_aki <-df_mimic[df_mimic$mortality_7d == 0,]\n",
    "mimic_prop <- read.csv(\"csv_folder/mimic_prop_24h_test.csv\",stringsAsFactors = TRUE)\n",
    "mimic_prop_AKI <- read.csv(\"csv_folder/mimic_prop_map_48h_72h.csv\",stringsAsFactors = TRUE)\n",
    "\n",
    "df_mimic_prop <- merge(x = df_mimic, y = mimic_prop[ ,  -1], by = \"icustay_id\", all.x=TRUE)\n",
    "df_mimic_prop_AKI <- merge(x = df_mimic, y = mimic_prop_AKI[ ,  -1], by = \"icustay_id\", all.x=TRUE)\n",
    "head(df_mimic_prop, n = 2)"
   ]
  },
  {
   "cell_type": "markdown",
   "metadata": {},
   "source": [
    "# table 1 eicu"
   ]
  },
  {
   "cell_type": "code",
   "execution_count": 584,
   "metadata": {},
   "outputs": [],
   "source": [
    "\n",
    "xvars<-c(\"gender\",\"age\",\"bmi\",\"ethnicity\",\"unittype\",\"sofatotal\",\n",
    "         \"apache_iv\",\n",
    "         \"ibp_systolic_24h\", \"ibp_diastolic_24h\",\"ibp_mean_24h\",\n",
    "#          \"ibp_systolic_48h\", \"ibp_diastolic_48h\",\"ibp_mean_48h\",\n",
    "#          \"ibp_systolic_72h\",\"ibp_diastolic_72h\",\"ibp_mean_72h\",\n",
    "    \n",
    "         \"hypertension\",\"afib\",\"cancer\",\"chf\",\"ckd\",\"cld\",\"copd\",\"diabetes\",\"ihd\",\"stroke\",\n",
    "         \"sepsis\",\n",
    "         \n",
    "         \"hospital_expire_flag\",\"AKI_7d\",\"icu_mortality\",\"vasso_duration_24h\",\"use_vasopressor\",\"mechanical_ventilation\"\n",
    "        \n",
    "        )\n",
    "catvars<-c(\"gender\",\"ethnicity\",\"unittype\",\"hypertension\",\"afib\",\"cancer\",\"chf\",\"ckd\",\"cld\",\"copd\",\"diabetes\",\"ihd\",\"stroke\",\n",
    "         \"sepsis\",\"hospital_expire_flag\",\"AKI_7d\",\"icu_mortality\",\"use_vasopressor\",\"mechanical_ventilation\")"
   ]
  },
  {
   "cell_type": "code",
   "execution_count": 667,
   "metadata": {},
   "outputs": [
    {
     "name": "stdout",
     "output_type": "stream",
     "text": [
      "                                   \n",
      "                                    Overall             \n",
      "  n                                 14374               \n",
      "  gender = M (%)                     8439 (58.7)        \n",
      "  age (median [IQR])                 65.0 [55.0, 74.0]  \n",
      "  bmi (median [IQR])                 28.3 [24.2, 33.0]  \n",
      "  ethnicity (%)                                         \n",
      "     African American                1827 (12.7)        \n",
      "     Asian                            134 ( 0.9)        \n",
      "     Caucasian                      11218 (78.0)        \n",
      "     Hispanic                         501 ( 3.5)        \n",
      "     Native American                  101 ( 0.7)        \n",
      "     Others                           593 ( 4.1)        \n",
      "  unittype (%)                                          \n",
      "     Cardiac ICU                      526 ( 3.7)        \n",
      "     CCU-CTICU                       1508 (10.5)        \n",
      "     CSICU                           1000 ( 7.0)        \n",
      "     CTICU                           1596 (11.1)        \n",
      "     Med-Surg ICU                    6055 (42.1)        \n",
      "     MICU                            1100 ( 7.7)        \n",
      "     Neuro ICU                       1224 ( 8.5)        \n",
      "     SICU                            1365 ( 9.5)        \n",
      "  sofatotal (median [IQR])            8.0 [6.0, 11.0]   \n",
      "  apache_iv (median [IQR])           65.0 [47.0, 90.0]  \n",
      "  ibp_systolic_24h (median [IQR])   116.5 [106.0, 131.0]\n",
      "  ibp_diastolic_24h (median [IQR])   57.5 [51.0, 65.0]  \n",
      "  ibp_mean_24h (median [IQR])        76.0 [70.0, 85.0]  \n",
      "  hypertension = 1 (%)               1913 (13.3)        \n",
      "  afib = 1 (%)                       1299 ( 9.0)        \n",
      "  cancer = 1 (%)                        5 ( 0.0)        \n",
      "  chf = 1 (%)                        1117 ( 7.8)        \n",
      "  ckd = 1 (%)                        1409 ( 9.8)        \n",
      "  cld = 1 (%)                         120 ( 0.8)        \n",
      "  copd = 1 (%)                        924 ( 6.4)        \n",
      "  diabetes = 1 (%)                    155 ( 1.1)        \n",
      "  ihd = 1 (%)                         582 ( 4.0)        \n",
      "  stroke = 1 (%)                      294 ( 2.0)        \n",
      "  sepsis = 1 (%)                     1783 (12.4)        \n",
      "  hospital_expire_flag = 1 (%)       2377 (16.5)        \n",
      "  AKI_7d = 1 (%)                    12648 (88.0)        \n",
      "  icu_mortality = 1 (%)              1701 (11.8)        \n",
      "  vasso_duration_24h (median [IQR])   0.0 [0.0, 22.4]   \n",
      "  use_vasopressor = 1 (%)            6557 (45.6)        \n",
      "  mechanical_ventilation = 1 (%)     9974 (69.4)        \n"
     ]
    }
   ],
   "source": [
    "\n",
    "TableOne_eICU<-CreateTableOne(var = xvars, factorVars =catvars,data=df_eicu)\n",
    "\n",
    "print(TableOne_eICU, nonnormal = c(\"age\",\"bmi\",\"sofatotal\",\"apache_iv\",\n",
    "                                    \"ibp_systolic_24h\", \"ibp_diastolic_24h\",\"ibp_mean_24h\",\"vasso_duration_24h\"\n",
    "#                                     \"ibp_systolic_48h\", \"ibp_diastolic_48h\",\"ibp_mean_48h\",\n",
    "#                                     \"ibp_systolic_72h\",\"ibp_diastolic_72h\",\"ibp_mean_72h\"\n",
    "                                   ), \n",
    "      contDigits = 1, catDigits = 1, pDigits = 4, smd = TRUE,testName=TRUE)\n"
   ]
  },
  {
   "cell_type": "markdown",
   "metadata": {},
   "source": [
    "# table1 mimic"
   ]
  },
  {
   "cell_type": "code",
   "execution_count": 668,
   "metadata": {},
   "outputs": [
    {
     "name": "stderr",
     "output_type": "stream",
     "text": [
      "Warning message in ModuleReturnVarsExist(vars, data):\n",
      "“The data frame does not have: apache_iv  Dropped”"
     ]
    },
    {
     "name": "stdout",
     "output_type": "stream",
     "text": [
      "                                   \n",
      "                                    Overall             \n",
      "  n                                 12291               \n",
      "  gender = M (%)                     7228 (58.8)        \n",
      "  age (median [IQR])                 66.0 [53.0, 76.0]  \n",
      "  bmi (median [IQR])                 29.5 [25.7, 31.9]  \n",
      "  ethnicity (%)                                         \n",
      "     ASIAN                            291 ( 2.4)        \n",
      "     BLACK                            735 ( 6.0)        \n",
      "     HISPANIC                         366 ( 3.0)        \n",
      "     OTHERS                          2354 (19.2)        \n",
      "     WHITE                           8545 (69.5)        \n",
      "  unittype (%)                                          \n",
      "     CCU                             1290 (10.5)        \n",
      "     CSRU                            3769 (30.7)        \n",
      "     MICU                            2534 (20.6)        \n",
      "     SICU                            2522 (20.5)        \n",
      "     TSICU                           2176 (17.7)        \n",
      "  sofatotal (median [IQR])            5.0 [3.0, 7.0]    \n",
      "  ibp_systolic_24h (median [IQR])   115.0 [105.1, 129.0]\n",
      "  ibp_diastolic_24h (median [IQR])   58.0 [53.0, 65.0]  \n",
      "  ibp_mean_24h (median [IQR])        77.0 [71.0, 85.5]  \n",
      "  hypertension = 1 (%)               6514 (53.0)        \n",
      "  afib = 1 (%)                       3639 (29.6)        \n",
      "  cancer = 1 (%)                     1712 (13.9)        \n",
      "  chf = 1 (%)                        3236 (26.3)        \n",
      "  ckd = 1 (%)                         293 ( 2.4)        \n",
      "  cld = 1 (%)                         645 ( 5.2)        \n",
      "  copd = 1 (%)                        231 ( 1.9)        \n",
      "  diabetes = 1 (%)                   3148 (25.6)        \n",
      "  ihd = 1 (%)                        3068 (25.0)        \n",
      "  stroke = 1 (%)                     1044 ( 8.5)        \n",
      "  sepsis = 1 (%)                     4448 (36.2)        \n",
      "  hospital_expire_flag = 1 (%)       1772 (14.4)        \n",
      "  AKI_7d = 1 (%)                     9824 (79.9)        \n",
      "  icu_mortality = 1 (%)              1448 (11.8)        \n",
      "  vasso_duration_24h (median [IQR])   0.5 [0.0, 16.2]   \n",
      "  use_vasopressor = 1 (%)            6304 (51.3)        \n",
      "  mechanical_ventilation = 1 (%)    10226 (83.2)        \n"
     ]
    }
   ],
   "source": [
    "\n",
    "TableOne_eICU<-CreateTableOne(var = xvars, factorVars =catvars,data=df_mimic)\n",
    "\n",
    "print(TableOne_eICU, nonnormal = c(\"age\",\"bmi\",\"sofatotal\",\n",
    "                                   #\"apache_iv\",\n",
    "                                    \"ibp_systolic_24h\", \"ibp_diastolic_24h\",\"ibp_mean_24h\",\"vasso_duration_24h\"\n",
    "#                                     \"ibp_systolic_48h\", \"ibp_diastolic_48h\",\"ibp_mean_48h\",\n",
    "#                                     \"ibp_systolic_72h\",\"ibp_diastolic_72h\",\"ibp_mean_72h\"\n",
    "                                   ), \n",
    "      contDigits = 1, catDigits = 1, pDigits = 4, smd = TRUE,testName=TRUE)\n"
   ]
  },
  {
   "cell_type": "code",
   "execution_count": 587,
   "metadata": {},
   "outputs": [
    {
     "data": {
      "text/html": [
       "22.83"
      ],
      "text/latex": [
       "22.83"
      ],
      "text/markdown": [
       "22.83"
      ],
      "text/plain": [
       "[1] 22.83"
      ]
     },
     "metadata": {},
     "output_type": "display_data"
    },
    {
     "data": {
      "text/html": [
       "<dl class=dl-horizontal>\n",
       "\t<dt>0%</dt>\n",
       "\t\t<dd>0.02</dd>\n",
       "\t<dt>25%</dt>\n",
       "\t\t<dd>17.43</dd>\n",
       "\t<dt>50%</dt>\n",
       "\t\t<dd>22.83</dd>\n",
       "\t<dt>75%</dt>\n",
       "\t\t<dd>23.95</dd>\n",
       "\t<dt>100%</dt>\n",
       "\t\t<dd>24</dd>\n",
       "</dl>\n"
      ],
      "text/latex": [
       "\\begin{description*}\n",
       "\\item[0\\textbackslash{}\\%] 0.02\n",
       "\\item[25\\textbackslash{}\\%] 17.43\n",
       "\\item[50\\textbackslash{}\\%] 22.83\n",
       "\\item[75\\textbackslash{}\\%] 23.95\n",
       "\\item[100\\textbackslash{}\\%] 24\n",
       "\\end{description*}\n"
      ],
      "text/markdown": [
       "0%\n",
       ":   0.0225%\n",
       ":   17.4350%\n",
       ":   22.8375%\n",
       ":   23.95100%\n",
       ":   24\n",
       "\n"
      ],
      "text/plain": [
       "   0%   25%   50%   75%  100% \n",
       " 0.02 17.43 22.83 23.95 24.00 "
      ]
     },
     "metadata": {},
     "output_type": "display_data"
    }
   ],
   "source": [
    "x<-df_eicu$vasso_duration_24h[df_eicu$vasso_duration_24h>0]\n",
    "median(x)\n",
    "quantile(x)"
   ]
  },
  {
   "cell_type": "code",
   "execution_count": 200,
   "metadata": {},
   "outputs": [],
   "source": [
    "# Model fitting\n",
    "plot_width <- 17.2 * 0.393701 # The textwidth of our Word manuscript in inches.\n",
    "#plot_width <- 4.2126 # The Lancet asks for plots to have a width of 107mm.\n",
    "font <- \"Times\" # Text in figures should be Times New Roman according to the Lancet.\n",
    "point_size <- 10 # Per Lancet instructions\n",
    "logistic <- function(x) 1/(1+exp(-x))\n",
    "\n",
    "\n",
    "\n",
    "# Function that adds labels to subfigures, edited from:\n",
    "# https://logfc.wordpress.com/2017/03/15/adding-figure-labels-a-b-c-in-the-top-left-corner-of-the-plotting-region/\n",
    "fig_label <- function(label) {\n",
    "    cex <- 2\n",
    "    ds <- dev.size(\"in\")\n",
    "    # xy coordinates of device corners in user coordinates\n",
    "    x <- grconvertX(c(0, ds[1]), from=\"in\", to=\"user\")\n",
    "    y <- grconvertY(c(0, ds[2]), from=\"in\", to=\"user\")\n",
    "    \n",
    "    # fragment of the device we use to plot\n",
    "      # account for the fragment of the device that \n",
    "      # the figure is using\n",
    "      fig <- par(\"fig\")\n",
    "      dx <- (x[2] - x[1])\n",
    "      dy <- (y[2] - y[1])\n",
    "      x <- x[1] + dx * fig[1:2]\n",
    "      y <- y[1] + dy * fig[3:4]\n",
    "  \n",
    "  \n",
    "  sw <- strwidth(label, cex=cex) * 60/100\n",
    "  sh <- strheight(label, cex=cex) * 60/100\n",
    "  \n",
    "  x1 <- x[1] + sw\n",
    "  \n",
    "  y1 <- y[2] - sh\n",
    "  \n",
    "  old.par <- par(xpd=NA)\n",
    "  on.exit(par(old.par))\n",
    "  \n",
    "  text(x1, y1, label, cex=cex)\n",
    "}"
   ]
  },
  {
   "cell_type": "code",
   "execution_count": 510,
   "metadata": {},
   "outputs": [],
   "source": [
    "gam_plotMed <- function(\n",
    "                    gamfitMed,\n",
    "                    main = \"Median of measurements\",\n",
    "                    xRange = c(55, 95),\n",
    "                    yRange = c(0, .20),\n",
    "                    label,\n",
    "                    xlabel\n",
    ") {\n",
    "print(paste(\"Number of cases:\", summary(gamfitMed)$n))\n",
    "\n",
    "xlab <- xlabel\n",
    "\n",
    "\n",
    "if(colnames(gamfitMed$model)[1] == \"hospital_expire_flag\") {\n",
    "    ylab <- \"Probability of hospital mortality\"\n",
    "  }\n",
    "    else if(colnames(gamfitMed$model)[1] == \"AKI_7d\") {\n",
    "    ylab <- \"Probability of acute kidney injury (AKI)\"\n",
    "  } \n",
    "    else {\n",
    "    ylab <- \"Probability of ICU mortality\"\n",
    "  }\n",
    "\n",
    "xName <- colnames(gamfitMed$model)[grep(\"ibp\", colnames(gamfitMed$model))]\n",
    "vasso_Name <- colnames(gamfitMed$model)[grep(\"vasso\", colnames(gamfitMed$model))]\n",
    "\n",
    "# Color for dotted line\n",
    "colD <- \"Black\"\n",
    "\n",
    "    plot(1, type = 'n', xlim = xRange, ylim = yRange,\n",
    "         ylab = ylab,\n",
    "         xlab = xlab, main = main, yaxs = 'i', xaxs = 'i', yaxt = 'n', xaxt = 'n')\n",
    "    \n",
    "    att <- pretty(yRange)\n",
    "if(!isTRUE(all.equal(att, round(att, digits = 2)))) {\n",
    "  axis(2, at = att, lab = paste0(sprintf('%.1f', att*100), '%'), las = TRUE)\n",
    "} else axis(2, at = att, lab = paste0(att*100, '%'), las = TRUE)\n",
    "    \n",
    "    att <- pretty(xRange)\n",
    "    axis(1, at = att, lab = paste0(att), las = TRUE)\n",
    "#     axis(1, at = att, lab = paste0(att, '%'), las = TRUE)\n",
    "\n",
    "    \n",
    "    eval(parse(text = paste(c('predictionsPlusCI <- predict(gamfitMed, newdata = data.frame(',\n",
    "                              xName, ' = gamfitMed$model$', xName, \", gender = 'F', age = median(gamfitMed$model$age), \n",
    "                            bmi = median(gamfitMed$model$bmi),\",\n",
    "                      ifelse(\n",
    "                        \"high_vent_proportion\" %in% colnames(gamfitMed$model),\n",
    "                        \"high_vent_proportion = median(gamfitMed$model$high_vent_proportion),\",\n",
    "                        \"\"\n",
    "                      ),\n",
    "                      ifelse(\n",
    "                        \"ethnicity\" %in% colnames(gamfitMed$model),\n",
    "                        \"ethnicity = gamfitMed$model$ethnicity,\",\n",
    "                        \"\"\n",
    "                      ),\n",
    "                      ifelse(\n",
    "                        \"apsiii\" %in% colnames(gamfitMed$model),\n",
    "                        \"apsiii = median(gamfitMed$model$apsiii),\",\n",
    "                        \"sofatotal = median(gamfitMed$model$sofatotal),\"\n",
    "                        \n",
    "                      ),\n",
    "                      ifelse(\n",
    "                        \"vasso_duration_24h\" %in% colnames(gamfitMed$model),\n",
    "                        \"vasso_duration_24h = median(gamfitMed$model$vasso_duration_24h),\",\n",
    "                        \"\"\n",
    "                      ),\n",
    "                      ifelse(\n",
    "                        \"vasso_duration_48h\" %in% colnames(gamfitMed$model),\n",
    "                        \"vasso_duration_48h = median(gamfitMed$model$vasso_duration_48h),\",\n",
    "                        \"\"\n",
    "                      ),\n",
    "                      ifelse(\n",
    "                        \"vasso_duration_72h\" %in% colnames(gamfitMed$model),\n",
    "                        \"vasso_duration_72h = median(gamfitMed$model$vasso_duration_72h),\",\n",
    "                        \"\"\n",
    "                      ),\n",
    "                      \"hospital_id = 264), type = 'link', se.fit = T)\"), collapse = \"\")))\n",
    "\n",
    "  \n",
    "  # We have to use the data on which GAM was fit for confidence region as the GAM does not provide standard errors for 'new' input\n",
    "  eval(parse(text = paste0('xx <- gamfitMed$model$', xName)))\n",
    "  ord.index <- order(xx)\n",
    "  xx <- xx[ord.index]\n",
    "  \n",
    "  if(gamfitMed$family$link == 'logit') {\n",
    "    lcl <- logistic(predictionsPlusCI$fit[ord.index] - 1.96*predictionsPlusCI$se.fit[ord.index])\n",
    "    ucl <- logistic(predictionsPlusCI$fit[ord.index] + 1.96*predictionsPlusCI$se.fit[ord.index])\n",
    "    \n",
    "    lines(x = xx, y = lcl, lty = 2, lwd = 2, col = colD)\n",
    "    lines(x = xx, y = ucl, lty = 2, lwd = 2, col = colD)\n",
    "    lines(xx, logistic(predictionsPlusCI$fit[ord.index]), lwd = 3)\n",
    "  } else {\n",
    "    lcl <- predictionsPlusCI$fit[ord.index] - 1.96*predictionsPlusCI$se.fit[ord.index]\n",
    "    ucl <- predictionsPlusCI$fit[ord.index] + 1.96*predictionsPlusCI$se.fit[ord.index]\n",
    "    \n",
    "    lines(x = xx, y = lcl, lty = 2, lwd = 2)\n",
    "    lines(x = xx, y = ucl, lty = 2, lwd = 2)\n",
    "    lines(xx, predictionsPlusCI$fit[ord.index], lwd = 3)\n",
    "  }\n",
    "  \n",
    "  if(!missing(label)) fig_label(label)\n",
    "}\n"
   ]
  },
  {
   "cell_type": "code",
   "execution_count": 511,
   "metadata": {},
   "outputs": [],
   "source": [
    "find_gradient <- function(b)\n",
    "{\n",
    "xName <- colnames(b$model)[grep(\"ibp\", colnames(b$model))]\n",
    "eval(parse(text = paste(c('newdata = data.frame(',\n",
    "                          xName, ' = b$model$', xName, \", gender = 'F', age = median(b$model$age), bmi = median(b$model$bmi),\",\n",
    "                  ifelse(\n",
    "                    \"high_vent_proportion\" %in% colnames(b$model),\n",
    "                    \"high_vent_proportion = median(b$model$high_vent_proportion),\",\n",
    "                    \"\"\n",
    "                  ),\n",
    "                  ifelse(\n",
    "                    \"apsiii\" %in% colnames(b$model),\n",
    "                    \"apsiii = median(b$model$apsiii),\",\n",
    "                    \"sofatotal = median(b$model$sofatotal),\"\n",
    "                  ),\n",
    "                  ifelse(\n",
    "                    \"ethnicity\" %in% colnames(b$model),\n",
    "                    \"ethnicity = b$model$ethnicity,\",\n",
    "                    \"\"\n",
    "                  ),\n",
    "                  ifelse(\n",
    "                    \"apsiii\" %in% colnames(b$model),\n",
    "                    \"apsiii = median(b$model$apsiii),\",\n",
    "                    \"sofatotal = median(b$model$sofatotal),\"\n",
    "\n",
    "                  ),\n",
    "                  ifelse(\n",
    "                    \"vasso_duration_24h\" %in% colnames(b$model),\n",
    "                    \"vasso_duration_24h = median(b$model$vasso_duration_24h),\",\n",
    "                    \"\"\n",
    "                  ),\n",
    "                  ifelse(\n",
    "                    \"vasso_duration_48h\" %in% colnames(b$model),\n",
    "                    \"vasso_duration_48h = median(b$model$vasso_duration_48h),\",\n",
    "                    \"\"\n",
    "                  ),\n",
    "                  ifelse(\n",
    "                    \"vasso_duration_72h\" %in% colnames(b$model),\n",
    "                    \"vasso_duration_72h = median(b$model$vasso_duration_72h),\",\n",
    "                    \"\"\n",
    "                  ),\n",
    "                  \"hospital_id = 264)\"), collapse = \"\")))\n",
    "# newd <- newdata\n",
    "pred<-predict(b,newdata,type=\"link\",se.fit = T)\n",
    "eval(parse(text = paste0('xx <- b$model$', xName)))\n",
    "# xx <- b$model$ibp_mean_24h\n",
    "ord.index <- order(xx)\n",
    "i<-2\n",
    "j<-1\n",
    "index <-1\n",
    "bp_val <-list()\n",
    "bp_grad<-list()\n",
    "while (i <=length(ord.index)){\n",
    "    eval(parse(text = paste(c('x2 <- b$model$', xName,\"[ord.index[\",i,\"]]\"), collapse = \"\")))\n",
    "    eval(parse(text = paste(c('x1 <- b$model$', xName,\"[ord.index[\",j,\"]]\"), collapse = \"\")))\n",
    "#       x2 <- b$model$ibp_mean_24h[ord.index[i]]\n",
    "#       x1 <-b$model$ibp_mean_24h[ord.index[j]]\n",
    "    \n",
    "    if((x2-x1)>=1.0){\n",
    "        current_val <- pred$fit[ord.index[j]]\n",
    "        right_val <- pred$fit[ord.index[i]]\n",
    "        grad <-(right_val-current_val)/(x2-x1)\n",
    "        bp_val[[index]] <- x2\n",
    "        bp_grad[[index]]<-unlist(grad,use.names=FALSE)\n",
    "        index <-index+1\n",
    "        j <- i\n",
    "        i <- i+1\n",
    "        \n",
    "      } else {\n",
    "          i <-i+1\n",
    "      }\n",
    "      \n",
    "    }\n",
    "df_gradient <- data.frame(\"bp_value\" = unlist(bp_val, use.names=FALSE), \"gradient\" = unlist(bp_grad, use.names=FALSE))\n",
    "return (df_gradient)\n",
    "}"
   ]
  },
  {
   "cell_type": "code",
   "execution_count": 395,
   "metadata": {},
   "outputs": [],
   "source": [
    "# find_gradient <- function(b)\n",
    "# {\n",
    "# xName <- colnames(b$model)[grep(\"ibp\", colnames(b$model))]\n",
    "# eval(parse(text = paste(c('newdata = data.frame(',\n",
    "#                           xName, ' = b$model$', xName, \", gender = 'F', age = median(b$model$age), bmi = median(b$model$bmi),\",\n",
    "#                   ifelse(\n",
    "#                     \"high_vent_proportion\" %in% colnames(b$model),\n",
    "#                     \"high_vent_proportion = median(b$model$high_vent_proportion),\",\n",
    "#                     \"\"\n",
    "#                   ),\n",
    "#                   ifelse(\n",
    "#                     \"apsiii\" %in% colnames(b$model),\n",
    "#                     \"apsiii = median(b$model$apsiii),\",\n",
    "#                     \"sofatotal = median(b$model$sofatotal),\"\n",
    "#                   ),\n",
    "#                   ifelse(\n",
    "#                     \"vent_duration\" %in% colnames(b$model),\n",
    "#                     \"vent_duration = median(b$model$vent_duration),\",\n",
    "#                     \"\"\n",
    "#                   ),\n",
    "#                   \"hospital_id = 264)\"), collapse = \"\")))\n",
    "# # newd <- newdata\n",
    "# pred<-predict(b,newdata,type=\"link\",se.fit = T)\n",
    "# eval(parse(text = paste0('xx <- b$model$', xName)))\n",
    "# # xx <- b$model$ibp_mean_24h\n",
    "# ord.index <- order(xx)\n",
    "# i<-2\n",
    "# j<-1\n",
    "# index <-1\n",
    "# bp_val <-list()\n",
    "# bp_grad<-list()\n",
    "# while (i <=length(ord.index)){\n",
    "#     eval(parse(text = paste(c('x2 <- b$model$', xName,\"[ord.index[\",i,\"]]\"), collapse = \"\")))\n",
    "#     eval(parse(text = paste(c('x1 <- b$model$', xName,\"[ord.index[\",j,\"]]\"), collapse = \"\")))\n",
    "# #       x2 <- b$model$ibp_mean_24h[ord.index[i]]\n",
    "# #       x1 <-b$model$ibp_mean_24h[ord.index[j]]\n",
    "    \n",
    "#     if((x2-x1)>=1.0){\n",
    "#         current_val <- pred$fit[ord.index[j]]\n",
    "#         right_val <- pred$fit[ord.index[i]]\n",
    "#         grad <-(right_val-current_val)/(x2-x1)\n",
    "#         bp_val[[index]] <- x2\n",
    "#         bp_grad[[index]]<-unlist(grad,use.names=FALSE)\n",
    "#         index <-index+1\n",
    "#         j <- i\n",
    "#         i <- i+1\n",
    "        \n",
    "#       } else {\n",
    "#           i <-i+1\n",
    "#       }\n",
    "      \n",
    "#     }\n",
    "# df_gradient <- data.frame(\"bp_value\" = unlist(bp_val, use.names=FALSE), \"gradient\" = unlist(bp_grad, use.names=FALSE))\n",
    "# return (df_gradient)\n",
    "# }"
   ]
  },
  {
   "cell_type": "markdown",
   "metadata": {},
   "source": [
    "## mean vs hospital mortality"
   ]
  },
  {
   "cell_type": "code",
   "execution_count": 397,
   "metadata": {},
   "outputs": [],
   "source": [
    "gamfitMed_eICU_MAP_24h <- gam(hospital_expire_flag ~ s(ibp_mean_24h)+gender+s(age)+s(bmi)+s(sofatotal), data = df_eicu, family = binomial)\n",
    "gamfitMed_MIMIC_MAP_24h <- gam(hospital_expire_flag ~ s(ibp_mean_24h)+gender+s(age)+s(bmi)+s(sofatotal), data = df_mimic, family = binomial)\n",
    "\n",
    "gamfitMed_eICU_MAP_48h <- gam(hospital_expire_flag ~ s(ibp_mean_48h)+gender+s(age)+s(bmi)+s(sofatotal), data = df_eicu, family = binomial)\n",
    "gamfitMed_MIMIC_MAP_48h <- gam(hospital_expire_flag ~ s(ibp_mean_48h)+gender+s(age)+s(bmi)+s(sofatotal), data = df_mimic, family = binomial)\n",
    "\n",
    "gamfitMed_eICU_MAP_72h <- gam(hospital_expire_flag ~ s(ibp_mean_72h)+gender+s(age)+s(bmi)+s(sofatotal), data = df_eicu, family = binomial)\n",
    "gamfitMed_MIMIC_MAP_72h <- gam(hospital_expire_flag ~ s(ibp_mean_72h)+gender+s(age)+s(bmi)+s(sofatotal), data = df_mimic, family = binomial)\n"
   ]
  },
  {
   "cell_type": "code",
   "execution_count": 669,
   "metadata": {},
   "outputs": [
    {
     "name": "stdout",
     "output_type": "stream",
     "text": [
      "[1] \"Number of cases: 14374\"\n",
      "[1] \"Number of cases: 14374\"\n",
      "[1] \"Number of cases: 14374\"\n",
      "[1] \"Number of cases: 12291\"\n",
      "[1] \"Number of cases: 12291\"\n",
      "[1] \"Number of cases: 12291\"\n"
     ]
    },
    {
     "data": {
      "text/html": [
       "<strong>png:</strong> 2"
      ],
      "text/latex": [
       "\\textbf{png:} 2"
      ],
      "text/markdown": [
       "**png:** 2"
      ],
      "text/plain": [
       "png \n",
       "  2 "
      ]
     },
     "metadata": {},
     "output_type": "display_data"
    }
   ],
   "source": [
    "pdf(file = \"figure/MAP_Hosp.pdf\", width = plot_width,\n",
    "    height = 9, pointsize = point_size, family = font)\n",
    "par(mfcol = c(3,2), cex = 1)\n",
    "x_range = c(55, 95)\n",
    "gam_plotMed(gamfitMed_eICU_MAP_24h, main = \"eICU-CRD\", xRange = x_range,\n",
    "                    yRange = c(0, .20), label = \"A\", xlabel =\"Median of 24h Mean Arterial Pressure (MAP)\")\n",
    "\n",
    "gam_plotMed(gamfitMed_eICU_MAP_48h, main = \"eICU-CRD\", xRange = x_range,\n",
    "                    yRange = c(0, .20), label = \"C\", xlabel =\"Median of 48h Mean Arterial Pressure (MAP)\")\n",
    "\n",
    "gam_plotMed(gamfitMed_eICU_MAP_72h, main = \"eICU-CRD\", xRange = x_range,\n",
    "                    yRange = c(0, .20), label = \"E\", xlabel =\"Median of 72h Mean Arterial Pressure (MAP)\")\n",
    "\n",
    "gam_plotMed(gamfitMed_MIMIC_MAP_24h, main = \"MIMIC\", xRange = x_range,\n",
    "                    yRange = c(0, .20),label = \"B\", xlabel =\"Median of 24h Mean Arterial Pressure (MAP)\")\n",
    "\n",
    "gam_plotMed(gamfitMed_MIMIC_MAP_48h, main = \"MIMIC\", xRange = x_range,\n",
    "                    yRange = c(0, .20),label = \"D\", xlabel =\"Median of 48h Mean Arterial Pressure (MAP)\")\n",
    "\n",
    "gam_plotMed(gamfitMed_MIMIC_MAP_72h, main = \"MIMIC\", xRange = x_range,\n",
    "                    yRange = c(0, .20),label = \"F\", xlabel =\"Median of 72h Mean Arterial Pressure (MAP)\")\n",
    "dev.off()"
   ]
  },
  {
   "cell_type": "markdown",
   "metadata": {},
   "source": [
    "# Find optimal range"
   ]
  },
  {
   "cell_type": "code",
   "execution_count": 413,
   "metadata": {},
   "outputs": [
    {
     "name": "stdout",
     "output_type": "stream",
     "text": [
      "[1] \"eICU\"\n"
     ]
    },
    {
     "data": {
      "text/html": [
       "<ol class=list-inline>\n",
       "\t<li>73</li>\n",
       "\t<li>74</li>\n",
       "\t<li>75</li>\n",
       "</ol>\n"
      ],
      "text/latex": [
       "\\begin{enumerate*}\n",
       "\\item 73\n",
       "\\item 74\n",
       "\\item 75\n",
       "\\end{enumerate*}\n"
      ],
      "text/markdown": [
       "1. 73\n",
       "2. 74\n",
       "3. 75\n",
       "\n",
       "\n"
      ],
      "text/plain": [
       "[1] 73 74 75"
      ]
     },
     "metadata": {},
     "output_type": "display_data"
    },
    {
     "data": {
      "text/html": [
       "<ol class=list-inline>\n",
       "\t<li>76</li>\n",
       "\t<li>77</li>\n",
       "\t<li>78</li>\n",
       "\t<li>79</li>\n",
       "</ol>\n"
      ],
      "text/latex": [
       "\\begin{enumerate*}\n",
       "\\item 76\n",
       "\\item 77\n",
       "\\item 78\n",
       "\\item 79\n",
       "\\end{enumerate*}\n"
      ],
      "text/markdown": [
       "1. 76\n",
       "2. 77\n",
       "3. 78\n",
       "4. 79\n",
       "\n",
       "\n"
      ],
      "text/plain": [
       "[1] 76 77 78 79"
      ]
     },
     "metadata": {},
     "output_type": "display_data"
    },
    {
     "data": {
      "text/html": [
       "<ol class=list-inline>\n",
       "\t<li>77</li>\n",
       "\t<li>78</li>\n",
       "\t<li>79</li>\n",
       "</ol>\n"
      ],
      "text/latex": [
       "\\begin{enumerate*}\n",
       "\\item 77\n",
       "\\item 78\n",
       "\\item 79\n",
       "\\end{enumerate*}\n"
      ],
      "text/markdown": [
       "1. 77\n",
       "2. 78\n",
       "3. 79\n",
       "\n",
       "\n"
      ],
      "text/plain": [
       "[1] 77 78 79"
      ]
     },
     "metadata": {},
     "output_type": "display_data"
    },
    {
     "name": "stdout",
     "output_type": "stream",
     "text": [
      "[1] \"MIMIC\"\n"
     ]
    },
    {
     "data": {
      "text/html": [
       "<ol class=list-inline>\n",
       "\t<li>72</li>\n",
       "\t<li>73</li>\n",
       "\t<li>74</li>\n",
       "</ol>\n"
      ],
      "text/latex": [
       "\\begin{enumerate*}\n",
       "\\item 72\n",
       "\\item 73\n",
       "\\item 74\n",
       "\\end{enumerate*}\n"
      ],
      "text/markdown": [
       "1. 72\n",
       "2. 73\n",
       "3. 74\n",
       "\n",
       "\n"
      ],
      "text/plain": [
       "[1] 72 73 74"
      ]
     },
     "metadata": {},
     "output_type": "display_data"
    },
    {
     "data": {
      "text/html": [
       "<ol class=list-inline>\n",
       "\t<li>73</li>\n",
       "\t<li>74</li>\n",
       "\t<li>75</li>\n",
       "</ol>\n"
      ],
      "text/latex": [
       "\\begin{enumerate*}\n",
       "\\item 73\n",
       "\\item 74\n",
       "\\item 75\n",
       "\\end{enumerate*}\n"
      ],
      "text/markdown": [
       "1. 73\n",
       "2. 74\n",
       "3. 75\n",
       "\n",
       "\n"
      ],
      "text/plain": [
       "[1] 73 74 75"
      ]
     },
     "metadata": {},
     "output_type": "display_data"
    },
    {
     "data": {
      "text/html": [
       "<ol class=list-inline>\n",
       "\t<li>74</li>\n",
       "\t<li>75</li>\n",
       "</ol>\n"
      ],
      "text/latex": [
       "\\begin{enumerate*}\n",
       "\\item 74\n",
       "\\item 75\n",
       "\\end{enumerate*}\n"
      ],
      "text/markdown": [
       "1. 74\n",
       "2. 75\n",
       "\n",
       "\n"
      ],
      "text/plain": [
       "[1] 74 75"
      ]
     },
     "metadata": {},
     "output_type": "display_data"
    }
   ],
   "source": [
    "print(\"eICU\") #73-79\n",
    "eicu_grad <- find_gradient(b = gamfitMed_eICU_MAP_24h) #73-75\n",
    "eicu_grad[(eicu_grad$gradient > -0.01) & (eicu_grad$gradient< 0.01)\n",
    "                 & (eicu_grad$bp_value< 90) & (eicu_grad$bp_value> 60), \"bp_value\"]\n",
    "eicu_grad <- find_gradient(b = gamfitMed_eICU_MAP_48h) #76-79\n",
    "eicu_grad[(eicu_grad$gradient > -0.01) & (eicu_grad$gradient< 0.01)\n",
    "                 & (eicu_grad$bp_value< 90) & (eicu_grad$bp_value> 60), \"bp_value\"]\n",
    "eicu_grad <- find_gradient(b = gamfitMed_eICU_MAP_72h)#77-79\n",
    "eicu_grad[(eicu_grad$gradient > -0.01) & (eicu_grad$gradient< 0.01) \n",
    "                 & (eicu_grad$bp_value< 90) & (eicu_grad$bp_value> 60), \"bp_value\"]\n",
    "print(\"MIMIC\") #72-75\n",
    "mimic_grad <- find_gradient(b = gamfitMed_MIMIC_MAP_24h)#72-74\n",
    "mimic_grad[(mimic_grad$gradient > -0.01) & (mimic_grad$gradient< 0.01) \n",
    "                 & (mimic_grad$bp_value< 90) & (mimic_grad$bp_value> 60), \"bp_value\"]\n",
    "mimic_grad <- find_gradient(b = gamfitMed_MIMIC_MAP_48h)#73-75\n",
    "mimic_grad[(mimic_grad$gradient > -0.01) & (mimic_grad$gradient< 0.01) \n",
    "                 & (mimic_grad$bp_value< 90) & (mimic_grad$bp_value> 60), \"bp_value\"]\n",
    "mimic_grad <- find_gradient(b = gamfitMed_MIMIC_MAP_72h) #74-75\n",
    "mimic_grad[(mimic_grad$gradient > -0.01) & (mimic_grad$gradient< 0.01)\n",
    "                 & (mimic_grad$bp_value< 90) & (mimic_grad$bp_value> 60), \"bp_value\"]\n"
   ]
  },
  {
   "cell_type": "markdown",
   "metadata": {},
   "source": [
    "## systolic vs hospital mortality"
   ]
  },
  {
   "cell_type": "code",
   "execution_count": 406,
   "metadata": {},
   "outputs": [],
   "source": [
    "gamfitMed_eICU_ASP_24h <- gam(hospital_expire_flag ~ s(ibp_systolic_24h)+gender+s(age)+s(bmi)+s(sofatotal), data = df_eicu, family = binomial)\n",
    "gamfitMed_MIMIC_ASP_24h <- gam(hospital_expire_flag ~ s(ibp_systolic_24h)+gender+s(age)+s(bmi)+s(sofatotal), data = df_mimic, family = binomial)\n",
    "\n",
    "gamfitMed_eICU_ASP_48h <- gam(hospital_expire_flag ~ s(ibp_systolic_48h)+gender+s(age)+s(bmi)+s(sofatotal), data = df_eicu, family = binomial)\n",
    "gamfitMed_MIMIC_ASP_48h <- gam(hospital_expire_flag ~ s(ibp_systolic_48h)+gender+s(age)+s(bmi)+s(sofatotal), data = df_mimic, family = binomial)\n",
    "\n",
    "gamfitMed_eICU_ASP_72h <- gam(hospital_expire_flag ~ s(ibp_systolic_72h)+gender+s(age)+s(bmi)+s(sofatotal), data = df_eicu, family = binomial)\n",
    "gamfitMed_MIMIC_ASP_72h <- gam(hospital_expire_flag ~ s(ibp_systolic_72h)+gender+s(age)+s(bmi)+s(sofatotal), data = df_mimic, family = binomial)\n"
   ]
  },
  {
   "cell_type": "code",
   "execution_count": 407,
   "metadata": {},
   "outputs": [
    {
     "name": "stdout",
     "output_type": "stream",
     "text": [
      "[1] \"Number of cases: 14374\"\n",
      "[1] \"Number of cases: 14374\"\n",
      "[1] \"Number of cases: 14374\"\n",
      "[1] \"Number of cases: 12291\"\n",
      "[1] \"Number of cases: 12291\"\n",
      "[1] \"Number of cases: 12291\"\n"
     ]
    },
    {
     "data": {
      "text/html": [
       "<strong>png:</strong> 2"
      ],
      "text/latex": [
       "\\textbf{png:} 2"
      ],
      "text/markdown": [
       "**png:** 2"
      ],
      "text/plain": [
       "png \n",
       "  2 "
      ]
     },
     "metadata": {},
     "output_type": "display_data"
    }
   ],
   "source": [
    "pdf(file = \"figure/ASP_Hosp.pdf\", width = plot_width,\n",
    "    height = 9, pointsize = point_size, family = font)\n",
    "par(mfcol = c(3,2), cex = 1)\n",
    "\n",
    "gam_plotMed(gamfitMed_eICU_ASP_24h, main = \"eICU-CRD\", xRange = c(90, 140),\n",
    "                    yRange = c(0, .20), label = \"A\", xlabel =\"Median of 24h Arterial Systolic Pressure (ASP)\")\n",
    "\n",
    "gam_plotMed(gamfitMed_eICU_ASP_48h, main = \"eICU-CRD\", xRange = c(90, 140),\n",
    "                    yRange = c(0, .20), label = \"C\", xlabel =\"Median of 48h Arterial Systolic Pressure (ASP)\")\n",
    "\n",
    "gam_plotMed(gamfitMed_eICU_ASP_72h, main = \"eICU-CRD\", xRange = c(90, 140),\n",
    "                    yRange = c(0, .20), label = \"E\", xlabel =\"Median of 72h Arterial Systolic Pressure (ASP)\")\n",
    "\n",
    "gam_plotMed(gamfitMed_MIMIC_ASP_24h, main = \"MIMIC\", xRange = c(90, 140),\n",
    "                    yRange = c(0, .20),label = \"B\", xlabel =\"Median of 24h Arterial Systolic Pressure (ASP)\")\n",
    "\n",
    "gam_plotMed(gamfitMed_MIMIC_ASP_48h, main = \"MIMIC\", xRange = c(90, 140),\n",
    "                    yRange = c(0, .20),label = \"D\", xlabel =\"Median of 48h Arterial Systolic Pressure (ASP)\")\n",
    "\n",
    "gam_plotMed(gamfitMed_MIMIC_ASP_72h, main = \"MIMIC\", xRange = c(90, 140),\n",
    "                    yRange = c(0, .20),label = \"F\", xlabel =\"Median of 72h Arterial Systolic Pressure (ASP)\")\n",
    "dev.off()"
   ]
  },
  {
   "cell_type": "code",
   "execution_count": 416,
   "metadata": {},
   "outputs": [
    {
     "name": "stdout",
     "output_type": "stream",
     "text": [
      "[1] \"eICU\"\n"
     ]
    },
    {
     "data": {
      "text/html": [
       "<ol class=list-inline>\n",
       "\t<li>112</li>\n",
       "\t<li>113</li>\n",
       "\t<li>114</li>\n",
       "\t<li>115</li>\n",
       "\t<li>116</li>\n",
       "\t<li>117</li>\n",
       "\t<li>118</li>\n",
       "\t<li>119</li>\n",
       "\t<li>120</li>\n",
       "</ol>\n"
      ],
      "text/latex": [
       "\\begin{enumerate*}\n",
       "\\item 112\n",
       "\\item 113\n",
       "\\item 114\n",
       "\\item 115\n",
       "\\item 116\n",
       "\\item 117\n",
       "\\item 118\n",
       "\\item 119\n",
       "\\item 120\n",
       "\\end{enumerate*}\n"
      ],
      "text/markdown": [
       "1. 112\n",
       "2. 113\n",
       "3. 114\n",
       "4. 115\n",
       "5. 116\n",
       "6. 117\n",
       "7. 118\n",
       "8. 119\n",
       "9. 120\n",
       "\n",
       "\n"
      ],
      "text/plain": [
       "[1] 112 113 114 115 116 117 118 119 120"
      ]
     },
     "metadata": {},
     "output_type": "display_data"
    },
    {
     "data": {
      "text/html": [
       "<ol class=list-inline>\n",
       "\t<li>116</li>\n",
       "\t<li>117</li>\n",
       "\t<li>118</li>\n",
       "\t<li>119</li>\n",
       "\t<li>120</li>\n",
       "\t<li>121</li>\n",
       "\t<li>122</li>\n",
       "\t<li>123</li>\n",
       "\t<li>124</li>\n",
       "</ol>\n"
      ],
      "text/latex": [
       "\\begin{enumerate*}\n",
       "\\item 116\n",
       "\\item 117\n",
       "\\item 118\n",
       "\\item 119\n",
       "\\item 120\n",
       "\\item 121\n",
       "\\item 122\n",
       "\\item 123\n",
       "\\item 124\n",
       "\\end{enumerate*}\n"
      ],
      "text/markdown": [
       "1. 116\n",
       "2. 117\n",
       "3. 118\n",
       "4. 119\n",
       "5. 120\n",
       "6. 121\n",
       "7. 122\n",
       "8. 123\n",
       "9. 124\n",
       "\n",
       "\n"
      ],
      "text/plain": [
       "[1] 116 117 118 119 120 121 122 123 124"
      ]
     },
     "metadata": {},
     "output_type": "display_data"
    },
    {
     "data": {
      "text/html": [
       "<ol class=list-inline>\n",
       "\t<li>118</li>\n",
       "\t<li>119</li>\n",
       "\t<li>120</li>\n",
       "\t<li>121</li>\n",
       "\t<li>122</li>\n",
       "\t<li>123</li>\n",
       "\t<li>124</li>\n",
       "\t<li>125</li>\n",
       "</ol>\n"
      ],
      "text/latex": [
       "\\begin{enumerate*}\n",
       "\\item 118\n",
       "\\item 119\n",
       "\\item 120\n",
       "\\item 121\n",
       "\\item 122\n",
       "\\item 123\n",
       "\\item 124\n",
       "\\item 125\n",
       "\\end{enumerate*}\n"
      ],
      "text/markdown": [
       "1. 118\n",
       "2. 119\n",
       "3. 120\n",
       "4. 121\n",
       "5. 122\n",
       "6. 123\n",
       "7. 124\n",
       "8. 125\n",
       "\n",
       "\n"
      ],
      "text/plain": [
       "[1] 118 119 120 121 122 123 124 125"
      ]
     },
     "metadata": {},
     "output_type": "display_data"
    },
    {
     "name": "stdout",
     "output_type": "stream",
     "text": [
      "[1] \"MIMIC\"\n"
     ]
    },
    {
     "data": {
      "text/html": [
       "<ol class=list-inline>\n",
       "\t<li>112</li>\n",
       "\t<li>113</li>\n",
       "\t<li>114</li>\n",
       "</ol>\n"
      ],
      "text/latex": [
       "\\begin{enumerate*}\n",
       "\\item 112\n",
       "\\item 113\n",
       "\\item 114\n",
       "\\end{enumerate*}\n"
      ],
      "text/markdown": [
       "1. 112\n",
       "2. 113\n",
       "3. 114\n",
       "\n",
       "\n"
      ],
      "text/plain": [
       "[1] 112 113 114"
      ]
     },
     "metadata": {},
     "output_type": "display_data"
    },
    {
     "data": {
      "text/html": [
       "<ol class=list-inline>\n",
       "\t<li>115</li>\n",
       "\t<li>116</li>\n",
       "\t<li>117</li>\n",
       "\t<li>118</li>\n",
       "</ol>\n"
      ],
      "text/latex": [
       "\\begin{enumerate*}\n",
       "\\item 115\n",
       "\\item 116\n",
       "\\item 117\n",
       "\\item 118\n",
       "\\end{enumerate*}\n"
      ],
      "text/markdown": [
       "1. 115\n",
       "2. 116\n",
       "3. 117\n",
       "4. 118\n",
       "\n",
       "\n"
      ],
      "text/plain": [
       "[1] 115 116 117 118"
      ]
     },
     "metadata": {},
     "output_type": "display_data"
    },
    {
     "data": {
      "text/html": [
       "<ol class=list-inline>\n",
       "\t<li>115</li>\n",
       "\t<li>116</li>\n",
       "\t<li>117</li>\n",
       "\t<li>118</li>\n",
       "\t<li>119</li>\n",
       "\t<li>120</li>\n",
       "</ol>\n"
      ],
      "text/latex": [
       "\\begin{enumerate*}\n",
       "\\item 115\n",
       "\\item 116\n",
       "\\item 117\n",
       "\\item 118\n",
       "\\item 119\n",
       "\\item 120\n",
       "\\end{enumerate*}\n"
      ],
      "text/markdown": [
       "1. 115\n",
       "2. 116\n",
       "3. 117\n",
       "4. 118\n",
       "5. 119\n",
       "6. 120\n",
       "\n",
       "\n"
      ],
      "text/plain": [
       "[1] 115 116 117 118 119 120"
      ]
     },
     "metadata": {},
     "output_type": "display_data"
    }
   ],
   "source": [
    "print(\"eICU\") #112-125\n",
    "eicu_grad <- find_gradient(b = gamfitMed_eICU_ASP_24h) #112-120\n",
    "eicu_grad[(eicu_grad$gradient > -0.01) & (eicu_grad$gradient< 0.01)\n",
    "                 & (eicu_grad$bp_value> 90) & (eicu_grad$bp_value< 140), \"bp_value\"]\n",
    "eicu_grad <- find_gradient(b = gamfitMed_eICU_ASP_48h) #116-124\n",
    "eicu_grad[(eicu_grad$gradient > -0.01) & (eicu_grad$gradient< 0.01)\n",
    "                 & (eicu_grad$bp_value> 90) & (eicu_grad$bp_value< 140), \"bp_value\"]\n",
    "eicu_grad <- find_gradient(b = gamfitMed_eICU_ASP_72h)#118-125\n",
    "eicu_grad[(eicu_grad$gradient > -0.01) & (eicu_grad$gradient< 0.01) \n",
    "                 & (eicu_grad$bp_value> 90) & (eicu_grad$bp_value< 140), \"bp_value\"]\n",
    "print(\"MIMIC\") #112-120\n",
    "mimic_grad <- find_gradient(b = gamfitMed_MIMIC_ASP_24h)#112-114\n",
    "mimic_grad[(mimic_grad$gradient > -0.01) & (mimic_grad$gradient< 0.01) \n",
    "                 & (mimic_grad$bp_value> 90) & (mimic_grad$bp_value<140), \"bp_value\"]\n",
    "mimic_grad <- find_gradient(b = gamfitMed_MIMIC_ASP_48h)#115-118\n",
    "mimic_grad[(mimic_grad$gradient > -0.01) & (mimic_grad$gradient< 0.01) \n",
    "                 & (mimic_grad$bp_value> 90) & (mimic_grad$bp_value<140), \"bp_value\"]\n",
    "mimic_grad <- find_gradient(b = gamfitMed_MIMIC_ASP_72h) #115-120\n",
    "mimic_grad[(mimic_grad$gradient > -0.01) & (mimic_grad$gradient< 0.01)\n",
    "                 & (mimic_grad$bp_value> 90) & (mimic_grad$bp_value<140), \"bp_value\"]\n"
   ]
  },
  {
   "cell_type": "markdown",
   "metadata": {},
   "source": [
    "## diastolic vs hospital mortality"
   ]
  },
  {
   "cell_type": "code",
   "execution_count": 589,
   "metadata": {},
   "outputs": [],
   "source": [
    "gamfitMed_eICU_ADP_24h <- gam(hospital_expire_flag ~ s(ibp_diastolic_24h)+gender+s(age)+s(bmi)+s(sofatotal), data = df_eicu, family = binomial)\n",
    "gamfitMed_MIMIC_ADP_24h <- gam(hospital_expire_flag ~ s(ibp_diastolic_24h)+gender+s(age)+s(bmi)+s(sofatotal), data = df_mimic, family = binomial)\n",
    "\n",
    "gamfitMed_eICU_ADP_48h <- gam(hospital_expire_flag ~ s(ibp_diastolic_48h)+gender+s(age)+s(bmi)+s(sofatotal), data = df_eicu, family = binomial)\n",
    "gamfitMed_MIMIC_ADP_48h <- gam(hospital_expire_flag ~ s(ibp_diastolic_48h)+gender+s(age)+s(bmi)+s(sofatotal), data = df_mimic, family = binomial)\n",
    "\n",
    "gamfitMed_eICU_ADP_72h <- gam(hospital_expire_flag ~ s(ibp_diastolic_72h)+gender+s(age)+s(bmi)+s(sofatotal), data = df_eicu, family = binomial)\n",
    "gamfitMed_MIMIC_ADP_72h <- gam(hospital_expire_flag ~ s(ibp_diastolic_72h)+gender+s(age)+s(bmi)+s(sofatotal), data = df_mimic, family = binomial)\n"
   ]
  },
  {
   "cell_type": "code",
   "execution_count": 590,
   "metadata": {},
   "outputs": [
    {
     "name": "stdout",
     "output_type": "stream",
     "text": [
      "[1] \"Number of cases: 14374\"\n",
      "[1] \"Number of cases: 14374\"\n",
      "[1] \"Number of cases: 14374\"\n",
      "[1] \"Number of cases: 12291\"\n",
      "[1] \"Number of cases: 12291\"\n",
      "[1] \"Number of cases: 12291\"\n"
     ]
    },
    {
     "data": {
      "text/html": [
       "<strong>png:</strong> 2"
      ],
      "text/latex": [
       "\\textbf{png:} 2"
      ],
      "text/markdown": [
       "**png:** 2"
      ],
      "text/plain": [
       "png \n",
       "  2 "
      ]
     },
     "metadata": {},
     "output_type": "display_data"
    }
   ],
   "source": [
    "pdf(file = \"figure/ADP_Hosp.pdf\", width = plot_width,\n",
    "    height = 9, pointsize = point_size, family = font)\n",
    "par(mfcol = c(3,2), cex = 1)\n",
    "x_range = c(35, 75)\n",
    "gam_plotMed(gamfitMed_eICU_ADP_24h, main = \"eICU-CRD\", xRange = x_range,\n",
    "                    yRange = c(0, .20), label = \"A\", xlabel =\"Median of 24h Arterial Diastolic Pressure (ADP)\")\n",
    "\n",
    "gam_plotMed(gamfitMed_eICU_ADP_48h, main = \"eICU-CRD\", xRange = x_range,\n",
    "                    yRange = c(0, .20), label = \"C\", xlabel =\"Median of 48h Arterial Diastolic Pressure (ADP)\")\n",
    "\n",
    "gam_plotMed(gamfitMed_eICU_ADP_72h, main = \"eICU-CRD\", xRange = x_range,\n",
    "                    yRange = c(0, .20), label = \"E\", xlabel =\"Median of 72h Arterial Diastolic Pressure (ADP)\")\n",
    "\n",
    "gam_plotMed(gamfitMed_MIMIC_ADP_24h, main = \"MIMIC\", xRange = x_range,\n",
    "                    yRange = c(0, .20),label = \"B\", xlabel =\"Median of 24h Arterial Diastolic Pressure (ADP)\")\n",
    "\n",
    "gam_plotMed(gamfitMed_MIMIC_ADP_48h, main = \"MIMIC\", xRange = x_range,\n",
    "                    yRange = c(0, .20),label = \"D\", xlabel =\"Median of 48h Arterial Diastolic Pressure (ADP)\")\n",
    "\n",
    "gam_plotMed(gamfitMed_MIMIC_ADP_72h, main = \"MIMIC\", xRange = x_range,\n",
    "                    yRange = c(0, .20),label = \"F\", xlabel =\"Median of 72h Arterial Diastolic Pressure (ADP)\")\n",
    "dev.off()"
   ]
  },
  {
   "cell_type": "code",
   "execution_count": 419,
   "metadata": {},
   "outputs": [
    {
     "name": "stdout",
     "output_type": "stream",
     "text": [
      "[1] \"eICU\"\n"
     ]
    },
    {
     "data": {
      "text/html": [
       "<ol class=list-inline>\n",
       "\t<li>50</li>\n",
       "\t<li>51</li>\n",
       "\t<li>52</li>\n",
       "\t<li>53</li>\n",
       "\t<li>54</li>\n",
       "</ol>\n"
      ],
      "text/latex": [
       "\\begin{enumerate*}\n",
       "\\item 50\n",
       "\\item 51\n",
       "\\item 52\n",
       "\\item 53\n",
       "\\item 54\n",
       "\\end{enumerate*}\n"
      ],
      "text/markdown": [
       "1. 50\n",
       "2. 51\n",
       "3. 52\n",
       "4. 53\n",
       "5. 54\n",
       "\n",
       "\n"
      ],
      "text/plain": [
       "[1] 50 51 52 53 54"
      ]
     },
     "metadata": {},
     "output_type": "display_data"
    },
    {
     "data": {
      "text/html": [
       "<ol class=list-inline>\n",
       "\t<li>53</li>\n",
       "\t<li>54</li>\n",
       "\t<li>55</li>\n",
       "\t<li>56</li>\n",
       "\t<li>57</li>\n",
       "\t<li>58</li>\n",
       "\t<li>59</li>\n",
       "</ol>\n"
      ],
      "text/latex": [
       "\\begin{enumerate*}\n",
       "\\item 53\n",
       "\\item 54\n",
       "\\item 55\n",
       "\\item 56\n",
       "\\item 57\n",
       "\\item 58\n",
       "\\item 59\n",
       "\\end{enumerate*}\n"
      ],
      "text/markdown": [
       "1. 53\n",
       "2. 54\n",
       "3. 55\n",
       "4. 56\n",
       "5. 57\n",
       "6. 58\n",
       "7. 59\n",
       "\n",
       "\n"
      ],
      "text/plain": [
       "[1] 53 54 55 56 57 58 59"
      ]
     },
     "metadata": {},
     "output_type": "display_data"
    },
    {
     "data": {
      "text/html": [
       "<ol class=list-inline>\n",
       "\t<li>54</li>\n",
       "\t<li>55</li>\n",
       "\t<li>56</li>\n",
       "\t<li>57</li>\n",
       "\t<li>58</li>\n",
       "\t<li>59</li>\n",
       "\t<li>60</li>\n",
       "\t<li>61</li>\n",
       "</ol>\n"
      ],
      "text/latex": [
       "\\begin{enumerate*}\n",
       "\\item 54\n",
       "\\item 55\n",
       "\\item 56\n",
       "\\item 57\n",
       "\\item 58\n",
       "\\item 59\n",
       "\\item 60\n",
       "\\item 61\n",
       "\\end{enumerate*}\n"
      ],
      "text/markdown": [
       "1. 54\n",
       "2. 55\n",
       "3. 56\n",
       "4. 57\n",
       "5. 58\n",
       "6. 59\n",
       "7. 60\n",
       "8. 61\n",
       "\n",
       "\n"
      ],
      "text/plain": [
       "[1] 54 55 56 57 58 59 60 61"
      ]
     },
     "metadata": {},
     "output_type": "display_data"
    },
    {
     "name": "stdout",
     "output_type": "stream",
     "text": [
      "[1] \"MIMIC\"\n"
     ]
    },
    {
     "data": {
      "text/html": [
       "<ol class=list-inline>\n",
       "\t<li>41</li>\n",
       "\t<li>42</li>\n",
       "\t<li>43</li>\n",
       "\t<li>44</li>\n",
       "\t<li>45</li>\n",
       "\t<li>46</li>\n",
       "\t<li>47</li>\n",
       "\t<li>48</li>\n",
       "\t<li>49</li>\n",
       "\t<li>50</li>\n",
       "\t<li>51</li>\n",
       "\t<li>52</li>\n",
       "</ol>\n"
      ],
      "text/latex": [
       "\\begin{enumerate*}\n",
       "\\item 41\n",
       "\\item 42\n",
       "\\item 43\n",
       "\\item 44\n",
       "\\item 45\n",
       "\\item 46\n",
       "\\item 47\n",
       "\\item 48\n",
       "\\item 49\n",
       "\\item 50\n",
       "\\item 51\n",
       "\\item 52\n",
       "\\end{enumerate*}\n"
      ],
      "text/markdown": [
       "1. 41\n",
       "2. 42\n",
       "3. 43\n",
       "4. 44\n",
       "5. 45\n",
       "6. 46\n",
       "7. 47\n",
       "8. 48\n",
       "9. 49\n",
       "10. 50\n",
       "11. 51\n",
       "12. 52\n",
       "\n",
       "\n"
      ],
      "text/plain": [
       " [1] 41 42 43 44 45 46 47 48 49 50 51 52"
      ]
     },
     "metadata": {},
     "output_type": "display_data"
    },
    {
     "data": {
      "text/html": [
       "<ol class=list-inline>\n",
       "\t<li>43</li>\n",
       "\t<li>44</li>\n",
       "\t<li>45</li>\n",
       "\t<li>46</li>\n",
       "\t<li>47</li>\n",
       "\t<li>48</li>\n",
       "\t<li>49</li>\n",
       "\t<li>50</li>\n",
       "\t<li>51</li>\n",
       "\t<li>52</li>\n",
       "\t<li>53</li>\n",
       "\t<li>54</li>\n",
       "</ol>\n"
      ],
      "text/latex": [
       "\\begin{enumerate*}\n",
       "\\item 43\n",
       "\\item 44\n",
       "\\item 45\n",
       "\\item 46\n",
       "\\item 47\n",
       "\\item 48\n",
       "\\item 49\n",
       "\\item 50\n",
       "\\item 51\n",
       "\\item 52\n",
       "\\item 53\n",
       "\\item 54\n",
       "\\end{enumerate*}\n"
      ],
      "text/markdown": [
       "1. 43\n",
       "2. 44\n",
       "3. 45\n",
       "4. 46\n",
       "5. 47\n",
       "6. 48\n",
       "7. 49\n",
       "8. 50\n",
       "9. 51\n",
       "10. 52\n",
       "11. 53\n",
       "12. 54\n",
       "\n",
       "\n"
      ],
      "text/plain": [
       " [1] 43 44 45 46 47 48 49 50 51 52 53 54"
      ]
     },
     "metadata": {},
     "output_type": "display_data"
    },
    {
     "data": {
      "text/html": [
       "<ol class=list-inline>\n",
       "\t<li>47</li>\n",
       "\t<li>48</li>\n",
       "\t<li>49</li>\n",
       "\t<li>52</li>\n",
       "\t<li>53</li>\n",
       "\t<li>54</li>\n",
       "\t<li>55</li>\n",
       "\t<li>56</li>\n",
       "\t<li>57</li>\n",
       "\t<li>58</li>\n",
       "\t<li>59</li>\n",
       "</ol>\n"
      ],
      "text/latex": [
       "\\begin{enumerate*}\n",
       "\\item 47\n",
       "\\item 48\n",
       "\\item 49\n",
       "\\item 52\n",
       "\\item 53\n",
       "\\item 54\n",
       "\\item 55\n",
       "\\item 56\n",
       "\\item 57\n",
       "\\item 58\n",
       "\\item 59\n",
       "\\end{enumerate*}\n"
      ],
      "text/markdown": [
       "1. 47\n",
       "2. 48\n",
       "3. 49\n",
       "4. 52\n",
       "5. 53\n",
       "6. 54\n",
       "7. 55\n",
       "8. 56\n",
       "9. 57\n",
       "10. 58\n",
       "11. 59\n",
       "\n",
       "\n"
      ],
      "text/plain": [
       " [1] 47 48 49 52 53 54 55 56 57 58 59"
      ]
     },
     "metadata": {},
     "output_type": "display_data"
    }
   ],
   "source": [
    "print(\"eICU\") #112-125\n",
    "eicu_grad <- find_gradient(b = gamfitMed_eICU_ADP_24h) #50-54\n",
    "eicu_grad[(eicu_grad$gradient > -0.01) & (eicu_grad$gradient< 0.01)\n",
    "                 & (eicu_grad$bp_value> 40) & (eicu_grad$bp_value< 70), \"bp_value\"]\n",
    "eicu_grad <- find_gradient(b = gamfitMed_eICU_ADP_48h) #53-59\n",
    "eicu_grad[(eicu_grad$gradient > -0.01) & (eicu_grad$gradient< 0.01)\n",
    "                 & (eicu_grad$bp_value> 40) & (eicu_grad$bp_value< 70), \"bp_value\"]\n",
    "eicu_grad <- find_gradient(b = gamfitMed_eICU_ADP_72h)#54-61\n",
    "eicu_grad[(eicu_grad$gradient > -0.01) & (eicu_grad$gradient< 0.01) \n",
    "                 & (eicu_grad$bp_value> 40) & (eicu_grad$bp_value< 70), \"bp_value\"]\n",
    "print(\"MIMIC\") #41-59\n",
    "mimic_grad <- find_gradient(b = gamfitMed_MIMIC_ADP_24h)#41-52\n",
    "mimic_grad[(mimic_grad$gradient > -0.01) & (mimic_grad$gradient< 0.01) \n",
    "                 & (mimic_grad$bp_value> 40) & (mimic_grad$bp_value<70), \"bp_value\"]\n",
    "mimic_grad <- find_gradient(b = gamfitMed_MIMIC_ADP_48h)#43-54\n",
    "mimic_grad[(mimic_grad$gradient > -0.01) & (mimic_grad$gradient< 0.01) \n",
    "                 & (mimic_grad$bp_value> 40) & (mimic_grad$bp_value<70), \"bp_value\"]\n",
    "mimic_grad <- find_gradient(b = gamfitMed_MIMIC_ADP_72h) #47-59\n",
    "mimic_grad[(mimic_grad$gradient > -0.01) & (mimic_grad$gradient< 0.01)\n",
    "                 & (mimic_grad$bp_value> 40) & (mimic_grad$bp_value<70), \"bp_value\"]\n"
   ]
  },
  {
   "cell_type": "markdown",
   "metadata": {},
   "source": [
    "## mean, systolic, diastolic vs ICU mortality"
   ]
  },
  {
   "cell_type": "code",
   "execution_count": 420,
   "metadata": {},
   "outputs": [],
   "source": [
    "gamfitMed_ICU_eICU_MAP_24h <- gam(icu_mortality ~ s(ibp_mean_24h)+gender+s(age)+s(bmi)+s(sofatotal), data = df_eicu, family = binomial)\n",
    "gamfitMed_ICU_MIMIC_MAP_24h <- gam(icu_mortality ~ s(ibp_mean_24h)+gender+s(age)+s(bmi)+s(sofatotal), data = df_mimic, family = binomial)\n",
    "\n",
    "gamfitMed_ICU_eICU_MAP_48h <- gam(icu_mortality ~ s(ibp_mean_48h)+gender+s(age)+s(bmi)+s(sofatotal), data = df_eicu, family = binomial)\n",
    "gamfitMed_ICU_MIMIC_MAP_48h <- gam(icu_mortality ~ s(ibp_mean_48h)+gender+s(age)+s(bmi)+s(sofatotal), data = df_mimic, family = binomial)\n",
    "\n",
    "gamfitMed_ICU_eICU_MAP_72h <- gam(icu_mortality ~ s(ibp_mean_72h)+gender+s(age)+s(bmi)+s(sofatotal), data = df_eicu, family = binomial)\n",
    "gamfitMed_ICU_MIMIC_MAP_72h <- gam(icu_mortality ~ s(ibp_mean_72h)+gender+s(age)+s(bmi)+s(sofatotal), data = df_mimic, family = binomial)\n"
   ]
  },
  {
   "cell_type": "code",
   "execution_count": 421,
   "metadata": {},
   "outputs": [
    {
     "name": "stdout",
     "output_type": "stream",
     "text": [
      "[1] \"Number of cases: 14374\"\n",
      "[1] \"Number of cases: 14374\"\n",
      "[1] \"Number of cases: 14374\"\n",
      "[1] \"Number of cases: 12291\"\n",
      "[1] \"Number of cases: 12291\"\n",
      "[1] \"Number of cases: 12291\"\n"
     ]
    },
    {
     "data": {
      "text/html": [
       "<strong>png:</strong> 2"
      ],
      "text/latex": [
       "\\textbf{png:} 2"
      ],
      "text/markdown": [
       "**png:** 2"
      ],
      "text/plain": [
       "png \n",
       "  2 "
      ]
     },
     "metadata": {},
     "output_type": "display_data"
    }
   ],
   "source": [
    "pdf(file = \"figure/MAP_ICUmort.pdf\", width = plot_width,\n",
    "    height = 9, pointsize = point_size, family = font)\n",
    "par(mfcol = c(3,2), cex = 1)\n",
    "x_range = c(55, 95)\n",
    "gam_plotMed(gamfitMed_ICU_eICU_MAP_24h, main = \"eICU-CRD\", xRange = x_range,\n",
    "                    yRange = c(0, .20), label = \"A\", xlabel =\"Median of 24h Mean Arterial Pressure (MAP)\")\n",
    "\n",
    "gam_plotMed(gamfitMed_ICU_eICU_MAP_48h, main = \"eICU-CRD\", xRange = x_range,\n",
    "                    yRange = c(0, .20), label = \"C\", xlabel =\"Median of 48h Mean Arterial Pressure (MAP)\")\n",
    "\n",
    "gam_plotMed(gamfitMed_ICU_eICU_MAP_72h, main = \"eICU-CRD\", xRange = x_range,\n",
    "                    yRange = c(0, .20), label = \"E\", xlabel =\"Median of 72h Mean Arterial Pressure (MAP)\")\n",
    "\n",
    "gam_plotMed(gamfitMed_ICU_MIMIC_MAP_24h, main = \"MIMIC\", xRange = x_range,\n",
    "                    yRange = c(0, .20),label = \"B\", xlabel =\"Median of 24h Mean Arterial Pressure (MAP)\")\n",
    "\n",
    "gam_plotMed(gamfitMed_ICU_MIMIC_MAP_48h, main = \"MIMIC\", xRange = x_range,\n",
    "                    yRange = c(0, .20),label = \"D\", xlabel =\"Median of 48h Mean Arterial Pressure (MAP)\")\n",
    "\n",
    "gam_plotMed(gamfitMed_ICU_MIMIC_MAP_72h, main = \"MIMIC\", xRange = x_range,\n",
    "                    yRange = c(0, .20),label = \"F\", xlabel =\"Median of 72h Mean Arterial Pressure (MAP)\")\n",
    "dev.off()"
   ]
  },
  {
   "cell_type": "code",
   "execution_count": 422,
   "metadata": {},
   "outputs": [
    {
     "name": "stdout",
     "output_type": "stream",
     "text": [
      "[1] \"eICU\"\n"
     ]
    },
    {
     "data": {
      "text/html": [
       "<ol class=list-inline>\n",
       "\t<li>73</li>\n",
       "\t<li>74</li>\n",
       "\t<li>75</li>\n",
       "</ol>\n"
      ],
      "text/latex": [
       "\\begin{enumerate*}\n",
       "\\item 73\n",
       "\\item 74\n",
       "\\item 75\n",
       "\\end{enumerate*}\n"
      ],
      "text/markdown": [
       "1. 73\n",
       "2. 74\n",
       "3. 75\n",
       "\n",
       "\n"
      ],
      "text/plain": [
       "[1] 73 74 75"
      ]
     },
     "metadata": {},
     "output_type": "display_data"
    },
    {
     "data": {
      "text/html": [
       "<ol class=list-inline>\n",
       "\t<li>77</li>\n",
       "\t<li>78</li>\n",
       "\t<li>79</li>\n",
       "</ol>\n"
      ],
      "text/latex": [
       "\\begin{enumerate*}\n",
       "\\item 77\n",
       "\\item 78\n",
       "\\item 79\n",
       "\\end{enumerate*}\n"
      ],
      "text/markdown": [
       "1. 77\n",
       "2. 78\n",
       "3. 79\n",
       "\n",
       "\n"
      ],
      "text/plain": [
       "[1] 77 78 79"
      ]
     },
     "metadata": {},
     "output_type": "display_data"
    },
    {
     "data": {
      "text/html": [
       "<ol class=list-inline>\n",
       "\t<li>78</li>\n",
       "\t<li>79</li>\n",
       "\t<li>80</li>\n",
       "</ol>\n"
      ],
      "text/latex": [
       "\\begin{enumerate*}\n",
       "\\item 78\n",
       "\\item 79\n",
       "\\item 80\n",
       "\\end{enumerate*}\n"
      ],
      "text/markdown": [
       "1. 78\n",
       "2. 79\n",
       "3. 80\n",
       "\n",
       "\n"
      ],
      "text/plain": [
       "[1] 78 79 80"
      ]
     },
     "metadata": {},
     "output_type": "display_data"
    },
    {
     "name": "stdout",
     "output_type": "stream",
     "text": [
      "[1] \"MIMIC\"\n"
     ]
    },
    {
     "data": {
      "text/html": [
       "<ol class=list-inline>\n",
       "\t<li>73</li>\n",
       "\t<li>74</li>\n",
       "</ol>\n"
      ],
      "text/latex": [
       "\\begin{enumerate*}\n",
       "\\item 73\n",
       "\\item 74\n",
       "\\end{enumerate*}\n"
      ],
      "text/markdown": [
       "1. 73\n",
       "2. 74\n",
       "\n",
       "\n"
      ],
      "text/plain": [
       "[1] 73 74"
      ]
     },
     "metadata": {},
     "output_type": "display_data"
    },
    {
     "data": {
      "text/html": [
       "<ol class=list-inline>\n",
       "\t<li>74</li>\n",
       "\t<li>75</li>\n",
       "\t<li>76</li>\n",
       "\t<li>77</li>\n",
       "</ol>\n"
      ],
      "text/latex": [
       "\\begin{enumerate*}\n",
       "\\item 74\n",
       "\\item 75\n",
       "\\item 76\n",
       "\\item 77\n",
       "\\end{enumerate*}\n"
      ],
      "text/markdown": [
       "1. 74\n",
       "2. 75\n",
       "3. 76\n",
       "4. 77\n",
       "\n",
       "\n"
      ],
      "text/plain": [
       "[1] 74 75 76 77"
      ]
     },
     "metadata": {},
     "output_type": "display_data"
    },
    {
     "data": {
      "text/html": [
       "<ol class=list-inline>\n",
       "\t<li>75</li>\n",
       "\t<li>76</li>\n",
       "\t<li>77</li>\n",
       "</ol>\n"
      ],
      "text/latex": [
       "\\begin{enumerate*}\n",
       "\\item 75\n",
       "\\item 76\n",
       "\\item 77\n",
       "\\end{enumerate*}\n"
      ],
      "text/markdown": [
       "1. 75\n",
       "2. 76\n",
       "3. 77\n",
       "\n",
       "\n"
      ],
      "text/plain": [
       "[1] 75 76 77"
      ]
     },
     "metadata": {},
     "output_type": "display_data"
    }
   ],
   "source": [
    "print(\"eICU\") #73-80\n",
    "eicu_grad <- find_gradient(b = gamfitMed_ICU_eICU_MAP_24h) #73-75\n",
    "eicu_grad[(eicu_grad$gradient > -0.01) & (eicu_grad$gradient< 0.01)\n",
    "                 & (eicu_grad$bp_value< 90) & (eicu_grad$bp_value> 60), \"bp_value\"]\n",
    "eicu_grad <- find_gradient(b = gamfitMed_ICU_eICU_MAP_48h) #77-79\n",
    "eicu_grad[(eicu_grad$gradient > -0.01) & (eicu_grad$gradient< 0.01)\n",
    "                 & (eicu_grad$bp_value< 90) & (eicu_grad$bp_value> 60), \"bp_value\"]\n",
    "eicu_grad <- find_gradient(b = gamfitMed_ICU_eICU_MAP_72h)#78-80\n",
    "eicu_grad[(eicu_grad$gradient > -0.01) & (eicu_grad$gradient< 0.01) \n",
    "                 & (eicu_grad$bp_value< 90) & (eicu_grad$bp_value> 60), \"bp_value\"]\n",
    "print(\"MIMIC\") #73-77\n",
    "mimic_grad <- find_gradient(b = gamfitMed_ICU_MIMIC_MAP_24h)#73-74\n",
    "mimic_grad[(mimic_grad$gradient > -0.01) & (mimic_grad$gradient< 0.01) \n",
    "                 & (mimic_grad$bp_value< 90) & (mimic_grad$bp_value> 60), \"bp_value\"]\n",
    "mimic_grad <- find_gradient(b = gamfitMed_ICU_MIMIC_MAP_48h)#74-77\n",
    "mimic_grad[(mimic_grad$gradient > -0.01) & (mimic_grad$gradient< 0.01) \n",
    "                 & (mimic_grad$bp_value< 90) & (mimic_grad$bp_value> 60), \"bp_value\"]\n",
    "mimic_grad <- find_gradient(b = gamfitMed_ICU_MIMIC_MAP_72h) #75-77\n",
    "mimic_grad[(mimic_grad$gradient > -0.01) & (mimic_grad$gradient< 0.01)\n",
    "                 & (mimic_grad$bp_value< 90) & (mimic_grad$bp_value> 60), \"bp_value\"]\n"
   ]
  },
  {
   "cell_type": "code",
   "execution_count": 423,
   "metadata": {},
   "outputs": [],
   "source": [
    "gamfitMed_ICU_eICU_ASP_24h <- gam(icu_mortality ~ s(ibp_systolic_24h)+gender+s(age)+s(bmi)+s(sofatotal), data = df_eicu, family = binomial)\n",
    "gamfitMed_ICU_MIMIC_ASP_24h <- gam(icu_mortality ~ s(ibp_systolic_24h)+gender+s(age)+s(bmi)+s(sofatotal), data = df_mimic, family = binomial)\n",
    "\n",
    "gamfitMed_ICU_eICU_ASP_48h <- gam(icu_mortality ~ s(ibp_systolic_48h)+gender+s(age)+s(bmi)+s(sofatotal), data = df_eicu, family = binomial)\n",
    "gamfitMed_ICU_MIMIC_ASP_48h <- gam(icu_mortality ~ s(ibp_systolic_48h)+gender+s(age)+s(bmi)+s(sofatotal), data = df_mimic, family = binomial)\n",
    "\n",
    "gamfitMed_ICU_eICU_ASP_72h <- gam(icu_mortality ~ s(ibp_systolic_72h)+gender+s(age)+s(bmi)+s(sofatotal), data = df_eicu, family = binomial)\n",
    "gamfitMed_ICU_MIMIC_ASP_72h <- gam(icu_mortality ~ s(ibp_systolic_72h)+gender+s(age)+s(bmi)+s(sofatotal), data = df_mimic, family = binomial)\n"
   ]
  },
  {
   "cell_type": "code",
   "execution_count": 424,
   "metadata": {},
   "outputs": [
    {
     "name": "stdout",
     "output_type": "stream",
     "text": [
      "[1] \"Number of cases: 14374\"\n",
      "[1] \"Number of cases: 14374\"\n",
      "[1] \"Number of cases: 14374\"\n",
      "[1] \"Number of cases: 12291\"\n",
      "[1] \"Number of cases: 12291\"\n",
      "[1] \"Number of cases: 12291\"\n"
     ]
    },
    {
     "data": {
      "text/html": [
       "<strong>png:</strong> 2"
      ],
      "text/latex": [
       "\\textbf{png:} 2"
      ],
      "text/markdown": [
       "**png:** 2"
      ],
      "text/plain": [
       "png \n",
       "  2 "
      ]
     },
     "metadata": {},
     "output_type": "display_data"
    }
   ],
   "source": [
    "pdf(file = \"figure/ASP_ICUmort.pdf\", width = plot_width,\n",
    "    height = 9, pointsize = point_size, family = font)\n",
    "par(mfcol = c(3,2), cex = 1)\n",
    "\n",
    "gam_plotMed(gamfitMed_ICU_eICU_ASP_24h, main = \"eICU-CRD\", xRange = c(90, 140),\n",
    "                    yRange = c(0, .20), label = \"A\", xlabel =\"Median of 24h Arterial Systolic Pressure (ASP)\")\n",
    "\n",
    "gam_plotMed(gamfitMed_ICU_eICU_ASP_48h, main = \"eICU-CRD\", xRange = c(90, 140),\n",
    "                    yRange = c(0, .20), label = \"C\", xlabel =\"Median of 48h Arterial Systolic Pressure (ASP)\")\n",
    "\n",
    "gam_plotMed(gamfitMed_ICU_eICU_ASP_72h, main = \"eICU-CRD\", xRange = c(90, 140),\n",
    "                    yRange = c(0, .20), label = \"E\", xlabel =\"Median of 72h Arterial Systolic Pressure (ASP)\")\n",
    "\n",
    "gam_plotMed(gamfitMed_ICU_MIMIC_ASP_24h, main = \"MIMIC\", xRange = c(90, 140),\n",
    "                    yRange = c(0, .20),label = \"B\", xlabel =\"Median of 24h Arterial Systolic Pressure (ASP)\")\n",
    "\n",
    "gam_plotMed(gamfitMed_ICU_MIMIC_ASP_48h, main = \"MIMIC\", xRange = c(90, 140),\n",
    "                    yRange = c(0, .20),label = \"D\", xlabel =\"Median of 48h Arterial Systolic Pressure (ASP)\")\n",
    "\n",
    "gam_plotMed(gamfitMed_ICU_MIMIC_ASP_72h, main = \"MIMIC\", xRange = c(90, 140),\n",
    "                    yRange = c(0, .20),label = \"F\", xlabel =\"Median of 72h Arterial Systolic Pressure (ASP)\")\n",
    "dev.off()"
   ]
  },
  {
   "cell_type": "code",
   "execution_count": 425,
   "metadata": {},
   "outputs": [
    {
     "name": "stdout",
     "output_type": "stream",
     "text": [
      "[1] \"eICU\"\n"
     ]
    },
    {
     "data": {
      "text/html": [
       "<ol class=list-inline>\n",
       "\t<li>113</li>\n",
       "\t<li>114</li>\n",
       "\t<li>115</li>\n",
       "\t<li>116</li>\n",
       "\t<li>117</li>\n",
       "\t<li>118</li>\n",
       "\t<li>119</li>\n",
       "\t<li>120</li>\n",
       "</ol>\n"
      ],
      "text/latex": [
       "\\begin{enumerate*}\n",
       "\\item 113\n",
       "\\item 114\n",
       "\\item 115\n",
       "\\item 116\n",
       "\\item 117\n",
       "\\item 118\n",
       "\\item 119\n",
       "\\item 120\n",
       "\\end{enumerate*}\n"
      ],
      "text/markdown": [
       "1. 113\n",
       "2. 114\n",
       "3. 115\n",
       "4. 116\n",
       "5. 117\n",
       "6. 118\n",
       "7. 119\n",
       "8. 120\n",
       "\n",
       "\n"
      ],
      "text/plain": [
       "[1] 113 114 115 116 117 118 119 120"
      ]
     },
     "metadata": {},
     "output_type": "display_data"
    },
    {
     "data": {
      "text/html": [
       "<ol class=list-inline>\n",
       "\t<li>116</li>\n",
       "\t<li>117</li>\n",
       "\t<li>118</li>\n",
       "\t<li>119</li>\n",
       "\t<li>120</li>\n",
       "\t<li>121</li>\n",
       "\t<li>122</li>\n",
       "\t<li>123</li>\n",
       "\t<li>124</li>\n",
       "\t<li>125</li>\n",
       "\t<li>126</li>\n",
       "</ol>\n"
      ],
      "text/latex": [
       "\\begin{enumerate*}\n",
       "\\item 116\n",
       "\\item 117\n",
       "\\item 118\n",
       "\\item 119\n",
       "\\item 120\n",
       "\\item 121\n",
       "\\item 122\n",
       "\\item 123\n",
       "\\item 124\n",
       "\\item 125\n",
       "\\item 126\n",
       "\\end{enumerate*}\n"
      ],
      "text/markdown": [
       "1. 116\n",
       "2. 117\n",
       "3. 118\n",
       "4. 119\n",
       "5. 120\n",
       "6. 121\n",
       "7. 122\n",
       "8. 123\n",
       "9. 124\n",
       "10. 125\n",
       "11. 126\n",
       "\n",
       "\n"
      ],
      "text/plain": [
       " [1] 116 117 118 119 120 121 122 123 124 125 126"
      ]
     },
     "metadata": {},
     "output_type": "display_data"
    },
    {
     "data": {
      "text/html": [
       "<ol class=list-inline>\n",
       "\t<li>118</li>\n",
       "\t<li>119</li>\n",
       "\t<li>120</li>\n",
       "\t<li>121</li>\n",
       "\t<li>122</li>\n",
       "\t<li>123</li>\n",
       "\t<li>124</li>\n",
       "\t<li>125</li>\n",
       "\t<li>126</li>\n",
       "\t<li>127</li>\n",
       "\t<li>128</li>\n",
       "</ol>\n"
      ],
      "text/latex": [
       "\\begin{enumerate*}\n",
       "\\item 118\n",
       "\\item 119\n",
       "\\item 120\n",
       "\\item 121\n",
       "\\item 122\n",
       "\\item 123\n",
       "\\item 124\n",
       "\\item 125\n",
       "\\item 126\n",
       "\\item 127\n",
       "\\item 128\n",
       "\\end{enumerate*}\n"
      ],
      "text/markdown": [
       "1. 118\n",
       "2. 119\n",
       "3. 120\n",
       "4. 121\n",
       "5. 122\n",
       "6. 123\n",
       "7. 124\n",
       "8. 125\n",
       "9. 126\n",
       "10. 127\n",
       "11. 128\n",
       "\n",
       "\n"
      ],
      "text/plain": [
       " [1] 118 119 120 121 122 123 124 125 126 127 128"
      ]
     },
     "metadata": {},
     "output_type": "display_data"
    },
    {
     "name": "stdout",
     "output_type": "stream",
     "text": [
      "[1] \"MIMIC\"\n"
     ]
    },
    {
     "data": {
      "text/html": [
       "<ol class=list-inline>\n",
       "\t<li>113</li>\n",
       "\t<li>114</li>\n",
       "\t<li>115</li>\n",
       "</ol>\n"
      ],
      "text/latex": [
       "\\begin{enumerate*}\n",
       "\\item 113\n",
       "\\item 114\n",
       "\\item 115\n",
       "\\end{enumerate*}\n"
      ],
      "text/markdown": [
       "1. 113\n",
       "2. 114\n",
       "3. 115\n",
       "\n",
       "\n"
      ],
      "text/plain": [
       "[1] 113 114 115"
      ]
     },
     "metadata": {},
     "output_type": "display_data"
    },
    {
     "data": {
      "text/html": [
       "<ol class=list-inline>\n",
       "\t<li>116</li>\n",
       "\t<li>117</li>\n",
       "\t<li>118</li>\n",
       "\t<li>119</li>\n",
       "</ol>\n"
      ],
      "text/latex": [
       "\\begin{enumerate*}\n",
       "\\item 116\n",
       "\\item 117\n",
       "\\item 118\n",
       "\\item 119\n",
       "\\end{enumerate*}\n"
      ],
      "text/markdown": [
       "1. 116\n",
       "2. 117\n",
       "3. 118\n",
       "4. 119\n",
       "\n",
       "\n"
      ],
      "text/plain": [
       "[1] 116 117 118 119"
      ]
     },
     "metadata": {},
     "output_type": "display_data"
    },
    {
     "data": {
      "text/html": [
       "<ol class=list-inline>\n",
       "\t<li>116</li>\n",
       "\t<li>117</li>\n",
       "\t<li>118</li>\n",
       "\t<li>119</li>\n",
       "\t<li>120</li>\n",
       "\t<li>121</li>\n",
       "\t<li>122</li>\n",
       "</ol>\n"
      ],
      "text/latex": [
       "\\begin{enumerate*}\n",
       "\\item 116\n",
       "\\item 117\n",
       "\\item 118\n",
       "\\item 119\n",
       "\\item 120\n",
       "\\item 121\n",
       "\\item 122\n",
       "\\end{enumerate*}\n"
      ],
      "text/markdown": [
       "1. 116\n",
       "2. 117\n",
       "3. 118\n",
       "4. 119\n",
       "5. 120\n",
       "6. 121\n",
       "7. 122\n",
       "\n",
       "\n"
      ],
      "text/plain": [
       "[1] 116 117 118 119 120 121 122"
      ]
     },
     "metadata": {},
     "output_type": "display_data"
    }
   ],
   "source": [
    "print(\"eICU\") #112-125\n",
    "eicu_grad <- find_gradient(b = gamfitMed_ICU_eICU_ASP_24h) #113-120\n",
    "eicu_grad[(eicu_grad$gradient > -0.01) & (eicu_grad$gradient< 0.01)\n",
    "                 & (eicu_grad$bp_value> 90) & (eicu_grad$bp_value< 140), \"bp_value\"]\n",
    "eicu_grad <- find_gradient(b = gamfitMed_ICU_eICU_ASP_48h) #116-126\n",
    "eicu_grad[(eicu_grad$gradient > -0.01) & (eicu_grad$gradient< 0.01)\n",
    "                 & (eicu_grad$bp_value> 90) & (eicu_grad$bp_value< 140), \"bp_value\"]\n",
    "eicu_grad <- find_gradient(b = gamfitMed_ICU_eICU_ASP_72h)#118-128\n",
    "eicu_grad[(eicu_grad$gradient > -0.01) & (eicu_grad$gradient< 0.01) \n",
    "                 & (eicu_grad$bp_value> 90) & (eicu_grad$bp_value< 140), \"bp_value\"]\n",
    "print(\"MIMIC\") #112-120\n",
    "mimic_grad <- find_gradient(b = gamfitMed_ICU_MIMIC_ASP_24h)#113-115\n",
    "mimic_grad[(mimic_grad$gradient > -0.01) & (mimic_grad$gradient< 0.01) \n",
    "                 & (mimic_grad$bp_value> 90) & (mimic_grad$bp_value<140), \"bp_value\"]\n",
    "mimic_grad <- find_gradient(b = gamfitMed_ICU_MIMIC_ASP_48h)#116-119\n",
    "mimic_grad[(mimic_grad$gradient > -0.01) & (mimic_grad$gradient< 0.01) \n",
    "                 & (mimic_grad$bp_value> 90) & (mimic_grad$bp_value<140), \"bp_value\"]\n",
    "mimic_grad <- find_gradient(b = gamfitMed_ICU_MIMIC_ASP_72h) #116-122\n",
    "mimic_grad[(mimic_grad$gradient > -0.01) & (mimic_grad$gradient< 0.01)\n",
    "                 & (mimic_grad$bp_value> 90) & (mimic_grad$bp_value<140), \"bp_value\"]\n"
   ]
  },
  {
   "cell_type": "code",
   "execution_count": 429,
   "metadata": {},
   "outputs": [],
   "source": [
    "gamfitMed_ICU_eICU_ADP_24h <- gam(icu_mortality ~ s(ibp_diastolic_24h)+gender+s(age)+s(bmi)+s(sofatotal), data = df_eicu, family = binomial)\n",
    "gamfitMed_ICU_MIMIC_ADP_24h <- gam(icu_mortality ~ s(ibp_diastolic_24h)+gender+s(age)+s(bmi)+s(sofatotal), data = df_mimic, family = binomial)\n",
    "\n",
    "gamfitMed_ICU_eICU_ADP_48h <- gam(icu_mortality ~ s(ibp_diastolic_48h)+gender+s(age)+s(bmi)+s(sofatotal), data = df_eicu, family = binomial)\n",
    "gamfitMed_ICU_MIMIC_ADP_48h <- gam(icu_mortality ~ s(ibp_diastolic_48h)+gender+s(age)+s(bmi)+s(sofatotal), data = df_mimic, family = binomial)\n",
    "\n",
    "gamfitMed_ICU_eICU_ADP_72h <- gam(icu_mortality ~ s(ibp_diastolic_72h)+gender+s(age)+s(bmi)+s(sofatotal), data = df_eicu, family = binomial)\n",
    "gamfitMed_ICU_MIMIC_ADP_72h <- gam(icu_mortality ~ s(ibp_diastolic_72h)+gender+s(age)+s(bmi)+s(sofatotal), data = df_mimic, family = binomial)\n"
   ]
  },
  {
   "cell_type": "code",
   "execution_count": 430,
   "metadata": {},
   "outputs": [
    {
     "name": "stdout",
     "output_type": "stream",
     "text": [
      "[1] \"Number of cases: 14374\"\n",
      "[1] \"Number of cases: 14374\"\n",
      "[1] \"Number of cases: 14374\"\n",
      "[1] \"Number of cases: 12291\"\n",
      "[1] \"Number of cases: 12291\"\n",
      "[1] \"Number of cases: 12291\"\n"
     ]
    },
    {
     "data": {
      "text/html": [
       "<strong>png:</strong> 2"
      ],
      "text/latex": [
       "\\textbf{png:} 2"
      ],
      "text/markdown": [
       "**png:** 2"
      ],
      "text/plain": [
       "png \n",
       "  2 "
      ]
     },
     "metadata": {},
     "output_type": "display_data"
    }
   ],
   "source": [
    "pdf(file = \"figure/ADP_ICUmort.pdf\", width = plot_width,\n",
    "    height = 9, pointsize = point_size, family = font)\n",
    "par(mfcol = c(3,2), cex = 1)\n",
    "x_range = c(35, 75)\n",
    "gam_plotMed(gamfitMed_ICU_eICU_ADP_24h, main = \"eICU-CRD\", xRange = x_range,\n",
    "                    yRange = c(0, .20), label = \"A\", xlabel =\"Median of 24h Arterial Diastolic Pressure (ADP)\")\n",
    "\n",
    "gam_plotMed(gamfitMed_ICU_eICU_ADP_48h, main = \"eICU-CRD\", xRange = x_range,\n",
    "                    yRange = c(0, .20), label = \"C\", xlabel =\"Median of 48h Arterial Diastolic Pressure (ADP)\")\n",
    "\n",
    "gam_plotMed(gamfitMed_ICU_eICU_ADP_72h, main = \"eICU-CRD\", xRange = x_range,\n",
    "                    yRange = c(0, .20), label = \"E\", xlabel =\"Median of 72h Arterial Diastolic Pressure (ADP)\")\n",
    "\n",
    "gam_plotMed(gamfitMed_ICU_MIMIC_ADP_24h, main = \"MIMIC\", xRange = x_range,\n",
    "                    yRange = c(0, .20),label = \"B\", xlabel =\"Median of 24h Arterial Diastolic Pressure (ADP)\")\n",
    "\n",
    "gam_plotMed(gamfitMed_ICU_MIMIC_ADP_48h, main = \"MIMIC\", xRange = x_range,\n",
    "                    yRange = c(0, .20),label = \"D\", xlabel =\"Median of 48h Arterial Diastolic Pressure (ADP)\")\n",
    "\n",
    "gam_plotMed(gamfitMed_ICU_MIMIC_ADP_72h, main = \"MIMIC\", xRange = x_range,\n",
    "                    yRange = c(0, .20),label = \"F\", xlabel =\"Median of 72h Arterial Diastolic Pressure (ADP)\")\n",
    "dev.off()"
   ]
  },
  {
   "cell_type": "code",
   "execution_count": 431,
   "metadata": {},
   "outputs": [
    {
     "name": "stdout",
     "output_type": "stream",
     "text": [
      "[1] \"eICU\"\n"
     ]
    },
    {
     "data": {
      "text/html": [
       "<ol class=list-inline>\n",
       "\t<li>49</li>\n",
       "\t<li>50</li>\n",
       "\t<li>51</li>\n",
       "\t<li>52</li>\n",
       "\t<li>53</li>\n",
       "\t<li>54</li>\n",
       "</ol>\n"
      ],
      "text/latex": [
       "\\begin{enumerate*}\n",
       "\\item 49\n",
       "\\item 50\n",
       "\\item 51\n",
       "\\item 52\n",
       "\\item 53\n",
       "\\item 54\n",
       "\\end{enumerate*}\n"
      ],
      "text/markdown": [
       "1. 49\n",
       "2. 50\n",
       "3. 51\n",
       "4. 52\n",
       "5. 53\n",
       "6. 54\n",
       "\n",
       "\n"
      ],
      "text/plain": [
       "[1] 49 50 51 52 53 54"
      ]
     },
     "metadata": {},
     "output_type": "display_data"
    },
    {
     "data": {
      "text/html": [
       "<ol class=list-inline>\n",
       "\t<li>54</li>\n",
       "\t<li>55</li>\n",
       "\t<li>56</li>\n",
       "\t<li>57</li>\n",
       "\t<li>58</li>\n",
       "\t<li>59</li>\n",
       "\t<li>60</li>\n",
       "\t<li>61</li>\n",
       "</ol>\n"
      ],
      "text/latex": [
       "\\begin{enumerate*}\n",
       "\\item 54\n",
       "\\item 55\n",
       "\\item 56\n",
       "\\item 57\n",
       "\\item 58\n",
       "\\item 59\n",
       "\\item 60\n",
       "\\item 61\n",
       "\\end{enumerate*}\n"
      ],
      "text/markdown": [
       "1. 54\n",
       "2. 55\n",
       "3. 56\n",
       "4. 57\n",
       "5. 58\n",
       "6. 59\n",
       "7. 60\n",
       "8. 61\n",
       "\n",
       "\n"
      ],
      "text/plain": [
       "[1] 54 55 56 57 58 59 60 61"
      ]
     },
     "metadata": {},
     "output_type": "display_data"
    },
    {
     "data": {
      "text/html": [
       "<ol class=list-inline>\n",
       "\t<li>56</li>\n",
       "\t<li>57</li>\n",
       "\t<li>58</li>\n",
       "\t<li>59</li>\n",
       "\t<li>60</li>\n",
       "\t<li>61</li>\n",
       "\t<li>62</li>\n",
       "\t<li>63</li>\n",
       "\t<li>64</li>\n",
       "\t<li>65</li>\n",
       "</ol>\n"
      ],
      "text/latex": [
       "\\begin{enumerate*}\n",
       "\\item 56\n",
       "\\item 57\n",
       "\\item 58\n",
       "\\item 59\n",
       "\\item 60\n",
       "\\item 61\n",
       "\\item 62\n",
       "\\item 63\n",
       "\\item 64\n",
       "\\item 65\n",
       "\\end{enumerate*}\n"
      ],
      "text/markdown": [
       "1. 56\n",
       "2. 57\n",
       "3. 58\n",
       "4. 59\n",
       "5. 60\n",
       "6. 61\n",
       "7. 62\n",
       "8. 63\n",
       "9. 64\n",
       "10. 65\n",
       "\n",
       "\n"
      ],
      "text/plain": [
       " [1] 56 57 58 59 60 61 62 63 64 65"
      ]
     },
     "metadata": {},
     "output_type": "display_data"
    },
    {
     "name": "stdout",
     "output_type": "stream",
     "text": [
      "[1] \"MIMIC\"\n"
     ]
    },
    {
     "data": {
      "text/html": [
       "<ol class=list-inline>\n",
       "\t<li>41</li>\n",
       "\t<li>42</li>\n",
       "\t<li>43</li>\n",
       "\t<li>44</li>\n",
       "\t<li>45</li>\n",
       "\t<li>46</li>\n",
       "\t<li>47</li>\n",
       "\t<li>48</li>\n",
       "\t<li>49</li>\n",
       "\t<li>50</li>\n",
       "\t<li>51</li>\n",
       "\t<li>52</li>\n",
       "\t<li>53</li>\n",
       "\t<li>54</li>\n",
       "</ol>\n"
      ],
      "text/latex": [
       "\\begin{enumerate*}\n",
       "\\item 41\n",
       "\\item 42\n",
       "\\item 43\n",
       "\\item 44\n",
       "\\item 45\n",
       "\\item 46\n",
       "\\item 47\n",
       "\\item 48\n",
       "\\item 49\n",
       "\\item 50\n",
       "\\item 51\n",
       "\\item 52\n",
       "\\item 53\n",
       "\\item 54\n",
       "\\end{enumerate*}\n"
      ],
      "text/markdown": [
       "1. 41\n",
       "2. 42\n",
       "3. 43\n",
       "4. 44\n",
       "5. 45\n",
       "6. 46\n",
       "7. 47\n",
       "8. 48\n",
       "9. 49\n",
       "10. 50\n",
       "11. 51\n",
       "12. 52\n",
       "13. 53\n",
       "14. 54\n",
       "\n",
       "\n"
      ],
      "text/plain": [
       " [1] 41 42 43 44 45 46 47 48 49 50 51 52 53 54"
      ]
     },
     "metadata": {},
     "output_type": "display_data"
    },
    {
     "data": {
      "text/html": [
       "<ol class=list-inline>\n",
       "\t<li>46</li>\n",
       "\t<li>47</li>\n",
       "\t<li>48</li>\n",
       "\t<li>49</li>\n",
       "\t<li>50</li>\n",
       "\t<li>51</li>\n",
       "\t<li>52</li>\n",
       "\t<li>53</li>\n",
       "\t<li>54</li>\n",
       "\t<li>55</li>\n",
       "\t<li>56</li>\n",
       "</ol>\n"
      ],
      "text/latex": [
       "\\begin{enumerate*}\n",
       "\\item 46\n",
       "\\item 47\n",
       "\\item 48\n",
       "\\item 49\n",
       "\\item 50\n",
       "\\item 51\n",
       "\\item 52\n",
       "\\item 53\n",
       "\\item 54\n",
       "\\item 55\n",
       "\\item 56\n",
       "\\end{enumerate*}\n"
      ],
      "text/markdown": [
       "1. 46\n",
       "2. 47\n",
       "3. 48\n",
       "4. 49\n",
       "5. 50\n",
       "6. 51\n",
       "7. 52\n",
       "8. 53\n",
       "9. 54\n",
       "10. 55\n",
       "11. 56\n",
       "\n",
       "\n"
      ],
      "text/plain": [
       " [1] 46 47 48 49 50 51 52 53 54 55 56"
      ]
     },
     "metadata": {},
     "output_type": "display_data"
    },
    {
     "data": {
      "text/html": [
       "<ol class=list-inline>\n",
       "\t<li>47</li>\n",
       "\t<li>48</li>\n",
       "\t<li>53</li>\n",
       "\t<li>54</li>\n",
       "\t<li>60</li>\n",
       "</ol>\n"
      ],
      "text/latex": [
       "\\begin{enumerate*}\n",
       "\\item 47\n",
       "\\item 48\n",
       "\\item 53\n",
       "\\item 54\n",
       "\\item 60\n",
       "\\end{enumerate*}\n"
      ],
      "text/markdown": [
       "1. 47\n",
       "2. 48\n",
       "3. 53\n",
       "4. 54\n",
       "5. 60\n",
       "\n",
       "\n"
      ],
      "text/plain": [
       "[1] 47 48 53 54 60"
      ]
     },
     "metadata": {},
     "output_type": "display_data"
    }
   ],
   "source": [
    "print(\"eICU\") #49-65\n",
    "eicu_grad <- find_gradient(b = gamfitMed_ICU_eICU_ADP_24h) #49-54\n",
    "eicu_grad[(eicu_grad$gradient > -0.01) & (eicu_grad$gradient< 0.01)\n",
    "                 & (eicu_grad$bp_value> 40) & (eicu_grad$bp_value< 70), \"bp_value\"]\n",
    "eicu_grad <- find_gradient(b = gamfitMed_ICU_eICU_ADP_48h) #54-61\n",
    "eicu_grad[(eicu_grad$gradient > -0.01) & (eicu_grad$gradient< 0.01)\n",
    "                 & (eicu_grad$bp_value> 40) & (eicu_grad$bp_value< 70), \"bp_value\"]\n",
    "eicu_grad <- find_gradient(b = gamfitMed_ICU_eICU_ADP_72h)#56-65\n",
    "eicu_grad[(eicu_grad$gradient > -0.01) & (eicu_grad$gradient< 0.01) \n",
    "                 & (eicu_grad$bp_value> 40) & (eicu_grad$bp_value< 70), \"bp_value\"]\n",
    "print(\"MIMIC\") #41-60\n",
    "mimic_grad <- find_gradient(b = gamfitMed_ICU_MIMIC_ADP_24h)#41-54\n",
    "mimic_grad[(mimic_grad$gradient > -0.01) & (mimic_grad$gradient< 0.01) \n",
    "                 & (mimic_grad$bp_value> 40) & (mimic_grad$bp_value<70), \"bp_value\"]\n",
    "mimic_grad <- find_gradient(b = gamfitMed_ICU_MIMIC_ADP_48h)#46-56\n",
    "mimic_grad[(mimic_grad$gradient > -0.01) & (mimic_grad$gradient< 0.01) \n",
    "                 & (mimic_grad$bp_value> 40) & (mimic_grad$bp_value<70), \"bp_value\"]\n",
    "mimic_grad <- find_gradient(b = gamfitMed_ICU_MIMIC_ADP_72h) #47-60\n",
    "mimic_grad[(mimic_grad$gradient > -0.01) & (mimic_grad$gradient< 0.01)\n",
    "                 & (mimic_grad$bp_value> 40) & (mimic_grad$bp_value<70), \"bp_value\"]\n"
   ]
  },
  {
   "cell_type": "markdown",
   "metadata": {},
   "source": [
    "## mean, systolic, diastolic vs AKI (7day)"
   ]
  },
  {
   "cell_type": "code",
   "execution_count": 485,
   "metadata": {},
   "outputs": [],
   "source": [
    "gamfitMed_AKI_eICU_MAP_24h <- gam(AKI_7d ~ s(ibp_mean_24h)+gender+s(age)+s(bmi)+s(sofatotal)+s(vasso_duration_24h), data = df_eicu_aki, family = binomial)\n",
    "gamfitMed_AKI_MIMIC_MAP_24h <- gam(AKI_7d ~ s(ibp_mean_24h)+gender+s(age)+s(bmi)+s(sofatotal)+s(vasso_duration_24h), data = df_mimic_aki, family = binomial)\n",
    "\n",
    "gamfitMed_AKI_eICU_MAP_48h <- gam(AKI_7d ~ s(ibp_mean_48h)+gender+s(age)+s(bmi)+s(sofatotal)+s(vasso_duration_48h), data = df_eicu_aki, family = binomial)\n",
    "gamfitMed_AKI_MIMIC_MAP_48h <- gam(AKI_7d ~ s(ibp_mean_48h)+gender+s(age)+s(bmi)+s(sofatotal)+s(vasso_duration_48h), data = df_mimic_aki, family = binomial)\n",
    "\n",
    "gamfitMed_AKI_eICU_MAP_72h <- gam(AKI_7d ~ s(ibp_mean_72h)+gender+s(age)+s(bmi)+s(sofatotal)+s(vasso_duration_72h), data = df_eicu_aki, family = binomial)\n",
    "gamfitMed_AKI_MIMIC_MAP_72h <- gam(AKI_7d ~ s(ibp_mean_72h)+gender+s(age)+s(bmi)+s(sofatotal)+s(vasso_duration_72h), data = df_mimic_aki, family = binomial)\n"
   ]
  },
  {
   "cell_type": "code",
   "execution_count": 486,
   "metadata": {},
   "outputs": [
    {
     "name": "stdout",
     "output_type": "stream",
     "text": [
      "[1] \"Number of cases: 13105\"\n",
      "[1] \"Number of cases: 13105\"\n",
      "[1] \"Number of cases: 13105\"\n",
      "[1] \"Number of cases: 11445\"\n",
      "[1] \"Number of cases: 11445\"\n",
      "[1] \"Number of cases: 11445\"\n"
     ]
    },
    {
     "data": {
      "text/html": [
       "<strong>png:</strong> 2"
      ],
      "text/latex": [
       "\\textbf{png:} 2"
      ],
      "text/markdown": [
       "**png:** 2"
      ],
      "text/plain": [
       "png \n",
       "  2 "
      ]
     },
     "metadata": {},
     "output_type": "display_data"
    }
   ],
   "source": [
    "pdf(file = \"figure/MAP_AKI.pdf\", width = plot_width,\n",
    "    height = 9, pointsize = point_size, family = font)\n",
    "par(mfcol = c(3,2), cex = 1)\n",
    "x_range = c(50, 100)\n",
    "gam_plotMed(gamfitMed_AKI_eICU_MAP_24h, main = \"eICU-CRD\", xRange = x_range,\n",
    "                    yRange = c(0.75, 0.95), label = \"A\", xlabel =\"Median of 24h Mean Arterial Pressure (MAP)\")\n",
    "\n",
    "gam_plotMed(gamfitMed_AKI_eICU_MAP_48h, main = \"eICU-CRD\", xRange = x_range,\n",
    "                    yRange = c(0.75, 0.95), label = \"C\", xlabel =\"Median of 48h Mean Arterial Pressure (MAP)\")\n",
    "\n",
    "gam_plotMed(gamfitMed_AKI_eICU_MAP_72h, main = \"eICU-CRD\", xRange = x_range,\n",
    "                    yRange = c(0.75, 0.95), label = \"E\", xlabel =\"Median of 72h Mean Arterial Pressure (MAP)\")\n",
    "\n",
    "gam_plotMed(gamfitMed_AKI_MIMIC_MAP_24h, main = \"MIMIC\", xRange = x_range,\n",
    "                    yRange = c(0.6, 1.0),label = \"B\", xlabel =\"Median of 24h Mean Arterial Pressure (MAP)\")\n",
    "\n",
    "gam_plotMed(gamfitMed_AKI_MIMIC_MAP_48h, main = \"MIMIC\", xRange = x_range,\n",
    "                    yRange = c(0.6, 1.0),label = \"D\", xlabel =\"Median of 48h Mean Arterial Pressure (MAP)\")\n",
    "\n",
    "gam_plotMed(gamfitMed_AKI_MIMIC_MAP_72h, main = \"MIMIC\", xRange = x_range,\n",
    "                    yRange = c(0.6, 1.0),label = \"F\", xlabel =\"Median of 72h Mean Arterial Pressure (MAP)\")\n",
    "dev.off()"
   ]
  },
  {
   "cell_type": "code",
   "execution_count": 497,
   "metadata": {},
   "outputs": [
    {
     "name": "stdout",
     "output_type": "stream",
     "text": [
      "[1] \"eICU\"\n"
     ]
    },
    {
     "data": {
      "text/html": [
       "<table>\n",
       "<thead><tr><th></th><th scope=col>bp_value</th><th scope=col>gradient</th></tr></thead>\n",
       "<tbody>\n",
       "\t<tr><th scope=row>29</th><td>71         </td><td>-0.01115405</td></tr>\n",
       "\t<tr><th scope=row>30</th><td>72         </td><td>-0.01115359</td></tr>\n",
       "\t<tr><th scope=row>31</th><td>73         </td><td>-0.01115426</td></tr>\n",
       "\t<tr><th scope=row>32</th><td>74         </td><td>-0.01114986</td></tr>\n",
       "\t<tr><th scope=row>33</th><td>75         </td><td>-0.01113311</td></tr>\n",
       "\t<tr><th scope=row>34</th><td>76         </td><td>-0.01109595</td></tr>\n",
       "\t<tr><th scope=row>35</th><td>77         </td><td>-0.01102995</td></tr>\n",
       "\t<tr><th scope=row>36</th><td>78         </td><td>-0.01092676</td></tr>\n",
       "\t<tr><th scope=row>37</th><td>79         </td><td>-0.01077909</td></tr>\n",
       "</tbody>\n",
       "</table>\n"
      ],
      "text/latex": [
       "\\begin{tabular}{r|ll}\n",
       "  & bp\\_value & gradient\\\\\n",
       "\\hline\n",
       "\t29 & 71          & -0.01115405\\\\\n",
       "\t30 & 72          & -0.01115359\\\\\n",
       "\t31 & 73          & -0.01115426\\\\\n",
       "\t32 & 74          & -0.01114986\\\\\n",
       "\t33 & 75          & -0.01113311\\\\\n",
       "\t34 & 76          & -0.01109595\\\\\n",
       "\t35 & 77          & -0.01102995\\\\\n",
       "\t36 & 78          & -0.01092676\\\\\n",
       "\t37 & 79          & -0.01077909\\\\\n",
       "\\end{tabular}\n"
      ],
      "text/markdown": [
       "\n",
       "| <!--/--> | bp_value | gradient | \n",
       "|---|---|---|---|---|---|---|---|---|\n",
       "| 29 | 71          | -0.01115405 | \n",
       "| 30 | 72          | -0.01115359 | \n",
       "| 31 | 73          | -0.01115426 | \n",
       "| 32 | 74          | -0.01114986 | \n",
       "| 33 | 75          | -0.01113311 | \n",
       "| 34 | 76          | -0.01109595 | \n",
       "| 35 | 77          | -0.01102995 | \n",
       "| 36 | 78          | -0.01092676 | \n",
       "| 37 | 79          | -0.01077909 | \n",
       "\n",
       "\n"
      ],
      "text/plain": [
       "   bp_value gradient   \n",
       "29 71       -0.01115405\n",
       "30 72       -0.01115359\n",
       "31 73       -0.01115426\n",
       "32 74       -0.01114986\n",
       "33 75       -0.01113311\n",
       "34 76       -0.01109595\n",
       "35 77       -0.01102995\n",
       "36 78       -0.01092676\n",
       "37 79       -0.01077909"
      ]
     },
     "metadata": {},
     "output_type": "display_data"
    },
    {
     "data": {
      "text/html": [
       "<table>\n",
       "<thead><tr><th></th><th scope=col>bp_value</th><th scope=col>gradient</th></tr></thead>\n",
       "<tbody>\n",
       "\t<tr><th scope=row>25</th><td>71         </td><td>-0.01452056</td></tr>\n",
       "\t<tr><th scope=row>26</th><td>72         </td><td>-0.01448906</td></tr>\n",
       "\t<tr><th scope=row>27</th><td>73         </td><td>-0.01445711</td></tr>\n",
       "\t<tr><th scope=row>28</th><td>74         </td><td>-0.01442019</td></tr>\n",
       "\t<tr><th scope=row>29</th><td>75         </td><td>-0.01437254</td></tr>\n",
       "\t<tr><th scope=row>30</th><td>76         </td><td>-0.01430829</td></tr>\n",
       "\t<tr><th scope=row>31</th><td>77         </td><td>-0.01422036</td></tr>\n",
       "\t<tr><th scope=row>32</th><td>78         </td><td>-0.01409999</td></tr>\n",
       "\t<tr><th scope=row>33</th><td>79         </td><td>-0.01393912</td></tr>\n",
       "</tbody>\n",
       "</table>\n"
      ],
      "text/latex": [
       "\\begin{tabular}{r|ll}\n",
       "  & bp\\_value & gradient\\\\\n",
       "\\hline\n",
       "\t25 & 71          & -0.01452056\\\\\n",
       "\t26 & 72          & -0.01448906\\\\\n",
       "\t27 & 73          & -0.01445711\\\\\n",
       "\t28 & 74          & -0.01442019\\\\\n",
       "\t29 & 75          & -0.01437254\\\\\n",
       "\t30 & 76          & -0.01430829\\\\\n",
       "\t31 & 77          & -0.01422036\\\\\n",
       "\t32 & 78          & -0.01409999\\\\\n",
       "\t33 & 79          & -0.01393912\\\\\n",
       "\\end{tabular}\n"
      ],
      "text/markdown": [
       "\n",
       "| <!--/--> | bp_value | gradient | \n",
       "|---|---|---|---|---|---|---|---|---|\n",
       "| 25 | 71          | -0.01452056 | \n",
       "| 26 | 72          | -0.01448906 | \n",
       "| 27 | 73          | -0.01445711 | \n",
       "| 28 | 74          | -0.01442019 | \n",
       "| 29 | 75          | -0.01437254 | \n",
       "| 30 | 76          | -0.01430829 | \n",
       "| 31 | 77          | -0.01422036 | \n",
       "| 32 | 78          | -0.01409999 | \n",
       "| 33 | 79          | -0.01393912 | \n",
       "\n",
       "\n"
      ],
      "text/plain": [
       "   bp_value gradient   \n",
       "25 71       -0.01452056\n",
       "26 72       -0.01448906\n",
       "27 73       -0.01445711\n",
       "28 74       -0.01442019\n",
       "29 75       -0.01437254\n",
       "30 76       -0.01430829\n",
       "31 77       -0.01422036\n",
       "32 78       -0.01409999\n",
       "33 79       -0.01393912"
      ]
     },
     "metadata": {},
     "output_type": "display_data"
    },
    {
     "data": {
      "text/html": [
       "<table>\n",
       "<thead><tr><th></th><th scope=col>bp_value</th><th scope=col>gradient</th></tr></thead>\n",
       "<tbody>\n",
       "\t<tr><th scope=row>24</th><td>71         </td><td>-0.01227924</td></tr>\n",
       "\t<tr><th scope=row>25</th><td>72         </td><td>-0.01242600</td></tr>\n",
       "\t<tr><th scope=row>26</th><td>73         </td><td>-0.01258034</td></tr>\n",
       "\t<tr><th scope=row>27</th><td>74         </td><td>-0.01273590</td></tr>\n",
       "\t<tr><th scope=row>28</th><td>75         </td><td>-0.01288383</td></tr>\n",
       "\t<tr><th scope=row>29</th><td>76         </td><td>-0.01301545</td></tr>\n",
       "\t<tr><th scope=row>30</th><td>77         </td><td>-0.01312073</td></tr>\n",
       "\t<tr><th scope=row>31</th><td>78         </td><td>-0.01319011</td></tr>\n",
       "\t<tr><th scope=row>32</th><td>79         </td><td>-0.01321406</td></tr>\n",
       "</tbody>\n",
       "</table>\n"
      ],
      "text/latex": [
       "\\begin{tabular}{r|ll}\n",
       "  & bp\\_value & gradient\\\\\n",
       "\\hline\n",
       "\t24 & 71          & -0.01227924\\\\\n",
       "\t25 & 72          & -0.01242600\\\\\n",
       "\t26 & 73          & -0.01258034\\\\\n",
       "\t27 & 74          & -0.01273590\\\\\n",
       "\t28 & 75          & -0.01288383\\\\\n",
       "\t29 & 76          & -0.01301545\\\\\n",
       "\t30 & 77          & -0.01312073\\\\\n",
       "\t31 & 78          & -0.01319011\\\\\n",
       "\t32 & 79          & -0.01321406\\\\\n",
       "\\end{tabular}\n"
      ],
      "text/markdown": [
       "\n",
       "| <!--/--> | bp_value | gradient | \n",
       "|---|---|---|---|---|---|---|---|---|\n",
       "| 24 | 71          | -0.01227924 | \n",
       "| 25 | 72          | -0.01242600 | \n",
       "| 26 | 73          | -0.01258034 | \n",
       "| 27 | 74          | -0.01273590 | \n",
       "| 28 | 75          | -0.01288383 | \n",
       "| 29 | 76          | -0.01301545 | \n",
       "| 30 | 77          | -0.01312073 | \n",
       "| 31 | 78          | -0.01319011 | \n",
       "| 32 | 79          | -0.01321406 | \n",
       "\n",
       "\n"
      ],
      "text/plain": [
       "   bp_value gradient   \n",
       "24 71       -0.01227924\n",
       "25 72       -0.01242600\n",
       "26 73       -0.01258034\n",
       "27 74       -0.01273590\n",
       "28 75       -0.01288383\n",
       "29 76       -0.01301545\n",
       "30 77       -0.01312073\n",
       "31 78       -0.01319011\n",
       "32 79       -0.01321406"
      ]
     },
     "metadata": {},
     "output_type": "display_data"
    },
    {
     "name": "stdout",
     "output_type": "stream",
     "text": [
      "[1] \"MIMIC\"\n"
     ]
    },
    {
     "data": {
      "text/html": [
       "<table>\n",
       "<thead><tr><th></th><th scope=col>bp_value</th><th scope=col>gradient</th></tr></thead>\n",
       "<tbody>\n",
       "\t<tr><th scope=row>30</th><td>71         </td><td>-0.01721210</td></tr>\n",
       "\t<tr><th scope=row>31</th><td>72         </td><td>-0.01724483</td></tr>\n",
       "\t<tr><th scope=row>32</th><td>73         </td><td>-0.01720289</td></tr>\n",
       "\t<tr><th scope=row>33</th><td>74         </td><td>-0.01707690</td></tr>\n",
       "\t<tr><th scope=row>34</th><td>75         </td><td>-0.01685963</td></tr>\n",
       "\t<tr><th scope=row>35</th><td>76         </td><td>-0.01654661</td></tr>\n",
       "\t<tr><th scope=row>36</th><td>77         </td><td>-0.01613632</td></tr>\n",
       "\t<tr><th scope=row>37</th><td>78         </td><td>-0.01563024</td></tr>\n",
       "\t<tr><th scope=row>38</th><td>79         </td><td>-0.01503235</td></tr>\n",
       "</tbody>\n",
       "</table>\n"
      ],
      "text/latex": [
       "\\begin{tabular}{r|ll}\n",
       "  & bp\\_value & gradient\\\\\n",
       "\\hline\n",
       "\t30 & 71          & -0.01721210\\\\\n",
       "\t31 & 72          & -0.01724483\\\\\n",
       "\t32 & 73          & -0.01720289\\\\\n",
       "\t33 & 74          & -0.01707690\\\\\n",
       "\t34 & 75          & -0.01685963\\\\\n",
       "\t35 & 76          & -0.01654661\\\\\n",
       "\t36 & 77          & -0.01613632\\\\\n",
       "\t37 & 78          & -0.01563024\\\\\n",
       "\t38 & 79          & -0.01503235\\\\\n",
       "\\end{tabular}\n"
      ],
      "text/markdown": [
       "\n",
       "| <!--/--> | bp_value | gradient | \n",
       "|---|---|---|---|---|---|---|---|---|\n",
       "| 30 | 71          | -0.01721210 | \n",
       "| 31 | 72          | -0.01724483 | \n",
       "| 32 | 73          | -0.01720289 | \n",
       "| 33 | 74          | -0.01707690 | \n",
       "| 34 | 75          | -0.01685963 | \n",
       "| 35 | 76          | -0.01654661 | \n",
       "| 36 | 77          | -0.01613632 | \n",
       "| 37 | 78          | -0.01563024 | \n",
       "| 38 | 79          | -0.01503235 | \n",
       "\n",
       "\n"
      ],
      "text/plain": [
       "   bp_value gradient   \n",
       "30 71       -0.01721210\n",
       "31 72       -0.01724483\n",
       "32 73       -0.01720289\n",
       "33 74       -0.01707690\n",
       "34 75       -0.01685963\n",
       "35 76       -0.01654661\n",
       "36 77       -0.01613632\n",
       "37 78       -0.01563024\n",
       "38 79       -0.01503235"
      ]
     },
     "metadata": {},
     "output_type": "display_data"
    },
    {
     "data": {
      "text/html": [
       "<table>\n",
       "<thead><tr><th></th><th scope=col>bp_value</th><th scope=col>gradient</th></tr></thead>\n",
       "<tbody>\n",
       "\t<tr><th scope=row>21</th><td>71          </td><td> 0.009279523</td></tr>\n",
       "\t<tr><th scope=row>22</th><td>72          </td><td> 0.007217837</td></tr>\n",
       "\t<tr><th scope=row>23</th><td>73          </td><td> 0.001502083</td></tr>\n",
       "\t<tr><th scope=row>24</th><td>74          </td><td>-0.006884152</td></tr>\n",
       "\t<tr><th scope=row>25</th><td>75          </td><td>-0.016794890</td></tr>\n",
       "\t<tr><th scope=row>26</th><td>76          </td><td>-0.027024948</td></tr>\n",
       "\t<tr><th scope=row>27</th><td>77          </td><td>-0.036497716</td></tr>\n",
       "\t<tr><th scope=row>28</th><td>78          </td><td>-0.044357918</td></tr>\n",
       "\t<tr><th scope=row>29</th><td>79          </td><td>-0.049827522</td></tr>\n",
       "</tbody>\n",
       "</table>\n"
      ],
      "text/latex": [
       "\\begin{tabular}{r|ll}\n",
       "  & bp\\_value & gradient\\\\\n",
       "\\hline\n",
       "\t21 & 71           &  0.009279523\\\\\n",
       "\t22 & 72           &  0.007217837\\\\\n",
       "\t23 & 73           &  0.001502083\\\\\n",
       "\t24 & 74           & -0.006884152\\\\\n",
       "\t25 & 75           & -0.016794890\\\\\n",
       "\t26 & 76           & -0.027024948\\\\\n",
       "\t27 & 77           & -0.036497716\\\\\n",
       "\t28 & 78           & -0.044357918\\\\\n",
       "\t29 & 79           & -0.049827522\\\\\n",
       "\\end{tabular}\n"
      ],
      "text/markdown": [
       "\n",
       "| <!--/--> | bp_value | gradient | \n",
       "|---|---|---|---|---|---|---|---|---|\n",
       "| 21 | 71           |  0.009279523 | \n",
       "| 22 | 72           |  0.007217837 | \n",
       "| 23 | 73           |  0.001502083 | \n",
       "| 24 | 74           | -0.006884152 | \n",
       "| 25 | 75           | -0.016794890 | \n",
       "| 26 | 76           | -0.027024948 | \n",
       "| 27 | 77           | -0.036497716 | \n",
       "| 28 | 78           | -0.044357918 | \n",
       "| 29 | 79           | -0.049827522 | \n",
       "\n",
       "\n"
      ],
      "text/plain": [
       "   bp_value gradient    \n",
       "21 71        0.009279523\n",
       "22 72        0.007217837\n",
       "23 73        0.001502083\n",
       "24 74       -0.006884152\n",
       "25 75       -0.016794890\n",
       "26 76       -0.027024948\n",
       "27 77       -0.036497716\n",
       "28 78       -0.044357918\n",
       "29 79       -0.049827522"
      ]
     },
     "metadata": {},
     "output_type": "display_data"
    },
    {
     "data": {
      "text/html": [
       "<table>\n",
       "<thead><tr><th></th><th scope=col>bp_value</th><th scope=col>gradient</th></tr></thead>\n",
       "<tbody>\n",
       "\t<tr><th scope=row>21</th><td>71           </td><td> 0.0035813657</td></tr>\n",
       "\t<tr><th scope=row>22</th><td>72           </td><td> 0.0053105237</td></tr>\n",
       "\t<tr><th scope=row>23</th><td>73           </td><td> 0.0037193957</td></tr>\n",
       "\t<tr><th scope=row>24</th><td>74           </td><td>-0.0007633375</td></tr>\n",
       "\t<tr><th scope=row>25</th><td>75           </td><td>-0.0075456787</td></tr>\n",
       "\t<tr><th scope=row>26</th><td>76           </td><td>-0.0158138980</td></tr>\n",
       "\t<tr><th scope=row>27</th><td>77           </td><td>-0.0246733409</td></tr>\n",
       "\t<tr><th scope=row>28</th><td>78           </td><td>-0.0332279289</td></tr>\n",
       "\t<tr><th scope=row>29</th><td>79           </td><td>-0.0406482636</td></tr>\n",
       "</tbody>\n",
       "</table>\n"
      ],
      "text/latex": [
       "\\begin{tabular}{r|ll}\n",
       "  & bp\\_value & gradient\\\\\n",
       "\\hline\n",
       "\t21 & 71            &  0.0035813657\\\\\n",
       "\t22 & 72            &  0.0053105237\\\\\n",
       "\t23 & 73            &  0.0037193957\\\\\n",
       "\t24 & 74            & -0.0007633375\\\\\n",
       "\t25 & 75            & -0.0075456787\\\\\n",
       "\t26 & 76            & -0.0158138980\\\\\n",
       "\t27 & 77            & -0.0246733409\\\\\n",
       "\t28 & 78            & -0.0332279289\\\\\n",
       "\t29 & 79            & -0.0406482636\\\\\n",
       "\\end{tabular}\n"
      ],
      "text/markdown": [
       "\n",
       "| <!--/--> | bp_value | gradient | \n",
       "|---|---|---|---|---|---|---|---|---|\n",
       "| 21 | 71            |  0.0035813657 | \n",
       "| 22 | 72            |  0.0053105237 | \n",
       "| 23 | 73            |  0.0037193957 | \n",
       "| 24 | 74            | -0.0007633375 | \n",
       "| 25 | 75            | -0.0075456787 | \n",
       "| 26 | 76            | -0.0158138980 | \n",
       "| 27 | 77            | -0.0246733409 | \n",
       "| 28 | 78            | -0.0332279289 | \n",
       "| 29 | 79            | -0.0406482636 | \n",
       "\n",
       "\n"
      ],
      "text/plain": [
       "   bp_value gradient     \n",
       "21 71        0.0035813657\n",
       "22 72        0.0053105237\n",
       "23 73        0.0037193957\n",
       "24 74       -0.0007633375\n",
       "25 75       -0.0075456787\n",
       "26 76       -0.0158138980\n",
       "27 77       -0.0246733409\n",
       "28 78       -0.0332279289\n",
       "29 79       -0.0406482636"
      ]
     },
     "metadata": {},
     "output_type": "display_data"
    }
   ],
   "source": [
    "print(\"eICU\") # NA\n",
    "eicu_grad <- find_gradient(b = gamfitMed_AKI_eICU_MAP_24h) \n",
    "eicu_grad[(eicu_grad$bp_value< 80) & (eicu_grad$bp_value> 70),]\n",
    "eicu_grad <- find_gradient(b = gamfitMed_AKI_eICU_MAP_48h) \n",
    "eicu_grad[(eicu_grad$bp_value< 80) & (eicu_grad$bp_value> 70),]\n",
    "eicu_grad <- find_gradient(b = gamfitMed_AKI_eICU_MAP_72h)\n",
    "eicu_grad[(eicu_grad$bp_value< 80) & (eicu_grad$bp_value> 70),]\n",
    "\n",
    "print(\"MIMIC\") # 75mmHg, 76mmHg\n",
    "mimic_grad <- find_gradient(b = gamfitMed_AKI_MIMIC_MAP_24h)\n",
    "mimic_grad[(mimic_grad$bp_value< 80) & (mimic_grad$bp_value> 70),]\n",
    "mimic_grad <- find_gradient(b = gamfitMed_AKI_MIMIC_MAP_48h)         #75\n",
    "mimic_grad[(mimic_grad$bp_value< 80) & (mimic_grad$bp_value> 70),]\n",
    "mimic_grad <- find_gradient(b = gamfitMed_AKI_MIMIC_MAP_72h)         #76\n",
    "mimic_grad[(mimic_grad$bp_value< 80) & (mimic_grad$bp_value> 70),]\n"
   ]
  },
  {
   "cell_type": "code",
   "execution_count": 499,
   "metadata": {},
   "outputs": [],
   "source": [
    "gamfitMed_AKI_eICU_ASP_24h <- gam(AKI_7d ~ s(ibp_systolic_24h)+gender+s(age)+s(bmi)+s(sofatotal)+s(vasso_duration_24h), data = df_eicu_aki, family = binomial)\n",
    "gamfitMed_AKI_MIMIC_ASP_24h <- gam(AKI_7d ~ s(ibp_systolic_24h)+gender+s(age)+s(bmi)+s(sofatotal)+s(vasso_duration_24h), data = df_mimic_aki, family = binomial)\n",
    "\n",
    "gamfitMed_AKI_eICU_ASP_48h <- gam(AKI_7d ~ s(ibp_systolic_48h)+gender+s(age)+s(bmi)+s(sofatotal)+s(vasso_duration_48h), data = df_eicu_aki, family = binomial)\n",
    "gamfitMed_AKI_MIMIC_ASP_48h <- gam(AKI_7d ~ s(ibp_systolic_48h)+gender+s(age)+s(bmi)+s(sofatotal)+s(vasso_duration_48h), data = df_mimic_aki, family = binomial)\n",
    "\n",
    "gamfitMed_AKI_eICU_ASP_72h <- gam(AKI_7d ~ s(ibp_systolic_72h)+gender+s(age)+s(bmi)+s(sofatotal)+s(vasso_duration_72h), data = df_eicu_aki, family = binomial)\n",
    "gamfitMed_AKI_MIMIC_ASP_72h <- gam(AKI_7d ~ s(ibp_systolic_72h)+gender+s(age)+s(bmi)+s(sofatotal)+s(vasso_duration_72h), data = df_mimic_aki, family = binomial)\n"
   ]
  },
  {
   "cell_type": "code",
   "execution_count": 501,
   "metadata": {},
   "outputs": [
    {
     "name": "stdout",
     "output_type": "stream",
     "text": [
      "[1] \"Number of cases: 13105\"\n",
      "[1] \"Number of cases: 13105\"\n",
      "[1] \"Number of cases: 13105\"\n",
      "[1] \"Number of cases: 11445\"\n",
      "[1] \"Number of cases: 11445\"\n",
      "[1] \"Number of cases: 11445\"\n"
     ]
    },
    {
     "data": {
      "text/html": [
       "<strong>png:</strong> 2"
      ],
      "text/latex": [
       "\\textbf{png:} 2"
      ],
      "text/markdown": [
       "**png:** 2"
      ],
      "text/plain": [
       "png \n",
       "  2 "
      ]
     },
     "metadata": {},
     "output_type": "display_data"
    }
   ],
   "source": [
    "pdf(file = \"figure/ASP_AKI.pdf\", width = plot_width,\n",
    "    height = 9, pointsize = point_size, family = font)\n",
    "par(mfcol = c(3,2), cex = 1)\n",
    "y_range = c(0.6, 1.0)\n",
    "gam_plotMed(gamfitMed_AKI_eICU_ASP_24h, main = \"eICU-CRD\", xRange = c(90, 140),\n",
    "                    yRange = c(0.75, 0.95), label = \"A\", xlabel =\"Median of 24h Arterial Systolic Pressure (ASP)\")\n",
    "\n",
    "gam_plotMed(gamfitMed_AKI_eICU_ASP_48h, main = \"eICU-CRD\", xRange = c(90, 140),\n",
    "                    yRange = c(0.75, 0.95), label = \"C\", xlabel =\"Median of 48h Arterial Systolic Pressure (ASP)\")\n",
    "\n",
    "gam_plotMed(gamfitMed_AKI_eICU_ASP_72h, main = \"eICU-CRD\", xRange = c(90, 140),\n",
    "                    yRange = c(0.75, 0.95), label = \"E\", xlabel =\"Median of 72h Arterial Systolic Pressure (ASP)\")\n",
    "\n",
    "gam_plotMed(gamfitMed_AKI_MIMIC_ASP_24h, main = \"MIMIC\", xRange = c(90, 140),\n",
    "                    yRange = y_range,label = \"B\", xlabel =\"Median of 24h Arterial Systolic Pressure (ASP)\")\n",
    "\n",
    "gam_plotMed(gamfitMed_AKI_MIMIC_ASP_48h, main = \"MIMIC\", xRange = c(90, 140),\n",
    "                    yRange = y_range,label = \"D\", xlabel =\"Median of 48h Arterial Systolic Pressure (ASP)\")\n",
    "\n",
    "gam_plotMed(gamfitMed_AKI_MIMIC_ASP_72h, main = \"MIMIC\", xRange = c(90, 140),\n",
    "                    yRange = y_range,label = \"F\", xlabel =\"Median of 72h Arterial Systolic Pressure (ASP)\")\n",
    "dev.off()"
   ]
  },
  {
   "cell_type": "code",
   "execution_count": 503,
   "metadata": {},
   "outputs": [
    {
     "name": "stdout",
     "output_type": "stream",
     "text": [
      "[1] \"eICU\"\n"
     ]
    },
    {
     "data": {
      "text/html": [
       "<table>\n",
       "<thead><tr><th></th><th scope=col>bp_value</th><th scope=col>gradient</th></tr></thead>\n",
       "<tbody>\n",
       "\t<tr><th scope=row>49</th><td>111         </td><td>-0.004891041</td></tr>\n",
       "\t<tr><th scope=row>50</th><td>112         </td><td>-0.004891171</td></tr>\n",
       "\t<tr><th scope=row>51</th><td>113         </td><td>-0.004891283</td></tr>\n",
       "\t<tr><th scope=row>52</th><td>114         </td><td>-0.004891376</td></tr>\n",
       "\t<tr><th scope=row>53</th><td>115         </td><td>-0.004891446</td></tr>\n",
       "\t<tr><th scope=row>54</th><td>116         </td><td>-0.004891490</td></tr>\n",
       "\t<tr><th scope=row>55</th><td>117         </td><td>-0.004891508</td></tr>\n",
       "\t<tr><th scope=row>56</th><td>118         </td><td>-0.004891495</td></tr>\n",
       "\t<tr><th scope=row>57</th><td>119         </td><td>-0.004891450</td></tr>\n",
       "</tbody>\n",
       "</table>\n"
      ],
      "text/latex": [
       "\\begin{tabular}{r|ll}\n",
       "  & bp\\_value & gradient\\\\\n",
       "\\hline\n",
       "\t49 & 111          & -0.004891041\\\\\n",
       "\t50 & 112          & -0.004891171\\\\\n",
       "\t51 & 113          & -0.004891283\\\\\n",
       "\t52 & 114          & -0.004891376\\\\\n",
       "\t53 & 115          & -0.004891446\\\\\n",
       "\t54 & 116          & -0.004891490\\\\\n",
       "\t55 & 117          & -0.004891508\\\\\n",
       "\t56 & 118          & -0.004891495\\\\\n",
       "\t57 & 119          & -0.004891450\\\\\n",
       "\\end{tabular}\n"
      ],
      "text/markdown": [
       "\n",
       "| <!--/--> | bp_value | gradient | \n",
       "|---|---|---|---|---|---|---|---|---|\n",
       "| 49 | 111          | -0.004891041 | \n",
       "| 50 | 112          | -0.004891171 | \n",
       "| 51 | 113          | -0.004891283 | \n",
       "| 52 | 114          | -0.004891376 | \n",
       "| 53 | 115          | -0.004891446 | \n",
       "| 54 | 116          | -0.004891490 | \n",
       "| 55 | 117          | -0.004891508 | \n",
       "| 56 | 118          | -0.004891495 | \n",
       "| 57 | 119          | -0.004891450 | \n",
       "\n",
       "\n"
      ],
      "text/plain": [
       "   bp_value gradient    \n",
       "49 111      -0.004891041\n",
       "50 112      -0.004891171\n",
       "51 113      -0.004891283\n",
       "52 114      -0.004891376\n",
       "53 115      -0.004891446\n",
       "54 116      -0.004891490\n",
       "55 117      -0.004891508\n",
       "56 118      -0.004891495\n",
       "57 119      -0.004891450"
      ]
     },
     "metadata": {},
     "output_type": "display_data"
    },
    {
     "data": {
      "text/html": [
       "<table>\n",
       "<thead><tr><th></th><th scope=col>bp_value</th><th scope=col>gradient</th></tr></thead>\n",
       "<tbody>\n",
       "\t<tr><th scope=row>45</th><td>111         </td><td>-0.006006371</td></tr>\n",
       "\t<tr><th scope=row>46</th><td>112         </td><td>-0.006006418</td></tr>\n",
       "\t<tr><th scope=row>47</th><td>113         </td><td>-0.006006460</td></tr>\n",
       "\t<tr><th scope=row>48</th><td>114         </td><td>-0.006006497</td></tr>\n",
       "\t<tr><th scope=row>49</th><td>115         </td><td>-0.006006530</td></tr>\n",
       "\t<tr><th scope=row>50</th><td>116         </td><td>-0.006006558</td></tr>\n",
       "\t<tr><th scope=row>51</th><td>117         </td><td>-0.006006580</td></tr>\n",
       "\t<tr><th scope=row>52</th><td>118         </td><td>-0.006006597</td></tr>\n",
       "\t<tr><th scope=row>53</th><td>119         </td><td>-0.006006608</td></tr>\n",
       "</tbody>\n",
       "</table>\n"
      ],
      "text/latex": [
       "\\begin{tabular}{r|ll}\n",
       "  & bp\\_value & gradient\\\\\n",
       "\\hline\n",
       "\t45 & 111          & -0.006006371\\\\\n",
       "\t46 & 112          & -0.006006418\\\\\n",
       "\t47 & 113          & -0.006006460\\\\\n",
       "\t48 & 114          & -0.006006497\\\\\n",
       "\t49 & 115          & -0.006006530\\\\\n",
       "\t50 & 116          & -0.006006558\\\\\n",
       "\t51 & 117          & -0.006006580\\\\\n",
       "\t52 & 118          & -0.006006597\\\\\n",
       "\t53 & 119          & -0.006006608\\\\\n",
       "\\end{tabular}\n"
      ],
      "text/markdown": [
       "\n",
       "| <!--/--> | bp_value | gradient | \n",
       "|---|---|---|---|---|---|---|---|---|\n",
       "| 45 | 111          | -0.006006371 | \n",
       "| 46 | 112          | -0.006006418 | \n",
       "| 47 | 113          | -0.006006460 | \n",
       "| 48 | 114          | -0.006006497 | \n",
       "| 49 | 115          | -0.006006530 | \n",
       "| 50 | 116          | -0.006006558 | \n",
       "| 51 | 117          | -0.006006580 | \n",
       "| 52 | 118          | -0.006006597 | \n",
       "| 53 | 119          | -0.006006608 | \n",
       "\n",
       "\n"
      ],
      "text/plain": [
       "   bp_value gradient    \n",
       "45 111      -0.006006371\n",
       "46 112      -0.006006418\n",
       "47 113      -0.006006460\n",
       "48 114      -0.006006497\n",
       "49 115      -0.006006530\n",
       "50 116      -0.006006558\n",
       "51 117      -0.006006580\n",
       "52 118      -0.006006597\n",
       "53 119      -0.006006608"
      ]
     },
     "metadata": {},
     "output_type": "display_data"
    },
    {
     "data": {
      "text/html": [
       "<table>\n",
       "<thead><tr><th></th><th scope=col>bp_value</th><th scope=col>gradient</th></tr></thead>\n",
       "<tbody>\n",
       "\t<tr><th scope=row>45</th><td>111         </td><td>-0.004845360</td></tr>\n",
       "\t<tr><th scope=row>46</th><td>112         </td><td>-0.004845395</td></tr>\n",
       "\t<tr><th scope=row>47</th><td>113         </td><td>-0.004845430</td></tr>\n",
       "\t<tr><th scope=row>48</th><td>114         </td><td>-0.004845464</td></tr>\n",
       "\t<tr><th scope=row>49</th><td>115         </td><td>-0.004845499</td></tr>\n",
       "\t<tr><th scope=row>50</th><td>116         </td><td>-0.004845532</td></tr>\n",
       "\t<tr><th scope=row>51</th><td>117         </td><td>-0.004845564</td></tr>\n",
       "\t<tr><th scope=row>52</th><td>118         </td><td>-0.004845595</td></tr>\n",
       "\t<tr><th scope=row>53</th><td>119         </td><td>-0.004845624</td></tr>\n",
       "</tbody>\n",
       "</table>\n"
      ],
      "text/latex": [
       "\\begin{tabular}{r|ll}\n",
       "  & bp\\_value & gradient\\\\\n",
       "\\hline\n",
       "\t45 & 111          & -0.004845360\\\\\n",
       "\t46 & 112          & -0.004845395\\\\\n",
       "\t47 & 113          & -0.004845430\\\\\n",
       "\t48 & 114          & -0.004845464\\\\\n",
       "\t49 & 115          & -0.004845499\\\\\n",
       "\t50 & 116          & -0.004845532\\\\\n",
       "\t51 & 117          & -0.004845564\\\\\n",
       "\t52 & 118          & -0.004845595\\\\\n",
       "\t53 & 119          & -0.004845624\\\\\n",
       "\\end{tabular}\n"
      ],
      "text/markdown": [
       "\n",
       "| <!--/--> | bp_value | gradient | \n",
       "|---|---|---|---|---|---|---|---|---|\n",
       "| 45 | 111          | -0.004845360 | \n",
       "| 46 | 112          | -0.004845395 | \n",
       "| 47 | 113          | -0.004845430 | \n",
       "| 48 | 114          | -0.004845464 | \n",
       "| 49 | 115          | -0.004845499 | \n",
       "| 50 | 116          | -0.004845532 | \n",
       "| 51 | 117          | -0.004845564 | \n",
       "| 52 | 118          | -0.004845595 | \n",
       "| 53 | 119          | -0.004845624 | \n",
       "\n",
       "\n"
      ],
      "text/plain": [
       "   bp_value gradient    \n",
       "45 111      -0.004845360\n",
       "46 112      -0.004845395\n",
       "47 113      -0.004845430\n",
       "48 114      -0.004845464\n",
       "49 115      -0.004845499\n",
       "50 116      -0.004845532\n",
       "51 117      -0.004845564\n",
       "52 118      -0.004845595\n",
       "53 119      -0.004845624"
      ]
     },
     "metadata": {},
     "output_type": "display_data"
    },
    {
     "name": "stdout",
     "output_type": "stream",
     "text": [
      "[1] \"MIMIC\"\n"
     ]
    },
    {
     "data": {
      "text/html": [
       "<table>\n",
       "<thead><tr><th></th><th scope=col>bp_value</th><th scope=col>gradient</th></tr></thead>\n",
       "<tbody>\n",
       "\t<tr><th scope=row>39</th><td>111        </td><td>-0.01843080</td></tr>\n",
       "\t<tr><th scope=row>40</th><td>112        </td><td>-0.01831701</td></tr>\n",
       "\t<tr><th scope=row>41</th><td>113        </td><td>-0.01811814</td></tr>\n",
       "\t<tr><th scope=row>42</th><td>114        </td><td>-0.01783285</td></tr>\n",
       "\t<tr><th scope=row>43</th><td>115        </td><td>-0.01746174</td></tr>\n",
       "\t<tr><th scope=row>44</th><td>116        </td><td>-0.01700676</td></tr>\n",
       "\t<tr><th scope=row>45</th><td>117        </td><td>-0.01647114</td></tr>\n",
       "\t<tr><th scope=row>46</th><td>118        </td><td>-0.01585935</td></tr>\n",
       "\t<tr><th scope=row>47</th><td>119        </td><td>-0.01517702</td></tr>\n",
       "</tbody>\n",
       "</table>\n"
      ],
      "text/latex": [
       "\\begin{tabular}{r|ll}\n",
       "  & bp\\_value & gradient\\\\\n",
       "\\hline\n",
       "\t39 & 111         & -0.01843080\\\\\n",
       "\t40 & 112         & -0.01831701\\\\\n",
       "\t41 & 113         & -0.01811814\\\\\n",
       "\t42 & 114         & -0.01783285\\\\\n",
       "\t43 & 115         & -0.01746174\\\\\n",
       "\t44 & 116         & -0.01700676\\\\\n",
       "\t45 & 117         & -0.01647114\\\\\n",
       "\t46 & 118         & -0.01585935\\\\\n",
       "\t47 & 119         & -0.01517702\\\\\n",
       "\\end{tabular}\n"
      ],
      "text/markdown": [
       "\n",
       "| <!--/--> | bp_value | gradient | \n",
       "|---|---|---|---|---|---|---|---|---|\n",
       "| 39 | 111         | -0.01843080 | \n",
       "| 40 | 112         | -0.01831701 | \n",
       "| 41 | 113         | -0.01811814 | \n",
       "| 42 | 114         | -0.01783285 | \n",
       "| 43 | 115         | -0.01746174 | \n",
       "| 44 | 116         | -0.01700676 | \n",
       "| 45 | 117         | -0.01647114 | \n",
       "| 46 | 118         | -0.01585935 | \n",
       "| 47 | 119         | -0.01517702 | \n",
       "\n",
       "\n"
      ],
      "text/plain": [
       "   bp_value gradient   \n",
       "39 111      -0.01843080\n",
       "40 112      -0.01831701\n",
       "41 113      -0.01811814\n",
       "42 114      -0.01783285\n",
       "43 115      -0.01746174\n",
       "44 116      -0.01700676\n",
       "45 117      -0.01647114\n",
       "46 118      -0.01585935\n",
       "47 119      -0.01517702"
      ]
     },
     "metadata": {},
     "output_type": "display_data"
    },
    {
     "data": {
      "text/html": [
       "<table>\n",
       "<thead><tr><th></th><th scope=col>bp_value</th><th scope=col>gradient</th></tr></thead>\n",
       "<tbody>\n",
       "\t<tr><th scope=row>24</th><td>101         </td><td>-0.010935357</td></tr>\n",
       "\t<tr><th scope=row>25</th><td>102         </td><td>-0.008567701</td></tr>\n",
       "\t<tr><th scope=row>26</th><td>103         </td><td>-0.006555263</td></tr>\n",
       "\t<tr><th scope=row>27</th><td>104         </td><td>-0.004989815</td></tr>\n",
       "\t<tr><th scope=row>28</th><td>105         </td><td>-0.003966516</td></tr>\n",
       "\t<tr><th scope=row>29</th><td>106         </td><td>-0.003555489</td></tr>\n",
       "\t<tr><th scope=row>30</th><td>107         </td><td>-0.003793530</td></tr>\n",
       "\t<tr><th scope=row>31</th><td>108         </td><td>-0.004683394</td></tr>\n",
       "\t<tr><th scope=row>32</th><td>109         </td><td>-0.006202045</td></tr>\n",
       "\t<tr><th scope=row>33</th><td>110         </td><td>-0.008281559</td></tr>\n",
       "\t<tr><th scope=row>34</th><td>111         </td><td>-0.010831402</td></tr>\n",
       "\t<tr><th scope=row>35</th><td>112         </td><td>-0.013751961</td></tr>\n",
       "\t<tr><th scope=row>36</th><td>113         </td><td>-0.016900999</td></tr>\n",
       "\t<tr><th scope=row>37</th><td>114         </td><td>-0.020132305</td></tr>\n",
       "\t<tr><th scope=row>38</th><td>115         </td><td>-0.023278744</td></tr>\n",
       "\t<tr><th scope=row>39</th><td>116         </td><td>-0.026160832</td></tr>\n",
       "\t<tr><th scope=row>40</th><td>117         </td><td>-0.028619059</td></tr>\n",
       "\t<tr><th scope=row>41</th><td>118         </td><td>-0.030499821</td></tr>\n",
       "\t<tr><th scope=row>42</th><td>119         </td><td>-0.031709056</td></tr>\n",
       "</tbody>\n",
       "</table>\n"
      ],
      "text/latex": [
       "\\begin{tabular}{r|ll}\n",
       "  & bp\\_value & gradient\\\\\n",
       "\\hline\n",
       "\t24 & 101          & -0.010935357\\\\\n",
       "\t25 & 102          & -0.008567701\\\\\n",
       "\t26 & 103          & -0.006555263\\\\\n",
       "\t27 & 104          & -0.004989815\\\\\n",
       "\t28 & 105          & -0.003966516\\\\\n",
       "\t29 & 106          & -0.003555489\\\\\n",
       "\t30 & 107          & -0.003793530\\\\\n",
       "\t31 & 108          & -0.004683394\\\\\n",
       "\t32 & 109          & -0.006202045\\\\\n",
       "\t33 & 110          & -0.008281559\\\\\n",
       "\t34 & 111          & -0.010831402\\\\\n",
       "\t35 & 112          & -0.013751961\\\\\n",
       "\t36 & 113          & -0.016900999\\\\\n",
       "\t37 & 114          & -0.020132305\\\\\n",
       "\t38 & 115          & -0.023278744\\\\\n",
       "\t39 & 116          & -0.026160832\\\\\n",
       "\t40 & 117          & -0.028619059\\\\\n",
       "\t41 & 118          & -0.030499821\\\\\n",
       "\t42 & 119          & -0.031709056\\\\\n",
       "\\end{tabular}\n"
      ],
      "text/markdown": [
       "\n",
       "| <!--/--> | bp_value | gradient | \n",
       "|---|---|---|---|---|---|---|---|---|---|---|---|---|---|---|---|---|---|---|\n",
       "| 24 | 101          | -0.010935357 | \n",
       "| 25 | 102          | -0.008567701 | \n",
       "| 26 | 103          | -0.006555263 | \n",
       "| 27 | 104          | -0.004989815 | \n",
       "| 28 | 105          | -0.003966516 | \n",
       "| 29 | 106          | -0.003555489 | \n",
       "| 30 | 107          | -0.003793530 | \n",
       "| 31 | 108          | -0.004683394 | \n",
       "| 32 | 109          | -0.006202045 | \n",
       "| 33 | 110          | -0.008281559 | \n",
       "| 34 | 111          | -0.010831402 | \n",
       "| 35 | 112          | -0.013751961 | \n",
       "| 36 | 113          | -0.016900999 | \n",
       "| 37 | 114          | -0.020132305 | \n",
       "| 38 | 115          | -0.023278744 | \n",
       "| 39 | 116          | -0.026160832 | \n",
       "| 40 | 117          | -0.028619059 | \n",
       "| 41 | 118          | -0.030499821 | \n",
       "| 42 | 119          | -0.031709056 | \n",
       "\n",
       "\n"
      ],
      "text/plain": [
       "   bp_value gradient    \n",
       "24 101      -0.010935357\n",
       "25 102      -0.008567701\n",
       "26 103      -0.006555263\n",
       "27 104      -0.004989815\n",
       "28 105      -0.003966516\n",
       "29 106      -0.003555489\n",
       "30 107      -0.003793530\n",
       "31 108      -0.004683394\n",
       "32 109      -0.006202045\n",
       "33 110      -0.008281559\n",
       "34 111      -0.010831402\n",
       "35 112      -0.013751961\n",
       "36 113      -0.016900999\n",
       "37 114      -0.020132305\n",
       "38 115      -0.023278744\n",
       "39 116      -0.026160832\n",
       "40 117      -0.028619059\n",
       "41 118      -0.030499821\n",
       "42 119      -0.031709056"
      ]
     },
     "metadata": {},
     "output_type": "display_data"
    },
    {
     "data": {
      "text/html": [
       "<table>\n",
       "<thead><tr><th></th><th scope=col>bp_value</th><th scope=col>gradient</th></tr></thead>\n",
       "<tbody>\n",
       "\t<tr><th scope=row>23</th><td>101         </td><td>-0.009786498</td></tr>\n",
       "\t<tr><th scope=row>24</th><td>102         </td><td>-0.008932456</td></tr>\n",
       "\t<tr><th scope=row>25</th><td>103         </td><td>-0.008268561</td></tr>\n",
       "\t<tr><th scope=row>26</th><td>104         </td><td>-0.007846578</td></tr>\n",
       "\t<tr><th scope=row>27</th><td>105         </td><td>-0.007708743</td></tr>\n",
       "\t<tr><th scope=row>28</th><td>106         </td><td>-0.007887767</td></tr>\n",
       "\t<tr><th scope=row>29</th><td>107         </td><td>-0.008400657</td></tr>\n",
       "\t<tr><th scope=row>30</th><td>108         </td><td>-0.009245803</td></tr>\n",
       "\t<tr><th scope=row>31</th><td>109         </td><td>-0.010402558</td></tr>\n",
       "\t<tr><th scope=row>32</th><td>110         </td><td>-0.011830978</td></tr>\n",
       "\t<tr><th scope=row>33</th><td>111         </td><td>-0.013475658</td></tr>\n",
       "\t<tr><th scope=row>34</th><td>112         </td><td>-0.015268966</td></tr>\n",
       "\t<tr><th scope=row>35</th><td>113         </td><td>-0.017118202</td></tr>\n",
       "\t<tr><th scope=row>36</th><td>114         </td><td>-0.018938367</td></tr>\n",
       "\t<tr><th scope=row>37</th><td>115         </td><td>-0.020649272</td></tr>\n",
       "\t<tr><th scope=row>38</th><td>116         </td><td>-0.022157724</td></tr>\n",
       "\t<tr><th scope=row>39</th><td>117         </td><td>-0.023383255</td></tr>\n",
       "\t<tr><th scope=row>40</th><td>118         </td><td>-0.024275461</td></tr>\n",
       "\t<tr><th scope=row>41</th><td>119         </td><td>-0.024794175</td></tr>\n",
       "</tbody>\n",
       "</table>\n"
      ],
      "text/latex": [
       "\\begin{tabular}{r|ll}\n",
       "  & bp\\_value & gradient\\\\\n",
       "\\hline\n",
       "\t23 & 101          & -0.009786498\\\\\n",
       "\t24 & 102          & -0.008932456\\\\\n",
       "\t25 & 103          & -0.008268561\\\\\n",
       "\t26 & 104          & -0.007846578\\\\\n",
       "\t27 & 105          & -0.007708743\\\\\n",
       "\t28 & 106          & -0.007887767\\\\\n",
       "\t29 & 107          & -0.008400657\\\\\n",
       "\t30 & 108          & -0.009245803\\\\\n",
       "\t31 & 109          & -0.010402558\\\\\n",
       "\t32 & 110          & -0.011830978\\\\\n",
       "\t33 & 111          & -0.013475658\\\\\n",
       "\t34 & 112          & -0.015268966\\\\\n",
       "\t35 & 113          & -0.017118202\\\\\n",
       "\t36 & 114          & -0.018938367\\\\\n",
       "\t37 & 115          & -0.020649272\\\\\n",
       "\t38 & 116          & -0.022157724\\\\\n",
       "\t39 & 117          & -0.023383255\\\\\n",
       "\t40 & 118          & -0.024275461\\\\\n",
       "\t41 & 119          & -0.024794175\\\\\n",
       "\\end{tabular}\n"
      ],
      "text/markdown": [
       "\n",
       "| <!--/--> | bp_value | gradient | \n",
       "|---|---|---|---|---|---|---|---|---|---|---|---|---|---|---|---|---|---|---|\n",
       "| 23 | 101          | -0.009786498 | \n",
       "| 24 | 102          | -0.008932456 | \n",
       "| 25 | 103          | -0.008268561 | \n",
       "| 26 | 104          | -0.007846578 | \n",
       "| 27 | 105          | -0.007708743 | \n",
       "| 28 | 106          | -0.007887767 | \n",
       "| 29 | 107          | -0.008400657 | \n",
       "| 30 | 108          | -0.009245803 | \n",
       "| 31 | 109          | -0.010402558 | \n",
       "| 32 | 110          | -0.011830978 | \n",
       "| 33 | 111          | -0.013475658 | \n",
       "| 34 | 112          | -0.015268966 | \n",
       "| 35 | 113          | -0.017118202 | \n",
       "| 36 | 114          | -0.018938367 | \n",
       "| 37 | 115          | -0.020649272 | \n",
       "| 38 | 116          | -0.022157724 | \n",
       "| 39 | 117          | -0.023383255 | \n",
       "| 40 | 118          | -0.024275461 | \n",
       "| 41 | 119          | -0.024794175 | \n",
       "\n",
       "\n"
      ],
      "text/plain": [
       "   bp_value gradient    \n",
       "23 101      -0.009786498\n",
       "24 102      -0.008932456\n",
       "25 103      -0.008268561\n",
       "26 104      -0.007846578\n",
       "27 105      -0.007708743\n",
       "28 106      -0.007887767\n",
       "29 107      -0.008400657\n",
       "30 108      -0.009245803\n",
       "31 109      -0.010402558\n",
       "32 110      -0.011830978\n",
       "33 111      -0.013475658\n",
       "34 112      -0.015268966\n",
       "35 113      -0.017118202\n",
       "36 114      -0.018938367\n",
       "37 115      -0.020649272\n",
       "38 116      -0.022157724\n",
       "39 117      -0.023383255\n",
       "40 118      -0.024275461\n",
       "41 119      -0.024794175"
      ]
     },
     "metadata": {},
     "output_type": "display_data"
    }
   ],
   "source": [
    "print(\"eICU\") # NA\n",
    "eicu_grad <- find_gradient(b = gamfitMed_AKI_eICU_ASP_24h) \n",
    "eicu_grad[(eicu_grad$bp_value< 120) & (eicu_grad$bp_value> 110),]\n",
    "eicu_grad <- find_gradient(b = gamfitMed_AKI_eICU_ASP_48h) \n",
    "eicu_grad[(eicu_grad$bp_value< 120) & (eicu_grad$bp_value> 110),]\n",
    "eicu_grad <- find_gradient(b = gamfitMed_AKI_eICU_ASP_72h)\n",
    "eicu_grad[(eicu_grad$bp_value< 120) & (eicu_grad$bp_value> 110),]\n",
    "\n",
    "print(\"MIMIC\") # 75mmHg, 76mmHg\n",
    "mimic_grad <- find_gradient(b = gamfitMed_AKI_MIMIC_ASP_24h)\n",
    "mimic_grad[(mimic_grad$bp_value< 120) & (mimic_grad$bp_value> 110),]\n",
    "mimic_grad <- find_gradient(b = gamfitMed_AKI_MIMIC_ASP_48h)         #111\n",
    "mimic_grad[(mimic_grad$bp_value< 120) & (mimic_grad$bp_value> 100),]\n",
    "mimic_grad <- find_gradient(b = gamfitMed_AKI_MIMIC_ASP_72h)         # NA\n",
    "mimic_grad[(mimic_grad$bp_value< 120) & (mimic_grad$bp_value> 100),]\n"
   ]
  },
  {
   "cell_type": "code",
   "execution_count": 504,
   "metadata": {},
   "outputs": [],
   "source": [
    "gamfitMed_AKI_eICU_ADP_24h <- gam(AKI_7d ~ s(ibp_diastolic_24h)+gender+s(age)+s(bmi)+s(sofatotal)+s(vasso_duration_24h), data = df_eicu_aki, family = binomial)\n",
    "gamfitMed_AKI_MIMIC_ADP_24h <- gam(AKI_7d ~ s(ibp_diastolic_24h)+gender+s(age)+s(bmi)+s(sofatotal)+s(vasso_duration_24h), data = df_mimic_aki, family = binomial)\n",
    "\n",
    "gamfitMed_AKI_eICU_ADP_48h <- gam(AKI_7d ~ s(ibp_diastolic_48h)+gender+s(age)+s(bmi)+s(sofatotal)+s(vasso_duration_48h), data = df_eicu_aki, family = binomial)\n",
    "gamfitMed_AKI_MIMIC_ADP_48h <- gam(AKI_7d ~ s(ibp_diastolic_48h)+gender+s(age)+s(bmi)+s(sofatotal)+s(vasso_duration_48h), data = df_mimic_aki, family = binomial)\n",
    "\n",
    "gamfitMed_AKI_eICU_ADP_72h <- gam(AKI_7d ~ s(ibp_diastolic_72h)+gender+s(age)+s(bmi)+s(sofatotal)+s(vasso_duration_72h), data = df_eicu_aki, family = binomial)\n",
    "gamfitMed_AKI_MIMIC_ADP_72h <- gam(AKI_7d ~ s(ibp_diastolic_72h)+gender+s(age)+s(bmi)+s(sofatotal)+s(vasso_duration_72h), data = df_mimic_aki, family = binomial)\n"
   ]
  },
  {
   "cell_type": "code",
   "execution_count": 513,
   "metadata": {},
   "outputs": [
    {
     "name": "stdout",
     "output_type": "stream",
     "text": [
      "[1] \"Number of cases: 13105\"\n",
      "[1] \"Number of cases: 13105\"\n",
      "[1] \"Number of cases: 13105\"\n",
      "[1] \"Number of cases: 11445\"\n",
      "[1] \"Number of cases: 11445\"\n",
      "[1] \"Number of cases: 11445\"\n"
     ]
    },
    {
     "data": {
      "text/html": [
       "<strong>png:</strong> 2"
      ],
      "text/latex": [
       "\\textbf{png:} 2"
      ],
      "text/markdown": [
       "**png:** 2"
      ],
      "text/plain": [
       "png \n",
       "  2 "
      ]
     },
     "metadata": {},
     "output_type": "display_data"
    }
   ],
   "source": [
    "pdf(file = \"figure/ADP_AKI.pdf\", width = plot_width,\n",
    "    height = 9, pointsize = point_size, family = font)\n",
    "par(mfcol = c(3,2), cex = 1)\n",
    "x_range = c(35, 75)\n",
    "y_range = c(0.75,0.95)\n",
    "y_range2 = c(0.6,1.0)\n",
    "gam_plotMed(gamfitMed_AKI_eICU_ADP_24h, main = \"eICU-CRD\", xRange = x_range,\n",
    "                    yRange = y_range, label = \"A\", xlabel =\"Median of 24h Arterial Diastolic Pressure (ADP)\")\n",
    "\n",
    "gam_plotMed(gamfitMed_AKI_eICU_ADP_48h, main = \"eICU-CRD\", xRange = x_range,\n",
    "                    yRange = y_range, label = \"C\", xlabel =\"Median of 48h Arterial Diastolic Pressure (ADP)\")\n",
    "\n",
    "gam_plotMed(gamfitMed_AKI_eICU_ADP_72h, main = \"eICU-CRD\", xRange = x_range,\n",
    "                    yRange = y_range, label = \"E\", xlabel =\"Median of 72h Arterial Diastolic Pressure (ADP)\")\n",
    "\n",
    "gam_plotMed(gamfitMed_AKI_MIMIC_ADP_24h, main = \"MIMIC\", xRange = x_range,\n",
    "                    yRange = y_range2,label = \"B\", xlabel =\"Median of 24h Arterial Diastolic Pressure (ADP)\")\n",
    "\n",
    "gam_plotMed(gamfitMed_AKI_MIMIC_ADP_48h, main = \"MIMIC\", xRange = x_range,\n",
    "                    yRange = y_range2,label = \"D\", xlabel =\"Median of 48h Arterial Diastolic Pressure (ADP)\")\n",
    "\n",
    "gam_plotMed(gamfitMed_AKI_MIMIC_ADP_72h, main = \"MIMIC\", xRange = x_range,\n",
    "                    yRange = y_range2,label = \"F\", xlabel =\"Median of 72h Arterial Diastolic Pressure (ADP)\")\n",
    "dev.off()"
   ]
  },
  {
   "cell_type": "code",
   "execution_count": 512,
   "metadata": {},
   "outputs": [
    {
     "name": "stdout",
     "output_type": "stream",
     "text": [
      "[1] \"eICU\"\n"
     ]
    },
    {
     "data": {
      "text/html": [
       "<table>\n",
       "<thead><tr><th></th><th scope=col>bp_value</th><th scope=col>gradient</th></tr></thead>\n",
       "<tbody>\n",
       "\t<tr><th scope=row>30</th><td>51          </td><td>-0.002591004</td></tr>\n",
       "\t<tr><th scope=row>31</th><td>52          </td><td>-0.002591108</td></tr>\n",
       "\t<tr><th scope=row>32</th><td>53          </td><td>-0.002591225</td></tr>\n",
       "\t<tr><th scope=row>33</th><td>54          </td><td>-0.002591357</td></tr>\n",
       "\t<tr><th scope=row>34</th><td>55          </td><td>-0.002591509</td></tr>\n",
       "\t<tr><th scope=row>35</th><td>56          </td><td>-0.002591682</td></tr>\n",
       "\t<tr><th scope=row>36</th><td>57          </td><td>-0.002591879</td></tr>\n",
       "\t<tr><th scope=row>37</th><td>58          </td><td>-0.002592104</td></tr>\n",
       "\t<tr><th scope=row>38</th><td>59          </td><td>-0.002592358</td></tr>\n",
       "</tbody>\n",
       "</table>\n"
      ],
      "text/latex": [
       "\\begin{tabular}{r|ll}\n",
       "  & bp\\_value & gradient\\\\\n",
       "\\hline\n",
       "\t30 & 51           & -0.002591004\\\\\n",
       "\t31 & 52           & -0.002591108\\\\\n",
       "\t32 & 53           & -0.002591225\\\\\n",
       "\t33 & 54           & -0.002591357\\\\\n",
       "\t34 & 55           & -0.002591509\\\\\n",
       "\t35 & 56           & -0.002591682\\\\\n",
       "\t36 & 57           & -0.002591879\\\\\n",
       "\t37 & 58           & -0.002592104\\\\\n",
       "\t38 & 59           & -0.002592358\\\\\n",
       "\\end{tabular}\n"
      ],
      "text/markdown": [
       "\n",
       "| <!--/--> | bp_value | gradient | \n",
       "|---|---|---|---|---|---|---|---|---|\n",
       "| 30 | 51           | -0.002591004 | \n",
       "| 31 | 52           | -0.002591108 | \n",
       "| 32 | 53           | -0.002591225 | \n",
       "| 33 | 54           | -0.002591357 | \n",
       "| 34 | 55           | -0.002591509 | \n",
       "| 35 | 56           | -0.002591682 | \n",
       "| 36 | 57           | -0.002591879 | \n",
       "| 37 | 58           | -0.002592104 | \n",
       "| 38 | 59           | -0.002592358 | \n",
       "\n",
       "\n"
      ],
      "text/plain": [
       "   bp_value gradient    \n",
       "30 51       -0.002591004\n",
       "31 52       -0.002591108\n",
       "32 53       -0.002591225\n",
       "33 54       -0.002591357\n",
       "34 55       -0.002591509\n",
       "35 56       -0.002591682\n",
       "36 57       -0.002591879\n",
       "37 58       -0.002592104\n",
       "38 59       -0.002592358"
      ]
     },
     "metadata": {},
     "output_type": "display_data"
    },
    {
     "data": {
      "text/html": [
       "<table>\n",
       "<thead><tr><th></th><th scope=col>bp_value</th><th scope=col>gradient</th></tr></thead>\n",
       "<tbody>\n",
       "\t<tr><th scope=row>28</th><td>51          </td><td>-0.003504361</td></tr>\n",
       "\t<tr><th scope=row>29</th><td>52          </td><td>-0.003504410</td></tr>\n",
       "\t<tr><th scope=row>30</th><td>53          </td><td>-0.003504462</td></tr>\n",
       "\t<tr><th scope=row>31</th><td>54          </td><td>-0.003504519</td></tr>\n",
       "\t<tr><th scope=row>32</th><td>55          </td><td>-0.003504582</td></tr>\n",
       "\t<tr><th scope=row>33</th><td>56          </td><td>-0.003504653</td></tr>\n",
       "\t<tr><th scope=row>34</th><td>57          </td><td>-0.003504733</td></tr>\n",
       "\t<tr><th scope=row>35</th><td>58          </td><td>-0.003504822</td></tr>\n",
       "\t<tr><th scope=row>36</th><td>59          </td><td>-0.003504921</td></tr>\n",
       "</tbody>\n",
       "</table>\n"
      ],
      "text/latex": [
       "\\begin{tabular}{r|ll}\n",
       "  & bp\\_value & gradient\\\\\n",
       "\\hline\n",
       "\t28 & 51           & -0.003504361\\\\\n",
       "\t29 & 52           & -0.003504410\\\\\n",
       "\t30 & 53           & -0.003504462\\\\\n",
       "\t31 & 54           & -0.003504519\\\\\n",
       "\t32 & 55           & -0.003504582\\\\\n",
       "\t33 & 56           & -0.003504653\\\\\n",
       "\t34 & 57           & -0.003504733\\\\\n",
       "\t35 & 58           & -0.003504822\\\\\n",
       "\t36 & 59           & -0.003504921\\\\\n",
       "\\end{tabular}\n"
      ],
      "text/markdown": [
       "\n",
       "| <!--/--> | bp_value | gradient | \n",
       "|---|---|---|---|---|---|---|---|---|\n",
       "| 28 | 51           | -0.003504361 | \n",
       "| 29 | 52           | -0.003504410 | \n",
       "| 30 | 53           | -0.003504462 | \n",
       "| 31 | 54           | -0.003504519 | \n",
       "| 32 | 55           | -0.003504582 | \n",
       "| 33 | 56           | -0.003504653 | \n",
       "| 34 | 57           | -0.003504733 | \n",
       "| 35 | 58           | -0.003504822 | \n",
       "| 36 | 59           | -0.003504921 | \n",
       "\n",
       "\n"
      ],
      "text/plain": [
       "   bp_value gradient    \n",
       "28 51       -0.003504361\n",
       "29 52       -0.003504410\n",
       "30 53       -0.003504462\n",
       "31 54       -0.003504519\n",
       "32 55       -0.003504582\n",
       "33 56       -0.003504653\n",
       "34 57       -0.003504733\n",
       "35 58       -0.003504822\n",
       "36 59       -0.003504921"
      ]
     },
     "metadata": {},
     "output_type": "display_data"
    },
    {
     "data": {
      "text/html": [
       "<table>\n",
       "<thead><tr><th></th><th scope=col>bp_value</th><th scope=col>gradient</th></tr></thead>\n",
       "<tbody>\n",
       "\t<tr><th scope=row>27</th><td>51          </td><td>-0.002467859</td></tr>\n",
       "\t<tr><th scope=row>28</th><td>52          </td><td>-0.002468090</td></tr>\n",
       "\t<tr><th scope=row>29</th><td>53          </td><td>-0.002468337</td></tr>\n",
       "\t<tr><th scope=row>30</th><td>54          </td><td>-0.002468605</td></tr>\n",
       "\t<tr><th scope=row>31</th><td>55          </td><td>-0.002468900</td></tr>\n",
       "\t<tr><th scope=row>32</th><td>56          </td><td>-0.002469224</td></tr>\n",
       "\t<tr><th scope=row>33</th><td>57          </td><td>-0.002469583</td></tr>\n",
       "\t<tr><th scope=row>34</th><td>58          </td><td>-0.002469978</td></tr>\n",
       "\t<tr><th scope=row>35</th><td>59          </td><td>-0.002470409</td></tr>\n",
       "</tbody>\n",
       "</table>\n"
      ],
      "text/latex": [
       "\\begin{tabular}{r|ll}\n",
       "  & bp\\_value & gradient\\\\\n",
       "\\hline\n",
       "\t27 & 51           & -0.002467859\\\\\n",
       "\t28 & 52           & -0.002468090\\\\\n",
       "\t29 & 53           & -0.002468337\\\\\n",
       "\t30 & 54           & -0.002468605\\\\\n",
       "\t31 & 55           & -0.002468900\\\\\n",
       "\t32 & 56           & -0.002469224\\\\\n",
       "\t33 & 57           & -0.002469583\\\\\n",
       "\t34 & 58           & -0.002469978\\\\\n",
       "\t35 & 59           & -0.002470409\\\\\n",
       "\\end{tabular}\n"
      ],
      "text/markdown": [
       "\n",
       "| <!--/--> | bp_value | gradient | \n",
       "|---|---|---|---|---|---|---|---|---|\n",
       "| 27 | 51           | -0.002467859 | \n",
       "| 28 | 52           | -0.002468090 | \n",
       "| 29 | 53           | -0.002468337 | \n",
       "| 30 | 54           | -0.002468605 | \n",
       "| 31 | 55           | -0.002468900 | \n",
       "| 32 | 56           | -0.002469224 | \n",
       "| 33 | 57           | -0.002469583 | \n",
       "| 34 | 58           | -0.002469978 | \n",
       "| 35 | 59           | -0.002470409 | \n",
       "\n",
       "\n"
      ],
      "text/plain": [
       "   bp_value gradient    \n",
       "27 51       -0.002467859\n",
       "28 52       -0.002468090\n",
       "29 53       -0.002468337\n",
       "30 54       -0.002468605\n",
       "31 55       -0.002468900\n",
       "32 56       -0.002469224\n",
       "33 57       -0.002469583\n",
       "34 58       -0.002469978\n",
       "35 59       -0.002470409"
      ]
     },
     "metadata": {},
     "output_type": "display_data"
    },
    {
     "name": "stdout",
     "output_type": "stream",
     "text": [
      "[1] \"MIMIC\"\n"
     ]
    },
    {
     "data": {
      "text/html": [
       "<table>\n",
       "<thead><tr><th></th><th scope=col>bp_value</th><th scope=col>gradient</th></tr></thead>\n",
       "<tbody>\n",
       "\t<tr><th scope=row>27</th><td>51          </td><td>-0.012078822</td></tr>\n",
       "\t<tr><th scope=row>28</th><td>52          </td><td>-0.011634887</td></tr>\n",
       "\t<tr><th scope=row>29</th><td>53          </td><td>-0.011186032</td></tr>\n",
       "\t<tr><th scope=row>30</th><td>54          </td><td>-0.010725570</td></tr>\n",
       "\t<tr><th scope=row>31</th><td>55          </td><td>-0.010246714</td></tr>\n",
       "\t<tr><th scope=row>32</th><td>56          </td><td>-0.009740759</td></tr>\n",
       "\t<tr><th scope=row>33</th><td>57          </td><td>-0.009198149</td></tr>\n",
       "\t<tr><th scope=row>34</th><td>58          </td><td>-0.008608164</td></tr>\n",
       "\t<tr><th scope=row>35</th><td>59          </td><td>-0.007962249</td></tr>\n",
       "</tbody>\n",
       "</table>\n"
      ],
      "text/latex": [
       "\\begin{tabular}{r|ll}\n",
       "  & bp\\_value & gradient\\\\\n",
       "\\hline\n",
       "\t27 & 51           & -0.012078822\\\\\n",
       "\t28 & 52           & -0.011634887\\\\\n",
       "\t29 & 53           & -0.011186032\\\\\n",
       "\t30 & 54           & -0.010725570\\\\\n",
       "\t31 & 55           & -0.010246714\\\\\n",
       "\t32 & 56           & -0.009740759\\\\\n",
       "\t33 & 57           & -0.009198149\\\\\n",
       "\t34 & 58           & -0.008608164\\\\\n",
       "\t35 & 59           & -0.007962249\\\\\n",
       "\\end{tabular}\n"
      ],
      "text/markdown": [
       "\n",
       "| <!--/--> | bp_value | gradient | \n",
       "|---|---|---|---|---|---|---|---|---|\n",
       "| 27 | 51           | -0.012078822 | \n",
       "| 28 | 52           | -0.011634887 | \n",
       "| 29 | 53           | -0.011186032 | \n",
       "| 30 | 54           | -0.010725570 | \n",
       "| 31 | 55           | -0.010246714 | \n",
       "| 32 | 56           | -0.009740759 | \n",
       "| 33 | 57           | -0.009198149 | \n",
       "| 34 | 58           | -0.008608164 | \n",
       "| 35 | 59           | -0.007962249 | \n",
       "\n",
       "\n"
      ],
      "text/plain": [
       "   bp_value gradient    \n",
       "27 51       -0.012078822\n",
       "28 52       -0.011634887\n",
       "29 53       -0.011186032\n",
       "30 54       -0.010725570\n",
       "31 55       -0.010246714\n",
       "32 56       -0.009740759\n",
       "33 57       -0.009198149\n",
       "34 58       -0.008608164\n",
       "35 59       -0.007962249"
      ]
     },
     "metadata": {},
     "output_type": "display_data"
    },
    {
     "data": {
      "text/html": [
       "<table>\n",
       "<thead><tr><th></th><th scope=col>bp_value</th><th scope=col>gradient</th></tr></thead>\n",
       "<tbody>\n",
       "\t<tr><th scope=row>21</th><td>51           </td><td>-1.879190e-04</td></tr>\n",
       "\t<tr><th scope=row>22</th><td>52           </td><td> 9.908111e-05</td></tr>\n",
       "\t<tr><th scope=row>23</th><td>53           </td><td>-1.688913e-04</td></tr>\n",
       "\t<tr><th scope=row>24</th><td>54           </td><td>-8.702318e-04</td></tr>\n",
       "\t<tr><th scope=row>25</th><td>55           </td><td>-2.195920e-03</td></tr>\n",
       "\t<tr><th scope=row>26</th><td>56           </td><td>-4.434674e-03</td></tr>\n",
       "\t<tr><th scope=row>27</th><td>57           </td><td>-7.741094e-03</td></tr>\n",
       "\t<tr><th scope=row>28</th><td>58           </td><td>-1.211123e-02</td></tr>\n",
       "\t<tr><th scope=row>29</th><td>59           </td><td>-1.728093e-02</td></tr>\n",
       "\t<tr><th scope=row>30</th><td>60           </td><td>-2.262435e-02</td></tr>\n",
       "\t<tr><th scope=row>31</th><td>61           </td><td>-2.751601e-02</td></tr>\n",
       "\t<tr><th scope=row>32</th><td>62           </td><td>-3.129884e-02</td></tr>\n",
       "\t<tr><th scope=row>33</th><td>63           </td><td>-3.306216e-02</td></tr>\n",
       "\t<tr><th scope=row>34</th><td>64           </td><td>-3.200822e-02</td></tr>\n",
       "\t<tr><th scope=row>35</th><td>65           </td><td>-2.772783e-02</td></tr>\n",
       "\t<tr><th scope=row>36</th><td>66           </td><td>-2.015122e-02</td></tr>\n",
       "\t<tr><th scope=row>37</th><td>67           </td><td>-9.727186e-03</td></tr>\n",
       "\t<tr><th scope=row>38</th><td>68           </td><td> 2.469870e-03</td></tr>\n",
       "\t<tr><th scope=row>39</th><td>69           </td><td> 1.536012e-02</td></tr>\n",
       "</tbody>\n",
       "</table>\n"
      ],
      "text/latex": [
       "\\begin{tabular}{r|ll}\n",
       "  & bp\\_value & gradient\\\\\n",
       "\\hline\n",
       "\t21 & 51            & -1.879190e-04\\\\\n",
       "\t22 & 52            &  9.908111e-05\\\\\n",
       "\t23 & 53            & -1.688913e-04\\\\\n",
       "\t24 & 54            & -8.702318e-04\\\\\n",
       "\t25 & 55            & -2.195920e-03\\\\\n",
       "\t26 & 56            & -4.434674e-03\\\\\n",
       "\t27 & 57            & -7.741094e-03\\\\\n",
       "\t28 & 58            & -1.211123e-02\\\\\n",
       "\t29 & 59            & -1.728093e-02\\\\\n",
       "\t30 & 60            & -2.262435e-02\\\\\n",
       "\t31 & 61            & -2.751601e-02\\\\\n",
       "\t32 & 62            & -3.129884e-02\\\\\n",
       "\t33 & 63            & -3.306216e-02\\\\\n",
       "\t34 & 64            & -3.200822e-02\\\\\n",
       "\t35 & 65            & -2.772783e-02\\\\\n",
       "\t36 & 66            & -2.015122e-02\\\\\n",
       "\t37 & 67            & -9.727186e-03\\\\\n",
       "\t38 & 68            &  2.469870e-03\\\\\n",
       "\t39 & 69            &  1.536012e-02\\\\\n",
       "\\end{tabular}\n"
      ],
      "text/markdown": [
       "\n",
       "| <!--/--> | bp_value | gradient | \n",
       "|---|---|---|---|---|---|---|---|---|---|---|---|---|---|---|---|---|---|---|\n",
       "| 21 | 51            | -1.879190e-04 | \n",
       "| 22 | 52            |  9.908111e-05 | \n",
       "| 23 | 53            | -1.688913e-04 | \n",
       "| 24 | 54            | -8.702318e-04 | \n",
       "| 25 | 55            | -2.195920e-03 | \n",
       "| 26 | 56            | -4.434674e-03 | \n",
       "| 27 | 57            | -7.741094e-03 | \n",
       "| 28 | 58            | -1.211123e-02 | \n",
       "| 29 | 59            | -1.728093e-02 | \n",
       "| 30 | 60            | -2.262435e-02 | \n",
       "| 31 | 61            | -2.751601e-02 | \n",
       "| 32 | 62            | -3.129884e-02 | \n",
       "| 33 | 63            | -3.306216e-02 | \n",
       "| 34 | 64            | -3.200822e-02 | \n",
       "| 35 | 65            | -2.772783e-02 | \n",
       "| 36 | 66            | -2.015122e-02 | \n",
       "| 37 | 67            | -9.727186e-03 | \n",
       "| 38 | 68            |  2.469870e-03 | \n",
       "| 39 | 69            |  1.536012e-02 | \n",
       "\n",
       "\n"
      ],
      "text/plain": [
       "   bp_value gradient     \n",
       "21 51       -1.879190e-04\n",
       "22 52        9.908111e-05\n",
       "23 53       -1.688913e-04\n",
       "24 54       -8.702318e-04\n",
       "25 55       -2.195920e-03\n",
       "26 56       -4.434674e-03\n",
       "27 57       -7.741094e-03\n",
       "28 58       -1.211123e-02\n",
       "29 59       -1.728093e-02\n",
       "30 60       -2.262435e-02\n",
       "31 61       -2.751601e-02\n",
       "32 62       -3.129884e-02\n",
       "33 63       -3.306216e-02\n",
       "34 64       -3.200822e-02\n",
       "35 65       -2.772783e-02\n",
       "36 66       -2.015122e-02\n",
       "37 67       -9.727186e-03\n",
       "38 68        2.469870e-03\n",
       "39 69        1.536012e-02"
      ]
     },
     "metadata": {},
     "output_type": "display_data"
    },
    {
     "data": {
      "text/html": [
       "<table>\n",
       "<thead><tr><th></th><th scope=col>bp_value</th><th scope=col>gradient</th></tr></thead>\n",
       "<tbody>\n",
       "\t<tr><th scope=row>20</th><td>51          </td><td>-0.020836002</td></tr>\n",
       "\t<tr><th scope=row>21</th><td>52          </td><td>-0.014785716</td></tr>\n",
       "\t<tr><th scope=row>22</th><td>53          </td><td>-0.010038190</td></tr>\n",
       "\t<tr><th scope=row>23</th><td>54          </td><td>-0.006836564</td></tr>\n",
       "\t<tr><th scope=row>24</th><td>55          </td><td>-0.005313962</td></tr>\n",
       "\t<tr><th scope=row>25</th><td>56          </td><td>-0.005438286</td></tr>\n",
       "\t<tr><th scope=row>26</th><td>57          </td><td>-0.007043694</td></tr>\n",
       "\t<tr><th scope=row>27</th><td>58          </td><td>-0.009787966</td></tr>\n",
       "\t<tr><th scope=row>28</th><td>59          </td><td>-0.013189041</td></tr>\n",
       "\t<tr><th scope=row>29</th><td>60          </td><td>-0.016770994</td></tr>\n",
       "\t<tr><th scope=row>30</th><td>61          </td><td>-0.020137541</td></tr>\n",
       "\t<tr><th scope=row>31</th><td>62          </td><td>-0.022849790</td></tr>\n",
       "\t<tr><th scope=row>32</th><td>63          </td><td>-0.024379159</td></tr>\n",
       "\t<tr><th scope=row>33</th><td>64          </td><td>-0.024392806</td></tr>\n",
       "\t<tr><th scope=row>34</th><td>65          </td><td>-0.022702976</td></tr>\n",
       "\t<tr><th scope=row>35</th><td>66          </td><td>-0.019299687</td></tr>\n",
       "\t<tr><th scope=row>36</th><td>67          </td><td>-0.014395464</td></tr>\n",
       "\t<tr><th scope=row>37</th><td>68          </td><td>-0.008409588</td></tr>\n",
       "\t<tr><th scope=row>38</th><td>69          </td><td>-0.001739755</td></tr>\n",
       "</tbody>\n",
       "</table>\n"
      ],
      "text/latex": [
       "\\begin{tabular}{r|ll}\n",
       "  & bp\\_value & gradient\\\\\n",
       "\\hline\n",
       "\t20 & 51           & -0.020836002\\\\\n",
       "\t21 & 52           & -0.014785716\\\\\n",
       "\t22 & 53           & -0.010038190\\\\\n",
       "\t23 & 54           & -0.006836564\\\\\n",
       "\t24 & 55           & -0.005313962\\\\\n",
       "\t25 & 56           & -0.005438286\\\\\n",
       "\t26 & 57           & -0.007043694\\\\\n",
       "\t27 & 58           & -0.009787966\\\\\n",
       "\t28 & 59           & -0.013189041\\\\\n",
       "\t29 & 60           & -0.016770994\\\\\n",
       "\t30 & 61           & -0.020137541\\\\\n",
       "\t31 & 62           & -0.022849790\\\\\n",
       "\t32 & 63           & -0.024379159\\\\\n",
       "\t33 & 64           & -0.024392806\\\\\n",
       "\t34 & 65           & -0.022702976\\\\\n",
       "\t35 & 66           & -0.019299687\\\\\n",
       "\t36 & 67           & -0.014395464\\\\\n",
       "\t37 & 68           & -0.008409588\\\\\n",
       "\t38 & 69           & -0.001739755\\\\\n",
       "\\end{tabular}\n"
      ],
      "text/markdown": [
       "\n",
       "| <!--/--> | bp_value | gradient | \n",
       "|---|---|---|---|---|---|---|---|---|---|---|---|---|---|---|---|---|---|---|\n",
       "| 20 | 51           | -0.020836002 | \n",
       "| 21 | 52           | -0.014785716 | \n",
       "| 22 | 53           | -0.010038190 | \n",
       "| 23 | 54           | -0.006836564 | \n",
       "| 24 | 55           | -0.005313962 | \n",
       "| 25 | 56           | -0.005438286 | \n",
       "| 26 | 57           | -0.007043694 | \n",
       "| 27 | 58           | -0.009787966 | \n",
       "| 28 | 59           | -0.013189041 | \n",
       "| 29 | 60           | -0.016770994 | \n",
       "| 30 | 61           | -0.020137541 | \n",
       "| 31 | 62           | -0.022849790 | \n",
       "| 32 | 63           | -0.024379159 | \n",
       "| 33 | 64           | -0.024392806 | \n",
       "| 34 | 65           | -0.022702976 | \n",
       "| 35 | 66           | -0.019299687 | \n",
       "| 36 | 67           | -0.014395464 | \n",
       "| 37 | 68           | -0.008409588 | \n",
       "| 38 | 69           | -0.001739755 | \n",
       "\n",
       "\n"
      ],
      "text/plain": [
       "   bp_value gradient    \n",
       "20 51       -0.020836002\n",
       "21 52       -0.014785716\n",
       "22 53       -0.010038190\n",
       "23 54       -0.006836564\n",
       "24 55       -0.005313962\n",
       "25 56       -0.005438286\n",
       "26 57       -0.007043694\n",
       "27 58       -0.009787966\n",
       "28 59       -0.013189041\n",
       "29 60       -0.016770994\n",
       "30 61       -0.020137541\n",
       "31 62       -0.022849790\n",
       "32 63       -0.024379159\n",
       "33 64       -0.024392806\n",
       "34 65       -0.022702976\n",
       "35 66       -0.019299687\n",
       "36 67       -0.014395464\n",
       "37 68       -0.008409588\n",
       "38 69       -0.001739755"
      ]
     },
     "metadata": {},
     "output_type": "display_data"
    }
   ],
   "source": [
    "print(\"eICU\") # NA\n",
    "# eicu_grad <- find_gradient(b = gamfitMed_AKI_eICU_ADP_24h) \n",
    "# eicu_grad[(eicu_grad$bp_value< 60) & (eicu_grad$bp_value> 50),]\n",
    "# eicu_grad <- find_gradient(b = gamfitMed_AKI_eICU_ADP_48h) \n",
    "# eicu_grad[(eicu_grad$bp_value< 60) & (eicu_grad$bp_value> 50),]\n",
    "# eicu_grad <- find_gradient(b = gamfitMed_AKI_eICU_ADP_72h)\n",
    "# eicu_grad[(eicu_grad$bp_value< 60) & (eicu_grad$bp_value> 50),]\n",
    "\n",
    "print(\"MIMIC\") # 75mmHg, 76mmHg\n",
    "mimic_grad <- find_gradient(b = gamfitMed_AKI_MIMIC_ADP_24h)\n",
    "mimic_grad[(mimic_grad$bp_value< 60) & (mimic_grad$bp_value> 50),]\n",
    "mimic_grad <- find_gradient(b = gamfitMed_AKI_MIMIC_ADP_48h)         #58\n",
    "mimic_grad[(mimic_grad$bp_value< 70) & (mimic_grad$bp_value> 50),]\n",
    "mimic_grad <- find_gradient(b = gamfitMed_AKI_MIMIC_ADP_72h)         #58\n",
    "mimic_grad[(mimic_grad$bp_value< 70) & (mimic_grad$bp_value> 50),]\n"
   ]
  },
  {
   "cell_type": "code",
   "execution_count": null,
   "metadata": {},
   "outputs": [],
   "source": []
  },
  {
   "cell_type": "markdown",
   "metadata": {},
   "source": [
    "# proportion plot and ORs"
   ]
  },
  {
   "cell_type": "markdown",
   "metadata": {},
   "source": [
    "## use within_range_percent file to calculate the value and combine the csv at top"
   ]
  },
  {
   "cell_type": "code",
   "execution_count": 661,
   "metadata": {},
   "outputs": [],
   "source": [
    "gam_plotProp <- function(\n",
    "  gamfitProp,\n",
    "  main = \"Effect of treatment regime\",\n",
    "  yRange = c(0, .2),\n",
    "  add = FALSE, col = \"black\",\n",
    "  label,\n",
    "  bp_type = \"MAP\",\n",
    "  bp_low = 70,\n",
    "  bp_high = 80\n",
    "){\n",
    "  print(paste(\"Number of cases:\", summary(gamfitProp)$n))\n",
    "  \n",
    "  xName <- colnames(gamfitProp$model)[grep(\"prop\", colnames(gamfitProp$model))]\n",
    "  \n",
    "  xRange = c(min(gamfitProp$model[,xName], na.rm= TRUE), max(gamfitProp$model[,xName], na.rm= TRUE))\n",
    "#   xRange = c(0, max(gamfitProp$model[,xName], na.rm= TRUE))\n",
    "  \n",
    "  if(startsWith(xName, 'propBelow', ignore.case=TRUE)) {\n",
    "    xlab <- paste(\"Proportion of \",bp_type,\" <\", bp_low, \"mmHg (black) or >\",bp_high, \"mmHg (blue)\")\n",
    "    #xlab <- expression(\"Proportion of  SpO\"[2]*\" measurements below 94%\")\n",
    "  } else if(startsWith(xName, 'propAbove', ignore.case=TRUE)) {\n",
    "    xlab <- paste(\"Proportion of \",bp_type, \" above \", bp_high, \"mmHg\")\n",
    "  } else {\n",
    "    xlab <- paste(\"Proportion of \",bp_type, \" within \",bp_low, \"mmHg to \", bp_high, \"mmHg\")\n",
    "  }\n",
    "  \n",
    "  if(colnames(gamfitProp$model)[1] == \"hospital_expire_flag\") {\n",
    "    ylab <- \"Probability of hospital mortality\"\n",
    "  }\n",
    "      else if(colnames(gamfitProp$model)[1] == \"AKI_7d\") {\n",
    "    ylab <- \"Probability of acute kidney injury (AKI)\"\n",
    "  }\n",
    "      else {\n",
    "    ylab <- \"Probability of ICU mortality\"\n",
    "  }\n",
    "  \n",
    "  if(!add) {\n",
    "    plot(1, type = 'n', xlim = xRange, ylim = yRange,\n",
    "           ylab = ylab,\n",
    "           xlab = xlab, main = main, yaxs = 'i', xaxs = 'i', yaxt = 'n', xaxt = 'n')\n",
    "      \n",
    "      att <- pretty(yRange)\n",
    "    if(!isTRUE(all.equal(att, round(att, digits = 2)))) {\n",
    "      axis(2, at = att, lab = paste0(sprintf('%.1f', att*100), '%'), las = TRUE)\n",
    "    } else axis(2, at = att, lab = paste0(att*100, '%'), las = TRUE)\n",
    "      \n",
    "      att <- pretty(xRange)\n",
    "      axis(1, at = att, lab = paste0(att*100,'%'), las = TRUE)\n",
    "  \n",
    "  }\n",
    "    \n",
    "    eval(parse(text = paste(c('predictionsPlusCI <- predict(gamfitProp, newdata = data.frame(', xName, \n",
    "                              ' = gamfitProp$model$', xName, \n",
    "                              \", gender = 'F', age = median(gamfitProp$model$age), bmi = median(gamfitProp$model$bmi),\",\n",
    "                      ifelse(\n",
    "                        \"high_vent_proportion\" %in% colnames(gamfitProp$model),\n",
    "                        \"high_vent_proportion = median(gamfitProp$model$high_vent_proportion),\",\n",
    "                        \"\"\n",
    "                      ),\n",
    "                      ifelse(\n",
    "                        \"ethnicity\" %in% colnames(gamfitProp$model),\n",
    "                        \"ethnicity = gamfitProp$model$ethnicity,\",\n",
    "                        \"\"\n",
    "                      ),\n",
    "                      ifelse(\n",
    "                        \"apsiii\" %in% colnames(gamfitProp$model),\n",
    "                        \"apsiii = median(gamfitProp$model$apsiii),\",\n",
    "                        \"sofatotal = median(gamfitProp$model$sofatotal),\"\n",
    "                        \n",
    "                      ),\n",
    "                      ifelse(\n",
    "                        \"vasso_duration_24h\" %in% colnames(gamfitProp$model),\n",
    "                        \"vasso_duration_24h = median(gamfitProp$model$vasso_duration_24h),\",\n",
    "                        \"\"\n",
    "                      ),\n",
    "                      ifelse(\n",
    "                        \"vasso_duration_48h\" %in% colnames(gamfitProp$model),\n",
    "                        \"vasso_duration_48h = median(gamfitProp$model$vasso_duration_48h),\",\n",
    "                        \"\"\n",
    "                      ),\n",
    "                      ifelse(\n",
    "                        \"vasso_duration_72h\" %in% colnames(gamfitProp$model),\n",
    "                        \"vasso_duration_72h = median(gamfitProp$model$vasso_duration_72h),\",\n",
    "                        \"\"\n",
    "                      ),\n",
    "                      \"hospital_id = 264), type = 'link', se.fit = T)\"), collapse = \"\")))\n",
    "    \n",
    "    \n",
    "  \n",
    "  # We have to use the data on which GAM was fit for confidence region as the GAM does not provide standard errors \n",
    "  # for 'new' input\n",
    "  eval(parse(text = paste0('xx <- gamfitProp$model$', xName)))\n",
    "  ord.index <- order(xx)\n",
    "  xx <- xx[ord.index]\n",
    "  \n",
    "  if(gamfitProp$family$link == 'logit') {\n",
    "    lcl <- logistic(predictionsPlusCI$fit[ord.index] - 1.96*predictionsPlusCI$se.fit[ord.index])\n",
    "    ucl <- logistic(predictionsPlusCI$fit[ord.index] + 1.96*predictionsPlusCI$se.fit[ord.index])\n",
    "    \n",
    "    lines(x = xx, y = lcl, lty = 2, lwd = 2, col = col)\n",
    "    lines(x = xx, y = ucl, lty = 2, lwd = 2, col = col)\n",
    "    lines(xx, logistic(predictionsPlusCI$fit[ord.index]), lwd = 3, col = col)\n",
    "  } else {\n",
    "    lcl <- predictionsPlusCI$fit[ord.index] - 1.96*predictionsPlusCI$se.fit[ord.index]\n",
    "    ucl <- predictionsPlusCI$fit[ord.index] + 1.96*predictionsPlusCI$se.fit[ord.index]\n",
    "    \n",
    "    lines(x = xx, y = lcl, lty = 2, lwd = 2, col = col)\n",
    "    lines(x = xx, y = ucl, lty = 2, lwd = 2, col = col)\n",
    "    lines(xx, predictionsPlusCI$fit[ord.index], lwd = 3, col = col)\n",
    "  }\n",
    "  \n",
    "  if(!missing(label)) fig_label(label)\n",
    "}"
   ]
  },
  {
   "cell_type": "code",
   "execution_count": 592,
   "metadata": {},
   "outputs": [],
   "source": [
    "gammfitProp_eICU <- gam(hospital_expire_flag ~ s(prop_map_24)+gender+s(age)+s(bmi)+s(sofatotal)+s(vasso_duration_24h), data = df_eicu_prop, family = binomial)\n",
    "gamfitProp_below_eICU <- gam(hospital_expire_flag ~ s(propBelow_map_24)+gender+s(age)+s(bmi)+s(sofatotal)+s(vasso_duration_24h), data = df_eicu_prop, family = binomial)\n",
    "gamfitProp_above_eICU <- gam(hospital_expire_flag ~ s(propAbove_map_24)+gender+s(age)+s(bmi)+s(sofatotal)+s(vasso_duration_24h), data = df_eicu_prop, family = binomial)\n",
    "gamfitProp_MIMIC <- gam(hospital_expire_flag ~ s(prop_map_24)+gender+s(age)+s(bmi)+s(sofatotal)+s(vasso_duration_24h), data = df_mimic_prop, family = binomial)\n",
    "gamfitProp_below_MIMIC <- gam(hospital_expire_flag ~ s(propBelow_map_24)+gender+s(age)+s(bmi)+s(sofatotal)+s(vasso_duration_24h), data = df_mimic_prop, family = binomial)\n",
    "gamfitProp_above_MIMIC <- gam(hospital_expire_flag ~ s(propAbove_map_24)+gender+s(age)+s(bmi)+s(sofatotal)+s(vasso_duration_24h), data = df_mimic_prop, family = binomial)"
   ]
  },
  {
   "cell_type": "code",
   "execution_count": 600,
   "metadata": {},
   "outputs": [
    {
     "name": "stdout",
     "output_type": "stream",
     "text": [
      "[1] \"Number of cases: 14374\"\n",
      "[1] \"Number of cases: 14374\"\n",
      "[1] \"Number of cases: 14374\"\n",
      "[1] \"Number of cases: 12291\"\n",
      "[1] \"Number of cases: 12291\"\n",
      "[1] \"Number of cases: 12291\"\n"
     ]
    },
    {
     "data": {
      "text/html": [
       "<strong>png:</strong> 2"
      ],
      "text/latex": [
       "\\textbf{png:} 2"
      ],
      "text/markdown": [
       "**png:** 2"
      ],
      "text/plain": [
       "png \n",
       "  2 "
      ]
     },
     "metadata": {},
     "output_type": "display_data"
    }
   ],
   "source": [
    "pdf(file = \"figure/prop_MAP24_hosp.pdf\", width = 8,\n",
    "    height = 6, pointsize = point_size, family = font)\n",
    "par(mfcol = c(2,2), cex = 1)\n",
    "#summary(gamfitProp_eICU)\n",
    "gam_plotProp(gamfitProp_eICU, main = \"eICU\", label = \"A\",bp_type = \"MAP\",bp_low = 73, bp_high = 79)\n",
    "#summary(gamfitProp_below_eICU)\n",
    "gam_plotProp(gamfitProp_below_eICU, main = \"\", label = \"C\",bp_type = \"MAP\",bp_low = 73, bp_high = 79)\n",
    "#summary(gamfitProp_above_eICU)\n",
    "gam_plotProp(gamfitProp_above_eICU, main = \"\", col = \"blue\", add = TRUE)\n",
    "#summary(gamfitProp_MIMIC)\n",
    "gam_plotProp(gamfitProp_MIMIC, main = \"MIMIC\", label = \"B\", bp_type = \"MAP\", bp_low = 72, bp_high = 79)\n",
    "#summary(gamfitProp_below_MIMIC)\n",
    "gam_plotProp(gamfitProp_below_MIMIC, main = \"\", label = \"D\",bp_type = \"MAP\", bp_low = 72, bp_high = 79)\n",
    "#summary(gamfitProp_above_MIMIC)\n",
    "gam_plotProp(gamfitProp_above_MIMIC, main = \"\", col = \"blue\", add = TRUE)\n",
    "dev.off()\n"
   ]
  },
  {
   "cell_type": "code",
   "execution_count": 662,
   "metadata": {},
   "outputs": [],
   "source": [
    "gammfitProp_eICU <- gam(icu_mortality ~ s(prop_map_24)+gender+s(age)+s(bmi)+s(sofatotal)+s(vasso_duration_24h), data = df_eicu_prop, family = binomial)\n",
    "gamfitProp_below_eICU <- gam(icu_mortality ~ s(propBelow_map_24)+gender+s(age)+s(bmi)+s(sofatotal)+s(vasso_duration_24h), data = df_eicu_prop, family = binomial)\n",
    "gamfitProp_above_eICU <- gam(icu_mortality ~ s(propAbove_map_24)+gender+s(age)+s(bmi)+s(sofatotal)+s(vasso_duration_24h), data = df_eicu_prop, family = binomial)\n",
    "gamfitProp_MIMIC <- gam(icu_mortality ~ s(prop_map_24)+gender+s(age)+s(bmi)+s(sofatotal)+s(vasso_duration_24h), data = df_mimic_prop, family = binomial)\n",
    "gamfitProp_below_MIMIC <- gam(icu_mortality ~ s(propBelow_map_24)+gender+s(age)+s(bmi)+s(sofatotal)+s(vasso_duration_24h), data = df_mimic_prop, family = binomial)\n",
    "gamfitProp_above_MIMIC <- gam(icu_mortality ~ s(propAbove_map_24)+gender+s(age)+s(bmi)+s(sofatotal)+s(vasso_duration_24h), data = df_mimic_prop, family = binomial)"
   ]
  },
  {
   "cell_type": "code",
   "execution_count": 663,
   "metadata": {},
   "outputs": [
    {
     "name": "stdout",
     "output_type": "stream",
     "text": [
      "[1] \"Number of cases: 14374\"\n",
      "[1] \"Number of cases: 14374\"\n",
      "[1] \"Number of cases: 14374\"\n",
      "[1] \"Number of cases: 12291\"\n",
      "[1] \"Number of cases: 12291\"\n",
      "[1] \"Number of cases: 12291\"\n"
     ]
    },
    {
     "data": {
      "text/html": [
       "<strong>png:</strong> 2"
      ],
      "text/latex": [
       "\\textbf{png:} 2"
      ],
      "text/markdown": [
       "**png:** 2"
      ],
      "text/plain": [
       "png \n",
       "  2 "
      ]
     },
     "metadata": {},
     "output_type": "display_data"
    }
   ],
   "source": [
    "pdf(file = \"figure/prop_MAP24_ICUmort.pdf\", width = 8,\n",
    "    height = 6, pointsize = point_size, family = font)\n",
    "par(mfcol = c(2,2), cex = 1)\n",
    "#summary(gamfitProp_eICU)\n",
    "gam_plotProp(gamfitProp_eICU, main = \"eICU\", label = \"A\",bp_type = \"MAP\",bp_low = 73, bp_high = 79)\n",
    "#summary(gamfitProp_below_eICU)\n",
    "gam_plotProp(gamfitProp_below_eICU, main = \"\", label = \"C\",bp_type = \"MAP\",bp_low = 73, bp_high = 79)\n",
    "#summary(gamfitProp_above_eICU)\n",
    "gam_plotProp(gamfitProp_above_eICU, main = \"\", col = \"blue\", add = TRUE)\n",
    "#summary(gamfitProp_MIMIC)\n",
    "gam_plotProp(gamfitProp_MIMIC, main = \"MIMIC\", label = \"B\", bp_type = \"MAP\", bp_low = 72, bp_high = 79)\n",
    "#summary(gamfitProp_below_MIMIC)\n",
    "gam_plotProp(gamfitProp_below_MIMIC, main = \"\", label = \"D\",bp_type = \"MAP\", bp_low = 72, bp_high = 79)\n",
    "#summary(gamfitProp_above_MIMIC)\n",
    "gam_plotProp(gamfitProp_above_MIMIC, main = \"\", col = \"blue\", add = TRUE)\n",
    "dev.off()\n"
   ]
  },
  {
   "cell_type": "markdown",
   "metadata": {},
   "source": [
    "## AKI prop for MAP48h and MAP72h"
   ]
  },
  {
   "cell_type": "code",
   "execution_count": 624,
   "metadata": {},
   "outputs": [],
   "source": [
    "gam_plotProp_AKI <- function(\n",
    "  gamfitProp,\n",
    "  main = \"Effect of treatment regime\",\n",
    "  yRange = c(0.6, 0.9),\n",
    "  add = FALSE, col = \"black\",\n",
    "  label,\n",
    "  bp_type = \"MAP\",\n",
    "  bp_low = 70\n",
    "){\n",
    "  print(paste(\"Number of cases:\", summary(gamfitProp)$n))\n",
    "  \n",
    "  xName <- colnames(gamfitProp$model)[grep(\"prop\", colnames(gamfitProp$model))]\n",
    "  \n",
    "  xRange = c(min(gamfitProp$model[,xName], na.rm= TRUE), max(gamfitProp$model[,xName], na.rm= TRUE))\n",
    "#   xRange = c(0, max(gamfitProp$model[,xName], na.rm= TRUE))\n",
    "  \n",
    "  if(startsWith(xName, 'propBelow', ignore.case=TRUE)) {\n",
    "    xlab <- paste(\"Proportion of \",bp_type,\" <\", bp_low, \"mmHg\")\n",
    "    #xlab <- expression(\"Proportion of  SpO\"[2]*\" measurements below 94%\")\n",
    "  }  else {\n",
    "    xlab <- paste(\"Proportion of \",bp_type, \" >= \",bp_low, \"mmHg\")\n",
    "  }\n",
    "  \n",
    "  if(colnames(gamfitProp$model)[1] == \"hospital_expire_flag\") {\n",
    "    ylab <- \"Probability of hospital mortality\"\n",
    "  }\n",
    "      else if(colnames(gamfitProp$model)[1] == \"AKI_7d\") {\n",
    "    ylab <- \"Probability of acute kidney injury (AKI)\"\n",
    "  }\n",
    "      else {\n",
    "    ylab <- \"Probability of ICU mortality\"\n",
    "  }\n",
    "  \n",
    "  if(!add) {\n",
    "    plot(1, type = 'n', xlim = xRange, ylim = yRange,\n",
    "           ylab = ylab,\n",
    "           xlab = xlab, main = main, yaxs = 'i', xaxs = 'i', yaxt = 'n', xaxt = 'n')\n",
    "      \n",
    "      att <- pretty(yRange)\n",
    "    if(!isTRUE(all.equal(att, round(att, digits = 2)))) {\n",
    "      axis(2, at = att, lab = paste0(sprintf('%.1f', att*100), '%'), las = TRUE)\n",
    "    } else axis(2, at = att, lab = paste0(att*100, '%'), las = TRUE)\n",
    "      \n",
    "      att <- pretty(xRange)\n",
    "      axis(1, at = att, lab = paste0(att*100,'%'), las = TRUE)\n",
    "  \n",
    "  }\n",
    "    \n",
    "    eval(parse(text = paste(c('predictionsPlusCI <- predict(gamfitProp, newdata = data.frame(', xName, \n",
    "                              ' = gamfitProp$model$', xName, \n",
    "                              \", gender = 'F', age = median(gamfitProp$model$age), bmi = median(gamfitProp$model$bmi),\",\n",
    "                      ifelse(\n",
    "                        \"high_vent_proportion\" %in% colnames(gamfitProp$model),\n",
    "                        \"high_vent_proportion = median(gamfitProp$model$high_vent_proportion),\",\n",
    "                        \"\"\n",
    "                      ),\n",
    "                      ifelse(\n",
    "                        \"ethnicity\" %in% colnames(gamfitProp$model),\n",
    "                        \"ethnicity = gamfitProp$model$ethnicity,\",\n",
    "                        \"\"\n",
    "                      ),\n",
    "                      ifelse(\n",
    "                        \"apsiii\" %in% colnames(gamfitProp$model),\n",
    "                        \"apsiii = median(gamfitProp$model$apsiii),\",\n",
    "                        \"sofatotal = median(gamfitProp$model$sofatotal),\"\n",
    "                        \n",
    "                      ),\n",
    "                      ifelse(\n",
    "                        \"vasso_duration_24h\" %in% colnames(gamfitProp$model),\n",
    "                        \"vasso_duration_24h = median(gamfitProp$model$vasso_duration_24h),\",\n",
    "                        \"\"\n",
    "                      ),\n",
    "                      ifelse(\n",
    "                        \"vasso_duration_48h\" %in% colnames(gamfitProp$model),\n",
    "                        \"vasso_duration_48h = median(gamfitProp$model$vasso_duration_48h),\",\n",
    "                        \"\"\n",
    "                      ),\n",
    "                      ifelse(\n",
    "                        \"vasso_duration_72h\" %in% colnames(gamfitProp$model),\n",
    "                        \"vasso_duration_72h = median(gamfitProp$model$vasso_duration_72h),\",\n",
    "                        \"\"\n",
    "                      ),\n",
    "                      \"hospital_id = 264), type = 'link', se.fit = T)\"), collapse = \"\")))\n",
    "    \n",
    "    \n",
    "  \n",
    "  # We have to use the data on which GAM was fit for confidence region as the GAM does not provide standard errors \n",
    "  # for 'new' input\n",
    "  eval(parse(text = paste0('xx <- gamfitProp$model$', xName)))\n",
    "  ord.index <- order(xx)\n",
    "  xx <- xx[ord.index]\n",
    "  \n",
    "  if(gamfitProp$family$link == 'logit') {\n",
    "    lcl <- logistic(predictionsPlusCI$fit[ord.index] - 1.96*predictionsPlusCI$se.fit[ord.index])\n",
    "    ucl <- logistic(predictionsPlusCI$fit[ord.index] + 1.96*predictionsPlusCI$se.fit[ord.index])\n",
    "    \n",
    "    lines(x = xx, y = lcl, lty = 2, lwd = 2, col = col)\n",
    "    lines(x = xx, y = ucl, lty = 2, lwd = 2, col = col)\n",
    "    lines(xx, logistic(predictionsPlusCI$fit[ord.index]), lwd = 3, col = col)\n",
    "  } else {\n",
    "    lcl <- predictionsPlusCI$fit[ord.index] - 1.96*predictionsPlusCI$se.fit[ord.index]\n",
    "    ucl <- predictionsPlusCI$fit[ord.index] + 1.96*predictionsPlusCI$se.fit[ord.index]\n",
    "    \n",
    "    lines(x = xx, y = lcl, lty = 2, lwd = 2, col = col)\n",
    "    lines(x = xx, y = ucl, lty = 2, lwd = 2, col = col)\n",
    "    lines(xx, predictionsPlusCI$fit[ord.index], lwd = 3, col = col)\n",
    "  }\n",
    "  \n",
    "  if(!missing(label)) fig_label(label)\n",
    "}"
   ]
  },
  {
   "cell_type": "code",
   "execution_count": 622,
   "metadata": {},
   "outputs": [],
   "source": [
    "gamfitProp_MIMIC_AKI <- gam(AKI_7d ~ s(prop_map_48_AKI)+gender+s(age)+s(bmi)+s(sofatotal)+s(vasso_duration_48h), data = df_mimic_prop_AKI, family = binomial)\n",
    "gamfitProp_below_MIMIC_AKI <- gam(AKI_7d ~ s(propBelow_map_48_AKI)+gender+s(age)+s(bmi)+s(sofatotal)+s(vasso_duration_48h), data = df_mimic_prop_AKI, family = binomial)\n"
   ]
  },
  {
   "cell_type": "code",
   "execution_count": 630,
   "metadata": {},
   "outputs": [
    {
     "name": "stdout",
     "output_type": "stream",
     "text": [
      "[1] \"Number of cases: 12291\"\n",
      "[1] \"Number of cases: 12291\"\n"
     ]
    },
    {
     "data": {
      "text/html": [
       "<strong>png:</strong> 2"
      ],
      "text/latex": [
       "\\textbf{png:} 2"
      ],
      "text/markdown": [
       "**png:** 2"
      ],
      "text/plain": [
       "png \n",
       "  2 "
      ]
     },
     "metadata": {},
     "output_type": "display_data"
    }
   ],
   "source": [
    "pdf(file = \"figure/prop_MAP48_AKI.pdf\", width = 4,\n",
    "    height = 6, pointsize = point_size, family = font)\n",
    "par(mfcol = c(2,1), cex = 1)\n",
    "\n",
    "#summary(gamfitProp_MIMIC)\n",
    "gam_plotProp_AKI(gamfitProp_MIMIC_AKI, main = \"MIMIC 48h\", label = \"A\", bp_type = \"MAP\", bp_low = 75)\n",
    "#summary(gamfitProp_below_MIMIC)\n",
    "gam_plotProp_AKI(gamfitProp_below_MIMIC_AKI, main = \"MIMIC 48h\", label = \"B\",bp_type = \"MAP\", bp_low = 75)\n",
    "dev.off()\n"
   ]
  },
  {
   "cell_type": "code",
   "execution_count": 627,
   "metadata": {},
   "outputs": [
    {
     "name": "stdout",
     "output_type": "stream",
     "text": [
      "[1] \"Number of cases: 12291\"\n",
      "[1] \"Number of cases: 12291\"\n"
     ]
    },
    {
     "data": {
      "text/html": [
       "<strong>png:</strong> 2"
      ],
      "text/latex": [
       "\\textbf{png:} 2"
      ],
      "text/markdown": [
       "**png:** 2"
      ],
      "text/plain": [
       "png \n",
       "  2 "
      ]
     },
     "metadata": {},
     "output_type": "display_data"
    }
   ],
   "source": [
    "gamfitProp_MIMIC_72h_AKI <- gam(AKI_7d ~ s(prop_map_72_AKI)+gender+s(age)+s(bmi)+s(sofatotal)+s(vasso_duration_72h), data = df_mimic_prop_AKI, family = binomial)\n",
    "gamfitProp_below_MIMIC_72h_AKI <- gam(AKI_7d ~ s(propBelow_map_72_AKI)+gender+s(age)+s(bmi)+s(sofatotal)+s(vasso_duration_72h), data = df_mimic_prop_AKI, family = binomial)"
   ]
  },
  {
   "cell_type": "code",
   "execution_count": 629,
   "metadata": {},
   "outputs": [
    {
     "name": "stdout",
     "output_type": "stream",
     "text": [
      "[1] \"Number of cases: 12291\"\n",
      "[1] \"Number of cases: 12291\"\n"
     ]
    },
    {
     "data": {
      "text/html": [
       "<strong>png:</strong> 2"
      ],
      "text/latex": [
       "\\textbf{png:} 2"
      ],
      "text/markdown": [
       "**png:** 2"
      ],
      "text/plain": [
       "png \n",
       "  2 "
      ]
     },
     "metadata": {},
     "output_type": "display_data"
    }
   ],
   "source": [
    "pdf(file = \"figure/prop_MAP72_AKI.pdf\", width = 4,\n",
    "    height = 6, pointsize = point_size, family = font)\n",
    "par(mfcol = c(2,1), cex = 1)\n",
    "\n",
    "#summary(gamfitProp_MIMIC)\n",
    "gam_plotProp_AKI(gamfitProp_MIMIC_72h_AKI, main = \"MIMIC 72h\", label = \"A\", bp_type = \"MAP\", bp_low = 76)\n",
    "#summary(gamfitProp_below_MIMIC)\n",
    "gam_plotProp_AKI(gamfitProp_below_MIMIC_72h_AKI, main = \"MIMIC 72h\", label = \"B\",bp_type = \"MAP\", bp_low = 76)\n",
    "dev.off()"
   ]
  },
  {
   "cell_type": "code",
   "execution_count": 206,
   "metadata": {},
   "outputs": [],
   "source": [
    "\n",
    "# df_mimic_compelete <- df_mimic_prop[complete.cases(df_mimic_prop[ , c('prop_asp_24','propBelow_asp_24','propAbove_asp_24')]),]"
   ]
  },
  {
   "cell_type": "code",
   "execution_count": 207,
   "metadata": {},
   "outputs": [],
   "source": [
    "# df_mimic_subset_below<-df_mimic_prop[df_mimic_prop$prop_asp_24<=0.25,]\n",
    "# df_mimic_subset_within <-df_mimic_prop\n",
    "# df_mimic_subset_above<-df_mimic_prop[df_mimic_prop$prop_asp_24<=0.25,]\n",
    "\n",
    "# dim(df_mimic_subset_below)[1]\n",
    "# dim(df_mimic_subset_within)[1]\n",
    "# dim(df_mimic_subset_above)[1]\n",
    "# sum(dim(df_mimic_subset_below)[1], dim(df_mimic_subset_within)[1],dim(df_mimic_subset_above)[1])\n",
    "# min(df_mimic_subset_below[,\"propBelow_asp_24\"])\n",
    "# min(df_mimic_prop[df_mimic_prop$prop_asp_24<=0.4,44 ])"
   ]
  },
  {
   "cell_type": "code",
   "execution_count": 208,
   "metadata": {},
   "outputs": [],
   "source": [
    "# head(df_mimic_prop[df_mimic_prop$prop_asp_24<=0.4,c(1,24,44 )],n =10)"
   ]
  },
  {
   "cell_type": "code",
   "execution_count": 209,
   "metadata": {},
   "outputs": [],
   "source": [
    "# max(df_mimic_subset_above[,\"propAbove_asp_24\"],na.rm=T)"
   ]
  },
  {
   "cell_type": "code",
   "execution_count": 605,
   "metadata": {},
   "outputs": [],
   "source": [
    "gammfitProp_eICU_asp <- gam(hospital_expire_flag ~ s(prop_asp_24)+gender+s(age)+s(bmi)+s(sofatotal)+s(vasso_duration_24h), data = df_eicu_prop, family = binomial)\n",
    "gamfitProp_below_eICU_asp <- gam(hospital_expire_flag ~ s(propBelow_asp_24)+gender+s(age)+s(bmi)+s(sofatotal)+s(vasso_duration_24h), data = df_eicu_prop, family = binomial)\n",
    "gamfitProp_above_eICU_asp <- gam(hospital_expire_flag ~ s(propAbove_asp_24)+gender+s(age)+s(bmi)+s(sofatotal)+s(vasso_duration_24h), data = df_eicu_prop, family = binomial)\n",
    "gamfitProp_MIMIC_asp <- gam(hospital_expire_flag ~ s(prop_asp_24)+gender+s(age)+s(bmi)+(sofatotal)+s(vasso_duration_24h), data = df_mimic_prop, family = binomial)\n",
    "gamfitProp_below_MIMIC_asp <- gam(hospital_expire_flag ~ s(propBelow_asp_24)+gender+s(age)+s(bmi)+(sofatotal)+s(vasso_duration_24h), data = df_mimic_prop, family = binomial)\n",
    "gamfitProp_above_MIMIC_asp <- gam(hospital_expire_flag ~ s(propAbove_asp_24)+gender+s(age)+s(bmi)+(sofatotal)+s(vasso_duration_24h), data = df_mimic_prop, family = binomial)"
   ]
  },
  {
   "cell_type": "code",
   "execution_count": 606,
   "metadata": {},
   "outputs": [
    {
     "name": "stdout",
     "output_type": "stream",
     "text": [
      "[1] \"Number of cases: 14374\"\n",
      "[1] \"Number of cases: 14374\"\n",
      "[1] \"Number of cases: 14374\"\n",
      "[1] \"Number of cases: 12291\"\n",
      "[1] \"Number of cases: 12291\"\n",
      "[1] \"Number of cases: 12291\"\n"
     ]
    },
    {
     "data": {
      "text/html": [
       "<strong>png:</strong> 2"
      ],
      "text/latex": [
       "\\textbf{png:} 2"
      ],
      "text/markdown": [
       "**png:** 2"
      ],
      "text/plain": [
       "png \n",
       "  2 "
      ]
     },
     "metadata": {},
     "output_type": "display_data"
    }
   ],
   "source": [
    "pdf(file = \"figure/prop_ASP24_hosp.pdf\", width = 8,\n",
    "    height = 6, pointsize = point_size, family = font)\n",
    "par(mfcol = c(2,2), cex = 1)\n",
    "#summary(gamfitProp_eICU)\n",
    "gam_plotProp(gammfitProp_eICU_asp, main = \"eICU\", label = \"A\",bp_type = \"ASP\",bp_low = 112, bp_high = 125)\n",
    "#summary(gamfitProp_below_eICU)\n",
    "gam_plotProp(gamfitProp_below_eICU_asp, main = \"\", label = \"C\",bp_type = \"ASP\",bp_low = 112, bp_high = 125)\n",
    "#summary(gamfitProp_above_eICU)\n",
    "gam_plotProp(gamfitProp_above_eICU_asp, main = \"\", col = \"blue\", add = TRUE)\n",
    "#summary(gamfitProp_MIMIC)\n",
    "gam_plotProp(gamfitProp_MIMIC_asp, main = \"MIMIC\", label = \"B\", bp_type = \"ASP\", bp_low = 112, bp_high = 125)\n",
    "#summary(gamfitProp_below_MIMIC)\n",
    "gam_plotProp(gamfitProp_below_MIMIC_asp, main = \"\", label = \"D\",bp_type = \"ASP\",bp_low = 112, bp_high = 125)\n",
    "#summary(gamfitProp_above_MIMIC)\n",
    "gam_plotProp(gamfitProp_above_MIMIC_asp, main = \"\", col = \"blue\", add = TRUE)\n",
    "dev.off()\n"
   ]
  },
  {
   "cell_type": "code",
   "execution_count": 665,
   "metadata": {},
   "outputs": [],
   "source": [
    "gammfitProp_eICU_asp <- gam(icu_mortality ~ s(prop_asp_24)+gender+s(age)+s(bmi)+s(sofatotal)+s(vasso_duration_24h), data = df_eicu_prop, family = binomial)\n",
    "gamfitProp_below_eICU_asp <- gam(icu_mortality ~ s(propBelow_asp_24)+gender+s(age)+s(bmi)+s(sofatotal)+s(vasso_duration_24h), data = df_eicu_prop, family = binomial)\n",
    "gamfitProp_above_eICU_asp <- gam(icu_mortality ~ s(propAbove_asp_24)+gender+s(age)+s(bmi)+s(sofatotal)+s(vasso_duration_24h), data = df_eicu_prop, family = binomial)\n",
    "gamfitProp_MIMIC_asp <- gam(icu_mortality ~ s(prop_asp_24)+gender+s(age)+s(bmi)+(sofatotal)+s(vasso_duration_24h), data = df_mimic_prop, family = binomial)\n",
    "gamfitProp_below_MIMIC_asp <- gam(icu_mortality ~ s(propBelow_asp_24)+gender+s(age)+s(bmi)+(sofatotal)+s(vasso_duration_24h), data = df_mimic_prop, family = binomial)\n",
    "gamfitProp_above_MIMIC_asp <- gam(icu_mortality ~ s(propAbove_asp_24)+gender+s(age)+s(bmi)+(sofatotal)+s(vasso_duration_24h), data = df_mimic_prop, family = binomial)"
   ]
  },
  {
   "cell_type": "code",
   "execution_count": 666,
   "metadata": {},
   "outputs": [
    {
     "name": "stdout",
     "output_type": "stream",
     "text": [
      "[1] \"Number of cases: 14374\"\n",
      "[1] \"Number of cases: 14374\"\n",
      "[1] \"Number of cases: 14374\"\n",
      "[1] \"Number of cases: 12291\"\n",
      "[1] \"Number of cases: 12291\"\n",
      "[1] \"Number of cases: 12291\"\n"
     ]
    },
    {
     "data": {
      "text/html": [
       "<strong>png:</strong> 2"
      ],
      "text/latex": [
       "\\textbf{png:} 2"
      ],
      "text/markdown": [
       "**png:** 2"
      ],
      "text/plain": [
       "png \n",
       "  2 "
      ]
     },
     "metadata": {},
     "output_type": "display_data"
    }
   ],
   "source": [
    "pdf(file = \"figure/prop_ASP24_ICUmort.pdf\", width = 8,\n",
    "    height = 6, pointsize = point_size, family = font)\n",
    "par(mfcol = c(2,2), cex = 1)\n",
    "#summary(gamfitProp_eICU)\n",
    "gam_plotProp(gammfitProp_eICU_asp, main = \"eICU\", label = \"A\",bp_type = \"ASP\",bp_low = 112, bp_high = 125)\n",
    "#summary(gamfitProp_below_eICU)\n",
    "gam_plotProp(gamfitProp_below_eICU_asp, main = \"\", label = \"C\",bp_type = \"ASP\",bp_low = 112, bp_high = 125)\n",
    "#summary(gamfitProp_above_eICU)\n",
    "gam_plotProp(gamfitProp_above_eICU_asp, main = \"\", col = \"blue\", add = TRUE)\n",
    "#summary(gamfitProp_MIMIC)\n",
    "gam_plotProp(gamfitProp_MIMIC_asp, main = \"MIMIC\", label = \"B\", bp_type = \"ASP\", bp_low = 112, bp_high = 125)\n",
    "#summary(gamfitProp_below_MIMIC)\n",
    "gam_plotProp(gamfitProp_below_MIMIC_asp, main = \"\", label = \"D\",bp_type = \"ASP\",bp_low = 112, bp_high = 125)\n",
    "#summary(gamfitProp_above_MIMIC)\n",
    "gam_plotProp(gamfitProp_above_MIMIC_asp, main = \"\", col = \"blue\", add = TRUE)\n",
    "dev.off()\n"
   ]
  },
  {
   "cell_type": "code",
   "execution_count": 521,
   "metadata": {},
   "outputs": [
    {
     "name": "stdout",
     "output_type": "stream",
     "text": [
      "[1] \"Number of cases: 14374\"\n",
      "[1] \"Number of cases: 14374\"\n",
      "[1] \"Number of cases: 14374\"\n",
      "[1] \"Number of cases: 12291\"\n",
      "[1] \"Number of cases: 12291\"\n",
      "[1] \"Number of cases: 12291\"\n"
     ]
    },
    {
     "data": {
      "text/html": [
       "<strong>png:</strong> 2"
      ],
      "text/latex": [
       "\\textbf{png:} 2"
      ],
      "text/markdown": [
       "**png:** 2"
      ],
      "text/plain": [
       "png \n",
       "  2 "
      ]
     },
     "metadata": {},
     "output_type": "display_data"
    }
   ],
   "source": [
    "gammfitProp_eICU_adp      <- gam(hospital_expire_flag ~ s(prop_adp_24)+gender+s(age)+s(bmi)+s(sofatotal)+s(vasso_duration_24h), data = df_eicu_prop, family = binomial)\n",
    "gamfitProp_below_eICU_adp <- gam(hospital_expire_flag ~ s(propBelow_adp_24)+gender+s(age)+s(bmi)+s(sofatotal)+s(vasso_duration_24h), data = df_eicu_prop, family = binomial)\n",
    "gamfitProp_above_eICU_adp <- gam(hospital_expire_flag ~ s(propAbove_adp_24)+gender+s(age)+s(bmi)+s(sofatotal)+s(vasso_duration_24h), data = df_eicu_prop, family = binomial)\n",
    "gamfitProp_MIMIC_adp      <- gam(hospital_expire_flag ~ s(prop_adp_24)+gender+s(age)+s(bmi)+(sofatotal)+s(vasso_duration_24h), data = df_mimic_prop, family = binomial)\n",
    "gamfitProp_below_MIMIC_adp <- gam(hospital_expire_flag ~ s(propBelow_adp_24)+gender+s(age)+s(bmi)+(sofatotal)+s(vasso_duration_24h), data = df_mimic_prop, family = binomial)\n",
    "gamfitProp_above_MIMIC_adp <- gam(hospital_expire_flag ~ s(propAbove_adp_24)+gender+s(age)+s(bmi)+(sofatotal)+s(vasso_duration_24h), data = df_mimic_prop, family = binomial)"
   ]
  },
  {
   "cell_type": "code",
   "execution_count": 523,
   "metadata": {},
   "outputs": [
    {
     "name": "stdout",
     "output_type": "stream",
     "text": [
      "[1] \"Number of cases: 14374\"\n",
      "[1] \"Number of cases: 14374\"\n",
      "[1] \"Number of cases: 14374\"\n",
      "[1] \"Number of cases: 12291\"\n",
      "[1] \"Number of cases: 12291\"\n",
      "[1] \"Number of cases: 12291\"\n"
     ]
    },
    {
     "data": {
      "text/html": [
       "<strong>png:</strong> 2"
      ],
      "text/latex": [
       "\\textbf{png:} 2"
      ],
      "text/markdown": [
       "**png:** 2"
      ],
      "text/plain": [
       "png \n",
       "  2 "
      ]
     },
     "metadata": {},
     "output_type": "display_data"
    }
   ],
   "source": [
    "pdf(file = \"figure/prop_ADP24_hosp.pdf\", width = 8,\n",
    "    height = 6, pointsize = point_size, family = font)\n",
    "par(mfcol = c(2,2), cex = 1)\n",
    "#summary(gamfitProp_eICU)\n",
    "gam_plotProp(gammfitProp_eICU_adp, main = \"eICU-CRD\", label = \"A\",bp_type = \"ADP\",bp_low = 50, bp_high = 54)\n",
    "#summary(gamfitProp_below_eICU)\n",
    "gam_plotProp(gamfitProp_below_eICU_adp, main = \"\", label = \"C\",bp_type = \"ADP\",bp_low = 50, bp_high = 54)\n",
    "#summary(gamfitProp_above_eICU)\n",
    "gam_plotProp(gamfitProp_above_eICU_adp, main = \"\", col = \"blue\", add = TRUE)\n",
    "#summary(gamfitProp_MIMIC)\n",
    "gam_plotProp(gamfitProp_MIMIC_adp, main = \"MIMIC\", label = \"B\", bp_type = \"ADP\", bp_low = 41, bp_high = 52)\n",
    "#summary(gamfitProp_below_MIMIC)\n",
    "gam_plotProp(gamfitProp_below_MIMIC_adp, main = \"\", label = \"D\",bp_type = \"ADP\",bp_low = 41, bp_high = 52)\n",
    "#summary(gamfitProp_above_MIMIC)\n",
    "gam_plotProp(gamfitProp_above_MIMIC_adp, main = \"\", col = \"blue\", add = TRUE)\n",
    "dev.off()"
   ]
  },
  {
   "cell_type": "markdown",
   "metadata": {},
   "source": [
    "# Hospital/ICU Mortality odds ratio for MBP 5-15% vs 35-45% in-range"
   ]
  },
  {
   "cell_type": "code",
   "execution_count": 530,
   "metadata": {},
   "outputs": [],
   "source": [
    "library(epitools)"
   ]
  },
  {
   "cell_type": "code",
   "execution_count": 551,
   "metadata": {},
   "outputs": [
    {
     "data": {
      "text/html": [
       "<table>\n",
       "<thead><tr><th scope=col>patientunitstayid</th><th scope=col>age</th><th scope=col>gender</th><th scope=col>ethnicity</th><th scope=col>unittype</th><th scope=col>icu_mortality</th><th scope=col>hospital_expire_flag</th><th scope=col>apache_iv</th><th scope=col>sofatotal</th><th scope=col>vasso_duration_24h</th><th scope=col>⋯</th><th scope=col>mortality_7d</th><th scope=col>propBelow_map_24</th><th scope=col>propAbove_map_24</th><th scope=col>prop_map_24</th><th scope=col>propBelow_asp_24</th><th scope=col>propAbove_asp_24</th><th scope=col>prop_asp_24</th><th scope=col>propBelow_adp_24</th><th scope=col>propAbove_adp_24</th><th scope=col>prop_adp_24</th></tr></thead>\n",
       "<tbody>\n",
       "\t<tr><td>141194     </td><td>68         </td><td>M          </td><td>Caucasian  </td><td>CTICU      </td><td>0          </td><td>0          </td><td>70         </td><td> 3         </td><td> 0.00      </td><td>⋯          </td><td>ALIVE      </td><td>1.0000000  </td><td>0.0000000  </td><td>0.0000000  </td><td>0.8750000  </td><td>0.000000   </td><td>0.1250000  </td><td>1.0000000  </td><td>0.000000000</td><td>0.00000000 </td></tr>\n",
       "\t<tr><td>141233     </td><td>81         </td><td>F          </td><td>Caucasian  </td><td>CTICU      </td><td>0          </td><td>0          </td><td>66         </td><td>12         </td><td>23.97      </td><td>⋯          </td><td>ALIVE      </td><td>0.4579439  </td><td>0.2523364  </td><td>0.2897196  </td><td>0.3457944  </td><td>0.364486   </td><td>0.2897196  </td><td>0.9065421  </td><td>0.009345794</td><td>0.08411215 </td></tr>\n",
       "</tbody>\n",
       "</table>\n"
      ],
      "text/latex": [
       "\\begin{tabular}{r|lllllllllllllllllllllllllllllllllllllllllllll}\n",
       " patientunitstayid & age & gender & ethnicity & unittype & icu\\_mortality & hospital\\_expire\\_flag & apache\\_iv & sofatotal & vasso\\_duration\\_24h & ⋯ & mortality\\_7d & propBelow\\_map\\_24 & propAbove\\_map\\_24 & prop\\_map\\_24 & propBelow\\_asp\\_24 & propAbove\\_asp\\_24 & prop\\_asp\\_24 & propBelow\\_adp\\_24 & propAbove\\_adp\\_24 & prop\\_adp\\_24\\\\\n",
       "\\hline\n",
       "\t 141194      & 68          & M           & Caucasian   & CTICU       & 0           & 0           & 70          &  3          &  0.00       & ⋯           & ALIVE       & 1.0000000   & 0.0000000   & 0.0000000   & 0.8750000   & 0.000000    & 0.1250000   & 1.0000000   & 0.000000000 & 0.00000000 \\\\\n",
       "\t 141233      & 81          & F           & Caucasian   & CTICU       & 0           & 0           & 66          & 12          & 23.97       & ⋯           & ALIVE       & 0.4579439   & 0.2523364   & 0.2897196   & 0.3457944   & 0.364486    & 0.2897196   & 0.9065421   & 0.009345794 & 0.08411215 \\\\\n",
       "\\end{tabular}\n"
      ],
      "text/markdown": [
       "\n",
       "patientunitstayid | age | gender | ethnicity | unittype | icu_mortality | hospital_expire_flag | apache_iv | sofatotal | vasso_duration_24h | ⋯ | mortality_7d | propBelow_map_24 | propAbove_map_24 | prop_map_24 | propBelow_asp_24 | propAbove_asp_24 | prop_asp_24 | propBelow_adp_24 | propAbove_adp_24 | prop_adp_24 | \n",
       "|---|---|\n",
       "| 141194      | 68          | M           | Caucasian   | CTICU       | 0           | 0           | 70          |  3          |  0.00       | ⋯           | ALIVE       | 1.0000000   | 0.0000000   | 0.0000000   | 0.8750000   | 0.000000    | 0.1250000   | 1.0000000   | 0.000000000 | 0.00000000  | \n",
       "| 141233      | 81          | F           | Caucasian   | CTICU       | 0           | 0           | 66          | 12          | 23.97       | ⋯           | ALIVE       | 0.4579439   | 0.2523364   | 0.2897196   | 0.3457944   | 0.364486    | 0.2897196   | 0.9065421   | 0.009345794 | 0.08411215  | \n",
       "\n",
       "\n"
      ],
      "text/plain": [
       "  patientunitstayid age gender ethnicity unittype icu_mortality\n",
       "1 141194            68  M      Caucasian CTICU    0            \n",
       "2 141233            81  F      Caucasian CTICU    0            \n",
       "  hospital_expire_flag apache_iv sofatotal vasso_duration_24h ⋯ mortality_7d\n",
       "1 0                    70         3         0.00              ⋯ ALIVE       \n",
       "2 0                    66        12        23.97              ⋯ ALIVE       \n",
       "  propBelow_map_24 propAbove_map_24 prop_map_24 propBelow_asp_24\n",
       "1 1.0000000        0.0000000        0.0000000   0.8750000       \n",
       "2 0.4579439        0.2523364        0.2897196   0.3457944       \n",
       "  propAbove_asp_24 prop_asp_24 propBelow_adp_24 propAbove_adp_24 prop_adp_24\n",
       "1 0.000000         0.1250000   1.0000000        0.000000000      0.00000000 \n",
       "2 0.364486         0.2897196   0.9065421        0.009345794      0.08411215 "
      ]
     },
     "metadata": {},
     "output_type": "display_data"
    }
   ],
   "source": [
    "head(df_eicu_prop, n = 2)"
   ]
  },
  {
   "cell_type": "code",
   "execution_count": 647,
   "metadata": {},
   "outputs": [],
   "source": [
    "df_10<-df_eicu_prop[df_eicu_prop$prop_map_24>=0.05 & df_eicu_prop$prop_map_24<=0.15,]\n",
    "df_40<-df_eicu_prop[df_eicu_prop$prop_map_24>=0.35 & df_eicu_prop$prop_map_24<=0.45,]"
   ]
  },
  {
   "cell_type": "code",
   "execution_count": 651,
   "metadata": {},
   "outputs": [],
   "source": [
    "df_10<-df_eicu_prop[df_eicu_prop$prop_asp_24>=0.05 & df_eicu_prop$prop_asp_24<=0.15,]\n",
    "df_40<-df_eicu_prop[df_eicu_prop$prop_asp_24>=0.35 & df_eicu_prop$prop_asp_24<=0.45,]"
   ]
  },
  {
   "cell_type": "code",
   "execution_count": 556,
   "metadata": {},
   "outputs": [],
   "source": [
    "# df_10<-df_eicu_prop[df_eicu_prop$prop_adp_24>=0.05 & df_eicu_prop$prop_adp_24<=0.15,]\n",
    "# df_40<-df_eicu_prop[df_eicu_prop$prop_adp_24>=0.35 & df_eicu_prop$prop_adp_24<=0.45,]"
   ]
  },
  {
   "cell_type": "code",
   "execution_count": 649,
   "metadata": {},
   "outputs": [],
   "source": [
    "df_10<-df_mimic_prop[df_mimic_prop$prop_map_24>=0.05 & df_mimic_prop$prop_map_24<=0.15,]\n",
    "df_40<-df_mimic_prop[df_mimic_prop$prop_map_24>=0.35 & df_mimic_prop$prop_map_24<=0.45,]"
   ]
  },
  {
   "cell_type": "code",
   "execution_count": 653,
   "metadata": {},
   "outputs": [],
   "source": [
    "df_10<-df_mimic_prop[df_mimic_prop$prop_asp_24>=0.05 & df_mimic_prop$prop_asp_24<=0.15,]\n",
    "df_40<-df_mimic_prop[df_mimic_prop$prop_asp_24>=0.35 & df_mimic_prop$prop_asp_24<=0.45,]"
   ]
  },
  {
   "cell_type": "code",
   "execution_count": 654,
   "metadata": {},
   "outputs": [
    {
     "name": "stdout",
     "output_type": "stream",
     "text": [
      "[1]  444  164 1977 1323\n"
     ]
    },
    {
     "data": {
      "text/html": [
       "0.183395291201983"
      ],
      "text/latex": [
       "0.183395291201983"
      ],
      "text/markdown": [
       "0.183395291201983"
      ],
      "text/plain": [
       "[1] 0.1833953"
      ]
     },
     "metadata": {},
     "output_type": "display_data"
    },
    {
     "data": {
      "text/html": [
       "0.110289172831204"
      ],
      "text/latex": [
       "0.110289172831204"
      ],
      "text/markdown": [
       "0.110289172831204"
      ],
      "text/plain": [
       "[1] 0.1102892"
      ]
     },
     "metadata": {},
     "output_type": "display_data"
    },
    {
     "data": {
      "text/html": [
       "<dl>\n",
       "\t<dt>$data</dt>\n",
       "\t\t<dd><table>\n",
       "<thead><tr><th></th><th scope=col>Disease1</th><th scope=col>Disease2</th><th scope=col>Total</th></tr></thead>\n",
       "<tbody>\n",
       "\t<tr><th scope=row>Exposed1</th><td>444 </td><td>1977</td><td>2421</td></tr>\n",
       "\t<tr><th scope=row>Exposed2</th><td>164 </td><td>1323</td><td>1487</td></tr>\n",
       "\t<tr><th scope=row>Total</th><td>608 </td><td>3300</td><td>3908</td></tr>\n",
       "</tbody>\n",
       "</table>\n",
       "</dd>\n",
       "\t<dt>$measure</dt>\n",
       "\t\t<dd><table>\n",
       "<thead><tr><th></th><th scope=col>estimate</th><th scope=col>lower</th><th scope=col>upper</th></tr></thead>\n",
       "<tbody>\n",
       "\t<tr><th scope=row>Exposed1</th><td>1.000000</td><td>      NA</td><td>      NA</td></tr>\n",
       "\t<tr><th scope=row>Exposed2</th><td>1.810469</td><td>1.496854</td><td>2.199155</td></tr>\n",
       "</tbody>\n",
       "</table>\n",
       "</dd>\n",
       "\t<dt>$p.value</dt>\n",
       "\t\t<dd><table>\n",
       "<thead><tr><th></th><th scope=col>midp.exact</th><th scope=col>fisher.exact</th><th scope=col>chi.square</th></tr></thead>\n",
       "<tbody>\n",
       "\t<tr><th scope=row>Exposed1</th><td>          NA</td><td>         NA </td><td>          NA</td></tr>\n",
       "\t<tr><th scope=row>Exposed2</th><td>4.482943e-10</td><td>5.44401e-10 </td><td>9.255699e-10</td></tr>\n",
       "</tbody>\n",
       "</table>\n",
       "</dd>\n",
       "\t<dt>$correction</dt>\n",
       "\t\t<dd>FALSE</dd>\n",
       "</dl>\n"
      ],
      "text/latex": [
       "\\begin{description}\n",
       "\\item[\\$data] \\begin{tabular}{r|lll}\n",
       "  & Disease1 & Disease2 & Total\\\\\n",
       "\\hline\n",
       "\tExposed1 & 444  & 1977 & 2421\\\\\n",
       "\tExposed2 & 164  & 1323 & 1487\\\\\n",
       "\tTotal & 608  & 3300 & 3908\\\\\n",
       "\\end{tabular}\n",
       "\n",
       "\\item[\\$measure] \\begin{tabular}{r|lll}\n",
       "  & estimate & lower & upper\\\\\n",
       "\\hline\n",
       "\tExposed1 & 1.000000 &       NA &       NA\\\\\n",
       "\tExposed2 & 1.810469 & 1.496854 & 2.199155\\\\\n",
       "\\end{tabular}\n",
       "\n",
       "\\item[\\$p.value] \\begin{tabular}{r|lll}\n",
       "  & midp.exact & fisher.exact & chi.square\\\\\n",
       "\\hline\n",
       "\tExposed1 &           NA &          NA  &           NA\\\\\n",
       "\tExposed2 & 4.482943e-10 & 5.44401e-10  & 9.255699e-10\\\\\n",
       "\\end{tabular}\n",
       "\n",
       "\\item[\\$correction] FALSE\n",
       "\\end{description}\n"
      ],
      "text/markdown": [
       "$data\n",
       ":   \n",
       "| <!--/--> | Disease1 | Disease2 | Total | \n",
       "|---|---|---|\n",
       "| Exposed1 | 444  | 1977 | 2421 | \n",
       "| Exposed2 | 164  | 1323 | 1487 | \n",
       "| Total | 608  | 3300 | 3908 | \n",
       "\n",
       "\n",
       "\n",
       "$measure\n",
       ":   \n",
       "| <!--/--> | estimate | lower | upper | \n",
       "|---|---|\n",
       "| Exposed1 | 1.000000 |       NA |       NA | \n",
       "| Exposed2 | 1.810469 | 1.496854 | 2.199155 | \n",
       "\n",
       "\n",
       "\n",
       "$p.value\n",
       ":   \n",
       "| <!--/--> | midp.exact | fisher.exact | chi.square | \n",
       "|---|---|\n",
       "| Exposed1 |           NA |          NA  |           NA | \n",
       "| Exposed2 | 4.482943e-10 | 5.44401e-10  | 9.255699e-10 | \n",
       "\n",
       "\n",
       "\n",
       "$correction\n",
       ":   FALSE\n",
       "\n",
       "\n"
      ],
      "text/plain": [
       "$data\n",
       "          Outcome\n",
       "Predictor  Disease1 Disease2 Total\n",
       "  Exposed1      444     1977  2421\n",
       "  Exposed2      164     1323  1487\n",
       "  Total         608     3300  3908\n",
       "\n",
       "$measure\n",
       "          odds ratio with 95% C.I.\n",
       "Predictor  estimate    lower    upper\n",
       "  Exposed1 1.000000       NA       NA\n",
       "  Exposed2 1.810469 1.496854 2.199155\n",
       "\n",
       "$p.value\n",
       "          two-sided\n",
       "Predictor    midp.exact fisher.exact   chi.square\n",
       "  Exposed1           NA           NA           NA\n",
       "  Exposed2 4.482943e-10  5.44401e-10 9.255699e-10\n",
       "\n",
       "$correction\n",
       "[1] FALSE\n",
       "\n",
       "attr(,\"method\")\n",
       "[1] \"median-unbiased estimate & mid-p exact CI\""
      ]
     },
     "metadata": {},
     "output_type": "display_data"
    }
   ],
   "source": [
    "a<-length(df_10[df_10$hospital_expire_flag==1,1]) # exposed\n",
    "c<-length(df_10[df_10$hospital_expire_flag==0,1])\n",
    "b<-length(df_40[df_40$hospital_expire_flag==1,1]) # control\n",
    "d<-length(df_40[df_40$hospital_expire_flag==0,1])\n",
    "print(c(a,b,c,d))\n",
    "a/(a+c)\n",
    "b/(b+d)\n",
    "oddsratio(matrix(c(a,b,c,d), ncol=2, nrow=2))"
   ]
  },
  {
   "cell_type": "code",
   "execution_count": 638,
   "metadata": {},
   "outputs": [
    {
     "name": "stdout",
     "output_type": "stream",
     "text": [
      "[1]  361  131 2060 1356\n"
     ]
    },
    {
     "data": {
      "text/html": [
       "0.149111937216026"
      ],
      "text/latex": [
       "0.149111937216026"
      ],
      "text/markdown": [
       "0.149111937216026"
      ],
      "text/plain": [
       "[1] 0.1491119"
      ]
     },
     "metadata": {},
     "output_type": "display_data"
    },
    {
     "data": {
      "text/html": [
       "0.0880968392737054"
      ],
      "text/latex": [
       "0.0880968392737054"
      ],
      "text/markdown": [
       "0.0880968392737054"
      ],
      "text/plain": [
       "[1] 0.08809684"
      ]
     },
     "metadata": {},
     "output_type": "display_data"
    },
    {
     "data": {
      "text/html": [
       "<dl>\n",
       "\t<dt>$data</dt>\n",
       "\t\t<dd><table>\n",
       "<thead><tr><th></th><th scope=col>Disease1</th><th scope=col>Disease2</th><th scope=col>Total</th></tr></thead>\n",
       "<tbody>\n",
       "\t<tr><th scope=row>Exposed1</th><td>361 </td><td>2060</td><td>2421</td></tr>\n",
       "\t<tr><th scope=row>Exposed2</th><td>131 </td><td>1356</td><td>1487</td></tr>\n",
       "\t<tr><th scope=row>Total</th><td>492 </td><td>3416</td><td>3908</td></tr>\n",
       "</tbody>\n",
       "</table>\n",
       "</dd>\n",
       "\t<dt>$measure</dt>\n",
       "\t\t<dd><table>\n",
       "<thead><tr><th></th><th scope=col>estimate</th><th scope=col>lower</th><th scope=col>upper</th></tr></thead>\n",
       "<tbody>\n",
       "\t<tr><th scope=row>Exposed1</th><td>1.0000  </td><td>      NA</td><td>      NA</td></tr>\n",
       "\t<tr><th scope=row>Exposed2</th><td>1.8124  </td><td>1.470807</td><td>2.245677</td></tr>\n",
       "</tbody>\n",
       "</table>\n",
       "</dd>\n",
       "\t<dt>$p.value</dt>\n",
       "\t\t<dd><table>\n",
       "<thead><tr><th></th><th scope=col>midp.exact</th><th scope=col>fisher.exact</th><th scope=col>chi.square</th></tr></thead>\n",
       "<tbody>\n",
       "\t<tr><th scope=row>Exposed1</th><td>         NA </td><td>          NA</td><td>          NA</td></tr>\n",
       "\t<tr><th scope=row>Exposed2</th><td>1.23703e-08 </td><td>1.333714e-08</td><td>2.371337e-08</td></tr>\n",
       "</tbody>\n",
       "</table>\n",
       "</dd>\n",
       "\t<dt>$correction</dt>\n",
       "\t\t<dd>FALSE</dd>\n",
       "</dl>\n"
      ],
      "text/latex": [
       "\\begin{description}\n",
       "\\item[\\$data] \\begin{tabular}{r|lll}\n",
       "  & Disease1 & Disease2 & Total\\\\\n",
       "\\hline\n",
       "\tExposed1 & 361  & 2060 & 2421\\\\\n",
       "\tExposed2 & 131  & 1356 & 1487\\\\\n",
       "\tTotal & 492  & 3416 & 3908\\\\\n",
       "\\end{tabular}\n",
       "\n",
       "\\item[\\$measure] \\begin{tabular}{r|lll}\n",
       "  & estimate & lower & upper\\\\\n",
       "\\hline\n",
       "\tExposed1 & 1.0000   &       NA &       NA\\\\\n",
       "\tExposed2 & 1.8124   & 1.470807 & 2.245677\\\\\n",
       "\\end{tabular}\n",
       "\n",
       "\\item[\\$p.value] \\begin{tabular}{r|lll}\n",
       "  & midp.exact & fisher.exact & chi.square\\\\\n",
       "\\hline\n",
       "\tExposed1 &          NA  &           NA &           NA\\\\\n",
       "\tExposed2 & 1.23703e-08  & 1.333714e-08 & 2.371337e-08\\\\\n",
       "\\end{tabular}\n",
       "\n",
       "\\item[\\$correction] FALSE\n",
       "\\end{description}\n"
      ],
      "text/markdown": [
       "$data\n",
       ":   \n",
       "| <!--/--> | Disease1 | Disease2 | Total | \n",
       "|---|---|---|\n",
       "| Exposed1 | 361  | 2060 | 2421 | \n",
       "| Exposed2 | 131  | 1356 | 1487 | \n",
       "| Total | 492  | 3416 | 3908 | \n",
       "\n",
       "\n",
       "\n",
       "$measure\n",
       ":   \n",
       "| <!--/--> | estimate | lower | upper | \n",
       "|---|---|\n",
       "| Exposed1 | 1.0000   |       NA |       NA | \n",
       "| Exposed2 | 1.8124   | 1.470807 | 2.245677 | \n",
       "\n",
       "\n",
       "\n",
       "$p.value\n",
       ":   \n",
       "| <!--/--> | midp.exact | fisher.exact | chi.square | \n",
       "|---|---|\n",
       "| Exposed1 |          NA  |           NA |           NA | \n",
       "| Exposed2 | 1.23703e-08  | 1.333714e-08 | 2.371337e-08 | \n",
       "\n",
       "\n",
       "\n",
       "$correction\n",
       ":   FALSE\n",
       "\n",
       "\n"
      ],
      "text/plain": [
       "$data\n",
       "          Outcome\n",
       "Predictor  Disease1 Disease2 Total\n",
       "  Exposed1      361     2060  2421\n",
       "  Exposed2      131     1356  1487\n",
       "  Total         492     3416  3908\n",
       "\n",
       "$measure\n",
       "          odds ratio with 95% C.I.\n",
       "Predictor  estimate    lower    upper\n",
       "  Exposed1   1.0000       NA       NA\n",
       "  Exposed2   1.8124 1.470807 2.245677\n",
       "\n",
       "$p.value\n",
       "          two-sided\n",
       "Predictor   midp.exact fisher.exact   chi.square\n",
       "  Exposed1          NA           NA           NA\n",
       "  Exposed2 1.23703e-08 1.333714e-08 2.371337e-08\n",
       "\n",
       "$correction\n",
       "[1] FALSE\n",
       "\n",
       "attr(,\"method\")\n",
       "[1] \"median-unbiased estimate & mid-p exact CI\""
      ]
     },
     "metadata": {},
     "output_type": "display_data"
    }
   ],
   "source": [
    "a<-length(df_10[df_10$icu_mortality==1,1]) # exposed\n",
    "c<-length(df_10[df_10$icu_mortality==0,1])\n",
    "b<-length(df_40[df_40$icu_mortality==1,1]) # control\n",
    "d<-length(df_40[df_40$icu_mortality==0,1])\n",
    "print(c(a,b,c,d))\n",
    "a/(a+c)\n",
    "b/(b+d)\n",
    "oddsratio(matrix(c(a,b,c,d), ncol=2, nrow=2))"
   ]
  },
  {
   "cell_type": "code",
   "execution_count": null,
   "metadata": {},
   "outputs": [],
   "source": []
  },
  {
   "cell_type": "markdown",
   "metadata": {},
   "source": [
    "# AKI ORs and CI"
   ]
  },
  {
   "cell_type": "code",
   "execution_count": 640,
   "metadata": {},
   "outputs": [
    {
     "data": {
      "text/html": [
       "<table>\n",
       "<thead><tr><th scope=col>icustay_id</th><th scope=col>age</th><th scope=col>gender</th><th scope=col>ethnicity</th><th scope=col>unittype</th><th scope=col>icu_mortality</th><th scope=col>hospital_expire_flag</th><th scope=col>sofatotal</th><th scope=col>vasso_duration_24h</th><th scope=col>vasso_duration_48h</th><th scope=col>⋯</th><th scope=col>ibp_mean_48h</th><th scope=col>ibp_mean_72h</th><th scope=col>bmi</th><th scope=col>AKI_7d</th><th scope=col>mortality_7d</th><th scope=col>use_vasopressor</th><th scope=col>prop_map_48_AKI</th><th scope=col>propBelow_map_48_AKI</th><th scope=col>prop_map_72_AKI</th><th scope=col>propBelow_map_72_AKI</th></tr></thead>\n",
       "<tbody>\n",
       "\t<tr><td>200003   </td><td>48       </td><td>M        </td><td>WHITE    </td><td>SICU     </td><td>0        </td><td>0        </td><td>6        </td><td>1.084444 </td><td>17.33444 </td><td>⋯        </td><td>77       </td><td>78       </td><td>25.06564 </td><td>0        </td><td>0        </td><td>1        </td><td>0.6078431</td><td>0.3921569</td><td>0.6753247</td><td>0.3246753</td></tr>\n",
       "\t<tr><td>200009   </td><td>47       </td><td>F        </td><td>WHITE    </td><td>CSRU     </td><td>0        </td><td>0        </td><td>3        </td><td>0.000000 </td><td> 0.00000 </td><td>⋯        </td><td>76       </td><td>76       </td><td>34.05399 </td><td>1        </td><td>0        </td><td>0        </td><td>0.5818182</td><td>0.4181818</td><td>0.5272727</td><td>0.4727273</td></tr>\n",
       "</tbody>\n",
       "</table>\n"
      ],
      "text/latex": [
       "\\begin{tabular}{r|llllllllllllllllllllllllllllllllllllllll}\n",
       " icustay\\_id & age & gender & ethnicity & unittype & icu\\_mortality & hospital\\_expire\\_flag & sofatotal & vasso\\_duration\\_24h & vasso\\_duration\\_48h & ⋯ & ibp\\_mean\\_48h & ibp\\_mean\\_72h & bmi & AKI\\_7d & mortality\\_7d & use\\_vasopressor & prop\\_map\\_48\\_AKI & propBelow\\_map\\_48\\_AKI & prop\\_map\\_72\\_AKI & propBelow\\_map\\_72\\_AKI\\\\\n",
       "\\hline\n",
       "\t 200003    & 48        & M         & WHITE     & SICU      & 0         & 0         & 6         & 1.084444  & 17.33444  & ⋯         & 77        & 78        & 25.06564  & 0         & 0         & 1         & 0.6078431 & 0.3921569 & 0.6753247 & 0.3246753\\\\\n",
       "\t 200009    & 47        & F         & WHITE     & CSRU      & 0         & 0         & 3         & 0.000000  &  0.00000  & ⋯         & 76        & 76        & 34.05399  & 1         & 0         & 0         & 0.5818182 & 0.4181818 & 0.5272727 & 0.4727273\\\\\n",
       "\\end{tabular}\n"
      ],
      "text/markdown": [
       "\n",
       "icustay_id | age | gender | ethnicity | unittype | icu_mortality | hospital_expire_flag | sofatotal | vasso_duration_24h | vasso_duration_48h | ⋯ | ibp_mean_48h | ibp_mean_72h | bmi | AKI_7d | mortality_7d | use_vasopressor | prop_map_48_AKI | propBelow_map_48_AKI | prop_map_72_AKI | propBelow_map_72_AKI | \n",
       "|---|---|\n",
       "| 200003    | 48        | M         | WHITE     | SICU      | 0         | 0         | 6         | 1.084444  | 17.33444  | ⋯         | 77        | 78        | 25.06564  | 0         | 0         | 1         | 0.6078431 | 0.3921569 | 0.6753247 | 0.3246753 | \n",
       "| 200009    | 47        | F         | WHITE     | CSRU      | 0         | 0         | 3         | 0.000000  |  0.00000  | ⋯         | 76        | 76        | 34.05399  | 1         | 0         | 0         | 0.5818182 | 0.4181818 | 0.5272727 | 0.4727273 | \n",
       "\n",
       "\n"
      ],
      "text/plain": [
       "  icustay_id age gender ethnicity unittype icu_mortality hospital_expire_flag\n",
       "1 200003     48  M      WHITE     SICU     0             0                   \n",
       "2 200009     47  F      WHITE     CSRU     0             0                   \n",
       "  sofatotal vasso_duration_24h vasso_duration_48h ⋯ ibp_mean_48h ibp_mean_72h\n",
       "1 6         1.084444           17.33444           ⋯ 77           78          \n",
       "2 3         0.000000            0.00000           ⋯ 76           76          \n",
       "  bmi      AKI_7d mortality_7d use_vasopressor prop_map_48_AKI\n",
       "1 25.06564 0      0            1               0.6078431      \n",
       "2 34.05399 1      0            0               0.5818182      \n",
       "  propBelow_map_48_AKI prop_map_72_AKI propBelow_map_72_AKI\n",
       "1 0.3921569            0.6753247       0.3246753           \n",
       "2 0.4181818            0.5272727       0.4727273           "
      ]
     },
     "metadata": {},
     "output_type": "display_data"
    }
   ],
   "source": [
    "head(df_mimic_prop_AKI, n = 2)"
   ]
  },
  {
   "cell_type": "code",
   "execution_count": 655,
   "metadata": {},
   "outputs": [],
   "source": [
    "df_10<-df_mimic_prop_AKI[df_mimic_prop_AKI$prop_map_48_AKI>=0.05 & df_mimic_prop_AKI$prop_map_48_AKI<=0.15,]\n",
    "df_40<-df_mimic_prop_AKI[df_mimic_prop_AKI$prop_map_48_AKI>=0.35 & df_mimic_prop_AKI$prop_map_48_AKI<=0.45,]"
   ]
  },
  {
   "cell_type": "code",
   "execution_count": 659,
   "metadata": {},
   "outputs": [],
   "source": [
    "df_10<-df_mimic_prop_AKI[df_mimic_prop_AKI$prop_map_72_AKI>=0.05 & df_mimic_prop_AKI$prop_map_72_AKI<=0.15,]\n",
    "df_40<-df_mimic_prop_AKI[df_mimic_prop_AKI$prop_map_72_AKI>=0.35 & df_mimic_prop_AKI$prop_map_72_AKI<=0.45,]"
   ]
  },
  {
   "cell_type": "code",
   "execution_count": 658,
   "metadata": {},
   "outputs": [
    {
     "data": {
      "text/html": [
       "<ol class=list-inline>\n",
       "\t<li>657</li>\n",
       "\t<li>40</li>\n",
       "</ol>\n"
      ],
      "text/latex": [
       "\\begin{enumerate*}\n",
       "\\item 657\n",
       "\\item 40\n",
       "\\end{enumerate*}\n"
      ],
      "text/markdown": [
       "1. 657\n",
       "2. 40\n",
       "\n",
       "\n"
      ],
      "text/plain": [
       "[1] 657  40"
      ]
     },
     "metadata": {},
     "output_type": "display_data"
    },
    {
     "data": {
      "text/html": [
       "<ol class=list-inline>\n",
       "\t<li>1263</li>\n",
       "\t<li>40</li>\n",
       "</ol>\n"
      ],
      "text/latex": [
       "\\begin{enumerate*}\n",
       "\\item 1263\n",
       "\\item 40\n",
       "\\end{enumerate*}\n"
      ],
      "text/markdown": [
       "1. 1263\n",
       "2. 40\n",
       "\n",
       "\n"
      ],
      "text/plain": [
       "[1] 1263   40"
      ]
     },
     "metadata": {},
     "output_type": "display_data"
    }
   ],
   "source": [
    "dim(df_10)\n",
    "dim(df_40)"
   ]
  },
  {
   "cell_type": "code",
   "execution_count": 660,
   "metadata": {},
   "outputs": [
    {
     "name": "stdout",
     "output_type": "stream",
     "text": [
      "[1]  599 1085   58  178\n"
     ]
    },
    {
     "data": {
      "text/html": [
       "0.911719939117199"
      ],
      "text/latex": [
       "0.911719939117199"
      ],
      "text/markdown": [
       "0.911719939117199"
      ],
      "text/plain": [
       "[1] 0.9117199"
      ]
     },
     "metadata": {},
     "output_type": "display_data"
    },
    {
     "data": {
      "text/html": [
       "0.859065716547902"
      ],
      "text/latex": [
       "0.859065716547902"
      ],
      "text/markdown": [
       "0.859065716547902"
      ],
      "text/plain": [
       "[1] 0.8590657"
      ]
     },
     "metadata": {},
     "output_type": "display_data"
    },
    {
     "data": {
      "text/html": [
       "<dl>\n",
       "\t<dt>$data</dt>\n",
       "\t\t<dd><table>\n",
       "<thead><tr><th></th><th scope=col>Disease1</th><th scope=col>Disease2</th><th scope=col>Total</th></tr></thead>\n",
       "<tbody>\n",
       "\t<tr><th scope=row>Exposed1</th><td> 599</td><td> 58 </td><td> 657</td></tr>\n",
       "\t<tr><th scope=row>Exposed2</th><td>1085</td><td>178 </td><td>1263</td></tr>\n",
       "\t<tr><th scope=row>Total</th><td>1684</td><td>236 </td><td>1920</td></tr>\n",
       "</tbody>\n",
       "</table>\n",
       "</dd>\n",
       "\t<dt>$measure</dt>\n",
       "\t\t<dd><table>\n",
       "<thead><tr><th></th><th scope=col>estimate</th><th scope=col>lower</th><th scope=col>upper</th></tr></thead>\n",
       "<tbody>\n",
       "\t<tr><th scope=row>Exposed1</th><td>1.000000</td><td>      NA</td><td>      NA</td></tr>\n",
       "\t<tr><th scope=row>Exposed2</th><td>1.690953</td><td>1.244049</td><td>2.329331</td></tr>\n",
       "</tbody>\n",
       "</table>\n",
       "</dd>\n",
       "\t<dt>$p.value</dt>\n",
       "\t\t<dd><table>\n",
       "<thead><tr><th></th><th scope=col>midp.exact</th><th scope=col>fisher.exact</th><th scope=col>chi.square</th></tr></thead>\n",
       "<tbody>\n",
       "\t<tr><th scope=row>Exposed1</th><td>          NA</td><td>          NA</td><td>          NA</td></tr>\n",
       "\t<tr><th scope=row>Exposed2</th><td>0.0006800098</td><td>0.0007387379</td><td>0.0008566447</td></tr>\n",
       "</tbody>\n",
       "</table>\n",
       "</dd>\n",
       "\t<dt>$correction</dt>\n",
       "\t\t<dd>FALSE</dd>\n",
       "</dl>\n"
      ],
      "text/latex": [
       "\\begin{description}\n",
       "\\item[\\$data] \\begin{tabular}{r|lll}\n",
       "  & Disease1 & Disease2 & Total\\\\\n",
       "\\hline\n",
       "\tExposed1 &  599 &  58  &  657\\\\\n",
       "\tExposed2 & 1085 & 178  & 1263\\\\\n",
       "\tTotal & 1684 & 236  & 1920\\\\\n",
       "\\end{tabular}\n",
       "\n",
       "\\item[\\$measure] \\begin{tabular}{r|lll}\n",
       "  & estimate & lower & upper\\\\\n",
       "\\hline\n",
       "\tExposed1 & 1.000000 &       NA &       NA\\\\\n",
       "\tExposed2 & 1.690953 & 1.244049 & 2.329331\\\\\n",
       "\\end{tabular}\n",
       "\n",
       "\\item[\\$p.value] \\begin{tabular}{r|lll}\n",
       "  & midp.exact & fisher.exact & chi.square\\\\\n",
       "\\hline\n",
       "\tExposed1 &           NA &           NA &           NA\\\\\n",
       "\tExposed2 & 0.0006800098 & 0.0007387379 & 0.0008566447\\\\\n",
       "\\end{tabular}\n",
       "\n",
       "\\item[\\$correction] FALSE\n",
       "\\end{description}\n"
      ],
      "text/markdown": [
       "$data\n",
       ":   \n",
       "| <!--/--> | Disease1 | Disease2 | Total | \n",
       "|---|---|---|\n",
       "| Exposed1 |  599 |  58  |  657 | \n",
       "| Exposed2 | 1085 | 178  | 1263 | \n",
       "| Total | 1684 | 236  | 1920 | \n",
       "\n",
       "\n",
       "\n",
       "$measure\n",
       ":   \n",
       "| <!--/--> | estimate | lower | upper | \n",
       "|---|---|\n",
       "| Exposed1 | 1.000000 |       NA |       NA | \n",
       "| Exposed2 | 1.690953 | 1.244049 | 2.329331 | \n",
       "\n",
       "\n",
       "\n",
       "$p.value\n",
       ":   \n",
       "| <!--/--> | midp.exact | fisher.exact | chi.square | \n",
       "|---|---|\n",
       "| Exposed1 |           NA |           NA |           NA | \n",
       "| Exposed2 | 0.0006800098 | 0.0007387379 | 0.0008566447 | \n",
       "\n",
       "\n",
       "\n",
       "$correction\n",
       ":   FALSE\n",
       "\n",
       "\n"
      ],
      "text/plain": [
       "$data\n",
       "          Outcome\n",
       "Predictor  Disease1 Disease2 Total\n",
       "  Exposed1      599       58   657\n",
       "  Exposed2     1085      178  1263\n",
       "  Total        1684      236  1920\n",
       "\n",
       "$measure\n",
       "          odds ratio with 95% C.I.\n",
       "Predictor  estimate    lower    upper\n",
       "  Exposed1 1.000000       NA       NA\n",
       "  Exposed2 1.690953 1.244049 2.329331\n",
       "\n",
       "$p.value\n",
       "          two-sided\n",
       "Predictor    midp.exact fisher.exact   chi.square\n",
       "  Exposed1           NA           NA           NA\n",
       "  Exposed2 0.0006800098 0.0007387379 0.0008566447\n",
       "\n",
       "$correction\n",
       "[1] FALSE\n",
       "\n",
       "attr(,\"method\")\n",
       "[1] \"median-unbiased estimate & mid-p exact CI\""
      ]
     },
     "metadata": {},
     "output_type": "display_data"
    }
   ],
   "source": [
    "a<-length(df_10[df_10$AKI_7d==1,1]) # exposed\n",
    "c<-length(df_10[df_10$AKI_7d==0,1])\n",
    "b<-length(df_40[df_40$AKI_7d==1,1]) # control\n",
    "d<-length(df_40[df_40$AKI_7d==0,1])\n",
    "print(c(a,b,c,d))\n",
    "a/(a+c)\n",
    "b/(b+d)\n",
    "oddsratio(matrix(c(a,b,c,d), ncol=2, nrow=2))"
   ]
  },
  {
   "cell_type": "code",
   "execution_count": null,
   "metadata": {},
   "outputs": [],
   "source": []
  }
 ],
 "metadata": {
  "kernelspec": {
   "display_name": "R",
   "language": "R",
   "name": "ir"
  },
  "language_info": {
   "codemirror_mode": "r",
   "file_extension": ".r",
   "mimetype": "text/x-r-source",
   "name": "R",
   "pygments_lexer": "r",
   "version": "3.5.0"
  }
 },
 "nbformat": 4,
 "nbformat_minor": 2
}
