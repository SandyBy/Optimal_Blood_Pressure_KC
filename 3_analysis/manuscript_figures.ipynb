{
 "cells": [
  {
   "cell_type": "code",
   "execution_count": 2,
   "metadata": {},
   "outputs": [],
   "source": [
    "library(mgcv)\n",
    "library(dplyr)\n",
    "library(gdata)\n",
    "library(epitools)\n",
    "library(tableone)"
   ]
  },
  {
   "cell_type": "code",
   "execution_count": 2238,
   "metadata": {},
   "outputs": [
    {
     "data": {
      "text/html": [
       "<table>\n",
       "<thead><tr><th scope=col>icustay_id</th><th scope=col>age</th><th scope=col>gender</th><th scope=col>ethnicity</th><th scope=col>unittype</th><th scope=col>icu_mortality</th><th scope=col>hospital_expire_flag</th><th scope=col>sofatotal</th><th scope=col>vasso_duration_24h</th><th scope=col>vasso_duration_48h</th><th scope=col>⋯</th><th scope=col>ibp_diastolic_24h</th><th scope=col>ibp_diastolic_48h</th><th scope=col>ibp_diastolic_72h</th><th scope=col>ibp_mean_24h</th><th scope=col>ibp_mean_48h</th><th scope=col>ibp_mean_72h</th><th scope=col>bmi</th><th scope=col>AKI_7d</th><th scope=col>mortality_7d</th><th scope=col>use_vasopressor</th></tr></thead>\n",
       "<tbody>\n",
       "\t<tr><td>271147    </td><td>54        </td><td>F         </td><td>WHITE     </td><td>SICU      </td><td>0         </td><td>0         </td><td>2         </td><td>13.8500000</td><td>13.8500000</td><td>⋯         </td><td>47        </td><td>50        </td><td>50        </td><td>66.5      </td><td>68        </td><td>68        </td><td>31.65708  </td><td>1         </td><td>0         </td><td>1         </td></tr>\n",
       "\t<tr><td>214619    </td><td>21        </td><td>M         </td><td>HISPANIC  </td><td>TSICU     </td><td>0         </td><td>0         </td><td>2         </td><td> 0.9166667</td><td> 0.9166667</td><td>⋯         </td><td>67        </td><td>72        </td><td>72        </td><td>84.0      </td><td>91        </td><td>92        </td><td>25.42990  </td><td>0         </td><td>0         </td><td>1         </td></tr>\n",
       "</tbody>\n",
       "</table>\n"
      ],
      "text/latex": [
       "\\begin{tabular}{r|llllllllllllllllllllllllllllllllllll}\n",
       " icustay\\_id & age & gender & ethnicity & unittype & icu\\_mortality & hospital\\_expire\\_flag & sofatotal & vasso\\_duration\\_24h & vasso\\_duration\\_48h & ⋯ & ibp\\_diastolic\\_24h & ibp\\_diastolic\\_48h & ibp\\_diastolic\\_72h & ibp\\_mean\\_24h & ibp\\_mean\\_48h & ibp\\_mean\\_72h & bmi & AKI\\_7d & mortality\\_7d & use\\_vasopressor\\\\\n",
       "\\hline\n",
       "\t 271147     & 54         & F          & WHITE      & SICU       & 0          & 0          & 2          & 13.8500000 & 13.8500000 & ⋯          & 47         & 50         & 50         & 66.5       & 68         & 68         & 31.65708   & 1          & 0          & 1         \\\\\n",
       "\t 214619     & 21         & M          & HISPANIC   & TSICU      & 0          & 0          & 2          &  0.9166667 &  0.9166667 & ⋯          & 67         & 72         & 72         & 84.0       & 91         & 92         & 25.42990   & 0          & 0          & 1         \\\\\n",
       "\\end{tabular}\n"
      ],
      "text/markdown": [
       "\n",
       "icustay_id | age | gender | ethnicity | unittype | icu_mortality | hospital_expire_flag | sofatotal | vasso_duration_24h | vasso_duration_48h | ⋯ | ibp_diastolic_24h | ibp_diastolic_48h | ibp_diastolic_72h | ibp_mean_24h | ibp_mean_48h | ibp_mean_72h | bmi | AKI_7d | mortality_7d | use_vasopressor | \n",
       "|---|---|\n",
       "| 271147     | 54         | F          | WHITE      | SICU       | 0          | 0          | 2          | 13.8500000 | 13.8500000 | ⋯          | 47         | 50         | 50         | 66.5       | 68         | 68         | 31.65708   | 1          | 0          | 1          | \n",
       "| 214619     | 21         | M          | HISPANIC   | TSICU      | 0          | 0          | 2          |  0.9166667 |  0.9166667 | ⋯          | 67         | 72         | 72         | 84.0       | 91         | 92         | 25.42990   | 0          | 0          | 1          | \n",
       "\n",
       "\n"
      ],
      "text/plain": [
       "  icustay_id age gender ethnicity unittype icu_mortality hospital_expire_flag\n",
       "1 271147     54  F      WHITE     SICU     0             0                   \n",
       "2 214619     21  M      HISPANIC  TSICU    0             0                   \n",
       "  sofatotal vasso_duration_24h vasso_duration_48h ⋯ ibp_diastolic_24h\n",
       "1 2         13.8500000         13.8500000         ⋯ 47               \n",
       "2 2          0.9166667          0.9166667         ⋯ 67               \n",
       "  ibp_diastolic_48h ibp_diastolic_72h ibp_mean_24h ibp_mean_48h ibp_mean_72h\n",
       "1 50                50                66.5         68           68          \n",
       "2 72                72                84.0         91           92          \n",
       "  bmi      AKI_7d mortality_7d use_vasopressor\n",
       "1 31.65708 1      0            1              \n",
       "2 25.42990 0      0            1              "
      ]
     },
     "metadata": {},
     "output_type": "display_data"
    }
   ],
   "source": [
    "head(df_mimic,2)"
   ]
  },
  {
   "cell_type": "code",
   "execution_count": 30,
   "metadata": {},
   "outputs": [
    {
     "data": {
      "text/html": [
       "<table>\n",
       "<thead><tr><th scope=col>patientunitstayid</th><th scope=col>age</th><th scope=col>gender</th><th scope=col>ethnicity</th><th scope=col>unittype</th><th scope=col>icu_mortality</th><th scope=col>hospital_expire_flag</th><th scope=col>apache_iv</th><th scope=col>sofatotal</th><th scope=col>vasso_duration_24h</th><th scope=col>⋯</th><th scope=col>prop_map_24</th><th scope=col>propBelow_asp_24</th><th scope=col>propAbove_asp_24</th><th scope=col>prop_asp_24</th><th scope=col>propBelow_adp_24</th><th scope=col>propAbove_adp_24</th><th scope=col>prop_adp_24</th><th scope=col>prop_map_24_AKI</th><th scope=col>prop_asp_24_AKI</th><th scope=col>prop_adp_24_AKI</th></tr></thead>\n",
       "<tbody>\n",
       "\t<tr><td>141194     </td><td>68         </td><td>M          </td><td>Caucasian  </td><td>CTICU      </td><td>0          </td><td>0          </td><td>70         </td><td> 3         </td><td> 0.00      </td><td>⋯          </td><td>0.04166667 </td><td>0.7500000  </td><td>0.04166667 </td><td>0.2083333  </td><td>1.0000000  </td><td>0.000000000</td><td>0.00000000 </td><td>0.04166667 </td><td>0.2500000  </td><td>0.00000000 </td></tr>\n",
       "\t<tr><td>141233     </td><td>81         </td><td>F          </td><td>Caucasian  </td><td>CTICU      </td><td>0          </td><td>0          </td><td>66         </td><td>12         </td><td>23.97      </td><td>⋯          </td><td>0.50467290 </td><td>0.3271028  </td><td>0.45794393 </td><td>0.2149533  </td><td>0.9065421  </td><td>0.009345794</td><td>0.08411215 </td><td>0.65420561 </td><td>0.6728972  </td><td>0.09345794 </td></tr>\n",
       "</tbody>\n",
       "</table>\n"
      ],
      "text/latex": [
       "\\begin{tabular}{r|lllllllllllllllllllllllllllllllllllllllllllllllll}\n",
       " patientunitstayid & age & gender & ethnicity & unittype & icu\\_mortality & hospital\\_expire\\_flag & apache\\_iv & sofatotal & vasso\\_duration\\_24h & ⋯ & prop\\_map\\_24 & propBelow\\_asp\\_24 & propAbove\\_asp\\_24 & prop\\_asp\\_24 & propBelow\\_adp\\_24 & propAbove\\_adp\\_24 & prop\\_adp\\_24 & prop\\_map\\_24\\_AKI & prop\\_asp\\_24\\_AKI & prop\\_adp\\_24\\_AKI\\\\\n",
       "\\hline\n",
       "\t 141194      & 68          & M           & Caucasian   & CTICU       & 0           & 0           & 70          &  3          &  0.00       & ⋯           & 0.04166667  & 0.7500000   & 0.04166667  & 0.2083333   & 1.0000000   & 0.000000000 & 0.00000000  & 0.04166667  & 0.2500000   & 0.00000000 \\\\\n",
       "\t 141233      & 81          & F           & Caucasian   & CTICU       & 0           & 0           & 66          & 12          & 23.97       & ⋯           & 0.50467290  & 0.3271028   & 0.45794393  & 0.2149533   & 0.9065421   & 0.009345794 & 0.08411215  & 0.65420561  & 0.6728972   & 0.09345794 \\\\\n",
       "\\end{tabular}\n"
      ],
      "text/markdown": [
       "\n",
       "patientunitstayid | age | gender | ethnicity | unittype | icu_mortality | hospital_expire_flag | apache_iv | sofatotal | vasso_duration_24h | ⋯ | prop_map_24 | propBelow_asp_24 | propAbove_asp_24 | prop_asp_24 | propBelow_adp_24 | propAbove_adp_24 | prop_adp_24 | prop_map_24_AKI | prop_asp_24_AKI | prop_adp_24_AKI | \n",
       "|---|---|\n",
       "| 141194      | 68          | M           | Caucasian   | CTICU       | 0           | 0           | 70          |  3          |  0.00       | ⋯           | 0.04166667  | 0.7500000   | 0.04166667  | 0.2083333   | 1.0000000   | 0.000000000 | 0.00000000  | 0.04166667  | 0.2500000   | 0.00000000  | \n",
       "| 141233      | 81          | F           | Caucasian   | CTICU       | 0           | 0           | 66          | 12          | 23.97       | ⋯           | 0.50467290  | 0.3271028   | 0.45794393  | 0.2149533   | 0.9065421   | 0.009345794 | 0.08411215  | 0.65420561  | 0.6728972   | 0.09345794  | \n",
       "\n",
       "\n"
      ],
      "text/plain": [
       "  patientunitstayid age gender ethnicity unittype icu_mortality\n",
       "1 141194            68  M      Caucasian CTICU    0            \n",
       "2 141233            81  F      Caucasian CTICU    0            \n",
       "  hospital_expire_flag apache_iv sofatotal vasso_duration_24h ⋯ prop_map_24\n",
       "1 0                    70         3         0.00              ⋯ 0.04166667 \n",
       "2 0                    66        12        23.97              ⋯ 0.50467290 \n",
       "  propBelow_asp_24 propAbove_asp_24 prop_asp_24 propBelow_adp_24\n",
       "1 0.7500000        0.04166667       0.2083333   1.0000000       \n",
       "2 0.3271028        0.45794393       0.2149533   0.9065421       \n",
       "  propAbove_adp_24 prop_adp_24 prop_map_24_AKI prop_asp_24_AKI prop_adp_24_AKI\n",
       "1 0.000000000      0.00000000  0.04166667      0.2500000       0.00000000     \n",
       "2 0.009345794      0.08411215  0.65420561      0.6728972       0.09345794     "
      ]
     },
     "metadata": {},
     "output_type": "display_data"
    }
   ],
   "source": [
    "df<- read.csv(\"csv_folder/eicu_clean_19Aug.csv\", stringsAsFactors = TRUE)\n",
    "df$age<- as.integer(df$age)\n",
    "df$gender<- factor(df$gender)\n",
    "df$ethnicity<- factor(df$ethnicity)\n",
    "cols <- c(18:29)\n",
    "df[cols] <- lapply(df[cols], factor)  \n",
    "df_eicu<- df[,-c(1,7,8,10,12,39,41)]\n",
    "df_eicu$hosp_mort <-ifelse(df_eicu$hosp_mort=='ALIVE',0,1)\n",
    "df_eicu$icu_mort<-ifelse(df_eicu$icu_mort=='ALIVE',0,1)\n",
    "df_eicu$gender <-ifelse(df_eicu$gender=='Female','F','M')\n",
    "#df_eicu$gender<-df_eicu$Gender\n",
    "df_eicu <- df_eicu %>% rename(vasso_duration_24h = X24hrs_hr, \n",
    "                              vasso_duration_48h = X48hrs_hr,\n",
    "                              vasso_duration_72h = X72hrs_hr,\n",
    "                              mechanical_ventilation = ventilation_duration_days,\n",
    "                              sepsis = sepsis_binary,\n",
    "                              hospital_expire_flag = hosp_mort,\n",
    "                              icu_mortality = icu_mort,\n",
    "                              stroke = cebrovascular_accident,\n",
    "                              afib = atrial_fibrillation\n",
    "                                )\n",
    "df_eicu$use_vasopressor<- ifelse(df_eicu$vasso_duration_24h>0,1,0)\n",
    "\n",
    "\n",
    "df_eicu_aki <-df_eicu[df_eicu$mortality_7d == 'ALIVE',]\n",
    "eicu_prop <- read.csv(\"csv_folder/eicu_prop_24h.csv\",stringsAsFactors = TRUE)\n",
    "df_eicu_prop <- merge(x = df_eicu, y = eicu_prop[ ,  -1], by = \"patientunitstayid\", all.x=TRUE)\n",
    "df_eicu_prop_AKI <-df_eicu_prop\n",
    "df_eicu_prop_AKI$prop_map_24_AKI<- 1- df_eicu_prop_AKI$propBelow_map_24\n",
    "df_eicu_prop_AKI$prop_asp_24_AKI<- 1- df_eicu_prop_AKI$propBelow_asp_24\n",
    "df_eicu_prop_AKI$prop_adp_24_AKI<- 1- df_eicu_prop_AKI$propBelow_adp_24\n",
    "df_eicu_prop_AKI <-df_eicu_prop_AKI[df_eicu_prop_AKI$mortality_7d == 'ALIVE',]\n",
    "\n",
    "eicu_prop_48 <- read.csv(\"csv_folder/eicu_prop_48h.csv\",stringsAsFactors = TRUE)\n",
    "df_eicu_prop_48 <- merge(x = df_eicu, y = eicu_prop_48[ ,  -1], by = \"patientunitstayid\", all.x=TRUE)\n",
    "df_eicu_prop_AKI_48 <-df_eicu_prop_48\n",
    "df_eicu_prop_AKI_48$prop_map_48_AKI<- 1- df_eicu_prop_AKI_48$propBelow_map_48\n",
    "df_eicu_prop_AKI_48$prop_asp_48_AKI<- 1- df_eicu_prop_AKI_48$propBelow_asp_48\n",
    "df_eicu_prop_AKI_48$prop_adp_48_AKI<- 1- df_eicu_prop_AKI_48$propBelow_adp_48\n",
    "df_eicu_prop_AKI_48 <-df_eicu_prop_AKI_48[df_eicu_prop_AKI_48$mortality_7d == 'ALIVE',]\n",
    "\n",
    "eicu_prop_72 <- read.csv(\"csv_folder/eicu_prop_72h.csv\",stringsAsFactors = TRUE)\n",
    "df_eicu_prop_72 <- merge(x = df_eicu, y = eicu_prop_72[ ,  -1], by = \"patientunitstayid\", all.x=TRUE)\n",
    "df_eicu_prop_AKI_72 <-df_eicu_prop_72\n",
    "df_eicu_prop_AKI_72$prop_map_72_AKI<- 1- df_eicu_prop_AKI_72$propBelow_map_72\n",
    "df_eicu_prop_AKI_72$prop_asp_72_AKI<- 1- df_eicu_prop_AKI_72$propBelow_asp_72\n",
    "df_eicu_prop_AKI_72$prop_adp_72_AKI<- 1- df_eicu_prop_AKI_72$propBelow_adp_72\n",
    "df_eicu_prop_AKI_72 <-df_eicu_prop_AKI_72[df_eicu_prop_AKI_72$mortality_7d == 'ALIVE',]\n",
    "\n",
    "head(df_eicu_prop_AKI, n = 2)"
   ]
  },
  {
   "cell_type": "code",
   "execution_count": 31,
   "metadata": {},
   "outputs": [
    {
     "data": {
      "text/html": [
       "<table>\n",
       "<thead><tr><th scope=col>icustay_id</th><th scope=col>age</th><th scope=col>gender</th><th scope=col>ethnicity</th><th scope=col>unittype</th><th scope=col>icu_mortality</th><th scope=col>hospital_expire_flag</th><th scope=col>sofatotal</th><th scope=col>vasso_duration_24h</th><th scope=col>vasso_duration_48h</th><th scope=col>⋯</th><th scope=col>prop_map_24</th><th scope=col>propBelow_asp_24</th><th scope=col>propAbove_asp_24</th><th scope=col>prop_asp_24</th><th scope=col>propBelow_adp_24</th><th scope=col>propAbove_adp_24</th><th scope=col>prop_adp_24</th><th scope=col>prop_map_24_AKI</th><th scope=col>prop_asp_24_AKI</th><th scope=col>prop_adp_24_AKI</th></tr></thead>\n",
       "<tbody>\n",
       "\t<tr><td>200003    </td><td>48        </td><td>M         </td><td>WHITE     </td><td>SICU      </td><td>0         </td><td>0         </td><td>6         </td><td>1.084444  </td><td>17.33444  </td><td>⋯         </td><td>0.4705882 </td><td>0.4375000 </td><td>0.1875000 </td><td>0.3750000 </td><td>0.06250000</td><td>0.7500000 </td><td>0.1875000 </td><td>0.9411765 </td><td>0.5625000 </td><td>0.9375000 </td></tr>\n",
       "\t<tr><td>200009    </td><td>47        </td><td>F         </td><td>WHITE     </td><td>CSRU      </td><td>0         </td><td>0         </td><td>3         </td><td>0.000000  </td><td> 0.00000  </td><td>⋯         </td><td>0.1935484 </td><td>0.7096774 </td><td>0.1612903 </td><td>0.1290323 </td><td>0.03225806</td><td>0.3548387 </td><td>0.6129032 </td><td>0.4516129 </td><td>0.2903226 </td><td>0.9677419 </td></tr>\n",
       "</tbody>\n",
       "</table>\n"
      ],
      "text/latex": [
       "\\begin{tabular}{r|llllllllllllllllllllllllllllllllllllllllllllllll}\n",
       " icustay\\_id & age & gender & ethnicity & unittype & icu\\_mortality & hospital\\_expire\\_flag & sofatotal & vasso\\_duration\\_24h & vasso\\_duration\\_48h & ⋯ & prop\\_map\\_24 & propBelow\\_asp\\_24 & propAbove\\_asp\\_24 & prop\\_asp\\_24 & propBelow\\_adp\\_24 & propAbove\\_adp\\_24 & prop\\_adp\\_24 & prop\\_map\\_24\\_AKI & prop\\_asp\\_24\\_AKI & prop\\_adp\\_24\\_AKI\\\\\n",
       "\\hline\n",
       "\t 200003     & 48         & M          & WHITE      & SICU       & 0          & 0          & 6          & 1.084444   & 17.33444   & ⋯          & 0.4705882  & 0.4375000  & 0.1875000  & 0.3750000  & 0.06250000 & 0.7500000  & 0.1875000  & 0.9411765  & 0.5625000  & 0.9375000 \\\\\n",
       "\t 200009     & 47         & F          & WHITE      & CSRU       & 0          & 0          & 3          & 0.000000   &  0.00000   & ⋯          & 0.1935484  & 0.7096774  & 0.1612903  & 0.1290323  & 0.03225806 & 0.3548387  & 0.6129032  & 0.4516129  & 0.2903226  & 0.9677419 \\\\\n",
       "\\end{tabular}\n"
      ],
      "text/markdown": [
       "\n",
       "icustay_id | age | gender | ethnicity | unittype | icu_mortality | hospital_expire_flag | sofatotal | vasso_duration_24h | vasso_duration_48h | ⋯ | prop_map_24 | propBelow_asp_24 | propAbove_asp_24 | prop_asp_24 | propBelow_adp_24 | propAbove_adp_24 | prop_adp_24 | prop_map_24_AKI | prop_asp_24_AKI | prop_adp_24_AKI | \n",
       "|---|---|\n",
       "| 200003     | 48         | M          | WHITE      | SICU       | 0          | 0          | 6          | 1.084444   | 17.33444   | ⋯          | 0.4705882  | 0.4375000  | 0.1875000  | 0.3750000  | 0.06250000 | 0.7500000  | 0.1875000  | 0.9411765  | 0.5625000  | 0.9375000  | \n",
       "| 200009     | 47         | F          | WHITE      | CSRU       | 0          | 0          | 3          | 0.000000   |  0.00000   | ⋯          | 0.1935484  | 0.7096774  | 0.1612903  | 0.1290323  | 0.03225806 | 0.3548387  | 0.6129032  | 0.4516129  | 0.2903226  | 0.9677419  | \n",
       "\n",
       "\n"
      ],
      "text/plain": [
       "  icustay_id age gender ethnicity unittype icu_mortality hospital_expire_flag\n",
       "1 200003     48  M      WHITE     SICU     0             0                   \n",
       "2 200009     47  F      WHITE     CSRU     0             0                   \n",
       "  sofatotal vasso_duration_24h vasso_duration_48h ⋯ prop_map_24\n",
       "1 6         1.084444           17.33444           ⋯ 0.4705882  \n",
       "2 3         0.000000            0.00000           ⋯ 0.1935484  \n",
       "  propBelow_asp_24 propAbove_asp_24 prop_asp_24 propBelow_adp_24\n",
       "1 0.4375000        0.1875000        0.3750000   0.06250000      \n",
       "2 0.7096774        0.1612903        0.1290323   0.03225806      \n",
       "  propAbove_adp_24 prop_adp_24 prop_map_24_AKI prop_asp_24_AKI prop_adp_24_AKI\n",
       "1 0.7500000        0.1875000   0.9411765       0.5625000       0.9375000      \n",
       "2 0.3548387        0.6129032   0.4516129       0.2903226       0.9677419      "
      ]
     },
     "metadata": {},
     "output_type": "display_data"
    }
   ],
   "source": [
    "df1 <- read.csv(\"csv_folder/mimic_clean_19Aug.csv\", \n",
    "               stringsAsFactors = TRUE)\n",
    "df1$age<- as.integer(df1$age)\n",
    "df1$icu_mortality<- factor(df1$icu_mortality)\n",
    "\n",
    "cols <- c(17:28,39,40 )\n",
    "df1[cols] <- lapply(df1[cols], factor)  \n",
    "df_mimic<- df1[,-c(1,7,8,10,12)]\n",
    "df_mimic <- df_mimic %>% rename(vasso_duration_24h = first_24_vasso_hours, \n",
    "                                vasso_duration_48h = first_48_vasso_hours,\n",
    "                                vasso_duration_72h = first_72_vasso_hours,\n",
    "                                unittype = first_careunit,\n",
    "                                ethnicity = ethnicity_new, \n",
    "                                AKI_7d =aki_7day,\n",
    "                                sofatotal = sofa,\n",
    "                                mechanical_ventilation = vent_duration_days,\n",
    "                                chf = congestive_heart_failure,\n",
    "                                stroke = cereb)\n",
    "df_mimic$use_vasopressor <- ifelse(df_mimic$vasso_duration_24h>0,1,0)\n",
    "\n",
    "df_mimic_aki <-df_mimic[df_mimic$mortality_7d == 0,]\n",
    "mimic_prop <- read.csv(\"csv_folder/mimic_prop_24h.csv\",stringsAsFactors = TRUE)\n",
    "# mimic_prop_AKI <- read.csv(\"csv_folder/mimic_prop_map_48h_72h.csv\",stringsAsFactors = TRUE)\n",
    "\n",
    "df_mimic_prop <- merge(x = df_mimic, y = mimic_prop[ ,  -1], by = \"icustay_id\", all.x=TRUE)\n",
    "df_mimic_prop_AKI <- df_mimic_prop\n",
    "df_mimic_prop_AKI$prop_map_24_AKI<-1-df_mimic_prop_AKI$propBelow_map_24\n",
    "df_mimic_prop_AKI$prop_asp_24_AKI<-1-df_mimic_prop_AKI$propBelow_asp_24\n",
    "df_mimic_prop_AKI$prop_adp_24_AKI<-1-df_mimic_prop_AKI$propBelow_adp_24\n",
    "df_mimic_prop_AKI <-df_mimic_prop_AKI[df_mimic_prop_AKI$mortality_7d==0,]\n",
    "\n",
    "mimic_prop_48 <- read.csv(\"csv_folder/mimic_prop_48h.csv\",stringsAsFactors = TRUE)\n",
    "df_mimic_prop_48 <- merge(x = df_mimic, y = mimic_prop_48[ ,  -1], by = \"icustay_id\", all.x=TRUE)\n",
    "df_mimic_prop_AKI_48 <-df_mimic_prop_48\n",
    "df_mimic_prop_AKI_48$prop_map_48_AKI<- 1- df_mimic_prop_AKI_48$propBelow_map_48\n",
    "df_mimic_prop_AKI_48$prop_asp_48_AKI<- 1- df_mimic_prop_AKI_48$propBelow_asp_48\n",
    "df_mimic_prop_AKI_48$prop_adp_48_AKI<- 1- df_mimic_prop_AKI_48$propBelow_adp_48\n",
    "df_mimic_prop_AKI_48 <-df_mimic_prop_AKI_48[df_mimic_prop_AKI_48$mortality_7d==0,]\n",
    "\n",
    "mimic_prop_72 <- read.csv(\"csv_folder/mimic_prop_72h.csv\",stringsAsFactors = TRUE)\n",
    "df_mimic_prop_72 <- merge(x = df_mimic, y = mimic_prop_72[ ,  -1], by = \"icustay_id\", all.x=TRUE)\n",
    "df_mimic_prop_AKI_72 <-df_mimic_prop_72\n",
    "df_mimic_prop_AKI_72$prop_map_72_AKI<- 1- df_mimic_prop_AKI_72$propBelow_map_72\n",
    "df_mimic_prop_AKI_72$prop_asp_72_AKI<- 1- df_mimic_prop_AKI_72$propBelow_asp_72\n",
    "df_mimic_prop_AKI_72$prop_adp_72_AKI<- 1- df_mimic_prop_AKI_72$propBelow_adp_72\n",
    "df_mimic_prop_AKI_72 <-df_mimic_prop_AKI_72[df_mimic_prop_AKI_72$mortality_7d==0,]\n",
    "\n",
    "head(df_mimic_prop_AKI, n = 2)"
   ]
  },
  {
   "cell_type": "markdown",
   "metadata": {},
   "source": [
    "# table 1 eicu"
   ]
  },
  {
   "cell_type": "code",
   "execution_count": 584,
   "metadata": {},
   "outputs": [],
   "source": [
    "\n",
    "xvars<-c(\"gender\",\"age\",\"bmi\",\"ethnicity\",\"unittype\",\"sofatotal\",\n",
    "         \"apache_iv\",\n",
    "         \"ibp_systolic_24h\", \"ibp_diastolic_24h\",\"ibp_mean_24h\",\n",
    "#          \"ibp_systolic_48h\", \"ibp_diastolic_48h\",\"ibp_mean_48h\",\n",
    "#          \"ibp_systolic_72h\",\"ibp_diastolic_72h\",\"ibp_mean_72h\",\n",
    "    \n",
    "         \"hypertension\",\"afib\",\"cancer\",\"chf\",\"ckd\",\"cld\",\"copd\",\"diabetes\",\"ihd\",\"stroke\",\n",
    "         \"sepsis\",\n",
    "         \n",
    "         \"hospital_expire_flag\",\"AKI_7d\",\"icu_mortality\",\"vasso_duration_24h\",\"use_vasopressor\",\"mechanical_ventilation\"\n",
    "        \n",
    "        )\n",
    "catvars<-c(\"gender\",\"ethnicity\",\"unittype\",\"hypertension\",\"afib\",\"cancer\",\"chf\",\"ckd\",\"cld\",\"copd\",\"diabetes\",\"ihd\",\"stroke\",\n",
    "         \"sepsis\",\"hospital_expire_flag\",\"AKI_7d\",\"icu_mortality\",\"use_vasopressor\",\"mechanical_ventilation\")"
   ]
  },
  {
   "cell_type": "code",
   "execution_count": 667,
   "metadata": {},
   "outputs": [
    {
     "name": "stdout",
     "output_type": "stream",
     "text": [
      "                                   \n",
      "                                    Overall             \n",
      "  n                                 14374               \n",
      "  gender = M (%)                     8439 (58.7)        \n",
      "  age (median [IQR])                 65.0 [55.0, 74.0]  \n",
      "  bmi (median [IQR])                 28.3 [24.2, 33.0]  \n",
      "  ethnicity (%)                                         \n",
      "     African American                1827 (12.7)        \n",
      "     Asian                            134 ( 0.9)        \n",
      "     Caucasian                      11218 (78.0)        \n",
      "     Hispanic                         501 ( 3.5)        \n",
      "     Native American                  101 ( 0.7)        \n",
      "     Others                           593 ( 4.1)        \n",
      "  unittype (%)                                          \n",
      "     Cardiac ICU                      526 ( 3.7)        \n",
      "     CCU-CTICU                       1508 (10.5)        \n",
      "     CSICU                           1000 ( 7.0)        \n",
      "     CTICU                           1596 (11.1)        \n",
      "     Med-Surg ICU                    6055 (42.1)        \n",
      "     MICU                            1100 ( 7.7)        \n",
      "     Neuro ICU                       1224 ( 8.5)        \n",
      "     SICU                            1365 ( 9.5)        \n",
      "  sofatotal (median [IQR])            8.0 [6.0, 11.0]   \n",
      "  apache_iv (median [IQR])           65.0 [47.0, 90.0]  \n",
      "  ibp_systolic_24h (median [IQR])   116.5 [106.0, 131.0]\n",
      "  ibp_diastolic_24h (median [IQR])   57.5 [51.0, 65.0]  \n",
      "  ibp_mean_24h (median [IQR])        76.0 [70.0, 85.0]  \n",
      "  hypertension = 1 (%)               1913 (13.3)        \n",
      "  afib = 1 (%)                       1299 ( 9.0)        \n",
      "  cancer = 1 (%)                        5 ( 0.0)        \n",
      "  chf = 1 (%)                        1117 ( 7.8)        \n",
      "  ckd = 1 (%)                        1409 ( 9.8)        \n",
      "  cld = 1 (%)                         120 ( 0.8)        \n",
      "  copd = 1 (%)                        924 ( 6.4)        \n",
      "  diabetes = 1 (%)                    155 ( 1.1)        \n",
      "  ihd = 1 (%)                         582 ( 4.0)        \n",
      "  stroke = 1 (%)                      294 ( 2.0)        \n",
      "  sepsis = 1 (%)                     1783 (12.4)        \n",
      "  hospital_expire_flag = 1 (%)       2377 (16.5)        \n",
      "  AKI_7d = 1 (%)                    12648 (88.0)        \n",
      "  icu_mortality = 1 (%)              1701 (11.8)        \n",
      "  vasso_duration_24h (median [IQR])   0.0 [0.0, 22.4]   \n",
      "  use_vasopressor = 1 (%)            6557 (45.6)        \n",
      "  mechanical_ventilation = 1 (%)     9974 (69.4)        \n"
     ]
    }
   ],
   "source": [
    "\n",
    "TableOne_eICU<-CreateTableOne(var = xvars, factorVars =catvars,data=df_eicu)\n",
    "\n",
    "print(TableOne_eICU, nonnormal = c(\"age\",\"bmi\",\"sofatotal\",\"apache_iv\",\n",
    "                                    \"ibp_systolic_24h\", \"ibp_diastolic_24h\",\"ibp_mean_24h\",\"vasso_duration_24h\"\n",
    "#                                     \"ibp_systolic_48h\", \"ibp_diastolic_48h\",\"ibp_mean_48h\",\n",
    "#                                     \"ibp_systolic_72h\",\"ibp_diastolic_72h\",\"ibp_mean_72h\"\n",
    "                                   ), \n",
    "      contDigits = 1, catDigits = 1, pDigits = 4, smd = TRUE,testName=TRUE)\n"
   ]
  },
  {
   "cell_type": "markdown",
   "metadata": {},
   "source": [
    "# table1 mimic"
   ]
  },
  {
   "cell_type": "code",
   "execution_count": 668,
   "metadata": {},
   "outputs": [
    {
     "name": "stderr",
     "output_type": "stream",
     "text": [
      "Warning message in ModuleReturnVarsExist(vars, data):\n",
      "“The data frame does not have: apache_iv  Dropped”"
     ]
    },
    {
     "name": "stdout",
     "output_type": "stream",
     "text": [
      "                                   \n",
      "                                    Overall             \n",
      "  n                                 12291               \n",
      "  gender = M (%)                     7228 (58.8)        \n",
      "  age (median [IQR])                 66.0 [53.0, 76.0]  \n",
      "  bmi (median [IQR])                 29.5 [25.7, 31.9]  \n",
      "  ethnicity (%)                                         \n",
      "     ASIAN                            291 ( 2.4)        \n",
      "     BLACK                            735 ( 6.0)        \n",
      "     HISPANIC                         366 ( 3.0)        \n",
      "     OTHERS                          2354 (19.2)        \n",
      "     WHITE                           8545 (69.5)        \n",
      "  unittype (%)                                          \n",
      "     CCU                             1290 (10.5)        \n",
      "     CSRU                            3769 (30.7)        \n",
      "     MICU                            2534 (20.6)        \n",
      "     SICU                            2522 (20.5)        \n",
      "     TSICU                           2176 (17.7)        \n",
      "  sofatotal (median [IQR])            5.0 [3.0, 7.0]    \n",
      "  ibp_systolic_24h (median [IQR])   115.0 [105.1, 129.0]\n",
      "  ibp_diastolic_24h (median [IQR])   58.0 [53.0, 65.0]  \n",
      "  ibp_mean_24h (median [IQR])        77.0 [71.0, 85.5]  \n",
      "  hypertension = 1 (%)               6514 (53.0)        \n",
      "  afib = 1 (%)                       3639 (29.6)        \n",
      "  cancer = 1 (%)                     1712 (13.9)        \n",
      "  chf = 1 (%)                        3236 (26.3)        \n",
      "  ckd = 1 (%)                         293 ( 2.4)        \n",
      "  cld = 1 (%)                         645 ( 5.2)        \n",
      "  copd = 1 (%)                        231 ( 1.9)        \n",
      "  diabetes = 1 (%)                   3148 (25.6)        \n",
      "  ihd = 1 (%)                        3068 (25.0)        \n",
      "  stroke = 1 (%)                     1044 ( 8.5)        \n",
      "  sepsis = 1 (%)                     4448 (36.2)        \n",
      "  hospital_expire_flag = 1 (%)       1772 (14.4)        \n",
      "  AKI_7d = 1 (%)                     9824 (79.9)        \n",
      "  icu_mortality = 1 (%)              1448 (11.8)        \n",
      "  vasso_duration_24h (median [IQR])   0.5 [0.0, 16.2]   \n",
      "  use_vasopressor = 1 (%)            6304 (51.3)        \n",
      "  mechanical_ventilation = 1 (%)    10226 (83.2)        \n"
     ]
    }
   ],
   "source": [
    "\n",
    "TableOne_eICU<-CreateTableOne(var = xvars, factorVars =catvars,data=df_mimic)\n",
    "\n",
    "print(TableOne_eICU, nonnormal = c(\"age\",\"bmi\",\"sofatotal\",\n",
    "                                   #\"apache_iv\",\n",
    "                                    \"ibp_systolic_24h\", \"ibp_diastolic_24h\",\"ibp_mean_24h\",\"vasso_duration_24h\"\n",
    "#                                     \"ibp_systolic_48h\", \"ibp_diastolic_48h\",\"ibp_mean_48h\",\n",
    "#                                     \"ibp_systolic_72h\",\"ibp_diastolic_72h\",\"ibp_mean_72h\"\n",
    "                                   ), \n",
    "      contDigits = 1, catDigits = 1, pDigits = 4, smd = TRUE,testName=TRUE)\n"
   ]
  },
  {
   "cell_type": "code",
   "execution_count": 587,
   "metadata": {},
   "outputs": [
    {
     "data": {
      "text/html": [
       "22.83"
      ],
      "text/latex": [
       "22.83"
      ],
      "text/markdown": [
       "22.83"
      ],
      "text/plain": [
       "[1] 22.83"
      ]
     },
     "metadata": {},
     "output_type": "display_data"
    },
    {
     "data": {
      "text/html": [
       "<dl class=dl-horizontal>\n",
       "\t<dt>0%</dt>\n",
       "\t\t<dd>0.02</dd>\n",
       "\t<dt>25%</dt>\n",
       "\t\t<dd>17.43</dd>\n",
       "\t<dt>50%</dt>\n",
       "\t\t<dd>22.83</dd>\n",
       "\t<dt>75%</dt>\n",
       "\t\t<dd>23.95</dd>\n",
       "\t<dt>100%</dt>\n",
       "\t\t<dd>24</dd>\n",
       "</dl>\n"
      ],
      "text/latex": [
       "\\begin{description*}\n",
       "\\item[0\\textbackslash{}\\%] 0.02\n",
       "\\item[25\\textbackslash{}\\%] 17.43\n",
       "\\item[50\\textbackslash{}\\%] 22.83\n",
       "\\item[75\\textbackslash{}\\%] 23.95\n",
       "\\item[100\\textbackslash{}\\%] 24\n",
       "\\end{description*}\n"
      ],
      "text/markdown": [
       "0%\n",
       ":   0.0225%\n",
       ":   17.4350%\n",
       ":   22.8375%\n",
       ":   23.95100%\n",
       ":   24\n",
       "\n"
      ],
      "text/plain": [
       "   0%   25%   50%   75%  100% \n",
       " 0.02 17.43 22.83 23.95 24.00 "
      ]
     },
     "metadata": {},
     "output_type": "display_data"
    }
   ],
   "source": [
    "x<-df_eicu$vasso_duration_24h[df_eicu$vasso_duration_24h>0]\n",
    "median(x)\n",
    "quantile(x)"
   ]
  },
  {
   "cell_type": "code",
   "execution_count": 5,
   "metadata": {},
   "outputs": [],
   "source": [
    "# Model fitting\n",
    "plot_width <- 17.2 * 0.393701 # The textwidth of our Word manuscript in inches.\n",
    "#plot_width <- 4.2126 # The Lancet asks for plots to have a width of 107mm.\n",
    "font <- \"Times\" # Text in figures should be Times New Roman according to the Lancet.\n",
    "point_size <- 10 # Per Lancet instructions\n",
    "logistic <- function(x) 1/(1+exp(-x))\n",
    "\n",
    "\n",
    "\n",
    "# Function that adds labels to subfigures, edited from:\n",
    "# https://logfc.wordpress.com/2017/03/15/adding-figure-labels-a-b-c-in-the-top-left-corner-of-the-plotting-region/\n",
    "fig_label <- function(label) {\n",
    "    cex <- 2\n",
    "    ds <- dev.size(\"in\")\n",
    "    # xy coordinates of device corners in user coordinates\n",
    "    x <- grconvertX(c(0, ds[1]), from=\"in\", to=\"user\")\n",
    "    y <- grconvertY(c(0, ds[2]), from=\"in\", to=\"user\")\n",
    "    \n",
    "    # fragment of the device we use to plot\n",
    "      # account for the fragment of the device that \n",
    "      # the figure is using\n",
    "      fig <- par(\"fig\")\n",
    "      dx <- (x[2] - x[1])\n",
    "      dy <- (y[2] - y[1])\n",
    "      x <- x[1] + dx * fig[1:2]\n",
    "      y <- y[1] + dy * fig[3:4]\n",
    "  \n",
    "  \n",
    "  sw <- strwidth(label, cex=cex) * 60/100\n",
    "  sh <- strheight(label, cex=cex) * 60/100\n",
    "  \n",
    "  x1 <- x[1] + sw\n",
    "  \n",
    "  y1 <- y[2] - sh\n",
    "  \n",
    "  old.par <- par(xpd=NA)\n",
    "  on.exit(par(old.par))\n",
    "  \n",
    "  text(x1, y1, label, cex=cex)\n",
    "}"
   ]
  },
  {
   "cell_type": "code",
   "execution_count": 6,
   "metadata": {},
   "outputs": [],
   "source": [
    "gam_plotMed <- function(\n",
    "                    gamfitMed,\n",
    "                    main = \"Median of measurements\",\n",
    "                    xRange = c(55, 95),\n",
    "                    yRange = c(0, .20),\n",
    "                    label,\n",
    "                    xlabel\n",
    ") {\n",
    "print(paste(\"Number of cases:\", summary(gamfitMed)$n))\n",
    "\n",
    "xlab <- xlabel\n",
    "\n",
    "\n",
    "if(colnames(gamfitMed$model)[1] == \"hospital_expire_flag\") {\n",
    "    ylab <- \"Probability of hospital mortality\"\n",
    "  }\n",
    "    else if(colnames(gamfitMed$model)[1] == \"AKI_7d\") {\n",
    "    ylab <- \"Probability of acute kidney injury (AKI)\"\n",
    "  } \n",
    "    else {\n",
    "    ylab <- \"Probability of ICU mortality\"\n",
    "  }\n",
    "\n",
    "xName <- colnames(gamfitMed$model)[grep(\"ibp\", colnames(gamfitMed$model))]\n",
    "# vasso_Name <- colnames(gamfitMed$model)[grep(\"vasso\", colnames(gamfitMed$model))]\n",
    "\n",
    "# Color for dotted line\n",
    "colD <- \"Black\"\n",
    "# colD <- \"Blue\"\n",
    "\n",
    "    plot(1, type = 'n', xlim = xRange, ylim = yRange,\n",
    "         ylab = ylab,\n",
    "         xlab = xlab, main = main, yaxs = 'i', xaxs = 'i', yaxt = 'n', xaxt = 'n')\n",
    "    \n",
    "    att <- pretty(yRange)\n",
    "if(!isTRUE(all.equal(att, round(att, digits = 2)))) {\n",
    "  axis(2, at = att, lab = paste0(sprintf('%.1f', att*100), '%'), las = TRUE)\n",
    "} else axis(2, at = att, lab = paste0(att*100, '%'), las = TRUE)\n",
    "    \n",
    "    att <- pretty(xRange)\n",
    "    axis(1, at = att, lab = paste0(att), las = TRUE)\n",
    "#     axis(1, at = att, lab = paste0(att, '%'), las = TRUE)\n",
    "\n",
    "    \n",
    "    eval(parse(text = paste(c('predictionsPlusCI <- predict(gamfitMed, newdata = data.frame(',\n",
    "                              xName, ' = gamfitMed$model$', xName, \", gender = 'F', age = median(gamfitMed$model$age), \n",
    "                            bmi = median(gamfitMed$model$bmi),\",\n",
    "                      ifelse(\n",
    "                        \"high_vent_proportion\" %in% colnames(gamfitMed$model),\n",
    "                        \"high_vent_proportion = median(gamfitMed$model$high_vent_proportion),\",\n",
    "                        \"\"\n",
    "                      ),\n",
    "                      ifelse(\n",
    "                        \"ethnicity\" %in% colnames(gamfitMed$model),\n",
    "                        \"ethnicity = gamfitMed$model$ethnicity,\",\n",
    "                        \"\"\n",
    "                      ),\n",
    "                      ifelse(\n",
    "                        \"apsiii\" %in% colnames(gamfitMed$model),\n",
    "                        \"apsiii = median(gamfitMed$model$apsiii),\",\n",
    "                        \"sofatotal = median(gamfitMed$model$sofatotal),\"\n",
    "                        \n",
    "                      ),\n",
    "                      ifelse(\n",
    "                        \"vasso_duration_24h\" %in% colnames(gamfitMed$model),\n",
    "                        \"vasso_duration_24h = median(gamfitMed$model$vasso_duration_24h),\",\n",
    "                        \"\"\n",
    "                      ),\n",
    "                      ifelse(\n",
    "                        \"vasso_duration_48h\" %in% colnames(gamfitMed$model),\n",
    "                        \"vasso_duration_48h = median(gamfitMed$model$vasso_duration_48h),\",\n",
    "                        \"\"\n",
    "                      ),\n",
    "                      ifelse(\n",
    "                        \"vasso_duration_72h\" %in% colnames(gamfitMed$model),\n",
    "                        \"vasso_duration_72h = median(gamfitMed$model$vasso_duration_72h),\",\n",
    "                        \"\"\n",
    "                      ),\n",
    "                      \"hospital_id = 264), type = 'link', se.fit = T)\"), collapse = \"\")))\n",
    "\n",
    "  \n",
    "  # We have to use the data on which GAM was fit for confidence region as the GAM does not provide standard errors for 'new' input\n",
    "    eval(parse(text = paste0('xx <- gamfitMed$model$', xName)))\n",
    "    ord.index <- order(xx)\n",
    "    xx <- xx[ord.index]\n",
    "    i<-2\n",
    "    j<-1\n",
    "    index <-1\n",
    "    bp_val <-list()\n",
    "    bp_grad<-list()\n",
    "    current_list <-list()\n",
    "    next_list<-list()\n",
    "    while (i <=length(ord.index)){\n",
    "        eval(parse(text = paste(c('x2 <- gamfitMed$model$', xName,\"[ord.index[\",i,\"]]\"), collapse = \"\")))\n",
    "        eval(parse(text = paste(c('x1 <- gamfitMed$model$', xName,\"[ord.index[\",j,\"]]\"), collapse = \"\")))\n",
    "#       x2 <- b$model$ibp_mean_24h[ord.index[i]]\n",
    "#       x1 <-b$model$ibp_mean_24h[ord.index[j]]\n",
    "\n",
    "        if((x2-x1)>=1.0){\n",
    "            current_val <- logistic(predictionsPlusCI$fit[ord.index[j]])\n",
    "            right_val <- logistic(predictionsPlusCI$fit[ord.index[i]])\n",
    "            grad <-(right_val-current_val)*100/(x2-x1)\n",
    "            bp_val[[index]] <- x1\n",
    "            bp_grad[[index]]<-unlist(grad,use.names=FALSE)\n",
    "            current_list[[index]]<-current_val\n",
    "            next_list[[index]]<-right_val\n",
    "            index <-index+1\n",
    "            j <- i\n",
    "            i <- i+1\n",
    "\n",
    "        } else {\n",
    "            i <-i+1\n",
    "        }\n",
    "\n",
    "        }\n",
    "    df_gradient <- data.frame(\"bp_value\" = unlist(bp_val, use.names=FALSE), \n",
    "                        \"gradient\" = unlist(bp_grad, use.names=FALSE)\n",
    "                       , \"pre_val_left\" = unlist(current_list, use.names=FALSE)\n",
    "                       , \"pre_val_right\" = unlist(next_list, use.names=FALSE))\n",
    "    \n",
    "    by_type <- colnames(gamfitMed$model)[grep(\"ibp\", colnames(gamfitMed$model))]\n",
    "    if(startsWith(xName, 'ibp_mean', ignore.case=TRUE)){\n",
    "        bp_value_left <-60\n",
    "        bp_value_right<-90\n",
    "    } else if (startsWith(xName, 'ibp_systolic', ignore.case=TRUE)){\n",
    "        bp_value_left <-100\n",
    "        bp_value_right<-140\n",
    "        \n",
    "    } else {\n",
    "        bp_value_left <-40\n",
    "        bp_value_right<-70\n",
    "    }\n",
    "    \n",
    "    \n",
    "    grad_0.2_left<-min(df_gradient[(df_gradient$gradient > -0.2) & (df_gradient$gradient< 0.2)\n",
    "                                   & (df_gradient$bp_value< bp_value_right) & (df_gradient$bp_value> bp_value_left), \"bp_value\"])\n",
    "    grad_0.2_right<-max(df_gradient[(df_gradient$gradient > -0.2) & (df_gradient$gradient< 0.2)\n",
    "                               & (df_gradient$bp_value< bp_value_right) & (df_gradient$bp_value> bp_value_left), \"bp_value\"])\n",
    "    grad_0.1_left<-min(df_gradient[(df_gradient$gradient > -0.1) & (df_gradient$gradient< 0.1)\n",
    "                                   & (df_gradient$bp_value< bp_value_right) & (df_gradient$bp_value> bp_value_left), \"bp_value\"])\n",
    "    grad_0.1_right<-max(df_gradient[(df_gradient$gradient > -0.1) & (df_gradient$gradient< 0.1)\n",
    "                               & (df_gradient$bp_value< bp_value_right) & (df_gradient$bp_value> bp_value_left), \"bp_value\"])\n",
    "    grad_0.2_left <-ifelse(grad_0.2_left>=43, grad_0.2_left,40)\n",
    "    grad_0.1_left <-ifelse(grad_0.1_left>=43, grad_0.1_left,41)\n",
    "    grad_0.2_right<-ifelse(grad_0.2_right<=137, grad_0.2_right,139)\n",
    "    grad_0.1_right<-ifelse(grad_0.1_right<=137, grad_0.1_right,138)\n",
    "\n",
    "    if(gamfitMed$family$link == 'logit') {\n",
    "        lcl <- logistic(predictionsPlusCI$fit[ord.index] - 1.96*predictionsPlusCI$se.fit[ord.index])\n",
    "        ucl <- logistic(predictionsPlusCI$fit[ord.index] + 1.96*predictionsPlusCI$se.fit[ord.index])\n",
    "\n",
    "        lines(x = xx, y = lcl, lty = 2, lwd = 2, col = colD)\n",
    "        lines(x = xx, y = ucl, lty = 2, lwd = 2, col = colD)\n",
    "        lines(xx, logistic(predictionsPlusCI$fit[ord.index]), lwd = 3)\n",
    "        abline(v=grad_0.2_left, col = \"Red\")\n",
    "        abline(v=grad_0.2_right, col = \"Red\")\n",
    "        abline(v=grad_0.1_left, col = \"Blue\")\n",
    "        abline(v=grad_0.1_right, col = \"Blue\")\n",
    "    } else {\n",
    "        lcl <- predictionsPlusCI$fit[ord.index] - 1.96*predictionsPlusCI$se.fit[ord.index]\n",
    "        ucl <- predictionsPlusCI$fit[ord.index] + 1.96*predictionsPlusCI$se.fit[ord.index]\n",
    "\n",
    "        lines(x = xx, y = lcl, lty = 2, lwd = 2)\n",
    "        lines(x = xx, y = ucl, lty = 2, lwd = 2)\n",
    "        lines(xx, predictionsPlusCI$fit[ord.index], lwd = 3)\n",
    "        abline(v=grad_0.2_left, col = \"Red\")\n",
    "        abline(v=grad_0.2_right, col = \"Red\")\n",
    "        abline(v=grad_0.1_left, col = \"Blue\")\n",
    "        abline(v=grad_0.1_right, col = \"Blue\")\n",
    "    }\n",
    "\n",
    "    if(!missing(label)) fig_label(label)\n",
    "}\n"
   ]
  },
  {
   "cell_type": "code",
   "execution_count": 7,
   "metadata": {},
   "outputs": [],
   "source": [
    "find_gradient <- function(b)\n",
    "{\n",
    "xName <- colnames(b$model)[grep(\"ibp\", colnames(b$model))]\n",
    "eval(parse(text = paste(c('newdata = data.frame(',\n",
    "                          xName, ' = b$model$', xName, \", gender = 'F', age = median(b$model$age), bmi = median(b$model$bmi),\",\n",
    "                  ifelse(\n",
    "                    \"high_vent_proportion\" %in% colnames(b$model),\n",
    "                    \"high_vent_proportion = median(b$model$high_vent_proportion),\",\n",
    "                    \"\"\n",
    "                  ),\n",
    "                  ifelse(\n",
    "                    \"apsiii\" %in% colnames(b$model),\n",
    "                    \"apsiii = median(b$model$apsiii),\",\n",
    "                    \"sofatotal = median(b$model$sofatotal),\"\n",
    "                  ),\n",
    "                  ifelse(\n",
    "                    \"ethnicity\" %in% colnames(b$model),\n",
    "                    \"ethnicity = b$model$ethnicity,\",\n",
    "                    \"\"\n",
    "                  ),\n",
    "                  ifelse(\n",
    "                    \"apsiii\" %in% colnames(b$model),\n",
    "                    \"apsiii = median(b$model$apsiii),\",\n",
    "                    \"sofatotal = median(b$model$sofatotal),\"\n",
    "\n",
    "                  ),\n",
    "                  ifelse(\n",
    "                    \"vasso_duration_24h\" %in% colnames(b$model),\n",
    "                    \"vasso_duration_24h = median(b$model$vasso_duration_24h),\",\n",
    "                    \"\"\n",
    "                  ),\n",
    "                  ifelse(\n",
    "                    \"vasso_duration_48h\" %in% colnames(b$model),\n",
    "                    \"vasso_duration_48h = median(b$model$vasso_duration_48h),\",\n",
    "                    \"\"\n",
    "                  ),\n",
    "                  ifelse(\n",
    "                    \"vasso_duration_72h\" %in% colnames(b$model),\n",
    "                    \"vasso_duration_72h = median(b$model$vasso_duration_72h),\",\n",
    "                    \"\"\n",
    "                  ),\n",
    "                  \"hospital_id = 264)\"), collapse = \"\")))\n",
    "# newd <- newdata\n",
    "pred<-predict(b,newdata,type=\"link\",se.fit = T)\n",
    "eval(parse(text = paste0('xx <- b$model$', xName)))\n",
    "# xx <- b$model$ibp_mean_24h\n",
    "ord.index <- order(xx)\n",
    "i<-2\n",
    "j<-1\n",
    "index <-1\n",
    "bp_val <-list()\n",
    "bp_grad<-list()\n",
    "current_list <-list()\n",
    "next_list<-list()\n",
    "while (i <=length(ord.index)){\n",
    "    eval(parse(text = paste(c('x2 <- b$model$', xName,\"[ord.index[\",i,\"]]\"), collapse = \"\")))\n",
    "    eval(parse(text = paste(c('x1 <- b$model$', xName,\"[ord.index[\",j,\"]]\"), collapse = \"\")))\n",
    "#       x2 <- b$model$ibp_mean_24h[ord.index[i]]\n",
    "#       x1 <-b$model$ibp_mean_24h[ord.index[j]]\n",
    "    \n",
    "    if((x2-x1)>=1.0){\n",
    "        current_val <- logistic(pred$fit[ord.index[j]])\n",
    "        right_val <- logistic(pred$fit[ord.index[i]])\n",
    "        grad <-(right_val-current_val)*100/(x2-x1)\n",
    "        bp_val[[index]] <- x1\n",
    "        bp_grad[[index]]<-unlist(grad,use.names=FALSE)\n",
    "        current_list[[index]]<-current_val\n",
    "        next_list[[index]]<-right_val\n",
    "        index <-index+1\n",
    "        j <- i\n",
    "        i <- i+1\n",
    "        \n",
    "      } else {\n",
    "          i <-i+1\n",
    "      }\n",
    "      \n",
    "    }\n",
    "df_gradient <- data.frame(\"bp_value\" = unlist(bp_val, use.names=FALSE), \n",
    "                          \"gradient\" = unlist(bp_grad, use.names=FALSE)\n",
    "                         , \"pre_val_left\" = unlist(current_list, use.names=FALSE)\n",
    "                         , \"pre_val_right\" = unlist(next_list, use.names=FALSE))\n",
    "return (df_gradient)\n",
    "}"
   ]
  },
  {
   "cell_type": "code",
   "execution_count": 8,
   "metadata": {},
   "outputs": [],
   "source": [
    "gam_plotMed_noGradient <- function(\n",
    "                    gamfitMed,\n",
    "                    main = \"Median of measurements\",\n",
    "                    xRange = c(55, 95),\n",
    "                    yRange = c(0, .20),\n",
    "                    label,\n",
    "                    xlabel\n",
    ") {\n",
    "print(paste(\"Number of cases:\", summary(gamfitMed)$n))\n",
    "\n",
    "xlab <- xlabel\n",
    "\n",
    "\n",
    "if(colnames(gamfitMed$model)[1] == \"hospital_expire_flag\") {\n",
    "    ylab <- \"Probability of hospital mortality\"\n",
    "  }\n",
    "    else if(colnames(gamfitMed$model)[1] == \"AKI_7d\") {\n",
    "    ylab <- \"Probability of acute kidney injury (AKI)\"\n",
    "  } \n",
    "    else {\n",
    "    ylab <- \"Probability of ICU mortality\"\n",
    "  }\n",
    "\n",
    "xName <- colnames(gamfitMed$model)[grep(\"ibp\", colnames(gamfitMed$model))]\n",
    "vasso_Name <- colnames(gamfitMed$model)[grep(\"vasso\", colnames(gamfitMed$model))]\n",
    "\n",
    "# Color for dotted line\n",
    "colD <- \"Black\"\n",
    "\n",
    "    plot(1, type = 'n', xlim = xRange, ylim = yRange,\n",
    "         ylab = ylab,\n",
    "         xlab = xlab, main = main, yaxs = 'i', xaxs = 'i', yaxt = 'n', xaxt = 'n')\n",
    "    \n",
    "    att <- pretty(yRange)\n",
    "if(!isTRUE(all.equal(att, round(att, digits = 2)))) {\n",
    "  axis(2, at = att, lab = paste0(sprintf('%.1f', att*100), '%'), las = TRUE)\n",
    "} else axis(2, at = att, lab = paste0(att*100, '%'), las = TRUE)\n",
    "    \n",
    "    att <- pretty(xRange)\n",
    "    axis(1, at = att, lab = paste0(att), las = TRUE)\n",
    "#     axis(1, at = att, lab = paste0(att, '%'), las = TRUE)\n",
    "\n",
    "    \n",
    "    eval(parse(text = paste(c('predictionsPlusCI <- predict(gamfitMed, newdata = data.frame(',\n",
    "                              xName, ' = gamfitMed$model$', xName, \", gender = 'F', age = median(gamfitMed$model$age), \n",
    "                            bmi = median(gamfitMed$model$bmi),\",\n",
    "                      ifelse(\n",
    "                        \"high_vent_proportion\" %in% colnames(gamfitMed$model),\n",
    "                        \"high_vent_proportion = median(gamfitMed$model$high_vent_proportion),\",\n",
    "                        \"\"\n",
    "                      ),\n",
    "                      ifelse(\n",
    "                        \"ethnicity\" %in% colnames(gamfitMed$model),\n",
    "                        \"ethnicity = gamfitMed$model$ethnicity,\",\n",
    "                        \"\"\n",
    "                      ),\n",
    "                      ifelse(\n",
    "                        \"apsiii\" %in% colnames(gamfitMed$model),\n",
    "                        \"apsiii = median(gamfitMed$model$apsiii),\",\n",
    "                        \"sofatotal = median(gamfitMed$model$sofatotal),\"\n",
    "                        \n",
    "                      ),\n",
    "                      ifelse(\n",
    "                        \"vasso_duration_24h\" %in% colnames(gamfitMed$model),\n",
    "                        \"vasso_duration_24h = median(gamfitMed$model$vasso_duration_24h),\",\n",
    "                        \"\"\n",
    "                      ),\n",
    "                      ifelse(\n",
    "                        \"vasso_duration_48h\" %in% colnames(gamfitMed$model),\n",
    "                        \"vasso_duration_48h = median(gamfitMed$model$vasso_duration_48h),\",\n",
    "                        \"\"\n",
    "                      ),\n",
    "                      ifelse(\n",
    "                        \"vasso_duration_72h\" %in% colnames(gamfitMed$model),\n",
    "                        \"vasso_duration_72h = median(gamfitMed$model$vasso_duration_72h),\",\n",
    "                        \"\"\n",
    "                      ),\n",
    "                      \"hospital_id = 264), type = 'link', se.fit = T)\"), collapse = \"\")))\n",
    "\n",
    "  \n",
    "  # We have to use the data on which GAM was fit for confidence region as the GAM does not provide standard errors for 'new' input\n",
    "  eval(parse(text = paste0('xx <- gamfitMed$model$', xName)))\n",
    "  ord.index <- order(xx)\n",
    "  xx <- xx[ord.index]\n",
    "  \n",
    "  if(gamfitMed$family$link == 'logit') {\n",
    "    lcl <- logistic(predictionsPlusCI$fit[ord.index] - 1.96*predictionsPlusCI$se.fit[ord.index])\n",
    "    ucl <- logistic(predictionsPlusCI$fit[ord.index] + 1.96*predictionsPlusCI$se.fit[ord.index])\n",
    "    \n",
    "    lines(x = xx, y = lcl, lty = 2, lwd = 2, col = colD)\n",
    "    lines(x = xx, y = ucl, lty = 2, lwd = 2, col = colD)\n",
    "    lines(xx, logistic(predictionsPlusCI$fit[ord.index]), lwd = 3)\n",
    "  } else {\n",
    "    lcl <- predictionsPlusCI$fit[ord.index] - 1.96*predictionsPlusCI$se.fit[ord.index]\n",
    "    ucl <- predictionsPlusCI$fit[ord.index] + 1.96*predictionsPlusCI$se.fit[ord.index]\n",
    "    \n",
    "    lines(x = xx, y = lcl, lty = 2, lwd = 2)\n",
    "    lines(x = xx, y = ucl, lty = 2, lwd = 2)\n",
    "    lines(xx, predictionsPlusCI$fit[ord.index], lwd = 3)\n",
    "  }\n",
    "  \n",
    "  if(!missing(label)) fig_label(label)\n",
    "}\n"
   ]
  },
  {
   "cell_type": "markdown",
   "metadata": {},
   "source": [
    "## mean vs hospital mortality, ICU mortality and AKI"
   ]
  },
  {
   "cell_type": "code",
   "execution_count": 2241,
   "metadata": {},
   "outputs": [],
   "source": [
    "# hospital mortality\n",
    "gamfitMed_eICU_MAP_24h <- gam(hospital_expire_flag ~ s(ibp_mean_24h)+gender+s(age)+s(bmi)+s(sofatotal), data = df_eicu, family = binomial)\n",
    "gamfitMed_MIMIC_MAP_24h <- gam(hospital_expire_flag ~ s(ibp_mean_24h)+gender+s(age)+s(bmi)+s(sofatotal), data = df_mimic, family = binomial)\n",
    "\n",
    "gamfitMed_eICU_MAP_48h <- gam(hospital_expire_flag ~ s(ibp_mean_48h)+gender+s(age)+s(bmi)+s(sofatotal), data = df_eicu, family = binomial)\n",
    "gamfitMed_MIMIC_MAP_48h <- gam(hospital_expire_flag ~ s(ibp_mean_48h)+gender+s(age)+s(bmi)+s(sofatotal), data = df_mimic, family = binomial)\n",
    "\n",
    "gamfitMed_eICU_MAP_72h <- gam(hospital_expire_flag ~ s(ibp_mean_72h)+gender+s(age)+s(bmi)+s(sofatotal), data = df_eicu, family = binomial)\n",
    "gamfitMed_MIMIC_MAP_72h <- gam(hospital_expire_flag ~ s(ibp_mean_72h)+gender+s(age)+s(bmi)+s(sofatotal), data = df_mimic, family = binomial)\n",
    "# ICU mortality\n",
    "gamfitMed_ICU_eICU_MAP_24h <- gam(icu_mortality ~ s(ibp_mean_24h)+gender+s(age)+s(bmi)+s(sofatotal), data = df_eicu, family = binomial)\n",
    "gamfitMed_ICU_MIMIC_MAP_24h <- gam(icu_mortality ~ s(ibp_mean_24h)+gender+s(age)+s(bmi)+s(sofatotal), data = df_mimic, family = binomial)\n",
    "\n",
    "gamfitMed_ICU_eICU_MAP_48h <- gam(icu_mortality ~ s(ibp_mean_48h)+gender+s(age)+s(bmi)+s(sofatotal), data = df_eicu, family = binomial)\n",
    "gamfitMed_ICU_MIMIC_MAP_48h <- gam(icu_mortality ~ s(ibp_mean_48h)+gender+s(age)+s(bmi)+s(sofatotal), data = df_mimic, family = binomial)\n",
    "\n",
    "gamfitMed_ICU_eICU_MAP_72h <- gam(icu_mortality ~ s(ibp_mean_72h)+gender+s(age)+s(bmi)+s(sofatotal), data = df_eicu, family = binomial)\n",
    "gamfitMed_ICU_MIMIC_MAP_72h <- gam(icu_mortality ~ s(ibp_mean_72h)+gender+s(age)+s(bmi)+s(sofatotal), data = df_mimic, family = binomial)\n",
    "# AKI\n",
    "gamfitMed_AKI_eICU_MAP_24h <- gam(AKI_7d ~ s(ibp_mean_24h)+gender+s(age)+s(bmi)+s(sofatotal)+s(vasso_duration_24h), data = df_eicu_aki, family = binomial)\n",
    "gamfitMed_AKI_MIMIC_MAP_24h <- gam(AKI_7d ~ s(ibp_mean_24h)+gender+s(age)+s(bmi)+s(sofatotal)+s(vasso_duration_24h), data = df_mimic_aki, family = binomial)\n",
    "\n",
    "gamfitMed_AKI_eICU_MAP_48h <- gam(AKI_7d ~ s(ibp_mean_48h)+gender+s(age)+s(bmi)+s(sofatotal)+s(vasso_duration_48h), data = df_eicu_aki, family = binomial)\n",
    "gamfitMed_AKI_MIMIC_MAP_48h <- gam(AKI_7d ~ s(ibp_mean_48h)+gender+s(age)+s(bmi)+s(sofatotal)+s(vasso_duration_48h), data = df_mimic_aki, family = binomial)\n",
    "\n",
    "gamfitMed_AKI_eICU_MAP_72h <- gam(AKI_7d ~ s(ibp_mean_72h)+gender+s(age)+s(bmi)+s(sofatotal)+s(vasso_duration_72h), data = df_eicu_aki, family = binomial)\n",
    "gamfitMed_AKI_MIMIC_MAP_72h <- gam(AKI_7d ~ s(ibp_mean_72h)+gender+s(age)+s(bmi)+s(sofatotal)+s(vasso_duration_72h), data = df_mimic_aki, family = binomial)\n"
   ]
  },
  {
   "cell_type": "code",
   "execution_count": 2242,
   "metadata": {},
   "outputs": [
    {
     "ename": "ERROR",
     "evalue": "Error in pdf(file = \"figure/gradient/MAP_Hosp_ICU_AKI_7d.pdf\", width = plot_width * : object 'plot_width' not found\n",
     "execution_count": 2242,
     "output_type": "error",
     "traceback": [
      "Error in pdf(file = \"figure/gradient/MAP_Hosp_ICU_AKI_7d.pdf\", width = plot_width * : object 'plot_width' not found\nTraceback:\n",
      "1. pdf(file = \"figure/gradient/MAP_Hosp_ICU_AKI_7d.pdf\", width = plot_width * \n .     3, height = 9, pointsize = point_size, family = font)"
     ]
    }
   ],
   "source": [
    "pdf(file = \"figure/gradient/MAP_Hosp_ICU_AKI.pdf\", width = plot_width *3 ,\n",
    "    height = 9, pointsize = point_size, family = font)\n",
    "par(mfcol = c(3,6), cex = 1)\n",
    "x_range = c(55, 95)\n",
    "gam_plotMed(gamfitMed_eICU_MAP_24h, main = \"eICU\", xRange = x_range,\n",
    "                    yRange = c(0, .20), label = \"A1\", xlabel =\"Median of 24h Mean Arterial Pressure (MAP)\")\n",
    "\n",
    "gam_plotMed(gamfitMed_eICU_MAP_48h, main = \"eICU\", xRange = x_range,\n",
    "                    yRange = c(0, .20), label = \"C1\", xlabel =\"Median of 48h Mean Arterial Pressure (MAP)\")\n",
    "\n",
    "gam_plotMed(gamfitMed_eICU_MAP_72h, main = \"eICU\", xRange = x_range,\n",
    "                    yRange = c(0, .20), label = \"E1\", xlabel =\"Median of 72h Mean Arterial Pressure (MAP)\")\n",
    "\n",
    "gam_plotMed(gamfitMed_MIMIC_MAP_24h, main = \"MIMIC\", xRange = x_range,\n",
    "                    yRange = c(0, .20),label = \"B1\", xlabel =\"Median of 24h Mean Arterial Pressure (MAP)\")\n",
    "\n",
    "gam_plotMed(gamfitMed_MIMIC_MAP_48h, main = \"MIMIC\", xRange = x_range,\n",
    "                    yRange = c(0, .20),label = \"D1\", xlabel =\"Median of 48h Mean Arterial Pressure (MAP)\")\n",
    "\n",
    "gam_plotMed(gamfitMed_MIMIC_MAP_72h, main = \"MIMIC\", xRange = x_range,\n",
    "                    yRange = c(0, .20),label = \"F1\", xlabel =\"Median of 72h Mean Arterial Pressure (MAP)\")\n",
    "\n",
    "x_range = c(55, 95)\n",
    "gam_plotMed(gamfitMed_ICU_eICU_MAP_24h, main = \"eICU\", xRange = x_range,\n",
    "                    yRange = c(0, .20), label = \"A2\", xlabel =\"Median of 24h Mean Arterial Pressure (MAP)\")\n",
    "\n",
    "gam_plotMed(gamfitMed_ICU_eICU_MAP_48h, main = \"eICU\", xRange = x_range,\n",
    "                    yRange = c(0, .20), label = \"C2\", xlabel =\"Median of 48h Mean Arterial Pressure (MAP)\")\n",
    "\n",
    "gam_plotMed(gamfitMed_ICU_eICU_MAP_72h, main = \"eICU\", xRange = x_range,\n",
    "                    yRange = c(0, .20), label = \"E2\", xlabel =\"Median of 72h Mean Arterial Pressure (MAP)\")\n",
    "\n",
    "gam_plotMed(gamfitMed_ICU_MIMIC_MAP_24h, main = \"MIMIC\", xRange = x_range,\n",
    "                    yRange = c(0, .20),label = \"B2\", xlabel =\"Median of 24h Mean Arterial Pressure (MAP)\")\n",
    "\n",
    "gam_plotMed(gamfitMed_ICU_MIMIC_MAP_48h, main = \"MIMIC\", xRange = x_range,\n",
    "                    yRange = c(0, .20),label = \"D2\", xlabel =\"Median of 48h Mean Arterial Pressure (MAP)\")\n",
    "\n",
    "gam_plotMed(gamfitMed_ICU_MIMIC_MAP_72h, main = \"MIMIC\", xRange = x_range,\n",
    "                    yRange = c(0, .20),label = \"F2\", xlabel =\"Median of 72h Mean Arterial Pressure (MAP)\")\n",
    "\n",
    "x_range = c(50, 100)\n",
    "gam_plotMed_noGradient(gamfitMed_AKI_eICU_MAP_24h, main = \"eICU\", xRange = x_range,\n",
    "                    yRange = c(0.75, 0.95), label = \"A3\", xlabel =\"Median of 24h Mean Arterial Pressure (MAP)\")\n",
    "\n",
    "gam_plotMed_noGradient(gamfitMed_AKI_eICU_MAP_48h, main = \"eICU\", xRange = x_range,\n",
    "                    yRange = c(0.75, 0.95), label = \"C3\", xlabel =\"Median of 48h Mean Arterial Pressure (MAP)\")\n",
    "\n",
    "gam_plotMed_noGradient(gamfitMed_AKI_eICU_MAP_72h, main = \"eICU\", xRange = x_range,\n",
    "                    yRange = c(0.75, 0.95), label = \"E3\", xlabel =\"Median of 72h Mean Arterial Pressure (MAP)\")\n",
    "\n",
    "gam_plotMed_noGradient(gamfitMed_AKI_MIMIC_MAP_24h, main = \"MIMIC\", xRange = x_range,\n",
    "                    yRange = c(0.6, 1.0),label = \"B3\", xlabel =\"Median of 24h Mean Arterial Pressure (MAP)\")\n",
    "\n",
    "gam_plotMed_noGradient(gamfitMed_AKI_MIMIC_MAP_48h, main = \"MIMIC\", xRange = x_range,\n",
    "                    yRange = c(0.6, 1.0),label = \"D3\", xlabel =\"Median of 48h Mean Arterial Pressure (MAP)\")\n",
    "\n",
    "gam_plotMed_noGradient(gamfitMed_AKI_MIMIC_MAP_72h, main = \"MIMIC\", xRange = x_range,\n",
    "                    yRange = c(0.6, 1.0),label = \"F3\", xlabel =\"Median of 72h Mean Arterial Pressure (MAP)\")\n",
    "dev.off()"
   ]
  },
  {
   "cell_type": "markdown",
   "metadata": {},
   "source": [
    "## systolic vs hospital mortality, ICU mortality and AKI"
   ]
  },
  {
   "cell_type": "code",
   "execution_count": 15,
   "metadata": {},
   "outputs": [],
   "source": [
    "# hospital\n",
    "gamfitMed_eICU_ASP_24h <- gam(hospital_expire_flag ~ s(ibp_systolic_24h)+gender+s(age)+s(bmi)+s(sofatotal), data = df_eicu, family = binomial)\n",
    "gamfitMed_MIMIC_ASP_24h <- gam(hospital_expire_flag ~ s(ibp_systolic_24h)+gender+s(age)+s(bmi)+s(sofatotal), data = df_mimic, family = binomial)\n",
    "\n",
    "gamfitMed_eICU_ASP_48h <- gam(hospital_expire_flag ~ s(ibp_systolic_48h)+gender+s(age)+s(bmi)+s(sofatotal), data = df_eicu, family = binomial)\n",
    "gamfitMed_MIMIC_ASP_48h <- gam(hospital_expire_flag ~ s(ibp_systolic_48h)+gender+s(age)+s(bmi)+s(sofatotal), data = df_mimic, family = binomial)\n",
    "\n",
    "gamfitMed_eICU_ASP_72h <- gam(hospital_expire_flag ~ s(ibp_systolic_72h)+gender+s(age)+s(bmi)+s(sofatotal), data = df_eicu, family = binomial)\n",
    "gamfitMed_MIMIC_ASP_72h <- gam(hospital_expire_flag ~ s(ibp_systolic_72h)+gender+s(age)+s(bmi)+s(sofatotal), data = df_mimic, family = binomial)\n",
    "\n",
    "#ICU\n",
    "gamfitMed_ICU_eICU_ASP_24h <- gam(icu_mortality ~ s(ibp_systolic_24h)+gender+s(age)+s(bmi)+s(sofatotal), data = df_eicu, family = binomial)\n",
    "gamfitMed_ICU_MIMIC_ASP_24h <- gam(icu_mortality ~ s(ibp_systolic_24h)+gender+s(age)+s(bmi)+s(sofatotal), data = df_mimic, family = binomial)\n",
    "\n",
    "gamfitMed_ICU_eICU_ASP_48h <- gam(icu_mortality ~ s(ibp_systolic_48h)+gender+s(age)+s(bmi)+s(sofatotal), data = df_eicu, family = binomial)\n",
    "gamfitMed_ICU_MIMIC_ASP_48h <- gam(icu_mortality ~ s(ibp_systolic_48h)+gender+s(age)+s(bmi)+s(sofatotal), data = df_mimic, family = binomial)\n",
    "\n",
    "gamfitMed_ICU_eICU_ASP_72h <- gam(icu_mortality ~ s(ibp_systolic_72h)+gender+s(age)+s(bmi)+s(sofatotal), data = df_eicu, family = binomial)\n",
    "gamfitMed_ICU_MIMIC_ASP_72h <- gam(icu_mortality ~ s(ibp_systolic_72h)+gender+s(age)+s(bmi)+s(sofatotal), data = df_mimic, family = binomial)\n",
    "# AKI\n",
    "\n",
    "gamfitMed_AKI_eICU_ASP_24h <- gam(AKI_7d ~ s(ibp_systolic_24h)+gender+s(age)+s(bmi)+s(sofatotal)+s(vasso_duration_24h), data = df_eicu_aki, family = binomial)\n",
    "gamfitMed_AKI_MIMIC_ASP_24h <- gam(AKI_7d ~ s(ibp_systolic_24h)+gender+s(age)+s(bmi)+s(sofatotal)+s(vasso_duration_24h), data = df_mimic_aki, family = binomial)\n",
    "\n",
    "gamfitMed_AKI_eICU_ASP_48h <- gam(AKI_7d ~ s(ibp_systolic_48h)+gender+s(age)+s(bmi)+s(sofatotal)+s(vasso_duration_48h), data = df_eicu_aki, family = binomial)\n",
    "gamfitMed_AKI_MIMIC_ASP_48h <- gam(AKI_7d ~ s(ibp_systolic_48h)+gender+s(age)+s(bmi)+s(sofatotal)+s(vasso_duration_48h), data = df_mimic_aki, family = binomial)\n",
    "\n",
    "gamfitMed_AKI_eICU_ASP_72h <- gam(AKI_7d ~ s(ibp_systolic_72h)+gender+s(age)+s(bmi)+s(sofatotal)+s(vasso_duration_72h), data = df_eicu_aki, family = binomial)\n",
    "gamfitMed_AKI_MIMIC_ASP_72h <- gam(AKI_7d ~ s(ibp_systolic_72h)+gender+s(age)+s(bmi)+s(sofatotal)+s(vasso_duration_72h), data = df_mimic_aki, family = binomial)\n"
   ]
  },
  {
   "cell_type": "code",
   "execution_count": 19,
   "metadata": {},
   "outputs": [
    {
     "name": "stdout",
     "output_type": "stream",
     "text": [
      "[1] \"Number of cases: 14374\"\n",
      "[1] \"Number of cases: 14374\"\n",
      "[1] \"Number of cases: 14374\"\n",
      "[1] \"Number of cases: 12291\"\n",
      "[1] \"Number of cases: 12291\"\n",
      "[1] \"Number of cases: 12291\"\n",
      "[1] \"Number of cases: 14374\"\n",
      "[1] \"Number of cases: 14374\"\n",
      "[1] \"Number of cases: 14374\"\n",
      "[1] \"Number of cases: 12291\"\n",
      "[1] \"Number of cases: 12291\"\n",
      "[1] \"Number of cases: 12291\"\n",
      "[1] \"Number of cases: 13105\"\n",
      "[1] \"Number of cases: 13105\"\n",
      "[1] \"Number of cases: 13105\"\n",
      "[1] \"Number of cases: 11445\"\n",
      "[1] \"Number of cases: 11445\"\n",
      "[1] \"Number of cases: 11445\"\n"
     ]
    },
    {
     "data": {
      "text/html": [
       "<strong>png:</strong> 2"
      ],
      "text/latex": [
       "\\textbf{png:} 2"
      ],
      "text/markdown": [
       "**png:** 2"
      ],
      "text/plain": [
       "png \n",
       "  2 "
      ]
     },
     "metadata": {},
     "output_type": "display_data"
    }
   ],
   "source": [
    "pdf(file = \"figure/gradient/ASP_Hosp_ICU_AKI.pdf\", width = plot_width*3,\n",
    "    height = 9, pointsize = point_size, family = font)\n",
    "par(mfcol = c(3,6), cex = 1)\n",
    "gam_plotMed(gamfitMed_eICU_ASP_24h, main = \"eICU\", xRange = c(90, 140),\n",
    "                    yRange = c(0, .20), label = \"A1\", xlabel =\"Median of 24h Systolic Blood Pressure (SBP)\")\n",
    "\n",
    "gam_plotMed(gamfitMed_eICU_ASP_48h, main = \"eICU\", xRange = c(90, 140),\n",
    "                    yRange = c(0, .20), label = \"C1\", xlabel =\"Median of 48h Systolic Blood Pressure (SBP)\")\n",
    "\n",
    "gam_plotMed(gamfitMed_eICU_ASP_72h, main = \"eICU\", xRange = c(90, 140),\n",
    "                    yRange = c(0, .20), label = \"E1\", xlabel =\"Median of 72h Systolic Blood Pressure (SBP)\")\n",
    "\n",
    "gam_plotMed(gamfitMed_MIMIC_ASP_24h, main = \"MIMIC\", xRange = c(90, 140),\n",
    "                    yRange = c(0, .20),label = \"B1\", xlabel =\"Median of 24h Systolic Blood Pressure (SBP)\")\n",
    "\n",
    "gam_plotMed(gamfitMed_MIMIC_ASP_48h, main = \"MIMIC\", xRange = c(90, 140),\n",
    "                    yRange = c(0, .20),label = \"D1\", xlabel =\"Median of 48h Systolic Blood Pressure (SBP)\")\n",
    "\n",
    "gam_plotMed(gamfitMed_MIMIC_ASP_72h, main = \"MIMIC\", xRange = c(90, 140),\n",
    "                    yRange = c(0, .20),label = \"F1\", xlabel =\"Median of 72h Systolic Blood Pressure (SBP)\")\n",
    "\n",
    "gam_plotMed(gamfitMed_ICU_eICU_ASP_24h, main = \"eICU\", xRange = c(90, 140),\n",
    "                    yRange = c(0, .20), label = \"A2\", xlabel =\"Median of 24h Systolic Blood Pressure (SBP)\")\n",
    "\n",
    "gam_plotMed(gamfitMed_ICU_eICU_ASP_48h, main = \"eICU\", xRange = c(90, 140),\n",
    "                    yRange = c(0, .20), label = \"C2\", xlabel =\"Median of 48h Systolic Blood Pressure (SBP)\")\n",
    "\n",
    "gam_plotMed(gamfitMed_ICU_eICU_ASP_72h, main = \"eICU\", xRange = c(90, 140),\n",
    "                    yRange = c(0, .20), label = \"E2\", xlabel =\"Median of 72h Systolic Blood Pressure (SBP)\")\n",
    "\n",
    "gam_plotMed(gamfitMed_ICU_MIMIC_ASP_24h, main = \"MIMIC\", xRange = c(90, 140),\n",
    "                    yRange = c(0, .20),label = \"B2\", xlabel =\"Median of 24h Systolic Blood Pressure (SBP)\")\n",
    "\n",
    "gam_plotMed(gamfitMed_ICU_MIMIC_ASP_48h, main = \"MIMIC\", xRange = c(90, 140),\n",
    "                    yRange = c(0, .20),label = \"D2\", xlabel =\"Median of 48h Systolic Blood Pressure (SBP)\")\n",
    "\n",
    "gam_plotMed(gamfitMed_ICU_MIMIC_ASP_72h, main = \"MIMIC\", xRange = c(90, 140),\n",
    "                    yRange = c(0, .20),label = \"F2\", xlabel =\"Median of 72h Systolic Blood Pressure (SBP)\")\n",
    "\n",
    "y_range = c(0.6, 1.0)\n",
    "gam_plotMed_noGradient(gamfitMed_AKI_eICU_ASP_24h, main = \"eICU\", xRange = c(90, 140),\n",
    "                    yRange = c(0.75, 0.95), label = \"A3\", xlabel =\"Median of 24h Systolic Blood Pressure (SBP)\")\n",
    "\n",
    "gam_plotMed_noGradient(gamfitMed_AKI_eICU_ASP_48h, main = \"eICU\", xRange = c(90, 140),\n",
    "                    yRange = c(0.75, 0.95), label = \"C3\", xlabel =\"Median of 48h Systolic Blood Pressure (SBP)\")\n",
    "\n",
    "gam_plotMed_noGradient(gamfitMed_AKI_eICU_ASP_72h, main = \"eICU\", xRange = c(90, 140),\n",
    "                    yRange = c(0.75, 0.95), label = \"E3\", xlabel =\"Median of 72h Systolic Blood Pressure (SBP)\")\n",
    "\n",
    "gam_plotMed_noGradient(gamfitMed_AKI_MIMIC_ASP_24h, main = \"MIMIC\", xRange = c(90, 140),\n",
    "                    yRange = y_range,label = \"B3\", xlabel =\"Median of 24h Systolic Blood Pressure (SBP)\")\n",
    "\n",
    "gam_plotMed_noGradient(gamfitMed_AKI_MIMIC_ASP_48h, main = \"MIMIC\", xRange = c(90, 140),\n",
    "                    yRange = y_range,label = \"D3\", xlabel =\"Median of 48h Systolic Blood Pressure (SBP)\")\n",
    "\n",
    "gam_plotMed_noGradient(gamfitMed_AKI_MIMIC_ASP_72h, main = \"MIMIC\", xRange = c(90, 140),\n",
    "                    yRange = y_range,label = \"F3\", xlabel =\"Median of 72h Systolic Blood Pressure (SBP)\")\n",
    "dev.off()"
   ]
  },
  {
   "cell_type": "markdown",
   "metadata": {},
   "source": [
    "## diastolic vs hospital, ICU and AKI"
   ]
  },
  {
   "cell_type": "code",
   "execution_count": 55,
   "metadata": {},
   "outputs": [],
   "source": [
    "# hospital\n",
    "gamfitMed_eICU_ADP_24h <- gam(hospital_expire_flag ~ s(ibp_diastolic_24h)+gender+s(age)+s(bmi)+s(sofatotal), data = df_eicu, family = binomial)\n",
    "gamfitMed_MIMIC_ADP_24h <- gam(hospital_expire_flag ~ s(ibp_diastolic_24h)+gender+s(age)+s(bmi)+s(sofatotal), data = df_mimic, family = binomial)\n",
    "\n",
    "gamfitMed_eICU_ADP_48h <- gam(hospital_expire_flag ~ s(ibp_diastolic_48h)+gender+s(age)+s(bmi)+s(sofatotal), data = df_eicu, family = binomial)\n",
    "gamfitMed_MIMIC_ADP_48h <- gam(hospital_expire_flag ~ s(ibp_diastolic_48h)+gender+s(age)+s(bmi)+s(sofatotal), data = df_mimic, family = binomial)\n",
    "\n",
    "gamfitMed_eICU_ADP_72h <- gam(hospital_expire_flag ~ s(ibp_diastolic_72h)+gender+s(age)+s(bmi)+s(sofatotal), data = df_eicu, family = binomial)\n",
    "gamfitMed_MIMIC_ADP_72h <- gam(hospital_expire_flag ~ s(ibp_diastolic_72h)+gender+s(age)+s(bmi)+s(sofatotal), data = df_mimic, family = binomial)\n",
    "\n",
    "\n",
    "# ICU\n",
    "gamfitMed_ICU_eICU_ADP_24h <- gam(icu_mortality ~ s(ibp_diastolic_24h)+gender+s(age)+s(bmi)+s(sofatotal), data = df_eicu, family = binomial)\n",
    "gamfitMed_ICU_MIMIC_ADP_24h <- gam(icu_mortality ~ s(ibp_diastolic_24h)+gender+s(age)+s(bmi)+s(sofatotal), data = df_mimic, family = binomial)\n",
    "\n",
    "gamfitMed_ICU_eICU_ADP_48h <- gam(icu_mortality ~ s(ibp_diastolic_48h)+gender+s(age)+s(bmi)+s(sofatotal), data = df_eicu, family = binomial)\n",
    "gamfitMed_ICU_MIMIC_ADP_48h <- gam(icu_mortality ~ s(ibp_diastolic_48h)+gender+s(age)+s(bmi)+s(sofatotal), data = df_mimic, family = binomial)\n",
    "\n",
    "gamfitMed_ICU_eICU_ADP_72h <- gam(icu_mortality ~ s(ibp_diastolic_72h)+gender+s(age)+s(bmi)+s(sofatotal), data = df_eicu, family = binomial)\n",
    "gamfitMed_ICU_MIMIC_ADP_72h <- gam(icu_mortality ~ s(ibp_diastolic_72h)+gender+s(age)+s(bmi)+s(sofatotal), data = df_mimic, family = binomial)\n",
    "\n",
    "# AKI\n",
    "gamfitMed_AKI_eICU_ADP_24h <- gam(AKI_7d ~ s(ibp_diastolic_24h)+gender+s(age)+s(bmi)+s(sofatotal)+s(vasso_duration_24h), data = df_eicu_aki, family = binomial)\n",
    "gamfitMed_AKI_MIMIC_ADP_24h <- gam(AKI_7d ~ s(ibp_diastolic_24h)+gender+s(age)+s(bmi)+s(sofatotal)+s(vasso_duration_24h), data = df_mimic_aki, family = binomial)\n",
    "\n",
    "gamfitMed_AKI_eICU_ADP_48h <- gam(AKI_7d ~ s(ibp_diastolic_48h)+gender+s(age)+s(bmi)+s(sofatotal)+s(vasso_duration_48h), data = df_eicu_aki, family = binomial)\n",
    "gamfitMed_AKI_MIMIC_ADP_48h <- gam(AKI_7d ~ s(ibp_diastolic_48h)+gender+s(age)+s(bmi)+s(sofatotal)+s(vasso_duration_48h), data = df_mimic_aki, family = binomial)\n",
    "\n",
    "gamfitMed_AKI_eICU_ADP_72h <- gam(AKI_7d ~ s(ibp_diastolic_72h)+gender+s(age)+s(bmi)+s(sofatotal)+s(vasso_duration_72h), data = df_eicu_aki, family = binomial)\n",
    "gamfitMed_AKI_MIMIC_ADP_72h <- gam(AKI_7d ~ s(ibp_diastolic_72h)+gender+s(age)+s(bmi)+s(sofatotal)+s(vasso_duration_72h), data = df_mimic_aki, family = binomial)\n"
   ]
  },
  {
   "cell_type": "code",
   "execution_count": 56,
   "metadata": {},
   "outputs": [
    {
     "name": "stdout",
     "output_type": "stream",
     "text": [
      "[1] \"Number of cases: 14374\"\n",
      "[1] \"Number of cases: 14374\"\n",
      "[1] \"Number of cases: 14374\"\n",
      "[1] \"Number of cases: 12291\"\n",
      "[1] \"Number of cases: 12291\"\n",
      "[1] \"Number of cases: 12291\"\n",
      "[1] \"Number of cases: 14374\"\n",
      "[1] \"Number of cases: 14374\"\n",
      "[1] \"Number of cases: 14374\"\n",
      "[1] \"Number of cases: 12291\"\n",
      "[1] \"Number of cases: 12291\"\n",
      "[1] \"Number of cases: 12291\"\n",
      "[1] \"Number of cases: 13105\"\n",
      "[1] \"Number of cases: 13105\"\n",
      "[1] \"Number of cases: 13105\"\n",
      "[1] \"Number of cases: 11445\"\n",
      "[1] \"Number of cases: 11445\"\n",
      "[1] \"Number of cases: 11445\"\n"
     ]
    },
    {
     "data": {
      "text/html": [
       "<strong>png:</strong> 2"
      ],
      "text/latex": [
       "\\textbf{png:} 2"
      ],
      "text/markdown": [
       "**png:** 2"
      ],
      "text/plain": [
       "png \n",
       "  2 "
      ]
     },
     "metadata": {},
     "output_type": "display_data"
    }
   ],
   "source": [
    "pdf(file = \"figure/gradient/ADP_Hosp_ICU_AKI.pdf\", width = plot_width*3,\n",
    "    height = 9, pointsize = point_size, family = font)\n",
    "par(mfcol = c(3,6), cex = 1)\n",
    "x_range = c(35, 75)\n",
    "gam_plotMed(gamfitMed_eICU_ADP_24h, main = \"eICU-CRD\", xRange = x_range,\n",
    "                    yRange = c(0, .20), label = \"A1\", xlabel =\"Median of 24h Diastolic Blood Pressure (DBP)\")\n",
    "\n",
    "gam_plotMed(gamfitMed_eICU_ADP_48h, main = \"eICU-CRD\", xRange = x_range,\n",
    "                    yRange = c(0, .20), label = \"C1\", xlabel =\"Median of 48h Diastolic Blood Pressure (DBP)\")\n",
    "\n",
    "gam_plotMed(gamfitMed_eICU_ADP_72h, main = \"eICU-CRD\", xRange = x_range,\n",
    "                    yRange = c(0, .20), label = \"E1\", xlabel =\"Median of 72h Diastolic Blood Pressure (DBP)\")\n",
    "\n",
    "gam_plotMed(gamfitMed_MIMIC_ADP_24h, main = \"MIMIC\", xRange = x_range,\n",
    "                    yRange = c(0, .20),label = \"B1\", xlabel =\"Median of 24h Diastolic Blood Pressure (DBP)\")\n",
    "\n",
    "gam_plotMed(gamfitMed_MIMIC_ADP_48h, main = \"MIMIC\", xRange = x_range,\n",
    "                    yRange = c(0, .20),label = \"D1\", xlabel =\"Median of 48h Diastolic Blood Pressure (DBP)\")\n",
    "\n",
    "gam_plotMed(gamfitMed_MIMIC_ADP_72h, main = \"MIMIC\", xRange = x_range,\n",
    "                    yRange = c(0, .20),label = \"F1\", xlabel =\"Median of 72h Diastolic Blood Pressure (DBP)\")\n",
    "x_range = c(35, 75)\n",
    "gam_plotMed(gamfitMed_ICU_eICU_ADP_24h, main = \"eICU-CRD\", xRange = x_range,\n",
    "                    yRange = c(0, .20), label = \"A2\", xlabel =\"Median of 24h Diastolic Blood Pressure (DBP)\")\n",
    "\n",
    "gam_plotMed(gamfitMed_ICU_eICU_ADP_48h, main = \"eICU-CRD\", xRange = x_range,\n",
    "                    yRange = c(0, .20), label = \"C2\", xlabel =\"Median of 48h Diastolic Blood Pressure (DBP)\")\n",
    "\n",
    "gam_plotMed(gamfitMed_ICU_eICU_ADP_72h, main = \"eICU-CRD\", xRange = x_range,\n",
    "                    yRange = c(0, .20), label = \"E2\", xlabel =\"Median of 72h Diastolic Blood Pressure (DBP)\")\n",
    "\n",
    "gam_plotMed(gamfitMed_ICU_MIMIC_ADP_24h, main = \"MIMIC\", xRange = x_range,\n",
    "                    yRange = c(0, .20),label = \"B2\", xlabel =\"Median of 24h Diastolic Blood Pressure (DBP)\")\n",
    "\n",
    "gam_plotMed(gamfitMed_ICU_MIMIC_ADP_48h, main = \"MIMIC\", xRange = x_range,\n",
    "                    yRange = c(0, .20),label = \"D2\", xlabel =\"Median of 48h Diastolic Blood Pressure (DBP)\")\n",
    "\n",
    "gam_plotMed(gamfitMed_ICU_MIMIC_ADP_72h, main = \"MIMIC\", xRange = x_range,\n",
    "                    yRange = c(0, .20),label = \"F2\", xlabel =\"Median of 72h Diastolic Blood Pressure (DBP)\")\n",
    "\n",
    "x_range = c(35, 75)\n",
    "y_range = c(0.75,0.95)\n",
    "y_range2 = c(0.6,1.0)\n",
    "gam_plotMed_noGradient(gamfitMed_AKI_eICU_ADP_24h, main = \"eICU-CRD\", xRange = x_range,\n",
    "                    yRange = y_range, label = \"A3\", xlabel =\"Median of 24h Diastolic Blood Pressure (DBP)\")\n",
    "\n",
    "gam_plotMed_noGradient(gamfitMed_AKI_eICU_ADP_48h, main = \"eICU-CRD\", xRange = x_range,\n",
    "                    yRange = y_range, label = \"C3\", xlabel =\"Median of 48h Diastolic Blood Pressure (DBP)\")\n",
    "\n",
    "gam_plotMed_noGradient(gamfitMed_AKI_eICU_ADP_72h, main = \"eICU-CRD\", xRange = x_range,\n",
    "                    yRange = y_range, label = \"E3\", xlabel =\"Median of 72h Diastolic Blood Pressure (DBP)\")\n",
    "\n",
    "gam_plotMed_noGradient(gamfitMed_AKI_MIMIC_ADP_24h, main = \"MIMIC\", xRange = x_range,\n",
    "                    yRange = y_range2,label = \"B3\", xlabel =\"Median of 24h Diastolic Blood Pressure (DBP)\")\n",
    "\n",
    "gam_plotMed_noGradient(gamfitMed_AKI_MIMIC_ADP_48h, main = \"MIMIC\", xRange = x_range,\n",
    "                    yRange = y_range2,label = \"D3\", xlabel =\"Median of 48h Diastolic Blood Pressure (DBP)\")\n",
    "\n",
    "gam_plotMed_noGradient(gamfitMed_AKI_MIMIC_ADP_72h, main = \"MIMIC\", xRange = x_range,\n",
    "                    yRange = y_range2,label = \"F3\", xlabel =\"Median of 72h Diastolic Blood Pressure (DBP)\")\n",
    "\n",
    "dev.off()"
   ]
  },
  {
   "cell_type": "markdown",
   "metadata": {},
   "source": [
    "# proportional plot function"
   ]
  },
  {
   "cell_type": "code",
   "execution_count": 9,
   "metadata": {},
   "outputs": [],
   "source": [
    "gam_plotProp <- function(\n",
    "  gamfitProp,\n",
    "  main = \"Effect of treatment regime\",\n",
    "  yRange = c(0, .2),\n",
    "  add = FALSE, col = \"black\",\n",
    "  label,\n",
    "  bp_type = \"MAP\",\n",
    "  bp_low = 70,\n",
    "  bp_high = 80\n",
    "){\n",
    "  print(paste(\"Number of cases:\", summary(gamfitProp)$n))\n",
    "  \n",
    "  xName <- colnames(gamfitProp$model)[grep(\"prop\", colnames(gamfitProp$model))]\n",
    "  \n",
    "  xRange = c(min(gamfitProp$model[,xName], na.rm= TRUE), max(gamfitProp$model[,xName], na.rm= TRUE))\n",
    "#   xRange = c(0, max(gamfitProp$model[,xName], na.rm= TRUE))\n",
    "  \n",
    "  if(startsWith(xName, 'propBelow', ignore.case=TRUE)) {\n",
    "    xlab <- paste(\"Proportion of \",bp_type,\" <\", bp_low, \"mmHg (blue) or >\",bp_high, \"mmHg (red)\")\n",
    "    #xlab <- expression(\"Proportion of  SpO\"[2]*\" measurements below 94%\")\n",
    "  } else if(startsWith(xName, 'propAbove', ignore.case=TRUE)) {\n",
    "    xlab <- paste(\"Proportion of \",bp_type, \" above \", bp_high, \"mmHg\")\n",
    "  } else {\n",
    "    xlab <- paste(\"Proportion of \",bp_type, \" within \",bp_low, \"mmHg to \", bp_high, \"mmHg\")\n",
    "  }\n",
    "  \n",
    "  if(colnames(gamfitProp$model)[1] == \"hospital_expire_flag\") {\n",
    "    ylab <- \"Probability of hospital mortality\"\n",
    "  }\n",
    "      else if(colnames(gamfitProp$model)[1] == \"AKI_7d\") {\n",
    "    ylab <- \"Probability of acute kidney injury (AKI)\"\n",
    "  }\n",
    "      else {\n",
    "    ylab <- \"Probability of ICU mortality\"\n",
    "  }\n",
    "  \n",
    "  if(!add) {\n",
    "    plot(1, type = 'n', xlim = xRange, ylim = yRange,\n",
    "           ylab = ylab,\n",
    "           xlab = xlab, main = main, yaxs = 'i', xaxs = 'i', yaxt = 'n', xaxt = 'n')\n",
    "      \n",
    "      att <- pretty(yRange)\n",
    "    if(!isTRUE(all.equal(att, round(att, digits = 2)))) {\n",
    "      axis(2, at = att, lab = paste0(sprintf('%.1f', att*100), '%'), las = TRUE)\n",
    "    } else axis(2, at = att, lab = paste0(att*100, '%'), las = TRUE)\n",
    "      \n",
    "      att <- pretty(xRange)\n",
    "      axis(1, at = att, lab = paste0(att*100,'%'), las = TRUE)\n",
    "  \n",
    "  }\n",
    "    \n",
    "    eval(parse(text = paste(c('predictionsPlusCI <- predict(gamfitProp, newdata = data.frame(', xName, \n",
    "                              ' = gamfitProp$model$', xName, \n",
    "                              \", gender = 'F', age = median(gamfitProp$model$age), bmi = median(gamfitProp$model$bmi),\",\n",
    "                      ifelse(\n",
    "                        \"high_vent_proportion\" %in% colnames(gamfitProp$model),\n",
    "                        \"high_vent_proportion = median(gamfitProp$model$high_vent_proportion),\",\n",
    "                        \"\"\n",
    "                      ),\n",
    "                      ifelse(\n",
    "                        \"ethnicity\" %in% colnames(gamfitProp$model),\n",
    "                        \"ethnicity = gamfitProp$model$ethnicity,\",\n",
    "                        \"\"\n",
    "                      ),\n",
    "                      ifelse(\n",
    "                        \"apsiii\" %in% colnames(gamfitProp$model),\n",
    "                        \"apsiii = median(gamfitProp$model$apsiii),\",\n",
    "                        \"sofatotal = median(gamfitProp$model$sofatotal),\"\n",
    "                        \n",
    "                      ),\n",
    "                      ifelse(\n",
    "                        \"vasso_duration_24h\" %in% colnames(gamfitProp$model),\n",
    "                        \"vasso_duration_24h = median(gamfitProp$model$vasso_duration_24h),\",\n",
    "                        \"\"\n",
    "                      ),\n",
    "                      ifelse(\n",
    "                        \"vasso_duration_48h\" %in% colnames(gamfitProp$model),\n",
    "                        \"vasso_duration_48h = median(gamfitProp$model$vasso_duration_48h),\",\n",
    "                        \"\"\n",
    "                      ),\n",
    "                      ifelse(\n",
    "                        \"vasso_duration_72h\" %in% colnames(gamfitProp$model),\n",
    "                        \"vasso_duration_72h = median(gamfitProp$model$vasso_duration_72h),\",\n",
    "                        \"\"\n",
    "                      ),\n",
    "                      \"hospital_id = 264), type = 'link', se.fit = T)\"), collapse = \"\")))\n",
    "    \n",
    "    \n",
    "  \n",
    "  # We have to use the data on which GAM was fit for confidence region as the GAM does not provide standard errors \n",
    "  # for 'new' input\n",
    "  eval(parse(text = paste0('xx <- gamfitProp$model$', xName)))\n",
    "  ord.index <- order(xx)\n",
    "  xx <- xx[ord.index]\n",
    "  \n",
    "  if(gamfitProp$family$link == 'logit') {\n",
    "    lcl <- logistic(predictionsPlusCI$fit[ord.index] - 1.96*predictionsPlusCI$se.fit[ord.index])\n",
    "    ucl <- logistic(predictionsPlusCI$fit[ord.index] + 1.96*predictionsPlusCI$se.fit[ord.index])\n",
    "    \n",
    "    lines(x = xx, y = lcl, lty = 2, lwd = 2, col = col)\n",
    "    lines(x = xx, y = ucl, lty = 2, lwd = 2, col = col)\n",
    "    lines(xx, logistic(predictionsPlusCI$fit[ord.index]), lwd = 3, col = col)\n",
    "  } else {\n",
    "    lcl <- predictionsPlusCI$fit[ord.index] - 1.96*predictionsPlusCI$se.fit[ord.index]\n",
    "    ucl <- predictionsPlusCI$fit[ord.index] + 1.96*predictionsPlusCI$se.fit[ord.index]\n",
    "    \n",
    "    lines(x = xx, y = lcl, lty = 2, lwd = 2, col = col)\n",
    "    lines(x = xx, y = ucl, lty = 2, lwd = 2, col = col)\n",
    "    lines(xx, predictionsPlusCI$fit[ord.index], lwd = 3, col = col)\n",
    "  }\n",
    "  \n",
    "  if(!missing(label)) fig_label(label)\n",
    "}"
   ]
  },
  {
   "cell_type": "code",
   "execution_count": 10,
   "metadata": {},
   "outputs": [],
   "source": [
    "gam_plotProp_AKI <- function(\n",
    "  gamfitProp,\n",
    "  main = \"Effect of treatment regime\",\n",
    "  yRange = c(0.6, 0.9),\n",
    "  add = FALSE, col = \"black\",\n",
    "  label,\n",
    "  bp_type = \"MAP\",\n",
    "  bp_low = 70\n",
    "){\n",
    "  print(paste(\"Number of cases:\", summary(gamfitProp)$n))\n",
    "  \n",
    "  xName <- colnames(gamfitProp$model)[grep(\"prop\", colnames(gamfitProp$model))]\n",
    "  \n",
    "  xRange = c(min(gamfitProp$model[,xName], na.rm= TRUE), max(gamfitProp$model[,xName], na.rm= TRUE))\n",
    "#   xRange = c(0, max(gamfitProp$model[,xName], na.rm= TRUE))\n",
    "  \n",
    "  if(startsWith(xName, 'propBelow', ignore.case=TRUE)) {\n",
    "    xlab <- paste(\"Proportion of \",bp_type,\" <\", bp_low, \"mmHg (blue)\")\n",
    "    #xlab <- expression(\"Proportion of  SpO\"[2]*\" measurements below 94%\")\n",
    "  }  else {\n",
    "    xlab <- paste(\"Proportion of \",bp_type, \" >= \",bp_low, \"mmHg\")\n",
    "  }\n",
    "  \n",
    "  if(colnames(gamfitProp$model)[1] == \"hospital_expire_flag\") {\n",
    "    ylab <- \"Probability of hospital mortality\"\n",
    "  }\n",
    "      else if(colnames(gamfitProp$model)[1] == \"AKI_7d\") {\n",
    "    ylab <- \"Probability of acute kidney injury (AKI)\"\n",
    "  }\n",
    "      else {\n",
    "    ylab <- \"Probability of ICU mortality\"\n",
    "  }\n",
    "  \n",
    "  if(!add) {\n",
    "    plot(1, type = 'n', xlim = xRange, ylim = yRange,\n",
    "           ylab = ylab,\n",
    "           xlab = xlab, main = main, yaxs = 'i', xaxs = 'i', yaxt = 'n', xaxt = 'n')\n",
    "      \n",
    "      att <- pretty(yRange)\n",
    "    if(!isTRUE(all.equal(att, round(att, digits = 2)))) {\n",
    "      axis(2, at = att, lab = paste0(sprintf('%.1f', att*100), '%'), las = TRUE)\n",
    "    } else axis(2, at = att, lab = paste0(att*100, '%'), las = TRUE)\n",
    "      \n",
    "      att <- pretty(xRange)\n",
    "      axis(1, at = att, lab = paste0(att*100,'%'), las = TRUE)\n",
    "  \n",
    "  }\n",
    "    \n",
    "    eval(parse(text = paste(c('predictionsPlusCI <- predict(gamfitProp, newdata = data.frame(', xName, \n",
    "                              ' = gamfitProp$model$', xName, \n",
    "                              \", gender = 'F', age = median(gamfitProp$model$age), bmi = median(gamfitProp$model$bmi),\",\n",
    "                      ifelse(\n",
    "                        \"high_vent_proportion\" %in% colnames(gamfitProp$model),\n",
    "                        \"high_vent_proportion = median(gamfitProp$model$high_vent_proportion),\",\n",
    "                        \"\"\n",
    "                      ),\n",
    "                      ifelse(\n",
    "                        \"ethnicity\" %in% colnames(gamfitProp$model),\n",
    "                        \"ethnicity = gamfitProp$model$ethnicity,\",\n",
    "                        \"\"\n",
    "                      ),\n",
    "                      ifelse(\n",
    "                        \"apsiii\" %in% colnames(gamfitProp$model),\n",
    "                        \"apsiii = median(gamfitProp$model$apsiii),\",\n",
    "                        \"sofatotal = median(gamfitProp$model$sofatotal),\"\n",
    "                        \n",
    "                      ),\n",
    "                      ifelse(\n",
    "                        \"vasso_duration_24h\" %in% colnames(gamfitProp$model),\n",
    "                        \"vasso_duration_24h = median(gamfitProp$model$vasso_duration_24h),\",\n",
    "                        \"\"\n",
    "                      ),\n",
    "                      ifelse(\n",
    "                        \"vasso_duration_48h\" %in% colnames(gamfitProp$model),\n",
    "                        \"vasso_duration_48h = median(gamfitProp$model$vasso_duration_48h),\",\n",
    "                        \"\"\n",
    "                      ),\n",
    "                      ifelse(\n",
    "                        \"vasso_duration_72h\" %in% colnames(gamfitProp$model),\n",
    "                        \"vasso_duration_72h = median(gamfitProp$model$vasso_duration_72h),\",\n",
    "                        \"\"\n",
    "                      ),\n",
    "                      \"hospital_id = 264), type = 'link', se.fit = T)\"), collapse = \"\")))\n",
    "    \n",
    "    \n",
    "  \n",
    "  # We have to use the data on which GAM was fit for confidence region as the GAM does not provide standard errors \n",
    "  # for 'new' input\n",
    "  eval(parse(text = paste0('xx <- gamfitProp$model$', xName)))\n",
    "  ord.index <- order(xx)\n",
    "  xx <- xx[ord.index]\n",
    "  \n",
    "  if(gamfitProp$family$link == 'logit') {\n",
    "    lcl <- logistic(predictionsPlusCI$fit[ord.index] - 1.96*predictionsPlusCI$se.fit[ord.index])\n",
    "    ucl <- logistic(predictionsPlusCI$fit[ord.index] + 1.96*predictionsPlusCI$se.fit[ord.index])\n",
    "    \n",
    "    lines(x = xx, y = lcl, lty = 2, lwd = 2, col = col)\n",
    "    lines(x = xx, y = ucl, lty = 2, lwd = 2, col = col)\n",
    "    lines(xx, logistic(predictionsPlusCI$fit[ord.index]), lwd = 3, col = col)\n",
    "  } else {\n",
    "    lcl <- predictionsPlusCI$fit[ord.index] - 1.96*predictionsPlusCI$se.fit[ord.index]\n",
    "    ucl <- predictionsPlusCI$fit[ord.index] + 1.96*predictionsPlusCI$se.fit[ord.index]\n",
    "    \n",
    "    lines(x = xx, y = lcl, lty = 2, lwd = 2, col = col)\n",
    "    lines(x = xx, y = ucl, lty = 2, lwd = 2, col = col)\n",
    "    lines(xx, predictionsPlusCI$fit[ord.index], lwd = 3, col = col)\n",
    "  }\n",
    "  \n",
    "  if(!missing(label)) fig_label(label)\n",
    "}"
   ]
  },
  {
   "cell_type": "markdown",
   "metadata": {},
   "source": [
    "# prop plot MAP 24h and hospital mortality, ICU and AKI"
   ]
  },
  {
   "cell_type": "code",
   "execution_count": 11,
   "metadata": {},
   "outputs": [],
   "source": [
    "# hospital\n",
    "gammfitProp_eICU <- gam(hospital_expire_flag ~ s(prop_map_24)+gender+s(age)+s(bmi)+s(sofatotal), data = df_eicu_prop, family = binomial)\n",
    "gamfitProp_below_eICU <- gam(hospital_expire_flag ~ s(propBelow_map_24)+gender+s(age)+s(bmi)+s(sofatotal), data = df_eicu_prop, family = binomial)\n",
    "gamfitProp_above_eICU <- gam(hospital_expire_flag ~ s(propAbove_map_24)+gender+s(age)+s(bmi)+s(sofatotal), data = df_eicu_prop, family = binomial)\n",
    "gamfitProp_MIMIC <- gam(hospital_expire_flag ~ s(prop_map_24)+gender+s(age)+s(bmi)+s(sofatotal), data = df_mimic_prop, family = binomial)\n",
    "gamfitProp_below_MIMIC <- gam(hospital_expire_flag ~ s(propBelow_map_24)+gender+s(age)+s(bmi)+s(sofatotal), data = df_mimic_prop, family = binomial)\n",
    "gamfitProp_above_MIMIC <- gam(hospital_expire_flag ~ s(propAbove_map_24)+gender+s(age)+s(bmi)+s(sofatotal), data = df_mimic_prop, family = binomial)\n",
    "# icu\n",
    "gammfitProp_eICU_2 <- gam(icu_mortality ~ s(prop_map_24)+gender+s(age)+s(bmi)+s(sofatotal), data = df_eicu_prop, family = binomial)\n",
    "gamfitProp_below_eICU_2 <- gam(icu_mortality ~ s(propBelow_map_24)+gender+s(age)+s(bmi)+s(sofatotal), data = df_eicu_prop, family = binomial)\n",
    "gamfitProp_above_eICU_2 <- gam(icu_mortality ~ s(propAbove_map_24)+gender+s(age)+s(bmi)+s(sofatotal), data = df_eicu_prop, family = binomial)\n",
    "gamfitProp_MIMIC_2 <- gam(icu_mortality ~ s(prop_map_24)+gender+s(age)+s(bmi)+s(sofatotal), data = df_mimic_prop, family = binomial)\n",
    "gamfitProp_below_MIMIC_2 <- gam(icu_mortality ~ s(propBelow_map_24)+gender+s(age)+s(bmi)+s(sofatotal), data = df_mimic_prop, family = binomial)\n",
    "gamfitProp_above_MIMIC_2 <- gam(icu_mortality ~ s(propAbove_map_24)+gender+s(age)+s(bmi)+s(sofatotal), data = df_mimic_prop, family = binomial)\n",
    "\n",
    "#AKI\n",
    "gamfitProp_eICU_AKI <- gam(AKI_7d ~ s(prop_map_24_AKI)+gender+s(age)+s(bmi)+s(sofatotal), data = df_eicu_prop_AKI, family = binomial)\n",
    "gamfitProp_below_eICU_AKI <- gam(AKI_7d ~ s(propBelow_map_24)+gender+s(age)+s(bmi)+s(sofatotal), data = df_eicu_prop_AKI, family = binomial)\n",
    "gamfitProp_MIMIC_AKI <- gam(AKI_7d ~ s(prop_map_24_AKI)+gender+s(age)+s(bmi)+s(sofatotal), data = df_mimic_prop_AKI, family = binomial)\n",
    "gamfitProp_below_MIMIC_AKI <- gam(AKI_7d ~ s(propBelow_map_24)+gender+s(age)+s(bmi)+s(sofatotal), data = df_mimic_prop_AKI, family = binomial)\n"
   ]
  },
  {
   "cell_type": "code",
   "execution_count": 13,
   "metadata": {},
   "outputs": [
    {
     "name": "stdout",
     "output_type": "stream",
     "text": [
      "[1] \"Number of cases: 14374\"\n",
      "[1] \"Number of cases: 14374\"\n",
      "[1] \"Number of cases: 13105\"\n",
      "[1] \"Number of cases: 14374\"\n",
      "[1] \"Number of cases: 14374\"\n",
      "[1] \"Number of cases: 14374\"\n",
      "[1] \"Number of cases: 14374\"\n",
      "[1] \"Number of cases: 13105\"\n",
      "[1] \"Number of cases: 12291\"\n",
      "[1] \"Number of cases: 12291\"\n",
      "[1] \"Number of cases: 11445\"\n",
      "[1] \"Number of cases: 12291\"\n",
      "[1] \"Number of cases: 12291\"\n",
      "[1] \"Number of cases: 12291\"\n",
      "[1] \"Number of cases: 12291\"\n",
      "[1] \"Number of cases: 11445\"\n"
     ]
    },
    {
     "data": {
      "text/html": [
       "<strong>png:</strong> 2"
      ],
      "text/latex": [
       "\\textbf{png:} 2"
      ],
      "text/markdown": [
       "**png:** 2"
      ],
      "text/plain": [
       "png \n",
       "  2 "
      ]
     },
     "metadata": {},
     "output_type": "display_data"
    }
   ],
   "source": [
    "pdf(file = \"figure/gradient/prop_7d_MAP24_Hosp_ICU_AKI.pdf\", width = 16,\n",
    "    height = 9, pointsize = point_size, family = font)\n",
    "par(mfcol = c(3,4), cex = 1)\n",
    "\n",
    "gam_plotProp(gammfitProp_eICU, main = \"eICU 24h\", label = \"A1\",bp_type = \"MAP\",bp_low = 70, bp_high = 80)\n",
    "gam_plotProp(gammfitProp_eICU_2, main = \"eICU 24h\", label = \"B1\",bp_type = \"MAP\",bp_low = 70, bp_high = 80)\n",
    "gam_plotProp_AKI(gamfitProp_eICU_AKI, main = \"eICU 24h\", label = \"C1\", bp_type = \"MAP\", bp_low = 70,yRange = c(0.75, 0.95))\n",
    "\n",
    "\n",
    "gam_plotProp(gamfitProp_below_eICU, main = \"eICU 24h\", label = \"A2\",bp_type = \"MAP\",col =\"blue\",bp_low = 70, bp_high = 80)\n",
    "gam_plotProp(gamfitProp_above_eICU, main = \"\", col = \"red\", add = TRUE)\n",
    "gam_plotProp(gamfitProp_below_eICU_2, main = \"eICU 24h\", label = \"B2\",bp_type = \"MAP\",col =\"blue\",bp_low = 70, bp_high = 80)\n",
    "gam_plotProp(gamfitProp_above_eICU_2, main = \"\", col = \"red\", add = TRUE)\n",
    "gam_plotProp_AKI(gamfitProp_below_eICU_AKI, main = \"eICU 24h\", label = \"C2\",col =\"blue\",bp_type = \"MAP\", bp_low = 70, yRange = c(0.75, 0.95))\n",
    "\n",
    "\n",
    "gam_plotProp(gamfitProp_MIMIC, main = \"MIMIC 24h\", label = \"A3\", bp_type = \"MAP\", bp_low =70, bp_high = 80)\n",
    "gam_plotProp(gamfitProp_MIMIC_2, main = \"MIMIC 24h\", label = \"B3\", bp_type = \"MAP\", bp_low = 70, bp_high = 80)\n",
    "gam_plotProp_AKI(gamfitProp_MIMIC_AKI, main = \"MIMIC 24h\", label = \"C3\", bp_type = \"MAP\", bp_low = 70)\n",
    "\n",
    "\n",
    "gam_plotProp(gamfitProp_below_MIMIC, main = \"MIMIC 24h\", label = \"A4\",bp_type = \"MAP\", col =\"blue\", bp_low = 70, bp_high = 80)\n",
    "gam_plotProp(gamfitProp_above_MIMIC, main = \"\", col = \"red\", add = TRUE)\n",
    "gam_plotProp(gamfitProp_below_MIMIC_2, main = \"MIMIC 24h\", label = \"B4\",bp_type = \"MAP\",col =\"blue\", bp_low = 70, bp_high = 80)\n",
    "gam_plotProp(gamfitProp_above_MIMIC_2, main = \"\", col = \"red\", add = TRUE)\n",
    "gam_plotProp_AKI(gamfitProp_below_MIMIC_AKI, main = \"MIMIC 24h\", label = \"C4\",bp_type = \"MAP\",col =\"blue\", bp_low = 70)\n",
    "\n",
    "\n",
    "dev.off()\n"
   ]
  },
  {
   "cell_type": "markdown",
   "metadata": {},
   "source": [
    "# prop plot MAP 48h and hospital mortality, ICU and AKI"
   ]
  },
  {
   "cell_type": "code",
   "execution_count": 14,
   "metadata": {},
   "outputs": [],
   "source": [
    "# hospital\n",
    "gammfitProp_eICU <- gam(hospital_expire_flag ~ s(prop_map_48)+gender+s(age)+s(bmi)+s(sofatotal), data = df_eicu_prop_48, family = binomial)\n",
    "gamfitProp_below_eICU <- gam(hospital_expire_flag ~ s(propBelow_map_48)+gender+s(age)+s(bmi)+s(sofatotal), data = df_eicu_prop_48, family = binomial)\n",
    "gamfitProp_above_eICU <- gam(hospital_expire_flag ~ s(propAbove_map_48)+gender+s(age)+s(bmi)+s(sofatotal), data = df_eicu_prop_48, family = binomial)\n",
    "gamfitProp_MIMIC <- gam(hospital_expire_flag ~ s(prop_map_48)+gender+s(age)+s(bmi)+s(sofatotal), data = df_mimic_prop_48, family = binomial)\n",
    "gamfitProp_below_MIMIC <- gam(hospital_expire_flag ~ s(propBelow_map_48)+gender+s(age)+s(bmi)+s(sofatotal), data = df_mimic_prop_48, family = binomial)\n",
    "gamfitProp_above_MIMIC <- gam(hospital_expire_flag ~ s(propAbove_map_48)+gender+s(age)+s(bmi)+s(sofatotal), data = df_mimic_prop_48, family = binomial)\n",
    "# icu\n",
    "gammfitProp_eICU_2 <- gam(icu_mortality ~ s(prop_map_48)+gender+s(age)+s(bmi)+s(sofatotal), data = df_eicu_prop_48, family = binomial)\n",
    "gamfitProp_below_eICU_2 <- gam(icu_mortality ~ s(propBelow_map_48)+gender+s(age)+s(bmi)+s(sofatotal), data = df_eicu_prop_48, family = binomial)\n",
    "gamfitProp_above_eICU_2 <- gam(icu_mortality ~ s(propAbove_map_48)+gender+s(age)+s(bmi)+s(sofatotal), data = df_eicu_prop_48, family = binomial)\n",
    "gamfitProp_MIMIC_2 <- gam(icu_mortality ~ s(prop_map_48)+gender+s(age)+s(bmi)+s(sofatotal), data = df_mimic_prop_48, family = binomial)\n",
    "gamfitProp_below_MIMIC_2 <- gam(icu_mortality ~ s(propBelow_map_48)+gender+s(age)+s(bmi)+s(sofatotal), data = df_mimic_prop_48, family = binomial)\n",
    "gamfitProp_above_MIMIC_2 <- gam(icu_mortality ~ s(propAbove_map_48)+gender+s(age)+s(bmi)+s(sofatotal), data = df_mimic_prop_48, family = binomial)\n",
    "\n",
    "#AKI\n",
    "gamfitProp_eICU_AKI <- gam(AKI_7d ~ s(prop_map_48_AKI)+gender+s(age)+s(bmi)+s(sofatotal), data = df_eicu_prop_AKI_48, family = binomial)\n",
    "gamfitProp_below_eICU_AKI <- gam(AKI_7d ~ s(propBelow_map_48)+gender+s(age)+s(bmi)+s(sofatotal), data = df_eicu_prop_AKI_48, family = binomial)\n",
    "gamfitProp_MIMIC_AKI <- gam(AKI_7d ~ s(prop_map_48_AKI)+gender+s(age)+s(bmi)+s(sofatotal), data = df_mimic_prop_AKI_48, family = binomial)\n",
    "gamfitProp_below_MIMIC_AKI <- gam(AKI_7d ~ s(propBelow_map_48)+gender+s(age)+s(bmi)+s(sofatotal), data = df_mimic_prop_AKI_48, family = binomial)\n"
   ]
  },
  {
   "cell_type": "code",
   "execution_count": 15,
   "metadata": {},
   "outputs": [
    {
     "name": "stdout",
     "output_type": "stream",
     "text": [
      "[1] \"Number of cases: 14374\"\n",
      "[1] \"Number of cases: 14374\"\n",
      "[1] \"Number of cases: 13105\"\n",
      "[1] \"Number of cases: 14374\"\n",
      "[1] \"Number of cases: 14374\"\n",
      "[1] \"Number of cases: 14374\"\n",
      "[1] \"Number of cases: 14374\"\n",
      "[1] \"Number of cases: 13105\"\n",
      "[1] \"Number of cases: 12291\"\n",
      "[1] \"Number of cases: 12291\"\n",
      "[1] \"Number of cases: 11445\"\n",
      "[1] \"Number of cases: 12291\"\n",
      "[1] \"Number of cases: 12291\"\n",
      "[1] \"Number of cases: 12291\"\n",
      "[1] \"Number of cases: 12291\"\n",
      "[1] \"Number of cases: 11445\"\n"
     ]
    },
    {
     "data": {
      "text/html": [
       "<strong>png:</strong> 2"
      ],
      "text/latex": [
       "\\textbf{png:} 2"
      ],
      "text/markdown": [
       "**png:** 2"
      ],
      "text/plain": [
       "png \n",
       "  2 "
      ]
     },
     "metadata": {},
     "output_type": "display_data"
    }
   ],
   "source": [
    "pdf(file = \"figure/gradient/prop_7d_MAP48_Hosp_ICU_AKI.pdf\", width = 16,\n",
    "    height = 9, pointsize = point_size, family = font)\n",
    "par(mfcol = c(3,4), cex = 1)\n",
    "\n",
    "gam_plotProp(gammfitProp_eICU, main = \"eICU 48h\", label = \"A1\",bp_type = \"MAP\",bp_low = 70, bp_high = 80)\n",
    "gam_plotProp(gammfitProp_eICU_2, main = \"eICU 48h\", label = \"B1\",bp_type = \"MAP\",bp_low = 70, bp_high = 80)\n",
    "gam_plotProp_AKI(gamfitProp_eICU_AKI, main = \"eICU 48h\", label = \"C1\", bp_type = \"MAP\", bp_low = 70,yRange = c(0.75, 0.95))\n",
    "\n",
    "\n",
    "gam_plotProp(gamfitProp_below_eICU, main = \"eICU 48h\", label = \"A2\",bp_type = \"MAP\",col =\"blue\",bp_low = 70, bp_high = 80)\n",
    "gam_plotProp(gamfitProp_above_eICU, main = \"\", col = \"red\", add = TRUE)\n",
    "gam_plotProp(gamfitProp_below_eICU_2, main = \"eICU 48h\", label = \"B2\",bp_type = \"MAP\",col =\"blue\",bp_low = 70, bp_high = 80)\n",
    "gam_plotProp(gamfitProp_above_eICU_2, main = \"\", col = \"red\", add = TRUE)\n",
    "gam_plotProp_AKI(gamfitProp_below_eICU_AKI, main = \"eICU 48h\", label = \"C2\",col =\"blue\",bp_type = \"MAP\", bp_low = 70, yRange = c(0.75, 0.95))\n",
    "\n",
    "\n",
    "gam_plotProp(gamfitProp_MIMIC, main = \"MIMIC 48h\", label = \"A3\", bp_type = \"MAP\", bp_low =70, bp_high = 80)\n",
    "gam_plotProp(gamfitProp_MIMIC_2, main = \"MIMIC 48h\", label = \"B3\", bp_type = \"MAP\", bp_low = 70, bp_high = 80)\n",
    "gam_plotProp_AKI(gamfitProp_MIMIC_AKI, main = \"MIMIC 48h\", label = \"C3\", bp_type = \"MAP\", bp_low = 70,yRange = c(0.6, 1.0))\n",
    "\n",
    "\n",
    "gam_plotProp(gamfitProp_below_MIMIC, main = \"MIMIC 48h\", label = \"A4\",bp_type = \"MAP\", col =\"blue\", bp_low = 70, bp_high = 80)\n",
    "gam_plotProp(gamfitProp_above_MIMIC, main = \"\", col = \"red\", add = TRUE)\n",
    "gam_plotProp(gamfitProp_below_MIMIC_2, main = \"MIMIC 48h\", label = \"B4\",bp_type = \"MAP\",col =\"blue\", bp_low = 70, bp_high = 80)\n",
    "gam_plotProp(gamfitProp_above_MIMIC_2, main = \"\", col = \"red\", add = TRUE)\n",
    "gam_plotProp_AKI(gamfitProp_below_MIMIC_AKI, main = \"MIMIC 48h\", label = \"C4\",bp_type = \"MAP\",col =\"blue\", bp_low = 70,yRange = c(0.6, 1.0))\n",
    "\n",
    "\n",
    "dev.off()\n"
   ]
  },
  {
   "cell_type": "markdown",
   "metadata": {},
   "source": [
    "# prop plot MAP 72h and hospital mortality, ICU and AKI"
   ]
  },
  {
   "cell_type": "code",
   "execution_count": 16,
   "metadata": {},
   "outputs": [],
   "source": [
    "# hospital\n",
    "gammfitProp_eICU <- gam(hospital_expire_flag ~ s(prop_map_72)+gender+s(age)+s(bmi)+s(sofatotal), data = df_eicu_prop_72, family = binomial)\n",
    "gamfitProp_below_eICU <- gam(hospital_expire_flag ~ s(propBelow_map_72)+gender+s(age)+s(bmi)+s(sofatotal), data = df_eicu_prop_72, family = binomial)\n",
    "gamfitProp_above_eICU <- gam(hospital_expire_flag ~ s(propAbove_map_72)+gender+s(age)+s(bmi)+s(sofatotal), data = df_eicu_prop_72, family = binomial)\n",
    "gamfitProp_MIMIC <- gam(hospital_expire_flag ~ s(prop_map_72)+gender+s(age)+s(bmi)+s(sofatotal), data = df_mimic_prop_72, family = binomial)\n",
    "gamfitProp_below_MIMIC <- gam(hospital_expire_flag ~ s(propBelow_map_72)+gender+s(age)+s(bmi)+s(sofatotal), data = df_mimic_prop_72, family = binomial)\n",
    "gamfitProp_above_MIMIC <- gam(hospital_expire_flag ~ s(propAbove_map_72)+gender+s(age)+s(bmi)+s(sofatotal), data = df_mimic_prop_72, family = binomial)\n",
    "# icu\n",
    "gammfitProp_eICU_2 <- gam(icu_mortality ~ s(prop_map_72)+gender+s(age)+s(bmi)+s(sofatotal), data = df_eicu_prop_72, family = binomial)\n",
    "gamfitProp_below_eICU_2 <- gam(icu_mortality ~ s(propBelow_map_72)+gender+s(age)+s(bmi)+s(sofatotal), data = df_eicu_prop_72, family = binomial)\n",
    "gamfitProp_above_eICU_2 <- gam(icu_mortality ~ s(propAbove_map_72)+gender+s(age)+s(bmi)+s(sofatotal), data = df_eicu_prop_72, family = binomial)\n",
    "gamfitProp_MIMIC_2 <- gam(icu_mortality ~ s(prop_map_72)+gender+s(age)+s(bmi)+s(sofatotal), data = df_mimic_prop_72, family = binomial)\n",
    "gamfitProp_below_MIMIC_2 <- gam(icu_mortality ~ s(propBelow_map_72)+gender+s(age)+s(bmi)+s(sofatotal), data = df_mimic_prop_72, family = binomial)\n",
    "gamfitProp_above_MIMIC_2 <- gam(icu_mortality ~ s(propAbove_map_72)+gender+s(age)+s(bmi)+s(sofatotal), data = df_mimic_prop_72, family = binomial)\n",
    "\n",
    "#AKI\n",
    "gamfitProp_eICU_AKI <- gam(AKI_7d ~ s(prop_map_72_AKI)+gender+s(age)+s(bmi)+s(sofatotal), data = df_eicu_prop_AKI_72, family = binomial)\n",
    "gamfitProp_below_eICU_AKI <- gam(AKI_7d ~ s(propBelow_map_72)+gender+s(age)+s(bmi)+s(sofatotal), data = df_eicu_prop_AKI_72, family = binomial)\n",
    "gamfitProp_MIMIC_AKI <- gam(AKI_7d ~ s(prop_map_72_AKI)+gender+s(age)+s(bmi)+s(sofatotal), data = df_mimic_prop_AKI_72, family = binomial)\n",
    "gamfitProp_below_MIMIC_AKI <- gam(AKI_7d ~ s(propBelow_map_72)+gender+s(age)+s(bmi)+s(sofatotal), data = df_mimic_prop_AKI_72, family = binomial)\n"
   ]
  },
  {
   "cell_type": "code",
   "execution_count": 17,
   "metadata": {},
   "outputs": [
    {
     "name": "stdout",
     "output_type": "stream",
     "text": [
      "[1] \"Number of cases: 14374\"\n",
      "[1] \"Number of cases: 14374\"\n",
      "[1] \"Number of cases: 13105\"\n",
      "[1] \"Number of cases: 14374\"\n",
      "[1] \"Number of cases: 14374\"\n",
      "[1] \"Number of cases: 14374\"\n",
      "[1] \"Number of cases: 14374\"\n",
      "[1] \"Number of cases: 13105\"\n",
      "[1] \"Number of cases: 12291\"\n",
      "[1] \"Number of cases: 12291\"\n",
      "[1] \"Number of cases: 11445\"\n",
      "[1] \"Number of cases: 12291\"\n",
      "[1] \"Number of cases: 12291\"\n",
      "[1] \"Number of cases: 12291\"\n",
      "[1] \"Number of cases: 12291\"\n",
      "[1] \"Number of cases: 11445\"\n"
     ]
    },
    {
     "data": {
      "text/html": [
       "<strong>png:</strong> 2"
      ],
      "text/latex": [
       "\\textbf{png:} 2"
      ],
      "text/markdown": [
       "**png:** 2"
      ],
      "text/plain": [
       "png \n",
       "  2 "
      ]
     },
     "metadata": {},
     "output_type": "display_data"
    }
   ],
   "source": [
    "pdf(file = \"figure/gradient/prop_7d_MAP72_Hosp_ICU_AKI.pdf\", width = 16,\n",
    "    height = 9, pointsize = point_size, family = font)\n",
    "par(mfcol = c(3,4), cex = 1)\n",
    "\n",
    "gam_plotProp(gammfitProp_eICU, main = \"eICU 72h\", label = \"A1\",bp_type = \"MAP\",bp_low = 70, bp_high = 80,yRange = c(0,0.30))\n",
    "gam_plotProp(gammfitProp_eICU_2, main = \"eICU 72h\", label = \"B1\",bp_type = \"MAP\",bp_low = 70, bp_high = 80,yRange = c(0,0.30))\n",
    "gam_plotProp_AKI(gamfitProp_eICU_AKI, main = \"eICU 72h\", label = \"C1\", bp_type = \"MAP\", bp_low = 70,yRange = c(0.75, 0.95))\n",
    "\n",
    "\n",
    "gam_plotProp(gamfitProp_below_eICU, main = \"eICU 72h\", label = \"A2\",bp_type = \"MAP\",col =\"blue\",bp_low = 70, bp_high = 80, yRange = c(0,0.30))\n",
    "gam_plotProp(gamfitProp_above_eICU, main = \"\", col = \"red\", add = TRUE)\n",
    "gam_plotProp(gamfitProp_below_eICU_2, main = \"eICU 72h\", label = \"B2\",bp_type = \"MAP\",col =\"blue\",bp_low = 70, bp_high = 80,yRange = c(0,0.30))\n",
    "gam_plotProp(gamfitProp_above_eICU_2, main = \"\", col = \"red\", add = TRUE)\n",
    "gam_plotProp_AKI(gamfitProp_below_eICU_AKI, main = \"eICU 72h\", label = \"C2\",col =\"blue\",bp_type = \"MAP\", bp_low = 70, yRange = c(0.75, 0.95))\n",
    "\n",
    "\n",
    "gam_plotProp(gamfitProp_MIMIC, main = \"MIMIC 72h\", label = \"A3\", bp_type = \"MAP\", bp_low =70, bp_high = 80,yRange = c(0,0.30))\n",
    "gam_plotProp(gamfitProp_MIMIC_2, main = \"MIMIC 72h\", label = \"B3\", bp_type = \"MAP\", bp_low = 70, bp_high = 80,yRange = c(0,0.30))\n",
    "gam_plotProp_AKI(gamfitProp_MIMIC_AKI, main = \"MIMIC 72h\", label = \"C3\", bp_type = \"MAP\", bp_low = 70,yRange = c(0.6,1.0))\n",
    "\n",
    "\n",
    "gam_plotProp(gamfitProp_below_MIMIC, main = \"MIMIC 72h\", label = \"A4\",bp_type = \"MAP\", col =\"blue\", bp_low = 70, bp_high = 80,yRange = c(0,0.30))\n",
    "gam_plotProp(gamfitProp_above_MIMIC, main = \"\", col = \"red\", add = TRUE)\n",
    "gam_plotProp(gamfitProp_below_MIMIC_2, main = \"MIMIC 72h\", label = \"B4\",bp_type = \"MAP\",col =\"blue\", bp_low = 70, bp_high = 80,yRange = c(0,0.30))\n",
    "gam_plotProp(gamfitProp_above_MIMIC_2, main = \"\", col = \"red\", add = TRUE)\n",
    "gam_plotProp_AKI(gamfitProp_below_MIMIC_AKI, main = \"MIMIC 72h\", label = \"C4\",bp_type = \"MAP\",col =\"blue\", bp_low = 70,yRange = c(0.6,1.0))\n",
    "\n",
    "\n",
    "dev.off()\n"
   ]
  },
  {
   "cell_type": "markdown",
   "metadata": {},
   "source": [
    "## proportion plot SBP 24h and hospital mortality, ICU and AKI"
   ]
  },
  {
   "cell_type": "code",
   "execution_count": 18,
   "metadata": {},
   "outputs": [],
   "source": [
    "# hospital\n",
    "gammfitProp_eICU <- gam(hospital_expire_flag ~ s(prop_asp_24)+gender+s(age)+s(bmi)+s(sofatotal), data = df_eicu_prop, family = binomial)\n",
    "gamfitProp_below_eICU <- gam(hospital_expire_flag ~ s(propBelow_asp_24)+gender+s(age)+s(bmi)+s(sofatotal), data = df_eicu_prop, family = binomial)\n",
    "gamfitProp_above_eICU <- gam(hospital_expire_flag ~ s(propAbove_asp_24)+gender+s(age)+s(bmi)+s(sofatotal), data = df_eicu_prop, family = binomial)\n",
    "gamfitProp_MIMIC <- gam(hospital_expire_flag ~ s(prop_asp_24)+gender+s(age)+s(bmi)+s(sofatotal), data = df_mimic_prop, family = binomial)\n",
    "gamfitProp_below_MIMIC <- gam(hospital_expire_flag ~ s(propBelow_asp_24)+gender+s(age)+s(bmi)+s(sofatotal), data = df_mimic_prop, family = binomial)\n",
    "gamfitProp_above_MIMIC <- gam(hospital_expire_flag ~ s(propAbove_asp_24)+gender+s(age)+s(bmi)+s(sofatotal), data = df_mimic_prop, family = binomial)\n",
    "# icu\n",
    "gammfitProp_eICU_2 <- gam(icu_mortality ~ s(prop_asp_24)+gender+s(age)+s(bmi)+s(sofatotal), data = df_eicu_prop, family = binomial)\n",
    "gamfitProp_below_eICU_2 <- gam(icu_mortality ~ s(propBelow_asp_24)+gender+s(age)+s(bmi)+s(sofatotal), data = df_eicu_prop, family = binomial)\n",
    "gamfitProp_above_eICU_2 <- gam(icu_mortality ~ s(propAbove_asp_24)+gender+s(age)+s(bmi)+s(sofatotal), data = df_eicu_prop, family = binomial)\n",
    "gamfitProp_MIMIC_2 <- gam(icu_mortality ~ s(prop_asp_24)+gender+s(age)+s(bmi)+s(sofatotal), data = df_mimic_prop, family = binomial)\n",
    "gamfitProp_below_MIMIC_2 <- gam(icu_mortality ~ s(propBelow_asp_24)+gender+s(age)+s(bmi)+s(sofatotal), data = df_mimic_prop, family = binomial)\n",
    "gamfitProp_above_MIMIC_2 <- gam(icu_mortality ~ s(propAbove_asp_24)+gender+s(age)+s(bmi)+s(sofatotal), data = df_mimic_prop, family = binomial)\n",
    "\n",
    "#AKI\n",
    "gamfitProp_eICU_AKI <- gam(AKI_7d ~ s(prop_asp_24_AKI)+gender+s(age)+s(bmi)+s(sofatotal), data = df_eicu_prop_AKI, family = binomial)\n",
    "gamfitProp_below_eICU_AKI <- gam(AKI_7d ~ s(propBelow_asp_24)+gender+s(age)+s(bmi)+s(sofatotal), data = df_eicu_prop_AKI, family = binomial)\n",
    "gamfitProp_MIMIC_AKI <- gam(AKI_7d ~ s(prop_asp_24_AKI)+gender+s(age)+s(bmi)+s(sofatotal), data = df_mimic_prop_AKI, family = binomial)\n",
    "gamfitProp_below_MIMIC_AKI <- gam(AKI_7d ~ s(propBelow_asp_24)+gender+s(age)+s(bmi)+s(sofatotal), data = df_mimic_prop_AKI, family = binomial)\n"
   ]
  },
  {
   "cell_type": "code",
   "execution_count": 19,
   "metadata": {},
   "outputs": [
    {
     "name": "stdout",
     "output_type": "stream",
     "text": [
      "[1] \"Number of cases: 14374\"\n",
      "[1] \"Number of cases: 14374\"\n",
      "[1] \"Number of cases: 13105\"\n",
      "[1] \"Number of cases: 14374\"\n",
      "[1] \"Number of cases: 14374\"\n",
      "[1] \"Number of cases: 14374\"\n",
      "[1] \"Number of cases: 14374\"\n",
      "[1] \"Number of cases: 13105\"\n",
      "[1] \"Number of cases: 12291\"\n",
      "[1] \"Number of cases: 12291\"\n",
      "[1] \"Number of cases: 11445\"\n",
      "[1] \"Number of cases: 12291\"\n",
      "[1] \"Number of cases: 12291\"\n",
      "[1] \"Number of cases: 12291\"\n",
      "[1] \"Number of cases: 12291\"\n",
      "[1] \"Number of cases: 11445\"\n"
     ]
    },
    {
     "data": {
      "text/html": [
       "<strong>png:</strong> 2"
      ],
      "text/latex": [
       "\\textbf{png:} 2"
      ],
      "text/markdown": [
       "**png:** 2"
      ],
      "text/plain": [
       "png \n",
       "  2 "
      ]
     },
     "metadata": {},
     "output_type": "display_data"
    }
   ],
   "source": [
    "pdf(file = \"figure/gradient/prop_7d_SBP24_Hosp_ICU_AKI.pdf\", width = 16,\n",
    "    height = 9, pointsize = point_size, family = font)\n",
    "par(mfcol = c(3,4), cex = 1)\n",
    "\n",
    "gam_plotProp(gammfitProp_eICU, main = \"eICU 24h\", label = \"A1\",bp_type = \"SBP\",bp_low = 110, bp_high = 120)\n",
    "gam_plotProp(gammfitProp_eICU_2, main = \"eICU 24h\", label = \"B1\",bp_type = \"SBP\",bp_low = 110, bp_high = 120)\n",
    "gam_plotProp_AKI(gamfitProp_eICU_AKI, main = \"eICU 24h\", label = \"C1\", bp_type = \"SBP\", bp_low = 110,yRange = c(0.75, 0.95))\n",
    "\n",
    "\n",
    "gam_plotProp(gamfitProp_below_eICU, main = \"eICU 24h\", label = \"A2\",bp_type = \"SBP\",col =\"blue\",bp_low = 110, bp_high = 120)\n",
    "gam_plotProp(gamfitProp_above_eICU, main = \"\", col = \"red\", add = TRUE)\n",
    "gam_plotProp(gamfitProp_below_eICU_2, main = \"eICU 24h\", label = \"B2\",bp_type = \"SBP\",col =\"blue\",bp_low = 110, bp_high = 120)\n",
    "gam_plotProp(gamfitProp_above_eICU_2, main = \"\", col = \"red\", add = TRUE)\n",
    "gam_plotProp_AKI(gamfitProp_below_eICU_AKI, main = \"eICU 24h\", label = \"C2\",col =\"blue\",bp_type = \"SBP\", bp_low = 110, yRange = c(0.75, 0.95))\n",
    "\n",
    "\n",
    "gam_plotProp(gamfitProp_MIMIC, main = \"MIMIC 24h\", label = \"A3\", bp_type = \"SBP\", bp_low =110, bp_high = 120)\n",
    "gam_plotProp(gamfitProp_MIMIC_2, main = \"MIMIC 24h\", label = \"B3\", bp_type = \"SBP\", bp_low = 110, bp_high = 120)\n",
    "gam_plotProp_AKI(gamfitProp_MIMIC_AKI, main = \"MIMIC 24h\", label = \"C3\", bp_type = \"SBP\", bp_low = 110)\n",
    "\n",
    "\n",
    "gam_plotProp(gamfitProp_below_MIMIC, main = \"MIMIC 24h\", label = \"A4\",bp_type = \"SBP\", col =\"blue\", bp_low = 110, bp_high = 120)\n",
    "gam_plotProp(gamfitProp_above_MIMIC, main = \"\", col = \"red\", add = TRUE)\n",
    "gam_plotProp(gamfitProp_below_MIMIC_2, main = \"MIMIC 24h\", label = \"B4\",bp_type = \"SBP\",col =\"blue\", bp_low = 110, bp_high = 120)\n",
    "gam_plotProp(gamfitProp_above_MIMIC_2, main = \"\", col = \"red\", add = TRUE)\n",
    "gam_plotProp_AKI(gamfitProp_below_MIMIC_AKI, main = \"MIMIC 24h\", label = \"C4\",bp_type = \"SBP\",col =\"blue\", bp_low = 110)\n",
    "\n",
    "\n",
    "dev.off()\n"
   ]
  },
  {
   "cell_type": "markdown",
   "metadata": {},
   "source": [
    "## proportion plot SBP 48h and hospital mortality, ICU and AKI"
   ]
  },
  {
   "cell_type": "code",
   "execution_count": 20,
   "metadata": {},
   "outputs": [],
   "source": [
    "# hospital\n",
    "gammfitProp_eICU <- gam(hospital_expire_flag ~ s(prop_asp_48)+gender+s(age)+s(bmi)+s(sofatotal), data = df_eicu_prop_48, family = binomial)\n",
    "gamfitProp_below_eICU <- gam(hospital_expire_flag ~ s(propBelow_asp_48)+gender+s(age)+s(bmi)+s(sofatotal), data = df_eicu_prop_48, family = binomial)\n",
    "gamfitProp_above_eICU <- gam(hospital_expire_flag ~ s(propAbove_asp_48)+gender+s(age)+s(bmi)+s(sofatotal), data = df_eicu_prop_48, family = binomial)\n",
    "gamfitProp_MIMIC <- gam(hospital_expire_flag ~ s(prop_asp_48)+gender+s(age)+s(bmi)+s(sofatotal), data = df_mimic_prop_48, family = binomial)\n",
    "gamfitProp_below_MIMIC <- gam(hospital_expire_flag ~ s(propBelow_asp_48)+gender+s(age)+s(bmi)+s(sofatotal), data = df_mimic_prop_48, family = binomial)\n",
    "gamfitProp_above_MIMIC <- gam(hospital_expire_flag ~ s(propAbove_asp_48)+gender+s(age)+s(bmi)+s(sofatotal), data = df_mimic_prop_48, family = binomial)\n",
    "# icu\n",
    "gammfitProp_eICU_2 <- gam(icu_mortality ~ s(prop_asp_48)+gender+s(age)+s(bmi)+s(sofatotal), data = df_eicu_prop_48, family = binomial)\n",
    "gamfitProp_below_eICU_2 <- gam(icu_mortality ~ s(propBelow_asp_48)+gender+s(age)+s(bmi)+s(sofatotal), data = df_eicu_prop_48, family = binomial)\n",
    "gamfitProp_above_eICU_2 <- gam(icu_mortality ~ s(propAbove_asp_48)+gender+s(age)+s(bmi)+s(sofatotal), data = df_eicu_prop_48, family = binomial)\n",
    "gamfitProp_MIMIC_2 <- gam(icu_mortality ~ s(prop_asp_48)+gender+s(age)+s(bmi)+s(sofatotal), data = df_mimic_prop_48, family = binomial)\n",
    "gamfitProp_below_MIMIC_2 <- gam(icu_mortality ~ s(propBelow_asp_48)+gender+s(age)+s(bmi)+s(sofatotal), data = df_mimic_prop_48, family = binomial)\n",
    "gamfitProp_above_MIMIC_2 <- gam(icu_mortality ~ s(propAbove_asp_48)+gender+s(age)+s(bmi)+s(sofatotal), data = df_mimic_prop_48, family = binomial)\n",
    "\n",
    "#AKI\n",
    "gamfitProp_eICU_AKI <- gam(AKI_7d ~ s(prop_asp_48_AKI)+gender+s(age)+s(bmi)+s(sofatotal), data = df_eicu_prop_AKI_48, family = binomial)\n",
    "gamfitProp_below_eICU_AKI <- gam(AKI_7d ~ s(propBelow_asp_48)+gender+s(age)+s(bmi)+s(sofatotal), data = df_eicu_prop_AKI_48, family = binomial)\n",
    "gamfitProp_MIMIC_AKI <- gam(AKI_7d ~ s(prop_asp_48_AKI)+gender+s(age)+s(bmi)+s(sofatotal), data = df_mimic_prop_AKI_48, family = binomial)\n",
    "gamfitProp_below_MIMIC_AKI <- gam(AKI_7d ~ s(propBelow_asp_48)+gender+s(age)+s(bmi)+s(sofatotal), data = df_mimic_prop_AKI_48, family = binomial)\n"
   ]
  },
  {
   "cell_type": "code",
   "execution_count": 21,
   "metadata": {},
   "outputs": [
    {
     "name": "stdout",
     "output_type": "stream",
     "text": [
      "[1] \"Number of cases: 14374\"\n",
      "[1] \"Number of cases: 14374\"\n",
      "[1] \"Number of cases: 13105\"\n",
      "[1] \"Number of cases: 14374\"\n",
      "[1] \"Number of cases: 14374\"\n",
      "[1] \"Number of cases: 14374\"\n",
      "[1] \"Number of cases: 14374\"\n",
      "[1] \"Number of cases: 13105\"\n",
      "[1] \"Number of cases: 12291\"\n",
      "[1] \"Number of cases: 12291\"\n",
      "[1] \"Number of cases: 11445\"\n",
      "[1] \"Number of cases: 12291\"\n",
      "[1] \"Number of cases: 12291\"\n",
      "[1] \"Number of cases: 12291\"\n",
      "[1] \"Number of cases: 12291\"\n",
      "[1] \"Number of cases: 11445\"\n"
     ]
    },
    {
     "data": {
      "text/html": [
       "<strong>png:</strong> 2"
      ],
      "text/latex": [
       "\\textbf{png:} 2"
      ],
      "text/markdown": [
       "**png:** 2"
      ],
      "text/plain": [
       "png \n",
       "  2 "
      ]
     },
     "metadata": {},
     "output_type": "display_data"
    }
   ],
   "source": [
    "pdf(file = \"figure/gradient/prop_7d_SBP48_Hosp_ICU_AKI.pdf\", width = 16,\n",
    "    height = 9, pointsize = point_size, family = font)\n",
    "par(mfcol = c(3,4), cex = 1)\n",
    "\n",
    "gam_plotProp(gammfitProp_eICU, main = \"eICU 48h\", label = \"A1\",bp_type = \"SBP\",bp_low = 110, bp_high = 120,yRange = c(0.0, 0.25))\n",
    "gam_plotProp(gammfitProp_eICU_2, main = \"eICU 48h\", label = \"B1\",bp_type = \"SBP\",bp_low = 110, bp_high = 120,yRange = c(0.0, 0.25))\n",
    "gam_plotProp_AKI(gamfitProp_eICU_AKI, main = \"eICU 48h\", label = \"C1\", bp_type = \"SBP\", bp_low = 110,yRange = c(0.75, 0.95))\n",
    "\n",
    "\n",
    "gam_plotProp(gamfitProp_below_eICU, main = \"eICU 48h\", label = \"A2\",bp_type = \"SBP\",col =\"blue\",bp_low = 110, bp_high = 120,yRange = c(0.0, 0.25))\n",
    "gam_plotProp(gamfitProp_above_eICU, main = \"\", col = \"red\", add = TRUE)\n",
    "gam_plotProp(gamfitProp_below_eICU_2, main = \"eICU 48h\", label = \"B2\",bp_type = \"SBP\",col =\"blue\",bp_low = 110, bp_high = 120,yRange = c(0.0, 0.25))\n",
    "gam_plotProp(gamfitProp_above_eICU_2, main = \"\", col = \"red\", add = TRUE)\n",
    "gam_plotProp_AKI(gamfitProp_below_eICU_AKI, main = \"eICU 48h\", label = \"C2\",col =\"blue\",bp_type = \"SBP\", bp_low = 110, yRange = c(0.75, 0.95))\n",
    "\n",
    "\n",
    "gam_plotProp(gamfitProp_MIMIC, main = \"MIMIC 48h\", label = \"A3\", bp_type = \"SBP\", bp_low =110, bp_high = 120,yRange = c(0.0, 0.25))\n",
    "gam_plotProp(gamfitProp_MIMIC_2, main = \"MIMIC 48h\", label = \"B3\", bp_type = \"SBP\", bp_low = 110, bp_high = 120,yRange = c(0.0, 0.25))\n",
    "gam_plotProp_AKI(gamfitProp_MIMIC_AKI, main = \"MIMIC 48h\", label = \"C3\", bp_type = \"SBP\", bp_low = 110)\n",
    "\n",
    "\n",
    "gam_plotProp(gamfitProp_below_MIMIC, main = \"MIMIC 48h\", label = \"A4\",bp_type = \"SBP\", col =\"blue\", bp_low = 110, bp_high = 120,yRange = c(0.0, 0.25))\n",
    "gam_plotProp(gamfitProp_above_MIMIC, main = \"\", col = \"red\", add = TRUE)\n",
    "gam_plotProp(gamfitProp_below_MIMIC_2, main = \"MIMIC 48h\", label = \"B4\",bp_type = \"SBP\",col =\"blue\", bp_low = 110, bp_high = 120,yRange = c(0.0, 0.25))\n",
    "gam_plotProp(gamfitProp_above_MIMIC_2, main = \"\", col = \"red\", add = TRUE)\n",
    "gam_plotProp_AKI(gamfitProp_below_MIMIC_AKI, main = \"MIMIC 48h\", label = \"C4\",bp_type = \"SBP\",col =\"blue\", bp_low = 110)\n",
    "\n",
    "\n",
    "dev.off()\n"
   ]
  },
  {
   "cell_type": "markdown",
   "metadata": {},
   "source": [
    "## proportion plot SBP 72h and hospital mortality, ICU and AKI"
   ]
  },
  {
   "cell_type": "code",
   "execution_count": 22,
   "metadata": {},
   "outputs": [],
   "source": [
    "# hospital\n",
    "gammfitProp_eICU <- gam(hospital_expire_flag ~ s(prop_asp_72)+gender+s(age)+s(bmi)+s(sofatotal), data = df_eicu_prop_72, family = binomial)\n",
    "gamfitProp_below_eICU <- gam(hospital_expire_flag ~ s(propBelow_asp_72)+gender+s(age)+s(bmi)+s(sofatotal), data = df_eicu_prop_72, family = binomial)\n",
    "gamfitProp_above_eICU <- gam(hospital_expire_flag ~ s(propAbove_asp_72)+gender+s(age)+s(bmi)+s(sofatotal), data = df_eicu_prop_72, family = binomial)\n",
    "gamfitProp_MIMIC <- gam(hospital_expire_flag ~ s(prop_asp_72)+gender+s(age)+s(bmi)+s(sofatotal), data = df_mimic_prop_72, family = binomial)\n",
    "gamfitProp_below_MIMIC <- gam(hospital_expire_flag ~ s(propBelow_asp_72)+gender+s(age)+s(bmi)+s(sofatotal), data = df_mimic_prop_72, family = binomial)\n",
    "gamfitProp_above_MIMIC <- gam(hospital_expire_flag ~ s(propAbove_asp_72)+gender+s(age)+s(bmi)+s(sofatotal), data = df_mimic_prop_72, family = binomial)\n",
    "# icu\n",
    "gammfitProp_eICU_2 <- gam(icu_mortality ~ s(prop_asp_72)+gender+s(age)+s(bmi)+s(sofatotal), data = df_eicu_prop_72, family = binomial)\n",
    "gamfitProp_below_eICU_2 <- gam(icu_mortality ~ s(propBelow_asp_72)+gender+s(age)+s(bmi)+s(sofatotal), data = df_eicu_prop_72, family = binomial)\n",
    "gamfitProp_above_eICU_2 <- gam(icu_mortality ~ s(propAbove_asp_72)+gender+s(age)+s(bmi)+s(sofatotal), data = df_eicu_prop_72, family = binomial)\n",
    "gamfitProp_MIMIC_2 <- gam(icu_mortality ~ s(prop_asp_72)+gender+s(age)+s(bmi)+s(sofatotal), data = df_mimic_prop_72, family = binomial)\n",
    "gamfitProp_below_MIMIC_2 <- gam(icu_mortality ~ s(propBelow_asp_72)+gender+s(age)+s(bmi)+s(sofatotal), data = df_mimic_prop_72, family = binomial)\n",
    "gamfitProp_above_MIMIC_2 <- gam(icu_mortality ~ s(propAbove_asp_72)+gender+s(age)+s(bmi)+s(sofatotal), data = df_mimic_prop_72, family = binomial)\n",
    "\n",
    "#AKI\n",
    "gamfitProp_eICU_AKI <- gam(AKI_7d ~ s(prop_asp_72_AKI)+gender+s(age)+s(bmi)+s(sofatotal), data = df_eicu_prop_AKI_72, family = binomial)\n",
    "gamfitProp_below_eICU_AKI <- gam(AKI_7d ~ s(propBelow_asp_72)+gender+s(age)+s(bmi)+s(sofatotal), data = df_eicu_prop_AKI_72, family = binomial)\n",
    "gamfitProp_MIMIC_AKI <- gam(AKI_7d ~ s(prop_asp_72_AKI)+gender+s(age)+s(bmi)+s(sofatotal), data = df_mimic_prop_AKI_72, family = binomial)\n",
    "gamfitProp_below_MIMIC_AKI <- gam(AKI_7d ~ s(propBelow_asp_72)+gender+s(age)+s(bmi)+s(sofatotal), data = df_mimic_prop_AKI_72, family = binomial)\n"
   ]
  },
  {
   "cell_type": "code",
   "execution_count": 23,
   "metadata": {},
   "outputs": [
    {
     "name": "stdout",
     "output_type": "stream",
     "text": [
      "[1] \"Number of cases: 14374\"\n",
      "[1] \"Number of cases: 14374\"\n",
      "[1] \"Number of cases: 13105\"\n",
      "[1] \"Number of cases: 14374\"\n",
      "[1] \"Number of cases: 14374\"\n",
      "[1] \"Number of cases: 14374\"\n",
      "[1] \"Number of cases: 14374\"\n",
      "[1] \"Number of cases: 13105\"\n",
      "[1] \"Number of cases: 12291\"\n",
      "[1] \"Number of cases: 12291\"\n",
      "[1] \"Number of cases: 11445\"\n",
      "[1] \"Number of cases: 12291\"\n",
      "[1] \"Number of cases: 12291\"\n",
      "[1] \"Number of cases: 12291\"\n",
      "[1] \"Number of cases: 12291\"\n",
      "[1] \"Number of cases: 11445\"\n"
     ]
    },
    {
     "data": {
      "text/html": [
       "<strong>png:</strong> 2"
      ],
      "text/latex": [
       "\\textbf{png:} 2"
      ],
      "text/markdown": [
       "**png:** 2"
      ],
      "text/plain": [
       "png \n",
       "  2 "
      ]
     },
     "metadata": {},
     "output_type": "display_data"
    }
   ],
   "source": [
    "pdf(file = \"figure/gradient/prop_7d_SBP72_Hosp_ICU_AKI.pdf\", width = 16,\n",
    "    height = 9, pointsize = point_size, family = font)\n",
    "par(mfcol = c(3,4), cex = 1)\n",
    "\n",
    "gam_plotProp(gammfitProp_eICU, main = \"eICU 72h\", label = \"A1\",bp_type = \"SBP\",bp_low = 110, bp_high = 120,yRange = c(0.0, 0.3))\n",
    "gam_plotProp(gammfitProp_eICU_2, main = \"eICU 72h\", label = \"B1\",bp_type = \"SBP\",bp_low = 110, bp_high = 120,yRange = c(0.0, 0.3))\n",
    "gam_plotProp_AKI(gamfitProp_eICU_AKI, main = \"eICU 72h\", label = \"C1\", bp_type = \"SBP\", bp_low = 70,yRange = c(0.75, 0.95))\n",
    "\n",
    "\n",
    "gam_plotProp(gamfitProp_below_eICU, main = \"eICU 72h\", label = \"A2\",bp_type = \"SBP\",col =\"blue\",bp_low = 110, bp_high = 120,yRange = c(0.0, 0.3))\n",
    "gam_plotProp(gamfitProp_above_eICU, main = \"\", col = \"red\", add = TRUE)\n",
    "gam_plotProp(gamfitProp_below_eICU_2, main = \"eICU 72h\", label = \"B2\",bp_type = \"SBP\",col =\"blue\",bp_low = 110, bp_high = 120,yRange = c(0.0, 0.3))\n",
    "gam_plotProp(gamfitProp_above_eICU_2, main = \"\", col = \"red\", add = TRUE)\n",
    "gam_plotProp_AKI(gamfitProp_below_eICU_AKI, main = \"eICU 72h\", label = \"C2\",col =\"blue\",bp_type = \"SBP\", bp_low = 110, yRange = c(0.75, 0.95))\n",
    "\n",
    "\n",
    "gam_plotProp(gamfitProp_MIMIC, main = \"MIMIC 72h\", label = \"A3\", bp_type = \"SBP\", bp_low =110, bp_high = 120,yRange = c(0.0, 0.3))\n",
    "gam_plotProp(gamfitProp_MIMIC_2, main = \"MIMIC 72h\", label = \"B3\", bp_type = \"SBP\", bp_low = 110, bp_high = 120,yRange = c(0.0, 0.3))\n",
    "gam_plotProp_AKI(gamfitProp_MIMIC_AKI, main = \"MIMIC 72h\", label = \"C3\", bp_type = \"SBP\", bp_low = 110)\n",
    "\n",
    "\n",
    "gam_plotProp(gamfitProp_below_MIMIC, main = \"MIMIC 72h\", label = \"A4\",bp_type = \"SBP\", col =\"blue\", bp_low = 110, bp_high = 120,yRange = c(0.0, 0.3))\n",
    "gam_plotProp(gamfitProp_above_MIMIC, main = \"\", col = \"red\", add = TRUE)\n",
    "gam_plotProp(gamfitProp_below_MIMIC_2, main = \"MIMIC 72h\", label = \"B4\",bp_type = \"SBP\",col =\"blue\", bp_low = 110, bp_high = 120,yRange = c(0.0, 0.3))\n",
    "gam_plotProp(gamfitProp_above_MIMIC_2, main = \"\", col = \"red\", add = TRUE)\n",
    "gam_plotProp_AKI(gamfitProp_below_MIMIC_AKI, main = \"MIMIC 72h\", label = \"C4\",bp_type = \"SBP\",col =\"blue\", bp_low = 110)\n",
    "\n",
    "\n",
    "dev.off()\n"
   ]
  },
  {
   "cell_type": "markdown",
   "metadata": {},
   "source": [
    "## proportion plot DBP 24h and hospital mortality, ICU and AKI"
   ]
  },
  {
   "cell_type": "code",
   "execution_count": 24,
   "metadata": {},
   "outputs": [],
   "source": [
    "# hospital\n",
    "gammfitProp_eICU <- gam(hospital_expire_flag ~ s(prop_adp_24)+gender+s(age)+s(bmi)+s(sofatotal), data = df_eicu_prop, family = binomial)\n",
    "gamfitProp_below_eICU <- gam(hospital_expire_flag ~ s(propBelow_adp_24)+gender+s(age)+s(bmi)+s(sofatotal), data = df_eicu_prop, family = binomial)\n",
    "gamfitProp_above_eICU <- gam(hospital_expire_flag ~ s(propAbove_adp_24)+gender+s(age)+s(bmi)+s(sofatotal), data = df_eicu_prop, family = binomial)\n",
    "gamfitProp_MIMIC <- gam(hospital_expire_flag ~ s(prop_adp_24)+gender+s(age)+s(bmi)+s(sofatotal), data = df_mimic_prop, family = binomial)\n",
    "gamfitProp_below_MIMIC <- gam(hospital_expire_flag ~ s(propBelow_adp_24)+gender+s(age)+s(bmi)+s(sofatotal), data = df_mimic_prop, family = binomial)\n",
    "gamfitProp_above_MIMIC <- gam(hospital_expire_flag ~ s(propAbove_adp_24)+gender+s(age)+s(bmi)+s(sofatotal), data = df_mimic_prop, family = binomial)\n",
    "# icu\n",
    "gammfitProp_eICU_2 <- gam(icu_mortality ~ s(prop_adp_24)+gender+s(age)+s(bmi)+s(sofatotal), data = df_eicu_prop, family = binomial)\n",
    "gamfitProp_below_eICU_2 <- gam(icu_mortality ~ s(propBelow_adp_24)+gender+s(age)+s(bmi)+s(sofatotal), data = df_eicu_prop, family = binomial)\n",
    "gamfitProp_above_eICU_2 <- gam(icu_mortality ~ s(propAbove_adp_24)+gender+s(age)+s(bmi)+s(sofatotal), data = df_eicu_prop, family = binomial)\n",
    "gamfitProp_MIMIC_2 <- gam(icu_mortality ~ s(prop_adp_24)+gender+s(age)+s(bmi)+s(sofatotal), data = df_mimic_prop, family = binomial)\n",
    "gamfitProp_below_MIMIC_2 <- gam(icu_mortality ~ s(propBelow_adp_24)+gender+s(age)+s(bmi)+s(sofatotal), data = df_mimic_prop, family = binomial)\n",
    "gamfitProp_above_MIMIC_2 <- gam(icu_mortality ~ s(propAbove_adp_24)+gender+s(age)+s(bmi)+s(sofatotal), data = df_mimic_prop, family = binomial)\n",
    "\n",
    "#AKI\n",
    "gamfitProp_eICU_AKI <- gam(AKI_7d ~ s(prop_adp_24_AKI)+gender+s(age)+s(bmi)+s(sofatotal), data = df_eicu_prop_AKI, family = binomial)\n",
    "gamfitProp_below_eICU_AKI <- gam(AKI_7d ~ s(propBelow_adp_24)+gender+s(age)+s(bmi)+s(sofatotal), data = df_eicu_prop_AKI, family = binomial)\n",
    "gamfitProp_MIMIC_AKI <- gam(AKI_7d ~ s(prop_adp_24_AKI)+gender+s(age)+s(bmi)+s(sofatotal), data = df_mimic_prop_AKI, family = binomial)\n",
    "gamfitProp_below_MIMIC_AKI <- gam(AKI_7d ~ s(propBelow_adp_24)+gender+s(age)+s(bmi)+s(sofatotal), data = df_mimic_prop_AKI, family = binomial)\n"
   ]
  },
  {
   "cell_type": "code",
   "execution_count": 25,
   "metadata": {},
   "outputs": [
    {
     "name": "stdout",
     "output_type": "stream",
     "text": [
      "[1] \"Number of cases: 14374\"\n",
      "[1] \"Number of cases: 14374\"\n",
      "[1] \"Number of cases: 13105\"\n",
      "[1] \"Number of cases: 14374\"\n",
      "[1] \"Number of cases: 14374\"\n",
      "[1] \"Number of cases: 14374\"\n",
      "[1] \"Number of cases: 14374\"\n",
      "[1] \"Number of cases: 13105\"\n",
      "[1] \"Number of cases: 12291\"\n",
      "[1] \"Number of cases: 12291\"\n",
      "[1] \"Number of cases: 11445\"\n",
      "[1] \"Number of cases: 12291\"\n",
      "[1] \"Number of cases: 12291\"\n",
      "[1] \"Number of cases: 12291\"\n",
      "[1] \"Number of cases: 12291\"\n",
      "[1] \"Number of cases: 11445\"\n"
     ]
    },
    {
     "data": {
      "text/html": [
       "<strong>png:</strong> 2"
      ],
      "text/latex": [
       "\\textbf{png:} 2"
      ],
      "text/markdown": [
       "**png:** 2"
      ],
      "text/plain": [
       "png \n",
       "  2 "
      ]
     },
     "metadata": {},
     "output_type": "display_data"
    }
   ],
   "source": [
    "pdf(file = \"figure/gradient/prop_7d_DBP24_Hosp_ICU_AKI.pdf\", width = 16,\n",
    "    height = 9, pointsize = point_size, family = font)\n",
    "par(mfcol = c(3,4), cex = 1)\n",
    "\n",
    "gam_plotProp(gammfitProp_eICU, main = \"eICU 24h\", label = \"A1\",bp_type = \"DBP\",bp_low = 50, bp_high = 60)\n",
    "gam_plotProp(gammfitProp_eICU_2, main = \"eICU 24h\", label = \"B1\",bp_type = \"DBP\",bp_low = 50, bp_high = 60)\n",
    "gam_plotProp_AKI(gamfitProp_eICU_AKI, main = \"eICU 24h\", label = \"C1\", bp_type = \"DBP\", bp_low = 50,yRange = c(0.75, 0.9))\n",
    "\n",
    "\n",
    "gam_plotProp(gamfitProp_below_eICU, main = \"eICU 24h\", label = \"A2\",bp_type = \"DBP\",col =\"blue\",bp_low = 50, bp_high = 60)\n",
    "gam_plotProp(gamfitProp_above_eICU, main = \"\", col = \"red\", add = TRUE)\n",
    "gam_plotProp(gamfitProp_below_eICU_2, main = \"eICU 24h\", label = \"B2\",bp_type = \"DBP\",col =\"blue\",bp_low = 50, bp_high = 60)\n",
    "gam_plotProp(gamfitProp_above_eICU_2, main = \"\", col = \"red\", add = TRUE)\n",
    "gam_plotProp_AKI(gamfitProp_below_eICU_AKI, main = \"eICU 24h\", label = \"C2\",col =\"blue\",bp_type = \"DBP\", bp_low = 50, yRange = c(0.75, 0.9))\n",
    "\n",
    "\n",
    "gam_plotProp(gamfitProp_MIMIC, main = \"MIMIC 24h\", label = \"A3\", bp_type = \"DBP\", bp_low =50, bp_high = 60)\n",
    "gam_plotProp(gamfitProp_MIMIC_2, main = \"MIMIC 24h\", label = \"B3\", bp_type = \"DBP\", bp_low = 50, bp_high = 60)\n",
    "gam_plotProp_AKI(gamfitProp_MIMIC_AKI, main = \"MIMIC 24h\", label = \"C3\", bp_type = \"DBP\", bp_low = 50)\n",
    "\n",
    "\n",
    "gam_plotProp(gamfitProp_below_MIMIC, main = \"MIMIC 24h\", label = \"A4\",bp_type = \"DBP\", col =\"blue\", bp_low = 50, bp_high = 60)\n",
    "gam_plotProp(gamfitProp_above_MIMIC, main = \"\", col = \"red\", add = TRUE)\n",
    "gam_plotProp(gamfitProp_below_MIMIC_2, main = \"MIMIC 24h\", label = \"B4\",bp_type = \"DBP\",col =\"blue\", bp_low = 50, bp_high = 60)\n",
    "gam_plotProp(gamfitProp_above_MIMIC_2, main = \"\", col = \"red\", add = TRUE)\n",
    "gam_plotProp_AKI(gamfitProp_below_MIMIC_AKI, main = \"MIMIC 24h\", label = \"C4\",bp_type = \"DBP\",col =\"blue\", bp_low = 50)\n",
    "\n",
    "\n",
    "dev.off()\n"
   ]
  },
  {
   "cell_type": "markdown",
   "metadata": {},
   "source": [
    "## proportion plot DBP 48h and hospital mortality, ICU and AKI"
   ]
  },
  {
   "cell_type": "code",
   "execution_count": 26,
   "metadata": {},
   "outputs": [],
   "source": [
    "# hospital\n",
    "gammfitProp_eICU <- gam(hospital_expire_flag ~ s(prop_adp_48)+gender+s(age)+s(bmi)+s(sofatotal), data = df_eicu_prop_48, family = binomial)\n",
    "gamfitProp_below_eICU <- gam(hospital_expire_flag ~ s(propBelow_adp_48)+gender+s(age)+s(bmi)+s(sofatotal), data = df_eicu_prop_48, family = binomial)\n",
    "gamfitProp_above_eICU <- gam(hospital_expire_flag ~ s(propAbove_adp_48)+gender+s(age)+s(bmi)+s(sofatotal), data = df_eicu_prop_48, family = binomial)\n",
    "gamfitProp_MIMIC <- gam(hospital_expire_flag ~ s(prop_adp_48)+gender+s(age)+s(bmi)+s(sofatotal), data = df_mimic_prop_48, family = binomial)\n",
    "gamfitProp_below_MIMIC <- gam(hospital_expire_flag ~ s(propBelow_adp_48)+gender+s(age)+s(bmi)+s(sofatotal), data = df_mimic_prop_48, family = binomial)\n",
    "gamfitProp_above_MIMIC <- gam(hospital_expire_flag ~ s(propAbove_adp_48)+gender+s(age)+s(bmi)+s(sofatotal), data = df_mimic_prop_48, family = binomial)\n",
    "# icu\n",
    "gammfitProp_eICU_2 <- gam(icu_mortality ~ s(prop_adp_48)+gender+s(age)+s(bmi)+s(sofatotal), data = df_eicu_prop_48, family = binomial)\n",
    "gamfitProp_below_eICU_2 <- gam(icu_mortality ~ s(propBelow_adp_48)+gender+s(age)+s(bmi)+s(sofatotal), data = df_eicu_prop_48, family = binomial)\n",
    "gamfitProp_above_eICU_2 <- gam(icu_mortality ~ s(propAbove_adp_48)+gender+s(age)+s(bmi)+s(sofatotal), data = df_eicu_prop_48, family = binomial)\n",
    "gamfitProp_MIMIC_2 <- gam(icu_mortality ~ s(prop_adp_48)+gender+s(age)+s(bmi)+s(sofatotal), data = df_mimic_prop_48, family = binomial)\n",
    "gamfitProp_below_MIMIC_2 <- gam(icu_mortality ~ s(propBelow_adp_48)+gender+s(age)+s(bmi)+s(sofatotal), data = df_mimic_prop_48, family = binomial)\n",
    "gamfitProp_above_MIMIC_2 <- gam(icu_mortality ~ s(propAbove_adp_48)+gender+s(age)+s(bmi)+s(sofatotal), data = df_mimic_prop_48, family = binomial)\n",
    "\n",
    "#AKI\n",
    "gamfitProp_eICU_AKI <- gam(AKI_7d ~ s(prop_adp_48_AKI)+gender+s(age)+s(bmi)+s(sofatotal), data = df_eicu_prop_AKI_48, family = binomial)\n",
    "gamfitProp_below_eICU_AKI <- gam(AKI_7d ~ s(propBelow_adp_48)+gender+s(age)+s(bmi)+s(sofatotal), data = df_eicu_prop_AKI_48, family = binomial)\n",
    "gamfitProp_MIMIC_AKI <- gam(AKI_7d ~ s(prop_adp_48_AKI)+gender+s(age)+s(bmi)+s(sofatotal), data = df_mimic_prop_AKI_48, family = binomial)\n",
    "gamfitProp_below_MIMIC_AKI <- gam(AKI_7d ~ s(propBelow_adp_48)+gender+s(age)+s(bmi)+s(sofatotal), data = df_mimic_prop_AKI_48, family = binomial)\n"
   ]
  },
  {
   "cell_type": "code",
   "execution_count": 27,
   "metadata": {},
   "outputs": [
    {
     "name": "stdout",
     "output_type": "stream",
     "text": [
      "[1] \"Number of cases: 14374\"\n",
      "[1] \"Number of cases: 14374\"\n",
      "[1] \"Number of cases: 13105\"\n",
      "[1] \"Number of cases: 14374\"\n",
      "[1] \"Number of cases: 14374\"\n",
      "[1] \"Number of cases: 14374\"\n",
      "[1] \"Number of cases: 14374\"\n",
      "[1] \"Number of cases: 13105\"\n",
      "[1] \"Number of cases: 12291\"\n",
      "[1] \"Number of cases: 12291\"\n",
      "[1] \"Number of cases: 11445\"\n",
      "[1] \"Number of cases: 12291\"\n",
      "[1] \"Number of cases: 12291\"\n",
      "[1] \"Number of cases: 12291\"\n",
      "[1] \"Number of cases: 12291\"\n",
      "[1] \"Number of cases: 11445\"\n"
     ]
    },
    {
     "data": {
      "text/html": [
       "<strong>png:</strong> 2"
      ],
      "text/latex": [
       "\\textbf{png:} 2"
      ],
      "text/markdown": [
       "**png:** 2"
      ],
      "text/plain": [
       "png \n",
       "  2 "
      ]
     },
     "metadata": {},
     "output_type": "display_data"
    }
   ],
   "source": [
    "pdf(file = \"figure/gradient/prop_7d_DBP48_Hosp_ICU_AKI.pdf\", width = 16,\n",
    "    height = 9, pointsize = point_size, family = font)\n",
    "par(mfcol = c(3,4), cex = 1)\n",
    "\n",
    "gam_plotProp(gammfitProp_eICU, main = \"eICU 48h\", label = \"A1\",bp_type = \"DBP\",bp_low = 50, bp_high = 60,yRange = c(0.0, 0.2))\n",
    "gam_plotProp(gammfitProp_eICU_2, main = \"eICU 48h\", label = \"B1\",bp_type = \"DBP\",bp_low = 50, bp_high = 60,yRange = c(0.0, 0.2))\n",
    "gam_plotProp_AKI(gamfitProp_eICU_AKI, main = \"eICU 48h\", label = \"C1\", bp_type = \"DBP\", bp_low = 50,yRange = c(0.75, 0.95))\n",
    "\n",
    "\n",
    "gam_plotProp(gamfitProp_below_eICU, main = \"eICU 48h\", label = \"A2\",bp_type = \"DBP\",col =\"blue\",bp_low = 50, bp_high = 60,yRange = c(0.0, 0.2))\n",
    "gam_plotProp(gamfitProp_above_eICU, main = \"\", col = \"red\", add = TRUE)\n",
    "gam_plotProp(gamfitProp_below_eICU_2, main = \"eICU 48h\", label = \"B2\",bp_type = \"DBP\",col =\"blue\",bp_low = 50, bp_high = 60,yRange = c(0.0, 0.2))\n",
    "gam_plotProp(gamfitProp_above_eICU_2, main = \"\", col = \"red\", add = TRUE)\n",
    "gam_plotProp_AKI(gamfitProp_below_eICU_AKI, main = \"eICU 48h\", label = \"C2\",col =\"blue\",bp_type = \"DBP\", bp_low = 50, yRange = c(0.75, 0.95))\n",
    "\n",
    "\n",
    "gam_plotProp(gamfitProp_MIMIC, main = \"MIMIC 48h\", label = \"A3\", bp_type = \"DBP\", bp_low =50, bp_high = 60,yRange = c(0.0, 0.2))\n",
    "gam_plotProp(gamfitProp_MIMIC_2, main = \"MIMIC 48h\", label = \"B3\", bp_type = \"DBP\", bp_low = 50, bp_high = 60,yRange = c(0.0, 0.2))\n",
    "gam_plotProp_AKI(gamfitProp_MIMIC_AKI, main = \"MIMIC 48h\", label = \"C3\", bp_type = \"DBP\", bp_low = 50,yRange = c(0.6, 1.0))\n",
    "\n",
    "\n",
    "gam_plotProp(gamfitProp_below_MIMIC, main = \"MIMIC 48h\", label = \"A4\",bp_type = \"DBP\", col =\"blue\", bp_low = 50, bp_high = 60,yRange = c(0.0, 0.2))\n",
    "gam_plotProp(gamfitProp_above_MIMIC, main = \"\", col = \"red\", add = TRUE)\n",
    "gam_plotProp(gamfitProp_below_MIMIC_2, main = \"MIMIC 48h\", label = \"B4\",bp_type = \"DBP\",col =\"blue\", bp_low = 50, bp_high = 60,yRange = c(0.0, 0.2))\n",
    "gam_plotProp(gamfitProp_above_MIMIC_2, main = \"\", col = \"red\", add = TRUE)\n",
    "gam_plotProp_AKI(gamfitProp_below_MIMIC_AKI, main = \"MIMIC 48h\", label = \"C4\",bp_type = \"DBP\",col =\"blue\", bp_low = 50,yRange = c(0.6, 1.0))\n",
    "\n",
    "\n",
    "dev.off()\n"
   ]
  },
  {
   "cell_type": "markdown",
   "metadata": {},
   "source": [
    "## proportion plot DBP 72h and hospital mortality, ICU and AKI"
   ]
  },
  {
   "cell_type": "code",
   "execution_count": 28,
   "metadata": {},
   "outputs": [],
   "source": [
    "# hospital\n",
    "gammfitProp_eICU <- gam(hospital_expire_flag ~ s(prop_adp_72)+gender+s(age)+s(bmi)+s(sofatotal), data = df_eicu_prop_72, family = binomial)\n",
    "gamfitProp_below_eICU <- gam(hospital_expire_flag ~ s(propBelow_adp_72)+gender+s(age)+s(bmi)+s(sofatotal), data = df_eicu_prop_72, family = binomial)\n",
    "gamfitProp_above_eICU <- gam(hospital_expire_flag ~ s(propAbove_adp_72)+gender+s(age)+s(bmi)+s(sofatotal), data = df_eicu_prop_72, family = binomial)\n",
    "gamfitProp_MIMIC <- gam(hospital_expire_flag ~ s(prop_adp_72)+gender+s(age)+s(bmi)+s(sofatotal), data = df_mimic_prop_72, family = binomial)\n",
    "gamfitProp_below_MIMIC <- gam(hospital_expire_flag ~ s(propBelow_adp_72)+gender+s(age)+s(bmi)+s(sofatotal), data = df_mimic_prop_72, family = binomial)\n",
    "gamfitProp_above_MIMIC <- gam(hospital_expire_flag ~ s(propAbove_adp_72)+gender+s(age)+s(bmi)+s(sofatotal), data = df_mimic_prop_72, family = binomial)\n",
    "# icu\n",
    "gammfitProp_eICU_2 <- gam(icu_mortality ~ s(prop_adp_72)+gender+s(age)+s(bmi)+s(sofatotal), data = df_eicu_prop_72, family = binomial)\n",
    "gamfitProp_below_eICU_2 <- gam(icu_mortality ~ s(propBelow_adp_72)+gender+s(age)+s(bmi)+s(sofatotal), data = df_eicu_prop_72, family = binomial)\n",
    "gamfitProp_above_eICU_2 <- gam(icu_mortality ~ s(propAbove_adp_72)+gender+s(age)+s(bmi)+s(sofatotal), data = df_eicu_prop_72, family = binomial)\n",
    "gamfitProp_MIMIC_2 <- gam(icu_mortality ~ s(prop_adp_72)+gender+s(age)+s(bmi)+s(sofatotal), data = df_mimic_prop_72, family = binomial)\n",
    "gamfitProp_below_MIMIC_2 <- gam(icu_mortality ~ s(propBelow_adp_72)+gender+s(age)+s(bmi)+s(sofatotal), data = df_mimic_prop_72, family = binomial)\n",
    "gamfitProp_above_MIMIC_2 <- gam(icu_mortality ~ s(propAbove_adp_72)+gender+s(age)+s(bmi)+s(sofatotal), data = df_mimic_prop_72, family = binomial)\n",
    "\n",
    "#AKI\n",
    "gamfitProp_eICU_AKI <- gam(AKI_7d ~ s(prop_adp_72_AKI)+gender+s(age)+s(bmi)+s(sofatotal), data = df_eicu_prop_AKI_72, family = binomial)\n",
    "gamfitProp_below_eICU_AKI <- gam(AKI_7d ~ s(propBelow_adp_72)+gender+s(age)+s(bmi)+s(sofatotal), data = df_eicu_prop_AKI_72, family = binomial)\n",
    "gamfitProp_MIMIC_AKI <- gam(AKI_7d ~ s(prop_adp_72_AKI)+gender+s(age)+s(bmi)+s(sofatotal), data = df_mimic_prop_AKI_72, family = binomial)\n",
    "gamfitProp_below_MIMIC_AKI <- gam(AKI_7d ~ s(propBelow_adp_72)+gender+s(age)+s(bmi)+s(sofatotal), data = df_mimic_prop_AKI_72, family = binomial)\n"
   ]
  },
  {
   "cell_type": "code",
   "execution_count": 29,
   "metadata": {},
   "outputs": [
    {
     "name": "stdout",
     "output_type": "stream",
     "text": [
      "[1] \"Number of cases: 14374\"\n",
      "[1] \"Number of cases: 14374\"\n",
      "[1] \"Number of cases: 13105\"\n",
      "[1] \"Number of cases: 14374\"\n",
      "[1] \"Number of cases: 14374\"\n",
      "[1] \"Number of cases: 14374\"\n",
      "[1] \"Number of cases: 14374\"\n",
      "[1] \"Number of cases: 13105\"\n",
      "[1] \"Number of cases: 12291\"\n",
      "[1] \"Number of cases: 12291\"\n",
      "[1] \"Number of cases: 11445\"\n",
      "[1] \"Number of cases: 12291\"\n",
      "[1] \"Number of cases: 12291\"\n",
      "[1] \"Number of cases: 12291\"\n",
      "[1] \"Number of cases: 12291\"\n",
      "[1] \"Number of cases: 11445\"\n"
     ]
    },
    {
     "data": {
      "text/html": [
       "<strong>png:</strong> 2"
      ],
      "text/latex": [
       "\\textbf{png:} 2"
      ],
      "text/markdown": [
       "**png:** 2"
      ],
      "text/plain": [
       "png \n",
       "  2 "
      ]
     },
     "metadata": {},
     "output_type": "display_data"
    }
   ],
   "source": [
    "pdf(file = \"figure/gradient/prop_7d_DBP72_Hosp_ICU_AKI.pdf\", width = 16,\n",
    "    height = 9, pointsize = point_size, family = font)\n",
    "par(mfcol = c(3,4), cex = 1)\n",
    "\n",
    "gam_plotProp(gammfitProp_eICU, main = \"eICU 72h\", label = \"A1\",bp_type = \"DBP\",bp_low = 50, bp_high = 60,yRange = c(0.0, 0.2))\n",
    "gam_plotProp(gammfitProp_eICU_2, main = \"eICU 72h\", label = \"B1\",bp_type = \"DBP\",bp_low = 50, bp_high = 60,yRange = c(0.0, 0.2))\n",
    "gam_plotProp_AKI(gamfitProp_eICU_AKI, main = \"eICU 72h\", label = \"C1\", bp_type = \"DBP\", bp_low = 50,yRange = c(0.75, 0.95))\n",
    "\n",
    "\n",
    "gam_plotProp(gamfitProp_below_eICU, main = \"eICU 72h\", label = \"A2\",bp_type = \"DBP\",col =\"blue\",bp_low = 50, bp_high = 60,yRange = c(0.0, 0.2))\n",
    "gam_plotProp(gamfitProp_above_eICU, main = \"\", col = \"red\", add = TRUE)\n",
    "gam_plotProp(gamfitProp_below_eICU_2, main = \"eICU 72h\", label = \"B2\",bp_type = \"DBP\",col =\"blue\",bp_low = 50, bp_high = 60,yRange = c(0.0, 0.2))\n",
    "gam_plotProp(gamfitProp_above_eICU_2, main = \"\", col = \"red\", add = TRUE)\n",
    "gam_plotProp_AKI(gamfitProp_below_eICU_AKI, main = \"eICU 72h\", label = \"C2\",col =\"blue\",bp_type = \"DBP\", bp_low = 50, yRange = c(0.75, 0.95))\n",
    "\n",
    "\n",
    "gam_plotProp(gamfitProp_MIMIC, main = \"MIMIC 72h\", label = \"A3\", bp_type = \"DBP\", bp_low =50, bp_high = 60,yRange = c(0.0, 0.2))\n",
    "gam_plotProp(gamfitProp_MIMIC_2, main = \"MIMIC 72h\", label = \"B3\", bp_type = \"DBP\", bp_low = 50, bp_high = 60,yRange = c(0.0, 0.2))\n",
    "gam_plotProp_AKI(gamfitProp_MIMIC_AKI, main = \"MIMIC 72h\", label = \"C3\", bp_type = \"DBP\", bp_low = 50,yRange = c(0.6, 1.0))\n",
    "\n",
    "\n",
    "gam_plotProp(gamfitProp_below_MIMIC, main = \"MIMIC 72h\", label = \"A4\",bp_type = \"DBP\", col =\"blue\", bp_low = 50, bp_high = 60,yRange = c(0.0, 0.2))\n",
    "gam_plotProp(gamfitProp_above_MIMIC, main = \"\", col = \"red\", add = TRUE)\n",
    "gam_plotProp(gamfitProp_below_MIMIC_2, main = \"MIMIC 72h\", label = \"B4\",bp_type = \"DBP\",col =\"blue\", bp_low = 50, bp_high = 60,yRange = c(0.0, 0.2))\n",
    "gam_plotProp(gamfitProp_above_MIMIC_2, main = \"\", col = \"red\", add = TRUE)\n",
    "gam_plotProp_AKI(gamfitProp_below_MIMIC_AKI, main = \"MIMIC 72h\", label = \"C4\",bp_type = \"DBP\",col =\"blue\", bp_low = 50,yRange = c(0.6, 1.0))\n",
    "\n",
    "\n",
    "dev.off()\n"
   ]
  },
  {
   "cell_type": "markdown",
   "metadata": {},
   "source": [
    "# Find optimal range"
   ]
  },
  {
   "cell_type": "code",
   "execution_count": 23,
   "metadata": {},
   "outputs": [
    {
     "data": {
      "text/html": [
       "<table>\n",
       "<thead><tr><th scope=col>bp_value</th><th scope=col>gradient</th><th scope=col>pre_val_left</th><th scope=col>pre_val_right</th></tr></thead>\n",
       "<tbody>\n",
       "\t<tr><td>38.5      </td><td>-0.8256371</td><td>0.3106166 </td><td>0.2734630 </td></tr>\n",
       "\t<tr><td>40.0      </td><td>-0.7827562</td><td>0.2734630 </td><td>0.2617216 </td></tr>\n",
       "\t<tr><td>41.0      </td><td>-0.7642606</td><td>0.2617216 </td><td>0.2540790 </td></tr>\n",
       "\t<tr><td>42.5      </td><td>-0.7459086</td><td>0.2540790 </td><td>0.2428904 </td></tr>\n",
       "\t<tr><td>44.0      </td><td>-0.7245297</td><td>0.2428904 </td><td>0.2320224 </td></tr>\n",
       "\t<tr><td>45.0      </td><td>-0.7076894</td><td>0.2320224 </td><td>0.2249455 </td></tr>\n",
       "</tbody>\n",
       "</table>\n"
      ],
      "text/latex": [
       "\\begin{tabular}{r|llll}\n",
       " bp\\_value & gradient & pre\\_val\\_left & pre\\_val\\_right\\\\\n",
       "\\hline\n",
       "\t 38.5       & -0.8256371 & 0.3106166  & 0.2734630 \\\\\n",
       "\t 40.0       & -0.7827562 & 0.2734630  & 0.2617216 \\\\\n",
       "\t 41.0       & -0.7642606 & 0.2617216  & 0.2540790 \\\\\n",
       "\t 42.5       & -0.7459086 & 0.2540790  & 0.2428904 \\\\\n",
       "\t 44.0       & -0.7245297 & 0.2428904  & 0.2320224 \\\\\n",
       "\t 45.0       & -0.7076894 & 0.2320224  & 0.2249455 \\\\\n",
       "\\end{tabular}\n"
      ],
      "text/markdown": [
       "\n",
       "bp_value | gradient | pre_val_left | pre_val_right | \n",
       "|---|---|---|---|---|---|\n",
       "| 38.5       | -0.8256371 | 0.3106166  | 0.2734630  | \n",
       "| 40.0       | -0.7827562 | 0.2734630  | 0.2617216  | \n",
       "| 41.0       | -0.7642606 | 0.2617216  | 0.2540790  | \n",
       "| 42.5       | -0.7459086 | 0.2540790  | 0.2428904  | \n",
       "| 44.0       | -0.7245297 | 0.2428904  | 0.2320224  | \n",
       "| 45.0       | -0.7076894 | 0.2320224  | 0.2249455  | \n",
       "\n",
       "\n"
      ],
      "text/plain": [
       "  bp_value gradient   pre_val_left pre_val_right\n",
       "1 38.5     -0.8256371 0.3106166    0.2734630    \n",
       "2 40.0     -0.7827562 0.2734630    0.2617216    \n",
       "3 41.0     -0.7642606 0.2617216    0.2540790    \n",
       "4 42.5     -0.7459086 0.2540790    0.2428904    \n",
       "5 44.0     -0.7245297 0.2428904    0.2320224    \n",
       "6 45.0     -0.7076894 0.2320224    0.2249455    "
      ]
     },
     "metadata": {},
     "output_type": "display_data"
    }
   ],
   "source": [
    "eicu_grad <- find_gradient(b = gamfitMed_eICU_MAP_24h)\n",
    "head(eicu_grad)"
   ]
  },
  {
   "cell_type": "code",
   "execution_count": 57,
   "metadata": {},
   "outputs": [
    {
     "name": "stdout",
     "output_type": "stream",
     "text": [
      "[1] \"eICU\"\n"
     ]
    },
    {
     "data": {
      "text/html": [
       "<ol class=list-inline>\n",
       "\t<li>71</li>\n",
       "\t<li>72</li>\n",
       "\t<li>73</li>\n",
       "\t<li>74</li>\n",
       "\t<li>75</li>\n",
       "</ol>\n"
      ],
      "text/latex": [
       "\\begin{enumerate*}\n",
       "\\item 71\n",
       "\\item 72\n",
       "\\item 73\n",
       "\\item 74\n",
       "\\item 75\n",
       "\\end{enumerate*}\n"
      ],
      "text/markdown": [
       "1. 71\n",
       "2. 72\n",
       "3. 73\n",
       "4. 74\n",
       "5. 75\n",
       "\n",
       "\n"
      ],
      "text/plain": [
       "[1] 71 72 73 74 75"
      ]
     },
     "metadata": {},
     "output_type": "display_data"
    },
    {
     "data": {
      "text/html": [
       "<ol class=list-inline>\n",
       "\t<li>75</li>\n",
       "\t<li>76</li>\n",
       "\t<li>77</li>\n",
       "\t<li>78</li>\n",
       "</ol>\n"
      ],
      "text/latex": [
       "\\begin{enumerate*}\n",
       "\\item 75\n",
       "\\item 76\n",
       "\\item 77\n",
       "\\item 78\n",
       "\\end{enumerate*}\n"
      ],
      "text/markdown": [
       "1. 75\n",
       "2. 76\n",
       "3. 77\n",
       "4. 78\n",
       "\n",
       "\n"
      ],
      "text/plain": [
       "[1] 75 76 77 78"
      ]
     },
     "metadata": {},
     "output_type": "display_data"
    },
    {
     "data": {
      "text/html": [
       "<ol class=list-inline>\n",
       "\t<li>75</li>\n",
       "\t<li>76</li>\n",
       "\t<li>77</li>\n",
       "\t<li>78</li>\n",
       "\t<li>79</li>\n",
       "</ol>\n"
      ],
      "text/latex": [
       "\\begin{enumerate*}\n",
       "\\item 75\n",
       "\\item 76\n",
       "\\item 77\n",
       "\\item 78\n",
       "\\item 79\n",
       "\\end{enumerate*}\n"
      ],
      "text/markdown": [
       "1. 75\n",
       "2. 76\n",
       "3. 77\n",
       "4. 78\n",
       "5. 79\n",
       "\n",
       "\n"
      ],
      "text/plain": [
       "[1] 75 76 77 78 79"
      ]
     },
     "metadata": {},
     "output_type": "display_data"
    },
    {
     "name": "stdout",
     "output_type": "stream",
     "text": [
      "[1] \"MIMIC\"\n"
     ]
    },
    {
     "data": {
      "text/html": [
       "<ol class=list-inline>\n",
       "\t<li>71</li>\n",
       "\t<li>72</li>\n",
       "\t<li>73</li>\n",
       "</ol>\n"
      ],
      "text/latex": [
       "\\begin{enumerate*}\n",
       "\\item 71\n",
       "\\item 72\n",
       "\\item 73\n",
       "\\end{enumerate*}\n"
      ],
      "text/markdown": [
       "1. 71\n",
       "2. 72\n",
       "3. 73\n",
       "\n",
       "\n"
      ],
      "text/plain": [
       "[1] 71 72 73"
      ]
     },
     "metadata": {},
     "output_type": "display_data"
    },
    {
     "data": {
      "text/html": [
       "<ol class=list-inline>\n",
       "\t<li>71</li>\n",
       "\t<li>72</li>\n",
       "\t<li>73</li>\n",
       "\t<li>74</li>\n",
       "</ol>\n"
      ],
      "text/latex": [
       "\\begin{enumerate*}\n",
       "\\item 71\n",
       "\\item 72\n",
       "\\item 73\n",
       "\\item 74\n",
       "\\end{enumerate*}\n"
      ],
      "text/markdown": [
       "1. 71\n",
       "2. 72\n",
       "3. 73\n",
       "4. 74\n",
       "\n",
       "\n"
      ],
      "text/plain": [
       "[1] 71 72 73 74"
      ]
     },
     "metadata": {},
     "output_type": "display_data"
    },
    {
     "data": {
      "text/html": [
       "<ol class=list-inline>\n",
       "\t<li>73</li>\n",
       "\t<li>74</li>\n",
       "</ol>\n"
      ],
      "text/latex": [
       "\\begin{enumerate*}\n",
       "\\item 73\n",
       "\\item 74\n",
       "\\end{enumerate*}\n"
      ],
      "text/markdown": [
       "1. 73\n",
       "2. 74\n",
       "\n",
       "\n"
      ],
      "text/plain": [
       "[1] 73 74"
      ]
     },
     "metadata": {},
     "output_type": "display_data"
    }
   ],
   "source": [
    "print(\"eICU\") #73-79\n",
    "eicu_grad <- find_gradient(b = gamfitMed_eICU_MAP_24h) #73-75, 69-78\n",
    "eicu_grad[(eicu_grad$gradient > -0.1) & (eicu_grad$gradient< 0.1)\n",
    "                 & (eicu_grad$bp_value< 90) & (eicu_grad$bp_value> 60), \"bp_value\"]\n",
    "eicu_grad <- find_gradient(b = gamfitMed_eICU_MAP_48h) #76-79, 73-81\n",
    "eicu_grad[(eicu_grad$gradient > -0.1) & (eicu_grad$gradient< 0.1)\n",
    "                 & (eicu_grad$bp_value< 90) & (eicu_grad$bp_value> 60), \"bp_value\"]\n",
    "eicu_grad <- find_gradient(b = gamfitMed_eICU_MAP_72h)#77-79, 74-83\n",
    "eicu_grad[(eicu_grad$gradient > -0.1) & (eicu_grad$gradient< 0.1) \n",
    "                 & (eicu_grad$bp_value< 90) & (eicu_grad$bp_value> 60), \"bp_value\"]\n",
    "print(\"MIMIC\") #72-75\n",
    "mimic_grad <- find_gradient(b = gamfitMed_MIMIC_MAP_24h)#72-74, 69-75\n",
    "mimic_grad[(mimic_grad$gradient > -0.1) & (mimic_grad$gradient< 0.1) \n",
    "                 & (mimic_grad$bp_value< 90) & (mimic_grad$bp_value> 60), \"bp_value\"]\n",
    "mimic_grad <- find_gradient(b = gamfitMed_MIMIC_MAP_48h)#73-75, 70-76\n",
    "mimic_grad[(mimic_grad$gradient > -0.1) & (mimic_grad$gradient< 0.1) \n",
    "                 & (mimic_grad$bp_value< 90) & (mimic_grad$bp_value> 60), \"bp_value\"]\n",
    "mimic_grad <- find_gradient(b = gamfitMed_MIMIC_MAP_72h) #74-75, 71-76\n",
    "mimic_grad[(mimic_grad$gradient > -0.1) & (mimic_grad$gradient< 0.1)\n",
    "                 & (mimic_grad$bp_value< 90) & (mimic_grad$bp_value> 60), \"bp_value\"]\n"
   ]
  },
  {
   "cell_type": "markdown",
   "metadata": {},
   "source": [
    "## systolic vs hospital mortality"
   ]
  },
  {
   "cell_type": "code",
   "execution_count": 58,
   "metadata": {},
   "outputs": [
    {
     "name": "stdout",
     "output_type": "stream",
     "text": [
      "[1] \"eICU\"\n"
     ]
    },
    {
     "data": {
      "text/html": [
       "<ol class=list-inline>\n",
       "\t<li>111</li>\n",
       "\t<li>112</li>\n",
       "\t<li>113</li>\n",
       "\t<li>114</li>\n",
       "\t<li>115</li>\n",
       "\t<li>116</li>\n",
       "\t<li>117</li>\n",
       "\t<li>118</li>\n",
       "\t<li>119</li>\n",
       "\t<li>120</li>\n",
       "</ol>\n"
      ],
      "text/latex": [
       "\\begin{enumerate*}\n",
       "\\item 111\n",
       "\\item 112\n",
       "\\item 113\n",
       "\\item 114\n",
       "\\item 115\n",
       "\\item 116\n",
       "\\item 117\n",
       "\\item 118\n",
       "\\item 119\n",
       "\\item 120\n",
       "\\end{enumerate*}\n"
      ],
      "text/markdown": [
       "1. 111\n",
       "2. 112\n",
       "3. 113\n",
       "4. 114\n",
       "5. 115\n",
       "6. 116\n",
       "7. 117\n",
       "8. 118\n",
       "9. 119\n",
       "10. 120\n",
       "\n",
       "\n"
      ],
      "text/plain": [
       " [1] 111 112 113 114 115 116 117 118 119 120"
      ]
     },
     "metadata": {},
     "output_type": "display_data"
    },
    {
     "data": {
      "text/html": [
       "<ol class=list-inline>\n",
       "\t<li>114</li>\n",
       "\t<li>115</li>\n",
       "\t<li>116</li>\n",
       "\t<li>117</li>\n",
       "\t<li>118</li>\n",
       "\t<li>119</li>\n",
       "\t<li>120</li>\n",
       "\t<li>121</li>\n",
       "\t<li>122</li>\n",
       "\t<li>123</li>\n",
       "\t<li>124</li>\n",
       "</ol>\n"
      ],
      "text/latex": [
       "\\begin{enumerate*}\n",
       "\\item 114\n",
       "\\item 115\n",
       "\\item 116\n",
       "\\item 117\n",
       "\\item 118\n",
       "\\item 119\n",
       "\\item 120\n",
       "\\item 121\n",
       "\\item 122\n",
       "\\item 123\n",
       "\\item 124\n",
       "\\end{enumerate*}\n"
      ],
      "text/markdown": [
       "1. 114\n",
       "2. 115\n",
       "3. 116\n",
       "4. 117\n",
       "5. 118\n",
       "6. 119\n",
       "7. 120\n",
       "8. 121\n",
       "9. 122\n",
       "10. 123\n",
       "11. 124\n",
       "\n",
       "\n"
      ],
      "text/plain": [
       " [1] 114 115 116 117 118 119 120 121 122 123 124"
      ]
     },
     "metadata": {},
     "output_type": "display_data"
    },
    {
     "data": {
      "text/html": [
       "<ol class=list-inline>\n",
       "\t<li>116</li>\n",
       "\t<li>117</li>\n",
       "\t<li>118</li>\n",
       "\t<li>119</li>\n",
       "\t<li>120</li>\n",
       "\t<li>121</li>\n",
       "\t<li>122</li>\n",
       "\t<li>123</li>\n",
       "\t<li>124</li>\n",
       "\t<li>125</li>\n",
       "\t<li>126</li>\n",
       "</ol>\n"
      ],
      "text/latex": [
       "\\begin{enumerate*}\n",
       "\\item 116\n",
       "\\item 117\n",
       "\\item 118\n",
       "\\item 119\n",
       "\\item 120\n",
       "\\item 121\n",
       "\\item 122\n",
       "\\item 123\n",
       "\\item 124\n",
       "\\item 125\n",
       "\\item 126\n",
       "\\end{enumerate*}\n"
      ],
      "text/markdown": [
       "1. 116\n",
       "2. 117\n",
       "3. 118\n",
       "4. 119\n",
       "5. 120\n",
       "6. 121\n",
       "7. 122\n",
       "8. 123\n",
       "9. 124\n",
       "10. 125\n",
       "11. 126\n",
       "\n",
       "\n"
      ],
      "text/plain": [
       " [1] 116 117 118 119 120 121 122 123 124 125 126"
      ]
     },
     "metadata": {},
     "output_type": "display_data"
    },
    {
     "name": "stdout",
     "output_type": "stream",
     "text": [
      "[1] \"MIMIC\"\n"
     ]
    },
    {
     "data": {
      "text/html": [
       "<ol class=list-inline>\n",
       "\t<li>110</li>\n",
       "\t<li>111</li>\n",
       "\t<li>112</li>\n",
       "\t<li>113</li>\n",
       "\t<li>114</li>\n",
       "</ol>\n"
      ],
      "text/latex": [
       "\\begin{enumerate*}\n",
       "\\item 110\n",
       "\\item 111\n",
       "\\item 112\n",
       "\\item 113\n",
       "\\item 114\n",
       "\\end{enumerate*}\n"
      ],
      "text/markdown": [
       "1. 110\n",
       "2. 111\n",
       "3. 112\n",
       "4. 113\n",
       "5. 114\n",
       "\n",
       "\n"
      ],
      "text/plain": [
       "[1] 110 111 112 113 114"
      ]
     },
     "metadata": {},
     "output_type": "display_data"
    },
    {
     "data": {
      "text/html": [
       "<ol class=list-inline>\n",
       "\t<li>113</li>\n",
       "\t<li>114</li>\n",
       "\t<li>115</li>\n",
       "\t<li>116</li>\n",
       "\t<li>117</li>\n",
       "\t<li>118</li>\n",
       "</ol>\n"
      ],
      "text/latex": [
       "\\begin{enumerate*}\n",
       "\\item 113\n",
       "\\item 114\n",
       "\\item 115\n",
       "\\item 116\n",
       "\\item 117\n",
       "\\item 118\n",
       "\\end{enumerate*}\n"
      ],
      "text/markdown": [
       "1. 113\n",
       "2. 114\n",
       "3. 115\n",
       "4. 116\n",
       "5. 117\n",
       "6. 118\n",
       "\n",
       "\n"
      ],
      "text/plain": [
       "[1] 113 114 115 116 117 118"
      ]
     },
     "metadata": {},
     "output_type": "display_data"
    },
    {
     "data": {
      "text/html": [
       "<ol class=list-inline>\n",
       "\t<li>113</li>\n",
       "\t<li>114</li>\n",
       "\t<li>115</li>\n",
       "\t<li>116</li>\n",
       "\t<li>117</li>\n",
       "\t<li>118</li>\n",
       "\t<li>119</li>\n",
       "\t<li>120</li>\n",
       "</ol>\n"
      ],
      "text/latex": [
       "\\begin{enumerate*}\n",
       "\\item 113\n",
       "\\item 114\n",
       "\\item 115\n",
       "\\item 116\n",
       "\\item 117\n",
       "\\item 118\n",
       "\\item 119\n",
       "\\item 120\n",
       "\\end{enumerate*}\n"
      ],
      "text/markdown": [
       "1. 113\n",
       "2. 114\n",
       "3. 115\n",
       "4. 116\n",
       "5. 117\n",
       "6. 118\n",
       "7. 119\n",
       "8. 120\n",
       "\n",
       "\n"
      ],
      "text/plain": [
       "[1] 113 114 115 116 117 118 119 120"
      ]
     },
     "metadata": {},
     "output_type": "display_data"
    }
   ],
   "source": [
    "print(\"eICU\") #112-125\n",
    "eicu_grad <- find_gradient(b = gamfitMed_eICU_ASP_24h) #112-120\n",
    "eicu_grad[(eicu_grad$gradient > -0.1) & (eicu_grad$gradient< 0.1)\n",
    "                 & (eicu_grad$bp_value> 90) & (eicu_grad$bp_value< 140), \"bp_value\"]\n",
    "eicu_grad <- find_gradient(b = gamfitMed_eICU_ASP_48h) #116-124\n",
    "eicu_grad[(eicu_grad$gradient > -0.1) & (eicu_grad$gradient< 0.1)\n",
    "                 & (eicu_grad$bp_value> 90) & (eicu_grad$bp_value< 140), \"bp_value\"]\n",
    "eicu_grad <- find_gradient(b = gamfitMed_eICU_ASP_72h)#118-125\n",
    "eicu_grad[(eicu_grad$gradient > -0.1) & (eicu_grad$gradient< 0.1) \n",
    "                 & (eicu_grad$bp_value> 90) & (eicu_grad$bp_value< 140), \"bp_value\"]\n",
    "print(\"MIMIC\") #112-120\n",
    "mimic_grad <- find_gradient(b = gamfitMed_MIMIC_ASP_24h)#112-114\n",
    "mimic_grad[(mimic_grad$gradient > -0.1) & (mimic_grad$gradient< 0.1) \n",
    "                 & (mimic_grad$bp_value> 90) & (mimic_grad$bp_value<140), \"bp_value\"]\n",
    "mimic_grad <- find_gradient(b = gamfitMed_MIMIC_ASP_48h)#115-118\n",
    "mimic_grad[(mimic_grad$gradient > -0.1) & (mimic_grad$gradient< 0.1) \n",
    "                 & (mimic_grad$bp_value> 90) & (mimic_grad$bp_value<140), \"bp_value\"]\n",
    "mimic_grad <- find_gradient(b = gamfitMed_MIMIC_ASP_72h) #115-120\n",
    "mimic_grad[(mimic_grad$gradient > -0.1) & (mimic_grad$gradient< 0.1)\n",
    "                 & (mimic_grad$bp_value> 90) & (mimic_grad$bp_value<140), \"bp_value\"]\n"
   ]
  },
  {
   "cell_type": "markdown",
   "metadata": {},
   "source": [
    "## diastolic vs hospital mortality"
   ]
  },
  {
   "cell_type": "code",
   "execution_count": 59,
   "metadata": {},
   "outputs": [
    {
     "name": "stdout",
     "output_type": "stream",
     "text": [
      "[1] \"eICU\"\n"
     ]
    },
    {
     "data": {
      "text/html": [
       "<ol class=list-inline>\n",
       "\t<li>48</li>\n",
       "\t<li>49</li>\n",
       "\t<li>50</li>\n",
       "\t<li>51</li>\n",
       "\t<li>52</li>\n",
       "\t<li>53</li>\n",
       "\t<li>54</li>\n",
       "</ol>\n"
      ],
      "text/latex": [
       "\\begin{enumerate*}\n",
       "\\item 48\n",
       "\\item 49\n",
       "\\item 50\n",
       "\\item 51\n",
       "\\item 52\n",
       "\\item 53\n",
       "\\item 54\n",
       "\\end{enumerate*}\n"
      ],
      "text/markdown": [
       "1. 48\n",
       "2. 49\n",
       "3. 50\n",
       "4. 51\n",
       "5. 52\n",
       "6. 53\n",
       "7. 54\n",
       "\n",
       "\n"
      ],
      "text/plain": [
       "[1] 48 49 50 51 52 53 54"
      ]
     },
     "metadata": {},
     "output_type": "display_data"
    },
    {
     "data": {
      "text/html": [
       "<ol class=list-inline>\n",
       "\t<li>52</li>\n",
       "\t<li>53</li>\n",
       "\t<li>54</li>\n",
       "\t<li>55</li>\n",
       "\t<li>56</li>\n",
       "\t<li>57</li>\n",
       "\t<li>58</li>\n",
       "</ol>\n"
      ],
      "text/latex": [
       "\\begin{enumerate*}\n",
       "\\item 52\n",
       "\\item 53\n",
       "\\item 54\n",
       "\\item 55\n",
       "\\item 56\n",
       "\\item 57\n",
       "\\item 58\n",
       "\\end{enumerate*}\n"
      ],
      "text/markdown": [
       "1. 52\n",
       "2. 53\n",
       "3. 54\n",
       "4. 55\n",
       "5. 56\n",
       "6. 57\n",
       "7. 58\n",
       "\n",
       "\n"
      ],
      "text/plain": [
       "[1] 52 53 54 55 56 57 58"
      ]
     },
     "metadata": {},
     "output_type": "display_data"
    },
    {
     "data": {
      "text/html": [
       "<ol class=list-inline>\n",
       "\t<li>53</li>\n",
       "\t<li>54</li>\n",
       "\t<li>55</li>\n",
       "\t<li>56</li>\n",
       "\t<li>57</li>\n",
       "\t<li>58</li>\n",
       "\t<li>59</li>\n",
       "\t<li>60</li>\n",
       "\t<li>61</li>\n",
       "</ol>\n"
      ],
      "text/latex": [
       "\\begin{enumerate*}\n",
       "\\item 53\n",
       "\\item 54\n",
       "\\item 55\n",
       "\\item 56\n",
       "\\item 57\n",
       "\\item 58\n",
       "\\item 59\n",
       "\\item 60\n",
       "\\item 61\n",
       "\\end{enumerate*}\n"
      ],
      "text/markdown": [
       "1. 53\n",
       "2. 54\n",
       "3. 55\n",
       "4. 56\n",
       "5. 57\n",
       "6. 58\n",
       "7. 59\n",
       "8. 60\n",
       "9. 61\n",
       "\n",
       "\n"
      ],
      "text/plain": [
       "[1] 53 54 55 56 57 58 59 60 61"
      ]
     },
     "metadata": {},
     "output_type": "display_data"
    },
    {
     "name": "stdout",
     "output_type": "stream",
     "text": [
      "[1] \"MIMIC\"\n"
     ]
    },
    {
     "data": {
      "text/html": [
       "<ol class=list-inline>\n",
       "\t<li>41</li>\n",
       "\t<li>42</li>\n",
       "\t<li>43</li>\n",
       "\t<li>44</li>\n",
       "\t<li>45</li>\n",
       "\t<li>46</li>\n",
       "\t<li>47</li>\n",
       "\t<li>48</li>\n",
       "\t<li>49</li>\n",
       "\t<li>50</li>\n",
       "\t<li>51</li>\n",
       "\t<li>52</li>\n",
       "</ol>\n"
      ],
      "text/latex": [
       "\\begin{enumerate*}\n",
       "\\item 41\n",
       "\\item 42\n",
       "\\item 43\n",
       "\\item 44\n",
       "\\item 45\n",
       "\\item 46\n",
       "\\item 47\n",
       "\\item 48\n",
       "\\item 49\n",
       "\\item 50\n",
       "\\item 51\n",
       "\\item 52\n",
       "\\end{enumerate*}\n"
      ],
      "text/markdown": [
       "1. 41\n",
       "2. 42\n",
       "3. 43\n",
       "4. 44\n",
       "5. 45\n",
       "6. 46\n",
       "7. 47\n",
       "8. 48\n",
       "9. 49\n",
       "10. 50\n",
       "11. 51\n",
       "12. 52\n",
       "\n",
       "\n"
      ],
      "text/plain": [
       " [1] 41 42 43 44 45 46 47 48 49 50 51 52"
      ]
     },
     "metadata": {},
     "output_type": "display_data"
    },
    {
     "data": {
      "text/html": [
       "<ol class=list-inline>\n",
       "\t<li>41</li>\n",
       "\t<li>42</li>\n",
       "\t<li>43</li>\n",
       "\t<li>44</li>\n",
       "\t<li>45</li>\n",
       "\t<li>46</li>\n",
       "\t<li>47</li>\n",
       "\t<li>48</li>\n",
       "\t<li>49</li>\n",
       "\t<li>50</li>\n",
       "\t<li>51</li>\n",
       "\t<li>52</li>\n",
       "\t<li>53</li>\n",
       "\t<li>54</li>\n",
       "</ol>\n"
      ],
      "text/latex": [
       "\\begin{enumerate*}\n",
       "\\item 41\n",
       "\\item 42\n",
       "\\item 43\n",
       "\\item 44\n",
       "\\item 45\n",
       "\\item 46\n",
       "\\item 47\n",
       "\\item 48\n",
       "\\item 49\n",
       "\\item 50\n",
       "\\item 51\n",
       "\\item 52\n",
       "\\item 53\n",
       "\\item 54\n",
       "\\end{enumerate*}\n"
      ],
      "text/markdown": [
       "1. 41\n",
       "2. 42\n",
       "3. 43\n",
       "4. 44\n",
       "5. 45\n",
       "6. 46\n",
       "7. 47\n",
       "8. 48\n",
       "9. 49\n",
       "10. 50\n",
       "11. 51\n",
       "12. 52\n",
       "13. 53\n",
       "14. 54\n",
       "\n",
       "\n"
      ],
      "text/plain": [
       " [1] 41 42 43 44 45 46 47 48 49 50 51 52 53 54"
      ]
     },
     "metadata": {},
     "output_type": "display_data"
    },
    {
     "data": {
      "text/html": [
       "<ol class=list-inline>\n",
       "\t<li>46</li>\n",
       "\t<li>47</li>\n",
       "\t<li>48</li>\n",
       "\t<li>51</li>\n",
       "\t<li>52</li>\n",
       "\t<li>53</li>\n",
       "\t<li>54</li>\n",
       "\t<li>55</li>\n",
       "\t<li>56</li>\n",
       "\t<li>57</li>\n",
       "\t<li>58</li>\n",
       "</ol>\n"
      ],
      "text/latex": [
       "\\begin{enumerate*}\n",
       "\\item 46\n",
       "\\item 47\n",
       "\\item 48\n",
       "\\item 51\n",
       "\\item 52\n",
       "\\item 53\n",
       "\\item 54\n",
       "\\item 55\n",
       "\\item 56\n",
       "\\item 57\n",
       "\\item 58\n",
       "\\end{enumerate*}\n"
      ],
      "text/markdown": [
       "1. 46\n",
       "2. 47\n",
       "3. 48\n",
       "4. 51\n",
       "5. 52\n",
       "6. 53\n",
       "7. 54\n",
       "8. 55\n",
       "9. 56\n",
       "10. 57\n",
       "11. 58\n",
       "\n",
       "\n"
      ],
      "text/plain": [
       " [1] 46 47 48 51 52 53 54 55 56 57 58"
      ]
     },
     "metadata": {},
     "output_type": "display_data"
    }
   ],
   "source": [
    "print(\"eICU\") #112-125\n",
    "eicu_grad <- find_gradient(b = gamfitMed_eICU_ADP_24h) #50-54\n",
    "eicu_grad[(eicu_grad$gradient > -0.1) & (eicu_grad$gradient< 0.1)\n",
    "                 & (eicu_grad$bp_value> 40) & (eicu_grad$bp_value< 70), \"bp_value\"]\n",
    "eicu_grad <- find_gradient(b = gamfitMed_eICU_ADP_48h) #53-59\n",
    "eicu_grad[(eicu_grad$gradient > -0.1) & (eicu_grad$gradient< 0.1)\n",
    "                 & (eicu_grad$bp_value> 40) & (eicu_grad$bp_value< 70), \"bp_value\"]\n",
    "eicu_grad <- find_gradient(b = gamfitMed_eICU_ADP_72h)#54-61\n",
    "eicu_grad[(eicu_grad$gradient > -0.1) & (eicu_grad$gradient< 0.1) \n",
    "                 & (eicu_grad$bp_value> 40) & (eicu_grad$bp_value< 70), \"bp_value\"]\n",
    "print(\"MIMIC\") #41-59\n",
    "mimic_grad <- find_gradient(b = gamfitMed_MIMIC_ADP_24h)#41-52\n",
    "mimic_grad[(mimic_grad$gradient > -0.1) & (mimic_grad$gradient< 0.1) \n",
    "                 & (mimic_grad$bp_value> 40) & (mimic_grad$bp_value<70), \"bp_value\"]\n",
    "mimic_grad <- find_gradient(b = gamfitMed_MIMIC_ADP_48h)#43-54\n",
    "mimic_grad[(mimic_grad$gradient > -0.1) & (mimic_grad$gradient< 0.1) \n",
    "                 & (mimic_grad$bp_value> 40) & (mimic_grad$bp_value<70), \"bp_value\"]\n",
    "mimic_grad <- find_gradient(b = gamfitMed_MIMIC_ADP_72h) #47-59\n",
    "mimic_grad[(mimic_grad$gradient > -0.1) & (mimic_grad$gradient< 0.1)\n",
    "                 & (mimic_grad$bp_value> 40) & (mimic_grad$bp_value<70), \"bp_value\"]\n"
   ]
  },
  {
   "cell_type": "markdown",
   "metadata": {},
   "source": [
    "## mean vs ICU mortality"
   ]
  },
  {
   "cell_type": "code",
   "execution_count": 60,
   "metadata": {},
   "outputs": [
    {
     "name": "stdout",
     "output_type": "stream",
     "text": [
      "[1] \"eICU\"\n"
     ]
    },
    {
     "data": {
      "text/html": [
       "<ol class=list-inline>\n",
       "\t<li>71</li>\n",
       "\t<li>72</li>\n",
       "\t<li>73</li>\n",
       "\t<li>74</li>\n",
       "\t<li>75</li>\n",
       "\t<li>76</li>\n",
       "</ol>\n"
      ],
      "text/latex": [
       "\\begin{enumerate*}\n",
       "\\item 71\n",
       "\\item 72\n",
       "\\item 73\n",
       "\\item 74\n",
       "\\item 75\n",
       "\\item 76\n",
       "\\end{enumerate*}\n"
      ],
      "text/markdown": [
       "1. 71\n",
       "2. 72\n",
       "3. 73\n",
       "4. 74\n",
       "5. 75\n",
       "6. 76\n",
       "\n",
       "\n"
      ],
      "text/plain": [
       "[1] 71 72 73 74 75 76"
      ]
     },
     "metadata": {},
     "output_type": "display_data"
    },
    {
     "data": {
      "text/html": [
       "<ol class=list-inline>\n",
       "\t<li>75</li>\n",
       "\t<li>76</li>\n",
       "\t<li>77</li>\n",
       "\t<li>78</li>\n",
       "\t<li>79</li>\n",
       "\t<li>80</li>\n",
       "</ol>\n"
      ],
      "text/latex": [
       "\\begin{enumerate*}\n",
       "\\item 75\n",
       "\\item 76\n",
       "\\item 77\n",
       "\\item 78\n",
       "\\item 79\n",
       "\\item 80\n",
       "\\end{enumerate*}\n"
      ],
      "text/markdown": [
       "1. 75\n",
       "2. 76\n",
       "3. 77\n",
       "4. 78\n",
       "5. 79\n",
       "6. 80\n",
       "\n",
       "\n"
      ],
      "text/plain": [
       "[1] 75 76 77 78 79 80"
      ]
     },
     "metadata": {},
     "output_type": "display_data"
    },
    {
     "data": {
      "text/html": [
       "<ol class=list-inline>\n",
       "\t<li>76</li>\n",
       "\t<li>77</li>\n",
       "\t<li>78</li>\n",
       "\t<li>79</li>\n",
       "\t<li>80</li>\n",
       "\t<li>81</li>\n",
       "</ol>\n"
      ],
      "text/latex": [
       "\\begin{enumerate*}\n",
       "\\item 76\n",
       "\\item 77\n",
       "\\item 78\n",
       "\\item 79\n",
       "\\item 80\n",
       "\\item 81\n",
       "\\end{enumerate*}\n"
      ],
      "text/markdown": [
       "1. 76\n",
       "2. 77\n",
       "3. 78\n",
       "4. 79\n",
       "5. 80\n",
       "6. 81\n",
       "\n",
       "\n"
      ],
      "text/plain": [
       "[1] 76 77 78 79 80 81"
      ]
     },
     "metadata": {},
     "output_type": "display_data"
    },
    {
     "name": "stdout",
     "output_type": "stream",
     "text": [
      "[1] \"MIMIC\"\n"
     ]
    },
    {
     "data": {
      "text/html": [
       "<ol class=list-inline>\n",
       "\t<li>71</li>\n",
       "\t<li>72</li>\n",
       "\t<li>73</li>\n",
       "\t<li>74</li>\n",
       "</ol>\n"
      ],
      "text/latex": [
       "\\begin{enumerate*}\n",
       "\\item 71\n",
       "\\item 72\n",
       "\\item 73\n",
       "\\item 74\n",
       "\\end{enumerate*}\n"
      ],
      "text/markdown": [
       "1. 71\n",
       "2. 72\n",
       "3. 73\n",
       "4. 74\n",
       "\n",
       "\n"
      ],
      "text/plain": [
       "[1] 71 72 73 74"
      ]
     },
     "metadata": {},
     "output_type": "display_data"
    },
    {
     "data": {
      "text/html": [
       "<ol class=list-inline>\n",
       "\t<li>72</li>\n",
       "\t<li>73</li>\n",
       "\t<li>74</li>\n",
       "\t<li>75</li>\n",
       "\t<li>76</li>\n",
       "</ol>\n"
      ],
      "text/latex": [
       "\\begin{enumerate*}\n",
       "\\item 72\n",
       "\\item 73\n",
       "\\item 74\n",
       "\\item 75\n",
       "\\item 76\n",
       "\\end{enumerate*}\n"
      ],
      "text/markdown": [
       "1. 72\n",
       "2. 73\n",
       "3. 74\n",
       "4. 75\n",
       "5. 76\n",
       "\n",
       "\n"
      ],
      "text/plain": [
       "[1] 72 73 74 75 76"
      ]
     },
     "metadata": {},
     "output_type": "display_data"
    },
    {
     "data": {
      "text/html": [
       "<ol class=list-inline>\n",
       "\t<li>73</li>\n",
       "\t<li>74</li>\n",
       "\t<li>75</li>\n",
       "\t<li>76</li>\n",
       "\t<li>89</li>\n",
       "</ol>\n"
      ],
      "text/latex": [
       "\\begin{enumerate*}\n",
       "\\item 73\n",
       "\\item 74\n",
       "\\item 75\n",
       "\\item 76\n",
       "\\item 89\n",
       "\\end{enumerate*}\n"
      ],
      "text/markdown": [
       "1. 73\n",
       "2. 74\n",
       "3. 75\n",
       "4. 76\n",
       "5. 89\n",
       "\n",
       "\n"
      ],
      "text/plain": [
       "[1] 73 74 75 76 89"
      ]
     },
     "metadata": {},
     "output_type": "display_data"
    }
   ],
   "source": [
    "print(\"eICU\") #73-80\n",
    "eicu_grad <- find_gradient(b = gamfitMed_ICU_eICU_MAP_24h) #73-75\n",
    "eicu_grad[(eicu_grad$gradient > -0.1) & (eicu_grad$gradient< 0.1)\n",
    "                 & (eicu_grad$bp_value< 90) & (eicu_grad$bp_value> 60), \"bp_value\"]\n",
    "eicu_grad <- find_gradient(b = gamfitMed_ICU_eICU_MAP_48h) #77-79\n",
    "eicu_grad[(eicu_grad$gradient > -0.1) & (eicu_grad$gradient< 0.1)\n",
    "                 & (eicu_grad$bp_value< 90) & (eicu_grad$bp_value> 60), \"bp_value\"]\n",
    "eicu_grad <- find_gradient(b = gamfitMed_ICU_eICU_MAP_72h)#78-80\n",
    "eicu_grad[(eicu_grad$gradient > -0.1) & (eicu_grad$gradient< 0.1) \n",
    "                 & (eicu_grad$bp_value< 90) & (eicu_grad$bp_value> 60), \"bp_value\"]\n",
    "print(\"MIMIC\") #73-77\n",
    "mimic_grad <- find_gradient(b = gamfitMed_ICU_MIMIC_MAP_24h)#73-74\n",
    "mimic_grad[(mimic_grad$gradient > -0.1) & (mimic_grad$gradient< 0.1) \n",
    "                 & (mimic_grad$bp_value< 90) & (mimic_grad$bp_value> 60), \"bp_value\"]\n",
    "mimic_grad <- find_gradient(b = gamfitMed_ICU_MIMIC_MAP_48h)#74-77\n",
    "mimic_grad[(mimic_grad$gradient > -0.1) & (mimic_grad$gradient< 0.1) \n",
    "                 & (mimic_grad$bp_value< 90) & (mimic_grad$bp_value> 60), \"bp_value\"]\n",
    "mimic_grad <- find_gradient(b = gamfitMed_ICU_MIMIC_MAP_72h) #75-77\n",
    "mimic_grad[(mimic_grad$gradient > -0.1) & (mimic_grad$gradient< 0.1)\n",
    "                 & (mimic_grad$bp_value< 90) & (mimic_grad$bp_value> 60), \"bp_value\"]\n"
   ]
  },
  {
   "cell_type": "markdown",
   "metadata": {},
   "source": [
    "## systolic vs ICU mortality"
   ]
  },
  {
   "cell_type": "code",
   "execution_count": 61,
   "metadata": {},
   "outputs": [
    {
     "name": "stdout",
     "output_type": "stream",
     "text": [
      "[1] \"eICU\"\n"
     ]
    },
    {
     "data": {
      "text/html": [
       "<ol class=list-inline>\n",
       "\t<li>109</li>\n",
       "\t<li>110</li>\n",
       "\t<li>111</li>\n",
       "\t<li>112</li>\n",
       "\t<li>113</li>\n",
       "\t<li>114</li>\n",
       "\t<li>115</li>\n",
       "\t<li>116</li>\n",
       "\t<li>117</li>\n",
       "\t<li>118</li>\n",
       "\t<li>119</li>\n",
       "\t<li>120</li>\n",
       "\t<li>121</li>\n",
       "\t<li>122</li>\n",
       "\t<li>123</li>\n",
       "\t<li>124</li>\n",
       "</ol>\n"
      ],
      "text/latex": [
       "\\begin{enumerate*}\n",
       "\\item 109\n",
       "\\item 110\n",
       "\\item 111\n",
       "\\item 112\n",
       "\\item 113\n",
       "\\item 114\n",
       "\\item 115\n",
       "\\item 116\n",
       "\\item 117\n",
       "\\item 118\n",
       "\\item 119\n",
       "\\item 120\n",
       "\\item 121\n",
       "\\item 122\n",
       "\\item 123\n",
       "\\item 124\n",
       "\\end{enumerate*}\n"
      ],
      "text/markdown": [
       "1. 109\n",
       "2. 110\n",
       "3. 111\n",
       "4. 112\n",
       "5. 113\n",
       "6. 114\n",
       "7. 115\n",
       "8. 116\n",
       "9. 117\n",
       "10. 118\n",
       "11. 119\n",
       "12. 120\n",
       "13. 121\n",
       "14. 122\n",
       "15. 123\n",
       "16. 124\n",
       "\n",
       "\n"
      ],
      "text/plain": [
       " [1] 109 110 111 112 113 114 115 116 117 118 119 120 121 122 123 124"
      ]
     },
     "metadata": {},
     "output_type": "display_data"
    },
    {
     "data": {
      "text/html": [
       "<ol class=list-inline>\n",
       "\t<li>113</li>\n",
       "\t<li>114</li>\n",
       "\t<li>115</li>\n",
       "\t<li>116</li>\n",
       "\t<li>117</li>\n",
       "\t<li>118</li>\n",
       "\t<li>119</li>\n",
       "\t<li>120</li>\n",
       "\t<li>121</li>\n",
       "\t<li>122</li>\n",
       "\t<li>123</li>\n",
       "\t<li>124</li>\n",
       "\t<li>125</li>\n",
       "\t<li>126</li>\n",
       "\t<li>127</li>\n",
       "\t<li>128</li>\n",
       "\t<li>129</li>\n",
       "\t<li>130</li>\n",
       "\t<li>131</li>\n",
       "\t<li>132</li>\n",
       "\t<li>133</li>\n",
       "\t<li>134</li>\n",
       "</ol>\n"
      ],
      "text/latex": [
       "\\begin{enumerate*}\n",
       "\\item 113\n",
       "\\item 114\n",
       "\\item 115\n",
       "\\item 116\n",
       "\\item 117\n",
       "\\item 118\n",
       "\\item 119\n",
       "\\item 120\n",
       "\\item 121\n",
       "\\item 122\n",
       "\\item 123\n",
       "\\item 124\n",
       "\\item 125\n",
       "\\item 126\n",
       "\\item 127\n",
       "\\item 128\n",
       "\\item 129\n",
       "\\item 130\n",
       "\\item 131\n",
       "\\item 132\n",
       "\\item 133\n",
       "\\item 134\n",
       "\\end{enumerate*}\n"
      ],
      "text/markdown": [
       "1. 113\n",
       "2. 114\n",
       "3. 115\n",
       "4. 116\n",
       "5. 117\n",
       "6. 118\n",
       "7. 119\n",
       "8. 120\n",
       "9. 121\n",
       "10. 122\n",
       "11. 123\n",
       "12. 124\n",
       "13. 125\n",
       "14. 126\n",
       "15. 127\n",
       "16. 128\n",
       "17. 129\n",
       "18. 130\n",
       "19. 131\n",
       "20. 132\n",
       "21. 133\n",
       "22. 134\n",
       "\n",
       "\n"
      ],
      "text/plain": [
       " [1] 113 114 115 116 117 118 119 120 121 122 123 124 125 126 127 128 129 130 131\n",
       "[20] 132 133 134"
      ]
     },
     "metadata": {},
     "output_type": "display_data"
    },
    {
     "data": {
      "text/html": [
       "<ol class=list-inline>\n",
       "\t<li>114</li>\n",
       "\t<li>115</li>\n",
       "\t<li>116</li>\n",
       "\t<li>117</li>\n",
       "\t<li>118</li>\n",
       "\t<li>119</li>\n",
       "\t<li>120</li>\n",
       "\t<li>121</li>\n",
       "\t<li>122</li>\n",
       "\t<li>123</li>\n",
       "\t<li>124</li>\n",
       "\t<li>125</li>\n",
       "\t<li>126</li>\n",
       "\t<li>127</li>\n",
       "\t<li>128</li>\n",
       "\t<li>129</li>\n",
       "\t<li>130</li>\n",
       "\t<li>131</li>\n",
       "\t<li>132</li>\n",
       "\t<li>133</li>\n",
       "\t<li>134</li>\n",
       "\t<li>135</li>\n",
       "\t<li>136</li>\n",
       "\t<li>137</li>\n",
       "\t<li>138</li>\n",
       "\t<li>139</li>\n",
       "</ol>\n"
      ],
      "text/latex": [
       "\\begin{enumerate*}\n",
       "\\item 114\n",
       "\\item 115\n",
       "\\item 116\n",
       "\\item 117\n",
       "\\item 118\n",
       "\\item 119\n",
       "\\item 120\n",
       "\\item 121\n",
       "\\item 122\n",
       "\\item 123\n",
       "\\item 124\n",
       "\\item 125\n",
       "\\item 126\n",
       "\\item 127\n",
       "\\item 128\n",
       "\\item 129\n",
       "\\item 130\n",
       "\\item 131\n",
       "\\item 132\n",
       "\\item 133\n",
       "\\item 134\n",
       "\\item 135\n",
       "\\item 136\n",
       "\\item 137\n",
       "\\item 138\n",
       "\\item 139\n",
       "\\end{enumerate*}\n"
      ],
      "text/markdown": [
       "1. 114\n",
       "2. 115\n",
       "3. 116\n",
       "4. 117\n",
       "5. 118\n",
       "6. 119\n",
       "7. 120\n",
       "8. 121\n",
       "9. 122\n",
       "10. 123\n",
       "11. 124\n",
       "12. 125\n",
       "13. 126\n",
       "14. 127\n",
       "15. 128\n",
       "16. 129\n",
       "17. 130\n",
       "18. 131\n",
       "19. 132\n",
       "20. 133\n",
       "21. 134\n",
       "22. 135\n",
       "23. 136\n",
       "24. 137\n",
       "25. 138\n",
       "26. 139\n",
       "\n",
       "\n"
      ],
      "text/plain": [
       " [1] 114 115 116 117 118 119 120 121 122 123 124 125 126 127 128 129 130 131 132\n",
       "[20] 133 134 135 136 137 138 139"
      ]
     },
     "metadata": {},
     "output_type": "display_data"
    },
    {
     "name": "stdout",
     "output_type": "stream",
     "text": [
      "[1] \"MIMIC\"\n"
     ]
    },
    {
     "data": {
      "text/html": [
       "<ol class=list-inline>\n",
       "\t<li>110</li>\n",
       "\t<li>111</li>\n",
       "\t<li>112</li>\n",
       "\t<li>113</li>\n",
       "\t<li>114</li>\n",
       "\t<li>115</li>\n",
       "\t<li>116</li>\n",
       "\t<li>139</li>\n",
       "</ol>\n"
      ],
      "text/latex": [
       "\\begin{enumerate*}\n",
       "\\item 110\n",
       "\\item 111\n",
       "\\item 112\n",
       "\\item 113\n",
       "\\item 114\n",
       "\\item 115\n",
       "\\item 116\n",
       "\\item 139\n",
       "\\end{enumerate*}\n"
      ],
      "text/markdown": [
       "1. 110\n",
       "2. 111\n",
       "3. 112\n",
       "4. 113\n",
       "5. 114\n",
       "6. 115\n",
       "7. 116\n",
       "8. 139\n",
       "\n",
       "\n"
      ],
      "text/plain": [
       "[1] 110 111 112 113 114 115 116 139"
      ]
     },
     "metadata": {},
     "output_type": "display_data"
    },
    {
     "data": {
      "text/html": [
       "<ol class=list-inline>\n",
       "\t<li>113</li>\n",
       "\t<li>114</li>\n",
       "\t<li>115</li>\n",
       "\t<li>116</li>\n",
       "\t<li>117</li>\n",
       "\t<li>118</li>\n",
       "\t<li>119</li>\n",
       "\t<li>120</li>\n",
       "</ol>\n"
      ],
      "text/latex": [
       "\\begin{enumerate*}\n",
       "\\item 113\n",
       "\\item 114\n",
       "\\item 115\n",
       "\\item 116\n",
       "\\item 117\n",
       "\\item 118\n",
       "\\item 119\n",
       "\\item 120\n",
       "\\end{enumerate*}\n"
      ],
      "text/markdown": [
       "1. 113\n",
       "2. 114\n",
       "3. 115\n",
       "4. 116\n",
       "5. 117\n",
       "6. 118\n",
       "7. 119\n",
       "8. 120\n",
       "\n",
       "\n"
      ],
      "text/plain": [
       "[1] 113 114 115 116 117 118 119 120"
      ]
     },
     "metadata": {},
     "output_type": "display_data"
    },
    {
     "data": {
      "text/html": [
       "<ol class=list-inline>\n",
       "\t<li>114</li>\n",
       "\t<li>115</li>\n",
       "\t<li>116</li>\n",
       "\t<li>117</li>\n",
       "\t<li>118</li>\n",
       "\t<li>119</li>\n",
       "\t<li>120</li>\n",
       "\t<li>121</li>\n",
       "\t<li>122</li>\n",
       "\t<li>123</li>\n",
       "</ol>\n"
      ],
      "text/latex": [
       "\\begin{enumerate*}\n",
       "\\item 114\n",
       "\\item 115\n",
       "\\item 116\n",
       "\\item 117\n",
       "\\item 118\n",
       "\\item 119\n",
       "\\item 120\n",
       "\\item 121\n",
       "\\item 122\n",
       "\\item 123\n",
       "\\end{enumerate*}\n"
      ],
      "text/markdown": [
       "1. 114\n",
       "2. 115\n",
       "3. 116\n",
       "4. 117\n",
       "5. 118\n",
       "6. 119\n",
       "7. 120\n",
       "8. 121\n",
       "9. 122\n",
       "10. 123\n",
       "\n",
       "\n"
      ],
      "text/plain": [
       " [1] 114 115 116 117 118 119 120 121 122 123"
      ]
     },
     "metadata": {},
     "output_type": "display_data"
    }
   ],
   "source": [
    "print(\"eICU\") #112-125\n",
    "eicu_grad <- find_gradient(b = gamfitMed_ICU_eICU_ASP_24h) #113-120\n",
    "eicu_grad[(eicu_grad$gradient > -0.1) & (eicu_grad$gradient< 0.1)\n",
    "                 & (eicu_grad$bp_value> 90) & (eicu_grad$bp_value< 140), \"bp_value\"]\n",
    "eicu_grad <- find_gradient(b = gamfitMed_ICU_eICU_ASP_48h) #116-126\n",
    "eicu_grad[(eicu_grad$gradient > -0.1) & (eicu_grad$gradient< 0.1)\n",
    "                 & (eicu_grad$bp_value> 90) & (eicu_grad$bp_value< 140), \"bp_value\"]\n",
    "eicu_grad <- find_gradient(b = gamfitMed_ICU_eICU_ASP_72h)#118-128\n",
    "eicu_grad[(eicu_grad$gradient > -0.1) & (eicu_grad$gradient< 0.1) \n",
    "                 & (eicu_grad$bp_value> 90) & (eicu_grad$bp_value< 140), \"bp_value\"]\n",
    "print(\"MIMIC\") #112-120\n",
    "mimic_grad <- find_gradient(b = gamfitMed_ICU_MIMIC_ASP_24h)#113-115\n",
    "mimic_grad[(mimic_grad$gradient > -0.1) & (mimic_grad$gradient< 0.1) \n",
    "                 & (mimic_grad$bp_value> 90) & (mimic_grad$bp_value<140), \"bp_value\"]\n",
    "mimic_grad <- find_gradient(b = gamfitMed_ICU_MIMIC_ASP_48h)#116-119\n",
    "mimic_grad[(mimic_grad$gradient > -0.1) & (mimic_grad$gradient< 0.1) \n",
    "                 & (mimic_grad$bp_value> 90) & (mimic_grad$bp_value<140), \"bp_value\"]\n",
    "mimic_grad <- find_gradient(b = gamfitMed_ICU_MIMIC_ASP_72h) #116-122\n",
    "mimic_grad[(mimic_grad$gradient > -0.1) & (mimic_grad$gradient< 0.1)\n",
    "                 & (mimic_grad$bp_value> 90) & (mimic_grad$bp_value<140), \"bp_value\"]\n"
   ]
  },
  {
   "cell_type": "markdown",
   "metadata": {},
   "source": [
    "## diastolic vs ICU mortality"
   ]
  },
  {
   "cell_type": "code",
   "execution_count": 62,
   "metadata": {},
   "outputs": [
    {
     "name": "stdout",
     "output_type": "stream",
     "text": [
      "[1] \"eICU\"\n"
     ]
    },
    {
     "data": {
      "text/html": [
       "<ol class=list-inline>\n",
       "\t<li>46</li>\n",
       "\t<li>47</li>\n",
       "\t<li>48</li>\n",
       "\t<li>49</li>\n",
       "\t<li>50</li>\n",
       "\t<li>51</li>\n",
       "\t<li>52</li>\n",
       "\t<li>53</li>\n",
       "\t<li>54</li>\n",
       "\t<li>55</li>\n",
       "\t<li>56</li>\n",
       "</ol>\n"
      ],
      "text/latex": [
       "\\begin{enumerate*}\n",
       "\\item 46\n",
       "\\item 47\n",
       "\\item 48\n",
       "\\item 49\n",
       "\\item 50\n",
       "\\item 51\n",
       "\\item 52\n",
       "\\item 53\n",
       "\\item 54\n",
       "\\item 55\n",
       "\\item 56\n",
       "\\end{enumerate*}\n"
      ],
      "text/markdown": [
       "1. 46\n",
       "2. 47\n",
       "3. 48\n",
       "4. 49\n",
       "5. 50\n",
       "6. 51\n",
       "7. 52\n",
       "8. 53\n",
       "9. 54\n",
       "10. 55\n",
       "11. 56\n",
       "\n",
       "\n"
      ],
      "text/plain": [
       " [1] 46 47 48 49 50 51 52 53 54 55 56"
      ]
     },
     "metadata": {},
     "output_type": "display_data"
    },
    {
     "data": {
      "text/html": [
       "<ol class=list-inline>\n",
       "\t<li>50</li>\n",
       "\t<li>51</li>\n",
       "\t<li>52</li>\n",
       "\t<li>53</li>\n",
       "\t<li>54</li>\n",
       "\t<li>55</li>\n",
       "\t<li>56</li>\n",
       "\t<li>57</li>\n",
       "\t<li>58</li>\n",
       "\t<li>59</li>\n",
       "\t<li>60</li>\n",
       "\t<li>61</li>\n",
       "\t<li>62</li>\n",
       "\t<li>63</li>\n",
       "\t<li>64</li>\n",
       "</ol>\n"
      ],
      "text/latex": [
       "\\begin{enumerate*}\n",
       "\\item 50\n",
       "\\item 51\n",
       "\\item 52\n",
       "\\item 53\n",
       "\\item 54\n",
       "\\item 55\n",
       "\\item 56\n",
       "\\item 57\n",
       "\\item 58\n",
       "\\item 59\n",
       "\\item 60\n",
       "\\item 61\n",
       "\\item 62\n",
       "\\item 63\n",
       "\\item 64\n",
       "\\end{enumerate*}\n"
      ],
      "text/markdown": [
       "1. 50\n",
       "2. 51\n",
       "3. 52\n",
       "4. 53\n",
       "5. 54\n",
       "6. 55\n",
       "7. 56\n",
       "8. 57\n",
       "9. 58\n",
       "10. 59\n",
       "11. 60\n",
       "12. 61\n",
       "13. 62\n",
       "14. 63\n",
       "15. 64\n",
       "\n",
       "\n"
      ],
      "text/plain": [
       " [1] 50 51 52 53 54 55 56 57 58 59 60 61 62 63 64"
      ]
     },
     "metadata": {},
     "output_type": "display_data"
    },
    {
     "data": {
      "text/html": [
       "<ol class=list-inline>\n",
       "\t<li>53</li>\n",
       "\t<li>54</li>\n",
       "\t<li>55</li>\n",
       "\t<li>56</li>\n",
       "\t<li>57</li>\n",
       "\t<li>58</li>\n",
       "\t<li>59</li>\n",
       "\t<li>60</li>\n",
       "\t<li>61</li>\n",
       "\t<li>62</li>\n",
       "\t<li>63</li>\n",
       "\t<li>64</li>\n",
       "\t<li>65</li>\n",
       "\t<li>66</li>\n",
       "\t<li>67</li>\n",
       "\t<li>68</li>\n",
       "</ol>\n"
      ],
      "text/latex": [
       "\\begin{enumerate*}\n",
       "\\item 53\n",
       "\\item 54\n",
       "\\item 55\n",
       "\\item 56\n",
       "\\item 57\n",
       "\\item 58\n",
       "\\item 59\n",
       "\\item 60\n",
       "\\item 61\n",
       "\\item 62\n",
       "\\item 63\n",
       "\\item 64\n",
       "\\item 65\n",
       "\\item 66\n",
       "\\item 67\n",
       "\\item 68\n",
       "\\end{enumerate*}\n"
      ],
      "text/markdown": [
       "1. 53\n",
       "2. 54\n",
       "3. 55\n",
       "4. 56\n",
       "5. 57\n",
       "6. 58\n",
       "7. 59\n",
       "8. 60\n",
       "9. 61\n",
       "10. 62\n",
       "11. 63\n",
       "12. 64\n",
       "13. 65\n",
       "14. 66\n",
       "15. 67\n",
       "16. 68\n",
       "\n",
       "\n"
      ],
      "text/plain": [
       " [1] 53 54 55 56 57 58 59 60 61 62 63 64 65 66 67 68"
      ]
     },
     "metadata": {},
     "output_type": "display_data"
    },
    {
     "name": "stdout",
     "output_type": "stream",
     "text": [
      "[1] \"MIMIC\"\n"
     ]
    },
    {
     "data": {
      "text/html": [
       "<ol class=list-inline>\n",
       "\t<li>41</li>\n",
       "\t<li>42</li>\n",
       "\t<li>43</li>\n",
       "\t<li>44</li>\n",
       "\t<li>45</li>\n",
       "\t<li>46</li>\n",
       "\t<li>47</li>\n",
       "\t<li>48</li>\n",
       "\t<li>49</li>\n",
       "\t<li>50</li>\n",
       "\t<li>51</li>\n",
       "\t<li>52</li>\n",
       "\t<li>53</li>\n",
       "\t<li>54</li>\n",
       "</ol>\n"
      ],
      "text/latex": [
       "\\begin{enumerate*}\n",
       "\\item 41\n",
       "\\item 42\n",
       "\\item 43\n",
       "\\item 44\n",
       "\\item 45\n",
       "\\item 46\n",
       "\\item 47\n",
       "\\item 48\n",
       "\\item 49\n",
       "\\item 50\n",
       "\\item 51\n",
       "\\item 52\n",
       "\\item 53\n",
       "\\item 54\n",
       "\\end{enumerate*}\n"
      ],
      "text/markdown": [
       "1. 41\n",
       "2. 42\n",
       "3. 43\n",
       "4. 44\n",
       "5. 45\n",
       "6. 46\n",
       "7. 47\n",
       "8. 48\n",
       "9. 49\n",
       "10. 50\n",
       "11. 51\n",
       "12. 52\n",
       "13. 53\n",
       "14. 54\n",
       "\n",
       "\n"
      ],
      "text/plain": [
       " [1] 41 42 43 44 45 46 47 48 49 50 51 52 53 54"
      ]
     },
     "metadata": {},
     "output_type": "display_data"
    },
    {
     "data": {
      "text/html": [
       "<ol class=list-inline>\n",
       "\t<li>42</li>\n",
       "\t<li>43</li>\n",
       "\t<li>44</li>\n",
       "\t<li>45</li>\n",
       "\t<li>46</li>\n",
       "\t<li>47</li>\n",
       "\t<li>48</li>\n",
       "\t<li>49</li>\n",
       "\t<li>50</li>\n",
       "\t<li>51</li>\n",
       "\t<li>52</li>\n",
       "\t<li>53</li>\n",
       "\t<li>54</li>\n",
       "\t<li>55</li>\n",
       "\t<li>56</li>\n",
       "\t<li>57</li>\n",
       "</ol>\n"
      ],
      "text/latex": [
       "\\begin{enumerate*}\n",
       "\\item 42\n",
       "\\item 43\n",
       "\\item 44\n",
       "\\item 45\n",
       "\\item 46\n",
       "\\item 47\n",
       "\\item 48\n",
       "\\item 49\n",
       "\\item 50\n",
       "\\item 51\n",
       "\\item 52\n",
       "\\item 53\n",
       "\\item 54\n",
       "\\item 55\n",
       "\\item 56\n",
       "\\item 57\n",
       "\\end{enumerate*}\n"
      ],
      "text/markdown": [
       "1. 42\n",
       "2. 43\n",
       "3. 44\n",
       "4. 45\n",
       "5. 46\n",
       "6. 47\n",
       "7. 48\n",
       "8. 49\n",
       "9. 50\n",
       "10. 51\n",
       "11. 52\n",
       "12. 53\n",
       "13. 54\n",
       "14. 55\n",
       "15. 56\n",
       "16. 57\n",
       "\n",
       "\n"
      ],
      "text/plain": [
       " [1] 42 43 44 45 46 47 48 49 50 51 52 53 54 55 56 57"
      ]
     },
     "metadata": {},
     "output_type": "display_data"
    },
    {
     "data": {
      "text/html": [
       "<ol class=list-inline>\n",
       "\t<li>46</li>\n",
       "\t<li>47</li>\n",
       "\t<li>51</li>\n",
       "\t<li>52</li>\n",
       "\t<li>53</li>\n",
       "\t<li>59</li>\n",
       "\t<li>60</li>\n",
       "</ol>\n"
      ],
      "text/latex": [
       "\\begin{enumerate*}\n",
       "\\item 46\n",
       "\\item 47\n",
       "\\item 51\n",
       "\\item 52\n",
       "\\item 53\n",
       "\\item 59\n",
       "\\item 60\n",
       "\\end{enumerate*}\n"
      ],
      "text/markdown": [
       "1. 46\n",
       "2. 47\n",
       "3. 51\n",
       "4. 52\n",
       "5. 53\n",
       "6. 59\n",
       "7. 60\n",
       "\n",
       "\n"
      ],
      "text/plain": [
       "[1] 46 47 51 52 53 59 60"
      ]
     },
     "metadata": {},
     "output_type": "display_data"
    }
   ],
   "source": [
    "print(\"eICU\") #49-65\n",
    "eicu_grad <- find_gradient(b = gamfitMed_ICU_eICU_ADP_24h) #49-54\n",
    "eicu_grad[(eicu_grad$gradient > -0.1) & (eicu_grad$gradient< 0.1)\n",
    "                 & (eicu_grad$bp_value> 40) & (eicu_grad$bp_value< 70), \"bp_value\"]\n",
    "eicu_grad <- find_gradient(b = gamfitMed_ICU_eICU_ADP_48h) #54-61\n",
    "eicu_grad[(eicu_grad$gradient > -0.1) & (eicu_grad$gradient< 0.1)\n",
    "                 & (eicu_grad$bp_value> 40) & (eicu_grad$bp_value< 70), \"bp_value\"]\n",
    "eicu_grad <- find_gradient(b = gamfitMed_ICU_eICU_ADP_72h)#56-65\n",
    "eicu_grad[(eicu_grad$gradient > -0.1) & (eicu_grad$gradient< 0.1) \n",
    "                 & (eicu_grad$bp_value> 40) & (eicu_grad$bp_value< 70), \"bp_value\"]\n",
    "print(\"MIMIC\") #41-60\n",
    "mimic_grad <- find_gradient(b = gamfitMed_ICU_MIMIC_ADP_24h)#41-54\n",
    "mimic_grad[(mimic_grad$gradient > -0.1) & (mimic_grad$gradient< 0.1) \n",
    "                 & (mimic_grad$bp_value> 40) & (mimic_grad$bp_value<70), \"bp_value\"]\n",
    "mimic_grad <- find_gradient(b = gamfitMed_ICU_MIMIC_ADP_48h)#46-56\n",
    "mimic_grad[(mimic_grad$gradient > -0.1) & (mimic_grad$gradient< 0.1) \n",
    "                 & (mimic_grad$bp_value> 40) & (mimic_grad$bp_value<70), \"bp_value\"]\n",
    "mimic_grad <- find_gradient(b = gamfitMed_ICU_MIMIC_ADP_72h) #47-60\n",
    "mimic_grad[(mimic_grad$gradient > -0.1) & (mimic_grad$gradient< 0.1)\n",
    "                 & (mimic_grad$bp_value> 40) & (mimic_grad$bp_value<70), \"bp_value\"]\n"
   ]
  },
  {
   "cell_type": "markdown",
   "metadata": {},
   "source": [
    "## mean, systolic, diastolic vs AKI (7day)"
   ]
  },
  {
   "cell_type": "code",
   "execution_count": 44,
   "metadata": {},
   "outputs": [
    {
     "name": "stdout",
     "output_type": "stream",
     "text": [
      "[1] \"eICU\"\n"
     ]
    },
    {
     "data": {
      "text/html": [
       "<table>\n",
       "<thead><tr><th></th><th scope=col>bp_value</th><th scope=col>gradient</th><th scope=col>pre_val_left</th><th scope=col>pre_val_right</th></tr></thead>\n",
       "<tbody>\n",
       "\t<tr><th scope=row>30</th><td>71        </td><td>-0.1346184</td><td>0.8602618 </td><td>0.8589156 </td></tr>\n",
       "\t<tr><th scope=row>31</th><td>72        </td><td>-0.1357088</td><td>0.8589156 </td><td>0.8575585 </td></tr>\n",
       "\t<tr><th scope=row>32</th><td>73        </td><td>-0.1367414</td><td>0.8575585 </td><td>0.8561911 </td></tr>\n",
       "\t<tr><th scope=row>33</th><td>74        </td><td>-0.1376239</td><td>0.8561911 </td><td>0.8548148 </td></tr>\n",
       "\t<tr><th scope=row>34</th><td>75        </td><td>-0.1382507</td><td>0.8548148 </td><td>0.8534323 </td></tr>\n",
       "\t<tr><th scope=row>35</th><td>76        </td><td>-0.1385073</td><td>0.8534323 </td><td>0.8520473 </td></tr>\n",
       "\t<tr><th scope=row>36</th><td>77        </td><td>-0.1382763</td><td>0.8520473 </td><td>0.8506645 </td></tr>\n",
       "\t<tr><th scope=row>37</th><td>78        </td><td>-0.1374497</td><td>0.8506645 </td><td>0.8492900 </td></tr>\n",
       "\t<tr><th scope=row>38</th><td>79        </td><td>-0.1359363</td><td>0.8492900 </td><td>0.8479306 </td></tr>\n",
       "</tbody>\n",
       "</table>\n"
      ],
      "text/latex": [
       "\\begin{tabular}{r|llll}\n",
       "  & bp\\_value & gradient & pre\\_val\\_left & pre\\_val\\_right\\\\\n",
       "\\hline\n",
       "\t30 & 71         & -0.1346184 & 0.8602618  & 0.8589156 \\\\\n",
       "\t31 & 72         & -0.1357088 & 0.8589156  & 0.8575585 \\\\\n",
       "\t32 & 73         & -0.1367414 & 0.8575585  & 0.8561911 \\\\\n",
       "\t33 & 74         & -0.1376239 & 0.8561911  & 0.8548148 \\\\\n",
       "\t34 & 75         & -0.1382507 & 0.8548148  & 0.8534323 \\\\\n",
       "\t35 & 76         & -0.1385073 & 0.8534323  & 0.8520473 \\\\\n",
       "\t36 & 77         & -0.1382763 & 0.8520473  & 0.8506645 \\\\\n",
       "\t37 & 78         & -0.1374497 & 0.8506645  & 0.8492900 \\\\\n",
       "\t38 & 79         & -0.1359363 & 0.8492900  & 0.8479306 \\\\\n",
       "\\end{tabular}\n"
      ],
      "text/markdown": [
       "\n",
       "| <!--/--> | bp_value | gradient | pre_val_left | pre_val_right | \n",
       "|---|---|---|---|---|---|---|---|---|\n",
       "| 30 | 71         | -0.1346184 | 0.8602618  | 0.8589156  | \n",
       "| 31 | 72         | -0.1357088 | 0.8589156  | 0.8575585  | \n",
       "| 32 | 73         | -0.1367414 | 0.8575585  | 0.8561911  | \n",
       "| 33 | 74         | -0.1376239 | 0.8561911  | 0.8548148  | \n",
       "| 34 | 75         | -0.1382507 | 0.8548148  | 0.8534323  | \n",
       "| 35 | 76         | -0.1385073 | 0.8534323  | 0.8520473  | \n",
       "| 36 | 77         | -0.1382763 | 0.8520473  | 0.8506645  | \n",
       "| 37 | 78         | -0.1374497 | 0.8506645  | 0.8492900  | \n",
       "| 38 | 79         | -0.1359363 | 0.8492900  | 0.8479306  | \n",
       "\n",
       "\n"
      ],
      "text/plain": [
       "   bp_value gradient   pre_val_left pre_val_right\n",
       "30 71       -0.1346184 0.8602618    0.8589156    \n",
       "31 72       -0.1357088 0.8589156    0.8575585    \n",
       "32 73       -0.1367414 0.8575585    0.8561911    \n",
       "33 74       -0.1376239 0.8561911    0.8548148    \n",
       "34 75       -0.1382507 0.8548148    0.8534323    \n",
       "35 76       -0.1385073 0.8534323    0.8520473    \n",
       "36 77       -0.1382763 0.8520473    0.8506645    \n",
       "37 78       -0.1374497 0.8506645    0.8492900    \n",
       "38 79       -0.1359363 0.8492900    0.8479306    "
      ]
     },
     "metadata": {},
     "output_type": "display_data"
    },
    {
     "data": {
      "text/html": [
       "<table>\n",
       "<thead><tr><th></th><th scope=col>bp_value</th><th scope=col>gradient</th><th scope=col>pre_val_left</th><th scope=col>pre_val_right</th></tr></thead>\n",
       "<tbody>\n",
       "\t<tr><th scope=row>26</th><td>71        </td><td>-0.1717180</td><td>0.8634645 </td><td>0.8617473 </td></tr>\n",
       "\t<tr><th scope=row>27</th><td>72        </td><td>-0.1731429</td><td>0.8617473 </td><td>0.8600159 </td></tr>\n",
       "\t<tr><th scope=row>28</th><td>73        </td><td>-0.1745055</td><td>0.8600159 </td><td>0.8582708 </td></tr>\n",
       "\t<tr><th scope=row>29</th><td>74        </td><td>-0.1757323</td><td>0.8582708 </td><td>0.8565135 </td></tr>\n",
       "\t<tr><th scope=row>30</th><td>75        </td><td>-0.1767448</td><td>0.8565135 </td><td>0.8547461 </td></tr>\n",
       "\t<tr><th scope=row>31</th><td>76        </td><td>-0.1774454</td><td>0.8547461 </td><td>0.8529716 </td></tr>\n",
       "\t<tr><th scope=row>32</th><td>77        </td><td>-0.1777110</td><td>0.8529716 </td><td>0.8511945 </td></tr>\n",
       "\t<tr><th scope=row>33</th><td>78        </td><td>-0.1774219</td><td>0.8511945 </td><td>0.8494203 </td></tr>\n",
       "\t<tr><th scope=row>34</th><td>79        </td><td>-0.1764719</td><td>0.8494203 </td><td>0.8476556 </td></tr>\n",
       "</tbody>\n",
       "</table>\n"
      ],
      "text/latex": [
       "\\begin{tabular}{r|llll}\n",
       "  & bp\\_value & gradient & pre\\_val\\_left & pre\\_val\\_right\\\\\n",
       "\\hline\n",
       "\t26 & 71         & -0.1717180 & 0.8634645  & 0.8617473 \\\\\n",
       "\t27 & 72         & -0.1731429 & 0.8617473  & 0.8600159 \\\\\n",
       "\t28 & 73         & -0.1745055 & 0.8600159  & 0.8582708 \\\\\n",
       "\t29 & 74         & -0.1757323 & 0.8582708  & 0.8565135 \\\\\n",
       "\t30 & 75         & -0.1767448 & 0.8565135  & 0.8547461 \\\\\n",
       "\t31 & 76         & -0.1774454 & 0.8547461  & 0.8529716 \\\\\n",
       "\t32 & 77         & -0.1777110 & 0.8529716  & 0.8511945 \\\\\n",
       "\t33 & 78         & -0.1774219 & 0.8511945  & 0.8494203 \\\\\n",
       "\t34 & 79         & -0.1764719 & 0.8494203  & 0.8476556 \\\\\n",
       "\\end{tabular}\n"
      ],
      "text/markdown": [
       "\n",
       "| <!--/--> | bp_value | gradient | pre_val_left | pre_val_right | \n",
       "|---|---|---|---|---|---|---|---|---|\n",
       "| 26 | 71         | -0.1717180 | 0.8634645  | 0.8617473  | \n",
       "| 27 | 72         | -0.1731429 | 0.8617473  | 0.8600159  | \n",
       "| 28 | 73         | -0.1745055 | 0.8600159  | 0.8582708  | \n",
       "| 29 | 74         | -0.1757323 | 0.8582708  | 0.8565135  | \n",
       "| 30 | 75         | -0.1767448 | 0.8565135  | 0.8547461  | \n",
       "| 31 | 76         | -0.1774454 | 0.8547461  | 0.8529716  | \n",
       "| 32 | 77         | -0.1777110 | 0.8529716  | 0.8511945  | \n",
       "| 33 | 78         | -0.1774219 | 0.8511945  | 0.8494203  | \n",
       "| 34 | 79         | -0.1764719 | 0.8494203  | 0.8476556  | \n",
       "\n",
       "\n"
      ],
      "text/plain": [
       "   bp_value gradient   pre_val_left pre_val_right\n",
       "26 71       -0.1717180 0.8634645    0.8617473    \n",
       "27 72       -0.1731429 0.8617473    0.8600159    \n",
       "28 73       -0.1745055 0.8600159    0.8582708    \n",
       "29 74       -0.1757323 0.8582708    0.8565135    \n",
       "30 75       -0.1767448 0.8565135    0.8547461    \n",
       "31 76       -0.1774454 0.8547461    0.8529716    \n",
       "32 77       -0.1777110 0.8529716    0.8511945    \n",
       "33 78       -0.1774219 0.8511945    0.8494203    \n",
       "34 79       -0.1764719 0.8494203    0.8476556    "
      ]
     },
     "metadata": {},
     "output_type": "display_data"
    },
    {
     "data": {
      "text/html": [
       "<table>\n",
       "<thead><tr><th></th><th scope=col>bp_value</th><th scope=col>gradient</th><th scope=col>pre_val_left</th><th scope=col>pre_val_right</th></tr></thead>\n",
       "<tbody>\n",
       "\t<tr><th scope=row>25</th><td>71        </td><td>-0.1474253</td><td>0.8631683 </td><td>0.8616941 </td></tr>\n",
       "\t<tr><th scope=row>26</th><td>72        </td><td>-0.1506125</td><td>0.8616941 </td><td>0.8601879 </td></tr>\n",
       "\t<tr><th scope=row>27</th><td>73        </td><td>-0.1538716</td><td>0.8601879 </td><td>0.8586492 </td></tr>\n",
       "\t<tr><th scope=row>28</th><td>74        </td><td>-0.1570957</td><td>0.8586492 </td><td>0.8570783 </td></tr>\n",
       "\t<tr><th scope=row>29</th><td>75        </td><td>-0.1601750</td><td>0.8570783 </td><td>0.8554765 </td></tr>\n",
       "\t<tr><th scope=row>30</th><td>76        </td><td>-0.1629778</td><td>0.8554765 </td><td>0.8538467 </td></tr>\n",
       "\t<tr><th scope=row>31</th><td>77        </td><td>-0.1653721</td><td>0.8538467 </td><td>0.8521930 </td></tr>\n",
       "\t<tr><th scope=row>32</th><td>78        </td><td>-0.1672202</td><td>0.8521930 </td><td>0.8505208 </td></tr>\n",
       "\t<tr><th scope=row>33</th><td>79        </td><td>-0.1683547</td><td>0.8505208 </td><td>0.8488373 </td></tr>\n",
       "</tbody>\n",
       "</table>\n"
      ],
      "text/latex": [
       "\\begin{tabular}{r|llll}\n",
       "  & bp\\_value & gradient & pre\\_val\\_left & pre\\_val\\_right\\\\\n",
       "\\hline\n",
       "\t25 & 71         & -0.1474253 & 0.8631683  & 0.8616941 \\\\\n",
       "\t26 & 72         & -0.1506125 & 0.8616941  & 0.8601879 \\\\\n",
       "\t27 & 73         & -0.1538716 & 0.8601879  & 0.8586492 \\\\\n",
       "\t28 & 74         & -0.1570957 & 0.8586492  & 0.8570783 \\\\\n",
       "\t29 & 75         & -0.1601750 & 0.8570783  & 0.8554765 \\\\\n",
       "\t30 & 76         & -0.1629778 & 0.8554765  & 0.8538467 \\\\\n",
       "\t31 & 77         & -0.1653721 & 0.8538467  & 0.8521930 \\\\\n",
       "\t32 & 78         & -0.1672202 & 0.8521930  & 0.8505208 \\\\\n",
       "\t33 & 79         & -0.1683547 & 0.8505208  & 0.8488373 \\\\\n",
       "\\end{tabular}\n"
      ],
      "text/markdown": [
       "\n",
       "| <!--/--> | bp_value | gradient | pre_val_left | pre_val_right | \n",
       "|---|---|---|---|---|---|---|---|---|\n",
       "| 25 | 71         | -0.1474253 | 0.8631683  | 0.8616941  | \n",
       "| 26 | 72         | -0.1506125 | 0.8616941  | 0.8601879  | \n",
       "| 27 | 73         | -0.1538716 | 0.8601879  | 0.8586492  | \n",
       "| 28 | 74         | -0.1570957 | 0.8586492  | 0.8570783  | \n",
       "| 29 | 75         | -0.1601750 | 0.8570783  | 0.8554765  | \n",
       "| 30 | 76         | -0.1629778 | 0.8554765  | 0.8538467  | \n",
       "| 31 | 77         | -0.1653721 | 0.8538467  | 0.8521930  | \n",
       "| 32 | 78         | -0.1672202 | 0.8521930  | 0.8505208  | \n",
       "| 33 | 79         | -0.1683547 | 0.8505208  | 0.8488373  | \n",
       "\n",
       "\n"
      ],
      "text/plain": [
       "   bp_value gradient   pre_val_left pre_val_right\n",
       "25 71       -0.1474253 0.8631683    0.8616941    \n",
       "26 72       -0.1506125 0.8616941    0.8601879    \n",
       "27 73       -0.1538716 0.8601879    0.8586492    \n",
       "28 74       -0.1570957 0.8586492    0.8570783    \n",
       "29 75       -0.1601750 0.8570783    0.8554765    \n",
       "30 76       -0.1629778 0.8554765    0.8538467    \n",
       "31 77       -0.1653721 0.8538467    0.8521930    \n",
       "32 78       -0.1672202 0.8521930    0.8505208    \n",
       "33 79       -0.1683547 0.8505208    0.8488373    "
      ]
     },
     "metadata": {},
     "output_type": "display_data"
    },
    {
     "name": "stdout",
     "output_type": "stream",
     "text": [
      "[1] \"MIMIC\"\n"
     ]
    },
    {
     "data": {
      "text/html": [
       "<table>\n",
       "<thead><tr><th></th><th scope=col>bp_value</th><th scope=col>gradient</th><th scope=col>pre_val_left</th><th scope=col>pre_val_right</th></tr></thead>\n",
       "<tbody>\n",
       "\t<tr><th scope=row>31</th><td>71        </td><td>-0.3029696</td><td>0.7741148 </td><td>0.7710851 </td></tr>\n",
       "\t<tr><th scope=row>32</th><td>72        </td><td>-0.3050684</td><td>0.7710851 </td><td>0.7680344 </td></tr>\n",
       "\t<tr><th scope=row>33</th><td>73        </td><td>-0.3056293</td><td>0.7680344 </td><td>0.7649781 </td></tr>\n",
       "\t<tr><th scope=row>34</th><td>74        </td><td>-0.3044665</td><td>0.7649781 </td><td>0.7619335 </td></tr>\n",
       "\t<tr><th scope=row>35</th><td>75        </td><td>-0.3014401</td><td>0.7619335 </td><td>0.7589191 </td></tr>\n",
       "\t<tr><th scope=row>36</th><td>76        </td><td>-0.2964638</td><td>0.7589191 </td><td>0.7559544 </td></tr>\n",
       "\t<tr><th scope=row>37</th><td>77        </td><td>-0.2895104</td><td>0.7559544 </td><td>0.7530593 </td></tr>\n",
       "\t<tr><th scope=row>38</th><td>78        </td><td>-0.2806051</td><td>0.7530593 </td><td>0.7502533 </td></tr>\n",
       "\t<tr><th scope=row>39</th><td>79        </td><td>-0.2698120</td><td>0.7502533 </td><td>0.7475552 </td></tr>\n",
       "</tbody>\n",
       "</table>\n"
      ],
      "text/latex": [
       "\\begin{tabular}{r|llll}\n",
       "  & bp\\_value & gradient & pre\\_val\\_left & pre\\_val\\_right\\\\\n",
       "\\hline\n",
       "\t31 & 71         & -0.3029696 & 0.7741148  & 0.7710851 \\\\\n",
       "\t32 & 72         & -0.3050684 & 0.7710851  & 0.7680344 \\\\\n",
       "\t33 & 73         & -0.3056293 & 0.7680344  & 0.7649781 \\\\\n",
       "\t34 & 74         & -0.3044665 & 0.7649781  & 0.7619335 \\\\\n",
       "\t35 & 75         & -0.3014401 & 0.7619335  & 0.7589191 \\\\\n",
       "\t36 & 76         & -0.2964638 & 0.7589191  & 0.7559544 \\\\\n",
       "\t37 & 77         & -0.2895104 & 0.7559544  & 0.7530593 \\\\\n",
       "\t38 & 78         & -0.2806051 & 0.7530593  & 0.7502533 \\\\\n",
       "\t39 & 79         & -0.2698120 & 0.7502533  & 0.7475552 \\\\\n",
       "\\end{tabular}\n"
      ],
      "text/markdown": [
       "\n",
       "| <!--/--> | bp_value | gradient | pre_val_left | pre_val_right | \n",
       "|---|---|---|---|---|---|---|---|---|\n",
       "| 31 | 71         | -0.3029696 | 0.7741148  | 0.7710851  | \n",
       "| 32 | 72         | -0.3050684 | 0.7710851  | 0.7680344  | \n",
       "| 33 | 73         | -0.3056293 | 0.7680344  | 0.7649781  | \n",
       "| 34 | 74         | -0.3044665 | 0.7649781  | 0.7619335  | \n",
       "| 35 | 75         | -0.3014401 | 0.7619335  | 0.7589191  | \n",
       "| 36 | 76         | -0.2964638 | 0.7589191  | 0.7559544  | \n",
       "| 37 | 77         | -0.2895104 | 0.7559544  | 0.7530593  | \n",
       "| 38 | 78         | -0.2806051 | 0.7530593  | 0.7502533  | \n",
       "| 39 | 79         | -0.2698120 | 0.7502533  | 0.7475552  | \n",
       "\n",
       "\n"
      ],
      "text/plain": [
       "   bp_value gradient   pre_val_left pre_val_right\n",
       "31 71       -0.3029696 0.7741148    0.7710851    \n",
       "32 72       -0.3050684 0.7710851    0.7680344    \n",
       "33 73       -0.3056293 0.7680344    0.7649781    \n",
       "34 74       -0.3044665 0.7649781    0.7619335    \n",
       "35 75       -0.3014401 0.7619335    0.7589191    \n",
       "36 76       -0.2964638 0.7589191    0.7559544    \n",
       "37 77       -0.2895104 0.7559544    0.7530593    \n",
       "38 78       -0.2806051 0.7530593    0.7502533    \n",
       "39 79       -0.2698120 0.7502533    0.7475552    "
      ]
     },
     "metadata": {},
     "output_type": "display_data"
    },
    {
     "data": {
      "text/html": [
       "<table>\n",
       "<thead><tr><th></th><th scope=col>bp_value</th><th scope=col>gradient</th><th scope=col>pre_val_left</th><th scope=col>pre_val_right</th></tr></thead>\n",
       "<tbody>\n",
       "\t<tr><th scope=row>22</th><td>71         </td><td> 0.12025472</td><td>0.7881753  </td><td>0.7893779  </td></tr>\n",
       "\t<tr><th scope=row>23</th><td>72         </td><td> 0.02496284</td><td>0.7893779  </td><td>0.7896275  </td></tr>\n",
       "\t<tr><th scope=row>24</th><td>73         </td><td>-0.11458472</td><td>0.7896275  </td><td>0.7884817  </td></tr>\n",
       "\t<tr><th scope=row>25</th><td>74         </td><td>-0.28145942</td><td>0.7884817  </td><td>0.7856671  </td></tr>\n",
       "\t<tr><th scope=row>26</th><td>75         </td><td>-0.45859730</td><td>0.7856671  </td><td>0.7810811  </td></tr>\n",
       "\t<tr><th scope=row>27</th><td>76         </td><td>-0.63048495</td><td>0.7810811  </td><td>0.7747763  </td></tr>\n",
       "\t<tr><th scope=row>28</th><td>77         </td><td>-0.78345756</td><td>0.7747763  </td><td>0.7669417  </td></tr>\n",
       "\t<tr><th scope=row>29</th><td>78         </td><td>-0.90244454</td><td>0.7669417  </td><td>0.7579172  </td></tr>\n",
       "\t<tr><th scope=row>30</th><td>79         </td><td>-0.97465814</td><td>0.7579172  </td><td>0.7481707  </td></tr>\n",
       "</tbody>\n",
       "</table>\n"
      ],
      "text/latex": [
       "\\begin{tabular}{r|llll}\n",
       "  & bp\\_value & gradient & pre\\_val\\_left & pre\\_val\\_right\\\\\n",
       "\\hline\n",
       "\t22 & 71          &  0.12025472 & 0.7881753   & 0.7893779  \\\\\n",
       "\t23 & 72          &  0.02496284 & 0.7893779   & 0.7896275  \\\\\n",
       "\t24 & 73          & -0.11458472 & 0.7896275   & 0.7884817  \\\\\n",
       "\t25 & 74          & -0.28145942 & 0.7884817   & 0.7856671  \\\\\n",
       "\t26 & 75          & -0.45859730 & 0.7856671   & 0.7810811  \\\\\n",
       "\t27 & 76          & -0.63048495 & 0.7810811   & 0.7747763  \\\\\n",
       "\t28 & 77          & -0.78345756 & 0.7747763   & 0.7669417  \\\\\n",
       "\t29 & 78          & -0.90244454 & 0.7669417   & 0.7579172  \\\\\n",
       "\t30 & 79          & -0.97465814 & 0.7579172   & 0.7481707  \\\\\n",
       "\\end{tabular}\n"
      ],
      "text/markdown": [
       "\n",
       "| <!--/--> | bp_value | gradient | pre_val_left | pre_val_right | \n",
       "|---|---|---|---|---|---|---|---|---|\n",
       "| 22 | 71          |  0.12025472 | 0.7881753   | 0.7893779   | \n",
       "| 23 | 72          |  0.02496284 | 0.7893779   | 0.7896275   | \n",
       "| 24 | 73          | -0.11458472 | 0.7896275   | 0.7884817   | \n",
       "| 25 | 74          | -0.28145942 | 0.7884817   | 0.7856671   | \n",
       "| 26 | 75          | -0.45859730 | 0.7856671   | 0.7810811   | \n",
       "| 27 | 76          | -0.63048495 | 0.7810811   | 0.7747763   | \n",
       "| 28 | 77          | -0.78345756 | 0.7747763   | 0.7669417   | \n",
       "| 29 | 78          | -0.90244454 | 0.7669417   | 0.7579172   | \n",
       "| 30 | 79          | -0.97465814 | 0.7579172   | 0.7481707   | \n",
       "\n",
       "\n"
      ],
      "text/plain": [
       "   bp_value gradient    pre_val_left pre_val_right\n",
       "22 71        0.12025472 0.7881753    0.7893779    \n",
       "23 72        0.02496284 0.7893779    0.7896275    \n",
       "24 73       -0.11458472 0.7896275    0.7884817    \n",
       "25 74       -0.28145942 0.7884817    0.7856671    \n",
       "26 75       -0.45859730 0.7856671    0.7810811    \n",
       "27 76       -0.63048495 0.7810811    0.7747763    \n",
       "28 77       -0.78345756 0.7747763    0.7669417    \n",
       "29 78       -0.90244454 0.7669417    0.7579172    \n",
       "30 79       -0.97465814 0.7579172    0.7481707    "
      ]
     },
     "metadata": {},
     "output_type": "display_data"
    },
    {
     "data": {
      "text/html": [
       "<table>\n",
       "<thead><tr><th></th><th scope=col>bp_value</th><th scope=col>gradient</th><th scope=col>pre_val_left</th><th scope=col>pre_val_right</th></tr></thead>\n",
       "<tbody>\n",
       "\t<tr><th scope=row>22</th><td>71         </td><td> 0.08988006</td><td>0.7837175  </td><td>0.7846163  </td></tr>\n",
       "\t<tr><th scope=row>23</th><td>72         </td><td> 0.06278884</td><td>0.7846163  </td><td>0.7852442  </td></tr>\n",
       "\t<tr><th scope=row>24</th><td>73         </td><td>-0.01287540</td><td>0.7852442  </td><td>0.7851155  </td></tr>\n",
       "\t<tr><th scope=row>25</th><td>74         </td><td>-0.12757638</td><td>0.7851155  </td><td>0.7838397  </td></tr>\n",
       "\t<tr><th scope=row>26</th><td>75         </td><td>-0.26914529</td><td>0.7838397  </td><td>0.7811483  </td></tr>\n",
       "\t<tr><th scope=row>27</th><td>76         </td><td>-0.42472946</td><td>0.7811483  </td><td>0.7769010  </td></tr>\n",
       "\t<tr><th scope=row>28</th><td>77         </td><td>-0.58122016</td><td>0.7769010  </td><td>0.7710888  </td></tr>\n",
       "\t<tr><th scope=row>29</th><td>78         </td><td>-0.72537937</td><td>0.7710888  </td><td>0.7638350  </td></tr>\n",
       "\t<tr><th scope=row>30</th><td>79         </td><td>-0.84499241</td><td>0.7638350  </td><td>0.7553850  </td></tr>\n",
       "</tbody>\n",
       "</table>\n"
      ],
      "text/latex": [
       "\\begin{tabular}{r|llll}\n",
       "  & bp\\_value & gradient & pre\\_val\\_left & pre\\_val\\_right\\\\\n",
       "\\hline\n",
       "\t22 & 71          &  0.08988006 & 0.7837175   & 0.7846163  \\\\\n",
       "\t23 & 72          &  0.06278884 & 0.7846163   & 0.7852442  \\\\\n",
       "\t24 & 73          & -0.01287540 & 0.7852442   & 0.7851155  \\\\\n",
       "\t25 & 74          & -0.12757638 & 0.7851155   & 0.7838397  \\\\\n",
       "\t26 & 75          & -0.26914529 & 0.7838397   & 0.7811483  \\\\\n",
       "\t27 & 76          & -0.42472946 & 0.7811483   & 0.7769010  \\\\\n",
       "\t28 & 77          & -0.58122016 & 0.7769010   & 0.7710888  \\\\\n",
       "\t29 & 78          & -0.72537937 & 0.7710888   & 0.7638350  \\\\\n",
       "\t30 & 79          & -0.84499241 & 0.7638350   & 0.7553850  \\\\\n",
       "\\end{tabular}\n"
      ],
      "text/markdown": [
       "\n",
       "| <!--/--> | bp_value | gradient | pre_val_left | pre_val_right | \n",
       "|---|---|---|---|---|---|---|---|---|\n",
       "| 22 | 71          |  0.08988006 | 0.7837175   | 0.7846163   | \n",
       "| 23 | 72          |  0.06278884 | 0.7846163   | 0.7852442   | \n",
       "| 24 | 73          | -0.01287540 | 0.7852442   | 0.7851155   | \n",
       "| 25 | 74          | -0.12757638 | 0.7851155   | 0.7838397   | \n",
       "| 26 | 75          | -0.26914529 | 0.7838397   | 0.7811483   | \n",
       "| 27 | 76          | -0.42472946 | 0.7811483   | 0.7769010   | \n",
       "| 28 | 77          | -0.58122016 | 0.7769010   | 0.7710888   | \n",
       "| 29 | 78          | -0.72537937 | 0.7710888   | 0.7638350   | \n",
       "| 30 | 79          | -0.84499241 | 0.7638350   | 0.7553850   | \n",
       "\n",
       "\n"
      ],
      "text/plain": [
       "   bp_value gradient    pre_val_left pre_val_right\n",
       "22 71        0.08988006 0.7837175    0.7846163    \n",
       "23 72        0.06278884 0.7846163    0.7852442    \n",
       "24 73       -0.01287540 0.7852442    0.7851155    \n",
       "25 74       -0.12757638 0.7851155    0.7838397    \n",
       "26 75       -0.26914529 0.7838397    0.7811483    \n",
       "27 76       -0.42472946 0.7811483    0.7769010    \n",
       "28 77       -0.58122016 0.7769010    0.7710888    \n",
       "29 78       -0.72537937 0.7710888    0.7638350    \n",
       "30 79       -0.84499241 0.7638350    0.7553850    "
      ]
     },
     "metadata": {},
     "output_type": "display_data"
    }
   ],
   "source": [
    "print(\"eICU\") # NA\n",
    "eicu_grad <- find_gradient(b = gamfitMed_AKI_eICU_MAP_24h) \n",
    "eicu_grad[(eicu_grad$bp_value< 80) & (eicu_grad$bp_value> 70),]\n",
    "eicu_grad <- find_gradient(b = gamfitMed_AKI_eICU_MAP_48h) \n",
    "eicu_grad[(eicu_grad$bp_value< 80) & (eicu_grad$bp_value> 70),]\n",
    "eicu_grad <- find_gradient(b = gamfitMed_AKI_eICU_MAP_72h)\n",
    "eicu_grad[(eicu_grad$bp_value< 80) & (eicu_grad$bp_value> 70),]\n",
    "\n",
    "print(\"MIMIC\") # 75mmHg, 76mmHg\n",
    "mimic_grad <- find_gradient(b = gamfitMed_AKI_MIMIC_MAP_24h)\n",
    "mimic_grad[(mimic_grad$bp_value< 80) & (mimic_grad$bp_value> 70),]\n",
    "mimic_grad <- find_gradient(b = gamfitMed_AKI_MIMIC_MAP_48h)         #75\n",
    "mimic_grad[(mimic_grad$bp_value< 80) & (mimic_grad$bp_value> 70),]\n",
    "mimic_grad <- find_gradient(b = gamfitMed_AKI_MIMIC_MAP_72h)         #76\n",
    "mimic_grad[(mimic_grad$bp_value< 80) & (mimic_grad$bp_value> 70),]\n"
   ]
  },
  {
   "cell_type": "code",
   "execution_count": 47,
   "metadata": {},
   "outputs": [
    {
     "name": "stdout",
     "output_type": "stream",
     "text": [
      "[1] \"eICU\"\n"
     ]
    },
    {
     "data": {
      "text/html": [
       "<table>\n",
       "<thead><tr><th></th><th scope=col>bp_value</th><th scope=col>gradient</th><th scope=col>pre_val_left</th><th scope=col>pre_val_right</th></tr></thead>\n",
       "<tbody>\n",
       "\t<tr><th scope=row>50</th><td>111        </td><td>-0.05985599</td><td>0.8575447  </td><td>0.8569461  </td></tr>\n",
       "\t<tr><th scope=row>51</th><td>112        </td><td>-0.06006674</td><td>0.8569461  </td><td>0.8563454  </td></tr>\n",
       "\t<tr><th scope=row>52</th><td>113        </td><td>-0.06027764</td><td>0.8563454  </td><td>0.8557426  </td></tr>\n",
       "\t<tr><th scope=row>53</th><td>114        </td><td>-0.06048865</td><td>0.8557426  </td><td>0.8551378  </td></tr>\n",
       "\t<tr><th scope=row>54</th><td>115        </td><td>-0.06069972</td><td>0.8551378  </td><td>0.8545308  </td></tr>\n",
       "\t<tr><th scope=row>55</th><td>116        </td><td>-0.06091083</td><td>0.8545308  </td><td>0.8539217  </td></tr>\n",
       "\t<tr><th scope=row>56</th><td>117        </td><td>-0.06112193</td><td>0.8539217  </td><td>0.8533104  </td></tr>\n",
       "\t<tr><th scope=row>57</th><td>118        </td><td>-0.06133300</td><td>0.8533104  </td><td>0.8526971  </td></tr>\n",
       "\t<tr><th scope=row>58</th><td>119        </td><td>-0.06154398</td><td>0.8526971  </td><td>0.8520817  </td></tr>\n",
       "</tbody>\n",
       "</table>\n"
      ],
      "text/latex": [
       "\\begin{tabular}{r|llll}\n",
       "  & bp\\_value & gradient & pre\\_val\\_left & pre\\_val\\_right\\\\\n",
       "\\hline\n",
       "\t50 & 111         & -0.05985599 & 0.8575447   & 0.8569461  \\\\\n",
       "\t51 & 112         & -0.06006674 & 0.8569461   & 0.8563454  \\\\\n",
       "\t52 & 113         & -0.06027764 & 0.8563454   & 0.8557426  \\\\\n",
       "\t53 & 114         & -0.06048865 & 0.8557426   & 0.8551378  \\\\\n",
       "\t54 & 115         & -0.06069972 & 0.8551378   & 0.8545308  \\\\\n",
       "\t55 & 116         & -0.06091083 & 0.8545308   & 0.8539217  \\\\\n",
       "\t56 & 117         & -0.06112193 & 0.8539217   & 0.8533104  \\\\\n",
       "\t57 & 118         & -0.06133300 & 0.8533104   & 0.8526971  \\\\\n",
       "\t58 & 119         & -0.06154398 & 0.8526971   & 0.8520817  \\\\\n",
       "\\end{tabular}\n"
      ],
      "text/markdown": [
       "\n",
       "| <!--/--> | bp_value | gradient | pre_val_left | pre_val_right | \n",
       "|---|---|---|---|---|---|---|---|---|\n",
       "| 50 | 111         | -0.05985599 | 0.8575447   | 0.8569461   | \n",
       "| 51 | 112         | -0.06006674 | 0.8569461   | 0.8563454   | \n",
       "| 52 | 113         | -0.06027764 | 0.8563454   | 0.8557426   | \n",
       "| 53 | 114         | -0.06048865 | 0.8557426   | 0.8551378   | \n",
       "| 54 | 115         | -0.06069972 | 0.8551378   | 0.8545308   | \n",
       "| 55 | 116         | -0.06091083 | 0.8545308   | 0.8539217   | \n",
       "| 56 | 117         | -0.06112193 | 0.8539217   | 0.8533104   | \n",
       "| 57 | 118         | -0.06133300 | 0.8533104   | 0.8526971   | \n",
       "| 58 | 119         | -0.06154398 | 0.8526971   | 0.8520817   | \n",
       "\n",
       "\n"
      ],
      "text/plain": [
       "   bp_value gradient    pre_val_left pre_val_right\n",
       "50 111      -0.05985599 0.8575447    0.8569461    \n",
       "51 112      -0.06006674 0.8569461    0.8563454    \n",
       "52 113      -0.06027764 0.8563454    0.8557426    \n",
       "53 114      -0.06048865 0.8557426    0.8551378    \n",
       "54 115      -0.06069972 0.8551378    0.8545308    \n",
       "55 116      -0.06091083 0.8545308    0.8539217    \n",
       "56 117      -0.06112193 0.8539217    0.8533104    \n",
       "57 118      -0.06133300 0.8533104    0.8526971    \n",
       "58 119      -0.06154398 0.8526971    0.8520817    "
      ]
     },
     "metadata": {},
     "output_type": "display_data"
    },
    {
     "data": {
      "text/html": [
       "<table>\n",
       "<thead><tr><th></th><th scope=col>bp_value</th><th scope=col>gradient</th><th scope=col>pre_val_left</th><th scope=col>pre_val_right</th></tr></thead>\n",
       "<tbody>\n",
       "\t<tr><th scope=row>46</th><td>111        </td><td>-0.07311897</td><td>0.8585067  </td><td>0.8577755  </td></tr>\n",
       "\t<tr><th scope=row>47</th><td>112        </td><td>-0.07343442</td><td>0.8577755  </td><td>0.8570411  </td></tr>\n",
       "\t<tr><th scope=row>48</th><td>113        </td><td>-0.07375053</td><td>0.8570411  </td><td>0.8563036  </td></tr>\n",
       "\t<tr><th scope=row>49</th><td>114        </td><td>-0.07406728</td><td>0.8563036  </td><td>0.8555629  </td></tr>\n",
       "\t<tr><th scope=row>50</th><td>115        </td><td>-0.07438468</td><td>0.8555629  </td><td>0.8548191  </td></tr>\n",
       "\t<tr><th scope=row>51</th><td>116        </td><td>-0.07470269</td><td>0.8548191  </td><td>0.8540721  </td></tr>\n",
       "\t<tr><th scope=row>52</th><td>117        </td><td>-0.07502133</td><td>0.8540721  </td><td>0.8533219  </td></tr>\n",
       "\t<tr><th scope=row>53</th><td>118        </td><td>-0.07534057</td><td>0.8533219  </td><td>0.8525685  </td></tr>\n",
       "\t<tr><th scope=row>54</th><td>119        </td><td>-0.07566042</td><td>0.8525685  </td><td>0.8518118  </td></tr>\n",
       "</tbody>\n",
       "</table>\n"
      ],
      "text/latex": [
       "\\begin{tabular}{r|llll}\n",
       "  & bp\\_value & gradient & pre\\_val\\_left & pre\\_val\\_right\\\\\n",
       "\\hline\n",
       "\t46 & 111         & -0.07311897 & 0.8585067   & 0.8577755  \\\\\n",
       "\t47 & 112         & -0.07343442 & 0.8577755   & 0.8570411  \\\\\n",
       "\t48 & 113         & -0.07375053 & 0.8570411   & 0.8563036  \\\\\n",
       "\t49 & 114         & -0.07406728 & 0.8563036   & 0.8555629  \\\\\n",
       "\t50 & 115         & -0.07438468 & 0.8555629   & 0.8548191  \\\\\n",
       "\t51 & 116         & -0.07470269 & 0.8548191   & 0.8540721  \\\\\n",
       "\t52 & 117         & -0.07502133 & 0.8540721   & 0.8533219  \\\\\n",
       "\t53 & 118         & -0.07534057 & 0.8533219   & 0.8525685  \\\\\n",
       "\t54 & 119         & -0.07566042 & 0.8525685   & 0.8518118  \\\\\n",
       "\\end{tabular}\n"
      ],
      "text/markdown": [
       "\n",
       "| <!--/--> | bp_value | gradient | pre_val_left | pre_val_right | \n",
       "|---|---|---|---|---|---|---|---|---|\n",
       "| 46 | 111         | -0.07311897 | 0.8585067   | 0.8577755   | \n",
       "| 47 | 112         | -0.07343442 | 0.8577755   | 0.8570411   | \n",
       "| 48 | 113         | -0.07375053 | 0.8570411   | 0.8563036   | \n",
       "| 49 | 114         | -0.07406728 | 0.8563036   | 0.8555629   | \n",
       "| 50 | 115         | -0.07438468 | 0.8555629   | 0.8548191   | \n",
       "| 51 | 116         | -0.07470269 | 0.8548191   | 0.8540721   | \n",
       "| 52 | 117         | -0.07502133 | 0.8540721   | 0.8533219   | \n",
       "| 53 | 118         | -0.07534057 | 0.8533219   | 0.8525685   | \n",
       "| 54 | 119         | -0.07566042 | 0.8525685   | 0.8518118   | \n",
       "\n",
       "\n"
      ],
      "text/plain": [
       "   bp_value gradient    pre_val_left pre_val_right\n",
       "46 111      -0.07311897 0.8585067    0.8577755    \n",
       "47 112      -0.07343442 0.8577755    0.8570411    \n",
       "48 113      -0.07375053 0.8570411    0.8563036    \n",
       "49 114      -0.07406728 0.8563036    0.8555629    \n",
       "50 115      -0.07438468 0.8555629    0.8548191    \n",
       "51 116      -0.07470269 0.8548191    0.8540721    \n",
       "52 117      -0.07502133 0.8540721    0.8533219    \n",
       "53 118      -0.07534057 0.8533219    0.8525685    \n",
       "54 119      -0.07566042 0.8525685    0.8518118    "
      ]
     },
     "metadata": {},
     "output_type": "display_data"
    },
    {
     "data": {
      "text/html": [
       "<table>\n",
       "<thead><tr><th></th><th scope=col>bp_value</th><th scope=col>gradient</th><th scope=col>pre_val_left</th><th scope=col>pre_val_right</th></tr></thead>\n",
       "<tbody>\n",
       "\t<tr><th scope=row>46</th><td>111        </td><td>-0.05956893</td><td>0.8567534  </td><td>0.8561577  </td></tr>\n",
       "\t<tr><th scope=row>47</th><td>112        </td><td>-0.05977531</td><td>0.8561577  </td><td>0.8555600  </td></tr>\n",
       "\t<tr><th scope=row>48</th><td>113        </td><td>-0.05998206</td><td>0.8555600  </td><td>0.8549602  </td></tr>\n",
       "\t<tr><th scope=row>49</th><td>114        </td><td>-0.06018918</td><td>0.8549602  </td><td>0.8543583  </td></tr>\n",
       "\t<tr><th scope=row>50</th><td>115        </td><td>-0.06039664</td><td>0.8543583  </td><td>0.8537543  </td></tr>\n",
       "\t<tr><th scope=row>51</th><td>116        </td><td>-0.06060446</td><td>0.8537543  </td><td>0.8531483  </td></tr>\n",
       "\t<tr><th scope=row>52</th><td>117        </td><td>-0.06081261</td><td>0.8531483  </td><td>0.8525401  </td></tr>\n",
       "\t<tr><th scope=row>53</th><td>118        </td><td>-0.06102111</td><td>0.8525401  </td><td>0.8519299  </td></tr>\n",
       "\t<tr><th scope=row>54</th><td>119        </td><td>-0.06122993</td><td>0.8519299  </td><td>0.8513176  </td></tr>\n",
       "</tbody>\n",
       "</table>\n"
      ],
      "text/latex": [
       "\\begin{tabular}{r|llll}\n",
       "  & bp\\_value & gradient & pre\\_val\\_left & pre\\_val\\_right\\\\\n",
       "\\hline\n",
       "\t46 & 111         & -0.05956893 & 0.8567534   & 0.8561577  \\\\\n",
       "\t47 & 112         & -0.05977531 & 0.8561577   & 0.8555600  \\\\\n",
       "\t48 & 113         & -0.05998206 & 0.8555600   & 0.8549602  \\\\\n",
       "\t49 & 114         & -0.06018918 & 0.8549602   & 0.8543583  \\\\\n",
       "\t50 & 115         & -0.06039664 & 0.8543583   & 0.8537543  \\\\\n",
       "\t51 & 116         & -0.06060446 & 0.8537543   & 0.8531483  \\\\\n",
       "\t52 & 117         & -0.06081261 & 0.8531483   & 0.8525401  \\\\\n",
       "\t53 & 118         & -0.06102111 & 0.8525401   & 0.8519299  \\\\\n",
       "\t54 & 119         & -0.06122993 & 0.8519299   & 0.8513176  \\\\\n",
       "\\end{tabular}\n"
      ],
      "text/markdown": [
       "\n",
       "| <!--/--> | bp_value | gradient | pre_val_left | pre_val_right | \n",
       "|---|---|---|---|---|---|---|---|---|\n",
       "| 46 | 111         | -0.05956893 | 0.8567534   | 0.8561577   | \n",
       "| 47 | 112         | -0.05977531 | 0.8561577   | 0.8555600   | \n",
       "| 48 | 113         | -0.05998206 | 0.8555600   | 0.8549602   | \n",
       "| 49 | 114         | -0.06018918 | 0.8549602   | 0.8543583   | \n",
       "| 50 | 115         | -0.06039664 | 0.8543583   | 0.8537543   | \n",
       "| 51 | 116         | -0.06060446 | 0.8537543   | 0.8531483   | \n",
       "| 52 | 117         | -0.06081261 | 0.8531483   | 0.8525401   | \n",
       "| 53 | 118         | -0.06102111 | 0.8525401   | 0.8519299   | \n",
       "| 54 | 119         | -0.06122993 | 0.8519299   | 0.8513176   | \n",
       "\n",
       "\n"
      ],
      "text/plain": [
       "   bp_value gradient    pre_val_left pre_val_right\n",
       "46 111      -0.05956893 0.8567534    0.8561577    \n",
       "47 112      -0.05977531 0.8561577    0.8555600    \n",
       "48 113      -0.05998206 0.8555600    0.8549602    \n",
       "49 114      -0.06018918 0.8549602    0.8543583    \n",
       "50 115      -0.06039664 0.8543583    0.8537543    \n",
       "51 116      -0.06060446 0.8537543    0.8531483    \n",
       "52 117      -0.06081261 0.8531483    0.8525401    \n",
       "53 118      -0.06102111 0.8525401    0.8519299    \n",
       "54 119      -0.06122993 0.8519299    0.8513176    "
      ]
     },
     "metadata": {},
     "output_type": "display_data"
    },
    {
     "name": "stdout",
     "output_type": "stream",
     "text": [
      "[1] \"MIMIC\"\n"
     ]
    },
    {
     "data": {
      "text/html": [
       "<table>\n",
       "<thead><tr><th></th><th scope=col>bp_value</th><th scope=col>gradient</th><th scope=col>pre_val_left</th><th scope=col>pre_val_right</th></tr></thead>\n",
       "<tbody>\n",
       "\t<tr><th scope=row>40</th><td>111       </td><td>-0.3243964</td><td>0.7716155 </td><td>0.7683716 </td></tr>\n",
       "\t<tr><th scope=row>41</th><td>112       </td><td>-0.3240273</td><td>0.7683716 </td><td>0.7651313 </td></tr>\n",
       "\t<tr><th scope=row>42</th><td>113       </td><td>-0.3219798</td><td>0.7651313 </td><td>0.7619115 </td></tr>\n",
       "\t<tr><th scope=row>43</th><td>114       </td><td>-0.3182074</td><td>0.7619115 </td><td>0.7587294 </td></tr>\n",
       "\t<tr><th scope=row>44</th><td>115       </td><td>-0.3126926</td><td>0.7587294 </td><td>0.7556025 </td></tr>\n",
       "\t<tr><th scope=row>45</th><td>116       </td><td>-0.3054472</td><td>0.7556025 </td><td>0.7525480 </td></tr>\n",
       "\t<tr><th scope=row>46</th><td>117       </td><td>-0.2965134</td><td>0.7525480 </td><td>0.7495829 </td></tr>\n",
       "\t<tr><th scope=row>47</th><td>118       </td><td>-0.2859631</td><td>0.7495829 </td><td>0.7467233 </td></tr>\n",
       "\t<tr><th scope=row>48</th><td>119       </td><td>-0.2738971</td><td>0.7467233 </td><td>0.7439843 </td></tr>\n",
       "</tbody>\n",
       "</table>\n"
      ],
      "text/latex": [
       "\\begin{tabular}{r|llll}\n",
       "  & bp\\_value & gradient & pre\\_val\\_left & pre\\_val\\_right\\\\\n",
       "\\hline\n",
       "\t40 & 111        & -0.3243964 & 0.7716155  & 0.7683716 \\\\\n",
       "\t41 & 112        & -0.3240273 & 0.7683716  & 0.7651313 \\\\\n",
       "\t42 & 113        & -0.3219798 & 0.7651313  & 0.7619115 \\\\\n",
       "\t43 & 114        & -0.3182074 & 0.7619115  & 0.7587294 \\\\\n",
       "\t44 & 115        & -0.3126926 & 0.7587294  & 0.7556025 \\\\\n",
       "\t45 & 116        & -0.3054472 & 0.7556025  & 0.7525480 \\\\\n",
       "\t46 & 117        & -0.2965134 & 0.7525480  & 0.7495829 \\\\\n",
       "\t47 & 118        & -0.2859631 & 0.7495829  & 0.7467233 \\\\\n",
       "\t48 & 119        & -0.2738971 & 0.7467233  & 0.7439843 \\\\\n",
       "\\end{tabular}\n"
      ],
      "text/markdown": [
       "\n",
       "| <!--/--> | bp_value | gradient | pre_val_left | pre_val_right | \n",
       "|---|---|---|---|---|---|---|---|---|\n",
       "| 40 | 111        | -0.3243964 | 0.7716155  | 0.7683716  | \n",
       "| 41 | 112        | -0.3240273 | 0.7683716  | 0.7651313  | \n",
       "| 42 | 113        | -0.3219798 | 0.7651313  | 0.7619115  | \n",
       "| 43 | 114        | -0.3182074 | 0.7619115  | 0.7587294  | \n",
       "| 44 | 115        | -0.3126926 | 0.7587294  | 0.7556025  | \n",
       "| 45 | 116        | -0.3054472 | 0.7556025  | 0.7525480  | \n",
       "| 46 | 117        | -0.2965134 | 0.7525480  | 0.7495829  | \n",
       "| 47 | 118        | -0.2859631 | 0.7495829  | 0.7467233  | \n",
       "| 48 | 119        | -0.2738971 | 0.7467233  | 0.7439843  | \n",
       "\n",
       "\n"
      ],
      "text/plain": [
       "   bp_value gradient   pre_val_left pre_val_right\n",
       "40 111      -0.3243964 0.7716155    0.7683716    \n",
       "41 112      -0.3240273 0.7683716    0.7651313    \n",
       "42 113      -0.3219798 0.7651313    0.7619115    \n",
       "43 114      -0.3182074 0.7619115    0.7587294    \n",
       "44 115      -0.3126926 0.7587294    0.7556025    \n",
       "45 116      -0.3054472 0.7556025    0.7525480    \n",
       "46 117      -0.2965134 0.7525480    0.7495829    \n",
       "47 118      -0.2859631 0.7495829    0.7467233    \n",
       "48 119      -0.2738971 0.7467233    0.7439843    "
      ]
     },
     "metadata": {},
     "output_type": "display_data"
    },
    {
     "data": {
      "text/html": [
       "<table>\n",
       "<thead><tr><th></th><th scope=col>bp_value</th><th scope=col>gradient</th><th scope=col>pre_val_left</th><th scope=col>pre_val_right</th></tr></thead>\n",
       "<tbody>\n",
       "\t<tr><th scope=row>25</th><td>101        </td><td>-0.14061559</td><td>0.7937501  </td><td>0.7923440  </td></tr>\n",
       "\t<tr><th scope=row>26</th><td>102        </td><td>-0.10806373</td><td>0.7923440  </td><td>0.7912634  </td></tr>\n",
       "\t<tr><th scope=row>27</th><td>103        </td><td>-0.08253439</td><td>0.7912634  </td><td>0.7904380  </td></tr>\n",
       "\t<tr><th scope=row>28</th><td>104        </td><td>-0.06577934</td><td>0.7904380  </td><td>0.7897802  </td></tr>\n",
       "\t<tr><th scope=row>29</th><td>105        </td><td>-0.05909169</td><td>0.7897802  </td><td>0.7891893  </td></tr>\n",
       "\t<tr><th scope=row>30</th><td>106        </td><td>-0.06318202</td><td>0.7891893  </td><td>0.7885575  </td></tr>\n",
       "\t<tr><th scope=row>31</th><td>107        </td><td>-0.07819391</td><td>0.7885575  </td><td>0.7877755  </td></tr>\n",
       "\t<tr><th scope=row>32</th><td>108        </td><td>-0.10387410</td><td>0.7877755  </td><td>0.7867368  </td></tr>\n",
       "\t<tr><th scope=row>33</th><td>109        </td><td>-0.13927960</td><td>0.7867368  </td><td>0.7853440  </td></tr>\n",
       "\t<tr><th scope=row>34</th><td>110        </td><td>-0.18315877</td><td>0.7853440  </td><td>0.7835124  </td></tr>\n",
       "\t<tr><th scope=row>35</th><td>111        </td><td>-0.23417104</td><td>0.7835124  </td><td>0.7811707  </td></tr>\n",
       "\t<tr><th scope=row>36</th><td>112        </td><td>-0.29028334</td><td>0.7811707  </td><td>0.7782679  </td></tr>\n",
       "\t<tr><th scope=row>37</th><td>113        </td><td>-0.34936252</td><td>0.7782679  </td><td>0.7747742  </td></tr>\n",
       "\t<tr><th scope=row>38</th><td>114        </td><td>-0.40880845</td><td>0.7747742  </td><td>0.7706862  </td></tr>\n",
       "\t<tr><th scope=row>39</th><td>115        </td><td>-0.46560837</td><td>0.7706862  </td><td>0.7660301  </td></tr>\n",
       "\t<tr><th scope=row>40</th><td>116        </td><td>-0.51683332</td><td>0.7660301  </td><td>0.7608617  </td></tr>\n",
       "\t<tr><th scope=row>41</th><td>117        </td><td>-0.55935475</td><td>0.7608617  </td><td>0.7552682  </td></tr>\n",
       "\t<tr><th scope=row>42</th><td>118        </td><td>-0.59083724</td><td>0.7552682  </td><td>0.7493598  </td></tr>\n",
       "\t<tr><th scope=row>43</th><td>119        </td><td>-0.60932090</td><td>0.7493598  </td><td>0.7432666  </td></tr>\n",
       "</tbody>\n",
       "</table>\n"
      ],
      "text/latex": [
       "\\begin{tabular}{r|llll}\n",
       "  & bp\\_value & gradient & pre\\_val\\_left & pre\\_val\\_right\\\\\n",
       "\\hline\n",
       "\t25 & 101         & -0.14061559 & 0.7937501   & 0.7923440  \\\\\n",
       "\t26 & 102         & -0.10806373 & 0.7923440   & 0.7912634  \\\\\n",
       "\t27 & 103         & -0.08253439 & 0.7912634   & 0.7904380  \\\\\n",
       "\t28 & 104         & -0.06577934 & 0.7904380   & 0.7897802  \\\\\n",
       "\t29 & 105         & -0.05909169 & 0.7897802   & 0.7891893  \\\\\n",
       "\t30 & 106         & -0.06318202 & 0.7891893   & 0.7885575  \\\\\n",
       "\t31 & 107         & -0.07819391 & 0.7885575   & 0.7877755  \\\\\n",
       "\t32 & 108         & -0.10387410 & 0.7877755   & 0.7867368  \\\\\n",
       "\t33 & 109         & -0.13927960 & 0.7867368   & 0.7853440  \\\\\n",
       "\t34 & 110         & -0.18315877 & 0.7853440   & 0.7835124  \\\\\n",
       "\t35 & 111         & -0.23417104 & 0.7835124   & 0.7811707  \\\\\n",
       "\t36 & 112         & -0.29028334 & 0.7811707   & 0.7782679  \\\\\n",
       "\t37 & 113         & -0.34936252 & 0.7782679   & 0.7747742  \\\\\n",
       "\t38 & 114         & -0.40880845 & 0.7747742   & 0.7706862  \\\\\n",
       "\t39 & 115         & -0.46560837 & 0.7706862   & 0.7660301  \\\\\n",
       "\t40 & 116         & -0.51683332 & 0.7660301   & 0.7608617  \\\\\n",
       "\t41 & 117         & -0.55935475 & 0.7608617   & 0.7552682  \\\\\n",
       "\t42 & 118         & -0.59083724 & 0.7552682   & 0.7493598  \\\\\n",
       "\t43 & 119         & -0.60932090 & 0.7493598   & 0.7432666  \\\\\n",
       "\\end{tabular}\n"
      ],
      "text/markdown": [
       "\n",
       "| <!--/--> | bp_value | gradient | pre_val_left | pre_val_right | \n",
       "|---|---|---|---|---|---|---|---|---|---|---|---|---|---|---|---|---|---|---|\n",
       "| 25 | 101         | -0.14061559 | 0.7937501   | 0.7923440   | \n",
       "| 26 | 102         | -0.10806373 | 0.7923440   | 0.7912634   | \n",
       "| 27 | 103         | -0.08253439 | 0.7912634   | 0.7904380   | \n",
       "| 28 | 104         | -0.06577934 | 0.7904380   | 0.7897802   | \n",
       "| 29 | 105         | -0.05909169 | 0.7897802   | 0.7891893   | \n",
       "| 30 | 106         | -0.06318202 | 0.7891893   | 0.7885575   | \n",
       "| 31 | 107         | -0.07819391 | 0.7885575   | 0.7877755   | \n",
       "| 32 | 108         | -0.10387410 | 0.7877755   | 0.7867368   | \n",
       "| 33 | 109         | -0.13927960 | 0.7867368   | 0.7853440   | \n",
       "| 34 | 110         | -0.18315877 | 0.7853440   | 0.7835124   | \n",
       "| 35 | 111         | -0.23417104 | 0.7835124   | 0.7811707   | \n",
       "| 36 | 112         | -0.29028334 | 0.7811707   | 0.7782679   | \n",
       "| 37 | 113         | -0.34936252 | 0.7782679   | 0.7747742   | \n",
       "| 38 | 114         | -0.40880845 | 0.7747742   | 0.7706862   | \n",
       "| 39 | 115         | -0.46560837 | 0.7706862   | 0.7660301   | \n",
       "| 40 | 116         | -0.51683332 | 0.7660301   | 0.7608617   | \n",
       "| 41 | 117         | -0.55935475 | 0.7608617   | 0.7552682   | \n",
       "| 42 | 118         | -0.59083724 | 0.7552682   | 0.7493598   | \n",
       "| 43 | 119         | -0.60932090 | 0.7493598   | 0.7432666   | \n",
       "\n",
       "\n"
      ],
      "text/plain": [
       "   bp_value gradient    pre_val_left pre_val_right\n",
       "25 101      -0.14061559 0.7937501    0.7923440    \n",
       "26 102      -0.10806373 0.7923440    0.7912634    \n",
       "27 103      -0.08253439 0.7912634    0.7904380    \n",
       "28 104      -0.06577934 0.7904380    0.7897802    \n",
       "29 105      -0.05909169 0.7897802    0.7891893    \n",
       "30 106      -0.06318202 0.7891893    0.7885575    \n",
       "31 107      -0.07819391 0.7885575    0.7877755    \n",
       "32 108      -0.10387410 0.7877755    0.7867368    \n",
       "33 109      -0.13927960 0.7867368    0.7853440    \n",
       "34 110      -0.18315877 0.7853440    0.7835124    \n",
       "35 111      -0.23417104 0.7835124    0.7811707    \n",
       "36 112      -0.29028334 0.7811707    0.7782679    \n",
       "37 113      -0.34936252 0.7782679    0.7747742    \n",
       "38 114      -0.40880845 0.7747742    0.7706862    \n",
       "39 115      -0.46560837 0.7706862    0.7660301    \n",
       "40 116      -0.51683332 0.7660301    0.7608617    \n",
       "41 117      -0.55935475 0.7608617    0.7552682    \n",
       "42 118      -0.59083724 0.7552682    0.7493598    \n",
       "43 119      -0.60932090 0.7493598    0.7432666    "
      ]
     },
     "metadata": {},
     "output_type": "display_data"
    },
    {
     "data": {
      "text/html": [
       "<table>\n",
       "<thead><tr><th></th><th scope=col>bp_value</th><th scope=col>gradient</th><th scope=col>pre_val_left</th><th scope=col>pre_val_right</th></tr></thead>\n",
       "<tbody>\n",
       "\t<tr><th scope=row>24</th><td>101       </td><td>-0.1462012</td><td>0.7945428 </td><td>0.7930808 </td></tr>\n",
       "\t<tr><th scope=row>25</th><td>102       </td><td>-0.1360190</td><td>0.7930808 </td><td>0.7917206 </td></tr>\n",
       "\t<tr><th scope=row>26</th><td>103       </td><td>-0.1296856</td><td>0.7917206 </td><td>0.7904237 </td></tr>\n",
       "\t<tr><th scope=row>27</th><td>104       </td><td>-0.1279844</td><td>0.7904237 </td><td>0.7891439 </td></tr>\n",
       "\t<tr><th scope=row>28</th><td>105       </td><td>-0.1315485</td><td>0.7891439 </td><td>0.7878284 </td></tr>\n",
       "\t<tr><th scope=row>29</th><td>106       </td><td>-0.1407606</td><td>0.7878284 </td><td>0.7864208 </td></tr>\n",
       "\t<tr><th scope=row>30</th><td>107       </td><td>-0.1557066</td><td>0.7864208 </td><td>0.7848637 </td></tr>\n",
       "\t<tr><th scope=row>31</th><td>108       </td><td>-0.1761704</td><td>0.7848637 </td><td>0.7831020 </td></tr>\n",
       "\t<tr><th scope=row>32</th><td>109       </td><td>-0.2016260</td><td>0.7831020 </td><td>0.7810858 </td></tr>\n",
       "\t<tr><th scope=row>33</th><td>110       </td><td>-0.2312940</td><td>0.7810858 </td><td>0.7787728 </td></tr>\n",
       "\t<tr><th scope=row>34</th><td>111       </td><td>-0.2641818</td><td>0.7787728 </td><td>0.7761310 </td></tr>\n",
       "\t<tr><th scope=row>35</th><td>112       </td><td>-0.2988369</td><td>0.7761310 </td><td>0.7731426 </td></tr>\n",
       "\t<tr><th scope=row>36</th><td>113       </td><td>-0.3338831</td><td>0.7731426 </td><td>0.7698038 </td></tr>\n",
       "\t<tr><th scope=row>37</th><td>114       </td><td>-0.3679542</td><td>0.7698038 </td><td>0.7661243 </td></tr>\n",
       "\t<tr><th scope=row>38</th><td>115       </td><td>-0.3993560</td><td>0.7661243 </td><td>0.7621307 </td></tr>\n",
       "\t<tr><th scope=row>39</th><td>116       </td><td>-0.4265040</td><td>0.7621307 </td><td>0.7578657 </td></tr>\n",
       "\t<tr><th scope=row>40</th><td>117       </td><td>-0.4482515</td><td>0.7578657 </td><td>0.7533831 </td></tr>\n",
       "\t<tr><th scope=row>41</th><td>118       </td><td>-0.4635568</td><td>0.7533831 </td><td>0.7487476 </td></tr>\n",
       "\t<tr><th scope=row>42</th><td>119       </td><td>-0.4714407</td><td>0.7487476 </td><td>0.7440332 </td></tr>\n",
       "</tbody>\n",
       "</table>\n"
      ],
      "text/latex": [
       "\\begin{tabular}{r|llll}\n",
       "  & bp\\_value & gradient & pre\\_val\\_left & pre\\_val\\_right\\\\\n",
       "\\hline\n",
       "\t24 & 101        & -0.1462012 & 0.7945428  & 0.7930808 \\\\\n",
       "\t25 & 102        & -0.1360190 & 0.7930808  & 0.7917206 \\\\\n",
       "\t26 & 103        & -0.1296856 & 0.7917206  & 0.7904237 \\\\\n",
       "\t27 & 104        & -0.1279844 & 0.7904237  & 0.7891439 \\\\\n",
       "\t28 & 105        & -0.1315485 & 0.7891439  & 0.7878284 \\\\\n",
       "\t29 & 106        & -0.1407606 & 0.7878284  & 0.7864208 \\\\\n",
       "\t30 & 107        & -0.1557066 & 0.7864208  & 0.7848637 \\\\\n",
       "\t31 & 108        & -0.1761704 & 0.7848637  & 0.7831020 \\\\\n",
       "\t32 & 109        & -0.2016260 & 0.7831020  & 0.7810858 \\\\\n",
       "\t33 & 110        & -0.2312940 & 0.7810858  & 0.7787728 \\\\\n",
       "\t34 & 111        & -0.2641818 & 0.7787728  & 0.7761310 \\\\\n",
       "\t35 & 112        & -0.2988369 & 0.7761310  & 0.7731426 \\\\\n",
       "\t36 & 113        & -0.3338831 & 0.7731426  & 0.7698038 \\\\\n",
       "\t37 & 114        & -0.3679542 & 0.7698038  & 0.7661243 \\\\\n",
       "\t38 & 115        & -0.3993560 & 0.7661243  & 0.7621307 \\\\\n",
       "\t39 & 116        & -0.4265040 & 0.7621307  & 0.7578657 \\\\\n",
       "\t40 & 117        & -0.4482515 & 0.7578657  & 0.7533831 \\\\\n",
       "\t41 & 118        & -0.4635568 & 0.7533831  & 0.7487476 \\\\\n",
       "\t42 & 119        & -0.4714407 & 0.7487476  & 0.7440332 \\\\\n",
       "\\end{tabular}\n"
      ],
      "text/markdown": [
       "\n",
       "| <!--/--> | bp_value | gradient | pre_val_left | pre_val_right | \n",
       "|---|---|---|---|---|---|---|---|---|---|---|---|---|---|---|---|---|---|---|\n",
       "| 24 | 101        | -0.1462012 | 0.7945428  | 0.7930808  | \n",
       "| 25 | 102        | -0.1360190 | 0.7930808  | 0.7917206  | \n",
       "| 26 | 103        | -0.1296856 | 0.7917206  | 0.7904237  | \n",
       "| 27 | 104        | -0.1279844 | 0.7904237  | 0.7891439  | \n",
       "| 28 | 105        | -0.1315485 | 0.7891439  | 0.7878284  | \n",
       "| 29 | 106        | -0.1407606 | 0.7878284  | 0.7864208  | \n",
       "| 30 | 107        | -0.1557066 | 0.7864208  | 0.7848637  | \n",
       "| 31 | 108        | -0.1761704 | 0.7848637  | 0.7831020  | \n",
       "| 32 | 109        | -0.2016260 | 0.7831020  | 0.7810858  | \n",
       "| 33 | 110        | -0.2312940 | 0.7810858  | 0.7787728  | \n",
       "| 34 | 111        | -0.2641818 | 0.7787728  | 0.7761310  | \n",
       "| 35 | 112        | -0.2988369 | 0.7761310  | 0.7731426  | \n",
       "| 36 | 113        | -0.3338831 | 0.7731426  | 0.7698038  | \n",
       "| 37 | 114        | -0.3679542 | 0.7698038  | 0.7661243  | \n",
       "| 38 | 115        | -0.3993560 | 0.7661243  | 0.7621307  | \n",
       "| 39 | 116        | -0.4265040 | 0.7621307  | 0.7578657  | \n",
       "| 40 | 117        | -0.4482515 | 0.7578657  | 0.7533831  | \n",
       "| 41 | 118        | -0.4635568 | 0.7533831  | 0.7487476  | \n",
       "| 42 | 119        | -0.4714407 | 0.7487476  | 0.7440332  | \n",
       "\n",
       "\n"
      ],
      "text/plain": [
       "   bp_value gradient   pre_val_left pre_val_right\n",
       "24 101      -0.1462012 0.7945428    0.7930808    \n",
       "25 102      -0.1360190 0.7930808    0.7917206    \n",
       "26 103      -0.1296856 0.7917206    0.7904237    \n",
       "27 104      -0.1279844 0.7904237    0.7891439    \n",
       "28 105      -0.1315485 0.7891439    0.7878284    \n",
       "29 106      -0.1407606 0.7878284    0.7864208    \n",
       "30 107      -0.1557066 0.7864208    0.7848637    \n",
       "31 108      -0.1761704 0.7848637    0.7831020    \n",
       "32 109      -0.2016260 0.7831020    0.7810858    \n",
       "33 110      -0.2312940 0.7810858    0.7787728    \n",
       "34 111      -0.2641818 0.7787728    0.7761310    \n",
       "35 112      -0.2988369 0.7761310    0.7731426    \n",
       "36 113      -0.3338831 0.7731426    0.7698038    \n",
       "37 114      -0.3679542 0.7698038    0.7661243    \n",
       "38 115      -0.3993560 0.7661243    0.7621307    \n",
       "39 116      -0.4265040 0.7621307    0.7578657    \n",
       "40 117      -0.4482515 0.7578657    0.7533831    \n",
       "41 118      -0.4635568 0.7533831    0.7487476    \n",
       "42 119      -0.4714407 0.7487476    0.7440332    "
      ]
     },
     "metadata": {},
     "output_type": "display_data"
    }
   ],
   "source": [
    "print(\"eICU\") # NA\n",
    "eicu_grad <- find_gradient(b = gamfitMed_AKI_eICU_ASP_24h) \n",
    "eicu_grad[(eicu_grad$bp_value< 120) & (eicu_grad$bp_value> 110),]\n",
    "eicu_grad <- find_gradient(b = gamfitMed_AKI_eICU_ASP_48h) \n",
    "eicu_grad[(eicu_grad$bp_value< 120) & (eicu_grad$bp_value> 110),]\n",
    "eicu_grad <- find_gradient(b = gamfitMed_AKI_eICU_ASP_72h)\n",
    "eicu_grad[(eicu_grad$bp_value< 120) & (eicu_grad$bp_value> 110),]\n",
    "\n",
    "print(\"MIMIC\") # 75mmHg, 76mmHg\n",
    "mimic_grad <- find_gradient(b = gamfitMed_AKI_MIMIC_ASP_24h)\n",
    "mimic_grad[(mimic_grad$bp_value< 120) & (mimic_grad$bp_value> 110),]\n",
    "mimic_grad <- find_gradient(b = gamfitMed_AKI_MIMIC_ASP_48h)         #111\n",
    "mimic_grad[(mimic_grad$bp_value< 120) & (mimic_grad$bp_value> 100),]\n",
    "mimic_grad <- find_gradient(b = gamfitMed_AKI_MIMIC_ASP_72h)         # NA\n",
    "mimic_grad[(mimic_grad$bp_value< 120) & (mimic_grad$bp_value> 100),]\n"
   ]
  },
  {
   "cell_type": "code",
   "execution_count": 49,
   "metadata": {},
   "outputs": [
    {
     "name": "stdout",
     "output_type": "stream",
     "text": [
      "[1] \"MIMIC\"\n"
     ]
    },
    {
     "data": {
      "text/html": [
       "<table>\n",
       "<thead><tr><th></th><th scope=col>bp_value</th><th scope=col>gradient</th><th scope=col>pre_val_left</th><th scope=col>pre_val_right</th></tr></thead>\n",
       "<tbody>\n",
       "\t<tr><th scope=row>28</th><td>51        </td><td>-0.2137301</td><td>0.7585594 </td><td>0.7564221 </td></tr>\n",
       "\t<tr><th scope=row>29</th><td>52        </td><td>-0.2066908</td><td>0.7564221 </td><td>0.7543552 </td></tr>\n",
       "\t<tr><th scope=row>30</th><td>53        </td><td>-0.1992903</td><td>0.7543552 </td><td>0.7523623 </td></tr>\n",
       "\t<tr><th scope=row>31</th><td>54        </td><td>-0.1914031</td><td>0.7523623 </td><td>0.7504483 </td></tr>\n",
       "\t<tr><th scope=row>32</th><td>55        </td><td>-0.1828654</td><td>0.7504483 </td><td>0.7486196 </td></tr>\n",
       "\t<tr><th scope=row>33</th><td>56        </td><td>-0.1734939</td><td>0.7486196 </td><td>0.7468847 </td></tr>\n",
       "\t<tr><th scope=row>34</th><td>57        </td><td>-0.1630812</td><td>0.7468847 </td><td>0.7452539 </td></tr>\n",
       "\t<tr><th scope=row>35</th><td>58        </td><td>-0.1514587</td><td>0.7452539 </td><td>0.7437393 </td></tr>\n",
       "\t<tr><th scope=row>36</th><td>59        </td><td>-0.1385037</td><td>0.7437393 </td><td>0.7423543 </td></tr>\n",
       "</tbody>\n",
       "</table>\n"
      ],
      "text/latex": [
       "\\begin{tabular}{r|llll}\n",
       "  & bp\\_value & gradient & pre\\_val\\_left & pre\\_val\\_right\\\\\n",
       "\\hline\n",
       "\t28 & 51         & -0.2137301 & 0.7585594  & 0.7564221 \\\\\n",
       "\t29 & 52         & -0.2066908 & 0.7564221  & 0.7543552 \\\\\n",
       "\t30 & 53         & -0.1992903 & 0.7543552  & 0.7523623 \\\\\n",
       "\t31 & 54         & -0.1914031 & 0.7523623  & 0.7504483 \\\\\n",
       "\t32 & 55         & -0.1828654 & 0.7504483  & 0.7486196 \\\\\n",
       "\t33 & 56         & -0.1734939 & 0.7486196  & 0.7468847 \\\\\n",
       "\t34 & 57         & -0.1630812 & 0.7468847  & 0.7452539 \\\\\n",
       "\t35 & 58         & -0.1514587 & 0.7452539  & 0.7437393 \\\\\n",
       "\t36 & 59         & -0.1385037 & 0.7437393  & 0.7423543 \\\\\n",
       "\\end{tabular}\n"
      ],
      "text/markdown": [
       "\n",
       "| <!--/--> | bp_value | gradient | pre_val_left | pre_val_right | \n",
       "|---|---|---|---|---|---|---|---|---|\n",
       "| 28 | 51         | -0.2137301 | 0.7585594  | 0.7564221  | \n",
       "| 29 | 52         | -0.2066908 | 0.7564221  | 0.7543552  | \n",
       "| 30 | 53         | -0.1992903 | 0.7543552  | 0.7523623  | \n",
       "| 31 | 54         | -0.1914031 | 0.7523623  | 0.7504483  | \n",
       "| 32 | 55         | -0.1828654 | 0.7504483  | 0.7486196  | \n",
       "| 33 | 56         | -0.1734939 | 0.7486196  | 0.7468847  | \n",
       "| 34 | 57         | -0.1630812 | 0.7468847  | 0.7452539  | \n",
       "| 35 | 58         | -0.1514587 | 0.7452539  | 0.7437393  | \n",
       "| 36 | 59         | -0.1385037 | 0.7437393  | 0.7423543  | \n",
       "\n",
       "\n"
      ],
      "text/plain": [
       "   bp_value gradient   pre_val_left pre_val_right\n",
       "28 51       -0.2137301 0.7585594    0.7564221    \n",
       "29 52       -0.2066908 0.7564221    0.7543552    \n",
       "30 53       -0.1992903 0.7543552    0.7523623    \n",
       "31 54       -0.1914031 0.7523623    0.7504483    \n",
       "32 55       -0.1828654 0.7504483    0.7486196    \n",
       "33 56       -0.1734939 0.7486196    0.7468847    \n",
       "34 57       -0.1630812 0.7468847    0.7452539    \n",
       "35 58       -0.1514587 0.7452539    0.7437393    \n",
       "36 59       -0.1385037 0.7437393    0.7423543    "
      ]
     },
     "metadata": {},
     "output_type": "display_data"
    },
    {
     "data": {
      "text/html": [
       "<table>\n",
       "<thead><tr><th></th><th scope=col>bp_value</th><th scope=col>gradient</th><th scope=col>pre_val_left</th><th scope=col>pre_val_right</th></tr></thead>\n",
       "<tbody>\n",
       "\t<tr><th scope=row>22</th><td>51          </td><td> 0.001802263</td><td>0.7609551   </td><td>0.7609731   </td></tr>\n",
       "\t<tr><th scope=row>23</th><td>52          </td><td>-0.003072151</td><td>0.7609731   </td><td>0.7609424   </td></tr>\n",
       "\t<tr><th scope=row>24</th><td>53          </td><td>-0.015833902</td><td>0.7609424   </td><td>0.7607840   </td></tr>\n",
       "\t<tr><th scope=row>25</th><td>54          </td><td>-0.039986802</td><td>0.7607840   </td><td>0.7603842   </td></tr>\n",
       "\t<tr><th scope=row>26</th><td>55          </td><td>-0.080893074</td><td>0.7603842   </td><td>0.7595752   </td></tr>\n",
       "\t<tr><th scope=row>27</th><td>56          </td><td>-0.141652336</td><td>0.7595752   </td><td>0.7581587   </td></tr>\n",
       "\t<tr><th scope=row>28</th><td>57          </td><td>-0.222758197</td><td>0.7581587   </td><td>0.7559311   </td></tr>\n",
       "\t<tr><th scope=row>29</th><td>58          </td><td>-0.320240302</td><td>0.7559311   </td><td>0.7527287   </td></tr>\n",
       "\t<tr><th scope=row>30</th><td>59          </td><td>-0.423506500</td><td>0.7527287   </td><td>0.7484936   </td></tr>\n",
       "\t<tr><th scope=row>31</th><td>60          </td><td>-0.521524437</td><td>0.7484936   </td><td>0.7432784   </td></tr>\n",
       "\t<tr><th scope=row>32</th><td>61          </td><td>-0.601763688</td><td>0.7432784   </td><td>0.7372608   </td></tr>\n",
       "\t<tr><th scope=row>33</th><td>62          </td><td>-0.645442525</td><td>0.7372608   </td><td>0.7308063   </td></tr>\n",
       "\t<tr><th scope=row>34</th><td>63          </td><td>-0.634324725</td><td>0.7308063   </td><td>0.7244631   </td></tr>\n",
       "\t<tr><th scope=row>35</th><td>64          </td><td>-0.556923210</td><td>0.7244631   </td><td>0.7188939   </td></tr>\n",
       "\t<tr><th scope=row>36</th><td>65          </td><td>-0.409017201</td><td>0.7188939   </td><td>0.7148037   </td></tr>\n",
       "\t<tr><th scope=row>37</th><td>66          </td><td>-0.198711425</td><td>0.7148037   </td><td>0.7128166   </td></tr>\n",
       "\t<tr><th scope=row>38</th><td>67          </td><td> 0.050533894</td><td>0.7128166   </td><td>0.7133219   </td></tr>\n",
       "\t<tr><th scope=row>39</th><td>68          </td><td> 0.313072824</td><td>0.7133219   </td><td>0.7164526   </td></tr>\n",
       "\t<tr><th scope=row>40</th><td>69          </td><td> 0.560910527</td><td>0.7164526   </td><td>0.7220617   </td></tr>\n",
       "</tbody>\n",
       "</table>\n"
      ],
      "text/latex": [
       "\\begin{tabular}{r|llll}\n",
       "  & bp\\_value & gradient & pre\\_val\\_left & pre\\_val\\_right\\\\\n",
       "\\hline\n",
       "\t22 & 51           &  0.001802263 & 0.7609551    & 0.7609731   \\\\\n",
       "\t23 & 52           & -0.003072151 & 0.7609731    & 0.7609424   \\\\\n",
       "\t24 & 53           & -0.015833902 & 0.7609424    & 0.7607840   \\\\\n",
       "\t25 & 54           & -0.039986802 & 0.7607840    & 0.7603842   \\\\\n",
       "\t26 & 55           & -0.080893074 & 0.7603842    & 0.7595752   \\\\\n",
       "\t27 & 56           & -0.141652336 & 0.7595752    & 0.7581587   \\\\\n",
       "\t28 & 57           & -0.222758197 & 0.7581587    & 0.7559311   \\\\\n",
       "\t29 & 58           & -0.320240302 & 0.7559311    & 0.7527287   \\\\\n",
       "\t30 & 59           & -0.423506500 & 0.7527287    & 0.7484936   \\\\\n",
       "\t31 & 60           & -0.521524437 & 0.7484936    & 0.7432784   \\\\\n",
       "\t32 & 61           & -0.601763688 & 0.7432784    & 0.7372608   \\\\\n",
       "\t33 & 62           & -0.645442525 & 0.7372608    & 0.7308063   \\\\\n",
       "\t34 & 63           & -0.634324725 & 0.7308063    & 0.7244631   \\\\\n",
       "\t35 & 64           & -0.556923210 & 0.7244631    & 0.7188939   \\\\\n",
       "\t36 & 65           & -0.409017201 & 0.7188939    & 0.7148037   \\\\\n",
       "\t37 & 66           & -0.198711425 & 0.7148037    & 0.7128166   \\\\\n",
       "\t38 & 67           &  0.050533894 & 0.7128166    & 0.7133219   \\\\\n",
       "\t39 & 68           &  0.313072824 & 0.7133219    & 0.7164526   \\\\\n",
       "\t40 & 69           &  0.560910527 & 0.7164526    & 0.7220617   \\\\\n",
       "\\end{tabular}\n"
      ],
      "text/markdown": [
       "\n",
       "| <!--/--> | bp_value | gradient | pre_val_left | pre_val_right | \n",
       "|---|---|---|---|---|---|---|---|---|---|---|---|---|---|---|---|---|---|---|\n",
       "| 22 | 51           |  0.001802263 | 0.7609551    | 0.7609731    | \n",
       "| 23 | 52           | -0.003072151 | 0.7609731    | 0.7609424    | \n",
       "| 24 | 53           | -0.015833902 | 0.7609424    | 0.7607840    | \n",
       "| 25 | 54           | -0.039986802 | 0.7607840    | 0.7603842    | \n",
       "| 26 | 55           | -0.080893074 | 0.7603842    | 0.7595752    | \n",
       "| 27 | 56           | -0.141652336 | 0.7595752    | 0.7581587    | \n",
       "| 28 | 57           | -0.222758197 | 0.7581587    | 0.7559311    | \n",
       "| 29 | 58           | -0.320240302 | 0.7559311    | 0.7527287    | \n",
       "| 30 | 59           | -0.423506500 | 0.7527287    | 0.7484936    | \n",
       "| 31 | 60           | -0.521524437 | 0.7484936    | 0.7432784    | \n",
       "| 32 | 61           | -0.601763688 | 0.7432784    | 0.7372608    | \n",
       "| 33 | 62           | -0.645442525 | 0.7372608    | 0.7308063    | \n",
       "| 34 | 63           | -0.634324725 | 0.7308063    | 0.7244631    | \n",
       "| 35 | 64           | -0.556923210 | 0.7244631    | 0.7188939    | \n",
       "| 36 | 65           | -0.409017201 | 0.7188939    | 0.7148037    | \n",
       "| 37 | 66           | -0.198711425 | 0.7148037    | 0.7128166    | \n",
       "| 38 | 67           |  0.050533894 | 0.7128166    | 0.7133219    | \n",
       "| 39 | 68           |  0.313072824 | 0.7133219    | 0.7164526    | \n",
       "| 40 | 69           |  0.560910527 | 0.7164526    | 0.7220617    | \n",
       "\n",
       "\n"
      ],
      "text/plain": [
       "   bp_value gradient     pre_val_left pre_val_right\n",
       "22 51        0.001802263 0.7609551    0.7609731    \n",
       "23 52       -0.003072151 0.7609731    0.7609424    \n",
       "24 53       -0.015833902 0.7609424    0.7607840    \n",
       "25 54       -0.039986802 0.7607840    0.7603842    \n",
       "26 55       -0.080893074 0.7603842    0.7595752    \n",
       "27 56       -0.141652336 0.7595752    0.7581587    \n",
       "28 57       -0.222758197 0.7581587    0.7559311    \n",
       "29 58       -0.320240302 0.7559311    0.7527287    \n",
       "30 59       -0.423506500 0.7527287    0.7484936    \n",
       "31 60       -0.521524437 0.7484936    0.7432784    \n",
       "32 61       -0.601763688 0.7432784    0.7372608    \n",
       "33 62       -0.645442525 0.7372608    0.7308063    \n",
       "34 63       -0.634324725 0.7308063    0.7244631    \n",
       "35 64       -0.556923210 0.7244631    0.7188939    \n",
       "36 65       -0.409017201 0.7188939    0.7148037    \n",
       "37 66       -0.198711425 0.7148037    0.7128166    \n",
       "38 67        0.050533894 0.7128166    0.7133219    \n",
       "39 68        0.313072824 0.7133219    0.7164526    \n",
       "40 69        0.560910527 0.7164526    0.7220617    "
      ]
     },
     "metadata": {},
     "output_type": "display_data"
    },
    {
     "data": {
      "text/html": [
       "<table>\n",
       "<thead><tr><th></th><th scope=col>bp_value</th><th scope=col>gradient</th><th scope=col>pre_val_left</th><th scope=col>pre_val_right</th></tr></thead>\n",
       "<tbody>\n",
       "\t<tr><th scope=row>21</th><td>51         </td><td>-0.26725026</td><td>0.7644893  </td><td>0.7618168  </td></tr>\n",
       "\t<tr><th scope=row>22</th><td>52         </td><td>-0.18262335</td><td>0.7618168  </td><td>0.7599906  </td></tr>\n",
       "\t<tr><th scope=row>23</th><td>53         </td><td>-0.12492383</td><td>0.7599906  </td><td>0.7587413  </td></tr>\n",
       "\t<tr><th scope=row>24</th><td>54         </td><td>-0.09740732</td><td>0.7587413  </td><td>0.7577673  </td></tr>\n",
       "\t<tr><th scope=row>25</th><td>55         </td><td>-0.09996291</td><td>0.7577673  </td><td>0.7567676  </td></tr>\n",
       "\t<tr><th scope=row>26</th><td>56         </td><td>-0.12988791</td><td>0.7567676  </td><td>0.7554688  </td></tr>\n",
       "\t<tr><th scope=row>27</th><td>57         </td><td>-0.18127050</td><td>0.7554688  </td><td>0.7536561  </td></tr>\n",
       "\t<tr><th scope=row>28</th><td>58         </td><td>-0.24568426</td><td>0.7536561  </td><td>0.7511992  </td></tr>\n",
       "\t<tr><th scope=row>29</th><td>59         </td><td>-0.31476682</td><td>0.7511992  </td><td>0.7480516  </td></tr>\n",
       "\t<tr><th scope=row>30</th><td>60         </td><td>-0.38142549</td><td>0.7480516  </td><td>0.7442373  </td></tr>\n",
       "\t<tr><th scope=row>31</th><td>61         </td><td>-0.43736331</td><td>0.7442373  </td><td>0.7398637  </td></tr>\n",
       "\t<tr><th scope=row>32</th><td>62         </td><td>-0.47195096</td><td>0.7398637  </td><td>0.7351442  </td></tr>\n",
       "\t<tr><th scope=row>33</th><td>63         </td><td>-0.47766165</td><td>0.7351442  </td><td>0.7303675  </td></tr>\n",
       "\t<tr><th scope=row>34</th><td>64         </td><td>-0.44942271</td><td>0.7303675  </td><td>0.7258733  </td></tr>\n",
       "\t<tr><th scope=row>35</th><td>65         </td><td>-0.38569698</td><td>0.7258733  </td><td>0.7220163  </td></tr>\n",
       "\t<tr><th scope=row>36</th><td>66         </td><td>-0.28985091</td><td>0.7220163  </td><td>0.7191178  </td></tr>\n",
       "\t<tr><th scope=row>37</th><td>67         </td><td>-0.17017563</td><td>0.7191178  </td><td>0.7174161  </td></tr>\n",
       "\t<tr><th scope=row>38</th><td>68         </td><td>-0.03528344</td><td>0.7174161  </td><td>0.7170632  </td></tr>\n",
       "\t<tr><th scope=row>39</th><td>69         </td><td> 0.10527765</td><td>0.7170632  </td><td>0.7181160  </td></tr>\n",
       "</tbody>\n",
       "</table>\n"
      ],
      "text/latex": [
       "\\begin{tabular}{r|llll}\n",
       "  & bp\\_value & gradient & pre\\_val\\_left & pre\\_val\\_right\\\\\n",
       "\\hline\n",
       "\t21 & 51          & -0.26725026 & 0.7644893   & 0.7618168  \\\\\n",
       "\t22 & 52          & -0.18262335 & 0.7618168   & 0.7599906  \\\\\n",
       "\t23 & 53          & -0.12492383 & 0.7599906   & 0.7587413  \\\\\n",
       "\t24 & 54          & -0.09740732 & 0.7587413   & 0.7577673  \\\\\n",
       "\t25 & 55          & -0.09996291 & 0.7577673   & 0.7567676  \\\\\n",
       "\t26 & 56          & -0.12988791 & 0.7567676   & 0.7554688  \\\\\n",
       "\t27 & 57          & -0.18127050 & 0.7554688   & 0.7536561  \\\\\n",
       "\t28 & 58          & -0.24568426 & 0.7536561   & 0.7511992  \\\\\n",
       "\t29 & 59          & -0.31476682 & 0.7511992   & 0.7480516  \\\\\n",
       "\t30 & 60          & -0.38142549 & 0.7480516   & 0.7442373  \\\\\n",
       "\t31 & 61          & -0.43736331 & 0.7442373   & 0.7398637  \\\\\n",
       "\t32 & 62          & -0.47195096 & 0.7398637   & 0.7351442  \\\\\n",
       "\t33 & 63          & -0.47766165 & 0.7351442   & 0.7303675  \\\\\n",
       "\t34 & 64          & -0.44942271 & 0.7303675   & 0.7258733  \\\\\n",
       "\t35 & 65          & -0.38569698 & 0.7258733   & 0.7220163  \\\\\n",
       "\t36 & 66          & -0.28985091 & 0.7220163   & 0.7191178  \\\\\n",
       "\t37 & 67          & -0.17017563 & 0.7191178   & 0.7174161  \\\\\n",
       "\t38 & 68          & -0.03528344 & 0.7174161   & 0.7170632  \\\\\n",
       "\t39 & 69          &  0.10527765 & 0.7170632   & 0.7181160  \\\\\n",
       "\\end{tabular}\n"
      ],
      "text/markdown": [
       "\n",
       "| <!--/--> | bp_value | gradient | pre_val_left | pre_val_right | \n",
       "|---|---|---|---|---|---|---|---|---|---|---|---|---|---|---|---|---|---|---|\n",
       "| 21 | 51          | -0.26725026 | 0.7644893   | 0.7618168   | \n",
       "| 22 | 52          | -0.18262335 | 0.7618168   | 0.7599906   | \n",
       "| 23 | 53          | -0.12492383 | 0.7599906   | 0.7587413   | \n",
       "| 24 | 54          | -0.09740732 | 0.7587413   | 0.7577673   | \n",
       "| 25 | 55          | -0.09996291 | 0.7577673   | 0.7567676   | \n",
       "| 26 | 56          | -0.12988791 | 0.7567676   | 0.7554688   | \n",
       "| 27 | 57          | -0.18127050 | 0.7554688   | 0.7536561   | \n",
       "| 28 | 58          | -0.24568426 | 0.7536561   | 0.7511992   | \n",
       "| 29 | 59          | -0.31476682 | 0.7511992   | 0.7480516   | \n",
       "| 30 | 60          | -0.38142549 | 0.7480516   | 0.7442373   | \n",
       "| 31 | 61          | -0.43736331 | 0.7442373   | 0.7398637   | \n",
       "| 32 | 62          | -0.47195096 | 0.7398637   | 0.7351442   | \n",
       "| 33 | 63          | -0.47766165 | 0.7351442   | 0.7303675   | \n",
       "| 34 | 64          | -0.44942271 | 0.7303675   | 0.7258733   | \n",
       "| 35 | 65          | -0.38569698 | 0.7258733   | 0.7220163   | \n",
       "| 36 | 66          | -0.28985091 | 0.7220163   | 0.7191178   | \n",
       "| 37 | 67          | -0.17017563 | 0.7191178   | 0.7174161   | \n",
       "| 38 | 68          | -0.03528344 | 0.7174161   | 0.7170632   | \n",
       "| 39 | 69          |  0.10527765 | 0.7170632   | 0.7181160   | \n",
       "\n",
       "\n"
      ],
      "text/plain": [
       "   bp_value gradient    pre_val_left pre_val_right\n",
       "21 51       -0.26725026 0.7644893    0.7618168    \n",
       "22 52       -0.18262335 0.7618168    0.7599906    \n",
       "23 53       -0.12492383 0.7599906    0.7587413    \n",
       "24 54       -0.09740732 0.7587413    0.7577673    \n",
       "25 55       -0.09996291 0.7577673    0.7567676    \n",
       "26 56       -0.12988791 0.7567676    0.7554688    \n",
       "27 57       -0.18127050 0.7554688    0.7536561    \n",
       "28 58       -0.24568426 0.7536561    0.7511992    \n",
       "29 59       -0.31476682 0.7511992    0.7480516    \n",
       "30 60       -0.38142549 0.7480516    0.7442373    \n",
       "31 61       -0.43736331 0.7442373    0.7398637    \n",
       "32 62       -0.47195096 0.7398637    0.7351442    \n",
       "33 63       -0.47766165 0.7351442    0.7303675    \n",
       "34 64       -0.44942271 0.7303675    0.7258733    \n",
       "35 65       -0.38569698 0.7258733    0.7220163    \n",
       "36 66       -0.28985091 0.7220163    0.7191178    \n",
       "37 67       -0.17017563 0.7191178    0.7174161    \n",
       "38 68       -0.03528344 0.7174161    0.7170632    \n",
       "39 69        0.10527765 0.7170632    0.7181160    "
      ]
     },
     "metadata": {},
     "output_type": "display_data"
    }
   ],
   "source": [
    "# print(\"eICU\") # NA\n",
    "# eicu_grad <- find_gradient(b = gamfitMed_AKI_eICU_ADP_24h) \n",
    "# eicu_grad[(eicu_grad$bp_value< 60) & (eicu_grad$bp_value> 50),]\n",
    "# eicu_grad <- find_gradient(b = gamfitMed_AKI_eICU_ADP_48h) \n",
    "# eicu_grad[(eicu_grad$bp_value< 60) & (eicu_grad$bp_value> 50),]\n",
    "# eicu_grad <- find_gradient(b = gamfitMed_AKI_eICU_ADP_72h)\n",
    "# eicu_grad[(eicu_grad$bp_value< 60) & (eicu_grad$bp_value> 50),]\n",
    "\n",
    "print(\"MIMIC\") # 75mmHg, 76mmHg\n",
    "mimic_grad <- find_gradient(b = gamfitMed_AKI_MIMIC_ADP_24h)\n",
    "mimic_grad[(mimic_grad$bp_value< 60) & (mimic_grad$bp_value> 50),]\n",
    "mimic_grad <- find_gradient(b = gamfitMed_AKI_MIMIC_ADP_48h)         #58\n",
    "mimic_grad[(mimic_grad$bp_value< 70) & (mimic_grad$bp_value> 50),]\n",
    "mimic_grad <- find_gradient(b = gamfitMed_AKI_MIMIC_ADP_72h)         #58\n",
    "mimic_grad[(mimic_grad$bp_value< 70) & (mimic_grad$bp_value> 50),]\n"
   ]
  },
  {
   "cell_type": "markdown",
   "metadata": {},
   "source": [
    "# Hospital/ICU Mortality odds ratio for MBP 5-15% vs 35-45% in-range"
   ]
  },
  {
   "cell_type": "code",
   "execution_count": 530,
   "metadata": {},
   "outputs": [],
   "source": [
    "library(epitools)"
   ]
  },
  {
   "cell_type": "code",
   "execution_count": 63,
   "metadata": {},
   "outputs": [
    {
     "data": {
      "text/html": [
       "<table>\n",
       "<thead><tr><th scope=col>patientunitstayid</th><th scope=col>age</th><th scope=col>gender</th><th scope=col>ethnicity</th><th scope=col>unittype</th><th scope=col>icu_mortality</th><th scope=col>hospital_expire_flag</th><th scope=col>apache_iv</th><th scope=col>sofatotal</th><th scope=col>vasso_duration_24h</th><th scope=col>⋯</th><th scope=col>use_vasopressor</th><th scope=col>propBelow_map_24</th><th scope=col>propAbove_map_24</th><th scope=col>prop_map_24</th><th scope=col>propBelow_asp_24</th><th scope=col>propAbove_asp_24</th><th scope=col>prop_asp_24</th><th scope=col>propBelow_adp_24</th><th scope=col>propAbove_adp_24</th><th scope=col>prop_adp_24</th></tr></thead>\n",
       "<tbody>\n",
       "\t<tr><td>141194     </td><td>68         </td><td>M          </td><td>Caucasian  </td><td>CTICU      </td><td>0          </td><td>0          </td><td>70         </td><td> 3         </td><td> 0.00      </td><td>⋯          </td><td>0          </td><td>0.9583333  </td><td>0.0000000  </td><td>0.04166667 </td><td>0.7500000  </td><td>0.04166667 </td><td>0.2083333  </td><td>1.0000000  </td><td>0.000000000</td><td>0.00000000 </td></tr>\n",
       "\t<tr><td>141233     </td><td>81         </td><td>F          </td><td>Caucasian  </td><td>CTICU      </td><td>0          </td><td>0          </td><td>66         </td><td>12         </td><td>23.97      </td><td>⋯          </td><td>1          </td><td>0.3457944  </td><td>0.1495327  </td><td>0.50467290 </td><td>0.3271028  </td><td>0.45794393 </td><td>0.2149533  </td><td>0.9065421  </td><td>0.009345794</td><td>0.08411215 </td></tr>\n",
       "</tbody>\n",
       "</table>\n"
      ],
      "text/latex": [
       "\\begin{tabular}{r|llllllllllllllllllllllllllllllllllllllllllllll}\n",
       " patientunitstayid & age & gender & ethnicity & unittype & icu\\_mortality & hospital\\_expire\\_flag & apache\\_iv & sofatotal & vasso\\_duration\\_24h & ⋯ & use\\_vasopressor & propBelow\\_map\\_24 & propAbove\\_map\\_24 & prop\\_map\\_24 & propBelow\\_asp\\_24 & propAbove\\_asp\\_24 & prop\\_asp\\_24 & propBelow\\_adp\\_24 & propAbove\\_adp\\_24 & prop\\_adp\\_24\\\\\n",
       "\\hline\n",
       "\t 141194      & 68          & M           & Caucasian   & CTICU       & 0           & 0           & 70          &  3          &  0.00       & ⋯           & 0           & 0.9583333   & 0.0000000   & 0.04166667  & 0.7500000   & 0.04166667  & 0.2083333   & 1.0000000   & 0.000000000 & 0.00000000 \\\\\n",
       "\t 141233      & 81          & F           & Caucasian   & CTICU       & 0           & 0           & 66          & 12          & 23.97       & ⋯           & 1           & 0.3457944   & 0.1495327   & 0.50467290  & 0.3271028   & 0.45794393  & 0.2149533   & 0.9065421   & 0.009345794 & 0.08411215 \\\\\n",
       "\\end{tabular}\n"
      ],
      "text/markdown": [
       "\n",
       "patientunitstayid | age | gender | ethnicity | unittype | icu_mortality | hospital_expire_flag | apache_iv | sofatotal | vasso_duration_24h | ⋯ | use_vasopressor | propBelow_map_24 | propAbove_map_24 | prop_map_24 | propBelow_asp_24 | propAbove_asp_24 | prop_asp_24 | propBelow_adp_24 | propAbove_adp_24 | prop_adp_24 | \n",
       "|---|---|\n",
       "| 141194      | 68          | M           | Caucasian   | CTICU       | 0           | 0           | 70          |  3          |  0.00       | ⋯           | 0           | 0.9583333   | 0.0000000   | 0.04166667  | 0.7500000   | 0.04166667  | 0.2083333   | 1.0000000   | 0.000000000 | 0.00000000  | \n",
       "| 141233      | 81          | F           | Caucasian   | CTICU       | 0           | 0           | 66          | 12          | 23.97       | ⋯           | 1           | 0.3457944   | 0.1495327   | 0.50467290  | 0.3271028   | 0.45794393  | 0.2149533   | 0.9065421   | 0.009345794 | 0.08411215  | \n",
       "\n",
       "\n"
      ],
      "text/plain": [
       "  patientunitstayid age gender ethnicity unittype icu_mortality\n",
       "1 141194            68  M      Caucasian CTICU    0            \n",
       "2 141233            81  F      Caucasian CTICU    0            \n",
       "  hospital_expire_flag apache_iv sofatotal vasso_duration_24h ⋯ use_vasopressor\n",
       "1 0                    70         3         0.00              ⋯ 0              \n",
       "2 0                    66        12        23.97              ⋯ 1              \n",
       "  propBelow_map_24 propAbove_map_24 prop_map_24 propBelow_asp_24\n",
       "1 0.9583333        0.0000000        0.04166667  0.7500000       \n",
       "2 0.3457944        0.1495327        0.50467290  0.3271028       \n",
       "  propAbove_asp_24 prop_asp_24 propBelow_adp_24 propAbove_adp_24 prop_adp_24\n",
       "1 0.04166667       0.2083333   1.0000000        0.000000000      0.00000000 \n",
       "2 0.45794393       0.2149533   0.9065421        0.009345794      0.08411215 "
      ]
     },
     "metadata": {},
     "output_type": "display_data"
    }
   ],
   "source": [
    "head(df_eicu_prop, n = 2)"
   ]
  },
  {
   "cell_type": "markdown",
   "metadata": {},
   "source": [
    "### 24h eicu"
   ]
  },
  {
   "cell_type": "code",
   "execution_count": null,
   "metadata": {},
   "outputs": [],
   "source": [
    "\n",
    "a<-length(df_10[df_10$hospital_expire_flag==1,1]) # exposed\n",
    "c<-length(df_10[df_10$hospital_expire_flag==0,1])\n",
    "b<-length(df_40[df_40$hospital_expire_flag==1,1]) # control\n",
    "d<-length(df_40[df_40$hospital_expire_flag==0,1])\n",
    "print(c(a,b,c,d))\n",
    "a/(a+c)\n",
    "b/(b+d)\n",
    "oddsratio(matrix(c(a,b,c,d), ncol=2, nrow=2))\n"
   ]
  },
  {
   "cell_type": "code",
   "execution_count": 392,
   "metadata": {},
   "outputs": [],
   "source": [
    "criteria <-df_eicu_prop$ihd==1"
   ]
  },
  {
   "cell_type": "code",
   "execution_count": 393,
   "metadata": {},
   "outputs": [],
   "source": [
    "df_10<-df_eicu_prop[df_eicu_prop$prop_map_24>=0.1 & df_eicu_prop$prop_map_24<=0.3 & criteria,]\n",
    "df_40<-df_eicu_prop[df_eicu_prop$prop_map_24>=0.3 & df_eicu_prop$prop_map_24<=0.5 & criteria,]"
   ]
  },
  {
   "cell_type": "code",
   "execution_count": 395,
   "metadata": {},
   "outputs": [],
   "source": [
    "df_10<-df_eicu_prop[df_eicu_prop$prop_asp_24>=0.1 & df_eicu_prop$prop_asp_24<=0.3 & criteria,]\n",
    "df_40<-df_eicu_prop[df_eicu_prop$prop_asp_24>=0.3 & df_eicu_prop$prop_asp_24<=0.5 & criteria,]"
   ]
  },
  {
   "cell_type": "code",
   "execution_count": 397,
   "metadata": {},
   "outputs": [],
   "source": [
    "df_10<-df_eicu_prop[df_eicu_prop$prop_adp_24>=0.1 & df_eicu_prop$prop_adp_24<=0.3 & criteria,]\n",
    "df_40<-df_eicu_prop[df_eicu_prop$prop_adp_24>=0.3 & df_eicu_prop$prop_adp_24<=0.5 & criteria,]"
   ]
  },
  {
   "cell_type": "code",
   "execution_count": 398,
   "metadata": {},
   "outputs": [
    {
     "name": "stdout",
     "output_type": "stream",
     "text": [
      "[1]   3  12  96 163\n"
     ]
    },
    {
     "data": {
      "text/html": [
       "0.0303030303030303"
      ],
      "text/latex": [
       "0.0303030303030303"
      ],
      "text/markdown": [
       "0.0303030303030303"
      ],
      "text/plain": [
       "[1] 0.03030303"
      ]
     },
     "metadata": {},
     "output_type": "display_data"
    },
    {
     "data": {
      "text/html": [
       "0.0685714285714286"
      ],
      "text/latex": [
       "0.0685714285714286"
      ],
      "text/markdown": [
       "0.0685714285714286"
      ],
      "text/plain": [
       "[1] 0.06857143"
      ]
     },
     "metadata": {},
     "output_type": "display_data"
    },
    {
     "data": {
      "text/html": [
       "<dl>\n",
       "\t<dt>$data</dt>\n",
       "\t\t<dd><table>\n",
       "<thead><tr><th></th><th scope=col>Disease1</th><th scope=col>Disease2</th><th scope=col>Total</th></tr></thead>\n",
       "<tbody>\n",
       "\t<tr><th scope=row>Exposed1</th><td> 3 </td><td> 96</td><td> 99</td></tr>\n",
       "\t<tr><th scope=row>Exposed2</th><td>12 </td><td>163</td><td>175</td></tr>\n",
       "\t<tr><th scope=row>Total</th><td>15 </td><td>259</td><td>274</td></tr>\n",
       "</tbody>\n",
       "</table>\n",
       "</dd>\n",
       "\t<dt>$measure</dt>\n",
       "\t\t<dd><table>\n",
       "<thead><tr><th></th><th scope=col>estimate</th><th scope=col>lower</th><th scope=col>upper</th></tr></thead>\n",
       "<tbody>\n",
       "\t<tr><th scope=row>Exposed1</th><td>1.0000000 </td><td>        NA</td><td>      NA  </td></tr>\n",
       "\t<tr><th scope=row>Exposed2</th><td>0.4415322 </td><td>0.09421387</td><td>1.454054  </td></tr>\n",
       "</tbody>\n",
       "</table>\n",
       "</dd>\n",
       "\t<dt>$p.value</dt>\n",
       "\t\t<dd><table>\n",
       "<thead><tr><th></th><th scope=col>midp.exact</th><th scope=col>fisher.exact</th><th scope=col>chi.square</th></tr></thead>\n",
       "<tbody>\n",
       "\t<tr><th scope=row>Exposed1</th><td>       NA</td><td>       NA</td><td>       NA</td></tr>\n",
       "\t<tr><th scope=row>Exposed2</th><td>0.1906069</td><td>0.2694999</td><td>0.1809963</td></tr>\n",
       "</tbody>\n",
       "</table>\n",
       "</dd>\n",
       "\t<dt>$correction</dt>\n",
       "\t\t<dd>FALSE</dd>\n",
       "</dl>\n"
      ],
      "text/latex": [
       "\\begin{description}\n",
       "\\item[\\$data] \\begin{tabular}{r|lll}\n",
       "  & Disease1 & Disease2 & Total\\\\\n",
       "\\hline\n",
       "\tExposed1 &  3  &  96 &  99\\\\\n",
       "\tExposed2 & 12  & 163 & 175\\\\\n",
       "\tTotal & 15  & 259 & 274\\\\\n",
       "\\end{tabular}\n",
       "\n",
       "\\item[\\$measure] \\begin{tabular}{r|lll}\n",
       "  & estimate & lower & upper\\\\\n",
       "\\hline\n",
       "\tExposed1 & 1.0000000  &         NA &       NA  \\\\\n",
       "\tExposed2 & 0.4415322  & 0.09421387 & 1.454054  \\\\\n",
       "\\end{tabular}\n",
       "\n",
       "\\item[\\$p.value] \\begin{tabular}{r|lll}\n",
       "  & midp.exact & fisher.exact & chi.square\\\\\n",
       "\\hline\n",
       "\tExposed1 &        NA &        NA &        NA\\\\\n",
       "\tExposed2 & 0.1906069 & 0.2694999 & 0.1809963\\\\\n",
       "\\end{tabular}\n",
       "\n",
       "\\item[\\$correction] FALSE\n",
       "\\end{description}\n"
      ],
      "text/markdown": [
       "$data\n",
       ":   \n",
       "| <!--/--> | Disease1 | Disease2 | Total | \n",
       "|---|---|---|\n",
       "| Exposed1 |  3  |  96 |  99 | \n",
       "| Exposed2 | 12  | 163 | 175 | \n",
       "| Total | 15  | 259 | 274 | \n",
       "\n",
       "\n",
       "\n",
       "$measure\n",
       ":   \n",
       "| <!--/--> | estimate | lower | upper | \n",
       "|---|---|\n",
       "| Exposed1 | 1.0000000  |         NA |       NA   | \n",
       "| Exposed2 | 0.4415322  | 0.09421387 | 1.454054   | \n",
       "\n",
       "\n",
       "\n",
       "$p.value\n",
       ":   \n",
       "| <!--/--> | midp.exact | fisher.exact | chi.square | \n",
       "|---|---|\n",
       "| Exposed1 |        NA |        NA |        NA | \n",
       "| Exposed2 | 0.1906069 | 0.2694999 | 0.1809963 | \n",
       "\n",
       "\n",
       "\n",
       "$correction\n",
       ":   FALSE\n",
       "\n",
       "\n"
      ],
      "text/plain": [
       "$data\n",
       "          Outcome\n",
       "Predictor  Disease1 Disease2 Total\n",
       "  Exposed1        3       96    99\n",
       "  Exposed2       12      163   175\n",
       "  Total          15      259   274\n",
       "\n",
       "$measure\n",
       "          odds ratio with 95% C.I.\n",
       "Predictor   estimate      lower    upper\n",
       "  Exposed1 1.0000000         NA       NA\n",
       "  Exposed2 0.4415322 0.09421387 1.454054\n",
       "\n",
       "$p.value\n",
       "          two-sided\n",
       "Predictor  midp.exact fisher.exact chi.square\n",
       "  Exposed1         NA           NA         NA\n",
       "  Exposed2  0.1906069    0.2694999  0.1809963\n",
       "\n",
       "$correction\n",
       "[1] FALSE\n",
       "\n",
       "attr(,\"method\")\n",
       "[1] \"median-unbiased estimate & mid-p exact CI\""
      ]
     },
     "metadata": {},
     "output_type": "display_data"
    }
   ],
   "source": [
    "a<-length(df_10[df_10$icu_mortality==1,1]) # exposed\n",
    "c<-length(df_10[df_10$icu_mortality==0,1])\n",
    "b<-length(df_40[df_40$icu_mortality==1,1]) # control\n",
    "d<-length(df_40[df_40$icu_mortality==0,1])\n",
    "print(c(a,b,c,d))\n",
    "a/(a+c)\n",
    "b/(b+d)\n",
    "oddsratio(matrix(c(a,b,c,d), ncol=2, nrow=2))"
   ]
  },
  {
   "cell_type": "code",
   "execution_count": 612,
   "metadata": {},
   "outputs": [],
   "source": [
    "c1 <- df_mimic_prop$vasso_duration_24h>0\n",
    "c2 <- df_mimic_prop$unittype=='MICU'\n",
    "c3 <- df_mimic_prop$unittype=='Cardiac ICU'\n",
    "c4 <- df_mimic_prop$unittype=='CSICU'\n",
    "c5 <- df_mimic_prop$unittype=='Med-Surg ICU'\n",
    "c6 <- df_mimic_prop$unittype=='CTICU'\n",
    "Criterias <- data.frame(\"C4\"=c1)\n",
    "# Criterias <- data.frame(\"c1\"=c1, \"c2\"=c2,\"C3\" = c3, \"C4\"=c4, \"C5\" = c5, \"C6\"=c6)\n",
    "Hosp_OR<- list()\n",
    "Hosp_LCI<-list()\n",
    "Hosp_UCI<-list()\n",
    "Hosp_pvalue<-list()\n",
    "i=1\n",
    "j=1\n",
    "while (i <= length(Criterias)){\n",
    "    \n",
    "    # MAP48\n",
    "    df_10<-df_mimic_prop[df_mimic_prop$prop_map_24>=0.05 & df_mimic_prop$prop_map_24<=0.15 & Criterias[,i],]\n",
    "    df_40<-df_mimic_prop[df_mimic_prop$prop_map_24>=0.35 & df_mimic_prop$prop_map_24<=0.45 & Criterias[,i],]\n",
    "    a<-length(df_10[df_10$icu_mortality==1,1]) # exposed\n",
    "    c<-length(df_10[df_10$icu_mortality==0,1])\n",
    "    b<-length(df_40[df_40$icu_mortality==1,1]) # control\n",
    "    d<-length(df_40[df_40$icu_mortality==0,1])\n",
    "    df_OR<-oddsratio(matrix(c(a,b,c,d), ncol=2, nrow=2))\n",
    "    Hosp_OR[j+1]<-df_OR$measure[2]\n",
    "    Hosp_LCI[j+1]<-df_OR$measure[4]\n",
    "    Hosp_UCI[j+1]<-df_OR$measure[6]\n",
    "    Hosp_pvalue[j+1]<-df_OR$p.value[4]\n",
    "    \n",
    "   \n",
    "    # SBP48\n",
    "    df_10<-df_mimic_prop[df_mimic_prop$prop_asp_24>=0.05 & df_mimic_prop$prop_asp_24<=0.15 & Criterias[,i],]\n",
    "    df_40<-df_mimic_prop[df_mimic_prop$prop_asp_24>=0.35 & df_mimic_prop$prop_asp_24<=0.45 & Criterias[,i],]\n",
    "    a<-length(df_10[df_10$icu_mortality==1,1]) # exposed\n",
    "    c<-length(df_10[df_10$icu_mortality==0,1])\n",
    "    b<-length(df_40[df_40$icu_mortality==1,1]) # control\n",
    "    d<-length(df_40[df_40$icu_mortality==0,1])\n",
    "    df_OR<-oddsratio(matrix(c(a,b,c,d), ncol=2, nrow=2))\n",
    "    Hosp_OR[j+4]<-df_OR$measure[2]\n",
    "    Hosp_LCI[j+4]<-df_OR$measure[4]\n",
    "    Hosp_UCI[j+4]<-df_OR$measure[6]\n",
    "    Hosp_pvalue[j+4]<-df_OR$p.value[4]\n",
    "    \n",
    "   \n",
    "    # DBP48\n",
    "    df_10<-df_mimic_prop[df_mimic_prop$prop_adp_24>=0.1 & df_mimic_prop$prop_adp_24<=0.3 & Criterias[,i],]\n",
    "    df_40<-df_mimic_prop[df_mimic_prop$prop_adp_24>=0.3 & df_mimic_prop$prop_adp_24<=0.5 & Criterias[,i],]\n",
    "    a<-length(df_10[df_10$icu_mortality==1,1]) # exposed\n",
    "    c<-length(df_10[df_10$icu_mortality==0,1])\n",
    "    b<-length(df_40[df_40$icu_mortality==1,1]) # control\n",
    "    d<-length(df_40[df_40$icu_mortality==0,1])\n",
    "    df_OR<-oddsratio(matrix(c(a,b,c,d), ncol=2, nrow=2))\n",
    "    Hosp_OR[j+7]<-df_OR$measure[2]\n",
    "    Hosp_LCI[j+7]<-df_OR$measure[4]\n",
    "    Hosp_UCI[j+7]<-df_OR$measure[6]\n",
    "    Hosp_pvalue[j+7]<-df_OR$p.value[4]\n",
    "   \n",
    "    df_OR_CI <- data.frame(\"OR\" = unlist(Hosp_OR, use.names=FALSE), \n",
    "                        \"LCI\" = unlist(Hosp_LCI, use.names=FALSE)\n",
    "                       , \"UCI\" = unlist(Hosp_UCI, use.names=FALSE)\n",
    "                       , \"pvalue\" = unlist(Hosp_pvalue, use.names=FALSE))\n",
    "    i <-i+1\n",
    "    j <-j+9\n",
    "    \n",
    "}"
   ]
  },
  {
   "cell_type": "code",
   "execution_count": 613,
   "metadata": {},
   "outputs": [
    {
     "data": {
      "text/html": [
       "<table>\n",
       "<thead><tr><th scope=col>OR</th><th scope=col>LCI</th><th scope=col>UCI</th><th scope=col>pvalue</th></tr></thead>\n",
       "<tbody>\n",
       "\t<tr><td>2.394042    </td><td>1.827023    </td><td>3.129435    </td><td>5.115070e-10</td></tr>\n",
       "\t<tr><td>1.886656    </td><td>1.386548    </td><td>2.612293    </td><td>4.276908e-05</td></tr>\n",
       "\t<tr><td>1.394144    </td><td>1.149497    </td><td>1.689360    </td><td>7.831663e-04</td></tr>\n",
       "</tbody>\n",
       "</table>\n"
      ],
      "text/latex": [
       "\\begin{tabular}{r|llll}\n",
       " OR & LCI & UCI & pvalue\\\\\n",
       "\\hline\n",
       "\t 2.394042     & 1.827023     & 3.129435     & 5.115070e-10\\\\\n",
       "\t 1.886656     & 1.386548     & 2.612293     & 4.276908e-05\\\\\n",
       "\t 1.394144     & 1.149497     & 1.689360     & 7.831663e-04\\\\\n",
       "\\end{tabular}\n"
      ],
      "text/markdown": [
       "\n",
       "OR | LCI | UCI | pvalue | \n",
       "|---|---|---|\n",
       "| 2.394042     | 1.827023     | 3.129435     | 5.115070e-10 | \n",
       "| 1.886656     | 1.386548     | 2.612293     | 4.276908e-05 | \n",
       "| 1.394144     | 1.149497     | 1.689360     | 7.831663e-04 | \n",
       "\n",
       "\n"
      ],
      "text/plain": [
       "  OR       LCI      UCI      pvalue      \n",
       "1 2.394042 1.827023 3.129435 5.115070e-10\n",
       "2 1.886656 1.386548 2.612293 4.276908e-05\n",
       "3 1.394144 1.149497 1.689360 7.831663e-04"
      ]
     },
     "metadata": {},
     "output_type": "display_data"
    }
   ],
   "source": [
    "df_OR_CI"
   ]
  },
  {
   "cell_type": "code",
   "execution_count": null,
   "metadata": {},
   "outputs": [],
   "source": [
    "c1 <- df_mimic_prop$copd==1\n",
    "# c2 <- df_mimic_prop$stroke==0\n",
    "# c3 <- df_mimic_prop$ihd==1\n",
    "# c4 <- df_mimic_prop$diabetes==1\n",
    "# c5 <- df_mimic_prop$cancer==0\n",
    "# c6 <- df_mimic_prop$bmi<30\n",
    "# Criterias <- data.frame(\"C4\"=c4)\n",
    "# Criterias <- data.frame(\"c1\"=c1, \"c2\"=c2)\n",
    "# \n",
    "# , \"C4\"=c4,  \"C5\" = c5, \"C6\"=c6 )\n",
    "# Criterias <- data.frame(\"c1\"=c1,\"c2\"=c2,\"C3\" = c3, \"c4\"=c4, \"C5\" = c5 , \"c6\"=c6)\n",
    "Criterias <- data.frame(\"C3\" = c1)\n",
    "Hosp_OR<- list()\n",
    "Hosp_LCI<-list()\n",
    "Hosp_UCI<-list()\n",
    "Hosp_pvalue<-list()\n",
    "i=1\n",
    "j=1\n",
    "while (i <= length(Criterias)){\n",
    "    # MAP 24\n",
    "    df_10<-df_mimic_prop[df_mimic_prop$prop_map_24>=0.1 & df_mimic_prop$prop_map_24<=0.3 & Criterias[,i],]\n",
    "    df_40<-df_mimic_prop[df_mimic_prop$prop_map_24>=0.3 & df_mimic_prop$prop_map_24<=0.5 & Criterias[,i],]\n",
    "    a<-length(df_10[df_10$icu_mortality==1,1]) # exposed\n",
    "    c<-length(df_10[df_10$icu_mortality==0,1])\n",
    "    b<-length(df_40[df_40$icu_mortality==1,1]) # control\n",
    "    d<-length(df_40[df_40$icu_mortality==0,1])\n",
    "    df_OR<-oddsratio(matrix(c(a,b,c,d), ncol=2, nrow=2))\n",
    "    Hosp_OR[j]<-df_OR$measure[2]\n",
    "    Hosp_LCI[j]<-df_OR$measure[4]\n",
    "    Hosp_UCI[j]<-df_OR$measure[6]\n",
    "    Hosp_pvalue[j]<-df_OR$p.value[4]\n",
    "    # MAP48\n",
    "    df_10<-df_mimic_prop_48[df_mimic_prop_48$prop_map_48>=0.1 & df_mimic_prop_48$prop_map_48<=0.3 & Criterias[,i],]\n",
    "    df_40<-df_mimic_prop_48[df_mimic_prop_48$prop_map_48>=0.3 & df_mimic_prop_48$prop_map_48<=0.5 & Criterias[,i],]\n",
    "    a<-length(df_10[df_10$icu_mortality==1,1]) # exposed\n",
    "    c<-length(df_10[df_10$icu_mortality==0,1])\n",
    "    b<-length(df_40[df_40$icu_mortality==1,1]) # control\n",
    "    d<-length(df_40[df_40$icu_mortality==0,1])\n",
    "    df_OR<-oddsratio(matrix(c(a,b,c,d), ncol=2, nrow=2))\n",
    "    Hosp_OR[j+1]<-df_OR$measure[2]\n",
    "    Hosp_LCI[j+1]<-df_OR$measure[4]\n",
    "    Hosp_UCI[j+1]<-df_OR$measure[6]\n",
    "    Hosp_pvalue[j+1]<-df_OR$p.value[4]\n",
    "    # MAP72\n",
    "    df_10<-df_mimic_prop_72[df_mimic_prop_72$prop_map_72>=0.1 & df_mimic_prop_72$prop_map_72<=0.3 & Criterias[,i],]\n",
    "    df_40<-df_mimic_prop_72[df_mimic_prop_72$prop_map_72>=0.3 & df_mimic_prop_72$prop_map_72<=0.5 & Criterias[,i],]\n",
    "    a<-length(df_10[df_10$icu_mortality==1,1]) # exposed\n",
    "    c<-length(df_10[df_10$icu_mortality==0,1])\n",
    "    b<-length(df_40[df_40$icu_mortality==1,1]) # control\n",
    "    d<-length(df_40[df_40$icu_mortality==0,1])\n",
    "    df_OR<-oddsratio(matrix(c(a,b,c,d), ncol=2, nrow=2))\n",
    "    Hosp_OR[j+2]<-df_OR$measure[2]\n",
    "    Hosp_LCI[j+2]<-df_OR$measure[4]\n",
    "    Hosp_UCI[j+2]<-df_OR$measure[6]\n",
    "    Hosp_pvalue[j+2]<-df_OR$p.value[4]\n",
    "    # SBP 24\n",
    "    df_10<-df_mimic_prop[df_mimic_prop$prop_asp_24>=0.1 & df_mimic_prop$prop_asp_24<=0.3 & Criterias[,i],]\n",
    "    df_40<-df_mimic_prop[df_mimic_prop$prop_asp_24>=0.3 & df_mimic_prop$prop_asp_24<=0.5 & Criterias[,i],]\n",
    "    a<-length(df_10[df_10$icu_mortality==1,1]) # exposed\n",
    "    c<-length(df_10[df_10$icu_mortality==0,1])\n",
    "    b<-length(df_40[df_40$icu_mortality==1,1]) # control\n",
    "    d<-length(df_40[df_40$icu_mortality==0,1])\n",
    "    df_OR<-oddsratio(matrix(c(a,b,c,d), ncol=2, nrow=2))\n",
    "    Hosp_OR[j+3]<-df_OR$measure[2]\n",
    "    Hosp_LCI[j+3]<-df_OR$measure[4]\n",
    "    Hosp_UCI[j+3]<-df_OR$measure[6]\n",
    "    Hosp_pvalue[j+3]<-df_OR$p.value[4]\n",
    "    \n",
    "    # SBP48\n",
    "    df_10<-df_mimic_prop_48[df_mimic_prop_48$prop_asp_48>=0.1 & df_mimic_prop_48$prop_asp_48<=0.3 & Criterias[,i],]\n",
    "    df_40<-df_mimic_prop_48[df_mimic_prop_48$prop_asp_48>=0.3 & df_mimic_prop_48$prop_asp_48<=0.5 & Criterias[,i],]\n",
    "    a<-length(df_10[df_10$icu_mortality==1,1]) # exposed\n",
    "    c<-length(df_10[df_10$icu_mortality==0,1])\n",
    "    b<-length(df_40[df_40$icu_mortality==1,1]) # control\n",
    "    d<-length(df_40[df_40$icu_mortality==0,1])\n",
    "    df_OR<-oddsratio(matrix(c(a,b,c,d), ncol=2, nrow=2))\n",
    "    Hosp_OR[j+4]<-df_OR$measure[2]\n",
    "    Hosp_LCI[j+4]<-df_OR$measure[4]\n",
    "    Hosp_UCI[j+4]<-df_OR$measure[6]\n",
    "    Hosp_pvalue[j+4]<-df_OR$p.value[4]\n",
    "    \n",
    "    # SBP72\n",
    "    df_10<-df_mimic_prop_72[df_mimic_prop_72$prop_asp_72>=0.1 & df_mimic_prop_72$prop_asp_72<=0.3 & Criterias[,i],]\n",
    "    df_40<-df_mimic_prop_72[df_mimic_prop_72$prop_asp_72>=0.3 & df_mimic_prop_72$prop_asp_72<=0.5 & Criterias[,i],]\n",
    "    a<-length(df_10[df_10$icu_mortality==1,1]) # exposed\n",
    "    c<-length(df_10[df_10$icu_mortality==0,1])\n",
    "    b<-length(df_40[df_40$icu_mortality==1,1]) # control\n",
    "    d<-length(df_40[df_40$icu_mortality==0,1])\n",
    "    df_OR<-oddsratio(matrix(c(a,b,c,d), ncol=2, nrow=2))\n",
    "    Hosp_OR[j+5]<-df_OR$measure[2]\n",
    "    Hosp_LCI[j+5]<-df_OR$measure[4]\n",
    "    Hosp_UCI[j+5]<-df_OR$measure[6]\n",
    "    Hosp_pvalue[j+5]<-df_OR$p.value[4]\n",
    "    # DBP 24\n",
    "    df_10<-df_mimic_prop[df_mimic_prop$prop_adp_24>=0.1 & df_mimic_prop$prop_adp_24<=0.3 & Criterias[,i],]\n",
    "    df_40<-df_mimic_prop[df_mimic_prop$prop_adp_24>=0.3 & df_mimic_prop$prop_adp_24<=0.5 & Criterias[,i],]\n",
    "    a<-length(df_10[df_10$icu_mortality==1,1]) # exposed\n",
    "    c<-length(df_10[df_10$icu_mortality==0,1])\n",
    "    b<-length(df_40[df_40$icu_mortality==1,1]) # control\n",
    "    d<-length(df_40[df_40$icu_mortality==0,1])\n",
    "    df_OR<-oddsratio(matrix(c(a,b,c,d), ncol=2, nrow=2))\n",
    "    Hosp_OR[j+6]<-df_OR$measure[2]\n",
    "    Hosp_LCI[j+6]<-df_OR$measure[4]\n",
    "    Hosp_UCI[j+6]<-df_OR$measure[6]\n",
    "    Hosp_pvalue[j+6]<-df_OR$p.value[4]\n",
    "    # DBP48\n",
    "    df_10<-df_mimic_prop_48[df_mimic_prop_48$prop_adp_48>=0.1 & df_mimic_prop_48$prop_adp_48<=0.3 & Criterias[,i],]\n",
    "    df_40<-df_mimic_prop_48[df_mimic_prop_48$prop_adp_48>=0.3 & df_mimic_prop_48$prop_adp_48<=0.5 & Criterias[,i],]\n",
    "    a<-length(df_10[df_10$icu_mortality==1,1]) # exposed\n",
    "    c<-length(df_10[df_10$icu_mortality==0,1])\n",
    "    b<-length(df_40[df_40$icu_mortality==1,1]) # control\n",
    "    d<-length(df_40[df_40$icu_mortality==0,1])\n",
    "    df_OR<-oddsratio(matrix(c(a,b,c,d), ncol=2, nrow=2))\n",
    "    Hosp_OR[j+7]<-df_OR$measure[2]\n",
    "    Hosp_LCI[j+7]<-df_OR$measure[4]\n",
    "    Hosp_UCI[j+7]<-df_OR$measure[6]\n",
    "    Hosp_pvalue[j+7]<-df_OR$p.value[4]\n",
    "    # DBP49\n",
    "    df_10<-df_mimic_prop_72[df_mimic_prop_72$prop_adp_72>=0.1 & df_mimic_prop_72$prop_adp_72<=0.3 & Criterias[,i],]\n",
    "    df_40<-df_mimic_prop_72[df_mimic_prop_72$prop_adp_72>=0.3 & df_mimic_prop_72$prop_adp_72<=0.5 & Criterias[,i],]\n",
    "    a<-length(df_10[df_10$icu_mortality==1,1]) # exposed\n",
    "    c<-length(df_10[df_10$icu_mortality==0,1])\n",
    "    b<-length(df_40[df_40$icu_mortality==1,1]) # control\n",
    "    d<-length(df_40[df_40$icu_mortality==0,1])\n",
    "    df_OR<-oddsratio(matrix(c(a,b,c,d), ncol=2, nrow=2))\n",
    "    Hosp_OR[j+8]<-df_OR$measure[2]\n",
    "    Hosp_LCI[j+8]<-df_OR$measure[4]\n",
    "    Hosp_UCI[j+8]<-df_OR$measure[6]\n",
    "    Hosp_pvalue[j+8]<-df_OR$p.value[4]\n",
    "    df_OR_CI <- data.frame(\"OR\" = unlist(Hosp_OR, use.names=FALSE), \n",
    "                        \"LCI\" = unlist(Hosp_LCI, use.names=FALSE)\n",
    "                       , \"UCI\" = unlist(Hosp_UCI, use.names=FALSE)\n",
    "                       , \"pvalue\" = unlist(Hosp_pvalue, use.names=FALSE))\n",
    "    i <-i+1\n",
    "    j <-j+9\n",
    "    \n",
    "}"
   ]
  },
  {
   "cell_type": "code",
   "execution_count": 1364,
   "metadata": {},
   "outputs": [],
   "source": [
    "c1 <- df_mimic_prop_72$sepsis==1\n",
    "c2 <- df_mimic_prop_72$sepsis==0\n",
    "# c3 <- df_mimic_prop_72$ihd==1\n",
    "# c4 <- df_mimic_prop_72$ihd==0\n",
    "\n",
    "# c5 <- df_mimic_prop_72$cancer==0\n",
    "# c6 <- df_mimic_prop_72$unittype==\"SICU\"\n",
    "# c7 <- df_mimic_prop_72$unittype==\"MICU\"\n",
    "# c8<-  df_mimic_prop_72$unittype==\"Cardiac ICU\"\n",
    "# c9<-  df_mimic_prop_72$unittype==\"CSICU\"\n",
    "# c10<-  df_mimic_prop_72$unittype==\"Med-Surg ICU\"\n",
    "# c11<- df_mimic_prop_72$unittype==\"CTICU\"\n",
    "# c12<- df_mimic_prop_72$unittype==\"CCU-CTICU\"\n",
    "# c13<-df_mimic_prop_72$unittype==\"Neuro ICU\"\n",
    "# Criterias <- data.frame(\"c2\"=c4)\n",
    "# Criterias <- data.frame(\"c1\"=c1,\"c2\"=c2,\"C3\" = c3, \"c4\"=c4, \"C5\" = c5 , \"c6\"=c6,\"c7\"=c7, \"c8\"=c8,\"c9\"=c9,\n",
    "#                         \"c10\"=c10,\"c11\"=c11, \"c12\"=c12,\"c13\"=c13)\n",
    "Criterias <- data.frame( \"c1\"=c1,\"c2\"=c2)\n",
    "# Criterias <- data.frame( \"c2\"=c03)\n",
    "Hosp_OR<- list()\n",
    "Hosp_LCI<-list()\n",
    "Hosp_UCI<-list()\n",
    "Hosp_pvalue<-list()\n",
    "i=1\n",
    "j=1\n",
    "while (i <= length(Criterias)){\n",
    "    # MAP 24\n",
    "    df_10<-df_mimic_prop_72[df_mimic_prop_72$prop_map_72>=0.05 & df_mimic_prop_72$prop_map_72<=0.15 & Criterias[,i],]\n",
    "    df_40<-df_mimic_prop_72[df_mimic_prop_72$prop_map_72>=0.35 & df_mimic_prop_72$prop_map_72<=0.45 & Criterias[,i],]\n",
    "    a<-length(df_10[df_10$hospital_expire_flag==1,1]) # exposed\n",
    "    c<-length(df_10[df_10$hospital_expire_flag==0,1])\n",
    "    b<-length(df_40[df_40$hospital_expire_flag==1,1]) # control\n",
    "    d<-length(df_40[df_40$hospital_expire_flag==0,1])\n",
    "    df_OR<-oddsratio(matrix(c(a,b,c,d), ncol=2, nrow=2))\n",
    "    Hosp_OR[j]<-df_OR$measure[2]\n",
    "    Hosp_LCI[j]<-df_OR$measure[4]\n",
    "    Hosp_UCI[j]<-df_OR$measure[6]\n",
    "    Hosp_pvalue[j]<-df_OR$p.value[4]\n",
    "\n",
    "    # SBP 24\n",
    "    df_10<-df_mimic_prop_72[df_mimic_prop_72$prop_asp_72>=0.05 & df_mimic_prop_72$prop_asp_72<=0.15 & Criterias[,i],]\n",
    "    df_40<-df_mimic_prop_72[df_mimic_prop_72$prop_asp_72>=0.35 & df_mimic_prop_72$prop_asp_72<=0.45 & Criterias[,i],]\n",
    "    a<-length(df_10[df_10$hospital_expire_flag==1,1]) # exposed\n",
    "    c<-length(df_10[df_10$hospital_expire_flag==0,1])\n",
    "    b<-length(df_40[df_40$hospital_expire_flag==1,1]) # control\n",
    "    d<-length(df_40[df_40$hospital_expire_flag==0,1])\n",
    "    df_OR<-oddsratio(matrix(c(a,b,c,d), ncol=2, nrow=2))\n",
    "    Hosp_OR[j+1]<-df_OR$measure[2]\n",
    "    Hosp_LCI[j+1]<-df_OR$measure[4]\n",
    "    Hosp_UCI[j+1]<-df_OR$measure[6]\n",
    "    Hosp_pvalue[j+1]<-df_OR$p.value[4]\n",
    "\n",
    "    # DBP 24\n",
    "    df_10<-df_mimic_prop_72[df_mimic_prop_72$prop_adp_72>=0.05 & df_mimic_prop_72$prop_adp_72<=0.15 & Criterias[,i],]\n",
    "    df_40<-df_mimic_prop_72[df_mimic_prop_72$prop_adp_72>=0.35 & df_mimic_prop_72$prop_adp_72<=0.45 & Criterias[,i],]\n",
    "    a<-length(df_10[df_10$hospital_expire_flag==1,1]) # exposed\n",
    "    c<-length(df_10[df_10$hospital_expire_flag==0,1])\n",
    "    b<-length(df_40[df_40$hospital_expire_flag==1,1]) # control\n",
    "    d<-length(df_40[df_40$hospital_expire_flag==0,1])\n",
    "    df_OR<-oddsratio(matrix(c(a,b,c,d), ncol=2, nrow=2))\n",
    "    Hosp_OR[j+2]<-df_OR$measure[2]\n",
    "    Hosp_LCI[j+2]<-df_OR$measure[4]\n",
    "    Hosp_UCI[j+2]<-df_OR$measure[6]\n",
    "    Hosp_pvalue[j+2]<-df_OR$p.value[4]\n",
    "\n",
    "    df_OR_CI <- data.frame(\"OR\" = unlist(Hosp_OR, use.names=FALSE), \n",
    "                        \"LCI\" = unlist(Hosp_LCI, use.names=FALSE)\n",
    "                       , \"UCI\" = unlist(Hosp_UCI, use.names=FALSE)\n",
    "                       , \"pvalue\" = unlist(Hosp_pvalue, use.names=FALSE))\n",
    "    i <-i+1\n",
    "    j <-j+3\n",
    "    \n",
    "}"
   ]
  },
  {
   "cell_type": "code",
   "execution_count": 1365,
   "metadata": {},
   "outputs": [
    {
     "data": {
      "text/html": [
       "<table>\n",
       "<thead><tr><th scope=col>OR</th><th scope=col>LCI</th><th scope=col>UCI</th><th scope=col>pvalue</th></tr></thead>\n",
       "<tbody>\n",
       "\t<tr><td>1.0201620   </td><td>0.7934406   </td><td>1.3075435   </td><td>8.986469e-01</td></tr>\n",
       "\t<tr><td>1.3203193   </td><td>0.9399969   </td><td>1.8878499   </td><td>1.310815e-01</td></tr>\n",
       "\t<tr><td>0.7013307   </td><td>0.5305482   </td><td>0.9217588   </td><td>1.174318e-02</td></tr>\n",
       "\t<tr><td>2.5963629   </td><td>2.0014503   </td><td>3.3737316   </td><td>9.362903e-13</td></tr>\n",
       "\t<tr><td>2.8453902   </td><td>1.9150923   </td><td>4.4110251   </td><td>3.119524e-08</td></tr>\n",
       "\t<tr><td>1.7697224   </td><td>1.3363373   </td><td>2.3417451   </td><td>7.991051e-05</td></tr>\n",
       "</tbody>\n",
       "</table>\n"
      ],
      "text/latex": [
       "\\begin{tabular}{r|llll}\n",
       " OR & LCI & UCI & pvalue\\\\\n",
       "\\hline\n",
       "\t 1.0201620    & 0.7934406    & 1.3075435    & 8.986469e-01\\\\\n",
       "\t 1.3203193    & 0.9399969    & 1.8878499    & 1.310815e-01\\\\\n",
       "\t 0.7013307    & 0.5305482    & 0.9217588    & 1.174318e-02\\\\\n",
       "\t 2.5963629    & 2.0014503    & 3.3737316    & 9.362903e-13\\\\\n",
       "\t 2.8453902    & 1.9150923    & 4.4110251    & 3.119524e-08\\\\\n",
       "\t 1.7697224    & 1.3363373    & 2.3417451    & 7.991051e-05\\\\\n",
       "\\end{tabular}\n"
      ],
      "text/markdown": [
       "\n",
       "OR | LCI | UCI | pvalue | \n",
       "|---|---|---|---|---|---|\n",
       "| 1.0201620    | 0.7934406    | 1.3075435    | 8.986469e-01 | \n",
       "| 1.3203193    | 0.9399969    | 1.8878499    | 1.310815e-01 | \n",
       "| 0.7013307    | 0.5305482    | 0.9217588    | 1.174318e-02 | \n",
       "| 2.5963629    | 2.0014503    | 3.3737316    | 9.362903e-13 | \n",
       "| 2.8453902    | 1.9150923    | 4.4110251    | 3.119524e-08 | \n",
       "| 1.7697224    | 1.3363373    | 2.3417451    | 7.991051e-05 | \n",
       "\n",
       "\n"
      ],
      "text/plain": [
       "  OR        LCI       UCI       pvalue      \n",
       "1 1.0201620 0.7934406 1.3075435 8.986469e-01\n",
       "2 1.3203193 0.9399969 1.8878499 1.310815e-01\n",
       "3 0.7013307 0.5305482 0.9217588 1.174318e-02\n",
       "4 2.5963629 2.0014503 3.3737316 9.362903e-13\n",
       "5 2.8453902 1.9150923 4.4110251 3.119524e-08\n",
       "6 1.7697224 1.3363373 2.3417451 7.991051e-05"
      ]
     },
     "metadata": {},
     "output_type": "display_data"
    }
   ],
   "source": [
    "df_OR_CI"
   ]
  },
  {
   "cell_type": "markdown",
   "metadata": {},
   "source": [
    "### 24h mimic"
   ]
  },
  {
   "cell_type": "code",
   "execution_count": 343,
   "metadata": {},
   "outputs": [],
   "source": [
    "criteria <- df_mimic_prop$ethnicity =='ASIAN'"
   ]
  },
  {
   "cell_type": "code",
   "execution_count": 344,
   "metadata": {},
   "outputs": [],
   "source": [
    "df_10<-df_mimic_prop[df_mimic_prop$prop_map_24>=0.1 & df_mimic_prop$prop_asp_24<=0.3 & criteria ,]\n",
    "df_40<-df_mimic_prop[df_mimic_prop$prop_asp_24>=0.3 & df_mimic_prop$prop_asp_24<=0.5 & criteria ,]"
   ]
  },
  {
   "cell_type": "code",
   "execution_count": 346,
   "metadata": {},
   "outputs": [],
   "source": [
    "df_10<-df_mimic_prop[df_mimic_prop$prop_asp_24>=0.1 & df_mimic_prop$prop_asp_24<=0.3 & criteria ,]\n",
    "df_40<-df_mimic_prop[df_mimic_prop$prop_asp_24>=0.3 & df_mimic_prop$prop_asp_24<=0.5 & criteria ,]"
   ]
  },
  {
   "cell_type": "code",
   "execution_count": 348,
   "metadata": {},
   "outputs": [],
   "source": [
    "df_10<-df_mimic_prop[df_mimic_prop$prop_adp_24>=0.1 & df_mimic_prop$prop_adp_24<=0.3 & criteria ,]\n",
    "df_40<-df_mimic_prop[df_mimic_prop$prop_adp_24>=0.3 & df_mimic_prop$prop_adp_24<=0.5 & criteria ,]"
   ]
  },
  {
   "cell_type": "markdown",
   "metadata": {},
   "source": [
    "### 48h eicu"
   ]
  },
  {
   "cell_type": "code",
   "execution_count": 399,
   "metadata": {},
   "outputs": [],
   "source": [
    "df_10<-df_eicu_prop_48[df_eicu_prop_48$prop_map_48>=0.1 & df_eicu_prop_48$prop_map_48<=0.3 & criteria ,]\n",
    "df_40<-df_eicu_prop_48[df_eicu_prop_48$prop_map_48>=0.3 & df_eicu_prop_48$prop_map_48<=0.5 & criteria ,]"
   ]
  },
  {
   "cell_type": "code",
   "execution_count": 401,
   "metadata": {},
   "outputs": [],
   "source": [
    "df_10<-df_eicu_prop_48[df_eicu_prop_48$prop_asp_48>=0.1 & df_eicu_prop_48$prop_asp_48<=0.3 & criteria ,]\n",
    "df_40<-df_eicu_prop_48[df_eicu_prop_48$prop_asp_48>=0.3 & df_eicu_prop_48$prop_asp_48<=0.5 & criteria ,]"
   ]
  },
  {
   "cell_type": "code",
   "execution_count": 403,
   "metadata": {},
   "outputs": [],
   "source": [
    "df_10<-df_eicu_prop_48[df_eicu_prop_48$prop_adp_48>=0.1 & df_eicu_prop_48$prop_adp_48<=0.3 & criteria ,]\n",
    "df_40<-df_eicu_prop_48[df_eicu_prop_48$prop_adp_48>=0.3 & df_eicu_prop_48$prop_adp_48<=0.5 & criteria ,]"
   ]
  },
  {
   "cell_type": "markdown",
   "metadata": {},
   "source": [
    "### 48h mimic"
   ]
  },
  {
   "cell_type": "code",
   "execution_count": 350,
   "metadata": {},
   "outputs": [],
   "source": [
    "df_10<-df_mimic_prop_48[df_mimic_prop_48$prop_adp_48>=0.1 & df_mimic_prop_48$prop_adp_48<=0.3 & criteria ,]\n",
    "df_40<-df_mimic_prop_48[df_mimic_prop_48$prop_adp_48>=0.3 & df_mimic_prop_48$prop_adp_48<=0.5 & criteria ,]"
   ]
  },
  {
   "cell_type": "code",
   "execution_count": 352,
   "metadata": {},
   "outputs": [],
   "source": [
    "df_10<-df_mimic_prop_48[df_mimic_prop_48$prop_asp_48>=0.1 & df_mimic_prop_48$prop_asp_48<=0.3 & criteria ,]\n",
    "df_40<-df_mimic_prop_48[df_mimic_prop_48$prop_asp_48>=0.3 & df_mimic_prop_48$prop_asp_48<=0.5 & criteria ,]"
   ]
  },
  {
   "cell_type": "code",
   "execution_count": 354,
   "metadata": {},
   "outputs": [],
   "source": [
    "df_10<-df_mimic_prop_48[df_mimic_prop_48$prop_adp_48>=0.1 & df_mimic_prop_48$prop_adp_48<=0.3 & criteria ,]\n",
    "df_40<-df_mimic_prop_48[df_mimic_prop_48$prop_adp_48>=0.3 & df_mimic_prop_48$prop_adp_48<=0.5 & criteria ,]"
   ]
  },
  {
   "cell_type": "markdown",
   "metadata": {},
   "source": [
    "### 72h eicu"
   ]
  },
  {
   "cell_type": "code",
   "execution_count": 405,
   "metadata": {},
   "outputs": [],
   "source": [
    "df_10<-df_eicu_prop_72[df_eicu_prop_72$prop_map_72>=0.1 & df_eicu_prop_72$prop_map_72<=0.3 & criteria ,]\n",
    "df_40<-df_eicu_prop_72[df_eicu_prop_72$prop_map_72>=0.3 & df_eicu_prop_72$prop_map_72<=0.5 & criteria ,]"
   ]
  },
  {
   "cell_type": "code",
   "execution_count": 407,
   "metadata": {},
   "outputs": [],
   "source": [
    "df_10<-df_eicu_prop_72[df_eicu_prop_72$prop_asp_72>=0.1 & df_eicu_prop_72$prop_asp_72<=0.3 & criteria ,]\n",
    "df_40<-df_eicu_prop_72[df_eicu_prop_72$prop_asp_72>=0.3 & df_eicu_prop_72$prop_asp_72<=0.5 & criteria ,]"
   ]
  },
  {
   "cell_type": "code",
   "execution_count": 409,
   "metadata": {},
   "outputs": [],
   "source": [
    "df_10<-df_eicu_prop_72[df_eicu_prop_72$prop_adp_72>=0.1 & df_eicu_prop_72$prop_adp_72<=0.3 & criteria ,]\n",
    "df_40<-df_eicu_prop_72[df_eicu_prop_72$prop_adp_72>=0.3 & df_eicu_prop_72$prop_adp_72<=0.5 & criteria ,]"
   ]
  },
  {
   "cell_type": "markdown",
   "metadata": {},
   "source": [
    "### 72h mimic"
   ]
  },
  {
   "cell_type": "code",
   "execution_count": 356,
   "metadata": {},
   "outputs": [],
   "source": [
    "df_10<-df_mimic_prop_72[df_mimic_prop_72$prop_adp_72>=0.1 & df_mimic_prop_72$prop_adp_72<=0.3 & criteria ,]\n",
    "df_40<-df_mimic_prop_72[df_mimic_prop_72$prop_adp_72>=0.3 & df_mimic_prop_72$prop_adp_72<=0.5 & criteria ,]"
   ]
  },
  {
   "cell_type": "code",
   "execution_count": 358,
   "metadata": {},
   "outputs": [],
   "source": [
    "df_10<-df_mimic_prop_72[df_mimic_prop_72$prop_asp_72>=0.1 & df_mimic_prop_72$prop_asp_72<=0.3 & criteria ,]\n",
    "df_40<-df_mimic_prop_72[df_mimic_prop_72$prop_asp_72>=0.5 & df_mimic_prop_72$prop_asp_72<=0.5 & criteria ,]"
   ]
  },
  {
   "cell_type": "code",
   "execution_count": 360,
   "metadata": {},
   "outputs": [],
   "source": [
    "df_10<-df_mimic_prop_72[df_mimic_prop_72$prop_adp_72>=0.1 & df_mimic_prop_72$prop_adp_72<=0.3 & criteria ,]\n",
    "df_40<-df_mimic_prop_72[df_mimic_prop_72$prop_adp_72>=0.3 & df_mimic_prop_72$prop_adp_72<=0.5 & criteria ,]"
   ]
  },
  {
   "cell_type": "code",
   "execution_count": null,
   "metadata": {},
   "outputs": [],
   "source": []
  },
  {
   "cell_type": "markdown",
   "metadata": {},
   "source": [
    "# AKI ORs and CI"
   ]
  },
  {
   "cell_type": "code",
   "execution_count": 94,
   "metadata": {},
   "outputs": [
    {
     "data": {
      "text/html": [
       "<table>\n",
       "<thead><tr><th scope=col>patientunitstayid</th><th scope=col>age</th><th scope=col>gender</th><th scope=col>ethnicity</th><th scope=col>unittype</th><th scope=col>icu_mortality</th><th scope=col>hospital_expire_flag</th><th scope=col>apache_iv</th><th scope=col>sofatotal</th><th scope=col>vasso_duration_24h</th><th scope=col>⋯</th><th scope=col>prop_map_24</th><th scope=col>propBelow_asp_24</th><th scope=col>propAbove_asp_24</th><th scope=col>prop_asp_24</th><th scope=col>propBelow_adp_24</th><th scope=col>propAbove_adp_24</th><th scope=col>prop_adp_24</th><th scope=col>prop_map_24_AKI</th><th scope=col>prop_asp_24_AKI</th><th scope=col>prop_adp_24_AKI</th></tr></thead>\n",
       "<tbody>\n",
       "\t<tr><td>141194     </td><td>68         </td><td>M          </td><td>Caucasian  </td><td>CTICU      </td><td>0          </td><td>0          </td><td>70         </td><td> 3         </td><td> 0.00      </td><td>⋯          </td><td>0.04166667 </td><td>0.7500000  </td><td>0.04166667 </td><td>0.2083333  </td><td>1.0000000  </td><td>0.000000000</td><td>0.00000000 </td><td>0.04166667 </td><td>0.2500000  </td><td>0.00000000 </td></tr>\n",
       "\t<tr><td>141233     </td><td>81         </td><td>F          </td><td>Caucasian  </td><td>CTICU      </td><td>0          </td><td>0          </td><td>66         </td><td>12         </td><td>23.97      </td><td>⋯          </td><td>0.50467290 </td><td>0.3271028  </td><td>0.45794393 </td><td>0.2149533  </td><td>0.9065421  </td><td>0.009345794</td><td>0.08411215 </td><td>0.65420561 </td><td>0.6728972  </td><td>0.09345794 </td></tr>\n",
       "</tbody>\n",
       "</table>\n"
      ],
      "text/latex": [
       "\\begin{tabular}{r|lllllllllllllllllllllllllllllllllllllllllllllllll}\n",
       " patientunitstayid & age & gender & ethnicity & unittype & icu\\_mortality & hospital\\_expire\\_flag & apache\\_iv & sofatotal & vasso\\_duration\\_24h & ⋯ & prop\\_map\\_24 & propBelow\\_asp\\_24 & propAbove\\_asp\\_24 & prop\\_asp\\_24 & propBelow\\_adp\\_24 & propAbove\\_adp\\_24 & prop\\_adp\\_24 & prop\\_map\\_24\\_AKI & prop\\_asp\\_24\\_AKI & prop\\_adp\\_24\\_AKI\\\\\n",
       "\\hline\n",
       "\t 141194      & 68          & M           & Caucasian   & CTICU       & 0           & 0           & 70          &  3          &  0.00       & ⋯           & 0.04166667  & 0.7500000   & 0.04166667  & 0.2083333   & 1.0000000   & 0.000000000 & 0.00000000  & 0.04166667  & 0.2500000   & 0.00000000 \\\\\n",
       "\t 141233      & 81          & F           & Caucasian   & CTICU       & 0           & 0           & 66          & 12          & 23.97       & ⋯           & 0.50467290  & 0.3271028   & 0.45794393  & 0.2149533   & 0.9065421   & 0.009345794 & 0.08411215  & 0.65420561  & 0.6728972   & 0.09345794 \\\\\n",
       "\\end{tabular}\n"
      ],
      "text/markdown": [
       "\n",
       "patientunitstayid | age | gender | ethnicity | unittype | icu_mortality | hospital_expire_flag | apache_iv | sofatotal | vasso_duration_24h | ⋯ | prop_map_24 | propBelow_asp_24 | propAbove_asp_24 | prop_asp_24 | propBelow_adp_24 | propAbove_adp_24 | prop_adp_24 | prop_map_24_AKI | prop_asp_24_AKI | prop_adp_24_AKI | \n",
       "|---|---|\n",
       "| 141194      | 68          | M           | Caucasian   | CTICU       | 0           | 0           | 70          |  3          |  0.00       | ⋯           | 0.04166667  | 0.7500000   | 0.04166667  | 0.2083333   | 1.0000000   | 0.000000000 | 0.00000000  | 0.04166667  | 0.2500000   | 0.00000000  | \n",
       "| 141233      | 81          | F           | Caucasian   | CTICU       | 0           | 0           | 66          | 12          | 23.97       | ⋯           | 0.50467290  | 0.3271028   | 0.45794393  | 0.2149533   | 0.9065421   | 0.009345794 | 0.08411215  | 0.65420561  | 0.6728972   | 0.09345794  | \n",
       "\n",
       "\n"
      ],
      "text/plain": [
       "  patientunitstayid age gender ethnicity unittype icu_mortality\n",
       "1 141194            68  M      Caucasian CTICU    0            \n",
       "2 141233            81  F      Caucasian CTICU    0            \n",
       "  hospital_expire_flag apache_iv sofatotal vasso_duration_24h ⋯ prop_map_24\n",
       "1 0                    70         3         0.00              ⋯ 0.04166667 \n",
       "2 0                    66        12        23.97              ⋯ 0.50467290 \n",
       "  propBelow_asp_24 propAbove_asp_24 prop_asp_24 propBelow_adp_24\n",
       "1 0.7500000        0.04166667       0.2083333   1.0000000       \n",
       "2 0.3271028        0.45794393       0.2149533   0.9065421       \n",
       "  propAbove_adp_24 prop_adp_24 prop_map_24_AKI prop_asp_24_AKI prop_adp_24_AKI\n",
       "1 0.000000000      0.00000000  0.04166667      0.2500000       0.00000000     \n",
       "2 0.009345794      0.08411215  0.65420561      0.6728972       0.09345794     "
      ]
     },
     "metadata": {},
     "output_type": "display_data"
    }
   ],
   "source": [
    "head(df_eicu_prop_AKI, n = 2)"
   ]
  },
  {
   "cell_type": "code",
   "execution_count": 614,
   "metadata": {},
   "outputs": [],
   "source": [
    "criteria <-df_mimic_prop$ethnicity==\"HISPANIC\""
   ]
  },
  {
   "cell_type": "markdown",
   "metadata": {},
   "source": [
    "# 24h eicu"
   ]
  },
  {
   "cell_type": "code",
   "execution_count": 615,
   "metadata": {},
   "outputs": [
    {
     "name": "stderr",
     "output_type": "stream",
     "text": [
      "Warning message in df_eicu_prop_AKI$prop_map_24_AKI >= 0.05 & df_eicu_prop_AKI$prop_map_24_AKI <= :\n",
      "“longer object length is not a multiple of shorter object length”Warning message in df_eicu_prop_AKI$prop_map_24_AKI >= 0.35 & df_eicu_prop_AKI$prop_map_24_AKI <= :\n",
      "“longer object length is not a multiple of shorter object length”"
     ]
    }
   ],
   "source": [
    "df_10<-df_eicu_prop_AKI[df_eicu_prop_AKI$prop_map_24_AKI>=0.05 & df_eicu_prop_AKI$prop_map_24_AKI<=0.15 & criteria ,]\n",
    "df_40<-df_eicu_prop_AKI[df_eicu_prop_AKI$prop_map_24_AKI>=0.35 & df_eicu_prop_AKI$prop_map_24_AKI<=0.45 & criteria ,]"
   ]
  },
  {
   "cell_type": "code",
   "execution_count": 97,
   "metadata": {},
   "outputs": [],
   "source": [
    "df_10<-df_eicu_prop_AKI[df_eicu_prop_AKI$prop_asp_24_AKI>=0.05 & df_eicu_prop_AKI$prop_asp_24_AKI<=0.15 & criteria ,]\n",
    "df_40<-df_eicu_prop_AKI[df_eicu_prop_AKI$prop_asp_24_AKI>=0.35 & df_eicu_prop_AKI$prop_asp_24_AKI<=0.45 & criteria ,]"
   ]
  },
  {
   "cell_type": "code",
   "execution_count": 99,
   "metadata": {},
   "outputs": [],
   "source": [
    "df_10<-df_eicu_prop_AKI[df_eicu_prop_AKI$prop_adp_24_AKI>=0.05 & df_eicu_prop_AKI$prop_adp_24_AKI<=0.15 & criteria ,]\n",
    "df_40<-df_eicu_prop_AKI[df_eicu_prop_AKI$prop_adp_24_AKI>=0.35 & df_eicu_prop_AKI$prop_adp_24_AKI<=0.45 & criteria ,]"
   ]
  },
  {
   "cell_type": "code",
   "execution_count": 827,
   "metadata": {},
   "outputs": [],
   "source": [
    "criteria <-df_mimic_prop_AKI$cld==1"
   ]
  },
  {
   "cell_type": "markdown",
   "metadata": {},
   "source": [
    "# 24h mimic"
   ]
  },
  {
   "cell_type": "code",
   "execution_count": 828,
   "metadata": {},
   "outputs": [],
   "source": [
    "df_10<-df_mimic_prop_AKI[df_mimic_prop_AKI$prop_map_24_AKI>=0.1 & df_mimic_prop_AKI$prop_map_24_AKI<=0.5 & criteria ,]\n",
    "df_40<-df_mimic_prop_AKI[df_mimic_prop_AKI$prop_map_24_AKI>=0.5 & df_mimic_prop_AKI$prop_map_24_AKI<=0.9 & criteria ,]"
   ]
  },
  {
   "cell_type": "code",
   "execution_count": 832,
   "metadata": {},
   "outputs": [],
   "source": [
    "df_10<-df_mimic_prop_AKI[df_mimic_prop_AKI$prop_asp_24_AKI>=0.05 & df_mimic_prop_AKI$prop_asp_24_AKI<=0.15 & criteria ,]\n",
    "df_40<-df_mimic_prop_AKI[df_mimic_prop_AKI$prop_asp_24_AKI>=0.35 & df_mimic_prop_AKI$prop_asp_24_AKI<=0.45 & criteria ,]"
   ]
  },
  {
   "cell_type": "code",
   "execution_count": 811,
   "metadata": {},
   "outputs": [],
   "source": [
    "df_10<-df_mimic_prop_AKI[df_mimic_prop_AKI$prop_adp_24_AKI>=0.001 & df_mimic_prop_AKI$prop_adp_24_AKI<=0.5 & criteria ,]\n",
    "df_40<-df_mimic_prop_AKI[df_mimic_prop_AKI$prop_adp_24_AKI>=0.5 & df_mimic_prop_AKI$prop_adp_24_AKI<=0.9 & criteria ,]"
   ]
  },
  {
   "cell_type": "markdown",
   "metadata": {},
   "source": [
    "# 48h eicu"
   ]
  },
  {
   "cell_type": "code",
   "execution_count": 111,
   "metadata": {},
   "outputs": [],
   "source": [
    "df_10<-df_eicu_prop_AKI_48[df_eicu_prop_AKI_48$prop_map_48_AKI>=0.05 & df_eicu_prop_AKI_48$prop_map_48_AKI<=0.15 & criteria ,]\n",
    "df_40<-df_eicu_prop_AKI_48[df_eicu_prop_AKI_48$prop_map_48_AKI>=0.35 & df_eicu_prop_AKI_48$prop_map_48_AKI<=0.45 & criteria ,]"
   ]
  },
  {
   "cell_type": "code",
   "execution_count": 113,
   "metadata": {},
   "outputs": [],
   "source": [
    "df_10<-df_eicu_prop_AKI[df_eicu_prop_AKI$prop_asp_24_AKI>=0.05 & df_eicu_prop_AKI$prop_asp_24_AKI<=0.15 & criteria ,]\n",
    "df_40<-df_eicu_prop_AKI[df_eicu_prop_AKI$prop_asp_24_AKI>=0.35 & df_eicu_prop_AKI$prop_asp_24_AKI<=0.45 & criteria ,]"
   ]
  },
  {
   "cell_type": "code",
   "execution_count": 115,
   "metadata": {},
   "outputs": [],
   "source": [
    "df_10<-df_eicu_prop_AKI_48[df_eicu_prop_AKI_48$prop_adp_48_AKI>=0.05 & df_eicu_prop_AKI_48$prop_adp_48_AKI<=0.15 & criteria ,]\n",
    "df_40<-df_eicu_prop_AKI_48[df_eicu_prop_AKI_48$prop_adp_48_AKI>=0.35 & df_eicu_prop_AKI_48$prop_adp_48_AKI<=0.45 & criteria ,]"
   ]
  },
  {
   "cell_type": "markdown",
   "metadata": {},
   "source": [
    "# 48h mimic"
   ]
  },
  {
   "cell_type": "code",
   "execution_count": 814,
   "metadata": {},
   "outputs": [],
   "source": [
    "df_10<-df_mimic_prop_AKI_48[df_mimic_prop_AKI_48$prop_map_48_AKI>=0.001 & df_mimic_prop_AKI_48$prop_map_48_AKI<=0.4 & criteria ,]\n",
    "df_40<-df_mimic_prop_AKI_48[df_mimic_prop_AKI_48$prop_map_48_AKI>=0.4 & df_mimic_prop_AKI_48$prop_map_48_AKI<=0.6 & criteria ,]"
   ]
  },
  {
   "cell_type": "code",
   "execution_count": 816,
   "metadata": {},
   "outputs": [],
   "source": [
    "df_10<-df_mimic_prop_AKI_48[df_mimic_prop_AKI_48$prop_asp_48_AKI>=0.001 & df_mimic_prop_AKI_48$prop_asp_48_AKI<=0.4 & criteria ,]\n",
    "df_40<-df_mimic_prop_AKI_48[df_mimic_prop_AKI_48$prop_asp_48_AKI>=0.4 & df_mimic_prop_AKI_48$prop_asp_48_AKI<=0.6 & criteria ,]"
   ]
  },
  {
   "cell_type": "code",
   "execution_count": 818,
   "metadata": {},
   "outputs": [],
   "source": [
    "df_10<-df_mimic_prop_AKI_48[df_mimic_prop_AKI_48$prop_adp_48_AKI>=0.001 & df_mimic_prop_AKI_48$prop_adp_48_AKI<=0.4 & criteria ,]\n",
    "df_40<-df_mimic_prop_AKI_48[df_mimic_prop_AKI_48$prop_adp_48_AKI>=0.4 & df_mimic_prop_AKI_48$prop_adp_48_AKI<=0.6 & criteria ,]"
   ]
  },
  {
   "cell_type": "markdown",
   "metadata": {},
   "source": [
    "# 72h eicu"
   ]
  },
  {
   "cell_type": "code",
   "execution_count": 123,
   "metadata": {},
   "outputs": [],
   "source": [
    "df_10<-df_eicu_prop_AKI_72[df_eicu_prop_AKI_72$prop_map_72_AKI>=0.05 & df_eicu_prop_AKI_72$prop_map_72_AKI<=0.15 & criteria ,]\n",
    "df_40<-df_eicu_prop_AKI_72[df_eicu_prop_AKI_72$prop_map_72_AKI>=0.35 & df_eicu_prop_AKI_72$prop_map_72_AKI<=0.45 & criteria ,]"
   ]
  },
  {
   "cell_type": "code",
   "execution_count": 125,
   "metadata": {},
   "outputs": [],
   "source": [
    "df_10<-df_eicu_prop_AKI_72[df_eicu_prop_AKI_72$prop_asp_72_AKI>=0.05 & df_eicu_prop_AKI_72$prop_asp_72_AKI<=0.15 & criteria ,]\n",
    "df_40<-df_eicu_prop_AKI_72[df_eicu_prop_AKI_72$prop_asp_72_AKI>=0.35 & df_eicu_prop_AKI_72$prop_asp_72_AKI<=0.45 & criteria ,]"
   ]
  },
  {
   "cell_type": "code",
   "execution_count": 127,
   "metadata": {},
   "outputs": [],
   "source": [
    "df_10<-df_eicu_prop_AKI_72[df_eicu_prop_AKI_72$prop_adp_72_AKI>=0.05 & df_eicu_prop_AKI_72$prop_adp_72_AKI<=0.15 & criteria ,]\n",
    "df_40<-df_eicu_prop_AKI_72[df_eicu_prop_AKI_72$prop_adp_72_AKI>=0.35 & df_eicu_prop_AKI_72$prop_adp_72_AKI<=0.45 & criteria ,]"
   ]
  },
  {
   "cell_type": "markdown",
   "metadata": {},
   "source": [
    "# 72h mimic"
   ]
  },
  {
   "cell_type": "code",
   "execution_count": 821,
   "metadata": {},
   "outputs": [],
   "source": [
    "df_10<-df_mimic_prop_AKI_72[df_mimic_prop_AKI_72$prop_map_72_AKI>=0.001 & df_mimic_prop_AKI_72$prop_map_72_AKI<=0.5 & criteria ,]\n",
    "df_40<-df_mimic_prop_AKI_72[df_mimic_prop_AKI_72$prop_map_72_AKI>=0.5 & df_mimic_prop_AKI_72$prop_map_72_AKI<=0.9 & criteria ,]"
   ]
  },
  {
   "cell_type": "code",
   "execution_count": 823,
   "metadata": {},
   "outputs": [],
   "source": [
    "df_10<-df_mimic_prop_AKI_72[df_mimic_prop_AKI_72$prop_asp_72_AKI>=0.001 & df_mimic_prop_AKI_72$prop_asp_72_AKI<=0.4 & criteria ,]\n",
    "df_40<-df_mimic_prop_AKI_72[df_mimic_prop_AKI_72$prop_asp_72_AKI>=0.4 & df_mimic_prop_AKI_72$prop_asp_72_AKI<=0.6 & criteria ,]"
   ]
  },
  {
   "cell_type": "code",
   "execution_count": 825,
   "metadata": {},
   "outputs": [],
   "source": [
    "df_10<-df_mimic_prop_AKI_72[df_mimic_prop_AKI_72$prop_adp_72_AKI>=0.001 & df_mimic_prop_AKI_72$prop_adp_72_AKI<=0.4 & criteria ,]\n",
    "df_40<-df_mimic_prop_AKI_72[df_mimic_prop_AKI_72$prop_adp_72_AKI>=0.4 & df_mimic_prop_AKI_72$prop_adp_72_AKI<=0.6 & criteria ,]"
   ]
  },
  {
   "cell_type": "code",
   "execution_count": 826,
   "metadata": {},
   "outputs": [
    {
     "name": "stdout",
     "output_type": "stream",
     "text": [
      "[1] 369 394  29  44\n"
     ]
    },
    {
     "data": {
      "text/html": [
       "0.92713567839196"
      ],
      "text/latex": [
       "0.92713567839196"
      ],
      "text/markdown": [
       "0.92713567839196"
      ],
      "text/plain": [
       "[1] 0.9271357"
      ]
     },
     "metadata": {},
     "output_type": "display_data"
    },
    {
     "data": {
      "text/html": [
       "0.899543378995434"
      ],
      "text/latex": [
       "0.899543378995434"
      ],
      "text/markdown": [
       "0.899543378995434"
      ],
      "text/plain": [
       "[1] 0.8995434"
      ]
     },
     "metadata": {},
     "output_type": "display_data"
    },
    {
     "data": {
      "text/html": [
       "<dl>\n",
       "\t<dt>$data</dt>\n",
       "\t\t<dd><table>\n",
       "<thead><tr><th></th><th scope=col>Disease1</th><th scope=col>Disease2</th><th scope=col>Total</th></tr></thead>\n",
       "<tbody>\n",
       "\t<tr><th scope=row>Exposed1</th><td>369</td><td>29 </td><td>398</td></tr>\n",
       "\t<tr><th scope=row>Exposed2</th><td>394</td><td>44 </td><td>438</td></tr>\n",
       "\t<tr><th scope=row>Total</th><td>763</td><td>73 </td><td>836</td></tr>\n",
       "</tbody>\n",
       "</table>\n",
       "</dd>\n",
       "\t<dt>$measure</dt>\n",
       "\t\t<dd><table>\n",
       "<thead><tr><th></th><th scope=col>estimate</th><th scope=col>lower</th><th scope=col>upper</th></tr></thead>\n",
       "<tbody>\n",
       "\t<tr><th scope=row>Exposed1</th><td>1.000000 </td><td>       NA</td><td>      NA </td></tr>\n",
       "\t<tr><th scope=row>Exposed2</th><td>1.417875 </td><td>0.8717049</td><td>2.338943 </td></tr>\n",
       "</tbody>\n",
       "</table>\n",
       "</dd>\n",
       "\t<dt>$p.value</dt>\n",
       "\t\t<dd><table>\n",
       "<thead><tr><th></th><th scope=col>midp.exact</th><th scope=col>fisher.exact</th><th scope=col>chi.square</th></tr></thead>\n",
       "<tbody>\n",
       "\t<tr><th scope=row>Exposed1</th><td>       NA</td><td>       NA</td><td>       NA</td></tr>\n",
       "\t<tr><th scope=row>Exposed2</th><td>0.1604129</td><td>0.1777866</td><td>0.1581307</td></tr>\n",
       "</tbody>\n",
       "</table>\n",
       "</dd>\n",
       "\t<dt>$correction</dt>\n",
       "\t\t<dd>FALSE</dd>\n",
       "</dl>\n"
      ],
      "text/latex": [
       "\\begin{description}\n",
       "\\item[\\$data] \\begin{tabular}{r|lll}\n",
       "  & Disease1 & Disease2 & Total\\\\\n",
       "\\hline\n",
       "\tExposed1 & 369 & 29  & 398\\\\\n",
       "\tExposed2 & 394 & 44  & 438\\\\\n",
       "\tTotal & 763 & 73  & 836\\\\\n",
       "\\end{tabular}\n",
       "\n",
       "\\item[\\$measure] \\begin{tabular}{r|lll}\n",
       "  & estimate & lower & upper\\\\\n",
       "\\hline\n",
       "\tExposed1 & 1.000000  &        NA &       NA \\\\\n",
       "\tExposed2 & 1.417875  & 0.8717049 & 2.338943 \\\\\n",
       "\\end{tabular}\n",
       "\n",
       "\\item[\\$p.value] \\begin{tabular}{r|lll}\n",
       "  & midp.exact & fisher.exact & chi.square\\\\\n",
       "\\hline\n",
       "\tExposed1 &        NA &        NA &        NA\\\\\n",
       "\tExposed2 & 0.1604129 & 0.1777866 & 0.1581307\\\\\n",
       "\\end{tabular}\n",
       "\n",
       "\\item[\\$correction] FALSE\n",
       "\\end{description}\n"
      ],
      "text/markdown": [
       "$data\n",
       ":   \n",
       "| <!--/--> | Disease1 | Disease2 | Total | \n",
       "|---|---|---|\n",
       "| Exposed1 | 369 | 29  | 398 | \n",
       "| Exposed2 | 394 | 44  | 438 | \n",
       "| Total | 763 | 73  | 836 | \n",
       "\n",
       "\n",
       "\n",
       "$measure\n",
       ":   \n",
       "| <!--/--> | estimate | lower | upper | \n",
       "|---|---|\n",
       "| Exposed1 | 1.000000  |        NA |       NA  | \n",
       "| Exposed2 | 1.417875  | 0.8717049 | 2.338943  | \n",
       "\n",
       "\n",
       "\n",
       "$p.value\n",
       ":   \n",
       "| <!--/--> | midp.exact | fisher.exact | chi.square | \n",
       "|---|---|\n",
       "| Exposed1 |        NA |        NA |        NA | \n",
       "| Exposed2 | 0.1604129 | 0.1777866 | 0.1581307 | \n",
       "\n",
       "\n",
       "\n",
       "$correction\n",
       ":   FALSE\n",
       "\n",
       "\n"
      ],
      "text/plain": [
       "$data\n",
       "          Outcome\n",
       "Predictor  Disease1 Disease2 Total\n",
       "  Exposed1      369       29   398\n",
       "  Exposed2      394       44   438\n",
       "  Total         763       73   836\n",
       "\n",
       "$measure\n",
       "          odds ratio with 95% C.I.\n",
       "Predictor  estimate     lower    upper\n",
       "  Exposed1 1.000000        NA       NA\n",
       "  Exposed2 1.417875 0.8717049 2.338943\n",
       "\n",
       "$p.value\n",
       "          two-sided\n",
       "Predictor  midp.exact fisher.exact chi.square\n",
       "  Exposed1         NA           NA         NA\n",
       "  Exposed2  0.1604129    0.1777866  0.1581307\n",
       "\n",
       "$correction\n",
       "[1] FALSE\n",
       "\n",
       "attr(,\"method\")\n",
       "[1] \"median-unbiased estimate & mid-p exact CI\""
      ]
     },
     "metadata": {},
     "output_type": "display_data"
    }
   ],
   "source": [
    "a<-length(df_10[df_10$AKI_7d==1,1]) # exposed\n",
    "c<-length(df_10[df_10$AKI_7d==0,1])\n",
    "b<-length(df_40[df_40$AKI_7d==1,1]) # control\n",
    "d<-length(df_40[df_40$AKI_7d==0,1])\n",
    "print(c(a,b,c,d))\n",
    "a/(a+c)\n",
    "b/(b+d)\n",
    "oddsratio(matrix(c(a,b,c,d), ncol=2, nrow=2))"
   ]
  },
  {
   "cell_type": "markdown",
   "metadata": {},
   "source": [
    "## ORs and CI for subgroups"
   ]
  },
  {
   "cell_type": "code",
   "execution_count": 202,
   "metadata": {},
   "outputs": [
    {
     "data": {
      "text/html": [
       "<table>\n",
       "<thead><tr><th scope=col>X</th><th scope=col>patientunitstayid</th><th scope=col>propBelow_map_24</th><th scope=col>propAbove_map_24</th><th scope=col>prop_map_24</th><th scope=col>propBelow_asp_24</th><th scope=col>propAbove_asp_24</th><th scope=col>prop_asp_24</th><th scope=col>propBelow_adp_24</th><th scope=col>propAbove_adp_24</th><th scope=col>prop_adp_24</th></tr></thead>\n",
       "<tbody>\n",
       "\t<tr><td>0          </td><td>141168     </td><td>0.1000000  </td><td>0.3000000  </td><td>0.60000000 </td><td>        NA </td><td>        NA </td><td>       NA  </td><td>       NA  </td><td>         NA</td><td>        NA </td></tr>\n",
       "\t<tr><td>1          </td><td>141194     </td><td>0.9583333  </td><td>0.0000000  </td><td>0.04166667 </td><td>0.75000000 </td><td>0.04166667 </td><td>0.2083333  </td><td>1.0000000  </td><td>0.000000000</td><td>0.00000000 </td></tr>\n",
       "\t<tr><td>2          </td><td>141203     </td><td>0.3626374  </td><td>0.3186813  </td><td>0.31868132 </td><td>        NA </td><td>        NA </td><td>       NA  </td><td>       NA  </td><td>         NA</td><td>        NA </td></tr>\n",
       "\t<tr><td>3          </td><td>141229     </td><td>0.0000000  </td><td>0.7500000  </td><td>0.25000000 </td><td>        NA </td><td>        NA </td><td>       NA  </td><td>       NA  </td><td>         NA</td><td>        NA </td></tr>\n",
       "\t<tr><td>4          </td><td>141233     </td><td>0.3457944  </td><td>0.1495327  </td><td>0.50467290 </td><td>0.32710280 </td><td>0.45794393 </td><td>0.2149533  </td><td>0.9065421  </td><td>0.009345794</td><td>0.08411215 </td></tr>\n",
       "\t<tr><td>5          </td><td>141244     </td><td>0.1052632  </td><td>0.7368421  </td><td>0.15789474 </td><td>0.05263158 </td><td>0.78947368 </td><td>0.1578947  </td><td>0.1052632  </td><td>0.421052632</td><td>0.47368421 </td></tr>\n",
       "</tbody>\n",
       "</table>\n"
      ],
      "text/latex": [
       "\\begin{tabular}{r|lllllllllll}\n",
       " X & patientunitstayid & propBelow\\_map\\_24 & propAbove\\_map\\_24 & prop\\_map\\_24 & propBelow\\_asp\\_24 & propAbove\\_asp\\_24 & prop\\_asp\\_24 & propBelow\\_adp\\_24 & propAbove\\_adp\\_24 & prop\\_adp\\_24\\\\\n",
       "\\hline\n",
       "\t 0           & 141168      & 0.1000000   & 0.3000000   & 0.60000000  &         NA  &         NA  &        NA   &        NA   &          NA &         NA \\\\\n",
       "\t 1           & 141194      & 0.9583333   & 0.0000000   & 0.04166667  & 0.75000000  & 0.04166667  & 0.2083333   & 1.0000000   & 0.000000000 & 0.00000000 \\\\\n",
       "\t 2           & 141203      & 0.3626374   & 0.3186813   & 0.31868132  &         NA  &         NA  &        NA   &        NA   &          NA &         NA \\\\\n",
       "\t 3           & 141229      & 0.0000000   & 0.7500000   & 0.25000000  &         NA  &         NA  &        NA   &        NA   &          NA &         NA \\\\\n",
       "\t 4           & 141233      & 0.3457944   & 0.1495327   & 0.50467290  & 0.32710280  & 0.45794393  & 0.2149533   & 0.9065421   & 0.009345794 & 0.08411215 \\\\\n",
       "\t 5           & 141244      & 0.1052632   & 0.7368421   & 0.15789474  & 0.05263158  & 0.78947368  & 0.1578947   & 0.1052632   & 0.421052632 & 0.47368421 \\\\\n",
       "\\end{tabular}\n"
      ],
      "text/markdown": [
       "\n",
       "X | patientunitstayid | propBelow_map_24 | propAbove_map_24 | prop_map_24 | propBelow_asp_24 | propAbove_asp_24 | prop_asp_24 | propBelow_adp_24 | propAbove_adp_24 | prop_adp_24 | \n",
       "|---|---|---|---|---|---|\n",
       "| 0           | 141168      | 0.1000000   | 0.3000000   | 0.60000000  |         NA  |         NA  |        NA   |        NA   |          NA |         NA  | \n",
       "| 1           | 141194      | 0.9583333   | 0.0000000   | 0.04166667  | 0.75000000  | 0.04166667  | 0.2083333   | 1.0000000   | 0.000000000 | 0.00000000  | \n",
       "| 2           | 141203      | 0.3626374   | 0.3186813   | 0.31868132  |         NA  |         NA  |        NA   |        NA   |          NA |         NA  | \n",
       "| 3           | 141229      | 0.0000000   | 0.7500000   | 0.25000000  |         NA  |         NA  |        NA   |        NA   |          NA |         NA  | \n",
       "| 4           | 141233      | 0.3457944   | 0.1495327   | 0.50467290  | 0.32710280  | 0.45794393  | 0.2149533   | 0.9065421   | 0.009345794 | 0.08411215  | \n",
       "| 5           | 141244      | 0.1052632   | 0.7368421   | 0.15789474  | 0.05263158  | 0.78947368  | 0.1578947   | 0.1052632   | 0.421052632 | 0.47368421  | \n",
       "\n",
       "\n"
      ],
      "text/plain": [
       "  X patientunitstayid propBelow_map_24 propAbove_map_24 prop_map_24\n",
       "1 0 141168            0.1000000        0.3000000        0.60000000 \n",
       "2 1 141194            0.9583333        0.0000000        0.04166667 \n",
       "3 2 141203            0.3626374        0.3186813        0.31868132 \n",
       "4 3 141229            0.0000000        0.7500000        0.25000000 \n",
       "5 4 141233            0.3457944        0.1495327        0.50467290 \n",
       "6 5 141244            0.1052632        0.7368421        0.15789474 \n",
       "  propBelow_asp_24 propAbove_asp_24 prop_asp_24 propBelow_adp_24\n",
       "1         NA               NA              NA          NA       \n",
       "2 0.75000000       0.04166667       0.2083333   1.0000000       \n",
       "3         NA               NA              NA          NA       \n",
       "4         NA               NA              NA          NA       \n",
       "5 0.32710280       0.45794393       0.2149533   0.9065421       \n",
       "6 0.05263158       0.78947368       0.1578947   0.1052632       \n",
       "  propAbove_adp_24 prop_adp_24\n",
       "1          NA              NA \n",
       "2 0.000000000      0.00000000 \n",
       "3          NA              NA \n",
       "4          NA              NA \n",
       "5 0.009345794      0.08411215 \n",
       "6 0.421052632      0.47368421 "
      ]
     },
     "metadata": {},
     "output_type": "display_data"
    }
   ],
   "source": [
    "head(eicu_prop) "
   ]
  },
  {
   "cell_type": "code",
   "execution_count": 749,
   "metadata": {},
   "outputs": [
    {
     "data": {
      "text/html": [
       "<table>\n",
       "<thead><tr><th scope=col>OR</th><th scope=col>LCI</th><th scope=col>UCI</th><th scope=col>pvalue</th></tr></thead>\n",
       "<tbody>\n",
       "\t<tr><td>0.8351778 </td><td>0.09173041</td><td>24.83445  </td><td>1         </td></tr>\n",
       "\t<tr><td>0.8130954 </td><td>0.08933385</td><td>24.17250  </td><td>1         </td></tr>\n",
       "</tbody>\n",
       "</table>\n"
      ],
      "text/latex": [
       "\\begin{tabular}{r|llll}\n",
       " OR & LCI & UCI & pvalue\\\\\n",
       "\\hline\n",
       "\t 0.8351778  & 0.09173041 & 24.83445   & 1         \\\\\n",
       "\t 0.8130954  & 0.08933385 & 24.17250   & 1         \\\\\n",
       "\\end{tabular}\n"
      ],
      "text/markdown": [
       "\n",
       "OR | LCI | UCI | pvalue | \n",
       "|---|---|\n",
       "| 0.8351778  | 0.09173041 | 24.83445   | 1          | \n",
       "| 0.8130954  | 0.08933385 | 24.17250   | 1          | \n",
       "\n",
       "\n"
      ],
      "text/plain": [
       "  OR        LCI        UCI      pvalue\n",
       "1 0.8351778 0.09173041 24.83445 1     \n",
       "2 0.8130954 0.08933385 24.17250 1     "
      ]
     },
     "metadata": {},
     "output_type": "display_data"
    }
   ],
   "source": [
    "df_OR_CI"
   ]
  },
  {
   "cell_type": "code",
   "execution_count": 770,
   "metadata": {},
   "outputs": [
    {
     "data": {
      "text/html": [
       "<dl>\n",
       "\t<dt>$data</dt>\n",
       "\t\t<dd><table>\n",
       "<thead><tr><th></th><th scope=col>Disease1</th><th scope=col>Disease2</th><th scope=col>Total</th></tr></thead>\n",
       "<tbody>\n",
       "\t<tr><th scope=row>Exposed1</th><td>324</td><td>38 </td><td>362</td></tr>\n",
       "\t<tr><th scope=row>Exposed2</th><td>408</td><td>49 </td><td>457</td></tr>\n",
       "\t<tr><th scope=row>Total</th><td>732</td><td>87 </td><td>819</td></tr>\n",
       "</tbody>\n",
       "</table>\n",
       "</dd>\n",
       "\t<dt>$measure</dt>\n",
       "\t\t<dd><table>\n",
       "<thead><tr><th></th><th scope=col>estimate</th><th scope=col>lower</th><th scope=col>upper</th></tr></thead>\n",
       "<tbody>\n",
       "\t<tr><th scope=row>Exposed1</th><td>1.000000 </td><td>       NA</td><td>      NA </td></tr>\n",
       "\t<tr><th scope=row>Exposed2</th><td>1.023068 </td><td>0.6540786</td><td>1.611262 </td></tr>\n",
       "</tbody>\n",
       "</table>\n",
       "</dd>\n",
       "\t<dt>$p.value</dt>\n",
       "\t\t<dd><table>\n",
       "<thead><tr><th></th><th scope=col>midp.exact</th><th scope=col>fisher.exact</th><th scope=col>chi.square</th></tr></thead>\n",
       "<tbody>\n",
       "\t<tr><th scope=row>Exposed1</th><td>       NA</td><td>NA       </td><td>       NA</td></tr>\n",
       "\t<tr><th scope=row>Exposed2</th><td>0.9206817</td><td> 1       </td><td>0.9173925</td></tr>\n",
       "</tbody>\n",
       "</table>\n",
       "</dd>\n",
       "\t<dt>$correction</dt>\n",
       "\t\t<dd>FALSE</dd>\n",
       "</dl>\n"
      ],
      "text/latex": [
       "\\begin{description}\n",
       "\\item[\\$data] \\begin{tabular}{r|lll}\n",
       "  & Disease1 & Disease2 & Total\\\\\n",
       "\\hline\n",
       "\tExposed1 & 324 & 38  & 362\\\\\n",
       "\tExposed2 & 408 & 49  & 457\\\\\n",
       "\tTotal & 732 & 87  & 819\\\\\n",
       "\\end{tabular}\n",
       "\n",
       "\\item[\\$measure] \\begin{tabular}{r|lll}\n",
       "  & estimate & lower & upper\\\\\n",
       "\\hline\n",
       "\tExposed1 & 1.000000  &        NA &       NA \\\\\n",
       "\tExposed2 & 1.023068  & 0.6540786 & 1.611262 \\\\\n",
       "\\end{tabular}\n",
       "\n",
       "\\item[\\$p.value] \\begin{tabular}{r|lll}\n",
       "  & midp.exact & fisher.exact & chi.square\\\\\n",
       "\\hline\n",
       "\tExposed1 &        NA & NA        &        NA\\\\\n",
       "\tExposed2 & 0.9206817 &  1        & 0.9173925\\\\\n",
       "\\end{tabular}\n",
       "\n",
       "\\item[\\$correction] FALSE\n",
       "\\end{description}\n"
      ],
      "text/markdown": [
       "$data\n",
       ":   \n",
       "| <!--/--> | Disease1 | Disease2 | Total | \n",
       "|---|---|---|\n",
       "| Exposed1 | 324 | 38  | 362 | \n",
       "| Exposed2 | 408 | 49  | 457 | \n",
       "| Total | 732 | 87  | 819 | \n",
       "\n",
       "\n",
       "\n",
       "$measure\n",
       ":   \n",
       "| <!--/--> | estimate | lower | upper | \n",
       "|---|---|\n",
       "| Exposed1 | 1.000000  |        NA |       NA  | \n",
       "| Exposed2 | 1.023068  | 0.6540786 | 1.611262  | \n",
       "\n",
       "\n",
       "\n",
       "$p.value\n",
       ":   \n",
       "| <!--/--> | midp.exact | fisher.exact | chi.square | \n",
       "|---|---|\n",
       "| Exposed1 |        NA | NA        |        NA | \n",
       "| Exposed2 | 0.9206817 |  1        | 0.9173925 | \n",
       "\n",
       "\n",
       "\n",
       "$correction\n",
       ":   FALSE\n",
       "\n",
       "\n"
      ],
      "text/plain": [
       "$data\n",
       "          Outcome\n",
       "Predictor  Disease1 Disease2 Total\n",
       "  Exposed1      324       38   362\n",
       "  Exposed2      408       49   457\n",
       "  Total         732       87   819\n",
       "\n",
       "$measure\n",
       "          odds ratio with 95% C.I.\n",
       "Predictor  estimate     lower    upper\n",
       "  Exposed1 1.000000        NA       NA\n",
       "  Exposed2 1.023068 0.6540786 1.611262\n",
       "\n",
       "$p.value\n",
       "          two-sided\n",
       "Predictor  midp.exact fisher.exact chi.square\n",
       "  Exposed1         NA           NA         NA\n",
       "  Exposed2  0.9206817            1  0.9173925\n",
       "\n",
       "$correction\n",
       "[1] FALSE\n",
       "\n",
       "attr(,\"method\")\n",
       "[1] \"median-unbiased estimate & mid-p exact CI\""
      ]
     },
     "metadata": {},
     "output_type": "display_data"
    }
   ],
   "source": [
    "    df_10<-df_eicu_prop_AKI[df_eicu_prop_AKI$prop_adp_24_AKI>=0.001 & df_eicu_prop_AKI$prop_adp_24_AKI<=0.5 & df_eicu_prop$ckd==1,]\n",
    "    df_40<-df_eicu_prop_AKI[df_eicu_prop_AKI$prop_adp_24_AKI>=0.5 & df_eicu_prop_AKI$prop_adp_24_AKI<=0.9 & df_eicu_prop$ckd==1,]\n",
    "\n",
    "    a<-length(df_10[df_10$AKI_7d==1,1]) # exposed\n",
    "    c<-length(df_10[df_10$AKI_7d==0,1])\n",
    "    b<-length(df_40[df_40$AKI_7d==1,1]) # control\n",
    "    d<-length(df_40[df_40$AKI_7d==0,1])\n",
    "    oddsratio(matrix(c(a,b,c,d), ncol=2, nrow=2))\n"
   ]
  },
  {
   "cell_type": "code",
   "execution_count": 767,
   "metadata": {},
   "outputs": [
    {
     "data": {
      "text/html": [
       "0"
      ],
      "text/latex": [
       "0"
      ],
      "text/markdown": [
       "0"
      ],
      "text/plain": [
       "[1] 0"
      ]
     },
     "metadata": {},
     "output_type": "display_data"
    }
   ],
   "source": [
    "c"
   ]
  },
  {
   "cell_type": "code",
   "execution_count": 1020,
   "metadata": {},
   "outputs": [
    {
     "ename": "ERROR",
     "evalue": "Error in uniroot(function(or) {: f() values at end points not of opposite sign\n",
     "execution_count": 1020,
     "output_type": "error",
     "traceback": [
      "Error in uniroot(function(or) {: f() values at end points not of opposite sign\nTraceback:\n",
      "1. oddsratio(matrix(c(a, b, c, d), ncol = 2, nrow = 2))",
      "2. oddsratio.midp(x, conf.level = conf.level, verbose = verbose, \n .     correction = correction)",
      "3. or.midp(tmpx, conf.level = conf.level, interval = interval)",
      "4. uniroot(function(or) {\n .     1 - midp(a1, a0, b1, b0, or) - alpha/2\n . }, interval = interval)",
      "5. stop(if (doX) \"did not succeed extending the interval endpoints for f(lower) * f(upper) <= 0\" else \"f() values at end points not of opposite sign\")"
     ]
    }
   ],
   "source": [
    "c1 <- df_eicu_prop_48$ethnicity==\"Asian\"\n",
    "\n",
    "\n",
    "# Criterias <- data.frame(\"c8\"=c8,\"c9\"=c9,\"c10\"=c10 )\n",
    "Criterias <- data.frame(\"c1\"=c1)\n",
    "# Criterias <- data.frame(\"c1\"=c1,\"c2\"=c2,\"C3\" = c3, \"c4\"=c4, \"C5\" = c5 , \"c6\"=c6,\"c7\"=c7, \"c8\"=c8,\"c9\"=c9,\"c10\"=c10)\n",
    "# Criterias <- data.frame(\"c6\"=c10)\n",
    "\n",
    "Hosp_OR<- list()\n",
    "Hosp_LCI<-list()\n",
    "Hosp_UCI<-list()\n",
    "Hosp_pvalue<-list()\n",
    "i=1\n",
    "j=1\n",
    "while (i <= length(Criterias)){\n",
    "    # MAP 24\n",
    "    df_10<-df_eicu_prop_48[df_eicu_prop_48$prop_map_24>=0.001 & df_eicu_prop_48$prop_map_24<=0.50 & Criterias[,i],]\n",
    "    df_40<-df_eicu_prop_48[df_eicu_prop_48$prop_map_24>=0.50 & df_eicu_prop_48$prop_map_24<=0.90 & Criterias[,i],]\n",
    "    a<-length(df_10[df_10$hospital_expire_flag==1,1]) # exposed\n",
    "    c<-length(df_10[df_10$hospital_expire_flag==0,1])\n",
    "    b<-length(df_40[df_40$hospital_expire_flag==1,1]) # control\n",
    "    d<-length(df_40[df_40$hospital_expire_flag==0,1])\n",
    "    df_OR<-oddsratio(matrix(c(a,b,c,d), ncol=2, nrow=2))\n",
    "    Hosp_OR[j]<-df_OR$measure[2]\n",
    "    Hosp_LCI[j]<-df_OR$measure[4]\n",
    "    Hosp_UCI[j]<-df_OR$measure[6]\n",
    "    Hosp_pvalue[j]<-df_OR$p.value[4]\n",
    "\n",
    "    # SBP 24\n",
    "    df_10<-df_eicu_prop_48[df_eicu_prop_48$prop_asp_24>=0.001 & df_eicu_prop_48$prop_asp_24<=0.50 & Criterias[,i],]\n",
    "    df_40<-df_eicu_prop_48[df_eicu_prop_48$prop_asp_24>=0.50 & df_eicu_prop_48$prop_asp_24<=0.90 & Criterias[,i],]\n",
    "    a<-length(df_10[df_10$hospital_expire_flag==1,1]) # exposed\n",
    "    c<-length(df_10[df_10$hospital_expire_flag==0,1])\n",
    "    b<-length(df_40[df_40$hospital_expire_flag==1,1]) # control\n",
    "    d<-length(df_40[df_40$hospital_expire_flag==0,1])\n",
    "    df_OR<-oddsratio(matrix(c(a,b,c,d), ncol=2, nrow=2))\n",
    "    Hosp_OR[j+1]<-df_OR$measure[2]\n",
    "    Hosp_LCI[j+1]<-df_OR$measure[4]\n",
    "    Hosp_UCI[j+1]<-df_OR$measure[6]\n",
    "    Hosp_pvalue[j+1]<-df_OR$p.value[4]\n",
    "\n",
    "    # DBP 24\n",
    "    df_10<-df_eicu_prop_48[df_eicu_prop_48$prop_adp_24>=0.001 & df_eicu_prop_48$prop_adp_24<=0.50 & Criterias[,i],]\n",
    "    df_40<-df_eicu_prop_48[df_eicu_prop_48$prop_adp_24>=0.50 & df_eicu_prop_48$prop_adp_24<=0.90 & Criterias[,i],]\n",
    "    a<-length(df_10[df_10$hospital_expire_flag==1,1]) # exposed\n",
    "    c<-length(df_10[df_10$hospital_expire_flag==0,1])\n",
    "    b<-length(df_40[df_40$hospital_expire_flag==1,1]) # control\n",
    "    d<-length(df_40[df_40$hospital_expire_flag==0,1])\n",
    "    df_OR<-oddsratio(matrix(c(a,b,c,d), ncol=2, nrow=2))\n",
    "    Hosp_OR[j+2]<-df_OR$measure[2]\n",
    "    Hosp_LCI[j+2]<-df_OR$measure[4]\n",
    "    Hosp_UCI[j+2]<-df_OR$measure[6]\n",
    "    Hosp_pvalue[j+2]<-df_OR$p.value[4]\n",
    "\n",
    "    df_OR_CI <- data.frame(\"OR\" = unlist(Hosp_OR, use.names=FALSE), \n",
    "                        \"LCI\" = unlist(Hosp_LCI, use.names=FALSE)\n",
    "                       , \"UCI\" = unlist(Hosp_UCI, use.names=FALSE)\n",
    "                       , \"pvalue\" = unlist(Hosp_pvalue, use.names=FALSE))\n",
    "    i <-i+1\n",
    "    j <-j+3\n",
    "    \n",
    "}"
   ]
  },
  {
   "cell_type": "code",
   "execution_count": 981,
   "metadata": {},
   "outputs": [
    {
     "data": {
      "text/html": [
       "<table>\n",
       "<thead><tr><th scope=col>OR</th><th scope=col>LCI</th><th scope=col>UCI</th><th scope=col>pvalue</th></tr></thead>\n",
       "<tbody>\n",
       "\t<tr><td>1.4399475 </td><td>0.52913735</td><td>4.697192  </td><td>0.6191871 </td></tr>\n",
       "\t<tr><td>0.3825042 </td><td>0.05522859</td><td>3.442085  </td><td>0.2884536 </td></tr>\n",
       "\t<tr><td>1.0588918 </td><td>0.44095628</td><td>2.699490  </td><td>1.0000000 </td></tr>\n",
       "</tbody>\n",
       "</table>\n"
      ],
      "text/latex": [
       "\\begin{tabular}{r|llll}\n",
       " OR & LCI & UCI & pvalue\\\\\n",
       "\\hline\n",
       "\t 1.4399475  & 0.52913735 & 4.697192   & 0.6191871 \\\\\n",
       "\t 0.3825042  & 0.05522859 & 3.442085   & 0.2884536 \\\\\n",
       "\t 1.0588918  & 0.44095628 & 2.699490   & 1.0000000 \\\\\n",
       "\\end{tabular}\n"
      ],
      "text/markdown": [
       "\n",
       "OR | LCI | UCI | pvalue | \n",
       "|---|---|---|\n",
       "| 1.4399475  | 0.52913735 | 4.697192   | 0.6191871  | \n",
       "| 0.3825042  | 0.05522859 | 3.442085   | 0.2884536  | \n",
       "| 1.0588918  | 0.44095628 | 2.699490   | 1.0000000  | \n",
       "\n",
       "\n"
      ],
      "text/plain": [
       "  OR        LCI        UCI      pvalue   \n",
       "1 1.4399475 0.52913735 4.697192 0.6191871\n",
       "2 0.3825042 0.05522859 3.442085 0.2884536\n",
       "3 1.0588918 0.44095628 2.699490 1.0000000"
      ]
     },
     "metadata": {},
     "output_type": "display_data"
    }
   ],
   "source": []
  },
  {
   "cell_type": "code",
   "execution_count": 2222,
   "metadata": {},
   "outputs": [],
   "source": [
    "c1 <- df_eicu_prop_AKI$afib==1"
   ]
  },
  {
   "cell_type": "code",
   "execution_count": 2227,
   "metadata": {},
   "outputs": [],
   "source": [
    "    df_10<-df_eicu_prop_AKI[df_eicu_prop_AKI$prop_map_24_AKI>=0.001 & df_eicu_prop_AKI$prop_map_24_AKI<=0.5 & c1,]\n",
    "    df_40<-df_eicu_prop_AKI[df_eicu_prop_AKI$prop_map_24_AKI>=0.5 & df_eicu_prop_AKI$prop_map_24_AKI<=0.9 & c1,]"
   ]
  },
  {
   "cell_type": "code",
   "execution_count": 2229,
   "metadata": {},
   "outputs": [],
   "source": [
    "    df_10<-df_eicu_prop_AKI[df_eicu_prop_AKI$prop_map_24_AKI>=0.1 & df_eicu_prop_AKI$prop_map_24_AKI<=0.3 & c1,]\n",
    "    df_40<-df_eicu_prop_AKI[df_eicu_prop_AKI$prop_map_24_AKI>=0.3 & df_eicu_prop_AKI$prop_map_24_AKI<=0.5 & c1,]"
   ]
  },
  {
   "cell_type": "code",
   "execution_count": 2220,
   "metadata": {},
   "outputs": [],
   "source": [
    "    df_10<-df_eicu_prop_AKI[df_eicu_prop_AKI$prop_asp_24_AKI>=0.1 & df_eicu_prop_AKI$prop_asp_24_AKI<=0.5 & c1,]\n",
    "    df_40<-df_eicu_prop_AKI[df_eicu_prop_AKI$prop_asp_24_AKI>=0.5 & df_eicu_prop_AKI$prop_asp_24_AKI<=0.9 & c1,]"
   ]
  },
  {
   "cell_type": "code",
   "execution_count": 2217,
   "metadata": {},
   "outputs": [],
   "source": [
    "    df_10<-df_eicu_prop_AKI[df_eicu_prop_AKI$prop_adp_24_AKI>=0.1 & df_eicu_prop_AKI$prop_adp_24_AKI<=0.5 & c1,]\n",
    "    df_40<-df_eicu_prop_AKI[df_eicu_prop_AKI$prop_adp_24_AKI>=0.5 & df_eicu_prop_AKI$prop_adp_24_AKI<=0.9 & c1,]"
   ]
  },
  {
   "cell_type": "code",
   "execution_count": 2230,
   "metadata": {},
   "outputs": [
    {
     "data": {
      "text/html": [
       "<dl>\n",
       "\t<dt>$data</dt>\n",
       "\t\t<dd><table>\n",
       "<thead><tr><th></th><th scope=col>Disease1</th><th scope=col>Disease2</th><th scope=col>Total</th></tr></thead>\n",
       "<tbody>\n",
       "\t<tr><th scope=row>Exposed1</th><td>102</td><td>15 </td><td>117</td></tr>\n",
       "\t<tr><th scope=row>Exposed2</th><td>217</td><td>22 </td><td>239</td></tr>\n",
       "\t<tr><th scope=row>Total</th><td>319</td><td>37 </td><td>356</td></tr>\n",
       "</tbody>\n",
       "</table>\n",
       "</dd>\n",
       "\t<dt>$measure</dt>\n",
       "\t\t<dd><table>\n",
       "<thead><tr><th></th><th scope=col>estimate</th><th scope=col>lower</th><th scope=col>upper</th></tr></thead>\n",
       "<tbody>\n",
       "\t<tr><th scope=row>Exposed1</th><td>1.0000000</td><td>       NA</td><td>      NA </td></tr>\n",
       "\t<tr><th scope=row>Exposed2</th><td>0.6881189</td><td>0.3434238</td><td>1.412978 </td></tr>\n",
       "</tbody>\n",
       "</table>\n",
       "</dd>\n",
       "\t<dt>$p.value</dt>\n",
       "\t\t<dd><table>\n",
       "<thead><tr><th></th><th scope=col>midp.exact</th><th scope=col>fisher.exact</th><th scope=col>chi.square</th></tr></thead>\n",
       "<tbody>\n",
       "\t<tr><th scope=row>Exposed1</th><td>       NA</td><td>       NA</td><td>       NA</td></tr>\n",
       "\t<tr><th scope=row>Exposed2</th><td>0.3020652</td><td>0.3551527</td><td>0.2937195</td></tr>\n",
       "</tbody>\n",
       "</table>\n",
       "</dd>\n",
       "\t<dt>$correction</dt>\n",
       "\t\t<dd>FALSE</dd>\n",
       "</dl>\n"
      ],
      "text/latex": [
       "\\begin{description}\n",
       "\\item[\\$data] \\begin{tabular}{r|lll}\n",
       "  & Disease1 & Disease2 & Total\\\\\n",
       "\\hline\n",
       "\tExposed1 & 102 & 15  & 117\\\\\n",
       "\tExposed2 & 217 & 22  & 239\\\\\n",
       "\tTotal & 319 & 37  & 356\\\\\n",
       "\\end{tabular}\n",
       "\n",
       "\\item[\\$measure] \\begin{tabular}{r|lll}\n",
       "  & estimate & lower & upper\\\\\n",
       "\\hline\n",
       "\tExposed1 & 1.0000000 &        NA &       NA \\\\\n",
       "\tExposed2 & 0.6881189 & 0.3434238 & 1.412978 \\\\\n",
       "\\end{tabular}\n",
       "\n",
       "\\item[\\$p.value] \\begin{tabular}{r|lll}\n",
       "  & midp.exact & fisher.exact & chi.square\\\\\n",
       "\\hline\n",
       "\tExposed1 &        NA &        NA &        NA\\\\\n",
       "\tExposed2 & 0.3020652 & 0.3551527 & 0.2937195\\\\\n",
       "\\end{tabular}\n",
       "\n",
       "\\item[\\$correction] FALSE\n",
       "\\end{description}\n"
      ],
      "text/markdown": [
       "$data\n",
       ":   \n",
       "| <!--/--> | Disease1 | Disease2 | Total | \n",
       "|---|---|---|\n",
       "| Exposed1 | 102 | 15  | 117 | \n",
       "| Exposed2 | 217 | 22  | 239 | \n",
       "| Total | 319 | 37  | 356 | \n",
       "\n",
       "\n",
       "\n",
       "$measure\n",
       ":   \n",
       "| <!--/--> | estimate | lower | upper | \n",
       "|---|---|\n",
       "| Exposed1 | 1.0000000 |        NA |       NA  | \n",
       "| Exposed2 | 0.6881189 | 0.3434238 | 1.412978  | \n",
       "\n",
       "\n",
       "\n",
       "$p.value\n",
       ":   \n",
       "| <!--/--> | midp.exact | fisher.exact | chi.square | \n",
       "|---|---|\n",
       "| Exposed1 |        NA |        NA |        NA | \n",
       "| Exposed2 | 0.3020652 | 0.3551527 | 0.2937195 | \n",
       "\n",
       "\n",
       "\n",
       "$correction\n",
       ":   FALSE\n",
       "\n",
       "\n"
      ],
      "text/plain": [
       "$data\n",
       "          Outcome\n",
       "Predictor  Disease1 Disease2 Total\n",
       "  Exposed1      102       15   117\n",
       "  Exposed2      217       22   239\n",
       "  Total         319       37   356\n",
       "\n",
       "$measure\n",
       "          odds ratio with 95% C.I.\n",
       "Predictor   estimate     lower    upper\n",
       "  Exposed1 1.0000000        NA       NA\n",
       "  Exposed2 0.6881189 0.3434238 1.412978\n",
       "\n",
       "$p.value\n",
       "          two-sided\n",
       "Predictor  midp.exact fisher.exact chi.square\n",
       "  Exposed1         NA           NA         NA\n",
       "  Exposed2  0.3020652    0.3551527  0.2937195\n",
       "\n",
       "$correction\n",
       "[1] FALSE\n",
       "\n",
       "attr(,\"method\")\n",
       "[1] \"median-unbiased estimate & mid-p exact CI\""
      ]
     },
     "metadata": {},
     "output_type": "display_data"
    }
   ],
   "source": [
    "    a<-length(df_10[df_10$AKI_7d==1,1]) # exposed\n",
    "    c<-length(df_10[df_10$AKI_7d==0,1])\n",
    "    b<-length(df_40[df_40$AKI_7d==1,1]) # control\n",
    "    d<-length(df_40[df_40$AKI_7d==0,1])\n",
    "    oddsratio(matrix(c(a,b,c,d), ncol=2, nrow=2))"
   ]
  },
  {
   "cell_type": "code",
   "execution_count": 1465,
   "metadata": {},
   "outputs": [],
   "source": [
    "    df_10<-df_eicu_prop_48[df_eicu_prop_48$prop_map_48>=0.001 & df_eicu_prop_48$prop_map_48<=0.5 & c1,]\n",
    "    df_40<-df_eicu_prop_48[df_eicu_prop_48$prop_map_48>=0.5   & df_eicu_prop_48$prop_map_48<=0.9 & c1,]"
   ]
  },
  {
   "cell_type": "code",
   "execution_count": 33,
   "metadata": {},
   "outputs": [],
   "source": [
    "    df_10<-df_mimic_prop_AKI[df_mimic_prop_AKI$prop_adp_24_AKI>=0.001 & df_mimic_prop_AKI$prop_adp_24_AKI<=0.2 ,]\n",
    "    df_40<-df_mimic_prop_AKI[df_mimic_prop_AKI$prop_adp_24_AKI>=0.3 & df_mimic_prop_AKI$prop_adp_24_AKI<=0.5 ,]"
   ]
  },
  {
   "cell_type": "code",
   "execution_count": 1866,
   "metadata": {},
   "outputs": [],
   "source": [
    "    df_10<-df_mimic_prop_AKI_72[df_mimic_prop_AKI_72$prop_map_72_AKI>=0.1 & df_mimic_prop_AKI_72$prop_map_72_AKI<=0.5 & c1,]\n",
    "    df_40<-df_mimic_prop_AKI_72[df_mimic_prop_AKI_72$prop_map_72_AKI>=0.5 & df_mimic_prop_AKI_72$prop_map_72_AKI<=0.9 & c1,]"
   ]
  },
  {
   "cell_type": "code",
   "execution_count": 1868,
   "metadata": {},
   "outputs": [],
   "source": [
    "    df_10<-df_mimic_prop_AKI_72[df_mimic_prop_AKI_72$prop_asp_72_AKI>=0.1 & df_mimic_prop_AKI_72$prop_asp_72_AKI<=0.5 & c1,]\n",
    "    df_40<-df_mimic_prop_AKI_72[df_mimic_prop_AKI_72$prop_asp_72_AKI>=0.5 & df_mimic_prop_AKI_72$prop_asp_72_AKI<=0.9 & c1,]"
   ]
  },
  {
   "cell_type": "code",
   "execution_count": 1870,
   "metadata": {},
   "outputs": [],
   "source": [
    "    df_10<-df_mimic_prop_AKI_72[df_mimic_prop_AKI_72$prop_adp_72_AKI>=0.1 & df_mimic_prop_AKI_72$prop_adp_72_AKI<=0.5 & c1,]\n",
    "    df_40<-df_mimic_prop_AKI_72[df_mimic_prop_AKI_72$prop_adp_72_AKI>=0.5 & df_mimic_prop_AKI_72$prop_adp_72_AKI<=0.9 & c1,]"
   ]
  },
  {
   "cell_type": "code",
   "execution_count": 34,
   "metadata": {},
   "outputs": [
    {
     "data": {
      "text/html": [
       "<dl>\n",
       "\t<dt>$data</dt>\n",
       "\t\t<dd><table>\n",
       "<thead><tr><th></th><th scope=col>Disease1</th><th scope=col>Disease2</th><th scope=col>Total</th></tr></thead>\n",
       "<tbody>\n",
       "\t<tr><th scope=row>Exposed1</th><td> 302</td><td> 40 </td><td> 342</td></tr>\n",
       "\t<tr><th scope=row>Exposed2</th><td> 783</td><td>145 </td><td> 928</td></tr>\n",
       "\t<tr><th scope=row>Total</th><td>1085</td><td>185 </td><td>1270</td></tr>\n",
       "</tbody>\n",
       "</table>\n",
       "</dd>\n",
       "\t<dt>$measure</dt>\n",
       "\t\t<dd><table>\n",
       "<thead><tr><th></th><th scope=col>estimate</th><th scope=col>lower</th><th scope=col>upper</th></tr></thead>\n",
       "<tbody>\n",
       "\t<tr><th scope=row>Exposed1</th><td>1.00000  </td><td>       NA</td><td>     NA  </td></tr>\n",
       "\t<tr><th scope=row>Exposed2</th><td>1.39423  </td><td>0.9670279</td><td>2.05112  </td></tr>\n",
       "</tbody>\n",
       "</table>\n",
       "</dd>\n",
       "\t<dt>$p.value</dt>\n",
       "\t\t<dd><table>\n",
       "<thead><tr><th></th><th scope=col>midp.exact</th><th scope=col>fisher.exact</th><th scope=col>chi.square</th></tr></thead>\n",
       "<tbody>\n",
       "\t<tr><th scope=row>Exposed1</th><td>        NA</td><td>       NA </td><td>        NA</td></tr>\n",
       "\t<tr><th scope=row>Exposed2</th><td>0.07564978</td><td>0.0882742 </td><td>0.07829251</td></tr>\n",
       "</tbody>\n",
       "</table>\n",
       "</dd>\n",
       "\t<dt>$correction</dt>\n",
       "\t\t<dd>FALSE</dd>\n",
       "</dl>\n"
      ],
      "text/latex": [
       "\\begin{description}\n",
       "\\item[\\$data] \\begin{tabular}{r|lll}\n",
       "  & Disease1 & Disease2 & Total\\\\\n",
       "\\hline\n",
       "\tExposed1 &  302 &  40  &  342\\\\\n",
       "\tExposed2 &  783 & 145  &  928\\\\\n",
       "\tTotal & 1085 & 185  & 1270\\\\\n",
       "\\end{tabular}\n",
       "\n",
       "\\item[\\$measure] \\begin{tabular}{r|lll}\n",
       "  & estimate & lower & upper\\\\\n",
       "\\hline\n",
       "\tExposed1 & 1.00000   &        NA &      NA  \\\\\n",
       "\tExposed2 & 1.39423   & 0.9670279 & 2.05112  \\\\\n",
       "\\end{tabular}\n",
       "\n",
       "\\item[\\$p.value] \\begin{tabular}{r|lll}\n",
       "  & midp.exact & fisher.exact & chi.square\\\\\n",
       "\\hline\n",
       "\tExposed1 &         NA &        NA  &         NA\\\\\n",
       "\tExposed2 & 0.07564978 & 0.0882742  & 0.07829251\\\\\n",
       "\\end{tabular}\n",
       "\n",
       "\\item[\\$correction] FALSE\n",
       "\\end{description}\n"
      ],
      "text/markdown": [
       "$data\n",
       ":   \n",
       "| <!--/--> | Disease1 | Disease2 | Total | \n",
       "|---|---|---|\n",
       "| Exposed1 |  302 |  40  |  342 | \n",
       "| Exposed2 |  783 | 145  |  928 | \n",
       "| Total | 1085 | 185  | 1270 | \n",
       "\n",
       "\n",
       "\n",
       "$measure\n",
       ":   \n",
       "| <!--/--> | estimate | lower | upper | \n",
       "|---|---|\n",
       "| Exposed1 | 1.00000   |        NA |      NA   | \n",
       "| Exposed2 | 1.39423   | 0.9670279 | 2.05112   | \n",
       "\n",
       "\n",
       "\n",
       "$p.value\n",
       ":   \n",
       "| <!--/--> | midp.exact | fisher.exact | chi.square | \n",
       "|---|---|\n",
       "| Exposed1 |         NA |        NA  |         NA | \n",
       "| Exposed2 | 0.07564978 | 0.0882742  | 0.07829251 | \n",
       "\n",
       "\n",
       "\n",
       "$correction\n",
       ":   FALSE\n",
       "\n",
       "\n"
      ],
      "text/plain": [
       "$data\n",
       "          Outcome\n",
       "Predictor  Disease1 Disease2 Total\n",
       "  Exposed1      302       40   342\n",
       "  Exposed2      783      145   928\n",
       "  Total        1085      185  1270\n",
       "\n",
       "$measure\n",
       "          odds ratio with 95% C.I.\n",
       "Predictor  estimate     lower   upper\n",
       "  Exposed1  1.00000        NA      NA\n",
       "  Exposed2  1.39423 0.9670279 2.05112\n",
       "\n",
       "$p.value\n",
       "          two-sided\n",
       "Predictor  midp.exact fisher.exact chi.square\n",
       "  Exposed1         NA           NA         NA\n",
       "  Exposed2 0.07564978    0.0882742 0.07829251\n",
       "\n",
       "$correction\n",
       "[1] FALSE\n",
       "\n",
       "attr(,\"method\")\n",
       "[1] \"median-unbiased estimate & mid-p exact CI\""
      ]
     },
     "metadata": {},
     "output_type": "display_data"
    }
   ],
   "source": [
    "    a<-length(df_10[df_10$AKI_7d==1,1]) # exposed\n",
    "    c<-length(df_10[df_10$AKI_7d==0,1])\n",
    "    b<-length(df_40[df_40$AKI_7d==1,1]) # control\n",
    "    d<-length(df_40[df_40$AKI_7d==0,1])\n",
    "    oddsratio(matrix(c(a,b,c,d), ncol=2, nrow=2))"
   ]
  },
  {
   "cell_type": "code",
   "execution_count": 1463,
   "metadata": {},
   "outputs": [
    {
     "data": {
      "text/html": [
       "<dl>\n",
       "\t<dt>$data</dt>\n",
       "\t\t<dd><table>\n",
       "<thead><tr><th></th><th scope=col>Disease1</th><th scope=col>Disease2</th><th scope=col>Total</th></tr></thead>\n",
       "<tbody>\n",
       "\t<tr><th scope=row>Exposed1</th><td>220 </td><td>656 </td><td> 876</td></tr>\n",
       "\t<tr><th scope=row>Exposed2</th><td> 38 </td><td>132 </td><td> 170</td></tr>\n",
       "\t<tr><th scope=row>Total</th><td>258 </td><td>788 </td><td>1046</td></tr>\n",
       "</tbody>\n",
       "</table>\n",
       "</dd>\n",
       "\t<dt>$measure</dt>\n",
       "\t\t<dd><table>\n",
       "<thead><tr><th></th><th scope=col>estimate</th><th scope=col>lower</th><th scope=col>upper</th></tr></thead>\n",
       "<tbody>\n",
       "\t<tr><th scope=row>Exposed1</th><td>1.000000 </td><td>       NA</td><td>     NA  </td></tr>\n",
       "\t<tr><th scope=row>Exposed2</th><td>1.161835 </td><td>0.7917288</td><td>1.73948  </td></tr>\n",
       "</tbody>\n",
       "</table>\n",
       "</dd>\n",
       "\t<dt>$p.value</dt>\n",
       "\t\t<dd><table>\n",
       "<thead><tr><th></th><th scope=col>midp.exact</th><th scope=col>fisher.exact</th><th scope=col>chi.square</th></tr></thead>\n",
       "<tbody>\n",
       "\t<tr><th scope=row>Exposed1</th><td>       NA</td><td>       NA</td><td>       NA</td></tr>\n",
       "\t<tr><th scope=row>Exposed2</th><td>0.4496706</td><td>0.4965104</td><td>0.4446826</td></tr>\n",
       "</tbody>\n",
       "</table>\n",
       "</dd>\n",
       "\t<dt>$correction</dt>\n",
       "\t\t<dd>FALSE</dd>\n",
       "</dl>\n"
      ],
      "text/latex": [
       "\\begin{description}\n",
       "\\item[\\$data] \\begin{tabular}{r|lll}\n",
       "  & Disease1 & Disease2 & Total\\\\\n",
       "\\hline\n",
       "\tExposed1 & 220  & 656  &  876\\\\\n",
       "\tExposed2 &  38  & 132  &  170\\\\\n",
       "\tTotal & 258  & 788  & 1046\\\\\n",
       "\\end{tabular}\n",
       "\n",
       "\\item[\\$measure] \\begin{tabular}{r|lll}\n",
       "  & estimate & lower & upper\\\\\n",
       "\\hline\n",
       "\tExposed1 & 1.000000  &        NA &      NA  \\\\\n",
       "\tExposed2 & 1.161835  & 0.7917288 & 1.73948  \\\\\n",
       "\\end{tabular}\n",
       "\n",
       "\\item[\\$p.value] \\begin{tabular}{r|lll}\n",
       "  & midp.exact & fisher.exact & chi.square\\\\\n",
       "\\hline\n",
       "\tExposed1 &        NA &        NA &        NA\\\\\n",
       "\tExposed2 & 0.4496706 & 0.4965104 & 0.4446826\\\\\n",
       "\\end{tabular}\n",
       "\n",
       "\\item[\\$correction] FALSE\n",
       "\\end{description}\n"
      ],
      "text/markdown": [
       "$data\n",
       ":   \n",
       "| <!--/--> | Disease1 | Disease2 | Total | \n",
       "|---|---|---|\n",
       "| Exposed1 | 220  | 656  |  876 | \n",
       "| Exposed2 |  38  | 132  |  170 | \n",
       "| Total | 258  | 788  | 1046 | \n",
       "\n",
       "\n",
       "\n",
       "$measure\n",
       ":   \n",
       "| <!--/--> | estimate | lower | upper | \n",
       "|---|---|\n",
       "| Exposed1 | 1.000000  |        NA |      NA   | \n",
       "| Exposed2 | 1.161835  | 0.7917288 | 1.73948   | \n",
       "\n",
       "\n",
       "\n",
       "$p.value\n",
       ":   \n",
       "| <!--/--> | midp.exact | fisher.exact | chi.square | \n",
       "|---|---|\n",
       "| Exposed1 |        NA |        NA |        NA | \n",
       "| Exposed2 | 0.4496706 | 0.4965104 | 0.4446826 | \n",
       "\n",
       "\n",
       "\n",
       "$correction\n",
       ":   FALSE\n",
       "\n",
       "\n"
      ],
      "text/plain": [
       "$data\n",
       "          Outcome\n",
       "Predictor  Disease1 Disease2 Total\n",
       "  Exposed1      220      656   876\n",
       "  Exposed2       38      132   170\n",
       "  Total         258      788  1046\n",
       "\n",
       "$measure\n",
       "          odds ratio with 95% C.I.\n",
       "Predictor  estimate     lower   upper\n",
       "  Exposed1 1.000000        NA      NA\n",
       "  Exposed2 1.161835 0.7917288 1.73948\n",
       "\n",
       "$p.value\n",
       "          two-sided\n",
       "Predictor  midp.exact fisher.exact chi.square\n",
       "  Exposed1         NA           NA         NA\n",
       "  Exposed2  0.4496706    0.4965104  0.4446826\n",
       "\n",
       "$correction\n",
       "[1] FALSE\n",
       "\n",
       "attr(,\"method\")\n",
       "[1] \"median-unbiased estimate & mid-p exact CI\""
      ]
     },
     "metadata": {},
     "output_type": "display_data"
    }
   ],
   "source": [
    "    a<-length(df_10[df_10$hospital_expire_flag==1,1]) # exposed\n",
    "    c<-length(df_10[df_10$hospital_expire_flag==0,1])\n",
    "    b<-length(df_40[df_40$hospital_expire_flag==1,1]) # control\n",
    "    d<-length(df_40[df_40$hospital_expire_flag==0,1])\n",
    "    oddsratio(matrix(c(a,b,c,d), ncol=2, nrow=2))"
   ]
  },
  {
   "cell_type": "code",
   "execution_count": 1691,
   "metadata": {},
   "outputs": [
    {
     "name": "stderr",
     "output_type": "stream",
     "text": [
      "Warning message in chisq.test(xx, correct = correction):\n",
      "“Chi-squared approximation may be incorrect”Warning message in chisq.test(xx, correct = correction):\n",
      "“Chi-squared approximation may be incorrect”Warning message in chisq.test(xx, correct = correction):\n",
      "“Chi-squared approximation may be incorrect”Warning message in chisq.test(xx, correct = correction):\n",
      "“Chi-squared approximation may be incorrect”Warning message in chisq.test(xx, correct = correction):\n",
      "“Chi-squared approximation may be incorrect”"
     ]
    },
    {
     "data": {
      "text/html": [
       "<table>\n",
       "<thead><tr><th scope=col>OR</th><th scope=col>LCI</th><th scope=col>UCI</th><th scope=col>pvalue</th></tr></thead>\n",
       "<tbody>\n",
       "\t<tr><td>1.8443556 </td><td>0.86270028</td><td> 4.603601 </td><td>0.16192083</td></tr>\n",
       "\t<tr><td>1.3869890 </td><td>0.86746617</td><td> 2.284484 </td><td>0.20123062</td></tr>\n",
       "\t<tr><td>1.4789430 </td><td>0.75512425</td><td> 3.084752 </td><td>0.31890240</td></tr>\n",
       "\t<tr><td>0.6285004 </td><td>0.26216270</td><td> 1.686166 </td><td>0.31182383</td></tr>\n",
       "\t<tr><td>1.5258745 </td><td>0.83466610</td><td> 2.962230 </td><td>0.18846232</td></tr>\n",
       "\t<tr><td>0.6453537 </td><td>0.31598887</td><td> 1.355086 </td><td>0.25077920</td></tr>\n",
       "\t<tr><td>2.2936189 </td><td>0.88305574</td><td> 8.007393 </td><td>0.14413957</td></tr>\n",
       "\t<tr><td>2.1054648 </td><td>1.13157293</td><td> 4.238108 </td><td>0.02254494</td></tr>\n",
       "\t<tr><td>1.6570452 </td><td>0.73450458</td><td> 4.124382 </td><td>0.31917104</td></tr>\n",
       "\t<tr><td>0.7794125 </td><td>0.38016903</td><td> 1.735398 </td><td>0.54688022</td></tr>\n",
       "\t<tr><td>1.1424248 </td><td>0.71623704</td><td> 1.867804 </td><td>0.63488496</td></tr>\n",
       "\t<tr><td>0.7361350 </td><td>0.40033726</td><td> 1.390542 </td><td>0.33139760</td></tr>\n",
       "\t<tr><td>0.8791375 </td><td>0.30774647</td><td> 2.935952 </td><td>0.78382268</td></tr>\n",
       "\t<tr><td>0.6771318 </td><td>0.30781131</td><td> 1.507751 </td><td>0.41470916</td></tr>\n",
       "\t<tr><td>1.7486077 </td><td>0.48853013</td><td> 8.596685 </td><td>0.53864962</td></tr>\n",
       "\t<tr><td>1.4186094 </td><td>0.71568221</td><td> 3.157174 </td><td>0.40305929</td></tr>\n",
       "\t<tr><td>1.7926664 </td><td>1.15838050</td><td> 2.869906 </td><td>0.01029469</td></tr>\n",
       "\t<tr><td>0.9267717 </td><td>0.54773319</td><td> 1.604992 </td><td>0.78509467</td></tr>\n",
       "\t<tr><td>1.4550003 </td><td>0.72215457</td><td> 3.273984 </td><td>0.39177447</td></tr>\n",
       "\t<tr><td>1.6496861 </td><td>0.90122762</td><td> 3.240787 </td><td>0.11505774</td></tr>\n",
       "\t<tr><td>1.2031769 </td><td>0.68735647</td><td> 2.177196 </td><td>0.57174792</td></tr>\n",
       "\t<tr><td>0.9056913 </td><td>0.35400723</td><td> 2.834631 </td><td>0.79743025</td></tr>\n",
       "\t<tr><td>1.4312725 </td><td>0.89838218</td><td> 2.344166 </td><td>0.16678213</td></tr>\n",
       "\t<tr><td>0.5253657 </td><td>0.20624249</td><td> 1.416730 </td><td>0.19310594</td></tr>\n",
       "\t<tr><td>0.5313877 </td><td>0.05753619</td><td>15.944137 </td><td>0.51591257</td></tr>\n",
       "\t<tr><td>0.9987599 </td><td>0.25545935</td><td> 5.100120 </td><td>1.00000000</td></tr>\n",
       "\t<tr><td>0.4621839 </td><td>0.15727207</td><td> 1.332450 </td><td>0.17472829</td></tr>\n",
       "\t<tr><td>1.3034797 </td><td>0.72234392</td><td> 2.534622 </td><td>0.46247859</td></tr>\n",
       "\t<tr><td>1.4888782 </td><td>1.01113292</td><td> 2.240310 </td><td>0.04786488</td></tr>\n",
       "\t<tr><td>1.3209327 </td><td>0.74990876</td><td> 2.431299 </td><td>0.39615167</td></tr>\n",
       "\t<tr><td>1.1879888 </td><td>0.59222954</td><td> 2.665021 </td><td>0.72255235</td></tr>\n",
       "\t<tr><td>1.3717145 </td><td>0.85629528</td><td> 2.278619 </td><td>0.20358527</td></tr>\n",
       "\t<tr><td>1.1994005 </td><td>0.67292206</td><td> 2.227806 </td><td>0.65999334</td></tr>\n",
       "\t<tr><td>1.3744686 </td><td>0.52379852</td><td> 4.367483 </td><td>0.63231172</td></tr>\n",
       "\t<tr><td>1.8510952 </td><td>1.00845966</td><td> 3.544447 </td><td>0.05416067</td></tr>\n",
       "\t<tr><td>0.6706097 </td><td>0.26316884</td><td> 1.751962 </td><td>0.46775381</td></tr>\n",
       "\t<tr><td>1.1276480 </td><td>0.47281261</td><td> 3.163292 </td><td>1.00000000</td></tr>\n",
       "\t<tr><td>1.1087939 </td><td>0.60999524</td><td> 2.104875 </td><td>0.87811258</td></tr>\n",
       "\t<tr><td>1.0410270 </td><td>0.44225875</td><td> 2.662840 </td><td>1.00000000</td></tr>\n",
       "\t<tr><td>1.2816737 </td><td>0.61226519</td><td> 3.042702 </td><td>0.58062553</td></tr>\n",
       "\t<tr><td>1.6889154 </td><td>1.05158490</td><td> 2.811881 </td><td>0.03178798</td></tr>\n",
       "\t<tr><td>1.0159094 </td><td>0.56402897</td><td> 1.889294 </td><td>1.00000000</td></tr>\n",
       "</tbody>\n",
       "</table>\n"
      ],
      "text/latex": [
       "\\begin{tabular}{r|llll}\n",
       " OR & LCI & UCI & pvalue\\\\\n",
       "\\hline\n",
       "\t 1.8443556  & 0.86270028 &  4.603601  & 0.16192083\\\\\n",
       "\t 1.3869890  & 0.86746617 &  2.284484  & 0.20123062\\\\\n",
       "\t 1.4789430  & 0.75512425 &  3.084752  & 0.31890240\\\\\n",
       "\t 0.6285004  & 0.26216270 &  1.686166  & 0.31182383\\\\\n",
       "\t 1.5258745  & 0.83466610 &  2.962230  & 0.18846232\\\\\n",
       "\t 0.6453537  & 0.31598887 &  1.355086  & 0.25077920\\\\\n",
       "\t 2.2936189  & 0.88305574 &  8.007393  & 0.14413957\\\\\n",
       "\t 2.1054648  & 1.13157293 &  4.238108  & 0.02254494\\\\\n",
       "\t 1.6570452  & 0.73450458 &  4.124382  & 0.31917104\\\\\n",
       "\t 0.7794125  & 0.38016903 &  1.735398  & 0.54688022\\\\\n",
       "\t 1.1424248  & 0.71623704 &  1.867804  & 0.63488496\\\\\n",
       "\t 0.7361350  & 0.40033726 &  1.390542  & 0.33139760\\\\\n",
       "\t 0.8791375  & 0.30774647 &  2.935952  & 0.78382268\\\\\n",
       "\t 0.6771318  & 0.30781131 &  1.507751  & 0.41470916\\\\\n",
       "\t 1.7486077  & 0.48853013 &  8.596685  & 0.53864962\\\\\n",
       "\t 1.4186094  & 0.71568221 &  3.157174  & 0.40305929\\\\\n",
       "\t 1.7926664  & 1.15838050 &  2.869906  & 0.01029469\\\\\n",
       "\t 0.9267717  & 0.54773319 &  1.604992  & 0.78509467\\\\\n",
       "\t 1.4550003  & 0.72215457 &  3.273984  & 0.39177447\\\\\n",
       "\t 1.6496861  & 0.90122762 &  3.240787  & 0.11505774\\\\\n",
       "\t 1.2031769  & 0.68735647 &  2.177196  & 0.57174792\\\\\n",
       "\t 0.9056913  & 0.35400723 &  2.834631  & 0.79743025\\\\\n",
       "\t 1.4312725  & 0.89838218 &  2.344166  & 0.16678213\\\\\n",
       "\t 0.5253657  & 0.20624249 &  1.416730  & 0.19310594\\\\\n",
       "\t 0.5313877  & 0.05753619 & 15.944137  & 0.51591257\\\\\n",
       "\t 0.9987599  & 0.25545935 &  5.100120  & 1.00000000\\\\\n",
       "\t 0.4621839  & 0.15727207 &  1.332450  & 0.17472829\\\\\n",
       "\t 1.3034797  & 0.72234392 &  2.534622  & 0.46247859\\\\\n",
       "\t 1.4888782  & 1.01113292 &  2.240310  & 0.04786488\\\\\n",
       "\t 1.3209327  & 0.74990876 &  2.431299  & 0.39615167\\\\\n",
       "\t 1.1879888  & 0.59222954 &  2.665021  & 0.72255235\\\\\n",
       "\t 1.3717145  & 0.85629528 &  2.278619  & 0.20358527\\\\\n",
       "\t 1.1994005  & 0.67292206 &  2.227806  & 0.65999334\\\\\n",
       "\t 1.3744686  & 0.52379852 &  4.367483  & 0.63231172\\\\\n",
       "\t 1.8510952  & 1.00845966 &  3.544447  & 0.05416067\\\\\n",
       "\t 0.6706097  & 0.26316884 &  1.751962  & 0.46775381\\\\\n",
       "\t 1.1276480  & 0.47281261 &  3.163292  & 1.00000000\\\\\n",
       "\t 1.1087939  & 0.60999524 &  2.104875  & 0.87811258\\\\\n",
       "\t 1.0410270  & 0.44225875 &  2.662840  & 1.00000000\\\\\n",
       "\t 1.2816737  & 0.61226519 &  3.042702  & 0.58062553\\\\\n",
       "\t 1.6889154  & 1.05158490 &  2.811881  & 0.03178798\\\\\n",
       "\t 1.0159094  & 0.56402897 &  1.889294  & 1.00000000\\\\\n",
       "\\end{tabular}\n"
      ],
      "text/markdown": [
       "\n",
       "OR | LCI | UCI | pvalue | \n",
       "|---|---|---|---|---|---|---|---|---|---|---|---|---|---|---|---|---|---|---|---|---|---|---|---|---|---|---|---|---|---|---|---|---|---|---|---|---|---|---|---|---|---|\n",
       "| 1.8443556  | 0.86270028 |  4.603601  | 0.16192083 | \n",
       "| 1.3869890  | 0.86746617 |  2.284484  | 0.20123062 | \n",
       "| 1.4789430  | 0.75512425 |  3.084752  | 0.31890240 | \n",
       "| 0.6285004  | 0.26216270 |  1.686166  | 0.31182383 | \n",
       "| 1.5258745  | 0.83466610 |  2.962230  | 0.18846232 | \n",
       "| 0.6453537  | 0.31598887 |  1.355086  | 0.25077920 | \n",
       "| 2.2936189  | 0.88305574 |  8.007393  | 0.14413957 | \n",
       "| 2.1054648  | 1.13157293 |  4.238108  | 0.02254494 | \n",
       "| 1.6570452  | 0.73450458 |  4.124382  | 0.31917104 | \n",
       "| 0.7794125  | 0.38016903 |  1.735398  | 0.54688022 | \n",
       "| 1.1424248  | 0.71623704 |  1.867804  | 0.63488496 | \n",
       "| 0.7361350  | 0.40033726 |  1.390542  | 0.33139760 | \n",
       "| 0.8791375  | 0.30774647 |  2.935952  | 0.78382268 | \n",
       "| 0.6771318  | 0.30781131 |  1.507751  | 0.41470916 | \n",
       "| 1.7486077  | 0.48853013 |  8.596685  | 0.53864962 | \n",
       "| 1.4186094  | 0.71568221 |  3.157174  | 0.40305929 | \n",
       "| 1.7926664  | 1.15838050 |  2.869906  | 0.01029469 | \n",
       "| 0.9267717  | 0.54773319 |  1.604992  | 0.78509467 | \n",
       "| 1.4550003  | 0.72215457 |  3.273984  | 0.39177447 | \n",
       "| 1.6496861  | 0.90122762 |  3.240787  | 0.11505774 | \n",
       "| 1.2031769  | 0.68735647 |  2.177196  | 0.57174792 | \n",
       "| 0.9056913  | 0.35400723 |  2.834631  | 0.79743025 | \n",
       "| 1.4312725  | 0.89838218 |  2.344166  | 0.16678213 | \n",
       "| 0.5253657  | 0.20624249 |  1.416730  | 0.19310594 | \n",
       "| 0.5313877  | 0.05753619 | 15.944137  | 0.51591257 | \n",
       "| 0.9987599  | 0.25545935 |  5.100120  | 1.00000000 | \n",
       "| 0.4621839  | 0.15727207 |  1.332450  | 0.17472829 | \n",
       "| 1.3034797  | 0.72234392 |  2.534622  | 0.46247859 | \n",
       "| 1.4888782  | 1.01113292 |  2.240310  | 0.04786488 | \n",
       "| 1.3209327  | 0.74990876 |  2.431299  | 0.39615167 | \n",
       "| 1.1879888  | 0.59222954 |  2.665021  | 0.72255235 | \n",
       "| 1.3717145  | 0.85629528 |  2.278619  | 0.20358527 | \n",
       "| 1.1994005  | 0.67292206 |  2.227806  | 0.65999334 | \n",
       "| 1.3744686  | 0.52379852 |  4.367483  | 0.63231172 | \n",
       "| 1.8510952  | 1.00845966 |  3.544447  | 0.05416067 | \n",
       "| 0.6706097  | 0.26316884 |  1.751962  | 0.46775381 | \n",
       "| 1.1276480  | 0.47281261 |  3.163292  | 1.00000000 | \n",
       "| 1.1087939  | 0.60999524 |  2.104875  | 0.87811258 | \n",
       "| 1.0410270  | 0.44225875 |  2.662840  | 1.00000000 | \n",
       "| 1.2816737  | 0.61226519 |  3.042702  | 0.58062553 | \n",
       "| 1.6889154  | 1.05158490 |  2.811881  | 0.03178798 | \n",
       "| 1.0159094  | 0.56402897 |  1.889294  | 1.00000000 | \n",
       "\n",
       "\n"
      ],
      "text/plain": [
       "   OR        LCI        UCI       pvalue    \n",
       "1  1.8443556 0.86270028  4.603601 0.16192083\n",
       "2  1.3869890 0.86746617  2.284484 0.20123062\n",
       "3  1.4789430 0.75512425  3.084752 0.31890240\n",
       "4  0.6285004 0.26216270  1.686166 0.31182383\n",
       "5  1.5258745 0.83466610  2.962230 0.18846232\n",
       "6  0.6453537 0.31598887  1.355086 0.25077920\n",
       "7  2.2936189 0.88305574  8.007393 0.14413957\n",
       "8  2.1054648 1.13157293  4.238108 0.02254494\n",
       "9  1.6570452 0.73450458  4.124382 0.31917104\n",
       "10 0.7794125 0.38016903  1.735398 0.54688022\n",
       "11 1.1424248 0.71623704  1.867804 0.63488496\n",
       "12 0.7361350 0.40033726  1.390542 0.33139760\n",
       "13 0.8791375 0.30774647  2.935952 0.78382268\n",
       "14 0.6771318 0.30781131  1.507751 0.41470916\n",
       "15 1.7486077 0.48853013  8.596685 0.53864962\n",
       "16 1.4186094 0.71568221  3.157174 0.40305929\n",
       "17 1.7926664 1.15838050  2.869906 0.01029469\n",
       "18 0.9267717 0.54773319  1.604992 0.78509467\n",
       "19 1.4550003 0.72215457  3.273984 0.39177447\n",
       "20 1.6496861 0.90122762  3.240787 0.11505774\n",
       "21 1.2031769 0.68735647  2.177196 0.57174792\n",
       "22 0.9056913 0.35400723  2.834631 0.79743025\n",
       "23 1.4312725 0.89838218  2.344166 0.16678213\n",
       "24 0.5253657 0.20624249  1.416730 0.19310594\n",
       "25 0.5313877 0.05753619 15.944137 0.51591257\n",
       "26 0.9987599 0.25545935  5.100120 1.00000000\n",
       "27 0.4621839 0.15727207  1.332450 0.17472829\n",
       "28 1.3034797 0.72234392  2.534622 0.46247859\n",
       "29 1.4888782 1.01113292  2.240310 0.04786488\n",
       "30 1.3209327 0.74990876  2.431299 0.39615167\n",
       "31 1.1879888 0.59222954  2.665021 0.72255235\n",
       "32 1.3717145 0.85629528  2.278619 0.20358527\n",
       "33 1.1994005 0.67292206  2.227806 0.65999334\n",
       "34 1.3744686 0.52379852  4.367483 0.63231172\n",
       "35 1.8510952 1.00845966  3.544447 0.05416067\n",
       "36 0.6706097 0.26316884  1.751962 0.46775381\n",
       "37 1.1276480 0.47281261  3.163292 1.00000000\n",
       "38 1.1087939 0.60999524  2.104875 0.87811258\n",
       "39 1.0410270 0.44225875  2.662840 1.00000000\n",
       "40 1.2816737 0.61226519  3.042702 0.58062553\n",
       "41 1.6889154 1.05158490  2.811881 0.03178798\n",
       "42 1.0159094 0.56402897  1.889294 1.00000000"
      ]
     },
     "metadata": {},
     "output_type": "display_data"
    }
   ],
   "source": [
    "c01 <- df_eicu_prop_AKI_72$vasso_duration_72h>0\n",
    "c02 <- df_eicu_prop_AKI_72$vasso_duration_72h==0\n",
    "c03 <- df_eicu_prop_AKI_72$vasso_duration_72h>=36\n",
    "c04 <- df_eicu_prop_AKI_72$vasso_duration_72h<36\n",
    "c1 <- df_eicu_prop_AKI_72$sepsis==1\n",
    "c2 <- df_eicu_prop_AKI_72$sepsis==0\n",
    "c3 <- df_eicu_prop_AKI_72$age>=65\n",
    "c4 <- df_eicu_prop_AKI_72$age<=65\n",
    "c5 <- df_eicu_prop_AKI_72$hypertension==1\n",
    "c6<-  df_eicu_prop_AKI_72$hypertension==0\n",
    "c7<-  df_eicu_prop_AKI_72$mechanical_ventilation==1\n",
    "c8<-  df_eicu_prop_AKI_72$mechanical_ventilation==0\n",
    "c9<- df_eicu_prop_AKI_72$bmi>=30\n",
    "c10<- df_eicu_prop_AKI_72$bmi<30\n",
    "# Criterias <- data.frame(\"c1\"=c1,\"c2\"=c2,\"C3\" = c3, \"c4\"=c4, \"C5\" = c5 , \"c6\"=c6,\"c7\"=c7, \"c8\"=c8,\"c9\"=c9,\n",
    "#                         \"c10\"=c10,\"c11\"=c11, \"c12\"=c12,\"c13\"=c13)\n",
    "\n",
    "Criterias <- data.frame( c01, c02,c03, c04, c1, c2, \"C3\" = c3, \"c4\"=c4, \"C5\" = c5 , \"c6\"=c6,\"c7\"=c7, \"c8\"=c8,\"c9\"=c9,\n",
    "                        \"c10\"=c10)\n",
    "\n",
    "Hosp_OR<- list()\n",
    "Hosp_LCI<-list()\n",
    "Hosp_UCI<-list()\n",
    "Hosp_pvalue<-list()\n",
    "i=1\n",
    "j=1\n",
    "while (i <= length(Criterias)){\n",
    "    # MAP 24\n",
    "    df_10<-df_eicu_prop_AKI_72[df_eicu_prop_AKI_72$prop_map_72_AKI>=0.05 & df_eicu_prop_AKI_72$prop_map_72_AKI<=0.15 & Criterias[,i],]\n",
    "    df_40<-df_eicu_prop_AKI_72[df_eicu_prop_AKI_72$prop_map_72_AKI>=0.35 & df_eicu_prop_AKI_72$prop_map_72_AKI<=0.45 & Criterias[,i],]\n",
    "    a<-length(df_10[df_10$AKI_7d==1,1]) # exposed\n",
    "    c<-length(df_10[df_10$AKI_7d==0,1])\n",
    "    b<-length(df_40[df_40$AKI_7d==1,1]) # control\n",
    "    d<-length(df_40[df_40$AKI_7d==0,1])\n",
    "    df_OR<-oddsratio(matrix(c(a,b,c,d), ncol=2, nrow=2))\n",
    "    Hosp_OR[j]<-df_OR$measure[2]\n",
    "    Hosp_LCI[j]<-df_OR$measure[4]\n",
    "    Hosp_UCI[j]<-df_OR$measure[6]\n",
    "    Hosp_pvalue[j]<-df_OR$p.value[4]\n",
    "\n",
    "    # SBP 24\n",
    "    df_10<-df_eicu_prop_AKI_72[df_eicu_prop_AKI_72$prop_asp_72_AKI>=0.05 & df_eicu_prop_AKI_72$prop_asp_72_AKI<=0.15 & Criterias[,i],]\n",
    "    df_40<-df_eicu_prop_AKI_72[df_eicu_prop_AKI_72$prop_asp_72_AKI>=0.35 & df_eicu_prop_AKI_72$prop_asp_72_AKI<=0.45 & Criterias[,i],]\n",
    "\n",
    "    a<-length(df_10[df_10$AKI_7d==1,1]) # exposed\n",
    "    c<-length(df_10[df_10$AKI_7d==0,1])\n",
    "    b<-length(df_40[df_40$AKI_7d==1,1]) # control\n",
    "    d<-length(df_40[df_40$AKI_7d==0,1])\n",
    "    df_OR<-oddsratio(matrix(c(a,b,c,d), ncol=2, nrow=2))\n",
    "    Hosp_OR[j+1]<-df_OR$measure[2]\n",
    "    Hosp_LCI[j+1]<-df_OR$measure[4]\n",
    "    Hosp_UCI[j+1]<-df_OR$measure[6]\n",
    "    Hosp_pvalue[j+1]<-df_OR$p.value[4]\n",
    "\n",
    "    # DBP 24\n",
    "    df_10<-df_eicu_prop_AKI_72[df_eicu_prop_AKI_72$prop_adp_72_AKI>=0.05 & df_eicu_prop_AKI_72$prop_adp_72_AKI<=0.15 & Criterias[,i],]\n",
    "    df_40<-df_eicu_prop_AKI_72[df_eicu_prop_AKI_72$prop_adp_72_AKI>=0.35 & df_eicu_prop_AKI_72$prop_adp_72_AKI<=0.45 & Criterias[,i],]\n",
    "    a<-length(df_10[df_10$AKI_7d==1,1]) # exposed\n",
    "    c<-length(df_10[df_10$AKI_7d==0,1])\n",
    "    b<-length(df_40[df_40$AKI_7d==1,1]) # control\n",
    "    d<-length(df_40[df_40$AKI_7d==0,1])\n",
    "    df_OR<-oddsratio(matrix(c(a,b,c,d), ncol=2, nrow=2))\n",
    "    Hosp_OR[j+2]<-df_OR$measure[2]\n",
    "    Hosp_LCI[j+2]<-df_OR$measure[4]\n",
    "    Hosp_UCI[j+2]<-df_OR$measure[6]\n",
    "    Hosp_pvalue[j+2]<-df_OR$p.value[4]\n",
    " \n",
    "    df_OR_CI <- data.frame(\"OR\" = unlist(Hosp_OR, use.names=FALSE), \n",
    "                        \"LCI\" = unlist(Hosp_LCI, use.names=FALSE)\n",
    "                       , \"UCI\" = unlist(Hosp_UCI, use.names=FALSE)\n",
    "                       , \"pvalue\" = unlist(Hosp_pvalue, use.names=FALSE))\n",
    "    i <-i+1\n",
    "    j <-j+9\n",
    "    \n",
    "}\n",
    "df_OR_CI"
   ]
  },
  {
   "cell_type": "code",
   "execution_count": null,
   "metadata": {},
   "outputs": [],
   "source": []
  }
 ],
 "metadata": {
  "kernelspec": {
   "display_name": "R",
   "language": "R",
   "name": "ir"
  },
  "language_info": {
   "codemirror_mode": "r",
   "file_extension": ".r",
   "mimetype": "text/x-r-source",
   "name": "R",
   "pygments_lexer": "r",
   "version": "3.5.0"
  }
 },
 "nbformat": 4,
 "nbformat_minor": 2
}
